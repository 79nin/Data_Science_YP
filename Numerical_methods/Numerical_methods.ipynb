{
 "cells": [
  {
   "cell_type": "markdown",
   "metadata": {},
   "source": [
    "# Определение стоимости автомобилей"
   ]
  },
  {
   "cell_type": "markdown",
   "metadata": {},
   "source": [
    "Сервис по продаже автомобилей с пробегом «Не бит, не крашен» разрабатывает приложение для привлечения новых клиентов. В нём можно быстро узнать рыночную стоимость своего автомобиля. В вашем распоряжении исторические данные: технические характеристики, комплектации и цены автомобилей. Вам нужно построить модель для определения стоимости. \n",
    "\n",
    "Заказчику важны:\n",
    "\n",
    "- качество предсказания;\n",
    "- скорость предсказания;\n",
    "- время обучения."
   ]
  },
  {
   "cell_type": "markdown",
   "metadata": {},
   "source": [
    "# Описание данных"
   ]
  },
  {
   "cell_type": "markdown",
   "metadata": {},
   "source": [
    "Данные находятся в файле `/datasets/autos.csv`\n",
    "\n",
    "**Признаки**\n",
    "- DateCrawled — дата скачивания анкеты из базы\n",
    "- VehicleType — тип автомобильного кузова\n",
    "- RegistrationYear — год регистрации автомобиля\n",
    "- Gearbox — тип коробки передач\n",
    "- Power — мощность (л. с.)\n",
    "- Model — модель автомобиля\n",
    "- Kilometer — пробег (км)\n",
    "- RegistrationMonth — месяц регистрации автомобиля\n",
    "- FuelType — тип топлива\n",
    "- Brand — марка автомобиля\n",
    "- Repaired — была машина в ремонте или нет\n",
    "- DateCreated — дата создания анкеты\n",
    "- NumberOfPictures — количество фотографий автомобиля\n",
    "- PostalCode — почтовый индекс владельца анкеты (пользователя)\n",
    "- LastSeen — дата последней активности пользователя\n",
    "\n",
    "**Целевой признак** \n",
    "- Price — цена (евро)"
   ]
  },
  {
   "cell_type": "markdown",
   "metadata": {},
   "source": [
    "# Цель исследования"
   ]
  },
  {
   "cell_type": "markdown",
   "metadata": {},
   "source": [
    "Построить модель, которая сможет определять рыночную стоимость автомобиля"
   ]
  },
  {
   "cell_type": "markdown",
   "metadata": {},
   "source": [
    "# Ход исследования"
   ]
  },
  {
   "cell_type": "markdown",
   "metadata": {},
   "source": [
    "1. Проведем предобработку, исследовательский анализ и подготовку данных, для создания моделей.\n",
    "2. Обучите несклько моделей, и оценим их время и качесвто предсказания.\n",
    "3. Опираясь на критерии заказчика, выберем лучшую модель, проверим её качество на тестовой выборке.\n",
    "4. Подготовим вывод."
   ]
  },
  {
   "cell_type": "code",
   "execution_count": 1,
   "metadata": {},
   "outputs": [],
   "source": [
    "RANDOM_STATE = 42\n",
    "TEST_SIZE = 0.25"
   ]
  },
  {
   "cell_type": "code",
   "execution_count": 2,
   "metadata": {},
   "outputs": [],
   "source": [
    "# функция для вывода первичной информации о датафреймах\n",
    "def info_df(name_df):\n",
    "    display(name_df.head(10))\n",
    "    print(name_df.info())\n",
    "    return name_df.describe()"
   ]
  },
  {
   "cell_type": "code",
   "execution_count": 5,
   "metadata": {},
   "outputs": [],
   "source": [
    "import pandas as pd\n",
    "import numpy as np\n",
    "import seaborn as sns\n",
    "import matplotlib.pyplot as plt\n",
    "from sklearn.preprocessing import OrdinalEncoder, OneHotEncoder\n",
    "from sklearn.linear_model import LinearRegression\n",
    "from sklearn.model_selection import train_test_split\n",
    "from sklearn.model_selection import cross_val_score\n",
    "from sklearn.preprocessing import RobustScaler, StandardScaler\n",
    "from sklearn.pipeline import Pipeline\n",
    "from sklearn.tree import DecisionTreeRegressor\n",
    "from sklearn.model_selection import GridSearchCV, RandomizedSearchCV\n",
    "from catboost import Pool, CatBoostRegressor, cv, CatBoostClassifier\n",
    "from lightgbm import LGBMRegressor \n",
    "import lightgbm as lgb\n",
    "from sklearn.metrics import mean_squared_error\n",
    "import datetime\n",
    "from sklearn.compose import ColumnTransformer\n",
    "from sklearn.impute import SimpleImputer\n",
    "from time import time\n",
    "#import category_encoders as ce \n",
    "from sklearn.dummy import DummyRegressor"
   ]
  },
  {
   "cell_type": "markdown",
   "metadata": {},
   "source": [
    "## Подготовка данных"
   ]
  },
  {
   "cell_type": "markdown",
   "metadata": {},
   "source": [
    "### Загрузка данных"
   ]
  },
  {
   "cell_type": "code",
   "execution_count": 6,
   "metadata": {},
   "outputs": [],
   "source": [
    "data = pd.read_csv('/datasets/autos.csv', decimal=',')"
   ]
  },
  {
   "cell_type": "code",
   "execution_count": 7,
   "metadata": {},
   "outputs": [
    {
     "data": {
      "text/html": [
       "<div>\n",
       "<style scoped>\n",
       "    .dataframe tbody tr th:only-of-type {\n",
       "        vertical-align: middle;\n",
       "    }\n",
       "\n",
       "    .dataframe tbody tr th {\n",
       "        vertical-align: top;\n",
       "    }\n",
       "\n",
       "    .dataframe thead th {\n",
       "        text-align: right;\n",
       "    }\n",
       "</style>\n",
       "<table border=\"1\" class=\"dataframe\">\n",
       "  <thead>\n",
       "    <tr style=\"text-align: right;\">\n",
       "      <th></th>\n",
       "      <th>DateCrawled</th>\n",
       "      <th>Price</th>\n",
       "      <th>VehicleType</th>\n",
       "      <th>RegistrationYear</th>\n",
       "      <th>Gearbox</th>\n",
       "      <th>Power</th>\n",
       "      <th>Model</th>\n",
       "      <th>Kilometer</th>\n",
       "      <th>RegistrationMonth</th>\n",
       "      <th>FuelType</th>\n",
       "      <th>Brand</th>\n",
       "      <th>Repaired</th>\n",
       "      <th>DateCreated</th>\n",
       "      <th>NumberOfPictures</th>\n",
       "      <th>PostalCode</th>\n",
       "      <th>LastSeen</th>\n",
       "    </tr>\n",
       "  </thead>\n",
       "  <tbody>\n",
       "    <tr>\n",
       "      <th>0</th>\n",
       "      <td>2016-03-24 11:52:17</td>\n",
       "      <td>480</td>\n",
       "      <td>NaN</td>\n",
       "      <td>1993</td>\n",
       "      <td>manual</td>\n",
       "      <td>0</td>\n",
       "      <td>golf</td>\n",
       "      <td>150000</td>\n",
       "      <td>0</td>\n",
       "      <td>petrol</td>\n",
       "      <td>volkswagen</td>\n",
       "      <td>NaN</td>\n",
       "      <td>2016-03-24 00:00:00</td>\n",
       "      <td>0</td>\n",
       "      <td>70435</td>\n",
       "      <td>2016-04-07 03:16:57</td>\n",
       "    </tr>\n",
       "    <tr>\n",
       "      <th>1</th>\n",
       "      <td>2016-03-24 10:58:45</td>\n",
       "      <td>18300</td>\n",
       "      <td>coupe</td>\n",
       "      <td>2011</td>\n",
       "      <td>manual</td>\n",
       "      <td>190</td>\n",
       "      <td>NaN</td>\n",
       "      <td>125000</td>\n",
       "      <td>5</td>\n",
       "      <td>gasoline</td>\n",
       "      <td>audi</td>\n",
       "      <td>yes</td>\n",
       "      <td>2016-03-24 00:00:00</td>\n",
       "      <td>0</td>\n",
       "      <td>66954</td>\n",
       "      <td>2016-04-07 01:46:50</td>\n",
       "    </tr>\n",
       "    <tr>\n",
       "      <th>2</th>\n",
       "      <td>2016-03-14 12:52:21</td>\n",
       "      <td>9800</td>\n",
       "      <td>suv</td>\n",
       "      <td>2004</td>\n",
       "      <td>auto</td>\n",
       "      <td>163</td>\n",
       "      <td>grand</td>\n",
       "      <td>125000</td>\n",
       "      <td>8</td>\n",
       "      <td>gasoline</td>\n",
       "      <td>jeep</td>\n",
       "      <td>NaN</td>\n",
       "      <td>2016-03-14 00:00:00</td>\n",
       "      <td>0</td>\n",
       "      <td>90480</td>\n",
       "      <td>2016-04-05 12:47:46</td>\n",
       "    </tr>\n",
       "    <tr>\n",
       "      <th>3</th>\n",
       "      <td>2016-03-17 16:54:04</td>\n",
       "      <td>1500</td>\n",
       "      <td>small</td>\n",
       "      <td>2001</td>\n",
       "      <td>manual</td>\n",
       "      <td>75</td>\n",
       "      <td>golf</td>\n",
       "      <td>150000</td>\n",
       "      <td>6</td>\n",
       "      <td>petrol</td>\n",
       "      <td>volkswagen</td>\n",
       "      <td>no</td>\n",
       "      <td>2016-03-17 00:00:00</td>\n",
       "      <td>0</td>\n",
       "      <td>91074</td>\n",
       "      <td>2016-03-17 17:40:17</td>\n",
       "    </tr>\n",
       "    <tr>\n",
       "      <th>4</th>\n",
       "      <td>2016-03-31 17:25:20</td>\n",
       "      <td>3600</td>\n",
       "      <td>small</td>\n",
       "      <td>2008</td>\n",
       "      <td>manual</td>\n",
       "      <td>69</td>\n",
       "      <td>fabia</td>\n",
       "      <td>90000</td>\n",
       "      <td>7</td>\n",
       "      <td>gasoline</td>\n",
       "      <td>skoda</td>\n",
       "      <td>no</td>\n",
       "      <td>2016-03-31 00:00:00</td>\n",
       "      <td>0</td>\n",
       "      <td>60437</td>\n",
       "      <td>2016-04-06 10:17:21</td>\n",
       "    </tr>\n",
       "    <tr>\n",
       "      <th>5</th>\n",
       "      <td>2016-04-04 17:36:23</td>\n",
       "      <td>650</td>\n",
       "      <td>sedan</td>\n",
       "      <td>1995</td>\n",
       "      <td>manual</td>\n",
       "      <td>102</td>\n",
       "      <td>3er</td>\n",
       "      <td>150000</td>\n",
       "      <td>10</td>\n",
       "      <td>petrol</td>\n",
       "      <td>bmw</td>\n",
       "      <td>yes</td>\n",
       "      <td>2016-04-04 00:00:00</td>\n",
       "      <td>0</td>\n",
       "      <td>33775</td>\n",
       "      <td>2016-04-06 19:17:07</td>\n",
       "    </tr>\n",
       "    <tr>\n",
       "      <th>6</th>\n",
       "      <td>2016-04-01 20:48:51</td>\n",
       "      <td>2200</td>\n",
       "      <td>convertible</td>\n",
       "      <td>2004</td>\n",
       "      <td>manual</td>\n",
       "      <td>109</td>\n",
       "      <td>2_reihe</td>\n",
       "      <td>150000</td>\n",
       "      <td>8</td>\n",
       "      <td>petrol</td>\n",
       "      <td>peugeot</td>\n",
       "      <td>no</td>\n",
       "      <td>2016-04-01 00:00:00</td>\n",
       "      <td>0</td>\n",
       "      <td>67112</td>\n",
       "      <td>2016-04-05 18:18:39</td>\n",
       "    </tr>\n",
       "    <tr>\n",
       "      <th>7</th>\n",
       "      <td>2016-03-21 18:54:38</td>\n",
       "      <td>0</td>\n",
       "      <td>sedan</td>\n",
       "      <td>1980</td>\n",
       "      <td>manual</td>\n",
       "      <td>50</td>\n",
       "      <td>other</td>\n",
       "      <td>40000</td>\n",
       "      <td>7</td>\n",
       "      <td>petrol</td>\n",
       "      <td>volkswagen</td>\n",
       "      <td>no</td>\n",
       "      <td>2016-03-21 00:00:00</td>\n",
       "      <td>0</td>\n",
       "      <td>19348</td>\n",
       "      <td>2016-03-25 16:47:58</td>\n",
       "    </tr>\n",
       "    <tr>\n",
       "      <th>8</th>\n",
       "      <td>2016-04-04 23:42:13</td>\n",
       "      <td>14500</td>\n",
       "      <td>bus</td>\n",
       "      <td>2014</td>\n",
       "      <td>manual</td>\n",
       "      <td>125</td>\n",
       "      <td>c_max</td>\n",
       "      <td>30000</td>\n",
       "      <td>8</td>\n",
       "      <td>petrol</td>\n",
       "      <td>ford</td>\n",
       "      <td>NaN</td>\n",
       "      <td>2016-04-04 00:00:00</td>\n",
       "      <td>0</td>\n",
       "      <td>94505</td>\n",
       "      <td>2016-04-04 23:42:13</td>\n",
       "    </tr>\n",
       "    <tr>\n",
       "      <th>9</th>\n",
       "      <td>2016-03-17 10:53:50</td>\n",
       "      <td>999</td>\n",
       "      <td>small</td>\n",
       "      <td>1998</td>\n",
       "      <td>manual</td>\n",
       "      <td>101</td>\n",
       "      <td>golf</td>\n",
       "      <td>150000</td>\n",
       "      <td>0</td>\n",
       "      <td>NaN</td>\n",
       "      <td>volkswagen</td>\n",
       "      <td>NaN</td>\n",
       "      <td>2016-03-17 00:00:00</td>\n",
       "      <td>0</td>\n",
       "      <td>27472</td>\n",
       "      <td>2016-03-31 17:17:06</td>\n",
       "    </tr>\n",
       "  </tbody>\n",
       "</table>\n",
       "</div>"
      ],
      "text/plain": [
       "           DateCrawled  Price  VehicleType  RegistrationYear Gearbox  Power  \\\n",
       "0  2016-03-24 11:52:17    480          NaN              1993  manual      0   \n",
       "1  2016-03-24 10:58:45  18300        coupe              2011  manual    190   \n",
       "2  2016-03-14 12:52:21   9800          suv              2004    auto    163   \n",
       "3  2016-03-17 16:54:04   1500        small              2001  manual     75   \n",
       "4  2016-03-31 17:25:20   3600        small              2008  manual     69   \n",
       "5  2016-04-04 17:36:23    650        sedan              1995  manual    102   \n",
       "6  2016-04-01 20:48:51   2200  convertible              2004  manual    109   \n",
       "7  2016-03-21 18:54:38      0        sedan              1980  manual     50   \n",
       "8  2016-04-04 23:42:13  14500          bus              2014  manual    125   \n",
       "9  2016-03-17 10:53:50    999        small              1998  manual    101   \n",
       "\n",
       "     Model  Kilometer  RegistrationMonth  FuelType       Brand Repaired  \\\n",
       "0     golf     150000                  0    petrol  volkswagen      NaN   \n",
       "1      NaN     125000                  5  gasoline        audi      yes   \n",
       "2    grand     125000                  8  gasoline        jeep      NaN   \n",
       "3     golf     150000                  6    petrol  volkswagen       no   \n",
       "4    fabia      90000                  7  gasoline       skoda       no   \n",
       "5      3er     150000                 10    petrol         bmw      yes   \n",
       "6  2_reihe     150000                  8    petrol     peugeot       no   \n",
       "7    other      40000                  7    petrol  volkswagen       no   \n",
       "8    c_max      30000                  8    petrol        ford      NaN   \n",
       "9     golf     150000                  0       NaN  volkswagen      NaN   \n",
       "\n",
       "           DateCreated  NumberOfPictures  PostalCode             LastSeen  \n",
       "0  2016-03-24 00:00:00                 0       70435  2016-04-07 03:16:57  \n",
       "1  2016-03-24 00:00:00                 0       66954  2016-04-07 01:46:50  \n",
       "2  2016-03-14 00:00:00                 0       90480  2016-04-05 12:47:46  \n",
       "3  2016-03-17 00:00:00                 0       91074  2016-03-17 17:40:17  \n",
       "4  2016-03-31 00:00:00                 0       60437  2016-04-06 10:17:21  \n",
       "5  2016-04-04 00:00:00                 0       33775  2016-04-06 19:17:07  \n",
       "6  2016-04-01 00:00:00                 0       67112  2016-04-05 18:18:39  \n",
       "7  2016-03-21 00:00:00                 0       19348  2016-03-25 16:47:58  \n",
       "8  2016-04-04 00:00:00                 0       94505  2016-04-04 23:42:13  \n",
       "9  2016-03-17 00:00:00                 0       27472  2016-03-31 17:17:06  "
      ]
     },
     "metadata": {},
     "output_type": "display_data"
    },
    {
     "name": "stdout",
     "output_type": "stream",
     "text": [
      "<class 'pandas.core.frame.DataFrame'>\n",
      "RangeIndex: 354369 entries, 0 to 354368\n",
      "Data columns (total 16 columns):\n",
      " #   Column             Non-Null Count   Dtype \n",
      "---  ------             --------------   ----- \n",
      " 0   DateCrawled        354369 non-null  object\n",
      " 1   Price              354369 non-null  int64 \n",
      " 2   VehicleType        316879 non-null  object\n",
      " 3   RegistrationYear   354369 non-null  int64 \n",
      " 4   Gearbox            334536 non-null  object\n",
      " 5   Power              354369 non-null  int64 \n",
      " 6   Model              334664 non-null  object\n",
      " 7   Kilometer          354369 non-null  int64 \n",
      " 8   RegistrationMonth  354369 non-null  int64 \n",
      " 9   FuelType           321474 non-null  object\n",
      " 10  Brand              354369 non-null  object\n",
      " 11  Repaired           283215 non-null  object\n",
      " 12  DateCreated        354369 non-null  object\n",
      " 13  NumberOfPictures   354369 non-null  int64 \n",
      " 14  PostalCode         354369 non-null  int64 \n",
      " 15  LastSeen           354369 non-null  object\n",
      "dtypes: int64(7), object(9)\n",
      "memory usage: 43.3+ MB\n",
      "None\n"
     ]
    },
    {
     "data": {
      "text/html": [
       "<div>\n",
       "<style scoped>\n",
       "    .dataframe tbody tr th:only-of-type {\n",
       "        vertical-align: middle;\n",
       "    }\n",
       "\n",
       "    .dataframe tbody tr th {\n",
       "        vertical-align: top;\n",
       "    }\n",
       "\n",
       "    .dataframe thead th {\n",
       "        text-align: right;\n",
       "    }\n",
       "</style>\n",
       "<table border=\"1\" class=\"dataframe\">\n",
       "  <thead>\n",
       "    <tr style=\"text-align: right;\">\n",
       "      <th></th>\n",
       "      <th>Price</th>\n",
       "      <th>RegistrationYear</th>\n",
       "      <th>Power</th>\n",
       "      <th>Kilometer</th>\n",
       "      <th>RegistrationMonth</th>\n",
       "      <th>NumberOfPictures</th>\n",
       "      <th>PostalCode</th>\n",
       "    </tr>\n",
       "  </thead>\n",
       "  <tbody>\n",
       "    <tr>\n",
       "      <th>count</th>\n",
       "      <td>354369.000000</td>\n",
       "      <td>354369.000000</td>\n",
       "      <td>354369.000000</td>\n",
       "      <td>354369.000000</td>\n",
       "      <td>354369.000000</td>\n",
       "      <td>354369.0</td>\n",
       "      <td>354369.000000</td>\n",
       "    </tr>\n",
       "    <tr>\n",
       "      <th>mean</th>\n",
       "      <td>4416.656776</td>\n",
       "      <td>2004.234448</td>\n",
       "      <td>110.094337</td>\n",
       "      <td>128211.172535</td>\n",
       "      <td>5.714645</td>\n",
       "      <td>0.0</td>\n",
       "      <td>50508.689087</td>\n",
       "    </tr>\n",
       "    <tr>\n",
       "      <th>std</th>\n",
       "      <td>4514.158514</td>\n",
       "      <td>90.227958</td>\n",
       "      <td>189.850405</td>\n",
       "      <td>37905.341530</td>\n",
       "      <td>3.726421</td>\n",
       "      <td>0.0</td>\n",
       "      <td>25783.096248</td>\n",
       "    </tr>\n",
       "    <tr>\n",
       "      <th>min</th>\n",
       "      <td>0.000000</td>\n",
       "      <td>1000.000000</td>\n",
       "      <td>0.000000</td>\n",
       "      <td>5000.000000</td>\n",
       "      <td>0.000000</td>\n",
       "      <td>0.0</td>\n",
       "      <td>1067.000000</td>\n",
       "    </tr>\n",
       "    <tr>\n",
       "      <th>25%</th>\n",
       "      <td>1050.000000</td>\n",
       "      <td>1999.000000</td>\n",
       "      <td>69.000000</td>\n",
       "      <td>125000.000000</td>\n",
       "      <td>3.000000</td>\n",
       "      <td>0.0</td>\n",
       "      <td>30165.000000</td>\n",
       "    </tr>\n",
       "    <tr>\n",
       "      <th>50%</th>\n",
       "      <td>2700.000000</td>\n",
       "      <td>2003.000000</td>\n",
       "      <td>105.000000</td>\n",
       "      <td>150000.000000</td>\n",
       "      <td>6.000000</td>\n",
       "      <td>0.0</td>\n",
       "      <td>49413.000000</td>\n",
       "    </tr>\n",
       "    <tr>\n",
       "      <th>75%</th>\n",
       "      <td>6400.000000</td>\n",
       "      <td>2008.000000</td>\n",
       "      <td>143.000000</td>\n",
       "      <td>150000.000000</td>\n",
       "      <td>9.000000</td>\n",
       "      <td>0.0</td>\n",
       "      <td>71083.000000</td>\n",
       "    </tr>\n",
       "    <tr>\n",
       "      <th>max</th>\n",
       "      <td>20000.000000</td>\n",
       "      <td>9999.000000</td>\n",
       "      <td>20000.000000</td>\n",
       "      <td>150000.000000</td>\n",
       "      <td>12.000000</td>\n",
       "      <td>0.0</td>\n",
       "      <td>99998.000000</td>\n",
       "    </tr>\n",
       "  </tbody>\n",
       "</table>\n",
       "</div>"
      ],
      "text/plain": [
       "               Price  RegistrationYear          Power      Kilometer  \\\n",
       "count  354369.000000     354369.000000  354369.000000  354369.000000   \n",
       "mean     4416.656776       2004.234448     110.094337  128211.172535   \n",
       "std      4514.158514         90.227958     189.850405   37905.341530   \n",
       "min         0.000000       1000.000000       0.000000    5000.000000   \n",
       "25%      1050.000000       1999.000000      69.000000  125000.000000   \n",
       "50%      2700.000000       2003.000000     105.000000  150000.000000   \n",
       "75%      6400.000000       2008.000000     143.000000  150000.000000   \n",
       "max     20000.000000       9999.000000   20000.000000  150000.000000   \n",
       "\n",
       "       RegistrationMonth  NumberOfPictures     PostalCode  \n",
       "count      354369.000000          354369.0  354369.000000  \n",
       "mean            5.714645               0.0   50508.689087  \n",
       "std             3.726421               0.0   25783.096248  \n",
       "min             0.000000               0.0    1067.000000  \n",
       "25%             3.000000               0.0   30165.000000  \n",
       "50%             6.000000               0.0   49413.000000  \n",
       "75%             9.000000               0.0   71083.000000  \n",
       "max            12.000000               0.0   99998.000000  "
      ]
     },
     "execution_count": 7,
     "metadata": {},
     "output_type": "execute_result"
    }
   ],
   "source": [
    "info_df(data)"
   ]
  },
  {
   "cell_type": "markdown",
   "metadata": {},
   "source": [
    "В датафреме `data` видим пропуски, столбцам с датой присвоен тип `object`, метод describe показал нулевые значения в некоторых столбцах, а так же аномально большие значения, например в столбце означающем год регистрации максимальное значение 9999, явно ошибка."
   ]
  },
  {
   "cell_type": "markdown",
   "metadata": {},
   "source": [
    "### Предобработка данных"
   ]
  },
  {
   "cell_type": "markdown",
   "metadata": {},
   "source": [
    "Определимся, какие признаки важны, для предсказания цены автомобиля, а какие нет.\n",
    "\n",
    "**Важные признаки:**\n",
    "- `VehicleType`\n",
    "- `RegistrationYear`\n",
    "- `Gearbox`\n",
    "- `Power`\n",
    "- `Model`\n",
    "- `Kilometer`\n",
    "- `FuelType`\n",
    "- `Brand`\n",
    "- `Repaired`\n",
    "\n",
    "Признаки NumberOfPictures, PostalCode не несут полезной информации, их можно удалить.\n",
    "DateCrawled, LastSeen, NumberOfPictures могли быть полезными для прогнозирования скорости продажи но для прогнозирования цены авто они не нужны.\n",
    "DateCreated может быть полезна для анализа с учетом инфляции."
   ]
  },
  {
   "cell_type": "code",
   "execution_count": 8,
   "metadata": {},
   "outputs": [
    {
     "data": {
      "text/plain": [
       "4"
      ]
     },
     "execution_count": 8,
     "metadata": {},
     "output_type": "execute_result"
    }
   ],
   "source": [
    "# посмотрим сколько в фрейме полных дубликатов, и удалим их\n",
    "data.duplicated().sum()"
   ]
  },
  {
   "cell_type": "code",
   "execution_count": 9,
   "metadata": {},
   "outputs": [
    {
     "data": {
      "text/plain": [
       "0"
      ]
     },
     "execution_count": 9,
     "metadata": {},
     "output_type": "execute_result"
    }
   ],
   "source": [
    "data = data.drop_duplicates()\n",
    "data.duplicated().sum()"
   ]
  },
  {
   "cell_type": "code",
   "execution_count": 10,
   "metadata": {},
   "outputs": [
    {
     "name": "stdout",
     "output_type": "stream",
     "text": [
      "<class 'pandas.core.frame.DataFrame'>\n",
      "Int64Index: 354365 entries, 0 to 354368\n",
      "Data columns (total 11 columns):\n",
      " #   Column            Non-Null Count   Dtype \n",
      "---  ------            --------------   ----- \n",
      " 0   VehicleType       316875 non-null  object\n",
      " 1   RegistrationYear  354365 non-null  int64 \n",
      " 2   DateCreated       354365 non-null  object\n",
      " 3   Gearbox           334532 non-null  object\n",
      " 4   Power             354365 non-null  int64 \n",
      " 5   Model             334660 non-null  object\n",
      " 6   Kilometer         354365 non-null  int64 \n",
      " 7   FuelType          321470 non-null  object\n",
      " 8   Brand             354365 non-null  object\n",
      " 9   Repaired          283211 non-null  object\n",
      " 10  Price             354365 non-null  int64 \n",
      "dtypes: int64(4), object(7)\n",
      "memory usage: 32.4+ MB\n"
     ]
    }
   ],
   "source": [
    "# На основе вывода создадим новый фрейм\n",
    "filtred_data = data[['VehicleType', \n",
    "                     'RegistrationYear',\n",
    "                     'DateCreated',\n",
    "                     'Gearbox', \n",
    "                     'Power',\n",
    "                     'Model',\n",
    "                     'Kilometer',\n",
    "                     'FuelType',\n",
    "                     'Brand',\n",
    "                     'Repaired',\n",
    "                     'Price']]\n",
    "filtred_data.info()"
   ]
  },
  {
   "cell_type": "code",
   "execution_count": 11,
   "metadata": {},
   "outputs": [],
   "source": [
    "# создадим функцию для создания гистограмм распределения\n",
    "def ht_func_col(name_df, list_colmun):\n",
    "    fig, axes = plt.subplots(1, 3, figsize=(20, 7))\n",
    "\n",
    "    for i, col in enumerate(list_colmun):\n",
    "        sns.histplot(x=name_df[col], ax=axes[i%3])\n",
    "        axes[i%3].set_title(f'Гистограмма распределения по {col}')\n",
    "\n",
    "    plt.tight_layout()\n",
    "    plt.show()"
   ]
  },
  {
   "cell_type": "code",
   "execution_count": 12,
   "metadata": {},
   "outputs": [
    {
     "data": {
      "image/png": "[encoded data removed]",
      "text/plain": [
       "<Figure size 1440x504 with 3 Axes>"
      ]
     },
     "metadata": {
      "needs_background": "light"
     },
     "output_type": "display_data"
    }
   ],
   "source": [
    "# построим гистограммы до удаления дубликатов\n",
    "ht_func_col(filtred_data, ['Power', 'Kilometer', 'Price'])"
   ]
  },
  {
   "cell_type": "code",
   "execution_count": 13,
   "metadata": {},
   "outputs": [
    {
     "data": {
      "text/plain": [
       "13368"
      ]
     },
     "execution_count": 13,
     "metadata": {},
     "output_type": "execute_result"
    }
   ],
   "source": [
    "# посмотрим сколько имеется полных дубликатов\n",
    "filtred_data.duplicated().sum()"
   ]
  },
  {
   "cell_type": "code",
   "execution_count": 14,
   "metadata": {},
   "outputs": [
    {
     "data": {
      "text/plain": [
       "0"
      ]
     },
     "execution_count": 14,
     "metadata": {},
     "output_type": "execute_result"
    }
   ],
   "source": [
    "# удалим полные дубликаты\n",
    "filtred_data = filtred_data.drop_duplicates()\n",
    "filtred_data.duplicated().sum()"
   ]
  },
  {
   "cell_type": "code",
   "execution_count": 15,
   "metadata": {},
   "outputs": [
    {
     "data": {
      "image/png": "[encoded data removed]",
      "text/plain": [
       "<Figure size 1440x504 with 3 Axes>"
      ]
     },
     "metadata": {
      "needs_background": "light"
     },
     "output_type": "display_data"
    }
   ],
   "source": [
    "# оценим как изменилось распределение\n",
    "ht_func_col(filtred_data, ['Power', 'Kilometer', 'Price'])"
   ]
  },
  {
   "cell_type": "markdown",
   "metadata": {},
   "source": [
    "Можем заметить что распределение признаков практически не поменялось, следовательно, удаление дубликатов было хорошим решением"
   ]
  },
  {
   "cell_type": "code",
   "execution_count": 16,
   "metadata": {},
   "outputs": [
    {
     "data": {
      "image/png": "[encoded data removed]",
      "text/plain": [
       "<Figure size 432x288 with 1 Axes>"
      ]
     },
     "metadata": {
      "needs_background": "light"
     },
     "output_type": "display_data"
    }
   ],
   "source": [
    "# стоит взгялнуть на гистограмму распределдения мощьности автомобиля поподробней\n",
    "sns.histplot(data=filtred_data, x='Power', bins=10, binrange=(0, 100))\n",
    "plt.title('Гистограмма распределения мощности')\n",
    "plt.show()"
   ]
  },
  {
   "cell_type": "code",
   "execution_count": 17,
   "metadata": {},
   "outputs": [
    {
     "data": {
      "image/png": "[encoded data removed]",
      "text/plain": [
       "<Figure size 432x288 with 1 Axes>"
      ]
     },
     "metadata": {
      "needs_background": "light"
     },
     "output_type": "display_data"
    }
   ],
   "source": [
    "sns.histplot(data=filtred_data, x='Power', bins=10, binrange=(1001, 2000))\n",
    "plt.title('Гистограмма распределения мощности')\n",
    "plt.show()"
   ]
  },
  {
   "cell_type": "markdown",
   "metadata": {},
   "source": [
    "Судя по построенным гистограммам можем исключить те автомобили, в которых мощьность менее 40 и более 1000 лошадиных сил."
   ]
  },
  {
   "cell_type": "code",
   "execution_count": 18,
   "metadata": {},
   "outputs": [
    {
     "data": {
      "text/html": [
       "<div>\n",
       "<style scoped>\n",
       "    .dataframe tbody tr th:only-of-type {\n",
       "        vertical-align: middle;\n",
       "    }\n",
       "\n",
       "    .dataframe tbody tr th {\n",
       "        vertical-align: top;\n",
       "    }\n",
       "\n",
       "    .dataframe thead th {\n",
       "        text-align: right;\n",
       "    }\n",
       "</style>\n",
       "<table border=\"1\" class=\"dataframe\">\n",
       "  <thead>\n",
       "    <tr style=\"text-align: right;\">\n",
       "      <th></th>\n",
       "      <th>RegistrationYear</th>\n",
       "      <th>Power</th>\n",
       "      <th>Kilometer</th>\n",
       "      <th>Price</th>\n",
       "    </tr>\n",
       "  </thead>\n",
       "  <tbody>\n",
       "    <tr>\n",
       "      <th>count</th>\n",
       "      <td>300418.000000</td>\n",
       "      <td>300418.000000</td>\n",
       "      <td>300418.000000</td>\n",
       "      <td>300418.000000</td>\n",
       "    </tr>\n",
       "    <tr>\n",
       "      <th>mean</th>\n",
       "      <td>2003.526357</td>\n",
       "      <td>120.683218</td>\n",
       "      <td>128725.459194</td>\n",
       "      <td>4699.046748</td>\n",
       "    </tr>\n",
       "    <tr>\n",
       "      <th>std</th>\n",
       "      <td>34.083302</td>\n",
       "      <td>54.794760</td>\n",
       "      <td>36607.021132</td>\n",
       "      <td>4594.002555</td>\n",
       "    </tr>\n",
       "    <tr>\n",
       "      <th>min</th>\n",
       "      <td>1000.000000</td>\n",
       "      <td>40.000000</td>\n",
       "      <td>5000.000000</td>\n",
       "      <td>0.000000</td>\n",
       "    </tr>\n",
       "    <tr>\n",
       "      <th>25%</th>\n",
       "      <td>1999.000000</td>\n",
       "      <td>75.000000</td>\n",
       "      <td>125000.000000</td>\n",
       "      <td>1226.250000</td>\n",
       "    </tr>\n",
       "    <tr>\n",
       "      <th>50%</th>\n",
       "      <td>2003.000000</td>\n",
       "      <td>110.000000</td>\n",
       "      <td>150000.000000</td>\n",
       "      <td>2999.000000</td>\n",
       "    </tr>\n",
       "    <tr>\n",
       "      <th>75%</th>\n",
       "      <td>2008.000000</td>\n",
       "      <td>150.000000</td>\n",
       "      <td>150000.000000</td>\n",
       "      <td>6850.000000</td>\n",
       "    </tr>\n",
       "    <tr>\n",
       "      <th>max</th>\n",
       "      <td>9999.000000</td>\n",
       "      <td>1000.000000</td>\n",
       "      <td>150000.000000</td>\n",
       "      <td>20000.000000</td>\n",
       "    </tr>\n",
       "  </tbody>\n",
       "</table>\n",
       "</div>"
      ],
      "text/plain": [
       "       RegistrationYear          Power      Kilometer          Price\n",
       "count     300418.000000  300418.000000  300418.000000  300418.000000\n",
       "mean        2003.526357     120.683218  128725.459194    4699.046748\n",
       "std           34.083302      54.794760   36607.021132    4594.002555\n",
       "min         1000.000000      40.000000    5000.000000       0.000000\n",
       "25%         1999.000000      75.000000  125000.000000    1226.250000\n",
       "50%         2003.000000     110.000000  150000.000000    2999.000000\n",
       "75%         2008.000000     150.000000  150000.000000    6850.000000\n",
       "max         9999.000000    1000.000000  150000.000000   20000.000000"
      ]
     },
     "execution_count": 18,
     "metadata": {},
     "output_type": "execute_result"
    }
   ],
   "source": [
    "filtred_data = filtred_data.query('39 < Power < 1001')\n",
    "filtred_data.describe()"
   ]
  },
  {
   "cell_type": "code",
   "execution_count": 19,
   "metadata": {},
   "outputs": [
    {
     "data": {
      "image/png": "[encoded data removed]",
      "text/plain": [
       "<Figure size 432x288 with 1 Axes>"
      ]
     },
     "metadata": {
      "needs_background": "light"
     },
     "output_type": "display_data"
    }
   ],
   "source": [
    "# посмотрим на гистограмму распределеия цены автомобиля подробнее\n",
    "sns.histplot(data=filtred_data, x='Price', bins=100, binrange=(0, 1000))\n",
    "plt.title('Гистограмма распределения цены')\n",
    "plt.show()"
   ]
  },
  {
   "cell_type": "code",
   "execution_count": 20,
   "metadata": {},
   "outputs": [
    {
     "data": {
      "text/html": [
       "<div>\n",
       "<style scoped>\n",
       "    .dataframe tbody tr th:only-of-type {\n",
       "        vertical-align: middle;\n",
       "    }\n",
       "\n",
       "    .dataframe tbody tr th {\n",
       "        vertical-align: top;\n",
       "    }\n",
       "\n",
       "    .dataframe thead th {\n",
       "        text-align: right;\n",
       "    }\n",
       "</style>\n",
       "<table border=\"1\" class=\"dataframe\">\n",
       "  <thead>\n",
       "    <tr style=\"text-align: right;\">\n",
       "      <th></th>\n",
       "      <th>RegistrationYear</th>\n",
       "      <th>Power</th>\n",
       "      <th>Kilometer</th>\n",
       "      <th>Price</th>\n",
       "    </tr>\n",
       "  </thead>\n",
       "  <tbody>\n",
       "    <tr>\n",
       "      <th>count</th>\n",
       "      <td>289965.000000</td>\n",
       "      <td>289965.000000</td>\n",
       "      <td>289965.000000</td>\n",
       "      <td>289965.000000</td>\n",
       "    </tr>\n",
       "    <tr>\n",
       "      <th>mean</th>\n",
       "      <td>2003.591013</td>\n",
       "      <td>121.201507</td>\n",
       "      <td>128567.809908</td>\n",
       "      <td>4867.020106</td>\n",
       "    </tr>\n",
       "    <tr>\n",
       "      <th>std</th>\n",
       "      <td>28.455964</td>\n",
       "      <td>54.460657</td>\n",
       "      <td>36514.652583</td>\n",
       "      <td>4588.531997</td>\n",
       "    </tr>\n",
       "    <tr>\n",
       "      <th>min</th>\n",
       "      <td>1000.000000</td>\n",
       "      <td>40.000000</td>\n",
       "      <td>5000.000000</td>\n",
       "      <td>200.000000</td>\n",
       "    </tr>\n",
       "    <tr>\n",
       "      <th>25%</th>\n",
       "      <td>1999.000000</td>\n",
       "      <td>79.000000</td>\n",
       "      <td>125000.000000</td>\n",
       "      <td>1390.000000</td>\n",
       "    </tr>\n",
       "    <tr>\n",
       "      <th>50%</th>\n",
       "      <td>2003.000000</td>\n",
       "      <td>112.000000</td>\n",
       "      <td>150000.000000</td>\n",
       "      <td>3200.000000</td>\n",
       "    </tr>\n",
       "    <tr>\n",
       "      <th>75%</th>\n",
       "      <td>2008.000000</td>\n",
       "      <td>150.000000</td>\n",
       "      <td>150000.000000</td>\n",
       "      <td>6990.000000</td>\n",
       "    </tr>\n",
       "    <tr>\n",
       "      <th>max</th>\n",
       "      <td>9999.000000</td>\n",
       "      <td>1000.000000</td>\n",
       "      <td>150000.000000</td>\n",
       "      <td>20000.000000</td>\n",
       "    </tr>\n",
       "  </tbody>\n",
       "</table>\n",
       "</div>"
      ],
      "text/plain": [
       "       RegistrationYear          Power      Kilometer          Price\n",
       "count     289965.000000  289965.000000  289965.000000  289965.000000\n",
       "mean        2003.591013     121.201507  128567.809908    4867.020106\n",
       "std           28.455964      54.460657   36514.652583    4588.531997\n",
       "min         1000.000000      40.000000    5000.000000     200.000000\n",
       "25%         1999.000000      79.000000  125000.000000    1390.000000\n",
       "50%         2003.000000     112.000000  150000.000000    3200.000000\n",
       "75%         2008.000000     150.000000  150000.000000    6990.000000\n",
       "max         9999.000000    1000.000000  150000.000000   20000.000000"
      ]
     },
     "execution_count": 20,
     "metadata": {},
     "output_type": "execute_result"
    }
   ],
   "source": [
    "# считаю можно удалить все знаечния с ценой менее 200 евро\n",
    "filtred_data = filtred_data.query('199 < Price')\n",
    "filtred_data.describe()"
   ]
  },
  {
   "cell_type": "code",
   "execution_count": 21,
   "metadata": {},
   "outputs": [
    {
     "data": {
      "image/png": "[encoded data removed]",
      "text/plain": [
       "<Figure size 432x288 with 1 Axes>"
      ]
     },
     "metadata": {
      "needs_background": "light"
     },
     "output_type": "display_data"
    }
   ],
   "source": [
    "# разберемся с годом регистрации\n",
    "sns.histplot(data=filtred_data, x='RegistrationYear', bins=100, binrange=(1000, 2000))\n",
    "plt.title('Гистограмма распределения года регистрации')\n",
    "plt.show()"
   ]
  },
  {
   "cell_type": "code",
   "execution_count": 22,
   "metadata": {},
   "outputs": [
    {
     "data": {
      "image/png": "[encoded data removed]",
      "text/plain": [
       "<Figure size 432x288 with 1 Axes>"
      ]
     },
     "metadata": {
      "needs_background": "light"
     },
     "output_type": "display_data"
    }
   ],
   "source": [
    "sns.histplot(data=filtred_data, x='RegistrationYear', bins=100, binrange=(1900, 2000))\n",
    "plt.title('Гистограмма распределения года регистрации')\n",
    "plt.show()"
   ]
  },
  {
   "cell_type": "code",
   "execution_count": 23,
   "metadata": {},
   "outputs": [
    {
     "data": {
      "image/png": "[encoded data removed]",
      "text/plain": [
       "<Figure size 432x288 with 1 Axes>"
      ]
     },
     "metadata": {
      "needs_background": "light"
     },
     "output_type": "display_data"
    }
   ],
   "source": [
    "sns.histplot(data=filtred_data, x='RegistrationYear', bins=100, binrange=(2000, 2050))\n",
    "plt.title('Гистограмма распределения года регистрации')\n",
    "plt.show()"
   ]
  },
  {
   "cell_type": "code",
   "execution_count": 24,
   "metadata": {},
   "outputs": [],
   "source": [
    "# изменим тип столбеца с датой выгрузки на datetime \n",
    "new_data = data.copy()\n",
    "new_data['DateCrawled'] = pd.to_datetime(\n",
    "    new_data['DateCrawled'], format='%Y-%m-%dT%H:%M:%S')\n",
    "# создадим новый столбец в котором будут отмечены только года\n",
    "new_data['Year'] = pd.DatetimeIndex(new_data['DateCrawled']).year"
   ]
  },
  {
   "cell_type": "code",
   "execution_count": 25,
   "metadata": {},
   "outputs": [],
   "source": [
    "filtred_data['DateCreated'] = pd.to_datetime(\n",
    "    filtred_data['DateCreated'], format='%Y-%m-%dT%H:%M:%S')\n",
    "# создадим новый столбец в котором будут отмечены только года\n",
    "filtred_data['Year'] = pd.DatetimeIndex(filtred_data['DateCreated']).year\n",
    "filtred_data['Month'] = pd.DatetimeIndex(filtred_data['DateCreated']).month"
   ]
  },
  {
   "cell_type": "code",
   "execution_count": 26,
   "metadata": {},
   "outputs": [
    {
     "data": {
      "text/html": [
       "<div>\n",
       "<style scoped>\n",
       "    .dataframe tbody tr th:only-of-type {\n",
       "        vertical-align: middle;\n",
       "    }\n",
       "\n",
       "    .dataframe tbody tr th {\n",
       "        vertical-align: top;\n",
       "    }\n",
       "\n",
       "    .dataframe thead th {\n",
       "        text-align: right;\n",
       "    }\n",
       "</style>\n",
       "<table border=\"1\" class=\"dataframe\">\n",
       "  <thead>\n",
       "    <tr style=\"text-align: right;\">\n",
       "      <th></th>\n",
       "      <th>VehicleType</th>\n",
       "      <th>RegistrationYear</th>\n",
       "      <th>DateCreated</th>\n",
       "      <th>Gearbox</th>\n",
       "      <th>Power</th>\n",
       "      <th>Model</th>\n",
       "      <th>Kilometer</th>\n",
       "      <th>FuelType</th>\n",
       "      <th>Brand</th>\n",
       "      <th>Repaired</th>\n",
       "      <th>Price</th>\n",
       "      <th>Year</th>\n",
       "      <th>Month</th>\n",
       "      <th>AgeYear</th>\n",
       "      <th>AgeMonth</th>\n",
       "    </tr>\n",
       "  </thead>\n",
       "  <tbody>\n",
       "    <tr>\n",
       "      <th>1</th>\n",
       "      <td>coupe</td>\n",
       "      <td>2011</td>\n",
       "      <td>2016-03-24</td>\n",
       "      <td>manual</td>\n",
       "      <td>190</td>\n",
       "      <td>NaN</td>\n",
       "      <td>125000</td>\n",
       "      <td>gasoline</td>\n",
       "      <td>audi</td>\n",
       "      <td>yes</td>\n",
       "      <td>18300</td>\n",
       "      <td>2016</td>\n",
       "      <td>3</td>\n",
       "      <td>5</td>\n",
       "      <td>63</td>\n",
       "    </tr>\n",
       "    <tr>\n",
       "      <th>2</th>\n",
       "      <td>suv</td>\n",
       "      <td>2004</td>\n",
       "      <td>2016-03-14</td>\n",
       "      <td>auto</td>\n",
       "      <td>163</td>\n",
       "      <td>grand</td>\n",
       "      <td>125000</td>\n",
       "      <td>gasoline</td>\n",
       "      <td>jeep</td>\n",
       "      <td>NaN</td>\n",
       "      <td>9800</td>\n",
       "      <td>2016</td>\n",
       "      <td>3</td>\n",
       "      <td>12</td>\n",
       "      <td>147</td>\n",
       "    </tr>\n",
       "    <tr>\n",
       "      <th>3</th>\n",
       "      <td>small</td>\n",
       "      <td>2001</td>\n",
       "      <td>2016-03-17</td>\n",
       "      <td>manual</td>\n",
       "      <td>75</td>\n",
       "      <td>golf</td>\n",
       "      <td>150000</td>\n",
       "      <td>petrol</td>\n",
       "      <td>volkswagen</td>\n",
       "      <td>no</td>\n",
       "      <td>1500</td>\n",
       "      <td>2016</td>\n",
       "      <td>3</td>\n",
       "      <td>15</td>\n",
       "      <td>183</td>\n",
       "    </tr>\n",
       "    <tr>\n",
       "      <th>4</th>\n",
       "      <td>small</td>\n",
       "      <td>2008</td>\n",
       "      <td>2016-03-31</td>\n",
       "      <td>manual</td>\n",
       "      <td>69</td>\n",
       "      <td>fabia</td>\n",
       "      <td>90000</td>\n",
       "      <td>gasoline</td>\n",
       "      <td>skoda</td>\n",
       "      <td>no</td>\n",
       "      <td>3600</td>\n",
       "      <td>2016</td>\n",
       "      <td>3</td>\n",
       "      <td>8</td>\n",
       "      <td>99</td>\n",
       "    </tr>\n",
       "    <tr>\n",
       "      <th>5</th>\n",
       "      <td>sedan</td>\n",
       "      <td>1995</td>\n",
       "      <td>2016-04-04</td>\n",
       "      <td>manual</td>\n",
       "      <td>102</td>\n",
       "      <td>3er</td>\n",
       "      <td>150000</td>\n",
       "      <td>petrol</td>\n",
       "      <td>bmw</td>\n",
       "      <td>yes</td>\n",
       "      <td>650</td>\n",
       "      <td>2016</td>\n",
       "      <td>4</td>\n",
       "      <td>21</td>\n",
       "      <td>256</td>\n",
       "    </tr>\n",
       "  </tbody>\n",
       "</table>\n",
       "</div>"
      ],
      "text/plain": [
       "  VehicleType  RegistrationYear DateCreated Gearbox  Power  Model  Kilometer  \\\n",
       "1       coupe              2011  2016-03-24  manual    190    NaN     125000   \n",
       "2         suv              2004  2016-03-14    auto    163  grand     125000   \n",
       "3       small              2001  2016-03-17  manual     75   golf     150000   \n",
       "4       small              2008  2016-03-31  manual     69  fabia      90000   \n",
       "5       sedan              1995  2016-04-04  manual    102    3er     150000   \n",
       "\n",
       "   FuelType       Brand Repaired  Price  Year  Month  AgeYear  AgeMonth  \n",
       "1  gasoline        audi      yes  18300  2016      3        5        63  \n",
       "2  gasoline        jeep      NaN   9800  2016      3       12       147  \n",
       "3    petrol  volkswagen       no   1500  2016      3       15       183  \n",
       "4  gasoline       skoda       no   3600  2016      3        8        99  \n",
       "5    petrol         bmw      yes    650  2016      4       21       256  "
      ]
     },
     "execution_count": 26,
     "metadata": {},
     "output_type": "execute_result"
    }
   ],
   "source": [
    "# Создадим новый признак AgeYear возраст автомобиля\n",
    "filtred_data['AgeYear'] = filtred_data['Year'] - filtred_data['RegistrationYear']\n",
    "filtred_data['AgeMonth'] = filtred_data['AgeYear'] * 12 + filtred_data['Month']\n",
    "filtred_data.head()"
   ]
  },
  {
   "cell_type": "code",
   "execution_count": 27,
   "metadata": {},
   "outputs": [
    {
     "data": {
      "text/plain": [
       "(12195, -95793)"
      ]
     },
     "execution_count": 27,
     "metadata": {},
     "output_type": "execute_result"
    }
   ],
   "source": [
    "max(filtred_data['AgeMonth']), min(filtred_data['AgeMonth'])"
   ]
  },
  {
   "cell_type": "code",
   "execution_count": 28,
   "metadata": {},
   "outputs": [
    {
     "data": {
      "text/plain": [
       "2016"
      ]
     },
     "execution_count": 28,
     "metadata": {},
     "output_type": "execute_result"
    }
   ],
   "source": [
    "# найдем максимальное значение столбца с годами, по которому ограничим даты регистрации автомобиля\n",
    "max_year_unloading = max(new_data['Year'])\n",
    "max_year_unloading"
   ]
  },
  {
   "cell_type": "code",
   "execution_count": 29,
   "metadata": {},
   "outputs": [
    {
     "data": {
      "text/html": [
       "<div>\n",
       "<style scoped>\n",
       "    .dataframe tbody tr th:only-of-type {\n",
       "        vertical-align: middle;\n",
       "    }\n",
       "\n",
       "    .dataframe tbody tr th {\n",
       "        vertical-align: top;\n",
       "    }\n",
       "\n",
       "    .dataframe thead th {\n",
       "        text-align: right;\n",
       "    }\n",
       "</style>\n",
       "<table border=\"1\" class=\"dataframe\">\n",
       "  <thead>\n",
       "    <tr style=\"text-align: right;\">\n",
       "      <th></th>\n",
       "      <th>RegistrationYear</th>\n",
       "      <th>Power</th>\n",
       "      <th>Kilometer</th>\n",
       "      <th>Price</th>\n",
       "      <th>Year</th>\n",
       "      <th>Month</th>\n",
       "      <th>AgeYear</th>\n",
       "      <th>AgeMonth</th>\n",
       "    </tr>\n",
       "  </thead>\n",
       "  <tbody>\n",
       "    <tr>\n",
       "      <th>count</th>\n",
       "      <td>279923.000000</td>\n",
       "      <td>279923.000000</td>\n",
       "      <td>279923.000000</td>\n",
       "      <td>279923.000000</td>\n",
       "      <td>279923.000000</td>\n",
       "      <td>279923.000000</td>\n",
       "      <td>279923.000000</td>\n",
       "      <td>279923.000000</td>\n",
       "    </tr>\n",
       "    <tr>\n",
       "      <th>mean</th>\n",
       "      <td>2002.945757</td>\n",
       "      <td>121.590798</td>\n",
       "      <td>128429.675304</td>\n",
       "      <td>4910.100603</td>\n",
       "      <td>2015.999929</td>\n",
       "      <td>3.161912</td>\n",
       "      <td>13.054172</td>\n",
       "      <td>159.811977</td>\n",
       "    </tr>\n",
       "    <tr>\n",
       "      <th>std</th>\n",
       "      <td>6.320686</td>\n",
       "      <td>54.442459</td>\n",
       "      <td>36554.243303</td>\n",
       "      <td>4612.505267</td>\n",
       "      <td>0.008452</td>\n",
       "      <td>0.377907</td>\n",
       "      <td>6.320705</td>\n",
       "      <td>75.849260</td>\n",
       "    </tr>\n",
       "    <tr>\n",
       "      <th>min</th>\n",
       "      <td>1960.000000</td>\n",
       "      <td>40.000000</td>\n",
       "      <td>5000.000000</td>\n",
       "      <td>200.000000</td>\n",
       "      <td>2015.000000</td>\n",
       "      <td>1.000000</td>\n",
       "      <td>0.000000</td>\n",
       "      <td>1.000000</td>\n",
       "    </tr>\n",
       "    <tr>\n",
       "      <th>25%</th>\n",
       "      <td>1999.000000</td>\n",
       "      <td>80.000000</td>\n",
       "      <td>125000.000000</td>\n",
       "      <td>1399.000000</td>\n",
       "      <td>2016.000000</td>\n",
       "      <td>3.000000</td>\n",
       "      <td>9.000000</td>\n",
       "      <td>111.000000</td>\n",
       "    </tr>\n",
       "    <tr>\n",
       "      <th>50%</th>\n",
       "      <td>2003.000000</td>\n",
       "      <td>114.000000</td>\n",
       "      <td>150000.000000</td>\n",
       "      <td>3200.000000</td>\n",
       "      <td>2016.000000</td>\n",
       "      <td>3.000000</td>\n",
       "      <td>13.000000</td>\n",
       "      <td>159.000000</td>\n",
       "    </tr>\n",
       "    <tr>\n",
       "      <th>75%</th>\n",
       "      <td>2007.000000</td>\n",
       "      <td>150.000000</td>\n",
       "      <td>150000.000000</td>\n",
       "      <td>6999.000000</td>\n",
       "      <td>2016.000000</td>\n",
       "      <td>3.000000</td>\n",
       "      <td>17.000000</td>\n",
       "      <td>207.000000</td>\n",
       "    </tr>\n",
       "    <tr>\n",
       "      <th>max</th>\n",
       "      <td>2016.000000</td>\n",
       "      <td>1000.000000</td>\n",
       "      <td>150000.000000</td>\n",
       "      <td>20000.000000</td>\n",
       "      <td>2016.000000</td>\n",
       "      <td>12.000000</td>\n",
       "      <td>56.000000</td>\n",
       "      <td>676.000000</td>\n",
       "    </tr>\n",
       "  </tbody>\n",
       "</table>\n",
       "</div>"
      ],
      "text/plain": [
       "       RegistrationYear          Power      Kilometer          Price  \\\n",
       "count     279923.000000  279923.000000  279923.000000  279923.000000   \n",
       "mean        2002.945757     121.590798  128429.675304    4910.100603   \n",
       "std            6.320686      54.442459   36554.243303    4612.505267   \n",
       "min         1960.000000      40.000000    5000.000000     200.000000   \n",
       "25%         1999.000000      80.000000  125000.000000    1399.000000   \n",
       "50%         2003.000000     114.000000  150000.000000    3200.000000   \n",
       "75%         2007.000000     150.000000  150000.000000    6999.000000   \n",
       "max         2016.000000    1000.000000  150000.000000   20000.000000   \n",
       "\n",
       "                Year          Month        AgeYear       AgeMonth  \n",
       "count  279923.000000  279923.000000  279923.000000  279923.000000  \n",
       "mean     2015.999929       3.161912      13.054172     159.811977  \n",
       "std         0.008452       0.377907       6.320705      75.849260  \n",
       "min      2015.000000       1.000000       0.000000       1.000000  \n",
       "25%      2016.000000       3.000000       9.000000     111.000000  \n",
       "50%      2016.000000       3.000000      13.000000     159.000000  \n",
       "75%      2016.000000       3.000000      17.000000     207.000000  \n",
       "max      2016.000000      12.000000      56.000000     676.000000  "
      ]
     },
     "execution_count": 29,
     "metadata": {},
     "output_type": "execute_result"
    }
   ],
   "source": [
    "# уберем автомобили страше 1960 и младше 2016 годов\n",
    "filtred_data = filtred_data.query('1959 < RegistrationYear < 2017')\n",
    "filtred_data.describe()"
   ]
  },
  {
   "cell_type": "code",
   "execution_count": 30,
   "metadata": {},
   "outputs": [],
   "source": [
    "filtred_data = filtred_data.drop(columns=['RegistrationYear', 'DateCreated', 'Year', 'AgeYear', 'Month'])"
   ]
  },
  {
   "cell_type": "code",
   "execution_count": 31,
   "metadata": {},
   "outputs": [
    {
     "data": {
      "text/plain": [
       "(676, 1)"
      ]
     },
     "execution_count": 31,
     "metadata": {},
     "output_type": "execute_result"
    }
   ],
   "source": [
    "max(filtred_data['AgeMonth']), min(filtred_data['AgeMonth'])"
   ]
  },
  {
   "cell_type": "code",
   "execution_count": 32,
   "metadata": {},
   "outputs": [
    {
     "data": {
      "text/html": [
       "<div>\n",
       "<style scoped>\n",
       "    .dataframe tbody tr th:only-of-type {\n",
       "        vertical-align: middle;\n",
       "    }\n",
       "\n",
       "    .dataframe tbody tr th {\n",
       "        vertical-align: top;\n",
       "    }\n",
       "\n",
       "    .dataframe thead th {\n",
       "        text-align: right;\n",
       "    }\n",
       "</style>\n",
       "<table border=\"1\" class=\"dataframe\">\n",
       "  <thead>\n",
       "    <tr style=\"text-align: right;\">\n",
       "      <th></th>\n",
       "      <th>VehicleType</th>\n",
       "      <th>Gearbox</th>\n",
       "      <th>Power</th>\n",
       "      <th>Model</th>\n",
       "      <th>Kilometer</th>\n",
       "      <th>FuelType</th>\n",
       "      <th>Brand</th>\n",
       "      <th>Repaired</th>\n",
       "      <th>Price</th>\n",
       "      <th>AgeMonth</th>\n",
       "    </tr>\n",
       "  </thead>\n",
       "  <tbody>\n",
       "    <tr>\n",
       "      <th>1</th>\n",
       "      <td>coupe</td>\n",
       "      <td>manual</td>\n",
       "      <td>190</td>\n",
       "      <td>NaN</td>\n",
       "      <td>125000</td>\n",
       "      <td>gasoline</td>\n",
       "      <td>audi</td>\n",
       "      <td>yes</td>\n",
       "      <td>18300</td>\n",
       "      <td>63</td>\n",
       "    </tr>\n",
       "    <tr>\n",
       "      <th>2</th>\n",
       "      <td>suv</td>\n",
       "      <td>auto</td>\n",
       "      <td>163</td>\n",
       "      <td>grand</td>\n",
       "      <td>125000</td>\n",
       "      <td>gasoline</td>\n",
       "      <td>jeep</td>\n",
       "      <td>NaN</td>\n",
       "      <td>9800</td>\n",
       "      <td>147</td>\n",
       "    </tr>\n",
       "    <tr>\n",
       "      <th>3</th>\n",
       "      <td>small</td>\n",
       "      <td>manual</td>\n",
       "      <td>75</td>\n",
       "      <td>golf</td>\n",
       "      <td>150000</td>\n",
       "      <td>petrol</td>\n",
       "      <td>volkswagen</td>\n",
       "      <td>no</td>\n",
       "      <td>1500</td>\n",
       "      <td>183</td>\n",
       "    </tr>\n",
       "    <tr>\n",
       "      <th>4</th>\n",
       "      <td>small</td>\n",
       "      <td>manual</td>\n",
       "      <td>69</td>\n",
       "      <td>fabia</td>\n",
       "      <td>90000</td>\n",
       "      <td>gasoline</td>\n",
       "      <td>skoda</td>\n",
       "      <td>no</td>\n",
       "      <td>3600</td>\n",
       "      <td>99</td>\n",
       "    </tr>\n",
       "    <tr>\n",
       "      <th>5</th>\n",
       "      <td>sedan</td>\n",
       "      <td>manual</td>\n",
       "      <td>102</td>\n",
       "      <td>3er</td>\n",
       "      <td>150000</td>\n",
       "      <td>petrol</td>\n",
       "      <td>bmw</td>\n",
       "      <td>yes</td>\n",
       "      <td>650</td>\n",
       "      <td>256</td>\n",
       "    </tr>\n",
       "  </tbody>\n",
       "</table>\n",
       "</div>"
      ],
      "text/plain": [
       "  VehicleType Gearbox  Power  Model  Kilometer  FuelType       Brand Repaired  \\\n",
       "1       coupe  manual    190    NaN     125000  gasoline        audi      yes   \n",
       "2         suv    auto    163  grand     125000  gasoline        jeep      NaN   \n",
       "3       small  manual     75   golf     150000    petrol  volkswagen       no   \n",
       "4       small  manual     69  fabia      90000  gasoline       skoda       no   \n",
       "5       sedan  manual    102    3er     150000    petrol         bmw      yes   \n",
       "\n",
       "   Price  AgeMonth  \n",
       "1  18300        63  \n",
       "2   9800       147  \n",
       "3   1500       183  \n",
       "4   3600        99  \n",
       "5    650       256  "
      ]
     },
     "execution_count": 32,
     "metadata": {},
     "output_type": "execute_result"
    }
   ],
   "source": [
    "filtred_data.head()"
   ]
  },
  {
   "cell_type": "code",
   "execution_count": 33,
   "metadata": {},
   "outputs": [
    {
     "name": "stdout",
     "output_type": "stream",
     "text": [
      "<class 'pandas.core.frame.DataFrame'>\n",
      "Int64Index: 279923 entries, 1 to 354368\n",
      "Data columns (total 10 columns):\n",
      " #   Column       Non-Null Count   Dtype \n",
      "---  ------       --------------   ----- \n",
      " 0   VehicleType  269781 non-null  object\n",
      " 1   Gearbox      275030 non-null  object\n",
      " 2   Power        279923 non-null  int64 \n",
      " 3   Model        269550 non-null  object\n",
      " 4   Kilometer    279923 non-null  int64 \n",
      " 5   FuelType     265428 non-null  object\n",
      " 6   Brand        279923 non-null  object\n",
      " 7   Repaired     239542 non-null  object\n",
      " 8   Price        279923 non-null  int64 \n",
      " 9   AgeMonth     279923 non-null  int64 \n",
      "dtypes: int64(4), object(6)\n",
      "memory usage: 23.5+ MB\n"
     ]
    }
   ],
   "source": [
    "filtred_data.info()"
   ]
  },
  {
   "cell_type": "markdown",
   "metadata": {},
   "source": [
    "На данный момент фрейм данных сократился практически на треть, но все еще имеется большое количество пропусков, попробуем их заполнить."
   ]
  },
  {
   "cell_type": "code",
   "execution_count": 34,
   "metadata": {},
   "outputs": [],
   "source": [
    "# Имеются пропуски в Model к сожалению их нельзя восстановит по Brand придется удалить\n",
    "filtred_data = filtred_data.loc[~filtred_data['Model'].isna()]"
   ]
  },
  {
   "cell_type": "code",
   "execution_count": 35,
   "metadata": {},
   "outputs": [],
   "source": [
    "# Тип кузова может быть разный даже у одной марки и модели автомобиля, так что заполним пропуски заглушкой unknow\n",
    "filtred_data['VehicleType'] = filtred_data['VehicleType'].fillna('unknown')"
   ]
  },
  {
   "cell_type": "code",
   "execution_count": 36,
   "metadata": {},
   "outputs": [],
   "source": [
    "# Пропуски в Repaired заменим на no, скорее всего если автомобиль не чинился, данный пункт не отмечали\n",
    "filtred_data['Repaired'].fillna('no', inplace=True)"
   ]
  },
  {
   "cell_type": "code",
   "execution_count": 37,
   "metadata": {},
   "outputs": [],
   "source": [
    "\n",
    "# Разделим датафрейм filtred_data на тренировочный и тестовый\n",
    "train, test = train_test_split(\n",
    "    filtred_data,\n",
    "    test_size = TEST_SIZE, \n",
    "    random_state = RANDOM_STATE\n",
    "    )"
   ]
  },
  {
   "cell_type": "code",
   "execution_count": 38,
   "metadata": {},
   "outputs": [],
   "source": [
    "# Колличество пропусков в Gearbox тоже велико. Заменим на наиболее встречающийся тип коробки в модели.\n",
    "train['Gearbox'] = train['Gearbox'].fillna(train\n",
    "                                         .groupby('Model')['Gearbox']\n",
    "                                         .transform(lambda x: x.value_counts().idxmax())\n",
    "                                        )\n",
    "\n",
    "test['Gearbox'] = test['Gearbox'].fillna(test\n",
    "                                         .groupby('Model')['Gearbox']\n",
    "                                         .transform(lambda x: x.value_counts().idxmax())\n",
    "                                        )"
   ]
  },
  {
   "cell_type": "code",
   "execution_count": 39,
   "metadata": {},
   "outputs": [],
   "source": [
    "# Пропуски в FuelType заменим на среднее по моделям\n",
    "train['FuelType'] = train['FuelType'].fillna(train\n",
    "                                           .groupby('Model')['FuelType']\n",
    "                                           .transform(lambda x: x.value_counts().idxmax())\n",
    "                                          )\n",
    "\n",
    "test['FuelType'] = test['FuelType'].fillna(test\n",
    "                                           .groupby('Model')['FuelType']\n",
    "                                           .transform(lambda x: x.value_counts().idxmax())\n",
    "                                          )"
   ]
  },
  {
   "cell_type": "code",
   "execution_count": 40,
   "metadata": {},
   "outputs": [
    {
     "data": {
      "text/plain": [
       "VehicleType    0\n",
       "Gearbox        0\n",
       "Power          0\n",
       "Model          0\n",
       "Kilometer      0\n",
       "FuelType       0\n",
       "Brand          0\n",
       "Repaired       0\n",
       "Price          0\n",
       "AgeMonth       0\n",
       "dtype: int64"
      ]
     },
     "execution_count": 40,
     "metadata": {},
     "output_type": "execute_result"
    }
   ],
   "source": [
    "train.isna().sum()"
   ]
  },
  {
   "cell_type": "code",
   "execution_count": 41,
   "metadata": {},
   "outputs": [
    {
     "data": {
      "text/plain": [
       "VehicleType    0\n",
       "Gearbox        0\n",
       "Power          0\n",
       "Model          0\n",
       "Kilometer      0\n",
       "FuelType       0\n",
       "Brand          0\n",
       "Repaired       0\n",
       "Price          0\n",
       "AgeMonth       0\n",
       "dtype: int64"
      ]
     },
     "execution_count": 41,
     "metadata": {},
     "output_type": "execute_result"
    }
   ],
   "source": [
    "test.isna().sum()"
   ]
  },
  {
   "cell_type": "code",
   "execution_count": 42,
   "metadata": {},
   "outputs": [
    {
     "data": {
      "text/plain": [
       "17528"
      ]
     },
     "execution_count": 42,
     "metadata": {},
     "output_type": "execute_result"
    }
   ],
   "source": [
    "train.duplicated().sum()"
   ]
  },
  {
   "cell_type": "code",
   "execution_count": 43,
   "metadata": {},
   "outputs": [
    {
     "data": {
      "text/plain": [
       "2377"
      ]
     },
     "execution_count": 43,
     "metadata": {},
     "output_type": "execute_result"
    }
   ],
   "source": [
    "test.duplicated().sum()"
   ]
  },
  {
   "cell_type": "code",
   "execution_count": 44,
   "metadata": {},
   "outputs": [
    {
     "name": "stdout",
     "output_type": "stream",
     "text": [
      "0\n",
      "0\n"
     ]
    }
   ],
   "source": [
    "# удалим полные дубликаты\n",
    "train = train.drop_duplicates()\n",
    "print(train.duplicated().sum())\n",
    "\n",
    "test = test.drop_duplicates()\n",
    "print(test.duplicated().sum())"
   ]
  },
  {
   "cell_type": "code",
   "execution_count": 45,
   "metadata": {},
   "outputs": [],
   "source": [
    "train = train.reset_index(drop=True)\n",
    "\n",
    "test = test.reset_index(drop=True)"
   ]
  },
  {
   "cell_type": "code",
   "execution_count": 46,
   "metadata": {},
   "outputs": [
    {
     "data": {
      "text/html": [
       "<div>\n",
       "<style scoped>\n",
       "    .dataframe tbody tr th:only-of-type {\n",
       "        vertical-align: middle;\n",
       "    }\n",
       "\n",
       "    .dataframe tbody tr th {\n",
       "        vertical-align: top;\n",
       "    }\n",
       "\n",
       "    .dataframe thead th {\n",
       "        text-align: right;\n",
       "    }\n",
       "</style>\n",
       "<table border=\"1\" class=\"dataframe\">\n",
       "  <thead>\n",
       "    <tr style=\"text-align: right;\">\n",
       "      <th></th>\n",
       "      <th>VehicleType</th>\n",
       "      <th>Gearbox</th>\n",
       "      <th>Power</th>\n",
       "      <th>Model</th>\n",
       "      <th>Kilometer</th>\n",
       "      <th>FuelType</th>\n",
       "      <th>Brand</th>\n",
       "      <th>Repaired</th>\n",
       "      <th>Price</th>\n",
       "      <th>AgeMonth</th>\n",
       "    </tr>\n",
       "  </thead>\n",
       "  <tbody>\n",
       "    <tr>\n",
       "      <th>0</th>\n",
       "      <td>wagon</td>\n",
       "      <td>manual</td>\n",
       "      <td>109</td>\n",
       "      <td>focus</td>\n",
       "      <td>150000</td>\n",
       "      <td>gasoline</td>\n",
       "      <td>ford</td>\n",
       "      <td>no</td>\n",
       "      <td>6990</td>\n",
       "      <td>76</td>\n",
       "    </tr>\n",
       "    <tr>\n",
       "      <th>1</th>\n",
       "      <td>small</td>\n",
       "      <td>manual</td>\n",
       "      <td>68</td>\n",
       "      <td>other</td>\n",
       "      <td>100000</td>\n",
       "      <td>petrol</td>\n",
       "      <td>suzuki</td>\n",
       "      <td>no</td>\n",
       "      <td>3700</td>\n",
       "      <td>87</td>\n",
       "    </tr>\n",
       "    <tr>\n",
       "      <th>2</th>\n",
       "      <td>sedan</td>\n",
       "      <td>manual</td>\n",
       "      <td>60</td>\n",
       "      <td>astra</td>\n",
       "      <td>150000</td>\n",
       "      <td>petrol</td>\n",
       "      <td>opel</td>\n",
       "      <td>no</td>\n",
       "      <td>1049</td>\n",
       "      <td>243</td>\n",
       "    </tr>\n",
       "    <tr>\n",
       "      <th>3</th>\n",
       "      <td>wagon</td>\n",
       "      <td>manual</td>\n",
       "      <td>136</td>\n",
       "      <td>4_reihe</td>\n",
       "      <td>150000</td>\n",
       "      <td>petrol</td>\n",
       "      <td>peugeot</td>\n",
       "      <td>no</td>\n",
       "      <td>3200</td>\n",
       "      <td>159</td>\n",
       "    </tr>\n",
       "    <tr>\n",
       "      <th>4</th>\n",
       "      <td>sedan</td>\n",
       "      <td>auto</td>\n",
       "      <td>122</td>\n",
       "      <td>c_klasse</td>\n",
       "      <td>150000</td>\n",
       "      <td>petrol</td>\n",
       "      <td>mercedes_benz</td>\n",
       "      <td>no</td>\n",
       "      <td>1250</td>\n",
       "      <td>267</td>\n",
       "    </tr>\n",
       "    <tr>\n",
       "      <th>5</th>\n",
       "      <td>wagon</td>\n",
       "      <td>manual</td>\n",
       "      <td>150</td>\n",
       "      <td>astra</td>\n",
       "      <td>150000</td>\n",
       "      <td>gasoline</td>\n",
       "      <td>opel</td>\n",
       "      <td>no</td>\n",
       "      <td>3100</td>\n",
       "      <td>111</td>\n",
       "    </tr>\n",
       "    <tr>\n",
       "      <th>6</th>\n",
       "      <td>small</td>\n",
       "      <td>manual</td>\n",
       "      <td>88</td>\n",
       "      <td>micra</td>\n",
       "      <td>125000</td>\n",
       "      <td>petrol</td>\n",
       "      <td>nissan</td>\n",
       "      <td>no</td>\n",
       "      <td>1800</td>\n",
       "      <td>159</td>\n",
       "    </tr>\n",
       "    <tr>\n",
       "      <th>7</th>\n",
       "      <td>convertible</td>\n",
       "      <td>auto</td>\n",
       "      <td>90</td>\n",
       "      <td>tigra</td>\n",
       "      <td>100000</td>\n",
       "      <td>petrol</td>\n",
       "      <td>opel</td>\n",
       "      <td>no</td>\n",
       "      <td>4700</td>\n",
       "      <td>123</td>\n",
       "    </tr>\n",
       "    <tr>\n",
       "      <th>8</th>\n",
       "      <td>sedan</td>\n",
       "      <td>manual</td>\n",
       "      <td>113</td>\n",
       "      <td>3er</td>\n",
       "      <td>150000</td>\n",
       "      <td>petrol</td>\n",
       "      <td>bmw</td>\n",
       "      <td>yes</td>\n",
       "      <td>999</td>\n",
       "      <td>327</td>\n",
       "    </tr>\n",
       "    <tr>\n",
       "      <th>9</th>\n",
       "      <td>other</td>\n",
       "      <td>manual</td>\n",
       "      <td>78</td>\n",
       "      <td>other</td>\n",
       "      <td>150000</td>\n",
       "      <td>gasoline</td>\n",
       "      <td>volkswagen</td>\n",
       "      <td>no</td>\n",
       "      <td>3350</td>\n",
       "      <td>291</td>\n",
       "    </tr>\n",
       "  </tbody>\n",
       "</table>\n",
       "</div>"
      ],
      "text/plain": [
       "   VehicleType Gearbox  Power     Model  Kilometer  FuelType          Brand  \\\n",
       "0        wagon  manual    109     focus     150000  gasoline           ford   \n",
       "1        small  manual     68     other     100000    petrol         suzuki   \n",
       "2        sedan  manual     60     astra     150000    petrol           opel   \n",
       "3        wagon  manual    136   4_reihe     150000    petrol        peugeot   \n",
       "4        sedan    auto    122  c_klasse     150000    petrol  mercedes_benz   \n",
       "5        wagon  manual    150     astra     150000  gasoline           opel   \n",
       "6        small  manual     88     micra     125000    petrol         nissan   \n",
       "7  convertible    auto     90     tigra     100000    petrol           opel   \n",
       "8        sedan  manual    113       3er     150000    petrol            bmw   \n",
       "9        other  manual     78     other     150000  gasoline     volkswagen   \n",
       "\n",
       "  Repaired  Price  AgeMonth  \n",
       "0       no   6990        76  \n",
       "1       no   3700        87  \n",
       "2       no   1049       243  \n",
       "3       no   3200       159  \n",
       "4       no   1250       267  \n",
       "5       no   3100       111  \n",
       "6       no   1800       159  \n",
       "7       no   4700       123  \n",
       "8      yes    999       327  \n",
       "9       no   3350       291  "
      ]
     },
     "metadata": {},
     "output_type": "display_data"
    },
    {
     "name": "stdout",
     "output_type": "stream",
     "text": [
      "<class 'pandas.core.frame.DataFrame'>\n",
      "RangeIndex: 184634 entries, 0 to 184633\n",
      "Data columns (total 10 columns):\n",
      " #   Column       Non-Null Count   Dtype \n",
      "---  ------       --------------   ----- \n",
      " 0   VehicleType  184634 non-null  object\n",
      " 1   Gearbox      184634 non-null  object\n",
      " 2   Power        184634 non-null  int64 \n",
      " 3   Model        184634 non-null  object\n",
      " 4   Kilometer    184634 non-null  int64 \n",
      " 5   FuelType     184634 non-null  object\n",
      " 6   Brand        184634 non-null  object\n",
      " 7   Repaired     184634 non-null  object\n",
      " 8   Price        184634 non-null  int64 \n",
      " 9   AgeMonth     184634 non-null  int64 \n",
      "dtypes: int64(4), object(6)\n",
      "memory usage: 14.1+ MB\n",
      "None\n"
     ]
    },
    {
     "data": {
      "text/html": [
       "<div>\n",
       "<style scoped>\n",
       "    .dataframe tbody tr th:only-of-type {\n",
       "        vertical-align: middle;\n",
       "    }\n",
       "\n",
       "    .dataframe tbody tr th {\n",
       "        vertical-align: top;\n",
       "    }\n",
       "\n",
       "    .dataframe thead th {\n",
       "        text-align: right;\n",
       "    }\n",
       "</style>\n",
       "<table border=\"1\" class=\"dataframe\">\n",
       "  <thead>\n",
       "    <tr style=\"text-align: right;\">\n",
       "      <th></th>\n",
       "      <th>VehicleType</th>\n",
       "      <th>Gearbox</th>\n",
       "      <th>Power</th>\n",
       "      <th>Model</th>\n",
       "      <th>Kilometer</th>\n",
       "      <th>FuelType</th>\n",
       "      <th>Brand</th>\n",
       "      <th>Repaired</th>\n",
       "      <th>Price</th>\n",
       "      <th>AgeMonth</th>\n",
       "    </tr>\n",
       "  </thead>\n",
       "  <tbody>\n",
       "    <tr>\n",
       "      <th>0</th>\n",
       "      <td>wagon</td>\n",
       "      <td>manual</td>\n",
       "      <td>100</td>\n",
       "      <td>focus</td>\n",
       "      <td>150000</td>\n",
       "      <td>petrol</td>\n",
       "      <td>ford</td>\n",
       "      <td>no</td>\n",
       "      <td>1750</td>\n",
       "      <td>195</td>\n",
       "    </tr>\n",
       "    <tr>\n",
       "      <th>1</th>\n",
       "      <td>convertible</td>\n",
       "      <td>manual</td>\n",
       "      <td>109</td>\n",
       "      <td>2_reihe</td>\n",
       "      <td>150000</td>\n",
       "      <td>gasoline</td>\n",
       "      <td>peugeot</td>\n",
       "      <td>no</td>\n",
       "      <td>6200</td>\n",
       "      <td>111</td>\n",
       "    </tr>\n",
       "    <tr>\n",
       "      <th>2</th>\n",
       "      <td>sedan</td>\n",
       "      <td>auto</td>\n",
       "      <td>143</td>\n",
       "      <td>1er</td>\n",
       "      <td>125000</td>\n",
       "      <td>petrol</td>\n",
       "      <td>bmw</td>\n",
       "      <td>no</td>\n",
       "      <td>9150</td>\n",
       "      <td>99</td>\n",
       "    </tr>\n",
       "    <tr>\n",
       "      <th>3</th>\n",
       "      <td>sedan</td>\n",
       "      <td>manual</td>\n",
       "      <td>105</td>\n",
       "      <td>golf</td>\n",
       "      <td>125000</td>\n",
       "      <td>gasoline</td>\n",
       "      <td>volkswagen</td>\n",
       "      <td>no</td>\n",
       "      <td>10900</td>\n",
       "      <td>75</td>\n",
       "    </tr>\n",
       "    <tr>\n",
       "      <th>4</th>\n",
       "      <td>bus</td>\n",
       "      <td>manual</td>\n",
       "      <td>131</td>\n",
       "      <td>sharan</td>\n",
       "      <td>150000</td>\n",
       "      <td>gasoline</td>\n",
       "      <td>volkswagen</td>\n",
       "      <td>no</td>\n",
       "      <td>5000</td>\n",
       "      <td>147</td>\n",
       "    </tr>\n",
       "    <tr>\n",
       "      <th>5</th>\n",
       "      <td>small</td>\n",
       "      <td>manual</td>\n",
       "      <td>101</td>\n",
       "      <td>polo</td>\n",
       "      <td>150000</td>\n",
       "      <td>gasoline</td>\n",
       "      <td>volkswagen</td>\n",
       "      <td>no</td>\n",
       "      <td>2500</td>\n",
       "      <td>159</td>\n",
       "    </tr>\n",
       "    <tr>\n",
       "      <th>6</th>\n",
       "      <td>sedan</td>\n",
       "      <td>manual</td>\n",
       "      <td>125</td>\n",
       "      <td>a4</td>\n",
       "      <td>150000</td>\n",
       "      <td>petrol</td>\n",
       "      <td>audi</td>\n",
       "      <td>no</td>\n",
       "      <td>550</td>\n",
       "      <td>255</td>\n",
       "    </tr>\n",
       "    <tr>\n",
       "      <th>7</th>\n",
       "      <td>wagon</td>\n",
       "      <td>manual</td>\n",
       "      <td>140</td>\n",
       "      <td>passat</td>\n",
       "      <td>150000</td>\n",
       "      <td>gasoline</td>\n",
       "      <td>volkswagen</td>\n",
       "      <td>no</td>\n",
       "      <td>8750</td>\n",
       "      <td>111</td>\n",
       "    </tr>\n",
       "    <tr>\n",
       "      <th>8</th>\n",
       "      <td>small</td>\n",
       "      <td>manual</td>\n",
       "      <td>50</td>\n",
       "      <td>lupo</td>\n",
       "      <td>150000</td>\n",
       "      <td>petrol</td>\n",
       "      <td>volkswagen</td>\n",
       "      <td>no</td>\n",
       "      <td>800</td>\n",
       "      <td>207</td>\n",
       "    </tr>\n",
       "    <tr>\n",
       "      <th>9</th>\n",
       "      <td>sedan</td>\n",
       "      <td>manual</td>\n",
       "      <td>231</td>\n",
       "      <td>5er</td>\n",
       "      <td>150000</td>\n",
       "      <td>petrol</td>\n",
       "      <td>bmw</td>\n",
       "      <td>no</td>\n",
       "      <td>5300</td>\n",
       "      <td>183</td>\n",
       "    </tr>\n",
       "  </tbody>\n",
       "</table>\n",
       "</div>"
      ],
      "text/plain": [
       "   VehicleType Gearbox  Power    Model  Kilometer  FuelType       Brand  \\\n",
       "0        wagon  manual    100    focus     150000    petrol        ford   \n",
       "1  convertible  manual    109  2_reihe     150000  gasoline     peugeot   \n",
       "2        sedan    auto    143      1er     125000    petrol         bmw   \n",
       "3        sedan  manual    105     golf     125000  gasoline  volkswagen   \n",
       "4          bus  manual    131   sharan     150000  gasoline  volkswagen   \n",
       "5        small  manual    101     polo     150000  gasoline  volkswagen   \n",
       "6        sedan  manual    125       a4     150000    petrol        audi   \n",
       "7        wagon  manual    140   passat     150000  gasoline  volkswagen   \n",
       "8        small  manual     50     lupo     150000    petrol  volkswagen   \n",
       "9        sedan  manual    231      5er     150000    petrol         bmw   \n",
       "\n",
       "  Repaired  Price  AgeMonth  \n",
       "0       no   1750       195  \n",
       "1       no   6200       111  \n",
       "2       no   9150        99  \n",
       "3       no  10900        75  \n",
       "4       no   5000       147  \n",
       "5       no   2500       159  \n",
       "6       no    550       255  \n",
       "7       no   8750       111  \n",
       "8       no    800       207  \n",
       "9       no   5300       183  "
      ]
     },
     "metadata": {},
     "output_type": "display_data"
    },
    {
     "name": "stdout",
     "output_type": "stream",
     "text": [
      "<class 'pandas.core.frame.DataFrame'>\n",
      "RangeIndex: 65011 entries, 0 to 65010\n",
      "Data columns (total 10 columns):\n",
      " #   Column       Non-Null Count  Dtype \n",
      "---  ------       --------------  ----- \n",
      " 0   VehicleType  65011 non-null  object\n",
      " 1   Gearbox      65011 non-null  object\n",
      " 2   Power        65011 non-null  int64 \n",
      " 3   Model        65011 non-null  object\n",
      " 4   Kilometer    65011 non-null  int64 \n",
      " 5   FuelType     65011 non-null  object\n",
      " 6   Brand        65011 non-null  object\n",
      " 7   Repaired     65011 non-null  object\n",
      " 8   Price        65011 non-null  int64 \n",
      " 9   AgeMonth     65011 non-null  int64 \n",
      "dtypes: int64(4), object(6)\n",
      "memory usage: 5.0+ MB\n",
      "None\n"
     ]
    },
    {
     "data": {
      "text/html": [
       "<div>\n",
       "<style scoped>\n",
       "    .dataframe tbody tr th:only-of-type {\n",
       "        vertical-align: middle;\n",
       "    }\n",
       "\n",
       "    .dataframe tbody tr th {\n",
       "        vertical-align: top;\n",
       "    }\n",
       "\n",
       "    .dataframe thead th {\n",
       "        text-align: right;\n",
       "    }\n",
       "</style>\n",
       "<table border=\"1\" class=\"dataframe\">\n",
       "  <thead>\n",
       "    <tr style=\"text-align: right;\">\n",
       "      <th></th>\n",
       "      <th>Power</th>\n",
       "      <th>Kilometer</th>\n",
       "      <th>Price</th>\n",
       "      <th>AgeMonth</th>\n",
       "    </tr>\n",
       "  </thead>\n",
       "  <tbody>\n",
       "    <tr>\n",
       "      <th>count</th>\n",
       "      <td>184634.000000</td>\n",
       "      <td>184634.000000</td>\n",
       "      <td>184634.000000</td>\n",
       "      <td>184634.000000</td>\n",
       "    </tr>\n",
       "    <tr>\n",
       "      <th>mean</th>\n",
       "      <td>122.717381</td>\n",
       "      <td>127316.068546</td>\n",
       "      <td>5078.953773</td>\n",
       "      <td>157.469621</td>\n",
       "    </tr>\n",
       "    <tr>\n",
       "      <th>std</th>\n",
       "      <td>54.382023</td>\n",
       "      <td>37065.443809</td>\n",
       "      <td>4669.801601</td>\n",
       "      <td>75.267220</td>\n",
       "    </tr>\n",
       "    <tr>\n",
       "      <th>min</th>\n",
       "      <td>40.000000</td>\n",
       "      <td>5000.000000</td>\n",
       "      <td>200.000000</td>\n",
       "      <td>1.000000</td>\n",
       "    </tr>\n",
       "    <tr>\n",
       "      <th>25%</th>\n",
       "      <td>82.000000</td>\n",
       "      <td>125000.000000</td>\n",
       "      <td>1499.000000</td>\n",
       "      <td>111.000000</td>\n",
       "    </tr>\n",
       "    <tr>\n",
       "      <th>50%</th>\n",
       "      <td>115.000000</td>\n",
       "      <td>150000.000000</td>\n",
       "      <td>3490.000000</td>\n",
       "      <td>159.000000</td>\n",
       "    </tr>\n",
       "    <tr>\n",
       "      <th>75%</th>\n",
       "      <td>150.000000</td>\n",
       "      <td>150000.000000</td>\n",
       "      <td>7350.000000</td>\n",
       "      <td>207.000000</td>\n",
       "    </tr>\n",
       "    <tr>\n",
       "      <th>max</th>\n",
       "      <td>1000.000000</td>\n",
       "      <td>150000.000000</td>\n",
       "      <td>20000.000000</td>\n",
       "      <td>676.000000</td>\n",
       "    </tr>\n",
       "  </tbody>\n",
       "</table>\n",
       "</div>"
      ],
      "text/plain": [
       "               Power      Kilometer          Price       AgeMonth\n",
       "count  184634.000000  184634.000000  184634.000000  184634.000000\n",
       "mean      122.717381  127316.068546    5078.953773     157.469621\n",
       "std        54.382023   37065.443809    4669.801601      75.267220\n",
       "min        40.000000    5000.000000     200.000000       1.000000\n",
       "25%        82.000000  125000.000000    1499.000000     111.000000\n",
       "50%       115.000000  150000.000000    3490.000000     159.000000\n",
       "75%       150.000000  150000.000000    7350.000000     207.000000\n",
       "max      1000.000000  150000.000000   20000.000000     676.000000"
      ]
     },
     "metadata": {},
     "output_type": "display_data"
    },
    {
     "data": {
      "text/html": [
       "<div>\n",
       "<style scoped>\n",
       "    .dataframe tbody tr th:only-of-type {\n",
       "        vertical-align: middle;\n",
       "    }\n",
       "\n",
       "    .dataframe tbody tr th {\n",
       "        vertical-align: top;\n",
       "    }\n",
       "\n",
       "    .dataframe thead th {\n",
       "        text-align: right;\n",
       "    }\n",
       "</style>\n",
       "<table border=\"1\" class=\"dataframe\">\n",
       "  <thead>\n",
       "    <tr style=\"text-align: right;\">\n",
       "      <th></th>\n",
       "      <th>Power</th>\n",
       "      <th>Kilometer</th>\n",
       "      <th>Price</th>\n",
       "      <th>AgeMonth</th>\n",
       "    </tr>\n",
       "  </thead>\n",
       "  <tbody>\n",
       "    <tr>\n",
       "      <th>count</th>\n",
       "      <td>65011.000000</td>\n",
       "      <td>65011.000000</td>\n",
       "      <td>65011.000000</td>\n",
       "      <td>65011.000000</td>\n",
       "    </tr>\n",
       "    <tr>\n",
       "      <th>mean</th>\n",
       "      <td>121.861777</td>\n",
       "      <td>128182.307609</td>\n",
       "      <td>4971.054099</td>\n",
       "      <td>158.957269</td>\n",
       "    </tr>\n",
       "    <tr>\n",
       "      <th>std</th>\n",
       "      <td>53.719449</td>\n",
       "      <td>36711.164974</td>\n",
       "      <td>4625.922677</td>\n",
       "      <td>74.543736</td>\n",
       "    </tr>\n",
       "    <tr>\n",
       "      <th>min</th>\n",
       "      <td>40.000000</td>\n",
       "      <td>5000.000000</td>\n",
       "      <td>200.000000</td>\n",
       "      <td>2.000000</td>\n",
       "    </tr>\n",
       "    <tr>\n",
       "      <th>25%</th>\n",
       "      <td>80.000000</td>\n",
       "      <td>125000.000000</td>\n",
       "      <td>1444.000000</td>\n",
       "      <td>111.000000</td>\n",
       "    </tr>\n",
       "    <tr>\n",
       "      <th>50%</th>\n",
       "      <td>115.000000</td>\n",
       "      <td>150000.000000</td>\n",
       "      <td>3300.000000</td>\n",
       "      <td>159.000000</td>\n",
       "    </tr>\n",
       "    <tr>\n",
       "      <th>75%</th>\n",
       "      <td>150.000000</td>\n",
       "      <td>150000.000000</td>\n",
       "      <td>7000.000000</td>\n",
       "      <td>207.000000</td>\n",
       "    </tr>\n",
       "    <tr>\n",
       "      <th>max</th>\n",
       "      <td>953.000000</td>\n",
       "      <td>150000.000000</td>\n",
       "      <td>20000.000000</td>\n",
       "      <td>676.000000</td>\n",
       "    </tr>\n",
       "  </tbody>\n",
       "</table>\n",
       "</div>"
      ],
      "text/plain": [
       "              Power      Kilometer         Price      AgeMonth\n",
       "count  65011.000000   65011.000000  65011.000000  65011.000000\n",
       "mean     121.861777  128182.307609   4971.054099    158.957269\n",
       "std       53.719449   36711.164974   4625.922677     74.543736\n",
       "min       40.000000    5000.000000    200.000000      2.000000\n",
       "25%       80.000000  125000.000000   1444.000000    111.000000\n",
       "50%      115.000000  150000.000000   3300.000000    159.000000\n",
       "75%      150.000000  150000.000000   7000.000000    207.000000\n",
       "max      953.000000  150000.000000  20000.000000    676.000000"
      ]
     },
     "metadata": {},
     "output_type": "display_data"
    }
   ],
   "source": [
    "display(\n",
    "    info_df(train),\n",
    "    info_df(test))"
   ]
  },
  {
   "cell_type": "code",
   "execution_count": 47,
   "metadata": {},
   "outputs": [],
   "source": [
    "# Посмотрим на уникальные значения в столбах, есть ли там опечатки\n",
    "def unique_df(df):\n",
    "    list_columns = df.columns.to_list()\n",
    "    for i in range(len(list_columns)):\n",
    "        if df[list_columns[i]].dtype == object:\n",
    "            print(f'{list_columns[i]}: {df[list_columns[i]].unique()}')"
   ]
  },
  {
   "cell_type": "code",
   "execution_count": 48,
   "metadata": {},
   "outputs": [
    {
     "name": "stdout",
     "output_type": "stream",
     "text": [
      "VehicleType: ['suv' 'small' 'sedan' 'convertible' 'bus' 'wagon' 'unknown' 'coupe'\n",
      " 'other']\n",
      "Gearbox: ['auto' 'manual' nan]\n",
      "Model: ['grand' 'golf' 'fabia' '3er' '2_reihe' 'c_max' '3_reihe' 'passat'\n",
      " 'navara' 'polo' 'twingo' 'a_klasse' 'scirocco' '5er' 'arosa' 'other'\n",
      " 'civic' 'transporter' 'punto' 'e_klasse' 'clio' 'kadett' 'one' 'fortwo'\n",
      " '1er' 'b_klasse' 'a8' 'jetta' 'fiesta' 'c_klasse' 'micra' 'vito'\n",
      " 'sprinter' '156' 'escort' 'forester' 'xc_reihe' 'scenic' 'ka' 'a1'\n",
      " 'focus' 'a4' 'tt' 'astra' 'a6' 'jazz' 'omega' 'slk' '7er' 'combo' 'corsa'\n",
      " '80' '147' 'z_reihe' 'sorento' 'ibiza' 'mustang' 'eos' 'touran' 'getz'\n",
      " 'insignia' 'almera' 'megane' 'a3' 'lupo' 'r19' 'caddy' 'mondeo' 'cordoba'\n",
      " 'colt' 'impreza' 'vectra' 'berlingo' 'tiguan' '6_reihe' 'c4' 'panda' 'up'\n",
      " 'i_reihe' 'ceed' 'kangoo' '5_reihe' 'yeti' 'octavia' 'zafira' 'mii'\n",
      " 'rx_reihe' '6er' 'modus' 'fox' 'matiz' 'beetle' 'rio' 'touareg' 'logan'\n",
      " 'spider' 'cuore' 's_max' 'a2' 'galaxy' 'c3' 'viano' 's_klasse' '1_reihe'\n",
      " 'sharan' 'avensis' 'roomster' 'sl' 'kaefer' 'santa' 'leon' 'cooper'\n",
      " '4_reihe' 'a5' 'sportage' 'laguna' 'ptcruiser' 'clk' 'primera' 'espace'\n",
      " 'exeo' '159' 'transit' 'juke' 'x_reihe' 'v40' 'carisma' 'accord'\n",
      " 'corolla' 'lanos' 'phaeton' 'verso' 'swift' 'rav' 'qashqai' 'picanto'\n",
      " 'boxster' 'superb' 'stilo' 'alhambra' 'roadster' 'ypsilon' 'galant'\n",
      " 'justy' '90' 'sirion' 'signum' 'crossfire' 'agila' 'duster' 'v50'\n",
      " 'mx_reihe' 'meriva' 'c_reihe' 'v_klasse' 'm_klasse' 'yaris' 'c5' 'aygo'\n",
      " 'cc' 'carnival' 'fusion' '911' 'bora' 'forfour' 'cl' 'tigra' '300c' '500'\n",
      " '100' 'cr_reihe' 'spark' 'kuga' 'x_type' 'ducato' 's_type' 'x_trail'\n",
      " 'toledo' 'altea' 'voyager' 'v70' 'bravo' 'tucson' 'c1' 'citigo' 'jimny'\n",
      " 'cayenne' 'wrangler' 'lybra' 'lancer' 'captiva' 'discovery' 'freelander'\n",
      " 'sandero' 'q7' 'note' 'seicento' 'antara' '900' 'cherokee' 'clubman'\n",
      " 'defender' 'cx_reihe' 'legacy' 'pajero' 'auris' 'c2' 'niva' 's60'\n",
      " 'm_reihe' 'nubira' 'vivaro' 'g_klasse' 'lodgy' 'range_rover' '850' 'q3'\n",
      " 'serie_2' 'calibra' 'glk' 'charade' 'croma' 'outlander' 'doblo' 'musa'\n",
      " '9000' 'kalos' 'v60' '200' '145' 'b_max' 'range_rover_sport' 'aveo'\n",
      " 'move' 'rangerover' 'q5' 'range_rover_evoque' 'materia' 'delta' 'terios'\n",
      " 'gl' 'kalina' 'elefantino' 'i3' 'samara' 'amarok' '601' 'kappa' 'serie_3']\n",
      "FuelType: ['gasoline' 'petrol' nan 'lpg' 'other' 'hybrid' 'cng' 'electric']\n",
      "Brand: ['jeep' 'volkswagen' 'skoda' 'bmw' 'peugeot' 'ford' 'mazda' 'nissan'\n",
      " 'renault' 'mercedes_benz' 'seat' 'honda' 'fiat' 'opel' 'mini' 'smart'\n",
      " 'hyundai' 'audi' 'alfa_romeo' 'subaru' 'volvo' 'mitsubishi' 'kia'\n",
      " 'suzuki' 'lancia' 'citroen' 'toyota' 'chevrolet' 'dacia' 'daihatsu'\n",
      " 'chrysler' 'jaguar' 'daewoo' 'rover' 'porsche' 'saab' 'land_rover'\n",
      " 'trabant' 'lada']\n",
      "Repaired: ['no' 'yes']\n"
     ]
    }
   ],
   "source": [
    "unique_df(filtred_data)"
   ]
  },
  {
   "cell_type": "code",
   "execution_count": 49,
   "metadata": {},
   "outputs": [],
   "source": [
    "target_train = train['Price']\n",
    "features_train = train.drop('Price', axis=1)\n",
    "\n",
    "target_test = test['Price']\n",
    "features_test = test.drop('Price', axis=1)"
   ]
  },
  {
   "cell_type": "markdown",
   "metadata": {},
   "source": [
    "**Выводы**\n",
    "\n",
    "1. Загрузили данные из датсета `/datasets/autos.csv`\n",
    "2. Провели предобработку данных, отделив важные признаки от несущественных, для определения цены автомобиля\n",
    "**Важные признаки:**\n",
    "- `VehicleType`\n",
    "- `AgeMonth`\n",
    "- `Gearbox`\n",
    "- `Power`\n",
    "- `Model`\n",
    "- `Kilometer`\n",
    "- `FuelType`\n",
    "- `Brand`\n",
    "- `Repaired`\n",
    "3. На основе гистограмм распределения удалил незначимые значения признаков, по разным порогам.\n",
    "4. Заполнили столбец `Gearbox` наиболее встречающийся тип коробки в модели.\n",
    "5. Пропуски в `FuelType` заменили на среднее по моделям.\n",
    "6. Пропуски в `Repaired` заменим на `no`, скорее всего если автомобиль не чинился, данный пункт не отмечали.\n",
    "7. Тип кузова может быть разный даже у одной марки и модели автомобиля, так что заполним пропуски в столбце `VehicleType` заглушкой `unknow`.\n",
    "8. Удалили полные дубликаты.\n",
    "9. Синтаксических ошибок в фреймах не обнаружено."
   ]
  },
  {
   "cell_type": "markdown",
   "metadata": {},
   "source": [
    "## Обучение моделей"
   ]
  },
  {
   "cell_type": "code",
   "execution_count": 50,
   "metadata": {},
   "outputs": [],
   "source": [
    "# создадим списки для энкондеров\n",
    "# создадим списки для энкондеров\n",
    "cat_columns = [\n",
    "    'VehicleType',\n",
    "    'FuelType',\n",
    "    'Brand',\n",
    "    'Model',\n",
    "    'Gearbox',\n",
    "    'Repaired'\n",
    "]\n",
    "num_columns = [\n",
    "    'Power',\n",
    "    'Kilometer',\n",
    "    'AgeMonth'\n",
    "]"
   ]
  },
  {
   "cell_type": "code",
   "execution_count": 51,
   "metadata": {},
   "outputs": [],
   "source": [
    "# Добавляем OHE-кодирование в пайплайн\n",
    "\n",
    "ohe_pipe = Pipeline([('ohe', OneHotEncoder(drop='first', handle_unknown='ignore', sparse_output=False))])"
   ]
  },
  {
   "cell_type": "code",
   "execution_count": 52,
   "metadata": {},
   "outputs": [],
   "source": [
    "# Добавляем Ordinal-кодирование в пайплайн\n",
    "ord_pipe = Pipeline(\n",
    "    [('ord', OrdinalEncoder(\n",
    "    handle_unknown='use_encoded_value', \n",
    "    unknown_value=np.nan))\n",
    "                    ]\n",
    "                   )"
   ]
  },
  {
   "cell_type": "code",
   "execution_count": 53,
   "metadata": {},
   "outputs": [],
   "source": [
    "# создадим препроессор, по обработке данных для LR\n",
    "data_preprocessor_LR = ColumnTransformer(\n",
    "    [\n",
    "        ('ohe', ohe_pipe, cat_columns),\n",
    "        ('num', StandardScaler(), num_columns)\n",
    "    ], \n",
    "    remainder='passthrough'\n",
    ")"
   ]
  },
  {
   "cell_type": "code",
   "execution_count": 54,
   "metadata": {},
   "outputs": [],
   "source": [
    "# создадим препроессор, по обработке данных для DTR\n",
    "data_preprocessor_DTR = ColumnTransformer(\n",
    "    [\n",
    "        ('ord', ord_pipe, cat_columns),\n",
    "        ('num', StandardScaler(), num_columns)\n",
    "    ], \n",
    "    remainder='passthrough'\n",
    ")"
   ]
  },
  {
   "cell_type": "code",
   "execution_count": 55,
   "metadata": {},
   "outputs": [],
   "source": [
    "# создадим финальный пайплайн LR\n",
    "pipe_final_LR = Pipeline([\n",
    "    ('preprocessor', data_preprocessor_LR),\n",
    "    ('models', LinearRegression())\n",
    "])"
   ]
  },
  {
   "cell_type": "code",
   "execution_count": 56,
   "metadata": {},
   "outputs": [],
   "source": [
    "# создадим финальный пайплайн DTR\n",
    "pipe_final_DTR = Pipeline([\n",
    "    ('preprocessor', data_preprocessor_DTR),\n",
    "    ('models', DecisionTreeRegressor(random_state=RANDOM_STATE))\n",
    "])"
   ]
  },
  {
   "cell_type": "code",
   "execution_count": 57,
   "metadata": {},
   "outputs": [],
   "source": [
    "# словарь для модели DecisionTreeRegressor()\n",
    "param_grid_DTR = [\n",
    "    {\n",
    "        'models': [DecisionTreeRegressor(random_state=RANDOM_STATE)],\n",
    "        'models__max_depth': range(2, 10),\n",
    "        'models__max_features': range(2, 10),\n",
    "        'preprocessor__num': [StandardScaler(), RobustScaler(), 'passthrough']  \n",
    "    }\n",
    "]"
   ]
  },
  {
   "cell_type": "code",
   "execution_count": 58,
   "metadata": {},
   "outputs": [],
   "source": [
    "# словарь для модели LinearRegression()\n",
    "param_grid_LR = [\n",
    "    {\n",
    "        'models': [LinearRegression()],\n",
    "        'preprocessor__num': [StandardScaler(), RobustScaler(), 'passthrough']  \n",
    "    }\n",
    "]"
   ]
  },
  {
   "cell_type": "markdown",
   "metadata": {},
   "source": [
    "Подготовим три типа признаков для кроссвалидации:\n",
    "\n",
    "- Неизмененные. Название original_features.\n",
    "- Закодированные методом OHE. Название ohe_features.\n",
    "- Закодированные методом ORD. Название ordinal_features."
   ]
  },
  {
   "cell_type": "markdown",
   "metadata": {},
   "source": [
    "### Линейная регрессия"
   ]
  },
  {
   "cell_type": "code",
   "execution_count": 59,
   "metadata": {},
   "outputs": [],
   "source": [
    "grided_search_LR = GridSearchCV(\n",
    "    pipe_final_LR, \n",
    "    param_grid_LR, \n",
    "    cv=5,\n",
    "    scoring='neg_mean_squared_error',\n",
    "    n_jobs=-1\n",
    ")"
   ]
  },
  {
   "cell_type": "code",
   "execution_count": 60,
   "metadata": {},
   "outputs": [
    {
     "name": "stderr",
     "output_type": "stream",
     "text": [
      "/opt/conda/lib/python3.9/site-packages/sklearn/preprocessing/_encoders.py:241: UserWarning: Found unknown categories in columns [3] during transform. These unknown categories will be encoded as all zeros\n",
      "  warnings.warn(\n",
      "/opt/conda/lib/python3.9/site-packages/sklearn/preprocessing/_encoders.py:241: UserWarning: Found unknown categories in columns [3] during transform. These unknown categories will be encoded as all zeros\n",
      "  warnings.warn(\n",
      "/opt/conda/lib/python3.9/site-packages/sklearn/preprocessing/_encoders.py:241: UserWarning: Found unknown categories in columns [3] during transform. These unknown categories will be encoded as all zeros\n",
      "  warnings.warn(\n",
      "/opt/conda/lib/python3.9/site-packages/sklearn/preprocessing/_encoders.py:241: UserWarning: Found unknown categories in columns [3] during transform. These unknown categories will be encoded as all zeros\n",
      "  warnings.warn(\n",
      "/opt/conda/lib/python3.9/site-packages/sklearn/preprocessing/_encoders.py:241: UserWarning: Found unknown categories in columns [3] during transform. These unknown categories will be encoded as all zeros\n",
      "  warnings.warn(\n",
      "/opt/conda/lib/python3.9/site-packages/sklearn/preprocessing/_encoders.py:241: UserWarning: Found unknown categories in columns [3] during transform. These unknown categories will be encoded as all zeros\n",
      "  warnings.warn(\n"
     ]
    },
    {
     "data": {
      "text/html": [
       "<style>#sk-container-id-1 {\n",
       "  /* Definition of color scheme common for light and dark mode */\n",
       "  --sklearn-color-text: black;\n",
       "  --sklearn-color-line: gray;\n",
       "  /* Definition of color scheme for unfitted estimators */\n",
       "  --sklearn-color-unfitted-level-0: #fff5e6;\n",
       "  --sklearn-color-unfitted-level-1: #f6e4d2;\n",
       "  --sklearn-color-unfitted-level-2: #ffe0b3;\n",
       "  --sklearn-color-unfitted-level-3: chocolate;\n",
       "  /* Definition of color scheme for fitted estimators */\n",
       "  --sklearn-color-fitted-level-0: #f0f8ff;\n",
       "  --sklearn-color-fitted-level-1: #d4ebff;\n",
       "  --sklearn-color-fitted-level-2: #b3dbfd;\n",
       "  --sklearn-color-fitted-level-3: cornflowerblue;\n",
       "\n",
       "  /* Specific color for light theme */\n",
       "  --sklearn-color-text-on-default-background: var(--sg-text-color, var(--theme-code-foreground, var(--jp-content-font-color1, black)));\n",
       "  --sklearn-color-background: var(--sg-background-color, var(--theme-background, var(--jp-layout-color0, white)));\n",
       "  --sklearn-color-border-box: var(--sg-text-color, var(--theme-code-foreground, var(--jp-content-font-color1, black)));\n",
       "  --sklearn-color-icon: #696969;\n",
       "\n",
       "  @media (prefers-color-scheme: dark) {\n",
       "    /* Redefinition of color scheme for dark theme */\n",
       "    --sklearn-color-text-on-default-background: var(--sg-text-color, var(--theme-code-foreground, var(--jp-content-font-color1, white)));\n",
       "    --sklearn-color-background: var(--sg-background-color, var(--theme-background, var(--jp-layout-color0, #111)));\n",
       "    --sklearn-color-border-box: var(--sg-text-color, var(--theme-code-foreground, var(--jp-content-font-color1, white)));\n",
       "    --sklearn-color-icon: #878787;\n",
       "  }\n",
       "}\n",
       "\n",
       "#sk-container-id-1 {\n",
       "  color: var(--sklearn-color-text);\n",
       "}\n",
       "\n",
       "#sk-container-id-1 pre {\n",
       "  padding: 0;\n",
       "}\n",
       "\n",
       "#sk-container-id-1 input.sk-hidden--visually {\n",
       "  border: 0;\n",
       "  clip: rect(1px 1px 1px 1px);\n",
       "  clip: rect(1px, 1px, 1px, 1px);\n",
       "  height: 1px;\n",
       "  margin: -1px;\n",
       "  overflow: hidden;\n",
       "  padding: 0;\n",
       "  position: absolute;\n",
       "  width: 1px;\n",
       "}\n",
       "\n",
       "#sk-container-id-1 div.sk-dashed-wrapped {\n",
       "  border: 1px dashed var(--sklearn-color-line);\n",
       "  margin: 0 0.4em 0.5em 0.4em;\n",
       "  box-sizing: border-box;\n",
       "  padding-bottom: 0.4em;\n",
       "  background-color: var(--sklearn-color-background);\n",
       "}\n",
       "\n",
       "#sk-container-id-1 div.sk-container {\n",
       "  /* jupyter's `normalize.less` sets `[hidden] { display: none; }`\n",
       "     but bootstrap.min.css set `[hidden] { display: none !important; }`\n",
       "     so we also need the `!important` here to be able to override the\n",
       "     default hidden behavior on the sphinx rendered scikit-learn.org.\n",
       "     See: https://github.com/scikit-learn/scikit-learn/issues/21755 */\n",
       "  display: inline-block !important;\n",
       "  position: relative;\n",
       "}\n",
       "\n",
       "#sk-container-id-1 div.sk-text-repr-fallback {\n",
       "  display: none;\n",
       "}\n",
       "\n",
       "div.sk-parallel-item,\n",
       "div.sk-serial,\n",
       "div.sk-item {\n",
       "  /* draw centered vertical line to link estimators */\n",
       "  background-image: linear-gradient(var(--sklearn-color-text-on-default-background), var(--sklearn-color-text-on-default-background));\n",
       "  background-size: 2px 100%;\n",
       "  background-repeat: no-repeat;\n",
       "  background-position: center center;\n",
       "}\n",
       "\n",
       "/* Parallel-specific style estimator block */\n",
       "\n",
       "#sk-container-id-1 div.sk-parallel-item::after {\n",
       "  content: \"\";\n",
       "  width: 100%;\n",
       "  border-bottom: 2px solid var(--sklearn-color-text-on-default-background);\n",
       "  flex-grow: 1;\n",
       "}\n",
       "\n",
       "#sk-container-id-1 div.sk-parallel {\n",
       "  display: flex;\n",
       "  align-items: stretch;\n",
       "  justify-content: center;\n",
       "  background-color: var(--sklearn-color-background);\n",
       "  position: relative;\n",
       "}\n",
       "\n",
       "#sk-container-id-1 div.sk-parallel-item {\n",
       "  display: flex;\n",
       "  flex-direction: column;\n",
       "}\n",
       "\n",
       "#sk-container-id-1 div.sk-parallel-item:first-child::after {\n",
       "  align-self: flex-end;\n",
       "  width: 50%;\n",
       "}\n",
       "\n",
       "#sk-container-id-1 div.sk-parallel-item:last-child::after {\n",
       "  align-self: flex-start;\n",
       "  width: 50%;\n",
       "}\n",
       "\n",
       "#sk-container-id-1 div.sk-parallel-item:only-child::after {\n",
       "  width: 0;\n",
       "}\n",
       "\n",
       "/* Serial-specific style estimator block */\n",
       "\n",
       "#sk-container-id-1 div.sk-serial {\n",
       "  display: flex;\n",
       "  flex-direction: column;\n",
       "  align-items: center;\n",
       "  background-color: var(--sklearn-color-background);\n",
       "  padding-right: 1em;\n",
       "  padding-left: 1em;\n",
       "}\n",
       "\n",
       "\n",
       "/* Toggleable style: style used for estimator/Pipeline/ColumnTransformer box that is\n",
       "clickable and can be expanded/collapsed.\n",
       "- Pipeline and ColumnTransformer use this feature and define the default style\n",
       "- Estimators will overwrite some part of the style using the `sk-estimator` class\n",
       "*/\n",
       "\n",
       "/* Pipeline and ColumnTransformer style (default) */\n",
       "\n",
       "#sk-container-id-1 div.sk-toggleable {\n",
       "  /* Default theme specific background. It is overwritten whether we have a\n",
       "  specific estimator or a Pipeline/ColumnTransformer */\n",
       "  background-color: var(--sklearn-color-background);\n",
       "}\n",
       "\n",
       "/* Toggleable label */\n",
       "#sk-container-id-1 label.sk-toggleable__label {\n",
       "  cursor: pointer;\n",
       "  display: block;\n",
       "  width: 100%;\n",
       "  margin-bottom: 0;\n",
       "  padding: 0.5em;\n",
       "  box-sizing: border-box;\n",
       "  text-align: center;\n",
       "}\n",
       "\n",
       "#sk-container-id-1 label.sk-toggleable__label-arrow:before {\n",
       "  /* Arrow on the left of the label */\n",
       "  content: \"▸\";\n",
       "  float: left;\n",
       "  margin-right: 0.25em;\n",
       "  color: var(--sklearn-color-icon);\n",
       "}\n",
       "\n",
       "#sk-container-id-1 label.sk-toggleable__label-arrow:hover:before {\n",
       "  color: var(--sklearn-color-text);\n",
       "}\n",
       "\n",
       "/* Toggleable content - dropdown */\n",
       "\n",
       "#sk-container-id-1 div.sk-toggleable__content {\n",
       "  max-height: 0;\n",
       "  max-width: 0;\n",
       "  overflow: hidden;\n",
       "  text-align: left;\n",
       "  /* unfitted */\n",
       "  background-color: var(--sklearn-color-unfitted-level-0);\n",
       "}\n",
       "\n",
       "#sk-container-id-1 div.sk-toggleable__content.fitted {\n",
       "  /* fitted */\n",
       "  background-color: var(--sklearn-color-fitted-level-0);\n",
       "}\n",
       "\n",
       "#sk-container-id-1 div.sk-toggleable__content pre {\n",
       "  margin: 0.2em;\n",
       "  border-radius: 0.25em;\n",
       "  color: var(--sklearn-color-text);\n",
       "  /* unfitted */\n",
       "  background-color: var(--sklearn-color-unfitted-level-0);\n",
       "}\n",
       "\n",
       "#sk-container-id-1 div.sk-toggleable__content.fitted pre {\n",
       "  /* unfitted */\n",
       "  background-color: var(--sklearn-color-fitted-level-0);\n",
       "}\n",
       "\n",
       "#sk-container-id-1 input.sk-toggleable__control:checked~div.sk-toggleable__content {\n",
       "  /* Expand drop-down */\n",
       "  max-height: 200px;\n",
       "  max-width: 100%;\n",
       "  overflow: auto;\n",
       "}\n",
       "\n",
       "#sk-container-id-1 input.sk-toggleable__control:checked~label.sk-toggleable__label-arrow:before {\n",
       "  content: \"▾\";\n",
       "}\n",
       "\n",
       "/* Pipeline/ColumnTransformer-specific style */\n",
       "\n",
       "#sk-container-id-1 div.sk-label input.sk-toggleable__control:checked~label.sk-toggleable__label {\n",
       "  color: var(--sklearn-color-text);\n",
       "  background-color: var(--sklearn-color-unfitted-level-2);\n",
       "}\n",
       "\n",
       "#sk-container-id-1 div.sk-label.fitted input.sk-toggleable__control:checked~label.sk-toggleable__label {\n",
       "  background-color: var(--sklearn-color-fitted-level-2);\n",
       "}\n",
       "\n",
       "/* Estimator-specific style */\n",
       "\n",
       "/* Colorize estimator box */\n",
       "#sk-container-id-1 div.sk-estimator input.sk-toggleable__control:checked~label.sk-toggleable__label {\n",
       "  /* unfitted */\n",
       "  background-color: var(--sklearn-color-unfitted-level-2);\n",
       "}\n",
       "\n",
       "#sk-container-id-1 div.sk-estimator.fitted input.sk-toggleable__control:checked~label.sk-toggleable__label {\n",
       "  /* fitted */\n",
       "  background-color: var(--sklearn-color-fitted-level-2);\n",
       "}\n",
       "\n",
       "#sk-container-id-1 div.sk-label label.sk-toggleable__label,\n",
       "#sk-container-id-1 div.sk-label label {\n",
       "  /* The background is the default theme color */\n",
       "  color: var(--sklearn-color-text-on-default-background);\n",
       "}\n",
       "\n",
       "/* On hover, darken the color of the background */\n",
       "#sk-container-id-1 div.sk-label:hover label.sk-toggleable__label {\n",
       "  color: var(--sklearn-color-text);\n",
       "  background-color: var(--sklearn-color-unfitted-level-2);\n",
       "}\n",
       "\n",
       "/* Label box, darken color on hover, fitted */\n",
       "#sk-container-id-1 div.sk-label.fitted:hover label.sk-toggleable__label.fitted {\n",
       "  color: var(--sklearn-color-text);\n",
       "  background-color: var(--sklearn-color-fitted-level-2);\n",
       "}\n",
       "\n",
       "/* Estimator label */\n",
       "\n",
       "#sk-container-id-1 div.sk-label label {\n",
       "  font-family: monospace;\n",
       "  font-weight: bold;\n",
       "  display: inline-block;\n",
       "  line-height: 1.2em;\n",
       "}\n",
       "\n",
       "#sk-container-id-1 div.sk-label-container {\n",
       "  text-align: center;\n",
       "}\n",
       "\n",
       "/* Estimator-specific */\n",
       "#sk-container-id-1 div.sk-estimator {\n",
       "  font-family: monospace;\n",
       "  border: 1px dotted var(--sklearn-color-border-box);\n",
       "  border-radius: 0.25em;\n",
       "  box-sizing: border-box;\n",
       "  margin-bottom: 0.5em;\n",
       "  /* unfitted */\n",
       "  background-color: var(--sklearn-color-unfitted-level-0);\n",
       "}\n",
       "\n",
       "#sk-container-id-1 div.sk-estimator.fitted {\n",
       "  /* fitted */\n",
       "  background-color: var(--sklearn-color-fitted-level-0);\n",
       "}\n",
       "\n",
       "/* on hover */\n",
       "#sk-container-id-1 div.sk-estimator:hover {\n",
       "  /* unfitted */\n",
       "  background-color: var(--sklearn-color-unfitted-level-2);\n",
       "}\n",
       "\n",
       "#sk-container-id-1 div.sk-estimator.fitted:hover {\n",
       "  /* fitted */\n",
       "  background-color: var(--sklearn-color-fitted-level-2);\n",
       "}\n",
       "\n",
       "/* Specification for estimator info (e.g. \"i\" and \"?\") */\n",
       "\n",
       "/* Common style for \"i\" and \"?\" */\n",
       "\n",
       ".sk-estimator-doc-link,\n",
       "a:link.sk-estimator-doc-link,\n",
       "a:visited.sk-estimator-doc-link {\n",
       "  float: right;\n",
       "  font-size: smaller;\n",
       "  line-height: 1em;\n",
       "  font-family: monospace;\n",
       "  background-color: var(--sklearn-color-background);\n",
       "  border-radius: 1em;\n",
       "  height: 1em;\n",
       "  width: 1em;\n",
       "  text-decoration: none !important;\n",
       "  margin-left: 1ex;\n",
       "  /* unfitted */\n",
       "  border: var(--sklearn-color-unfitted-level-1) 1pt solid;\n",
       "  color: var(--sklearn-color-unfitted-level-1);\n",
       "}\n",
       "\n",
       ".sk-estimator-doc-link.fitted,\n",
       "a:link.sk-estimator-doc-link.fitted,\n",
       "a:visited.sk-estimator-doc-link.fitted {\n",
       "  /* fitted */\n",
       "  border: var(--sklearn-color-fitted-level-1) 1pt solid;\n",
       "  color: var(--sklearn-color-fitted-level-1);\n",
       "}\n",
       "\n",
       "/* On hover */\n",
       "div.sk-estimator:hover .sk-estimator-doc-link:hover,\n",
       ".sk-estimator-doc-link:hover,\n",
       "div.sk-label-container:hover .sk-estimator-doc-link:hover,\n",
       ".sk-estimator-doc-link:hover {\n",
       "  /* unfitted */\n",
       "  background-color: var(--sklearn-color-unfitted-level-3);\n",
       "  color: var(--sklearn-color-background);\n",
       "  text-decoration: none;\n",
       "}\n",
       "\n",
       "div.sk-estimator.fitted:hover .sk-estimator-doc-link.fitted:hover,\n",
       ".sk-estimator-doc-link.fitted:hover,\n",
       "div.sk-label-container:hover .sk-estimator-doc-link.fitted:hover,\n",
       ".sk-estimator-doc-link.fitted:hover {\n",
       "  /* fitted */\n",
       "  background-color: var(--sklearn-color-fitted-level-3);\n",
       "  color: var(--sklearn-color-background);\n",
       "  text-decoration: none;\n",
       "}\n",
       "\n",
       "/* Span, style for the box shown on hovering the info icon */\n",
       ".sk-estimator-doc-link span {\n",
       "  display: none;\n",
       "  z-index: 9999;\n",
       "  position: relative;\n",
       "  font-weight: normal;\n",
       "  right: .2ex;\n",
       "  padding: .5ex;\n",
       "  margin: .5ex;\n",
       "  width: min-content;\n",
       "  min-width: 20ex;\n",
       "  max-width: 50ex;\n",
       "  color: var(--sklearn-color-text);\n",
       "  box-shadow: 2pt 2pt 4pt #999;\n",
       "  /* unfitted */\n",
       "  background: var(--sklearn-color-unfitted-level-0);\n",
       "  border: .5pt solid var(--sklearn-color-unfitted-level-3);\n",
       "}\n",
       "\n",
       ".sk-estimator-doc-link.fitted span {\n",
       "  /* fitted */\n",
       "  background: var(--sklearn-color-fitted-level-0);\n",
       "  border: var(--sklearn-color-fitted-level-3);\n",
       "}\n",
       "\n",
       ".sk-estimator-doc-link:hover span {\n",
       "  display: block;\n",
       "}\n",
       "\n",
       "/* \"?\"-specific style due to the `<a>` HTML tag */\n",
       "\n",
       "#sk-container-id-1 a.estimator_doc_link {\n",
       "  float: right;\n",
       "  font-size: 1rem;\n",
       "  line-height: 1em;\n",
       "  font-family: monospace;\n",
       "  background-color: var(--sklearn-color-background);\n",
       "  border-radius: 1rem;\n",
       "  height: 1rem;\n",
       "  width: 1rem;\n",
       "  text-decoration: none;\n",
       "  /* unfitted */\n",
       "  color: var(--sklearn-color-unfitted-level-1);\n",
       "  border: var(--sklearn-color-unfitted-level-1) 1pt solid;\n",
       "}\n",
       "\n",
       "#sk-container-id-1 a.estimator_doc_link.fitted {\n",
       "  /* fitted */\n",
       "  border: var(--sklearn-color-fitted-level-1) 1pt solid;\n",
       "  color: var(--sklearn-color-fitted-level-1);\n",
       "}\n",
       "\n",
       "/* On hover */\n",
       "#sk-container-id-1 a.estimator_doc_link:hover {\n",
       "  /* unfitted */\n",
       "  background-color: var(--sklearn-color-unfitted-level-3);\n",
       "  color: var(--sklearn-color-background);\n",
       "  text-decoration: none;\n",
       "}\n",
       "\n",
       "#sk-container-id-1 a.estimator_doc_link.fitted:hover {\n",
       "  /* fitted */\n",
       "  background-color: var(--sklearn-color-fitted-level-3);\n",
       "}\n",
       "</style><div id=\"sk-container-id-1\" class=\"sk-top-container\"><div class=\"sk-text-repr-fallback\"><pre>GridSearchCV(cv=5,\n",
       "             estimator=Pipeline(steps=[(&#x27;preprocessor&#x27;,\n",
       "                                        ColumnTransformer(remainder=&#x27;passthrough&#x27;,\n",
       "                                                          transformers=[(&#x27;ohe&#x27;,\n",
       "                                                                         Pipeline(steps=[(&#x27;ohe&#x27;,\n",
       "                                                                                          OneHotEncoder(drop=&#x27;first&#x27;,\n",
       "                                                                                                        handle_unknown=&#x27;ignore&#x27;,\n",
       "                                                                                                        sparse_output=False))]),\n",
       "                                                                         [&#x27;VehicleType&#x27;,\n",
       "                                                                          &#x27;FuelType&#x27;,\n",
       "                                                                          &#x27;Brand&#x27;,\n",
       "                                                                          &#x27;Model&#x27;,\n",
       "                                                                          &#x27;Gearbox&#x27;,\n",
       "                                                                          &#x27;Repaired&#x27;]),\n",
       "                                                                        (&#x27;num&#x27;,\n",
       "                                                                         StandardScaler(),\n",
       "                                                                         [&#x27;Power&#x27;,\n",
       "                                                                          &#x27;Kilometer&#x27;,\n",
       "                                                                          &#x27;AgeMonth&#x27;])])),\n",
       "                                       (&#x27;models&#x27;, LinearRegression())]),\n",
       "             n_jobs=-1,\n",
       "             param_grid=[{&#x27;models&#x27;: [LinearRegression()],\n",
       "                          &#x27;preprocessor__num&#x27;: [StandardScaler(),\n",
       "                                                RobustScaler(),\n",
       "                                                &#x27;passthrough&#x27;]}],\n",
       "             scoring=&#x27;neg_mean_squared_error&#x27;)</pre><b>In a Jupyter environment, please rerun this cell to show the HTML representation or trust the notebook. <br />On GitHub, the HTML representation is unable to render, please try loading this page with nbviewer.org.</b></div><div class=\"sk-container\" hidden><div class=\"sk-item sk-dashed-wrapped\"><div class=\"sk-label-container\"><div class=\"sk-label fitted sk-toggleable\"><input class=\"sk-toggleable__control sk-hidden--visually\" id=\"sk-estimator-id-1\" type=\"checkbox\" ><label for=\"sk-estimator-id-1\" class=\"sk-toggleable__label fitted sk-toggleable__label-arrow fitted\">&nbsp;&nbsp;GridSearchCV<a class=\"sk-estimator-doc-link fitted\" rel=\"noreferrer\" target=\"_blank\" href=\"https://scikit-learn.org/1.4/modules/generated/sklearn.model_selection.GridSearchCV.html\">?<span>Documentation for GridSearchCV</span></a><span class=\"sk-estimator-doc-link fitted\">i<span>Fitted</span></span></label><div class=\"sk-toggleable__content fitted\"><pre>GridSearchCV(cv=5,\n",
       "             estimator=Pipeline(steps=[(&#x27;preprocessor&#x27;,\n",
       "                                        ColumnTransformer(remainder=&#x27;passthrough&#x27;,\n",
       "                                                          transformers=[(&#x27;ohe&#x27;,\n",
       "                                                                         Pipeline(steps=[(&#x27;ohe&#x27;,\n",
       "                                                                                          OneHotEncoder(drop=&#x27;first&#x27;,\n",
       "                                                                                                        handle_unknown=&#x27;ignore&#x27;,\n",
       "                                                                                                        sparse_output=False))]),\n",
       "                                                                         [&#x27;VehicleType&#x27;,\n",
       "                                                                          &#x27;FuelType&#x27;,\n",
       "                                                                          &#x27;Brand&#x27;,\n",
       "                                                                          &#x27;Model&#x27;,\n",
       "                                                                          &#x27;Gearbox&#x27;,\n",
       "                                                                          &#x27;Repaired&#x27;]),\n",
       "                                                                        (&#x27;num&#x27;,\n",
       "                                                                         StandardScaler(),\n",
       "                                                                         [&#x27;Power&#x27;,\n",
       "                                                                          &#x27;Kilometer&#x27;,\n",
       "                                                                          &#x27;AgeMonth&#x27;])])),\n",
       "                                       (&#x27;models&#x27;, LinearRegression())]),\n",
       "             n_jobs=-1,\n",
       "             param_grid=[{&#x27;models&#x27;: [LinearRegression()],\n",
       "                          &#x27;preprocessor__num&#x27;: [StandardScaler(),\n",
       "                                                RobustScaler(),\n",
       "                                                &#x27;passthrough&#x27;]}],\n",
       "             scoring=&#x27;neg_mean_squared_error&#x27;)</pre></div> </div></div><div class=\"sk-parallel\"><div class=\"sk-parallel-item\"><div class=\"sk-item\"><div class=\"sk-label-container\"><div class=\"sk-label fitted sk-toggleable\"><input class=\"sk-toggleable__control sk-hidden--visually\" id=\"sk-estimator-id-2\" type=\"checkbox\" ><label for=\"sk-estimator-id-2\" class=\"sk-toggleable__label fitted sk-toggleable__label-arrow fitted\">estimator: Pipeline</label><div class=\"sk-toggleable__content fitted\"><pre>Pipeline(steps=[(&#x27;preprocessor&#x27;,\n",
       "                 ColumnTransformer(remainder=&#x27;passthrough&#x27;,\n",
       "                                   transformers=[(&#x27;ohe&#x27;,\n",
       "                                                  Pipeline(steps=[(&#x27;ohe&#x27;,\n",
       "                                                                   OneHotEncoder(drop=&#x27;first&#x27;,\n",
       "                                                                                 handle_unknown=&#x27;ignore&#x27;,\n",
       "                                                                                 sparse_output=False))]),\n",
       "                                                  [&#x27;VehicleType&#x27;, &#x27;FuelType&#x27;,\n",
       "                                                   &#x27;Brand&#x27;, &#x27;Model&#x27;, &#x27;Gearbox&#x27;,\n",
       "                                                   &#x27;Repaired&#x27;]),\n",
       "                                                 (&#x27;num&#x27;, StandardScaler(),\n",
       "                                                  [&#x27;Power&#x27;, &#x27;Kilometer&#x27;,\n",
       "                                                   &#x27;AgeMonth&#x27;])])),\n",
       "                (&#x27;models&#x27;, LinearRegression())])</pre></div> </div></div><div class=\"sk-serial\"><div class=\"sk-item\"><div class=\"sk-serial\"><div class=\"sk-item sk-dashed-wrapped\"><div class=\"sk-label-container\"><div class=\"sk-label fitted sk-toggleable\"><input class=\"sk-toggleable__control sk-hidden--visually\" id=\"sk-estimator-id-3\" type=\"checkbox\" ><label for=\"sk-estimator-id-3\" class=\"sk-toggleable__label fitted sk-toggleable__label-arrow fitted\">&nbsp;preprocessor: ColumnTransformer<a class=\"sk-estimator-doc-link fitted\" rel=\"noreferrer\" target=\"_blank\" href=\"https://scikit-learn.org/1.4/modules/generated/sklearn.compose.ColumnTransformer.html\">?<span>Documentation for preprocessor: ColumnTransformer</span></a></label><div class=\"sk-toggleable__content fitted\"><pre>ColumnTransformer(remainder=&#x27;passthrough&#x27;,\n",
       "                  transformers=[(&#x27;ohe&#x27;,\n",
       "                                 Pipeline(steps=[(&#x27;ohe&#x27;,\n",
       "                                                  OneHotEncoder(drop=&#x27;first&#x27;,\n",
       "                                                                handle_unknown=&#x27;ignore&#x27;,\n",
       "                                                                sparse_output=False))]),\n",
       "                                 [&#x27;VehicleType&#x27;, &#x27;FuelType&#x27;, &#x27;Brand&#x27;, &#x27;Model&#x27;,\n",
       "                                  &#x27;Gearbox&#x27;, &#x27;Repaired&#x27;]),\n",
       "                                (&#x27;num&#x27;, StandardScaler(),\n",
       "                                 [&#x27;Power&#x27;, &#x27;Kilometer&#x27;, &#x27;AgeMonth&#x27;])])</pre></div> </div></div><div class=\"sk-parallel\"><div class=\"sk-parallel-item\"><div class=\"sk-item\"><div class=\"sk-label-container\"><div class=\"sk-label fitted sk-toggleable\"><input class=\"sk-toggleable__control sk-hidden--visually\" id=\"sk-estimator-id-4\" type=\"checkbox\" ><label for=\"sk-estimator-id-4\" class=\"sk-toggleable__label fitted sk-toggleable__label-arrow fitted\">ohe</label><div class=\"sk-toggleable__content fitted\"><pre>[&#x27;VehicleType&#x27;, &#x27;FuelType&#x27;, &#x27;Brand&#x27;, &#x27;Model&#x27;, &#x27;Gearbox&#x27;, &#x27;Repaired&#x27;]</pre></div> </div></div><div class=\"sk-serial\"><div class=\"sk-item\"><div class=\"sk-serial\"><div class=\"sk-item\"><div class=\"sk-estimator fitted sk-toggleable\"><input class=\"sk-toggleable__control sk-hidden--visually\" id=\"sk-estimator-id-5\" type=\"checkbox\" ><label for=\"sk-estimator-id-5\" class=\"sk-toggleable__label fitted sk-toggleable__label-arrow fitted\">&nbsp;OneHotEncoder<a class=\"sk-estimator-doc-link fitted\" rel=\"noreferrer\" target=\"_blank\" href=\"https://scikit-learn.org/1.4/modules/generated/sklearn.preprocessing.OneHotEncoder.html\">?<span>Documentation for OneHotEncoder</span></a></label><div class=\"sk-toggleable__content fitted\"><pre>OneHotEncoder(drop=&#x27;first&#x27;, handle_unknown=&#x27;ignore&#x27;, sparse_output=False)</pre></div> </div></div></div></div></div></div></div><div class=\"sk-parallel-item\"><div class=\"sk-item\"><div class=\"sk-label-container\"><div class=\"sk-label fitted sk-toggleable\"><input class=\"sk-toggleable__control sk-hidden--visually\" id=\"sk-estimator-id-6\" type=\"checkbox\" ><label for=\"sk-estimator-id-6\" class=\"sk-toggleable__label fitted sk-toggleable__label-arrow fitted\">num</label><div class=\"sk-toggleable__content fitted\"><pre>[&#x27;Power&#x27;, &#x27;Kilometer&#x27;, &#x27;AgeMonth&#x27;]</pre></div> </div></div><div class=\"sk-serial\"><div class=\"sk-item\"><div class=\"sk-estimator fitted sk-toggleable\"><input class=\"sk-toggleable__control sk-hidden--visually\" id=\"sk-estimator-id-7\" type=\"checkbox\" ><label for=\"sk-estimator-id-7\" class=\"sk-toggleable__label fitted sk-toggleable__label-arrow fitted\">&nbsp;StandardScaler<a class=\"sk-estimator-doc-link fitted\" rel=\"noreferrer\" target=\"_blank\" href=\"https://scikit-learn.org/1.4/modules/generated/sklearn.preprocessing.StandardScaler.html\">?<span>Documentation for StandardScaler</span></a></label><div class=\"sk-toggleable__content fitted\"><pre>StandardScaler()</pre></div> </div></div></div></div></div><div class=\"sk-parallel-item\"><div class=\"sk-item\"><div class=\"sk-label-container\"><div class=\"sk-label fitted sk-toggleable\"><input class=\"sk-toggleable__control sk-hidden--visually\" id=\"sk-estimator-id-8\" type=\"checkbox\" ><label for=\"sk-estimator-id-8\" class=\"sk-toggleable__label fitted sk-toggleable__label-arrow fitted\">remainder</label><div class=\"sk-toggleable__content fitted\"><pre></pre></div> </div></div><div class=\"sk-serial\"><div class=\"sk-item\"><div class=\"sk-estimator fitted sk-toggleable\"><input class=\"sk-toggleable__control sk-hidden--visually\" id=\"sk-estimator-id-9\" type=\"checkbox\" ><label for=\"sk-estimator-id-9\" class=\"sk-toggleable__label fitted sk-toggleable__label-arrow fitted\">passthrough</label><div class=\"sk-toggleable__content fitted\"><pre>passthrough</pre></div> </div></div></div></div></div></div></div><div class=\"sk-item\"><div class=\"sk-estimator fitted sk-toggleable\"><input class=\"sk-toggleable__control sk-hidden--visually\" id=\"sk-estimator-id-10\" type=\"checkbox\" ><label for=\"sk-estimator-id-10\" class=\"sk-toggleable__label fitted sk-toggleable__label-arrow fitted\">&nbsp;LinearRegression<a class=\"sk-estimator-doc-link fitted\" rel=\"noreferrer\" target=\"_blank\" href=\"https://scikit-learn.org/1.4/modules/generated/sklearn.linear_model.LinearRegression.html\">?<span>Documentation for LinearRegression</span></a></label><div class=\"sk-toggleable__content fitted\"><pre>LinearRegression()</pre></div> </div></div></div></div></div></div></div></div></div></div></div>"
      ],
      "text/plain": [
       "GridSearchCV(cv=5,\n",
       "             estimator=Pipeline(steps=[('preprocessor',\n",
       "                                        ColumnTransformer(remainder='passthrough',\n",
       "                                                          transformers=[('ohe',\n",
       "                                                                         Pipeline(steps=[('ohe',\n",
       "                                                                                          OneHotEncoder(drop='first',\n",
       "                                                                                                        handle_unknown='ignore',\n",
       "                                                                                                        sparse_output=False))]),\n",
       "                                                                         ['VehicleType',\n",
       "                                                                          'FuelType',\n",
       "                                                                          'Brand',\n",
       "                                                                          'Model',\n",
       "                                                                          'Gearbox',\n",
       "                                                                          'Repaired']),\n",
       "                                                                        ('num',\n",
       "                                                                         StandardScaler(),\n",
       "                                                                         ['Power',\n",
       "                                                                          'Kilometer',\n",
       "                                                                          'AgeMonth'])])),\n",
       "                                       ('models', LinearRegression())]),\n",
       "             n_jobs=-1,\n",
       "             param_grid=[{'models': [LinearRegression()],\n",
       "                          'preprocessor__num': [StandardScaler(),\n",
       "                                                RobustScaler(),\n",
       "                                                'passthrough']}],\n",
       "             scoring='neg_mean_squared_error')"
      ]
     },
     "execution_count": 60,
     "metadata": {},
     "output_type": "execute_result"
    }
   ],
   "source": [
    "grided_search_LR.fit(features_train, target_train)"
   ]
  },
  {
   "cell_type": "code",
   "execution_count": 61,
   "metadata": {},
   "outputs": [
    {
     "name": "stdout",
     "output_type": "stream",
     "text": [
      "Лучшая модель и её параметры:\n",
      "\n",
      " Pipeline(steps=[('preprocessor',\n",
      "                 ColumnTransformer(remainder='passthrough',\n",
      "                                   transformers=[('ohe',\n",
      "                                                  Pipeline(steps=[('ohe',\n",
      "                                                                   OneHotEncoder(drop='first',\n",
      "                                                                                 handle_unknown='ignore',\n",
      "                                                                                 sparse_output=False))]),\n",
      "                                                  ['VehicleType', 'FuelType',\n",
      "                                                   'Brand', 'Model', 'Gearbox',\n",
      "                                                   'Repaired']),\n",
      "                                                 ('num', StandardScaler(),\n",
      "                                                  ['Power', 'Kilometer',\n",
      "                                                   'AgeMonth'])])),\n",
      "                ('models', LinearRegression())])\n",
      "Метрика лучшей модели на кросс-валидации: 2566.6821441649086\n"
     ]
    }
   ],
   "source": [
    "print('Лучшая модель и её параметры:\\n\\n', grided_search_LR.best_estimator_)\n",
    "print ('Метрика лучшей модели на кросс-валидации:', (grided_search_LR.best_score_ * -1) ** 0.5)"
   ]
  },
  {
   "cell_type": "code",
   "execution_count": 62,
   "metadata": {},
   "outputs": [],
   "source": [
    "best_model_LR = grided_search_LR.best_estimator_"
   ]
  },
  {
   "cell_type": "code",
   "execution_count": 63,
   "metadata": {},
   "outputs": [
    {
     "name": "stdout",
     "output_type": "stream",
     "text": [
      "Время обучения лучшей модели линейной ргерессии: 15.681 секунд\n"
     ]
    }
   ],
   "source": [
    "start = time()\n",
    "\n",
    "best_model_LR.fit(features_train, target_train)\n",
    "\n",
    "end = time()\n",
    "\n",
    "model_time_train_LR = (end-start)\n",
    "print(f'Время обучения лучшей модели линейной ргерессии: {model_time_train_LR:.3f} секунд')"
   ]
  },
  {
   "cell_type": "code",
   "execution_count": 64,
   "metadata": {},
   "outputs": [
    {
     "name": "stdout",
     "output_type": "stream",
     "text": [
      "Время предсказания лучшей модели линейной ргерессии: 1.104 секунд\n"
     ]
    }
   ],
   "source": [
    "start = time()\n",
    "\n",
    "best_model_LR.predict(features_train)\n",
    "\n",
    "end = time()\n",
    "\n",
    "model_time_predict_LR = (end-start)\n",
    "print(f'Время предсказания лучшей модели линейной ргерессии: {model_time_predict_LR:.3f} секунд')"
   ]
  },
  {
   "cell_type": "code",
   "execution_count": 65,
   "metadata": {},
   "outputs": [],
   "source": [
    "RMSE_best_model_LR = (grided_search_LR.best_score_ * -1) ** 0.5"
   ]
  },
  {
   "cell_type": "markdown",
   "metadata": {},
   "source": [
    "**RMSE лучшей модели линейной рергрессии составило 2566.68**"
   ]
  },
  {
   "cell_type": "markdown",
   "metadata": {},
   "source": [
    "### Регрессия DecisionTreeRegressor"
   ]
  },
  {
   "cell_type": "code",
   "execution_count": 66,
   "metadata": {},
   "outputs": [],
   "source": [
    "randomized_search_DTR = RandomizedSearchCV(\n",
    "    pipe_final_DTR, \n",
    "    param_grid_DTR, \n",
    "    cv=5,\n",
    "    scoring='neg_mean_squared_error',\n",
    "    random_state=RANDOM_STATE,\n",
    "    n_jobs=-1\n",
    ")"
   ]
  },
  {
   "cell_type": "code",
   "execution_count": 67,
   "metadata": {
    "scrolled": true
   },
   "outputs": [
    {
     "data": {
      "text/html": [
       "<style>#sk-container-id-2 {\n",
       "  /* Definition of color scheme common for light and dark mode */\n",
       "  --sklearn-color-text: black;\n",
       "  --sklearn-color-line: gray;\n",
       "  /* Definition of color scheme for unfitted estimators */\n",
       "  --sklearn-color-unfitted-level-0: #fff5e6;\n",
       "  --sklearn-color-unfitted-level-1: #f6e4d2;\n",
       "  --sklearn-color-unfitted-level-2: #ffe0b3;\n",
       "  --sklearn-color-unfitted-level-3: chocolate;\n",
       "  /* Definition of color scheme for fitted estimators */\n",
       "  --sklearn-color-fitted-level-0: #f0f8ff;\n",
       "  --sklearn-color-fitted-level-1: #d4ebff;\n",
       "  --sklearn-color-fitted-level-2: #b3dbfd;\n",
       "  --sklearn-color-fitted-level-3: cornflowerblue;\n",
       "\n",
       "  /* Specific color for light theme */\n",
       "  --sklearn-color-text-on-default-background: var(--sg-text-color, var(--theme-code-foreground, var(--jp-content-font-color1, black)));\n",
       "  --sklearn-color-background: var(--sg-background-color, var(--theme-background, var(--jp-layout-color0, white)));\n",
       "  --sklearn-color-border-box: var(--sg-text-color, var(--theme-code-foreground, var(--jp-content-font-color1, black)));\n",
       "  --sklearn-color-icon: #696969;\n",
       "\n",
       "  @media (prefers-color-scheme: dark) {\n",
       "    /* Redefinition of color scheme for dark theme */\n",
       "    --sklearn-color-text-on-default-background: var(--sg-text-color, var(--theme-code-foreground, var(--jp-content-font-color1, white)));\n",
       "    --sklearn-color-background: var(--sg-background-color, var(--theme-background, var(--jp-layout-color0, #111)));\n",
       "    --sklearn-color-border-box: var(--sg-text-color, var(--theme-code-foreground, var(--jp-content-font-color1, white)));\n",
       "    --sklearn-color-icon: #878787;\n",
       "  }\n",
       "}\n",
       "\n",
       "#sk-container-id-2 {\n",
       "  color: var(--sklearn-color-text);\n",
       "}\n",
       "\n",
       "#sk-container-id-2 pre {\n",
       "  padding: 0;\n",
       "}\n",
       "\n",
       "#sk-container-id-2 input.sk-hidden--visually {\n",
       "  border: 0;\n",
       "  clip: rect(1px 1px 1px 1px);\n",
       "  clip: rect(1px, 1px, 1px, 1px);\n",
       "  height: 1px;\n",
       "  margin: -1px;\n",
       "  overflow: hidden;\n",
       "  padding: 0;\n",
       "  position: absolute;\n",
       "  width: 1px;\n",
       "}\n",
       "\n",
       "#sk-container-id-2 div.sk-dashed-wrapped {\n",
       "  border: 1px dashed var(--sklearn-color-line);\n",
       "  margin: 0 0.4em 0.5em 0.4em;\n",
       "  box-sizing: border-box;\n",
       "  padding-bottom: 0.4em;\n",
       "  background-color: var(--sklearn-color-background);\n",
       "}\n",
       "\n",
       "#sk-container-id-2 div.sk-container {\n",
       "  /* jupyter's `normalize.less` sets `[hidden] { display: none; }`\n",
       "     but bootstrap.min.css set `[hidden] { display: none !important; }`\n",
       "     so we also need the `!important` here to be able to override the\n",
       "     default hidden behavior on the sphinx rendered scikit-learn.org.\n",
       "     See: https://github.com/scikit-learn/scikit-learn/issues/21755 */\n",
       "  display: inline-block !important;\n",
       "  position: relative;\n",
       "}\n",
       "\n",
       "#sk-container-id-2 div.sk-text-repr-fallback {\n",
       "  display: none;\n",
       "}\n",
       "\n",
       "div.sk-parallel-item,\n",
       "div.sk-serial,\n",
       "div.sk-item {\n",
       "  /* draw centered vertical line to link estimators */\n",
       "  background-image: linear-gradient(var(--sklearn-color-text-on-default-background), var(--sklearn-color-text-on-default-background));\n",
       "  background-size: 2px 100%;\n",
       "  background-repeat: no-repeat;\n",
       "  background-position: center center;\n",
       "}\n",
       "\n",
       "/* Parallel-specific style estimator block */\n",
       "\n",
       "#sk-container-id-2 div.sk-parallel-item::after {\n",
       "  content: \"\";\n",
       "  width: 100%;\n",
       "  border-bottom: 2px solid var(--sklearn-color-text-on-default-background);\n",
       "  flex-grow: 1;\n",
       "}\n",
       "\n",
       "#sk-container-id-2 div.sk-parallel {\n",
       "  display: flex;\n",
       "  align-items: stretch;\n",
       "  justify-content: center;\n",
       "  background-color: var(--sklearn-color-background);\n",
       "  position: relative;\n",
       "}\n",
       "\n",
       "#sk-container-id-2 div.sk-parallel-item {\n",
       "  display: flex;\n",
       "  flex-direction: column;\n",
       "}\n",
       "\n",
       "#sk-container-id-2 div.sk-parallel-item:first-child::after {\n",
       "  align-self: flex-end;\n",
       "  width: 50%;\n",
       "}\n",
       "\n",
       "#sk-container-id-2 div.sk-parallel-item:last-child::after {\n",
       "  align-self: flex-start;\n",
       "  width: 50%;\n",
       "}\n",
       "\n",
       "#sk-container-id-2 div.sk-parallel-item:only-child::after {\n",
       "  width: 0;\n",
       "}\n",
       "\n",
       "/* Serial-specific style estimator block */\n",
       "\n",
       "#sk-container-id-2 div.sk-serial {\n",
       "  display: flex;\n",
       "  flex-direction: column;\n",
       "  align-items: center;\n",
       "  background-color: var(--sklearn-color-background);\n",
       "  padding-right: 1em;\n",
       "  padding-left: 1em;\n",
       "}\n",
       "\n",
       "\n",
       "/* Toggleable style: style used for estimator/Pipeline/ColumnTransformer box that is\n",
       "clickable and can be expanded/collapsed.\n",
       "- Pipeline and ColumnTransformer use this feature and define the default style\n",
       "- Estimators will overwrite some part of the style using the `sk-estimator` class\n",
       "*/\n",
       "\n",
       "/* Pipeline and ColumnTransformer style (default) */\n",
       "\n",
       "#sk-container-id-2 div.sk-toggleable {\n",
       "  /* Default theme specific background. It is overwritten whether we have a\n",
       "  specific estimator or a Pipeline/ColumnTransformer */\n",
       "  background-color: var(--sklearn-color-background);\n",
       "}\n",
       "\n",
       "/* Toggleable label */\n",
       "#sk-container-id-2 label.sk-toggleable__label {\n",
       "  cursor: pointer;\n",
       "  display: block;\n",
       "  width: 100%;\n",
       "  margin-bottom: 0;\n",
       "  padding: 0.5em;\n",
       "  box-sizing: border-box;\n",
       "  text-align: center;\n",
       "}\n",
       "\n",
       "#sk-container-id-2 label.sk-toggleable__label-arrow:before {\n",
       "  /* Arrow on the left of the label */\n",
       "  content: \"▸\";\n",
       "  float: left;\n",
       "  margin-right: 0.25em;\n",
       "  color: var(--sklearn-color-icon);\n",
       "}\n",
       "\n",
       "#sk-container-id-2 label.sk-toggleable__label-arrow:hover:before {\n",
       "  color: var(--sklearn-color-text);\n",
       "}\n",
       "\n",
       "/* Toggleable content - dropdown */\n",
       "\n",
       "#sk-container-id-2 div.sk-toggleable__content {\n",
       "  max-height: 0;\n",
       "  max-width: 0;\n",
       "  overflow: hidden;\n",
       "  text-align: left;\n",
       "  /* unfitted */\n",
       "  background-color: var(--sklearn-color-unfitted-level-0);\n",
       "}\n",
       "\n",
       "#sk-container-id-2 div.sk-toggleable__content.fitted {\n",
       "  /* fitted */\n",
       "  background-color: var(--sklearn-color-fitted-level-0);\n",
       "}\n",
       "\n",
       "#sk-container-id-2 div.sk-toggleable__content pre {\n",
       "  margin: 0.2em;\n",
       "  border-radius: 0.25em;\n",
       "  color: var(--sklearn-color-text);\n",
       "  /* unfitted */\n",
       "  background-color: var(--sklearn-color-unfitted-level-0);\n",
       "}\n",
       "\n",
       "#sk-container-id-2 div.sk-toggleable__content.fitted pre {\n",
       "  /* unfitted */\n",
       "  background-color: var(--sklearn-color-fitted-level-0);\n",
       "}\n",
       "\n",
       "#sk-container-id-2 input.sk-toggleable__control:checked~div.sk-toggleable__content {\n",
       "  /* Expand drop-down */\n",
       "  max-height: 200px;\n",
       "  max-width: 100%;\n",
       "  overflow: auto;\n",
       "}\n",
       "\n",
       "#sk-container-id-2 input.sk-toggleable__control:checked~label.sk-toggleable__label-arrow:before {\n",
       "  content: \"▾\";\n",
       "}\n",
       "\n",
       "/* Pipeline/ColumnTransformer-specific style */\n",
       "\n",
       "#sk-container-id-2 div.sk-label input.sk-toggleable__control:checked~label.sk-toggleable__label {\n",
       "  color: var(--sklearn-color-text);\n",
       "  background-color: var(--sklearn-color-unfitted-level-2);\n",
       "}\n",
       "\n",
       "#sk-container-id-2 div.sk-label.fitted input.sk-toggleable__control:checked~label.sk-toggleable__label {\n",
       "  background-color: var(--sklearn-color-fitted-level-2);\n",
       "}\n",
       "\n",
       "/* Estimator-specific style */\n",
       "\n",
       "/* Colorize estimator box */\n",
       "#sk-container-id-2 div.sk-estimator input.sk-toggleable__control:checked~label.sk-toggleable__label {\n",
       "  /* unfitted */\n",
       "  background-color: var(--sklearn-color-unfitted-level-2);\n",
       "}\n",
       "\n",
       "#sk-container-id-2 div.sk-estimator.fitted input.sk-toggleable__control:checked~label.sk-toggleable__label {\n",
       "  /* fitted */\n",
       "  background-color: var(--sklearn-color-fitted-level-2);\n",
       "}\n",
       "\n",
       "#sk-container-id-2 div.sk-label label.sk-toggleable__label,\n",
       "#sk-container-id-2 div.sk-label label {\n",
       "  /* The background is the default theme color */\n",
       "  color: var(--sklearn-color-text-on-default-background);\n",
       "}\n",
       "\n",
       "/* On hover, darken the color of the background */\n",
       "#sk-container-id-2 div.sk-label:hover label.sk-toggleable__label {\n",
       "  color: var(--sklearn-color-text);\n",
       "  background-color: var(--sklearn-color-unfitted-level-2);\n",
       "}\n",
       "\n",
       "/* Label box, darken color on hover, fitted */\n",
       "#sk-container-id-2 div.sk-label.fitted:hover label.sk-toggleable__label.fitted {\n",
       "  color: var(--sklearn-color-text);\n",
       "  background-color: var(--sklearn-color-fitted-level-2);\n",
       "}\n",
       "\n",
       "/* Estimator label */\n",
       "\n",
       "#sk-container-id-2 div.sk-label label {\n",
       "  font-family: monospace;\n",
       "  font-weight: bold;\n",
       "  display: inline-block;\n",
       "  line-height: 1.2em;\n",
       "}\n",
       "\n",
       "#sk-container-id-2 div.sk-label-container {\n",
       "  text-align: center;\n",
       "}\n",
       "\n",
       "/* Estimator-specific */\n",
       "#sk-container-id-2 div.sk-estimator {\n",
       "  font-family: monospace;\n",
       "  border: 1px dotted var(--sklearn-color-border-box);\n",
       "  border-radius: 0.25em;\n",
       "  box-sizing: border-box;\n",
       "  margin-bottom: 0.5em;\n",
       "  /* unfitted */\n",
       "  background-color: var(--sklearn-color-unfitted-level-0);\n",
       "}\n",
       "\n",
       "#sk-container-id-2 div.sk-estimator.fitted {\n",
       "  /* fitted */\n",
       "  background-color: var(--sklearn-color-fitted-level-0);\n",
       "}\n",
       "\n",
       "/* on hover */\n",
       "#sk-container-id-2 div.sk-estimator:hover {\n",
       "  /* unfitted */\n",
       "  background-color: var(--sklearn-color-unfitted-level-2);\n",
       "}\n",
       "\n",
       "#sk-container-id-2 div.sk-estimator.fitted:hover {\n",
       "  /* fitted */\n",
       "  background-color: var(--sklearn-color-fitted-level-2);\n",
       "}\n",
       "\n",
       "/* Specification for estimator info (e.g. \"i\" and \"?\") */\n",
       "\n",
       "/* Common style for \"i\" and \"?\" */\n",
       "\n",
       ".sk-estimator-doc-link,\n",
       "a:link.sk-estimator-doc-link,\n",
       "a:visited.sk-estimator-doc-link {\n",
       "  float: right;\n",
       "  font-size: smaller;\n",
       "  line-height: 1em;\n",
       "  font-family: monospace;\n",
       "  background-color: var(--sklearn-color-background);\n",
       "  border-radius: 1em;\n",
       "  height: 1em;\n",
       "  width: 1em;\n",
       "  text-decoration: none !important;\n",
       "  margin-left: 1ex;\n",
       "  /* unfitted */\n",
       "  border: var(--sklearn-color-unfitted-level-1) 1pt solid;\n",
       "  color: var(--sklearn-color-unfitted-level-1);\n",
       "}\n",
       "\n",
       ".sk-estimator-doc-link.fitted,\n",
       "a:link.sk-estimator-doc-link.fitted,\n",
       "a:visited.sk-estimator-doc-link.fitted {\n",
       "  /* fitted */\n",
       "  border: var(--sklearn-color-fitted-level-1) 1pt solid;\n",
       "  color: var(--sklearn-color-fitted-level-1);\n",
       "}\n",
       "\n",
       "/* On hover */\n",
       "div.sk-estimator:hover .sk-estimator-doc-link:hover,\n",
       ".sk-estimator-doc-link:hover,\n",
       "div.sk-label-container:hover .sk-estimator-doc-link:hover,\n",
       ".sk-estimator-doc-link:hover {\n",
       "  /* unfitted */\n",
       "  background-color: var(--sklearn-color-unfitted-level-3);\n",
       "  color: var(--sklearn-color-background);\n",
       "  text-decoration: none;\n",
       "}\n",
       "\n",
       "div.sk-estimator.fitted:hover .sk-estimator-doc-link.fitted:hover,\n",
       ".sk-estimator-doc-link.fitted:hover,\n",
       "div.sk-label-container:hover .sk-estimator-doc-link.fitted:hover,\n",
       ".sk-estimator-doc-link.fitted:hover {\n",
       "  /* fitted */\n",
       "  background-color: var(--sklearn-color-fitted-level-3);\n",
       "  color: var(--sklearn-color-background);\n",
       "  text-decoration: none;\n",
       "}\n",
       "\n",
       "/* Span, style for the box shown on hovering the info icon */\n",
       ".sk-estimator-doc-link span {\n",
       "  display: none;\n",
       "  z-index: 9999;\n",
       "  position: relative;\n",
       "  font-weight: normal;\n",
       "  right: .2ex;\n",
       "  padding: .5ex;\n",
       "  margin: .5ex;\n",
       "  width: min-content;\n",
       "  min-width: 20ex;\n",
       "  max-width: 50ex;\n",
       "  color: var(--sklearn-color-text);\n",
       "  box-shadow: 2pt 2pt 4pt #999;\n",
       "  /* unfitted */\n",
       "  background: var(--sklearn-color-unfitted-level-0);\n",
       "  border: .5pt solid var(--sklearn-color-unfitted-level-3);\n",
       "}\n",
       "\n",
       ".sk-estimator-doc-link.fitted span {\n",
       "  /* fitted */\n",
       "  background: var(--sklearn-color-fitted-level-0);\n",
       "  border: var(--sklearn-color-fitted-level-3);\n",
       "}\n",
       "\n",
       ".sk-estimator-doc-link:hover span {\n",
       "  display: block;\n",
       "}\n",
       "\n",
       "/* \"?\"-specific style due to the `<a>` HTML tag */\n",
       "\n",
       "#sk-container-id-2 a.estimator_doc_link {\n",
       "  float: right;\n",
       "  font-size: 1rem;\n",
       "  line-height: 1em;\n",
       "  font-family: monospace;\n",
       "  background-color: var(--sklearn-color-background);\n",
       "  border-radius: 1rem;\n",
       "  height: 1rem;\n",
       "  width: 1rem;\n",
       "  text-decoration: none;\n",
       "  /* unfitted */\n",
       "  color: var(--sklearn-color-unfitted-level-1);\n",
       "  border: var(--sklearn-color-unfitted-level-1) 1pt solid;\n",
       "}\n",
       "\n",
       "#sk-container-id-2 a.estimator_doc_link.fitted {\n",
       "  /* fitted */\n",
       "  border: var(--sklearn-color-fitted-level-1) 1pt solid;\n",
       "  color: var(--sklearn-color-fitted-level-1);\n",
       "}\n",
       "\n",
       "/* On hover */\n",
       "#sk-container-id-2 a.estimator_doc_link:hover {\n",
       "  /* unfitted */\n",
       "  background-color: var(--sklearn-color-unfitted-level-3);\n",
       "  color: var(--sklearn-color-background);\n",
       "  text-decoration: none;\n",
       "}\n",
       "\n",
       "#sk-container-id-2 a.estimator_doc_link.fitted:hover {\n",
       "  /* fitted */\n",
       "  background-color: var(--sklearn-color-fitted-level-3);\n",
       "}\n",
       "</style><div id=\"sk-container-id-2\" class=\"sk-top-container\"><div class=\"sk-text-repr-fallback\"><pre>RandomizedSearchCV(cv=5,\n",
       "                   estimator=Pipeline(steps=[(&#x27;preprocessor&#x27;,\n",
       "                                              ColumnTransformer(remainder=&#x27;passthrough&#x27;,\n",
       "                                                                transformers=[(&#x27;ord&#x27;,\n",
       "                                                                               Pipeline(steps=[(&#x27;ord&#x27;,\n",
       "                                                                                                OrdinalEncoder(handle_unknown=&#x27;use_encoded_value&#x27;,\n",
       "                                                                                                               unknown_value=nan))]),\n",
       "                                                                               [&#x27;VehicleType&#x27;,\n",
       "                                                                                &#x27;FuelType&#x27;,\n",
       "                                                                                &#x27;Brand&#x27;,\n",
       "                                                                                &#x27;Model&#x27;,\n",
       "                                                                                &#x27;Gearbox&#x27;,\n",
       "                                                                                &#x27;Repaired&#x27;]),\n",
       "                                                                              (&#x27;num&#x27;,\n",
       "                                                                               StandardScaler(),\n",
       "                                                                               [&#x27;Power&#x27;,\n",
       "                                                                                &#x27;Kilometer&#x27;,\n",
       "                                                                                &#x27;AgeMonth&#x27;])])),\n",
       "                                             (&#x27;models&#x27;,\n",
       "                                              DecisionTreeRegressor(random_state=42))]),\n",
       "                   n_jobs=-1,\n",
       "                   param_distributions=[{&#x27;models&#x27;: [DecisionTreeRegressor(random_state=42)],\n",
       "                                         &#x27;models__max_depth&#x27;: range(2, 10),\n",
       "                                         &#x27;models__max_features&#x27;: range(2, 10),\n",
       "                                         &#x27;preprocessor__num&#x27;: [StandardScaler(),\n",
       "                                                               RobustScaler(),\n",
       "                                                               &#x27;passthrough&#x27;]}],\n",
       "                   random_state=42, scoring=&#x27;neg_mean_squared_error&#x27;)</pre><b>In a Jupyter environment, please rerun this cell to show the HTML representation or trust the notebook. <br />On GitHub, the HTML representation is unable to render, please try loading this page with nbviewer.org.</b></div><div class=\"sk-container\" hidden><div class=\"sk-item sk-dashed-wrapped\"><div class=\"sk-label-container\"><div class=\"sk-label fitted sk-toggleable\"><input class=\"sk-toggleable__control sk-hidden--visually\" id=\"sk-estimator-id-11\" type=\"checkbox\" ><label for=\"sk-estimator-id-11\" class=\"sk-toggleable__label fitted sk-toggleable__label-arrow fitted\">&nbsp;&nbsp;RandomizedSearchCV<a class=\"sk-estimator-doc-link fitted\" rel=\"noreferrer\" target=\"_blank\" href=\"https://scikit-learn.org/1.4/modules/generated/sklearn.model_selection.RandomizedSearchCV.html\">?<span>Documentation for RandomizedSearchCV</span></a><span class=\"sk-estimator-doc-link fitted\">i<span>Fitted</span></span></label><div class=\"sk-toggleable__content fitted\"><pre>RandomizedSearchCV(cv=5,\n",
       "                   estimator=Pipeline(steps=[(&#x27;preprocessor&#x27;,\n",
       "                                              ColumnTransformer(remainder=&#x27;passthrough&#x27;,\n",
       "                                                                transformers=[(&#x27;ord&#x27;,\n",
       "                                                                               Pipeline(steps=[(&#x27;ord&#x27;,\n",
       "                                                                                                OrdinalEncoder(handle_unknown=&#x27;use_encoded_value&#x27;,\n",
       "                                                                                                               unknown_value=nan))]),\n",
       "                                                                               [&#x27;VehicleType&#x27;,\n",
       "                                                                                &#x27;FuelType&#x27;,\n",
       "                                                                                &#x27;Brand&#x27;,\n",
       "                                                                                &#x27;Model&#x27;,\n",
       "                                                                                &#x27;Gearbox&#x27;,\n",
       "                                                                                &#x27;Repaired&#x27;]),\n",
       "                                                                              (&#x27;num&#x27;,\n",
       "                                                                               StandardScaler(),\n",
       "                                                                               [&#x27;Power&#x27;,\n",
       "                                                                                &#x27;Kilometer&#x27;,\n",
       "                                                                                &#x27;AgeMonth&#x27;])])),\n",
       "                                             (&#x27;models&#x27;,\n",
       "                                              DecisionTreeRegressor(random_state=42))]),\n",
       "                   n_jobs=-1,\n",
       "                   param_distributions=[{&#x27;models&#x27;: [DecisionTreeRegressor(random_state=42)],\n",
       "                                         &#x27;models__max_depth&#x27;: range(2, 10),\n",
       "                                         &#x27;models__max_features&#x27;: range(2, 10),\n",
       "                                         &#x27;preprocessor__num&#x27;: [StandardScaler(),\n",
       "                                                               RobustScaler(),\n",
       "                                                               &#x27;passthrough&#x27;]}],\n",
       "                   random_state=42, scoring=&#x27;neg_mean_squared_error&#x27;)</pre></div> </div></div><div class=\"sk-parallel\"><div class=\"sk-parallel-item\"><div class=\"sk-item\"><div class=\"sk-label-container\"><div class=\"sk-label fitted sk-toggleable\"><input class=\"sk-toggleable__control sk-hidden--visually\" id=\"sk-estimator-id-12\" type=\"checkbox\" ><label for=\"sk-estimator-id-12\" class=\"sk-toggleable__label fitted sk-toggleable__label-arrow fitted\">estimator: Pipeline</label><div class=\"sk-toggleable__content fitted\"><pre>Pipeline(steps=[(&#x27;preprocessor&#x27;,\n",
       "                 ColumnTransformer(remainder=&#x27;passthrough&#x27;,\n",
       "                                   transformers=[(&#x27;ord&#x27;,\n",
       "                                                  Pipeline(steps=[(&#x27;ord&#x27;,\n",
       "                                                                   OrdinalEncoder(handle_unknown=&#x27;use_encoded_value&#x27;,\n",
       "                                                                                  unknown_value=nan))]),\n",
       "                                                  [&#x27;VehicleType&#x27;, &#x27;FuelType&#x27;,\n",
       "                                                   &#x27;Brand&#x27;, &#x27;Model&#x27;, &#x27;Gearbox&#x27;,\n",
       "                                                   &#x27;Repaired&#x27;]),\n",
       "                                                 (&#x27;num&#x27;, StandardScaler(),\n",
       "                                                  [&#x27;Power&#x27;, &#x27;Kilometer&#x27;,\n",
       "                                                   &#x27;AgeMonth&#x27;])])),\n",
       "                (&#x27;models&#x27;, DecisionTreeRegressor(random_state=42))])</pre></div> </div></div><div class=\"sk-serial\"><div class=\"sk-item\"><div class=\"sk-serial\"><div class=\"sk-item sk-dashed-wrapped\"><div class=\"sk-label-container\"><div class=\"sk-label fitted sk-toggleable\"><input class=\"sk-toggleable__control sk-hidden--visually\" id=\"sk-estimator-id-13\" type=\"checkbox\" ><label for=\"sk-estimator-id-13\" class=\"sk-toggleable__label fitted sk-toggleable__label-arrow fitted\">&nbsp;preprocessor: ColumnTransformer<a class=\"sk-estimator-doc-link fitted\" rel=\"noreferrer\" target=\"_blank\" href=\"https://scikit-learn.org/1.4/modules/generated/sklearn.compose.ColumnTransformer.html\">?<span>Documentation for preprocessor: ColumnTransformer</span></a></label><div class=\"sk-toggleable__content fitted\"><pre>ColumnTransformer(remainder=&#x27;passthrough&#x27;,\n",
       "                  transformers=[(&#x27;ord&#x27;,\n",
       "                                 Pipeline(steps=[(&#x27;ord&#x27;,\n",
       "                                                  OrdinalEncoder(handle_unknown=&#x27;use_encoded_value&#x27;,\n",
       "                                                                 unknown_value=nan))]),\n",
       "                                 [&#x27;VehicleType&#x27;, &#x27;FuelType&#x27;, &#x27;Brand&#x27;, &#x27;Model&#x27;,\n",
       "                                  &#x27;Gearbox&#x27;, &#x27;Repaired&#x27;]),\n",
       "                                (&#x27;num&#x27;, StandardScaler(),\n",
       "                                 [&#x27;Power&#x27;, &#x27;Kilometer&#x27;, &#x27;AgeMonth&#x27;])])</pre></div> </div></div><div class=\"sk-parallel\"><div class=\"sk-parallel-item\"><div class=\"sk-item\"><div class=\"sk-label-container\"><div class=\"sk-label fitted sk-toggleable\"><input class=\"sk-toggleable__control sk-hidden--visually\" id=\"sk-estimator-id-14\" type=\"checkbox\" ><label for=\"sk-estimator-id-14\" class=\"sk-toggleable__label fitted sk-toggleable__label-arrow fitted\">ord</label><div class=\"sk-toggleable__content fitted\"><pre>[&#x27;VehicleType&#x27;, &#x27;FuelType&#x27;, &#x27;Brand&#x27;, &#x27;Model&#x27;, &#x27;Gearbox&#x27;, &#x27;Repaired&#x27;]</pre></div> </div></div><div class=\"sk-serial\"><div class=\"sk-item\"><div class=\"sk-serial\"><div class=\"sk-item\"><div class=\"sk-estimator fitted sk-toggleable\"><input class=\"sk-toggleable__control sk-hidden--visually\" id=\"sk-estimator-id-15\" type=\"checkbox\" ><label for=\"sk-estimator-id-15\" class=\"sk-toggleable__label fitted sk-toggleable__label-arrow fitted\">&nbsp;OrdinalEncoder<a class=\"sk-estimator-doc-link fitted\" rel=\"noreferrer\" target=\"_blank\" href=\"https://scikit-learn.org/1.4/modules/generated/sklearn.preprocessing.OrdinalEncoder.html\">?<span>Documentation for OrdinalEncoder</span></a></label><div class=\"sk-toggleable__content fitted\"><pre>OrdinalEncoder(handle_unknown=&#x27;use_encoded_value&#x27;, unknown_value=nan)</pre></div> </div></div></div></div></div></div></div><div class=\"sk-parallel-item\"><div class=\"sk-item\"><div class=\"sk-label-container\"><div class=\"sk-label fitted sk-toggleable\"><input class=\"sk-toggleable__control sk-hidden--visually\" id=\"sk-estimator-id-16\" type=\"checkbox\" ><label for=\"sk-estimator-id-16\" class=\"sk-toggleable__label fitted sk-toggleable__label-arrow fitted\">num</label><div class=\"sk-toggleable__content fitted\"><pre>[&#x27;Power&#x27;, &#x27;Kilometer&#x27;, &#x27;AgeMonth&#x27;]</pre></div> </div></div><div class=\"sk-serial\"><div class=\"sk-item\"><div class=\"sk-estimator fitted sk-toggleable\"><input class=\"sk-toggleable__control sk-hidden--visually\" id=\"sk-estimator-id-17\" type=\"checkbox\" ><label for=\"sk-estimator-id-17\" class=\"sk-toggleable__label fitted sk-toggleable__label-arrow fitted\">&nbsp;StandardScaler<a class=\"sk-estimator-doc-link fitted\" rel=\"noreferrer\" target=\"_blank\" href=\"https://scikit-learn.org/1.4/modules/generated/sklearn.preprocessing.StandardScaler.html\">?<span>Documentation for StandardScaler</span></a></label><div class=\"sk-toggleable__content fitted\"><pre>StandardScaler()</pre></div> </div></div></div></div></div><div class=\"sk-parallel-item\"><div class=\"sk-item\"><div class=\"sk-label-container\"><div class=\"sk-label fitted sk-toggleable\"><input class=\"sk-toggleable__control sk-hidden--visually\" id=\"sk-estimator-id-18\" type=\"checkbox\" ><label for=\"sk-estimator-id-18\" class=\"sk-toggleable__label fitted sk-toggleable__label-arrow fitted\">remainder</label><div class=\"sk-toggleable__content fitted\"><pre></pre></div> </div></div><div class=\"sk-serial\"><div class=\"sk-item\"><div class=\"sk-estimator fitted sk-toggleable\"><input class=\"sk-toggleable__control sk-hidden--visually\" id=\"sk-estimator-id-19\" type=\"checkbox\" ><label for=\"sk-estimator-id-19\" class=\"sk-toggleable__label fitted sk-toggleable__label-arrow fitted\">passthrough</label><div class=\"sk-toggleable__content fitted\"><pre>passthrough</pre></div> </div></div></div></div></div></div></div><div class=\"sk-item\"><div class=\"sk-estimator fitted sk-toggleable\"><input class=\"sk-toggleable__control sk-hidden--visually\" id=\"sk-estimator-id-20\" type=\"checkbox\" ><label for=\"sk-estimator-id-20\" class=\"sk-toggleable__label fitted sk-toggleable__label-arrow fitted\">&nbsp;DecisionTreeRegressor<a class=\"sk-estimator-doc-link fitted\" rel=\"noreferrer\" target=\"_blank\" href=\"https://scikit-learn.org/1.4/modules/generated/sklearn.tree.DecisionTreeRegressor.html\">?<span>Documentation for DecisionTreeRegressor</span></a></label><div class=\"sk-toggleable__content fitted\"><pre>DecisionTreeRegressor(random_state=42)</pre></div> </div></div></div></div></div></div></div></div></div></div></div>"
      ],
      "text/plain": [
       "RandomizedSearchCV(cv=5,\n",
       "                   estimator=Pipeline(steps=[('preprocessor',\n",
       "                                              ColumnTransformer(remainder='passthrough',\n",
       "                                                                transformers=[('ord',\n",
       "                                                                               Pipeline(steps=[('ord',\n",
       "                                                                                                OrdinalEncoder(handle_unknown='use_encoded_value',\n",
       "                                                                                                               unknown_value=nan))]),\n",
       "                                                                               ['VehicleType',\n",
       "                                                                                'FuelType',\n",
       "                                                                                'Brand',\n",
       "                                                                                'Model',\n",
       "                                                                                'Gearbox',\n",
       "                                                                                'Repaired']),\n",
       "                                                                              ('num',\n",
       "                                                                               StandardScaler(),\n",
       "                                                                               ['Power',\n",
       "                                                                                'Kilometer',\n",
       "                                                                                'AgeMonth'])])),\n",
       "                                             ('models',\n",
       "                                              DecisionTreeRegressor(random_state=42))]),\n",
       "                   n_jobs=-1,\n",
       "                   param_distributions=[{'models': [DecisionTreeRegressor(random_state=42)],\n",
       "                                         'models__max_depth': range(2, 10),\n",
       "                                         'models__max_features': range(2, 10),\n",
       "                                         'preprocessor__num': [StandardScaler(),\n",
       "                                                               RobustScaler(),\n",
       "                                                               'passthrough']}],\n",
       "                   random_state=42, scoring='neg_mean_squared_error')"
      ]
     },
     "execution_count": 67,
     "metadata": {},
     "output_type": "execute_result"
    }
   ],
   "source": [
    "randomized_search_DTR.fit(features_train, target_train)"
   ]
  },
  {
   "cell_type": "code",
   "execution_count": 68,
   "metadata": {},
   "outputs": [
    {
     "name": "stdout",
     "output_type": "stream",
     "text": [
      "Лучшая модель и её параметры:\n",
      "\n",
      " Pipeline(steps=[('preprocessor',\n",
      "                 ColumnTransformer(remainder='passthrough',\n",
      "                                   transformers=[('ord',\n",
      "                                                  Pipeline(steps=[('ord',\n",
      "                                                                   OrdinalEncoder(handle_unknown='use_encoded_value',\n",
      "                                                                                  unknown_value=nan))]),\n",
      "                                                  ['VehicleType', 'FuelType',\n",
      "                                                   'Brand', 'Model', 'Gearbox',\n",
      "                                                   'Repaired']),\n",
      "                                                 ('num', StandardScaler(),\n",
      "                                                  ['Power', 'Kilometer',\n",
      "                                                   'AgeMonth'])])),\n",
      "                ('models',\n",
      "                 DecisionTreeRegressor(max_depth=9, max_features=5,\n",
      "                                       random_state=42))])\n",
      "Метрика лучшей модели на кросс-валидации: 2077.416744686834\n"
     ]
    }
   ],
   "source": [
    "print('Лучшая модель и её параметры:\\n\\n', randomized_search_DTR.best_estimator_)\n",
    "print ('Метрика лучшей модели на кросс-валидации:', (randomized_search_DTR.best_score_ * -1) ** 0.5)"
   ]
  },
  {
   "cell_type": "code",
   "execution_count": 69,
   "metadata": {},
   "outputs": [],
   "source": [
    "best_model_DTR = randomized_search_DTR.best_estimator_"
   ]
  },
  {
   "cell_type": "code",
   "execution_count": 70,
   "metadata": {},
   "outputs": [
    {
     "name": "stdout",
     "output_type": "stream",
     "text": [
      "Время обучения лучшей модели линейной ргерессии: 0.425 секунд\n"
     ]
    }
   ],
   "source": [
    "start = time()\n",
    "\n",
    "best_model_DTR.fit(features_train, target_train)\n",
    "\n",
    "end = time()\n",
    "\n",
    "model_time_train_DTR = (end-start)\n",
    "print(f'Время обучения лучшей модели линейной ргерессии: {model_time_train_DTR:.3f} секунд')"
   ]
  },
  {
   "cell_type": "code",
   "execution_count": 71,
   "metadata": {},
   "outputs": [
    {
     "name": "stdout",
     "output_type": "stream",
     "text": [
      "Время предсказания лучшей модели линейной ргерессии: 0.244 секунд\n"
     ]
    }
   ],
   "source": [
    "start = time()\n",
    "\n",
    "best_model_DTR.predict(features_train)\n",
    "\n",
    "end = time()\n",
    "\n",
    "model_time_predict_DTR = (end-start)\n",
    "print(f'Время предсказания лучшей модели линейной ргерессии: {model_time_predict_DTR:.3f} секунд')"
   ]
  },
  {
   "cell_type": "code",
   "execution_count": 72,
   "metadata": {},
   "outputs": [],
   "source": [
    "RMSE_best_model_DTR = (randomized_search_DTR.best_score_ * -1) ** 0.5"
   ]
  },
  {
   "cell_type": "markdown",
   "metadata": {},
   "source": [
    "**Оценка RMSE случайного дерева решений составила 2077.42**"
   ]
  },
  {
   "cell_type": "markdown",
   "metadata": {},
   "source": [
    "### Регрессия CatBoostRegressor"
   ]
  },
  {
   "cell_type": "code",
   "execution_count": 73,
   "metadata": {},
   "outputs": [],
   "source": [
    "model_CBR = CatBoostRegressor(random_state=RANDOM_STATE, cat_features=cat_columns)\n",
    "\n",
    "# словарь для модели CatBoostRegressor()\n",
    "params_CBR = [\n",
    "    {\n",
    "        'loss_function': ['RMSE'],\n",
    "        'iterations': [1000],\n",
    "        'learning_rate': [0.1, 0.3, 0.5],\n",
    "        'verbose': [False],\n",
    "    }\n",
    "]"
   ]
  },
  {
   "cell_type": "code",
   "execution_count": 74,
   "metadata": {},
   "outputs": [],
   "source": [
    "grided_search_CBR = GridSearchCV(\n",
    "    model_CBR, \n",
    "    params_CBR, \n",
    "    cv=3,\n",
    "    scoring='neg_mean_squared_error',\n",
    "    n_jobs=-1\n",
    ")"
   ]
  },
  {
   "cell_type": "code",
   "execution_count": 75,
   "metadata": {},
   "outputs": [
    {
     "data": {
      "text/html": [
       "<style>#sk-container-id-3 {\n",
       "  /* Definition of color scheme common for light and dark mode */\n",
       "  --sklearn-color-text: black;\n",
       "  --sklearn-color-line: gray;\n",
       "  /* Definition of color scheme for unfitted estimators */\n",
       "  --sklearn-color-unfitted-level-0: #fff5e6;\n",
       "  --sklearn-color-unfitted-level-1: #f6e4d2;\n",
       "  --sklearn-color-unfitted-level-2: #ffe0b3;\n",
       "  --sklearn-color-unfitted-level-3: chocolate;\n",
       "  /* Definition of color scheme for fitted estimators */\n",
       "  --sklearn-color-fitted-level-0: #f0f8ff;\n",
       "  --sklearn-color-fitted-level-1: #d4ebff;\n",
       "  --sklearn-color-fitted-level-2: #b3dbfd;\n",
       "  --sklearn-color-fitted-level-3: cornflowerblue;\n",
       "\n",
       "  /* Specific color for light theme */\n",
       "  --sklearn-color-text-on-default-background: var(--sg-text-color, var(--theme-code-foreground, var(--jp-content-font-color1, black)));\n",
       "  --sklearn-color-background: var(--sg-background-color, var(--theme-background, var(--jp-layout-color0, white)));\n",
       "  --sklearn-color-border-box: var(--sg-text-color, var(--theme-code-foreground, var(--jp-content-font-color1, black)));\n",
       "  --sklearn-color-icon: #696969;\n",
       "\n",
       "  @media (prefers-color-scheme: dark) {\n",
       "    /* Redefinition of color scheme for dark theme */\n",
       "    --sklearn-color-text-on-default-background: var(--sg-text-color, var(--theme-code-foreground, var(--jp-content-font-color1, white)));\n",
       "    --sklearn-color-background: var(--sg-background-color, var(--theme-background, var(--jp-layout-color0, #111)));\n",
       "    --sklearn-color-border-box: var(--sg-text-color, var(--theme-code-foreground, var(--jp-content-font-color1, white)));\n",
       "    --sklearn-color-icon: #878787;\n",
       "  }\n",
       "}\n",
       "\n",
       "#sk-container-id-3 {\n",
       "  color: var(--sklearn-color-text);\n",
       "}\n",
       "\n",
       "#sk-container-id-3 pre {\n",
       "  padding: 0;\n",
       "}\n",
       "\n",
       "#sk-container-id-3 input.sk-hidden--visually {\n",
       "  border: 0;\n",
       "  clip: rect(1px 1px 1px 1px);\n",
       "  clip: rect(1px, 1px, 1px, 1px);\n",
       "  height: 1px;\n",
       "  margin: -1px;\n",
       "  overflow: hidden;\n",
       "  padding: 0;\n",
       "  position: absolute;\n",
       "  width: 1px;\n",
       "}\n",
       "\n",
       "#sk-container-id-3 div.sk-dashed-wrapped {\n",
       "  border: 1px dashed var(--sklearn-color-line);\n",
       "  margin: 0 0.4em 0.5em 0.4em;\n",
       "  box-sizing: border-box;\n",
       "  padding-bottom: 0.4em;\n",
       "  background-color: var(--sklearn-color-background);\n",
       "}\n",
       "\n",
       "#sk-container-id-3 div.sk-container {\n",
       "  /* jupyter's `normalize.less` sets `[hidden] { display: none; }`\n",
       "     but bootstrap.min.css set `[hidden] { display: none !important; }`\n",
       "     so we also need the `!important` here to be able to override the\n",
       "     default hidden behavior on the sphinx rendered scikit-learn.org.\n",
       "     See: https://github.com/scikit-learn/scikit-learn/issues/21755 */\n",
       "  display: inline-block !important;\n",
       "  position: relative;\n",
       "}\n",
       "\n",
       "#sk-container-id-3 div.sk-text-repr-fallback {\n",
       "  display: none;\n",
       "}\n",
       "\n",
       "div.sk-parallel-item,\n",
       "div.sk-serial,\n",
       "div.sk-item {\n",
       "  /* draw centered vertical line to link estimators */\n",
       "  background-image: linear-gradient(var(--sklearn-color-text-on-default-background), var(--sklearn-color-text-on-default-background));\n",
       "  background-size: 2px 100%;\n",
       "  background-repeat: no-repeat;\n",
       "  background-position: center center;\n",
       "}\n",
       "\n",
       "/* Parallel-specific style estimator block */\n",
       "\n",
       "#sk-container-id-3 div.sk-parallel-item::after {\n",
       "  content: \"\";\n",
       "  width: 100%;\n",
       "  border-bottom: 2px solid var(--sklearn-color-text-on-default-background);\n",
       "  flex-grow: 1;\n",
       "}\n",
       "\n",
       "#sk-container-id-3 div.sk-parallel {\n",
       "  display: flex;\n",
       "  align-items: stretch;\n",
       "  justify-content: center;\n",
       "  background-color: var(--sklearn-color-background);\n",
       "  position: relative;\n",
       "}\n",
       "\n",
       "#sk-container-id-3 div.sk-parallel-item {\n",
       "  display: flex;\n",
       "  flex-direction: column;\n",
       "}\n",
       "\n",
       "#sk-container-id-3 div.sk-parallel-item:first-child::after {\n",
       "  align-self: flex-end;\n",
       "  width: 50%;\n",
       "}\n",
       "\n",
       "#sk-container-id-3 div.sk-parallel-item:last-child::after {\n",
       "  align-self: flex-start;\n",
       "  width: 50%;\n",
       "}\n",
       "\n",
       "#sk-container-id-3 div.sk-parallel-item:only-child::after {\n",
       "  width: 0;\n",
       "}\n",
       "\n",
       "/* Serial-specific style estimator block */\n",
       "\n",
       "#sk-container-id-3 div.sk-serial {\n",
       "  display: flex;\n",
       "  flex-direction: column;\n",
       "  align-items: center;\n",
       "  background-color: var(--sklearn-color-background);\n",
       "  padding-right: 1em;\n",
       "  padding-left: 1em;\n",
       "}\n",
       "\n",
       "\n",
       "/* Toggleable style: style used for estimator/Pipeline/ColumnTransformer box that is\n",
       "clickable and can be expanded/collapsed.\n",
       "- Pipeline and ColumnTransformer use this feature and define the default style\n",
       "- Estimators will overwrite some part of the style using the `sk-estimator` class\n",
       "*/\n",
       "\n",
       "/* Pipeline and ColumnTransformer style (default) */\n",
       "\n",
       "#sk-container-id-3 div.sk-toggleable {\n",
       "  /* Default theme specific background. It is overwritten whether we have a\n",
       "  specific estimator or a Pipeline/ColumnTransformer */\n",
       "  background-color: var(--sklearn-color-background);\n",
       "}\n",
       "\n",
       "/* Toggleable label */\n",
       "#sk-container-id-3 label.sk-toggleable__label {\n",
       "  cursor: pointer;\n",
       "  display: block;\n",
       "  width: 100%;\n",
       "  margin-bottom: 0;\n",
       "  padding: 0.5em;\n",
       "  box-sizing: border-box;\n",
       "  text-align: center;\n",
       "}\n",
       "\n",
       "#sk-container-id-3 label.sk-toggleable__label-arrow:before {\n",
       "  /* Arrow on the left of the label */\n",
       "  content: \"▸\";\n",
       "  float: left;\n",
       "  margin-right: 0.25em;\n",
       "  color: var(--sklearn-color-icon);\n",
       "}\n",
       "\n",
       "#sk-container-id-3 label.sk-toggleable__label-arrow:hover:before {\n",
       "  color: var(--sklearn-color-text);\n",
       "}\n",
       "\n",
       "/* Toggleable content - dropdown */\n",
       "\n",
       "#sk-container-id-3 div.sk-toggleable__content {\n",
       "  max-height: 0;\n",
       "  max-width: 0;\n",
       "  overflow: hidden;\n",
       "  text-align: left;\n",
       "  /* unfitted */\n",
       "  background-color: var(--sklearn-color-unfitted-level-0);\n",
       "}\n",
       "\n",
       "#sk-container-id-3 div.sk-toggleable__content.fitted {\n",
       "  /* fitted */\n",
       "  background-color: var(--sklearn-color-fitted-level-0);\n",
       "}\n",
       "\n",
       "#sk-container-id-3 div.sk-toggleable__content pre {\n",
       "  margin: 0.2em;\n",
       "  border-radius: 0.25em;\n",
       "  color: var(--sklearn-color-text);\n",
       "  /* unfitted */\n",
       "  background-color: var(--sklearn-color-unfitted-level-0);\n",
       "}\n",
       "\n",
       "#sk-container-id-3 div.sk-toggleable__content.fitted pre {\n",
       "  /* unfitted */\n",
       "  background-color: var(--sklearn-color-fitted-level-0);\n",
       "}\n",
       "\n",
       "#sk-container-id-3 input.sk-toggleable__control:checked~div.sk-toggleable__content {\n",
       "  /* Expand drop-down */\n",
       "  max-height: 200px;\n",
       "  max-width: 100%;\n",
       "  overflow: auto;\n",
       "}\n",
       "\n",
       "#sk-container-id-3 input.sk-toggleable__control:checked~label.sk-toggleable__label-arrow:before {\n",
       "  content: \"▾\";\n",
       "}\n",
       "\n",
       "/* Pipeline/ColumnTransformer-specific style */\n",
       "\n",
       "#sk-container-id-3 div.sk-label input.sk-toggleable__control:checked~label.sk-toggleable__label {\n",
       "  color: var(--sklearn-color-text);\n",
       "  background-color: var(--sklearn-color-unfitted-level-2);\n",
       "}\n",
       "\n",
       "#sk-container-id-3 div.sk-label.fitted input.sk-toggleable__control:checked~label.sk-toggleable__label {\n",
       "  background-color: var(--sklearn-color-fitted-level-2);\n",
       "}\n",
       "\n",
       "/* Estimator-specific style */\n",
       "\n",
       "/* Colorize estimator box */\n",
       "#sk-container-id-3 div.sk-estimator input.sk-toggleable__control:checked~label.sk-toggleable__label {\n",
       "  /* unfitted */\n",
       "  background-color: var(--sklearn-color-unfitted-level-2);\n",
       "}\n",
       "\n",
       "#sk-container-id-3 div.sk-estimator.fitted input.sk-toggleable__control:checked~label.sk-toggleable__label {\n",
       "  /* fitted */\n",
       "  background-color: var(--sklearn-color-fitted-level-2);\n",
       "}\n",
       "\n",
       "#sk-container-id-3 div.sk-label label.sk-toggleable__label,\n",
       "#sk-container-id-3 div.sk-label label {\n",
       "  /* The background is the default theme color */\n",
       "  color: var(--sklearn-color-text-on-default-background);\n",
       "}\n",
       "\n",
       "/* On hover, darken the color of the background */\n",
       "#sk-container-id-3 div.sk-label:hover label.sk-toggleable__label {\n",
       "  color: var(--sklearn-color-text);\n",
       "  background-color: var(--sklearn-color-unfitted-level-2);\n",
       "}\n",
       "\n",
       "/* Label box, darken color on hover, fitted */\n",
       "#sk-container-id-3 div.sk-label.fitted:hover label.sk-toggleable__label.fitted {\n",
       "  color: var(--sklearn-color-text);\n",
       "  background-color: var(--sklearn-color-fitted-level-2);\n",
       "}\n",
       "\n",
       "/* Estimator label */\n",
       "\n",
       "#sk-container-id-3 div.sk-label label {\n",
       "  font-family: monospace;\n",
       "  font-weight: bold;\n",
       "  display: inline-block;\n",
       "  line-height: 1.2em;\n",
       "}\n",
       "\n",
       "#sk-container-id-3 div.sk-label-container {\n",
       "  text-align: center;\n",
       "}\n",
       "\n",
       "/* Estimator-specific */\n",
       "#sk-container-id-3 div.sk-estimator {\n",
       "  font-family: monospace;\n",
       "  border: 1px dotted var(--sklearn-color-border-box);\n",
       "  border-radius: 0.25em;\n",
       "  box-sizing: border-box;\n",
       "  margin-bottom: 0.5em;\n",
       "  /* unfitted */\n",
       "  background-color: var(--sklearn-color-unfitted-level-0);\n",
       "}\n",
       "\n",
       "#sk-container-id-3 div.sk-estimator.fitted {\n",
       "  /* fitted */\n",
       "  background-color: var(--sklearn-color-fitted-level-0);\n",
       "}\n",
       "\n",
       "/* on hover */\n",
       "#sk-container-id-3 div.sk-estimator:hover {\n",
       "  /* unfitted */\n",
       "  background-color: var(--sklearn-color-unfitted-level-2);\n",
       "}\n",
       "\n",
       "#sk-container-id-3 div.sk-estimator.fitted:hover {\n",
       "  /* fitted */\n",
       "  background-color: var(--sklearn-color-fitted-level-2);\n",
       "}\n",
       "\n",
       "/* Specification for estimator info (e.g. \"i\" and \"?\") */\n",
       "\n",
       "/* Common style for \"i\" and \"?\" */\n",
       "\n",
       ".sk-estimator-doc-link,\n",
       "a:link.sk-estimator-doc-link,\n",
       "a:visited.sk-estimator-doc-link {\n",
       "  float: right;\n",
       "  font-size: smaller;\n",
       "  line-height: 1em;\n",
       "  font-family: monospace;\n",
       "  background-color: var(--sklearn-color-background);\n",
       "  border-radius: 1em;\n",
       "  height: 1em;\n",
       "  width: 1em;\n",
       "  text-decoration: none !important;\n",
       "  margin-left: 1ex;\n",
       "  /* unfitted */\n",
       "  border: var(--sklearn-color-unfitted-level-1) 1pt solid;\n",
       "  color: var(--sklearn-color-unfitted-level-1);\n",
       "}\n",
       "\n",
       ".sk-estimator-doc-link.fitted,\n",
       "a:link.sk-estimator-doc-link.fitted,\n",
       "a:visited.sk-estimator-doc-link.fitted {\n",
       "  /* fitted */\n",
       "  border: var(--sklearn-color-fitted-level-1) 1pt solid;\n",
       "  color: var(--sklearn-color-fitted-level-1);\n",
       "}\n",
       "\n",
       "/* On hover */\n",
       "div.sk-estimator:hover .sk-estimator-doc-link:hover,\n",
       ".sk-estimator-doc-link:hover,\n",
       "div.sk-label-container:hover .sk-estimator-doc-link:hover,\n",
       ".sk-estimator-doc-link:hover {\n",
       "  /* unfitted */\n",
       "  background-color: var(--sklearn-color-unfitted-level-3);\n",
       "  color: var(--sklearn-color-background);\n",
       "  text-decoration: none;\n",
       "}\n",
       "\n",
       "div.sk-estimator.fitted:hover .sk-estimator-doc-link.fitted:hover,\n",
       ".sk-estimator-doc-link.fitted:hover,\n",
       "div.sk-label-container:hover .sk-estimator-doc-link.fitted:hover,\n",
       ".sk-estimator-doc-link.fitted:hover {\n",
       "  /* fitted */\n",
       "  background-color: var(--sklearn-color-fitted-level-3);\n",
       "  color: var(--sklearn-color-background);\n",
       "  text-decoration: none;\n",
       "}\n",
       "\n",
       "/* Span, style for the box shown on hovering the info icon */\n",
       ".sk-estimator-doc-link span {\n",
       "  display: none;\n",
       "  z-index: 9999;\n",
       "  position: relative;\n",
       "  font-weight: normal;\n",
       "  right: .2ex;\n",
       "  padding: .5ex;\n",
       "  margin: .5ex;\n",
       "  width: min-content;\n",
       "  min-width: 20ex;\n",
       "  max-width: 50ex;\n",
       "  color: var(--sklearn-color-text);\n",
       "  box-shadow: 2pt 2pt 4pt #999;\n",
       "  /* unfitted */\n",
       "  background: var(--sklearn-color-unfitted-level-0);\n",
       "  border: .5pt solid var(--sklearn-color-unfitted-level-3);\n",
       "}\n",
       "\n",
       ".sk-estimator-doc-link.fitted span {\n",
       "  /* fitted */\n",
       "  background: var(--sklearn-color-fitted-level-0);\n",
       "  border: var(--sklearn-color-fitted-level-3);\n",
       "}\n",
       "\n",
       ".sk-estimator-doc-link:hover span {\n",
       "  display: block;\n",
       "}\n",
       "\n",
       "/* \"?\"-specific style due to the `<a>` HTML tag */\n",
       "\n",
       "#sk-container-id-3 a.estimator_doc_link {\n",
       "  float: right;\n",
       "  font-size: 1rem;\n",
       "  line-height: 1em;\n",
       "  font-family: monospace;\n",
       "  background-color: var(--sklearn-color-background);\n",
       "  border-radius: 1rem;\n",
       "  height: 1rem;\n",
       "  width: 1rem;\n",
       "  text-decoration: none;\n",
       "  /* unfitted */\n",
       "  color: var(--sklearn-color-unfitted-level-1);\n",
       "  border: var(--sklearn-color-unfitted-level-1) 1pt solid;\n",
       "}\n",
       "\n",
       "#sk-container-id-3 a.estimator_doc_link.fitted {\n",
       "  /* fitted */\n",
       "  border: var(--sklearn-color-fitted-level-1) 1pt solid;\n",
       "  color: var(--sklearn-color-fitted-level-1);\n",
       "}\n",
       "\n",
       "/* On hover */\n",
       "#sk-container-id-3 a.estimator_doc_link:hover {\n",
       "  /* unfitted */\n",
       "  background-color: var(--sklearn-color-unfitted-level-3);\n",
       "  color: var(--sklearn-color-background);\n",
       "  text-decoration: none;\n",
       "}\n",
       "\n",
       "#sk-container-id-3 a.estimator_doc_link.fitted:hover {\n",
       "  /* fitted */\n",
       "  background-color: var(--sklearn-color-fitted-level-3);\n",
       "}\n",
       "</style><div id=\"sk-container-id-3\" class=\"sk-top-container\"><div class=\"sk-text-repr-fallback\"><pre>GridSearchCV(cv=3,\n",
       "             estimator=&lt;catboost.core.CatBoostRegressor object at 0x7f59f80c0d60&gt;,\n",
       "             n_jobs=-1,\n",
       "             param_grid=[{&#x27;iterations&#x27;: [1000],\n",
       "                          &#x27;learning_rate&#x27;: [0.1, 0.3, 0.5],\n",
       "                          &#x27;loss_function&#x27;: [&#x27;RMSE&#x27;], &#x27;verbose&#x27;: [False]}],\n",
       "             scoring=&#x27;neg_mean_squared_error&#x27;)</pre><b>In a Jupyter environment, please rerun this cell to show the HTML representation or trust the notebook. <br />On GitHub, the HTML representation is unable to render, please try loading this page with nbviewer.org.</b></div><div class=\"sk-container\" hidden><div class=\"sk-item sk-dashed-wrapped\"><div class=\"sk-label-container\"><div class=\"sk-label fitted sk-toggleable\"><input class=\"sk-toggleable__control sk-hidden--visually\" id=\"sk-estimator-id-21\" type=\"checkbox\" ><label for=\"sk-estimator-id-21\" class=\"sk-toggleable__label fitted sk-toggleable__label-arrow fitted\">&nbsp;&nbsp;GridSearchCV<a class=\"sk-estimator-doc-link fitted\" rel=\"noreferrer\" target=\"_blank\" href=\"https://scikit-learn.org/1.4/modules/generated/sklearn.model_selection.GridSearchCV.html\">?<span>Documentation for GridSearchCV</span></a><span class=\"sk-estimator-doc-link fitted\">i<span>Fitted</span></span></label><div class=\"sk-toggleable__content fitted\"><pre>GridSearchCV(cv=3,\n",
       "             estimator=&lt;catboost.core.CatBoostRegressor object at 0x7f59f80c0d60&gt;,\n",
       "             n_jobs=-1,\n",
       "             param_grid=[{&#x27;iterations&#x27;: [1000],\n",
       "                          &#x27;learning_rate&#x27;: [0.1, 0.3, 0.5],\n",
       "                          &#x27;loss_function&#x27;: [&#x27;RMSE&#x27;], &#x27;verbose&#x27;: [False]}],\n",
       "             scoring=&#x27;neg_mean_squared_error&#x27;)</pre></div> </div></div><div class=\"sk-parallel\"><div class=\"sk-parallel-item\"><div class=\"sk-item\"><div class=\"sk-label-container\"><div class=\"sk-label fitted sk-toggleable\"><input class=\"sk-toggleable__control sk-hidden--visually\" id=\"sk-estimator-id-22\" type=\"checkbox\" ><label for=\"sk-estimator-id-22\" class=\"sk-toggleable__label fitted sk-toggleable__label-arrow fitted\">estimator: CatBoostRegressor</label><div class=\"sk-toggleable__content fitted\"><pre>&lt;catboost.core.CatBoostRegressor object at 0x7f59f80c0d60&gt;</pre></div> </div></div><div class=\"sk-serial\"><div class=\"sk-item\"><div class=\"sk-estimator fitted sk-toggleable\"><input class=\"sk-toggleable__control sk-hidden--visually\" id=\"sk-estimator-id-23\" type=\"checkbox\" ><label for=\"sk-estimator-id-23\" class=\"sk-toggleable__label fitted sk-toggleable__label-arrow fitted\">CatBoostRegressor</label><div class=\"sk-toggleable__content fitted\"><pre>&lt;catboost.core.CatBoostRegressor object at 0x7f59f80c0d60&gt;</pre></div> </div></div></div></div></div></div></div></div></div>"
      ],
      "text/plain": [
       "GridSearchCV(cv=3,\n",
       "             estimator=<catboost.core.CatBoostRegressor object at 0x7f59f80c0d60>,\n",
       "             n_jobs=-1,\n",
       "             param_grid=[{'iterations': [1000],\n",
       "                          'learning_rate': [0.1, 0.3, 0.5],\n",
       "                          'loss_function': ['RMSE'], 'verbose': [False]}],\n",
       "             scoring='neg_mean_squared_error')"
      ]
     },
     "execution_count": 75,
     "metadata": {},
     "output_type": "execute_result"
    }
   ],
   "source": [
    "grided_search_CBR.fit(features_train, target_train)"
   ]
  },
  {
   "cell_type": "code",
   "execution_count": 76,
   "metadata": {},
   "outputs": [
    {
     "name": "stdout",
     "output_type": "stream",
     "text": [
      "Лучшая модель и её параметры:\n",
      "\n",
      " <catboost.core.CatBoostRegressor object at 0x7f59f80c0e80>\n",
      "Метрика лучшей модели на кросс-валидации: 1581.1388421411586\n"
     ]
    }
   ],
   "source": [
    "print('Лучшая модель и её параметры:\\n\\n', grided_search_CBR.best_estimator_)\n",
    "print ('Метрика лучшей модели на кросс-валидации:', (grided_search_CBR.best_score_ * -1) ** 0.5)"
   ]
  },
  {
   "cell_type": "code",
   "execution_count": 77,
   "metadata": {},
   "outputs": [],
   "source": [
    "best_model_CBR = grided_search_CBR.best_estimator_"
   ]
  },
  {
   "cell_type": "code",
   "execution_count": 78,
   "metadata": {},
   "outputs": [
    {
     "name": "stdout",
     "output_type": "stream",
     "text": [
      "Время обучения лучшей модели линейной ргерессии: 127.821 секунд\n"
     ]
    }
   ],
   "source": [
    "start = time()\n",
    "\n",
    "best_model_CBR.fit(features_train, target_train)\n",
    "\n",
    "end = time()\n",
    "\n",
    "model_time_train_CBR = (end-start)\n",
    "print(f'Время обучения лучшей модели линейной ргерессии: {model_time_train_CBR:.3f} секунд')"
   ]
  },
  {
   "cell_type": "code",
   "execution_count": 79,
   "metadata": {},
   "outputs": [
    {
     "name": "stdout",
     "output_type": "stream",
     "text": [
      "Время предсказания лучшей модели линейной ргерессии: 1.759 секунд\n"
     ]
    }
   ],
   "source": [
    "start = time()\n",
    "\n",
    "x = best_model_CBR.predict(features_train)\n",
    "\n",
    "end = time()\n",
    "\n",
    "model_time_predict_CBR = (end-start)\n",
    "print(f'Время предсказания лучшей модели линейной ргерессии: {model_time_predict_CBR:.3f} секунд')"
   ]
  },
  {
   "cell_type": "code",
   "execution_count": 80,
   "metadata": {},
   "outputs": [],
   "source": [
    "RMSE_best_model_CBR = (grided_search_CBR.best_score_ * -1) ** 0.5"
   ]
  },
  {
   "cell_type": "markdown",
   "metadata": {},
   "source": [
    "Оценка RMSE Catboost составила 1581.14"
   ]
  },
  {
   "cell_type": "markdown",
   "metadata": {},
   "source": [
    "### Регрессия LGBM"
   ]
  },
  {
   "cell_type": "code",
   "execution_count": 81,
   "metadata": {},
   "outputs": [],
   "source": [
    "model_LGBM = LGBMRegressor(random_state=RANDOM_STATE, categorical_feature=cat_columns)\n",
    "\n",
    "# словарь для модели LGBMRegressor()\n",
    "params_LGBM = [\n",
    "    {       \n",
    "        'n_estimators': [50, 100, 200],\n",
    "        'learning_rate': [0.1, 0.3, 0.5]\n",
    "    }\n",
    "]"
   ]
  },
  {
   "cell_type": "code",
   "execution_count": 82,
   "metadata": {},
   "outputs": [],
   "source": [
    "features_train_LGBM = features_train.copy()"
   ]
  },
  {
   "cell_type": "code",
   "execution_count": 83,
   "metadata": {},
   "outputs": [],
   "source": [
    "for c in features_train_LGBM.columns:\n",
    "    col_type = features_train_LGBM[c].dtype\n",
    "    if col_type == 'object' or col_type.name == 'category':\n",
    "        features_train_LGBM[c] = features_train_LGBM[c].astype('category')"
   ]
  },
  {
   "cell_type": "code",
   "execution_count": 84,
   "metadata": {},
   "outputs": [],
   "source": [
    "grided_search_LGBM = GridSearchCV(\n",
    "    model_LGBM, \n",
    "    params_LGBM, \n",
    "    cv=5,\n",
    "    scoring='neg_mean_squared_error',\n",
    "    n_jobs=-1\n",
    ")"
   ]
  },
  {
   "cell_type": "code",
   "execution_count": 85,
   "metadata": {
    "scrolled": true
   },
   "outputs": [
    {
     "name": "stderr",
     "output_type": "stream",
     "text": [
      "/opt/conda/lib/python3.9/site-packages/lightgbm/basic.py:1487: UserWarning: categorical_feature keyword has been found in `params` and will be ignored.\n",
      "Please use categorical_feature argument of the Dataset constructor to pass this parameter.\n",
      "  _log_warning(f'{key} keyword has been found in `params` and will be ignored.\\n'\n",
      "/opt/conda/lib/python3.9/site-packages/lightgbm/basic.py:1513: UserWarning: categorical_feature in param dict is overridden.\n",
      "  _log_warning(f'{cat_alias} in param dict is overridden.')\n",
      "/opt/conda/lib/python3.9/site-packages/lightgbm/basic.py:1487: UserWarning: categorical_feature keyword has been found in `params` and will be ignored.\n",
      "Please use categorical_feature argument of the Dataset constructor to pass this parameter.\n",
      "  _log_warning(f'{key} keyword has been found in `params` and will be ignored.\\n'\n",
      "/opt/conda/lib/python3.9/site-packages/lightgbm/basic.py:1513: UserWarning: categorical_feature in param dict is overridden.\n",
      "  _log_warning(f'{cat_alias} in param dict is overridden.')\n",
      "/opt/conda/lib/python3.9/site-packages/lightgbm/basic.py:1487: UserWarning: categorical_feature keyword has been found in `params` and will be ignored.\n",
      "Please use categorical_feature argument of the Dataset constructor to pass this parameter.\n",
      "  _log_warning(f'{key} keyword has been found in `params` and will be ignored.\\n'\n",
      "/opt/conda/lib/python3.9/site-packages/lightgbm/basic.py:1513: UserWarning: categorical_feature in param dict is overridden.\n",
      "  _log_warning(f'{cat_alias} in param dict is overridden.')\n",
      "/opt/conda/lib/python3.9/site-packages/lightgbm/basic.py:1487: UserWarning: categorical_feature keyword has been found in `params` and will be ignored.\n",
      "Please use categorical_feature argument of the Dataset constructor to pass this parameter.\n",
      "  _log_warning(f'{key} keyword has been found in `params` and will be ignored.\\n'\n",
      "/opt/conda/lib/python3.9/site-packages/lightgbm/basic.py:1513: UserWarning: categorical_feature in param dict is overridden.\n",
      "  _log_warning(f'{cat_alias} in param dict is overridden.')\n",
      "/opt/conda/lib/python3.9/site-packages/lightgbm/basic.py:1487: UserWarning: categorical_feature keyword has been found in `params` and will be ignored.\n",
      "Please use categorical_feature argument of the Dataset constructor to pass this parameter.\n",
      "  _log_warning(f'{key} keyword has been found in `params` and will be ignored.\\n'\n",
      "/opt/conda/lib/python3.9/site-packages/lightgbm/basic.py:1513: UserWarning: categorical_feature in param dict is overridden.\n",
      "  _log_warning(f'{cat_alias} in param dict is overridden.')\n",
      "/opt/conda/lib/python3.9/site-packages/lightgbm/basic.py:1487: UserWarning: categorical_feature keyword has been found in `params` and will be ignored.\n",
      "Please use categorical_feature argument of the Dataset constructor to pass this parameter.\n",
      "  _log_warning(f'{key} keyword has been found in `params` and will be ignored.\\n'\n",
      "/opt/conda/lib/python3.9/site-packages/lightgbm/basic.py:1513: UserWarning: categorical_feature in param dict is overridden.\n",
      "  _log_warning(f'{cat_alias} in param dict is overridden.')\n",
      "/opt/conda/lib/python3.9/site-packages/lightgbm/basic.py:1487: UserWarning: categorical_feature keyword has been found in `params` and will be ignored.\n",
      "Please use categorical_feature argument of the Dataset constructor to pass this parameter.\n",
      "  _log_warning(f'{key} keyword has been found in `params` and will be ignored.\\n'\n",
      "/opt/conda/lib/python3.9/site-packages/lightgbm/basic.py:1513: UserWarning: categorical_feature in param dict is overridden.\n",
      "  _log_warning(f'{cat_alias} in param dict is overridden.')\n",
      "/opt/conda/lib/python3.9/site-packages/lightgbm/basic.py:1487: UserWarning: categorical_feature keyword has been found in `params` and will be ignored.\n",
      "Please use categorical_feature argument of the Dataset constructor to pass this parameter.\n",
      "  _log_warning(f'{key} keyword has been found in `params` and will be ignored.\\n'\n",
      "/opt/conda/lib/python3.9/site-packages/lightgbm/basic.py:1513: UserWarning: categorical_feature in param dict is overridden.\n",
      "  _log_warning(f'{cat_alias} in param dict is overridden.')\n",
      "/opt/conda/lib/python3.9/site-packages/lightgbm/basic.py:1487: UserWarning: categorical_feature keyword has been found in `params` and will be ignored.\n",
      "Please use categorical_feature argument of the Dataset constructor to pass this parameter.\n",
      "  _log_warning(f'{key} keyword has been found in `params` and will be ignored.\\n'\n",
      "/opt/conda/lib/python3.9/site-packages/lightgbm/basic.py:1513: UserWarning: categorical_feature in param dict is overridden.\n",
      "  _log_warning(f'{cat_alias} in param dict is overridden.')\n",
      "/opt/conda/lib/python3.9/site-packages/lightgbm/basic.py:1487: UserWarning: categorical_feature keyword has been found in `params` and will be ignored.\n",
      "Please use categorical_feature argument of the Dataset constructor to pass this parameter.\n",
      "  _log_warning(f'{key} keyword has been found in `params` and will be ignored.\\n'\n",
      "/opt/conda/lib/python3.9/site-packages/lightgbm/basic.py:1513: UserWarning: categorical_feature in param dict is overridden.\n",
      "  _log_warning(f'{cat_alias} in param dict is overridden.')\n",
      "/opt/conda/lib/python3.9/site-packages/lightgbm/basic.py:1487: UserWarning: categorical_feature keyword has been found in `params` and will be ignored.\n",
      "Please use categorical_feature argument of the Dataset constructor to pass this parameter.\n",
      "  _log_warning(f'{key} keyword has been found in `params` and will be ignored.\\n'\n",
      "/opt/conda/lib/python3.9/site-packages/lightgbm/basic.py:1513: UserWarning: categorical_feature in param dict is overridden.\n",
      "  _log_warning(f'{cat_alias} in param dict is overridden.')\n",
      "/opt/conda/lib/python3.9/site-packages/lightgbm/basic.py:1487: UserWarning: categorical_feature keyword has been found in `params` and will be ignored.\n",
      "Please use categorical_feature argument of the Dataset constructor to pass this parameter.\n",
      "  _log_warning(f'{key} keyword has been found in `params` and will be ignored.\\n'\n",
      "/opt/conda/lib/python3.9/site-packages/lightgbm/basic.py:1513: UserWarning: categorical_feature in param dict is overridden.\n",
      "  _log_warning(f'{cat_alias} in param dict is overridden.')\n",
      "/opt/conda/lib/python3.9/site-packages/lightgbm/basic.py:1487: UserWarning: categorical_feature keyword has been found in `params` and will be ignored.\n",
      "Please use categorical_feature argument of the Dataset constructor to pass this parameter.\n",
      "  _log_warning(f'{key} keyword has been found in `params` and will be ignored.\\n'\n",
      "/opt/conda/lib/python3.9/site-packages/lightgbm/basic.py:1513: UserWarning: categorical_feature in param dict is overridden.\n",
      "  _log_warning(f'{cat_alias} in param dict is overridden.')\n",
      "/opt/conda/lib/python3.9/site-packages/lightgbm/basic.py:1487: UserWarning: categorical_feature keyword has been found in `params` and will be ignored.\n",
      "Please use categorical_feature argument of the Dataset constructor to pass this parameter.\n",
      "  _log_warning(f'{key} keyword has been found in `params` and will be ignored.\\n'\n",
      "/opt/conda/lib/python3.9/site-packages/lightgbm/basic.py:1513: UserWarning: categorical_feature in param dict is overridden.\n",
      "  _log_warning(f'{cat_alias} in param dict is overridden.')\n",
      "/opt/conda/lib/python3.9/site-packages/lightgbm/basic.py:1487: UserWarning: categorical_feature keyword has been found in `params` and will be ignored.\n",
      "Please use categorical_feature argument of the Dataset constructor to pass this parameter.\n",
      "  _log_warning(f'{key} keyword has been found in `params` and will be ignored.\\n'\n",
      "/opt/conda/lib/python3.9/site-packages/lightgbm/basic.py:1513: UserWarning: categorical_feature in param dict is overridden.\n",
      "  _log_warning(f'{cat_alias} in param dict is overridden.')\n",
      "/opt/conda/lib/python3.9/site-packages/lightgbm/basic.py:1487: UserWarning: categorical_feature keyword has been found in `params` and will be ignored.\n",
      "Please use categorical_feature argument of the Dataset constructor to pass this parameter.\n",
      "  _log_warning(f'{key} keyword has been found in `params` and will be ignored.\\n'\n",
      "/opt/conda/lib/python3.9/site-packages/lightgbm/basic.py:1513: UserWarning: categorical_feature in param dict is overridden.\n",
      "  _log_warning(f'{cat_alias} in param dict is overridden.')\n",
      "/opt/conda/lib/python3.9/site-packages/lightgbm/basic.py:1487: UserWarning: categorical_feature keyword has been found in `params` and will be ignored.\n",
      "Please use categorical_feature argument of the Dataset constructor to pass this parameter.\n",
      "  _log_warning(f'{key} keyword has been found in `params` and will be ignored.\\n'\n",
      "/opt/conda/lib/python3.9/site-packages/lightgbm/basic.py:1513: UserWarning: categorical_feature in param dict is overridden.\n",
      "  _log_warning(f'{cat_alias} in param dict is overridden.')\n",
      "/opt/conda/lib/python3.9/site-packages/lightgbm/basic.py:1487: UserWarning: categorical_feature keyword has been found in `params` and will be ignored.\n",
      "Please use categorical_feature argument of the Dataset constructor to pass this parameter.\n",
      "  _log_warning(f'{key} keyword has been found in `params` and will be ignored.\\n'\n",
      "/opt/conda/lib/python3.9/site-packages/lightgbm/basic.py:1513: UserWarning: categorical_feature in param dict is overridden.\n",
      "  _log_warning(f'{cat_alias} in param dict is overridden.')\n",
      "/opt/conda/lib/python3.9/site-packages/lightgbm/basic.py:1487: UserWarning: categorical_feature keyword has been found in `params` and will be ignored.\n",
      "Please use categorical_feature argument of the Dataset constructor to pass this parameter.\n",
      "  _log_warning(f'{key} keyword has been found in `params` and will be ignored.\\n'\n",
      "/opt/conda/lib/python3.9/site-packages/lightgbm/basic.py:1513: UserWarning: categorical_feature in param dict is overridden.\n",
      "  _log_warning(f'{cat_alias} in param dict is overridden.')\n",
      "/opt/conda/lib/python3.9/site-packages/lightgbm/basic.py:1487: UserWarning: categorical_feature keyword has been found in `params` and will be ignored.\n",
      "Please use categorical_feature argument of the Dataset constructor to pass this parameter.\n",
      "  _log_warning(f'{key} keyword has been found in `params` and will be ignored.\\n'\n",
      "/opt/conda/lib/python3.9/site-packages/lightgbm/basic.py:1513: UserWarning: categorical_feature in param dict is overridden.\n",
      "  _log_warning(f'{cat_alias} in param dict is overridden.')\n",
      "/opt/conda/lib/python3.9/site-packages/lightgbm/basic.py:1487: UserWarning: categorical_feature keyword has been found in `params` and will be ignored.\n",
      "Please use categorical_feature argument of the Dataset constructor to pass this parameter.\n",
      "  _log_warning(f'{key} keyword has been found in `params` and will be ignored.\\n'\n",
      "/opt/conda/lib/python3.9/site-packages/lightgbm/basic.py:1513: UserWarning: categorical_feature in param dict is overridden.\n",
      "  _log_warning(f'{cat_alias} in param dict is overridden.')\n",
      "/opt/conda/lib/python3.9/site-packages/lightgbm/basic.py:1487: UserWarning: categorical_feature keyword has been found in `params` and will be ignored.\n",
      "Please use categorical_feature argument of the Dataset constructor to pass this parameter.\n",
      "  _log_warning(f'{key} keyword has been found in `params` and will be ignored.\\n'\n",
      "/opt/conda/lib/python3.9/site-packages/lightgbm/basic.py:1513: UserWarning: categorical_feature in param dict is overridden.\n",
      "  _log_warning(f'{cat_alias} in param dict is overridden.')\n",
      "/opt/conda/lib/python3.9/site-packages/lightgbm/basic.py:1487: UserWarning: categorical_feature keyword has been found in `params` and will be ignored.\n",
      "Please use categorical_feature argument of the Dataset constructor to pass this parameter.\n",
      "  _log_warning(f'{key} keyword has been found in `params` and will be ignored.\\n'\n",
      "/opt/conda/lib/python3.9/site-packages/lightgbm/basic.py:1513: UserWarning: categorical_feature in param dict is overridden.\n",
      "  _log_warning(f'{cat_alias} in param dict is overridden.')\n",
      "/opt/conda/lib/python3.9/site-packages/lightgbm/basic.py:1487: UserWarning: categorical_feature keyword has been found in `params` and will be ignored.\n",
      "Please use categorical_feature argument of the Dataset constructor to pass this parameter.\n",
      "  _log_warning(f'{key} keyword has been found in `params` and will be ignored.\\n'\n",
      "/opt/conda/lib/python3.9/site-packages/lightgbm/basic.py:1513: UserWarning: categorical_feature in param dict is overridden.\n",
      "  _log_warning(f'{cat_alias} in param dict is overridden.')\n",
      "/opt/conda/lib/python3.9/site-packages/lightgbm/basic.py:1487: UserWarning: categorical_feature keyword has been found in `params` and will be ignored.\n",
      "Please use categorical_feature argument of the Dataset constructor to pass this parameter.\n",
      "  _log_warning(f'{key} keyword has been found in `params` and will be ignored.\\n'\n",
      "/opt/conda/lib/python3.9/site-packages/lightgbm/basic.py:1513: UserWarning: categorical_feature in param dict is overridden.\n",
      "  _log_warning(f'{cat_alias} in param dict is overridden.')\n",
      "/opt/conda/lib/python3.9/site-packages/lightgbm/basic.py:1487: UserWarning: categorical_feature keyword has been found in `params` and will be ignored.\n",
      "Please use categorical_feature argument of the Dataset constructor to pass this parameter.\n",
      "  _log_warning(f'{key} keyword has been found in `params` and will be ignored.\\n'\n",
      "/opt/conda/lib/python3.9/site-packages/lightgbm/basic.py:1513: UserWarning: categorical_feature in param dict is overridden.\n",
      "  _log_warning(f'{cat_alias} in param dict is overridden.')\n",
      "/opt/conda/lib/python3.9/site-packages/lightgbm/basic.py:1487: UserWarning: categorical_feature keyword has been found in `params` and will be ignored.\n",
      "Please use categorical_feature argument of the Dataset constructor to pass this parameter.\n",
      "  _log_warning(f'{key} keyword has been found in `params` and will be ignored.\\n'\n",
      "/opt/conda/lib/python3.9/site-packages/lightgbm/basic.py:1513: UserWarning: categorical_feature in param dict is overridden.\n",
      "  _log_warning(f'{cat_alias} in param dict is overridden.')\n",
      "/opt/conda/lib/python3.9/site-packages/lightgbm/basic.py:1487: UserWarning: categorical_feature keyword has been found in `params` and will be ignored.\n",
      "Please use categorical_feature argument of the Dataset constructor to pass this parameter.\n",
      "  _log_warning(f'{key} keyword has been found in `params` and will be ignored.\\n'\n",
      "/opt/conda/lib/python3.9/site-packages/lightgbm/basic.py:1513: UserWarning: categorical_feature in param dict is overridden.\n",
      "  _log_warning(f'{cat_alias} in param dict is overridden.')\n",
      "/opt/conda/lib/python3.9/site-packages/lightgbm/basic.py:1487: UserWarning: categorical_feature keyword has been found in `params` and will be ignored.\n",
      "Please use categorical_feature argument of the Dataset constructor to pass this parameter.\n",
      "  _log_warning(f'{key} keyword has been found in `params` and will be ignored.\\n'\n",
      "/opt/conda/lib/python3.9/site-packages/lightgbm/basic.py:1513: UserWarning: categorical_feature in param dict is overridden.\n",
      "  _log_warning(f'{cat_alias} in param dict is overridden.')\n",
      "/opt/conda/lib/python3.9/site-packages/lightgbm/basic.py:1487: UserWarning: categorical_feature keyword has been found in `params` and will be ignored.\n",
      "Please use categorical_feature argument of the Dataset constructor to pass this parameter.\n",
      "  _log_warning(f'{key} keyword has been found in `params` and will be ignored.\\n'\n",
      "/opt/conda/lib/python3.9/site-packages/lightgbm/basic.py:1513: UserWarning: categorical_feature in param dict is overridden.\n",
      "  _log_warning(f'{cat_alias} in param dict is overridden.')\n",
      "/opt/conda/lib/python3.9/site-packages/lightgbm/basic.py:1487: UserWarning: categorical_feature keyword has been found in `params` and will be ignored.\n",
      "Please use categorical_feature argument of the Dataset constructor to pass this parameter.\n",
      "  _log_warning(f'{key} keyword has been found in `params` and will be ignored.\\n'\n",
      "/opt/conda/lib/python3.9/site-packages/lightgbm/basic.py:1513: UserWarning: categorical_feature in param dict is overridden.\n",
      "  _log_warning(f'{cat_alias} in param dict is overridden.')\n",
      "/opt/conda/lib/python3.9/site-packages/lightgbm/basic.py:1487: UserWarning: categorical_feature keyword has been found in `params` and will be ignored.\n",
      "Please use categorical_feature argument of the Dataset constructor to pass this parameter.\n",
      "  _log_warning(f'{key} keyword has been found in `params` and will be ignored.\\n'\n",
      "/opt/conda/lib/python3.9/site-packages/lightgbm/basic.py:1513: UserWarning: categorical_feature in param dict is overridden.\n",
      "  _log_warning(f'{cat_alias} in param dict is overridden.')\n",
      "/opt/conda/lib/python3.9/site-packages/lightgbm/basic.py:1487: UserWarning: categorical_feature keyword has been found in `params` and will be ignored.\n",
      "Please use categorical_feature argument of the Dataset constructor to pass this parameter.\n",
      "  _log_warning(f'{key} keyword has been found in `params` and will be ignored.\\n'\n",
      "/opt/conda/lib/python3.9/site-packages/lightgbm/basic.py:1513: UserWarning: categorical_feature in param dict is overridden.\n",
      "  _log_warning(f'{cat_alias} in param dict is overridden.')\n",
      "/opt/conda/lib/python3.9/site-packages/lightgbm/basic.py:1487: UserWarning: categorical_feature keyword has been found in `params` and will be ignored.\n",
      "Please use categorical_feature argument of the Dataset constructor to pass this parameter.\n",
      "  _log_warning(f'{key} keyword has been found in `params` and will be ignored.\\n'\n",
      "/opt/conda/lib/python3.9/site-packages/lightgbm/basic.py:1513: UserWarning: categorical_feature in param dict is overridden.\n",
      "  _log_warning(f'{cat_alias} in param dict is overridden.')\n",
      "/opt/conda/lib/python3.9/site-packages/lightgbm/basic.py:1487: UserWarning: categorical_feature keyword has been found in `params` and will be ignored.\n",
      "Please use categorical_feature argument of the Dataset constructor to pass this parameter.\n",
      "  _log_warning(f'{key} keyword has been found in `params` and will be ignored.\\n'\n",
      "/opt/conda/lib/python3.9/site-packages/lightgbm/basic.py:1513: UserWarning: categorical_feature in param dict is overridden.\n",
      "  _log_warning(f'{cat_alias} in param dict is overridden.')\n",
      "/opt/conda/lib/python3.9/site-packages/lightgbm/basic.py:1487: UserWarning: categorical_feature keyword has been found in `params` and will be ignored.\n",
      "Please use categorical_feature argument of the Dataset constructor to pass this parameter.\n",
      "  _log_warning(f'{key} keyword has been found in `params` and will be ignored.\\n'\n",
      "/opt/conda/lib/python3.9/site-packages/lightgbm/basic.py:1513: UserWarning: categorical_feature in param dict is overridden.\n",
      "  _log_warning(f'{cat_alias} in param dict is overridden.')\n",
      "/opt/conda/lib/python3.9/site-packages/lightgbm/basic.py:1487: UserWarning: categorical_feature keyword has been found in `params` and will be ignored.\n",
      "Please use categorical_feature argument of the Dataset constructor to pass this parameter.\n",
      "  _log_warning(f'{key} keyword has been found in `params` and will be ignored.\\n'\n",
      "/opt/conda/lib/python3.9/site-packages/lightgbm/basic.py:1513: UserWarning: categorical_feature in param dict is overridden.\n",
      "  _log_warning(f'{cat_alias} in param dict is overridden.')\n",
      "/opt/conda/lib/python3.9/site-packages/lightgbm/basic.py:1487: UserWarning: categorical_feature keyword has been found in `params` and will be ignored.\n",
      "Please use categorical_feature argument of the Dataset constructor to pass this parameter.\n",
      "  _log_warning(f'{key} keyword has been found in `params` and will be ignored.\\n'\n",
      "/opt/conda/lib/python3.9/site-packages/lightgbm/basic.py:1513: UserWarning: categorical_feature in param dict is overridden.\n",
      "  _log_warning(f'{cat_alias} in param dict is overridden.')\n",
      "/opt/conda/lib/python3.9/site-packages/lightgbm/basic.py:1487: UserWarning: categorical_feature keyword has been found in `params` and will be ignored.\n",
      "Please use categorical_feature argument of the Dataset constructor to pass this parameter.\n",
      "  _log_warning(f'{key} keyword has been found in `params` and will be ignored.\\n'\n",
      "/opt/conda/lib/python3.9/site-packages/lightgbm/basic.py:1513: UserWarning: categorical_feature in param dict is overridden.\n",
      "  _log_warning(f'{cat_alias} in param dict is overridden.')\n",
      "/opt/conda/lib/python3.9/site-packages/lightgbm/basic.py:1487: UserWarning: categorical_feature keyword has been found in `params` and will be ignored.\n",
      "Please use categorical_feature argument of the Dataset constructor to pass this parameter.\n",
      "  _log_warning(f'{key} keyword has been found in `params` and will be ignored.\\n'\n",
      "/opt/conda/lib/python3.9/site-packages/lightgbm/basic.py:1513: UserWarning: categorical_feature in param dict is overridden.\n",
      "  _log_warning(f'{cat_alias} in param dict is overridden.')\n",
      "/opt/conda/lib/python3.9/site-packages/lightgbm/basic.py:1487: UserWarning: categorical_feature keyword has been found in `params` and will be ignored.\n",
      "Please use categorical_feature argument of the Dataset constructor to pass this parameter.\n",
      "  _log_warning(f'{key} keyword has been found in `params` and will be ignored.\\n'\n",
      "/opt/conda/lib/python3.9/site-packages/lightgbm/basic.py:1513: UserWarning: categorical_feature in param dict is overridden.\n",
      "  _log_warning(f'{cat_alias} in param dict is overridden.')\n",
      "/opt/conda/lib/python3.9/site-packages/lightgbm/basic.py:1487: UserWarning: categorical_feature keyword has been found in `params` and will be ignored.\n",
      "Please use categorical_feature argument of the Dataset constructor to pass this parameter.\n",
      "  _log_warning(f'{key} keyword has been found in `params` and will be ignored.\\n'\n",
      "/opt/conda/lib/python3.9/site-packages/lightgbm/basic.py:1513: UserWarning: categorical_feature in param dict is overridden.\n",
      "  _log_warning(f'{cat_alias} in param dict is overridden.')\n",
      "/opt/conda/lib/python3.9/site-packages/lightgbm/basic.py:1487: UserWarning: categorical_feature keyword has been found in `params` and will be ignored.\n",
      "Please use categorical_feature argument of the Dataset constructor to pass this parameter.\n",
      "  _log_warning(f'{key} keyword has been found in `params` and will be ignored.\\n'\n",
      "/opt/conda/lib/python3.9/site-packages/lightgbm/basic.py:1513: UserWarning: categorical_feature in param dict is overridden.\n",
      "  _log_warning(f'{cat_alias} in param dict is overridden.')\n",
      "/opt/conda/lib/python3.9/site-packages/lightgbm/basic.py:1487: UserWarning: categorical_feature keyword has been found in `params` and will be ignored.\n",
      "Please use categorical_feature argument of the Dataset constructor to pass this parameter.\n",
      "  _log_warning(f'{key} keyword has been found in `params` and will be ignored.\\n'\n",
      "/opt/conda/lib/python3.9/site-packages/lightgbm/basic.py:1513: UserWarning: categorical_feature in param dict is overridden.\n",
      "  _log_warning(f'{cat_alias} in param dict is overridden.')\n",
      "/opt/conda/lib/python3.9/site-packages/lightgbm/basic.py:1487: UserWarning: categorical_feature keyword has been found in `params` and will be ignored.\n",
      "Please use categorical_feature argument of the Dataset constructor to pass this parameter.\n",
      "  _log_warning(f'{key} keyword has been found in `params` and will be ignored.\\n'\n",
      "/opt/conda/lib/python3.9/site-packages/lightgbm/basic.py:1513: UserWarning: categorical_feature in param dict is overridden.\n",
      "  _log_warning(f'{cat_alias} in param dict is overridden.')\n",
      "/opt/conda/lib/python3.9/site-packages/lightgbm/basic.py:1487: UserWarning: categorical_feature keyword has been found in `params` and will be ignored.\n",
      "Please use categorical_feature argument of the Dataset constructor to pass this parameter.\n",
      "  _log_warning(f'{key} keyword has been found in `params` and will be ignored.\\n'\n",
      "/opt/conda/lib/python3.9/site-packages/lightgbm/basic.py:1513: UserWarning: categorical_feature in param dict is overridden.\n",
      "  _log_warning(f'{cat_alias} in param dict is overridden.')\n"
     ]
    },
    {
     "data": {
      "text/html": [
       "<style>#sk-container-id-4 {\n",
       "  /* Definition of color scheme common for light and dark mode */\n",
       "  --sklearn-color-text: black;\n",
       "  --sklearn-color-line: gray;\n",
       "  /* Definition of color scheme for unfitted estimators */\n",
       "  --sklearn-color-unfitted-level-0: #fff5e6;\n",
       "  --sklearn-color-unfitted-level-1: #f6e4d2;\n",
       "  --sklearn-color-unfitted-level-2: #ffe0b3;\n",
       "  --sklearn-color-unfitted-level-3: chocolate;\n",
       "  /* Definition of color scheme for fitted estimators */\n",
       "  --sklearn-color-fitted-level-0: #f0f8ff;\n",
       "  --sklearn-color-fitted-level-1: #d4ebff;\n",
       "  --sklearn-color-fitted-level-2: #b3dbfd;\n",
       "  --sklearn-color-fitted-level-3: cornflowerblue;\n",
       "\n",
       "  /* Specific color for light theme */\n",
       "  --sklearn-color-text-on-default-background: var(--sg-text-color, var(--theme-code-foreground, var(--jp-content-font-color1, black)));\n",
       "  --sklearn-color-background: var(--sg-background-color, var(--theme-background, var(--jp-layout-color0, white)));\n",
       "  --sklearn-color-border-box: var(--sg-text-color, var(--theme-code-foreground, var(--jp-content-font-color1, black)));\n",
       "  --sklearn-color-icon: #696969;\n",
       "\n",
       "  @media (prefers-color-scheme: dark) {\n",
       "    /* Redefinition of color scheme for dark theme */\n",
       "    --sklearn-color-text-on-default-background: var(--sg-text-color, var(--theme-code-foreground, var(--jp-content-font-color1, white)));\n",
       "    --sklearn-color-background: var(--sg-background-color, var(--theme-background, var(--jp-layout-color0, #111)));\n",
       "    --sklearn-color-border-box: var(--sg-text-color, var(--theme-code-foreground, var(--jp-content-font-color1, white)));\n",
       "    --sklearn-color-icon: #878787;\n",
       "  }\n",
       "}\n",
       "\n",
       "#sk-container-id-4 {\n",
       "  color: var(--sklearn-color-text);\n",
       "}\n",
       "\n",
       "#sk-container-id-4 pre {\n",
       "  padding: 0;\n",
       "}\n",
       "\n",
       "#sk-container-id-4 input.sk-hidden--visually {\n",
       "  border: 0;\n",
       "  clip: rect(1px 1px 1px 1px);\n",
       "  clip: rect(1px, 1px, 1px, 1px);\n",
       "  height: 1px;\n",
       "  margin: -1px;\n",
       "  overflow: hidden;\n",
       "  padding: 0;\n",
       "  position: absolute;\n",
       "  width: 1px;\n",
       "}\n",
       "\n",
       "#sk-container-id-4 div.sk-dashed-wrapped {\n",
       "  border: 1px dashed var(--sklearn-color-line);\n",
       "  margin: 0 0.4em 0.5em 0.4em;\n",
       "  box-sizing: border-box;\n",
       "  padding-bottom: 0.4em;\n",
       "  background-color: var(--sklearn-color-background);\n",
       "}\n",
       "\n",
       "#sk-container-id-4 div.sk-container {\n",
       "  /* jupyter's `normalize.less` sets `[hidden] { display: none; }`\n",
       "     but bootstrap.min.css set `[hidden] { display: none !important; }`\n",
       "     so we also need the `!important` here to be able to override the\n",
       "     default hidden behavior on the sphinx rendered scikit-learn.org.\n",
       "     See: https://github.com/scikit-learn/scikit-learn/issues/21755 */\n",
       "  display: inline-block !important;\n",
       "  position: relative;\n",
       "}\n",
       "\n",
       "#sk-container-id-4 div.sk-text-repr-fallback {\n",
       "  display: none;\n",
       "}\n",
       "\n",
       "div.sk-parallel-item,\n",
       "div.sk-serial,\n",
       "div.sk-item {\n",
       "  /* draw centered vertical line to link estimators */\n",
       "  background-image: linear-gradient(var(--sklearn-color-text-on-default-background), var(--sklearn-color-text-on-default-background));\n",
       "  background-size: 2px 100%;\n",
       "  background-repeat: no-repeat;\n",
       "  background-position: center center;\n",
       "}\n",
       "\n",
       "/* Parallel-specific style estimator block */\n",
       "\n",
       "#sk-container-id-4 div.sk-parallel-item::after {\n",
       "  content: \"\";\n",
       "  width: 100%;\n",
       "  border-bottom: 2px solid var(--sklearn-color-text-on-default-background);\n",
       "  flex-grow: 1;\n",
       "}\n",
       "\n",
       "#sk-container-id-4 div.sk-parallel {\n",
       "  display: flex;\n",
       "  align-items: stretch;\n",
       "  justify-content: center;\n",
       "  background-color: var(--sklearn-color-background);\n",
       "  position: relative;\n",
       "}\n",
       "\n",
       "#sk-container-id-4 div.sk-parallel-item {\n",
       "  display: flex;\n",
       "  flex-direction: column;\n",
       "}\n",
       "\n",
       "#sk-container-id-4 div.sk-parallel-item:first-child::after {\n",
       "  align-self: flex-end;\n",
       "  width: 50%;\n",
       "}\n",
       "\n",
       "#sk-container-id-4 div.sk-parallel-item:last-child::after {\n",
       "  align-self: flex-start;\n",
       "  width: 50%;\n",
       "}\n",
       "\n",
       "#sk-container-id-4 div.sk-parallel-item:only-child::after {\n",
       "  width: 0;\n",
       "}\n",
       "\n",
       "/* Serial-specific style estimator block */\n",
       "\n",
       "#sk-container-id-4 div.sk-serial {\n",
       "  display: flex;\n",
       "  flex-direction: column;\n",
       "  align-items: center;\n",
       "  background-color: var(--sklearn-color-background);\n",
       "  padding-right: 1em;\n",
       "  padding-left: 1em;\n",
       "}\n",
       "\n",
       "\n",
       "/* Toggleable style: style used for estimator/Pipeline/ColumnTransformer box that is\n",
       "clickable and can be expanded/collapsed.\n",
       "- Pipeline and ColumnTransformer use this feature and define the default style\n",
       "- Estimators will overwrite some part of the style using the `sk-estimator` class\n",
       "*/\n",
       "\n",
       "/* Pipeline and ColumnTransformer style (default) */\n",
       "\n",
       "#sk-container-id-4 div.sk-toggleable {\n",
       "  /* Default theme specific background. It is overwritten whether we have a\n",
       "  specific estimator or a Pipeline/ColumnTransformer */\n",
       "  background-color: var(--sklearn-color-background);\n",
       "}\n",
       "\n",
       "/* Toggleable label */\n",
       "#sk-container-id-4 label.sk-toggleable__label {\n",
       "  cursor: pointer;\n",
       "  display: block;\n",
       "  width: 100%;\n",
       "  margin-bottom: 0;\n",
       "  padding: 0.5em;\n",
       "  box-sizing: border-box;\n",
       "  text-align: center;\n",
       "}\n",
       "\n",
       "#sk-container-id-4 label.sk-toggleable__label-arrow:before {\n",
       "  /* Arrow on the left of the label */\n",
       "  content: \"▸\";\n",
       "  float: left;\n",
       "  margin-right: 0.25em;\n",
       "  color: var(--sklearn-color-icon);\n",
       "}\n",
       "\n",
       "#sk-container-id-4 label.sk-toggleable__label-arrow:hover:before {\n",
       "  color: var(--sklearn-color-text);\n",
       "}\n",
       "\n",
       "/* Toggleable content - dropdown */\n",
       "\n",
       "#sk-container-id-4 div.sk-toggleable__content {\n",
       "  max-height: 0;\n",
       "  max-width: 0;\n",
       "  overflow: hidden;\n",
       "  text-align: left;\n",
       "  /* unfitted */\n",
       "  background-color: var(--sklearn-color-unfitted-level-0);\n",
       "}\n",
       "\n",
       "#sk-container-id-4 div.sk-toggleable__content.fitted {\n",
       "  /* fitted */\n",
       "  background-color: var(--sklearn-color-fitted-level-0);\n",
       "}\n",
       "\n",
       "#sk-container-id-4 div.sk-toggleable__content pre {\n",
       "  margin: 0.2em;\n",
       "  border-radius: 0.25em;\n",
       "  color: var(--sklearn-color-text);\n",
       "  /* unfitted */\n",
       "  background-color: var(--sklearn-color-unfitted-level-0);\n",
       "}\n",
       "\n",
       "#sk-container-id-4 div.sk-toggleable__content.fitted pre {\n",
       "  /* unfitted */\n",
       "  background-color: var(--sklearn-color-fitted-level-0);\n",
       "}\n",
       "\n",
       "#sk-container-id-4 input.sk-toggleable__control:checked~div.sk-toggleable__content {\n",
       "  /* Expand drop-down */\n",
       "  max-height: 200px;\n",
       "  max-width: 100%;\n",
       "  overflow: auto;\n",
       "}\n",
       "\n",
       "#sk-container-id-4 input.sk-toggleable__control:checked~label.sk-toggleable__label-arrow:before {\n",
       "  content: \"▾\";\n",
       "}\n",
       "\n",
       "/* Pipeline/ColumnTransformer-specific style */\n",
       "\n",
       "#sk-container-id-4 div.sk-label input.sk-toggleable__control:checked~label.sk-toggleable__label {\n",
       "  color: var(--sklearn-color-text);\n",
       "  background-color: var(--sklearn-color-unfitted-level-2);\n",
       "}\n",
       "\n",
       "#sk-container-id-4 div.sk-label.fitted input.sk-toggleable__control:checked~label.sk-toggleable__label {\n",
       "  background-color: var(--sklearn-color-fitted-level-2);\n",
       "}\n",
       "\n",
       "/* Estimator-specific style */\n",
       "\n",
       "/* Colorize estimator box */\n",
       "#sk-container-id-4 div.sk-estimator input.sk-toggleable__control:checked~label.sk-toggleable__label {\n",
       "  /* unfitted */\n",
       "  background-color: var(--sklearn-color-unfitted-level-2);\n",
       "}\n",
       "\n",
       "#sk-container-id-4 div.sk-estimator.fitted input.sk-toggleable__control:checked~label.sk-toggleable__label {\n",
       "  /* fitted */\n",
       "  background-color: var(--sklearn-color-fitted-level-2);\n",
       "}\n",
       "\n",
       "#sk-container-id-4 div.sk-label label.sk-toggleable__label,\n",
       "#sk-container-id-4 div.sk-label label {\n",
       "  /* The background is the default theme color */\n",
       "  color: var(--sklearn-color-text-on-default-background);\n",
       "}\n",
       "\n",
       "/* On hover, darken the color of the background */\n",
       "#sk-container-id-4 div.sk-label:hover label.sk-toggleable__label {\n",
       "  color: var(--sklearn-color-text);\n",
       "  background-color: var(--sklearn-color-unfitted-level-2);\n",
       "}\n",
       "\n",
       "/* Label box, darken color on hover, fitted */\n",
       "#sk-container-id-4 div.sk-label.fitted:hover label.sk-toggleable__label.fitted {\n",
       "  color: var(--sklearn-color-text);\n",
       "  background-color: var(--sklearn-color-fitted-level-2);\n",
       "}\n",
       "\n",
       "/* Estimator label */\n",
       "\n",
       "#sk-container-id-4 div.sk-label label {\n",
       "  font-family: monospace;\n",
       "  font-weight: bold;\n",
       "  display: inline-block;\n",
       "  line-height: 1.2em;\n",
       "}\n",
       "\n",
       "#sk-container-id-4 div.sk-label-container {\n",
       "  text-align: center;\n",
       "}\n",
       "\n",
       "/* Estimator-specific */\n",
       "#sk-container-id-4 div.sk-estimator {\n",
       "  font-family: monospace;\n",
       "  border: 1px dotted var(--sklearn-color-border-box);\n",
       "  border-radius: 0.25em;\n",
       "  box-sizing: border-box;\n",
       "  margin-bottom: 0.5em;\n",
       "  /* unfitted */\n",
       "  background-color: var(--sklearn-color-unfitted-level-0);\n",
       "}\n",
       "\n",
       "#sk-container-id-4 div.sk-estimator.fitted {\n",
       "  /* fitted */\n",
       "  background-color: var(--sklearn-color-fitted-level-0);\n",
       "}\n",
       "\n",
       "/* on hover */\n",
       "#sk-container-id-4 div.sk-estimator:hover {\n",
       "  /* unfitted */\n",
       "  background-color: var(--sklearn-color-unfitted-level-2);\n",
       "}\n",
       "\n",
       "#sk-container-id-4 div.sk-estimator.fitted:hover {\n",
       "  /* fitted */\n",
       "  background-color: var(--sklearn-color-fitted-level-2);\n",
       "}\n",
       "\n",
       "/* Specification for estimator info (e.g. \"i\" and \"?\") */\n",
       "\n",
       "/* Common style for \"i\" and \"?\" */\n",
       "\n",
       ".sk-estimator-doc-link,\n",
       "a:link.sk-estimator-doc-link,\n",
       "a:visited.sk-estimator-doc-link {\n",
       "  float: right;\n",
       "  font-size: smaller;\n",
       "  line-height: 1em;\n",
       "  font-family: monospace;\n",
       "  background-color: var(--sklearn-color-background);\n",
       "  border-radius: 1em;\n",
       "  height: 1em;\n",
       "  width: 1em;\n",
       "  text-decoration: none !important;\n",
       "  margin-left: 1ex;\n",
       "  /* unfitted */\n",
       "  border: var(--sklearn-color-unfitted-level-1) 1pt solid;\n",
       "  color: var(--sklearn-color-unfitted-level-1);\n",
       "}\n",
       "\n",
       ".sk-estimator-doc-link.fitted,\n",
       "a:link.sk-estimator-doc-link.fitted,\n",
       "a:visited.sk-estimator-doc-link.fitted {\n",
       "  /* fitted */\n",
       "  border: var(--sklearn-color-fitted-level-1) 1pt solid;\n",
       "  color: var(--sklearn-color-fitted-level-1);\n",
       "}\n",
       "\n",
       "/* On hover */\n",
       "div.sk-estimator:hover .sk-estimator-doc-link:hover,\n",
       ".sk-estimator-doc-link:hover,\n",
       "div.sk-label-container:hover .sk-estimator-doc-link:hover,\n",
       ".sk-estimator-doc-link:hover {\n",
       "  /* unfitted */\n",
       "  background-color: var(--sklearn-color-unfitted-level-3);\n",
       "  color: var(--sklearn-color-background);\n",
       "  text-decoration: none;\n",
       "}\n",
       "\n",
       "div.sk-estimator.fitted:hover .sk-estimator-doc-link.fitted:hover,\n",
       ".sk-estimator-doc-link.fitted:hover,\n",
       "div.sk-label-container:hover .sk-estimator-doc-link.fitted:hover,\n",
       ".sk-estimator-doc-link.fitted:hover {\n",
       "  /* fitted */\n",
       "  background-color: var(--sklearn-color-fitted-level-3);\n",
       "  color: var(--sklearn-color-background);\n",
       "  text-decoration: none;\n",
       "}\n",
       "\n",
       "/* Span, style for the box shown on hovering the info icon */\n",
       ".sk-estimator-doc-link span {\n",
       "  display: none;\n",
       "  z-index: 9999;\n",
       "  position: relative;\n",
       "  font-weight: normal;\n",
       "  right: .2ex;\n",
       "  padding: .5ex;\n",
       "  margin: .5ex;\n",
       "  width: min-content;\n",
       "  min-width: 20ex;\n",
       "  max-width: 50ex;\n",
       "  color: var(--sklearn-color-text);\n",
       "  box-shadow: 2pt 2pt 4pt #999;\n",
       "  /* unfitted */\n",
       "  background: var(--sklearn-color-unfitted-level-0);\n",
       "  border: .5pt solid var(--sklearn-color-unfitted-level-3);\n",
       "}\n",
       "\n",
       ".sk-estimator-doc-link.fitted span {\n",
       "  /* fitted */\n",
       "  background: var(--sklearn-color-fitted-level-0);\n",
       "  border: var(--sklearn-color-fitted-level-3);\n",
       "}\n",
       "\n",
       ".sk-estimator-doc-link:hover span {\n",
       "  display: block;\n",
       "}\n",
       "\n",
       "/* \"?\"-specific style due to the `<a>` HTML tag */\n",
       "\n",
       "#sk-container-id-4 a.estimator_doc_link {\n",
       "  float: right;\n",
       "  font-size: 1rem;\n",
       "  line-height: 1em;\n",
       "  font-family: monospace;\n",
       "  background-color: var(--sklearn-color-background);\n",
       "  border-radius: 1rem;\n",
       "  height: 1rem;\n",
       "  width: 1rem;\n",
       "  text-decoration: none;\n",
       "  /* unfitted */\n",
       "  color: var(--sklearn-color-unfitted-level-1);\n",
       "  border: var(--sklearn-color-unfitted-level-1) 1pt solid;\n",
       "}\n",
       "\n",
       "#sk-container-id-4 a.estimator_doc_link.fitted {\n",
       "  /* fitted */\n",
       "  border: var(--sklearn-color-fitted-level-1) 1pt solid;\n",
       "  color: var(--sklearn-color-fitted-level-1);\n",
       "}\n",
       "\n",
       "/* On hover */\n",
       "#sk-container-id-4 a.estimator_doc_link:hover {\n",
       "  /* unfitted */\n",
       "  background-color: var(--sklearn-color-unfitted-level-3);\n",
       "  color: var(--sklearn-color-background);\n",
       "  text-decoration: none;\n",
       "}\n",
       "\n",
       "#sk-container-id-4 a.estimator_doc_link.fitted:hover {\n",
       "  /* fitted */\n",
       "  background-color: var(--sklearn-color-fitted-level-3);\n",
       "}\n",
       "</style><div id=\"sk-container-id-4\" class=\"sk-top-container\"><div class=\"sk-text-repr-fallback\"><pre>GridSearchCV(cv=5,\n",
       "             estimator=LGBMRegressor(categorical_feature=[&#x27;VehicleType&#x27;,\n",
       "                                                          &#x27;FuelType&#x27;, &#x27;Brand&#x27;,\n",
       "                                                          &#x27;Model&#x27;, &#x27;Gearbox&#x27;,\n",
       "                                                          &#x27;Repaired&#x27;],\n",
       "                                     random_state=42),\n",
       "             n_jobs=-1,\n",
       "             param_grid=[{&#x27;learning_rate&#x27;: [0.1, 0.3, 0.5],\n",
       "                          &#x27;n_estimators&#x27;: [50, 100, 200]}],\n",
       "             scoring=&#x27;neg_mean_squared_error&#x27;)</pre><b>In a Jupyter environment, please rerun this cell to show the HTML representation or trust the notebook. <br />On GitHub, the HTML representation is unable to render, please try loading this page with nbviewer.org.</b></div><div class=\"sk-container\" hidden><div class=\"sk-item sk-dashed-wrapped\"><div class=\"sk-label-container\"><div class=\"sk-label fitted sk-toggleable\"><input class=\"sk-toggleable__control sk-hidden--visually\" id=\"sk-estimator-id-24\" type=\"checkbox\" ><label for=\"sk-estimator-id-24\" class=\"sk-toggleable__label fitted sk-toggleable__label-arrow fitted\">&nbsp;&nbsp;GridSearchCV<a class=\"sk-estimator-doc-link fitted\" rel=\"noreferrer\" target=\"_blank\" href=\"https://scikit-learn.org/1.4/modules/generated/sklearn.model_selection.GridSearchCV.html\">?<span>Documentation for GridSearchCV</span></a><span class=\"sk-estimator-doc-link fitted\">i<span>Fitted</span></span></label><div class=\"sk-toggleable__content fitted\"><pre>GridSearchCV(cv=5,\n",
       "             estimator=LGBMRegressor(categorical_feature=[&#x27;VehicleType&#x27;,\n",
       "                                                          &#x27;FuelType&#x27;, &#x27;Brand&#x27;,\n",
       "                                                          &#x27;Model&#x27;, &#x27;Gearbox&#x27;,\n",
       "                                                          &#x27;Repaired&#x27;],\n",
       "                                     random_state=42),\n",
       "             n_jobs=-1,\n",
       "             param_grid=[{&#x27;learning_rate&#x27;: [0.1, 0.3, 0.5],\n",
       "                          &#x27;n_estimators&#x27;: [50, 100, 200]}],\n",
       "             scoring=&#x27;neg_mean_squared_error&#x27;)</pre></div> </div></div><div class=\"sk-parallel\"><div class=\"sk-parallel-item\"><div class=\"sk-item\"><div class=\"sk-label-container\"><div class=\"sk-label fitted sk-toggleable\"><input class=\"sk-toggleable__control sk-hidden--visually\" id=\"sk-estimator-id-25\" type=\"checkbox\" ><label for=\"sk-estimator-id-25\" class=\"sk-toggleable__label fitted sk-toggleable__label-arrow fitted\">estimator: LGBMRegressor</label><div class=\"sk-toggleable__content fitted\"><pre>LGBMRegressor(categorical_feature=[&#x27;VehicleType&#x27;, &#x27;FuelType&#x27;, &#x27;Brand&#x27;, &#x27;Model&#x27;,\n",
       "                                   &#x27;Gearbox&#x27;, &#x27;Repaired&#x27;],\n",
       "              random_state=42)</pre></div> </div></div><div class=\"sk-serial\"><div class=\"sk-item\"><div class=\"sk-estimator fitted sk-toggleable\"><input class=\"sk-toggleable__control sk-hidden--visually\" id=\"sk-estimator-id-26\" type=\"checkbox\" ><label for=\"sk-estimator-id-26\" class=\"sk-toggleable__label fitted sk-toggleable__label-arrow fitted\">LGBMRegressor</label><div class=\"sk-toggleable__content fitted\"><pre>LGBMRegressor(categorical_feature=[&#x27;VehicleType&#x27;, &#x27;FuelType&#x27;, &#x27;Brand&#x27;, &#x27;Model&#x27;,\n",
       "                                   &#x27;Gearbox&#x27;, &#x27;Repaired&#x27;],\n",
       "              random_state=42)</pre></div> </div></div></div></div></div></div></div></div></div>"
      ],
      "text/plain": [
       "GridSearchCV(cv=5,\n",
       "             estimator=LGBMRegressor(categorical_feature=['VehicleType',\n",
       "                                                          'FuelType', 'Brand',\n",
       "                                                          'Model', 'Gearbox',\n",
       "                                                          'Repaired'],\n",
       "                                     random_state=42),\n",
       "             n_jobs=-1,\n",
       "             param_grid=[{'learning_rate': [0.1, 0.3, 0.5],\n",
       "                          'n_estimators': [50, 100, 200]}],\n",
       "             scoring='neg_mean_squared_error')"
      ]
     },
     "execution_count": 85,
     "metadata": {},
     "output_type": "execute_result"
    }
   ],
   "source": [
    "grided_search_LGBM.fit(features_train_LGBM, target_train)"
   ]
  },
  {
   "cell_type": "code",
   "execution_count": 86,
   "metadata": {},
   "outputs": [
    {
     "name": "stdout",
     "output_type": "stream",
     "text": [
      "Лучшая модель и её параметры:\n",
      "\n",
      " LGBMRegressor(categorical_feature=['VehicleType', 'FuelType', 'Brand', 'Model',\n",
      "                                   'Gearbox', 'Repaired'],\n",
      "              learning_rate=0.3, n_estimators=200, random_state=42)\n",
      "Метрика лучшей модели на кросс-валидации: 1571.9773941289375\n"
     ]
    }
   ],
   "source": [
    "print('Лучшая модель и её параметры:\\n\\n', grided_search_LGBM.best_estimator_)\n",
    "print ('Метрика лучшей модели на кросс-валидации:', (grided_search_LGBM.best_score_ * -1) ** 0.5)"
   ]
  },
  {
   "cell_type": "code",
   "execution_count": 87,
   "metadata": {},
   "outputs": [],
   "source": [
    "best_model_LGBM = grided_search_LGBM.best_estimator_"
   ]
  },
  {
   "cell_type": "code",
   "execution_count": 88,
   "metadata": {},
   "outputs": [
    {
     "name": "stdout",
     "output_type": "stream",
     "text": [
      "Время обучения лучшей модели линейной ргерессии: 7.892 секунд\n"
     ]
    }
   ],
   "source": [
    "start = time()\n",
    "\n",
    "best_model_LGBM.fit(features_train_LGBM, target_train)\n",
    "\n",
    "end = time()\n",
    "\n",
    "model_time_train_LGBM = (end-start)\n",
    "print(f'Время обучения лучшей модели линейной ргерессии: {model_time_train_LGBM:.3f} секунд')"
   ]
  },
  {
   "cell_type": "code",
   "execution_count": 89,
   "metadata": {},
   "outputs": [
    {
     "name": "stdout",
     "output_type": "stream",
     "text": [
      "Время предсказания лучшей модели линейной ргерессии: 2.197 секунд\n"
     ]
    }
   ],
   "source": [
    "start = time()\n",
    "\n",
    "x = best_model_LGBM.predict(features_train_LGBM)\n",
    "\n",
    "end = time()\n",
    "\n",
    "model_time_predict_LGBM = (end-start)\n",
    "print(f'Время предсказания лучшей модели линейной ргерессии: {model_time_predict_LGBM:.3f} секунд')"
   ]
  },
  {
   "cell_type": "code",
   "execution_count": 90,
   "metadata": {},
   "outputs": [],
   "source": [
    "RMSE_best_model_LGBM = (grided_search_LGBM.best_score_ * -1) ** 0.5"
   ]
  },
  {
   "cell_type": "markdown",
   "metadata": {},
   "source": [
    "Оценка RMSE LGBMRegressor составила 1571.03"
   ]
  },
  {
   "cell_type": "markdown",
   "metadata": {},
   "source": [
    "**Вывод**\n",
    "\n",
    "Были обычучены модель линейной ргересси, дерево решений, CatBoost и LightGBM, с различными гиперпарамтерами, и OHE,ORD и внутренними механизмами кодирования.\n",
    "\n",
    "Получено время обучения, время предсказания и оценка RMSE моделей на тренировочных данных."
   ]
  },
  {
   "cell_type": "markdown",
   "metadata": {},
   "source": [
    "## Анализ моделей"
   ]
  },
  {
   "cell_type": "code",
   "execution_count": 91,
   "metadata": {},
   "outputs": [],
   "source": [
    "df = [[model_time_train_LR, model_time_predict_LR, RMSE_best_model_LR],\n",
    "        [model_time_train_DTR, model_time_predict_DTR, RMSE_best_model_DTR],\n",
    "        [model_time_train_CBR, model_time_predict_CBR, RMSE_best_model_CBR],\n",
    "        [model_time_train_LGBM, model_time_predict_LGBM, RMSE_best_model_LGBM]]\n",
    "model = ['Linear Regression',\n",
    "         'DecisionTreeRegressor',\n",
    "         'CatBoostRegressor',\n",
    "         'LGBMRegressor']"
   ]
  },
  {
   "cell_type": "code",
   "execution_count": 92,
   "metadata": {},
   "outputs": [
    {
     "data": {
      "text/html": [
       "<div>\n",
       "<style scoped>\n",
       "    .dataframe tbody tr th:only-of-type {\n",
       "        vertical-align: middle;\n",
       "    }\n",
       "\n",
       "    .dataframe tbody tr th {\n",
       "        vertical-align: top;\n",
       "    }\n",
       "\n",
       "    .dataframe thead th {\n",
       "        text-align: right;\n",
       "    }\n",
       "</style>\n",
       "<table border=\"1\" class=\"dataframe\">\n",
       "  <thead>\n",
       "    <tr style=\"text-align: right;\">\n",
       "      <th></th>\n",
       "      <th>fit_time в секундах</th>\n",
       "      <th>predict_time в секундах</th>\n",
       "      <th>RMSE</th>\n",
       "    </tr>\n",
       "  </thead>\n",
       "  <tbody>\n",
       "    <tr>\n",
       "      <th>Linear Regression</th>\n",
       "      <td>15.681286</td>\n",
       "      <td>1.103778</td>\n",
       "      <td>2566.682144</td>\n",
       "    </tr>\n",
       "    <tr>\n",
       "      <th>DecisionTreeRegressor</th>\n",
       "      <td>0.425420</td>\n",
       "      <td>0.244202</td>\n",
       "      <td>2077.416745</td>\n",
       "    </tr>\n",
       "    <tr>\n",
       "      <th>CatBoostRegressor</th>\n",
       "      <td>127.820511</td>\n",
       "      <td>1.758558</td>\n",
       "      <td>1581.138842</td>\n",
       "    </tr>\n",
       "    <tr>\n",
       "      <th>LGBMRegressor</th>\n",
       "      <td>7.892413</td>\n",
       "      <td>2.197156</td>\n",
       "      <td>1571.977394</td>\n",
       "    </tr>\n",
       "  </tbody>\n",
       "</table>\n",
       "</div>"
      ],
      "text/plain": [
       "                       fit_time в секундах  predict_time в секундах  \\\n",
       "Linear Regression                15.681286                 1.103778   \n",
       "DecisionTreeRegressor             0.425420                 0.244202   \n",
       "CatBoostRegressor               127.820511                 1.758558   \n",
       "LGBMRegressor                     7.892413                 2.197156   \n",
       "\n",
       "                              RMSE  \n",
       "Linear Regression      2566.682144  \n",
       "DecisionTreeRegressor  2077.416745  \n",
       "CatBoostRegressor      1581.138842  \n",
       "LGBMRegressor          1571.977394  "
      ]
     },
     "execution_count": 92,
     "metadata": {},
     "output_type": "execute_result"
    }
   ],
   "source": [
    "pd.DataFrame(data=df, index=model, columns=['fit_time в секундах', 'predict_time в секундах', 'RMSE'])"
   ]
  },
  {
   "cell_type": "code",
   "execution_count": 93,
   "metadata": {},
   "outputs": [],
   "source": [
    "features_test_LGBM = features_test.copy()"
   ]
  },
  {
   "cell_type": "code",
   "execution_count": 94,
   "metadata": {},
   "outputs": [],
   "source": [
    "for c in features_test_LGBM.columns:\n",
    "    col_type = features_test_LGBM[c].dtype\n",
    "    if col_type == 'object' or col_type.name == 'category':\n",
    "        features_test_LGBM[c] = features_test_LGBM[c].astype('category')"
   ]
  },
  {
   "cell_type": "code",
   "execution_count": 95,
   "metadata": {},
   "outputs": [
    {
     "name": "stdout",
     "output_type": "stream",
     "text": [
      "Метрика RMSE лучшей модели на тестовых данных составляет: 1532.86\n"
     ]
    }
   ],
   "source": [
    "# оценим метрику RMSE на тестовой выборке лучшей моделью\n",
    "pred_best_model_LGBM = best_model_LGBM.predict(features_test_LGBM)\n",
    "\n",
    "RMSE_best_model = mean_squared_error(target_test, pred_best_model_LGBM) ** 0.5\n",
    "print(f'Метрика RMSE лучшей модели на тестовых данных составляет: {RMSE_best_model:.2f}')"
   ]
  },
  {
   "cell_type": "code",
   "execution_count": 96,
   "metadata": {},
   "outputs": [
    {
     "name": "stdout",
     "output_type": "stream",
     "text": [
      "Метрика RMSE константной модели составлет: 4627.145317280954\n"
     ]
    }
   ],
   "source": [
    "# Проверим качество лучшей модели сравнив ее метрику с предсказанием коснтантной модели\n",
    "dummy_regr = DummyRegressor(strategy=\"mean\")\n",
    "dummy_regr.fit(features_train, target_train)\n",
    "DummyRegressor()\n",
    "dummy_pred = dummy_regr.predict(features_test)\n",
    "dummy_RMSE = mean_squared_error(target_test, dummy_pred) ** 0.5\n",
    "print(f'Метрика RMSE константной модели составлет: {dummy_RMSE}')"
   ]
  },
  {
   "cell_type": "markdown",
   "metadata": {},
   "source": [
    "Метрика RMSE `DummyRegressor` в разы превышет метрику `LGBMRegressor`, следовательно использование `LGBMRegressor` оправдано."
   ]
  },
  {
   "cell_type": "markdown",
   "metadata": {},
   "source": [
    "**Вывод**\n",
    "\n",
    "Лучшие значения RMSE показали `CatBoost` и `LightGBM` отличия незнаичтельные. Однако у `LightGBM` время обучения в разы меньше чем у `CatBoost`, 9 секунд против 130 секунд. Время предсказания у `LightGBM` незначительно хуже.\n",
    "\n",
    "Оценив все показатали `LightGBM` считаю наилучшей, так как время обучения значительно лучше, оценка RMSE так же лучше, и лишь по времени предсказания `LightGBM` немного проигрывает\n",
    "\n",
    "Метрика RMSE лучшей модели на тестовых данных составляет: 1534.60"
   ]
  },
  {
   "cell_type": "markdown",
   "metadata": {},
   "source": [
    "## Общий вывод"
   ]
  },
  {
   "cell_type": "markdown",
   "metadata": {},
   "source": [
    "**Шаг 1**\n",
    "\n",
    "1. Загрузили данные из датсета `/datasets/autos.csv`\n",
    "2. Провели предобработку данных, отделив важные признаки от несущественных, для определения цены автомобиля\n",
    "**Важные признаки:**\n",
    "- `VehicleType`\n",
    "- `RegistrationYear`\n",
    "- `Gearbox`\n",
    "- `Power`\n",
    "- `Model`\n",
    "- `Kilometer`\n",
    "- `FuelType`\n",
    "- `Brand`\n",
    "- `Repaired`\n",
    "3. На основе гистограмм распределения удалил незначимые значения признаков, по разным порогам.\n",
    "4. Заполнили столбец `Gearbox` наиболее встречающийся тип коробки в модели.\n",
    "5. Пропуски в `FuelType` заменили на среднее по моделям.\n",
    "6. Пропуски в `Repaired` заменим на `no`, скорее всего если автомобиль не чинился, данный пункт не отмечали.\n",
    "7. Тип кузова может быть разный даже у одной марки и модели автомобиля, так что заполним пропуски в столбце `VehicleType` заглушкой `unknow`.\n",
    "8. Удалили полные дубликаты.\n",
    "9. Синтаксических ошибок в фреймах не обнаружено.\n",
    "\n",
    "**Шаг 2**\n",
    "\n",
    "Были обычучены модель линейной ргересси, дерево решений, CatBoost и LightGBM, с различными гиперпарамтерами, и OHE,ORD и внутренними механизмами кодирования.\n",
    "\n",
    "Получено время обучения, время предсказания и оценка RMSE моделей на тренировочных данных.\n",
    "\n",
    "**Шаг 3**\n",
    "\n",
    "Лучшие значения RMSE показали `CatBoost` и `LightGBM` отличия незнаичтельные. Однако у `LightGBM` время обучения в разы меньше чем у `CatBoost`, 9 секунд против 130 секунд. Время предсказания у `LightGBM` незначительно хуже.\n",
    "\n",
    "Оценив все показатали `LightGBM` считаю наилучшей, так как время обучения значительно лучше, оценка RMSE так же лучше, и лишь по времени предсказания `LightGBM` немного проигрывает\n",
    "\n",
    "**Метрика RMSE лучшей модели на тестовых данных составляет: 1534.60**"
   ]
  }
 ],
 "metadata": {
  "ExecuteTimeLog": [
   {
    "duration": 398,
    "start_time": "2024-03-05T07:29:58.908Z"
   },
   {
    "duration": 4,
    "start_time": "2024-03-05T07:30:18.992Z"
   },
   {
    "duration": 3010,
    "start_time": "2024-03-05T07:31:11.372Z"
   },
   {
    "duration": 291,
    "start_time": "2024-03-05T07:31:27.934Z"
   },
   {
    "duration": 131,
    "start_time": "2024-03-05T07:53:36.115Z"
   },
   {
    "duration": 72,
    "start_time": "2024-03-05T07:55:29.622Z"
   },
   {
    "duration": 500,
    "start_time": "2024-03-05T07:55:41.092Z"
   },
   {
    "duration": 95,
    "start_time": "2024-03-05T07:56:42.514Z"
   },
   {
    "duration": 1049,
    "start_time": "2024-03-05T07:56:50.634Z"
   },
   {
    "duration": 449,
    "start_time": "2024-03-05T07:57:17.502Z"
   },
   {
    "duration": 957,
    "start_time": "2024-03-05T07:57:47.033Z"
   },
   {
    "duration": 140,
    "start_time": "2024-03-05T07:58:59.785Z"
   },
   {
    "duration": 244,
    "start_time": "2024-03-05T07:59:43.217Z"
   },
   {
    "duration": 209,
    "start_time": "2024-03-05T08:00:11.012Z"
   },
   {
    "duration": 211,
    "start_time": "2024-03-05T08:00:20.079Z"
   },
   {
    "duration": 204,
    "start_time": "2024-03-05T08:01:05.492Z"
   },
   {
    "duration": 4,
    "start_time": "2024-03-05T08:03:37.797Z"
   },
   {
    "duration": 9,
    "start_time": "2024-03-05T08:04:36.720Z"
   },
   {
    "duration": 3,
    "start_time": "2024-03-05T08:04:40.503Z"
   },
   {
    "duration": 3,
    "start_time": "2024-03-05T08:05:12.226Z"
   },
   {
    "duration": 4,
    "start_time": "2024-03-05T08:06:36.848Z"
   },
   {
    "duration": 4,
    "start_time": "2024-03-05T08:06:55.759Z"
   },
   {
    "duration": 4,
    "start_time": "2024-03-05T08:09:04.392Z"
   },
   {
    "duration": 4,
    "start_time": "2024-03-05T08:09:34.610Z"
   },
   {
    "duration": 3,
    "start_time": "2024-03-05T08:09:37.008Z"
   },
   {
    "duration": 19,
    "start_time": "2024-03-05T08:09:56.271Z"
   },
   {
    "duration": 1086,
    "start_time": "2024-03-05T08:10:28.180Z"
   },
   {
    "duration": 1077,
    "start_time": "2024-03-05T08:10:35.363Z"
   },
   {
    "duration": 5,
    "start_time": "2024-03-05T08:10:51.945Z"
   },
   {
    "duration": 2,
    "start_time": "2024-03-05T08:10:55.093Z"
   },
   {
    "duration": 1161,
    "start_time": "2024-03-05T08:10:55.983Z"
   },
   {
    "duration": 3,
    "start_time": "2024-03-05T08:12:47.099Z"
   },
   {
    "duration": 5,
    "start_time": "2024-03-05T08:12:56.684Z"
   },
   {
    "duration": 5,
    "start_time": "2024-03-05T08:12:58.781Z"
   },
   {
    "duration": 614,
    "start_time": "2024-03-05T08:12:59.965Z"
   },
   {
    "duration": 4,
    "start_time": "2024-03-05T08:13:23.598Z"
   },
   {
    "duration": 3,
    "start_time": "2024-03-05T08:13:24.422Z"
   },
   {
    "duration": 506,
    "start_time": "2024-03-05T08:13:26.026Z"
   },
   {
    "duration": 469,
    "start_time": "2024-03-05T08:14:36.340Z"
   },
   {
    "duration": 4,
    "start_time": "2024-03-05T08:15:34.068Z"
   },
   {
    "duration": 16325,
    "start_time": "2024-03-05T08:15:35.134Z"
   },
   {
    "duration": 369,
    "start_time": "2024-03-05T08:17:18.451Z"
   },
   {
    "duration": 15835,
    "start_time": "2024-03-05T08:17:25.088Z"
   },
   {
    "duration": 3,
    "start_time": "2024-03-05T08:18:21.324Z"
   },
   {
    "duration": 6,
    "start_time": "2024-03-05T08:18:21.329Z"
   },
   {
    "duration": 970,
    "start_time": "2024-03-05T08:18:21.336Z"
   },
   {
    "duration": 266,
    "start_time": "2024-03-05T08:18:22.308Z"
   },
   {
    "duration": 447,
    "start_time": "2024-03-05T08:18:22.577Z"
   },
   {
    "duration": 993,
    "start_time": "2024-03-05T08:18:23.026Z"
   },
   {
    "duration": 139,
    "start_time": "2024-03-05T08:18:24.021Z"
   },
   {
    "duration": 12,
    "start_time": "2024-03-05T08:18:24.161Z"
   },
   {
    "duration": 16995,
    "start_time": "2024-03-05T08:18:24.174Z"
   },
   {
    "duration": 197,
    "start_time": "2024-03-05T08:18:41.177Z"
   },
   {
    "duration": 366,
    "start_time": "2024-03-05T08:18:41.376Z"
   },
   {
    "duration": 16020,
    "start_time": "2024-03-05T08:18:41.744Z"
   },
   {
    "duration": 187,
    "start_time": "2024-03-05T08:22:33.448Z"
   },
   {
    "duration": 184,
    "start_time": "2024-03-05T08:22:44.738Z"
   },
   {
    "duration": 1245,
    "start_time": "2024-03-05T08:22:49.780Z"
   },
   {
    "duration": 102,
    "start_time": "2024-03-05T08:24:09.243Z"
   },
   {
    "duration": 194,
    "start_time": "2024-03-05T08:24:46.905Z"
   },
   {
    "duration": 150,
    "start_time": "2024-03-05T08:24:57.436Z"
   },
   {
    "duration": 178,
    "start_time": "2024-03-05T08:25:04.965Z"
   },
   {
    "duration": 182,
    "start_time": "2024-03-05T08:25:14.704Z"
   },
   {
    "duration": 198,
    "start_time": "2024-03-05T08:25:20.253Z"
   },
   {
    "duration": 164,
    "start_time": "2024-03-05T08:25:24.739Z"
   },
   {
    "duration": 177,
    "start_time": "2024-03-05T08:25:30.794Z"
   },
   {
    "duration": 172,
    "start_time": "2024-03-05T08:25:39.544Z"
   },
   {
    "duration": 164,
    "start_time": "2024-03-05T08:25:44.295Z"
   },
   {
    "duration": 170,
    "start_time": "2024-03-05T08:25:53.411Z"
   },
   {
    "duration": 170,
    "start_time": "2024-03-05T08:25:59.263Z"
   },
   {
    "duration": 186,
    "start_time": "2024-03-05T08:26:34.649Z"
   },
   {
    "duration": 193,
    "start_time": "2024-03-05T08:26:44.334Z"
   },
   {
    "duration": 192,
    "start_time": "2024-03-05T08:26:50.422Z"
   },
   {
    "duration": 317,
    "start_time": "2024-03-05T08:27:08.821Z"
   },
   {
    "duration": 175,
    "start_time": "2024-03-05T08:27:25.429Z"
   },
   {
    "duration": 169,
    "start_time": "2024-03-05T08:27:30.502Z"
   },
   {
    "duration": 166,
    "start_time": "2024-03-05T08:29:03.751Z"
   },
   {
    "duration": 171,
    "start_time": "2024-03-05T08:29:26.574Z"
   },
   {
    "duration": 168,
    "start_time": "2024-03-05T08:30:44.997Z"
   },
   {
    "duration": 198,
    "start_time": "2024-03-05T08:31:16.360Z"
   },
   {
    "duration": 198,
    "start_time": "2024-03-05T08:31:28.656Z"
   },
   {
    "duration": 191,
    "start_time": "2024-03-05T08:31:35.366Z"
   },
   {
    "duration": 157,
    "start_time": "2024-03-05T08:31:47.490Z"
   },
   {
    "duration": 45,
    "start_time": "2024-03-05T08:33:45.057Z"
   },
   {
    "duration": 67,
    "start_time": "2024-03-05T08:35:53.099Z"
   },
   {
    "duration": 84,
    "start_time": "2024-03-05T08:36:19.004Z"
   },
   {
    "duration": 4,
    "start_time": "2024-03-05T08:37:05.410Z"
   },
   {
    "duration": 54099,
    "start_time": "2024-03-05T08:37:13.297Z"
   },
   {
    "duration": 5,
    "start_time": "2024-03-05T08:38:36.874Z"
   },
   {
    "duration": 5079,
    "start_time": "2024-03-05T08:38:39.184Z"
   },
   {
    "duration": 4,
    "start_time": "2024-03-05T08:39:58.543Z"
   },
   {
    "duration": 4,
    "start_time": "2024-03-05T08:39:59.295Z"
   },
   {
    "duration": 2005,
    "start_time": "2024-03-05T08:39:59.670Z"
   },
   {
    "duration": 4,
    "start_time": "2024-03-05T08:40:08.826Z"
   },
   {
    "duration": 2027,
    "start_time": "2024-03-05T08:40:09.124Z"
   },
   {
    "duration": 160,
    "start_time": "2024-03-05T08:48:34.707Z"
   },
   {
    "duration": 350,
    "start_time": "2024-03-05T08:48:40.580Z"
   },
   {
    "duration": 272,
    "start_time": "2024-03-05T08:56:34.890Z"
   },
   {
    "duration": 63,
    "start_time": "2024-03-05T08:58:36.644Z"
   },
   {
    "duration": 68,
    "start_time": "2024-03-05T08:58:44.023Z"
   },
   {
    "duration": 3,
    "start_time": "2024-03-05T08:59:00.877Z"
   },
   {
    "duration": 64,
    "start_time": "2024-03-05T08:59:00.882Z"
   },
   {
    "duration": 920,
    "start_time": "2024-03-05T08:59:00.948Z"
   },
   {
    "duration": 264,
    "start_time": "2024-03-05T08:59:01.869Z"
   },
   {
    "duration": 450,
    "start_time": "2024-03-05T08:59:02.134Z"
   },
   {
    "duration": 970,
    "start_time": "2024-03-05T08:59:02.586Z"
   },
   {
    "duration": 127,
    "start_time": "2024-03-05T08:59:03.558Z"
   },
   {
    "duration": 4,
    "start_time": "2024-03-05T08:59:03.686Z"
   },
   {
    "duration": 15889,
    "start_time": "2024-03-05T08:59:03.693Z"
   },
   {
    "duration": 192,
    "start_time": "2024-03-05T08:59:19.584Z"
   },
   {
    "duration": 382,
    "start_time": "2024-03-05T08:59:19.778Z"
   },
   {
    "duration": 16603,
    "start_time": "2024-03-05T08:59:20.162Z"
   },
   {
    "duration": 197,
    "start_time": "2024-03-05T08:59:36.767Z"
   },
   {
    "duration": 184,
    "start_time": "2024-03-05T08:59:36.966Z"
   },
   {
    "duration": 74,
    "start_time": "2024-03-05T08:59:37.151Z"
   },
   {
    "duration": 282,
    "start_time": "2024-03-05T08:59:37.227Z"
   },
   {
    "duration": 73,
    "start_time": "2024-03-05T08:59:37.510Z"
   },
   {
    "duration": 290,
    "start_time": "2024-03-05T09:01:01.246Z"
   },
   {
    "duration": 1236,
    "start_time": "2024-03-05T09:01:18.533Z"
   },
   {
    "duration": 300,
    "start_time": "2024-03-05T09:01:35.597Z"
   },
   {
    "duration": 281,
    "start_time": "2024-03-05T09:01:50.811Z"
   },
   {
    "duration": 303,
    "start_time": "2024-03-05T09:01:58.005Z"
   },
   {
    "duration": 296,
    "start_time": "2024-03-05T09:02:03.064Z"
   },
   {
    "duration": 281,
    "start_time": "2024-03-05T09:02:12.653Z"
   },
   {
    "duration": 65,
    "start_time": "2024-03-05T09:03:17.499Z"
   },
   {
    "duration": 82,
    "start_time": "2024-03-05T09:05:00.260Z"
   },
   {
    "duration": 30,
    "start_time": "2024-03-05T09:10:21.707Z"
   },
   {
    "duration": 241,
    "start_time": "2024-03-05T09:11:55.345Z"
   },
   {
    "duration": 669,
    "start_time": "2024-03-05T09:12:57.444Z"
   },
   {
    "duration": 9,
    "start_time": "2024-03-05T09:13:19.540Z"
   },
   {
    "duration": 1228,
    "start_time": "2024-03-05T09:13:19.550Z"
   },
   {
    "duration": 939,
    "start_time": "2024-03-05T09:13:20.780Z"
   },
   {
    "duration": 289,
    "start_time": "2024-03-05T09:13:21.721Z"
   },
   {
    "duration": 519,
    "start_time": "2024-03-05T09:13:22.013Z"
   },
   {
    "duration": 1030,
    "start_time": "2024-03-05T09:13:22.534Z"
   },
   {
    "duration": 127,
    "start_time": "2024-03-05T09:13:23.566Z"
   },
   {
    "duration": 4,
    "start_time": "2024-03-05T09:13:23.695Z"
   },
   {
    "duration": 16012,
    "start_time": "2024-03-05T09:13:23.701Z"
   },
   {
    "duration": 217,
    "start_time": "2024-03-05T09:13:39.715Z"
   },
   {
    "duration": 371,
    "start_time": "2024-03-05T09:13:39.934Z"
   },
   {
    "duration": 16130,
    "start_time": "2024-03-05T09:13:40.307Z"
   },
   {
    "duration": 185,
    "start_time": "2024-03-05T09:13:56.439Z"
   },
   {
    "duration": 177,
    "start_time": "2024-03-05T09:13:56.626Z"
   },
   {
    "duration": 83,
    "start_time": "2024-03-05T09:13:56.805Z"
   },
   {
    "duration": 324,
    "start_time": "2024-03-05T09:13:56.890Z"
   },
   {
    "duration": 75,
    "start_time": "2024-03-05T09:13:57.216Z"
   },
   {
    "duration": 297,
    "start_time": "2024-03-05T09:13:57.293Z"
   },
   {
    "duration": 1213,
    "start_time": "2024-03-05T09:13:57.592Z"
   },
   {
    "duration": 295,
    "start_time": "2024-03-05T09:13:58.807Z"
   },
   {
    "duration": 76,
    "start_time": "2024-03-05T09:13:59.104Z"
   },
   {
    "duration": 79,
    "start_time": "2024-03-05T09:13:59.181Z"
   },
   {
    "duration": 38,
    "start_time": "2024-03-05T09:13:59.261Z"
   },
   {
    "duration": 261,
    "start_time": "2024-03-05T09:13:59.301Z"
   },
   {
    "duration": 786,
    "start_time": "2024-03-05T09:13:59.564Z"
   },
   {
    "duration": 247,
    "start_time": "2024-03-05T09:28:17.045Z"
   },
   {
    "duration": 22,
    "start_time": "2024-03-05T09:31:45.017Z"
   },
   {
    "duration": 17,
    "start_time": "2024-03-05T09:32:09.208Z"
   },
   {
    "duration": 87,
    "start_time": "2024-03-05T09:32:13.977Z"
   },
   {
    "duration": 18,
    "start_time": "2024-03-05T09:34:20.901Z"
   },
   {
    "duration": 79,
    "start_time": "2024-03-05T09:34:30.191Z"
   },
   {
    "duration": 159,
    "start_time": "2024-03-05T09:34:55.733Z"
   },
   {
    "duration": 78,
    "start_time": "2024-03-05T09:45:42.185Z"
   },
   {
    "duration": 131,
    "start_time": "2024-03-05T09:46:07.297Z"
   },
   {
    "duration": 244,
    "start_time": "2024-03-05T09:46:38.125Z"
   },
   {
    "duration": 125,
    "start_time": "2024-03-05T09:46:45.580Z"
   },
   {
    "duration": 10,
    "start_time": "2024-03-05T09:50:23.981Z"
   },
   {
    "duration": 134,
    "start_time": "2024-03-05T09:50:44.570Z"
   },
   {
    "duration": 4,
    "start_time": "2024-03-05T10:16:56.112Z"
   },
   {
    "duration": 85,
    "start_time": "2024-03-05T10:17:10.309Z"
   },
   {
    "duration": 4,
    "start_time": "2024-03-05T10:19:47.083Z"
   },
   {
    "duration": 22,
    "start_time": "2024-03-05T10:24:47.033Z"
   },
   {
    "duration": 358,
    "start_time": "2024-03-05T10:25:19.643Z"
   },
   {
    "duration": 789,
    "start_time": "2024-03-05T10:25:25.090Z"
   },
   {
    "duration": 759,
    "start_time": "2024-03-05T10:25:40.817Z"
   },
   {
    "duration": 2,
    "start_time": "2024-03-05T10:27:22.233Z"
   },
   {
    "duration": 373,
    "start_time": "2024-03-05T10:27:49.354Z"
   },
   {
    "duration": 65882,
    "start_time": "2024-03-05T10:28:18.991Z"
   },
   {
    "duration": 257,
    "start_time": "2024-03-05T10:30:58.326Z"
   },
   {
    "duration": 119,
    "start_time": "2024-03-05T10:31:19.657Z"
   },
   {
    "duration": 133,
    "start_time": "2024-03-05T10:34:57.593Z"
   },
   {
    "duration": 115,
    "start_time": "2024-03-05T10:35:03.886Z"
   },
   {
    "duration": 65391,
    "start_time": "2024-03-05T10:35:38.282Z"
   },
   {
    "duration": 67175,
    "start_time": "2024-03-05T10:36:55.501Z"
   },
   {
    "duration": 119,
    "start_time": "2024-03-05T10:40:40.192Z"
   },
   {
    "duration": 67806,
    "start_time": "2024-03-05T10:46:19.868Z"
   },
   {
    "duration": 86843,
    "start_time": "2024-03-05T10:47:41.940Z"
   },
   {
    "duration": 70487,
    "start_time": "2024-03-05T10:49:40.790Z"
   },
   {
    "duration": 67194,
    "start_time": "2024-03-05T10:50:58.680Z"
   },
   {
    "duration": 104307,
    "start_time": "2024-03-05T10:53:04.882Z"
   },
   {
    "duration": 113569,
    "start_time": "2024-03-05T10:55:36.311Z"
   },
   {
    "duration": 84442,
    "start_time": "2024-03-05T10:58:51.331Z"
   },
   {
    "duration": 136,
    "start_time": "2024-03-05T11:07:51.963Z"
   },
   {
    "duration": 81089,
    "start_time": "2024-03-05T11:08:33.708Z"
   },
   {
    "duration": 73888,
    "start_time": "2024-03-05T11:14:03.274Z"
   },
   {
    "duration": 73714,
    "start_time": "2024-03-05T11:21:01.384Z"
   },
   {
    "duration": 73548,
    "start_time": "2024-03-05T11:26:02.075Z"
   },
   {
    "duration": 73924,
    "start_time": "2024-03-05T11:27:47.328Z"
   },
   {
    "duration": 2344,
    "start_time": "2024-03-05T11:30:47.341Z"
   },
   {
    "duration": 2319,
    "start_time": "2024-03-05T11:32:11.109Z"
   },
   {
    "duration": 2343,
    "start_time": "2024-03-05T11:32:40.523Z"
   },
   {
    "duration": 2358,
    "start_time": "2024-03-05T11:33:51.616Z"
   },
   {
    "duration": 2383,
    "start_time": "2024-03-05T11:36:05.754Z"
   },
   {
    "duration": 11302,
    "start_time": "2024-03-05T11:37:25.197Z"
   },
   {
    "duration": 348837,
    "start_time": "2024-03-05T11:38:00.493Z"
   },
   {
    "duration": 2391,
    "start_time": "2024-03-05T11:45:48.669Z"
   },
   {
    "duration": 2516,
    "start_time": "2024-03-05T11:46:45.630Z"
   },
   {
    "duration": 730,
    "start_time": "2024-03-05T11:47:48.288Z"
   },
   {
    "duration": 355,
    "start_time": "2024-03-05T11:47:50.952Z"
   },
   {
    "duration": 285,
    "start_time": "2024-03-05T11:47:58.197Z"
   },
   {
    "duration": 2488,
    "start_time": "2024-03-05T11:48:01.805Z"
   },
   {
    "duration": 130,
    "start_time": "2024-03-05T11:52:31.755Z"
   },
   {
    "duration": 1550,
    "start_time": "2024-03-05T11:53:41.520Z"
   },
   {
    "duration": 2239,
    "start_time": "2024-03-05T11:53:52.252Z"
   },
   {
    "duration": 40,
    "start_time": "2024-03-05T11:54:50.769Z"
   },
   {
    "duration": 581,
    "start_time": "2024-03-05T11:55:06.317Z"
   },
   {
    "duration": 1576,
    "start_time": "2024-03-05T11:55:40.848Z"
   },
   {
    "duration": 1601,
    "start_time": "2024-03-05T11:55:47.140Z"
   },
   {
    "duration": 2460,
    "start_time": "2024-03-05T11:56:37.097Z"
   },
   {
    "duration": 1578,
    "start_time": "2024-03-05T11:57:09.699Z"
   },
   {
    "duration": 38,
    "start_time": "2024-03-05T11:57:14.578Z"
   },
   {
    "duration": 93,
    "start_time": "2024-03-05T11:57:17.758Z"
   },
   {
    "duration": 1625,
    "start_time": "2024-03-05T11:57:27.607Z"
   },
   {
    "duration": 35,
    "start_time": "2024-03-05T11:57:39.250Z"
   },
   {
    "duration": 168,
    "start_time": "2024-03-05T12:01:09.196Z"
   },
   {
    "duration": 66,
    "start_time": "2024-03-05T12:01:32.239Z"
   },
   {
    "duration": 160,
    "start_time": "2024-03-05T12:02:24.854Z"
   },
   {
    "duration": 20,
    "start_time": "2024-03-05T12:03:17.038Z"
   },
   {
    "duration": 20,
    "start_time": "2024-03-05T12:03:26.447Z"
   },
   {
    "duration": 3025,
    "start_time": "2024-03-05T12:04:23.216Z"
   },
   {
    "duration": 30059,
    "start_time": "2024-03-05T12:05:01.988Z"
   },
   {
    "duration": 928,
    "start_time": "2024-03-05T12:06:49.407Z"
   },
   {
    "duration": 375,
    "start_time": "2024-03-05T12:06:51.609Z"
   },
   {
    "duration": 95418,
    "start_time": "2024-03-05T12:07:07.660Z"
   },
   {
    "duration": 90191,
    "start_time": "2024-03-05T12:08:50.483Z"
   },
   {
    "duration": 90702,
    "start_time": "2024-03-05T12:10:20.676Z"
   },
   {
    "duration": 74925,
    "start_time": "2024-03-05T12:12:34.250Z"
   },
   {
    "duration": 7460,
    "start_time": "2024-03-05T12:13:49.178Z"
   },
   {
    "duration": 118,
    "start_time": "2024-03-05T12:16:12.343Z"
   },
   {
    "duration": 338817,
    "start_time": "2024-03-05T12:16:50.885Z"
   },
   {
    "duration": 28198,
    "start_time": "2024-03-05T12:22:29.705Z"
   },
   {
    "duration": 85704,
    "start_time": "2024-03-05T12:25:26.679Z"
   },
   {
    "duration": 80440,
    "start_time": "2024-03-05T12:27:50.650Z"
   },
   {
    "duration": 19492,
    "start_time": "2024-03-05T12:55:07.489Z"
   },
   {
    "duration": 164,
    "start_time": "2024-03-05T12:55:27.716Z"
   },
   {
    "duration": 4219,
    "start_time": "2024-03-05T12:56:24.724Z"
   },
   {
    "duration": 121,
    "start_time": "2024-03-05T12:56:39.659Z"
   },
   {
    "duration": 122,
    "start_time": "2024-03-05T12:57:09.143Z"
   },
   {
    "duration": 118,
    "start_time": "2024-03-05T12:57:11.734Z"
   },
   {
    "duration": 3,
    "start_time": "2024-03-05T12:57:15.547Z"
   },
   {
    "duration": 6,
    "start_time": "2024-03-05T12:57:20.205Z"
   },
   {
    "duration": 434,
    "start_time": "2024-03-05T12:57:42.266Z"
   },
   {
    "duration": 17,
    "start_time": "2024-03-05T12:57:51.458Z"
   },
   {
    "duration": 4,
    "start_time": "2024-03-05T12:58:02.106Z"
   },
   {
    "duration": 5,
    "start_time": "2024-03-05T12:58:10.730Z"
   },
   {
    "duration": 26111,
    "start_time": "2024-03-05T12:58:38.971Z"
   },
   {
    "duration": 68,
    "start_time": "2024-03-05T12:59:05.084Z"
   },
   {
    "duration": 5,
    "start_time": "2024-03-05T12:59:05.154Z"
   },
   {
    "duration": 6924,
    "start_time": "2024-03-05T12:59:08.244Z"
   },
   {
    "duration": 6924,
    "start_time": "2024-03-05T12:59:27.991Z"
   },
   {
    "duration": 83,
    "start_time": "2024-03-05T12:59:34.916Z"
   },
   {
    "duration": 5,
    "start_time": "2024-03-05T12:59:42.674Z"
   },
   {
    "duration": 9187,
    "start_time": "2024-03-05T13:00:09.998Z"
   },
   {
    "duration": 696,
    "start_time": "2024-03-05T13:00:19.187Z"
   },
   {
    "duration": 5,
    "start_time": "2024-03-05T13:00:32.720Z"
   },
   {
    "duration": 16336,
    "start_time": "2024-03-05T13:03:00.741Z"
   },
   {
    "duration": 293,
    "start_time": "2024-03-05T13:03:17.079Z"
   },
   {
    "duration": 97,
    "start_time": "2024-03-05T13:03:17.376Z"
   },
   {
    "duration": 4313,
    "start_time": "2024-03-05T13:04:03.235Z"
   },
   {
    "duration": 126,
    "start_time": "2024-03-05T13:04:07.551Z"
   },
   {
    "duration": 5,
    "start_time": "2024-03-05T13:04:10.085Z"
   },
   {
    "duration": 4,
    "start_time": "2024-03-05T13:10:00.193Z"
   },
   {
    "duration": 10,
    "start_time": "2024-03-05T13:10:35.533Z"
   },
   {
    "duration": 10,
    "start_time": "2024-03-05T14:15:30.016Z"
   },
   {
    "duration": 32,
    "start_time": "2024-03-05T14:15:30.028Z"
   },
   {
    "duration": 1709,
    "start_time": "2024-03-05T14:15:30.062Z"
   },
   {
    "duration": 988,
    "start_time": "2024-03-05T14:15:31.773Z"
   },
   {
    "duration": 294,
    "start_time": "2024-03-05T14:15:32.762Z"
   },
   {
    "duration": 527,
    "start_time": "2024-03-05T14:15:33.057Z"
   },
   {
    "duration": 1037,
    "start_time": "2024-03-05T14:15:33.585Z"
   },
   {
    "duration": 145,
    "start_time": "2024-03-05T14:15:34.624Z"
   },
   {
    "duration": 4,
    "start_time": "2024-03-05T14:15:34.771Z"
   },
   {
    "duration": 16081,
    "start_time": "2024-03-05T14:15:34.778Z"
   },
   {
    "duration": 224,
    "start_time": "2024-03-05T14:15:50.861Z"
   },
   {
    "duration": 378,
    "start_time": "2024-03-05T14:15:51.086Z"
   },
   {
    "duration": 16418,
    "start_time": "2024-03-05T14:15:51.465Z"
   },
   {
    "duration": 191,
    "start_time": "2024-03-05T14:16:07.885Z"
   },
   {
    "duration": 229,
    "start_time": "2024-03-05T14:16:08.078Z"
   },
   {
    "duration": 76,
    "start_time": "2024-03-05T14:16:08.308Z"
   },
   {
    "duration": 287,
    "start_time": "2024-03-05T14:16:08.386Z"
   },
   {
    "duration": 65,
    "start_time": "2024-03-05T14:16:08.674Z"
   },
   {
    "duration": 349,
    "start_time": "2024-03-05T14:16:08.741Z"
   },
   {
    "duration": 1212,
    "start_time": "2024-03-05T14:16:09.092Z"
   },
   {
    "duration": 317,
    "start_time": "2024-03-05T14:16:10.306Z"
   },
   {
    "duration": 80,
    "start_time": "2024-03-05T14:16:10.625Z"
   },
   {
    "duration": 84,
    "start_time": "2024-03-05T14:16:10.706Z"
   },
   {
    "duration": 29,
    "start_time": "2024-03-05T14:16:10.791Z"
   },
   {
    "duration": 269,
    "start_time": "2024-03-05T14:16:10.822Z"
   },
   {
    "duration": 255,
    "start_time": "2024-03-05T14:16:11.093Z"
   },
   {
    "duration": 23,
    "start_time": "2024-03-05T14:16:11.350Z"
   },
   {
    "duration": 18,
    "start_time": "2024-03-05T14:16:11.377Z"
   },
   {
    "duration": 89,
    "start_time": "2024-03-05T14:16:11.396Z"
   },
   {
    "duration": 138,
    "start_time": "2024-03-05T14:16:11.487Z"
   },
   {
    "duration": 275,
    "start_time": "2024-03-05T14:16:11.627Z"
   },
   {
    "duration": 11,
    "start_time": "2024-03-05T14:16:11.904Z"
   },
   {
    "duration": 148,
    "start_time": "2024-03-05T14:16:11.916Z"
   },
   {
    "duration": 4,
    "start_time": "2024-03-05T14:16:12.072Z"
   },
   {
    "duration": 115,
    "start_time": "2024-03-05T14:16:12.077Z"
   },
   {
    "duration": 915,
    "start_time": "2024-03-05T14:16:12.194Z"
   },
   {
    "duration": 376,
    "start_time": "2024-03-05T14:16:13.110Z"
   },
   {
    "duration": 81794,
    "start_time": "2024-03-05T14:16:13.487Z"
   },
   {
    "duration": 90992,
    "start_time": "2024-03-05T14:17:35.283Z"
   },
   {
    "duration": 93299,
    "start_time": "2024-03-05T14:19:06.277Z"
   },
   {
    "duration": 75079,
    "start_time": "2024-03-05T14:20:39.578Z"
   },
   {
    "duration": 7550,
    "start_time": "2024-03-05T14:21:54.659Z"
   },
   {
    "duration": 339901,
    "start_time": "2024-03-05T14:22:02.211Z"
   },
   {
    "duration": 28676,
    "start_time": "2024-03-05T14:27:42.114Z"
   },
   {
    "duration": 8,
    "start_time": "2024-03-05T14:46:55.909Z"
   },
   {
    "duration": 27,
    "start_time": "2024-03-05T14:46:55.919Z"
   },
   {
    "duration": 1652,
    "start_time": "2024-03-05T14:46:55.948Z"
   },
   {
    "duration": 977,
    "start_time": "2024-03-05T14:46:57.603Z"
   },
   {
    "duration": 286,
    "start_time": "2024-03-05T14:46:58.581Z"
   },
   {
    "duration": 552,
    "start_time": "2024-03-05T14:46:58.868Z"
   },
   {
    "duration": 1054,
    "start_time": "2024-03-05T14:46:59.422Z"
   },
   {
    "duration": 126,
    "start_time": "2024-03-05T14:47:00.478Z"
   },
   {
    "duration": 5,
    "start_time": "2024-03-05T14:47:00.606Z"
   },
   {
    "duration": 16243,
    "start_time": "2024-03-05T14:47:00.613Z"
   },
   {
    "duration": 249,
    "start_time": "2024-03-05T14:47:16.857Z"
   },
   {
    "duration": 409,
    "start_time": "2024-03-05T14:47:17.108Z"
   },
   {
    "duration": 16970,
    "start_time": "2024-03-05T14:47:17.519Z"
   },
   {
    "duration": 186,
    "start_time": "2024-03-05T14:47:34.491Z"
   },
   {
    "duration": 181,
    "start_time": "2024-03-05T14:47:34.679Z"
   },
   {
    "duration": 78,
    "start_time": "2024-03-05T14:47:34.862Z"
   },
   {
    "duration": 322,
    "start_time": "2024-03-05T14:47:34.942Z"
   },
   {
    "duration": 75,
    "start_time": "2024-03-05T14:47:35.266Z"
   },
   {
    "duration": 323,
    "start_time": "2024-03-05T14:47:35.343Z"
   },
   {
    "duration": 1197,
    "start_time": "2024-03-05T14:47:35.668Z"
   },
   {
    "duration": 330,
    "start_time": "2024-03-05T14:47:36.867Z"
   },
   {
    "duration": 81,
    "start_time": "2024-03-05T14:47:37.198Z"
   },
   {
    "duration": 80,
    "start_time": "2024-03-05T14:47:37.280Z"
   },
   {
    "duration": 44,
    "start_time": "2024-03-05T14:47:37.361Z"
   },
   {
    "duration": 252,
    "start_time": "2024-03-05T14:47:37.407Z"
   },
   {
    "duration": 251,
    "start_time": "2024-03-05T14:47:37.661Z"
   },
   {
    "duration": 19,
    "start_time": "2024-03-05T14:47:37.913Z"
   },
   {
    "duration": 35,
    "start_time": "2024-03-05T14:47:37.938Z"
   },
   {
    "duration": 83,
    "start_time": "2024-03-05T14:47:37.974Z"
   },
   {
    "duration": 148,
    "start_time": "2024-03-05T14:47:38.059Z"
   },
   {
    "duration": 260,
    "start_time": "2024-03-05T14:47:38.209Z"
   },
   {
    "duration": 10,
    "start_time": "2024-03-05T14:47:38.471Z"
   },
   {
    "duration": 142,
    "start_time": "2024-03-05T14:47:38.482Z"
   },
   {
    "duration": 4,
    "start_time": "2024-03-05T14:47:38.625Z"
   },
   {
    "duration": 101,
    "start_time": "2024-03-05T14:47:38.630Z"
   },
   {
    "duration": 910,
    "start_time": "2024-03-05T14:47:38.733Z"
   },
   {
    "duration": 367,
    "start_time": "2024-03-05T14:47:39.644Z"
   },
   {
    "duration": 82692,
    "start_time": "2024-03-05T14:47:40.012Z"
   },
   {
    "duration": 91168,
    "start_time": "2024-03-05T14:49:02.706Z"
   },
   {
    "duration": 93097,
    "start_time": "2024-03-05T14:50:33.877Z"
   },
   {
    "duration": 75206,
    "start_time": "2024-03-05T14:52:06.980Z"
   },
   {
    "duration": 7577,
    "start_time": "2024-03-05T14:53:22.188Z"
   },
   {
    "duration": 340773,
    "start_time": "2024-03-05T14:53:29.766Z"
   },
   {
    "duration": 29332,
    "start_time": "2024-03-05T14:59:10.540Z"
   },
   {
    "duration": 778631,
    "start_time": "2024-03-05T14:59:39.873Z"
   },
   {
    "duration": 23175,
    "start_time": "2024-03-05T15:12:38.505Z"
   },
   {
    "duration": 397,
    "start_time": "2024-03-05T15:13:01.682Z"
   },
   {
    "duration": 92,
    "start_time": "2024-03-05T15:13:02.082Z"
   },
   {
    "duration": 5432,
    "start_time": "2024-03-05T15:13:02.176Z"
   },
   {
    "duration": 136,
    "start_time": "2024-03-05T15:13:07.609Z"
   },
   {
    "duration": 6,
    "start_time": "2024-03-05T15:13:07.746Z"
   },
   {
    "duration": 484,
    "start_time": "2024-03-05T15:13:07.753Z"
   },
   {
    "duration": 16,
    "start_time": "2024-03-05T15:13:08.238Z"
   },
   {
    "duration": 11,
    "start_time": "2024-03-05T15:13:08.272Z"
   },
   {
    "duration": 27441,
    "start_time": "2024-03-05T15:13:08.284Z"
   },
   {
    "duration": 69,
    "start_time": "2024-03-05T15:13:35.726Z"
   },
   {
    "duration": 5,
    "start_time": "2024-03-05T15:13:35.797Z"
   },
   {
    "duration": 3690,
    "start_time": "2024-03-05T15:13:35.804Z"
   },
   {
    "duration": 105,
    "start_time": "2024-03-05T15:13:39.496Z"
   },
   {
    "duration": 6,
    "start_time": "2024-03-05T15:13:39.603Z"
   },
   {
    "duration": 10,
    "start_time": "2024-03-05T15:14:03.462Z"
   },
   {
    "duration": 4,
    "start_time": "2024-03-05T15:14:04.172Z"
   },
   {
    "duration": 1548,
    "start_time": "2024-03-05T15:14:05.243Z"
   },
   {
    "duration": 997,
    "start_time": "2024-03-05T15:14:06.794Z"
   },
   {
    "duration": 301,
    "start_time": "2024-03-05T15:14:07.794Z"
   },
   {
    "duration": 594,
    "start_time": "2024-03-05T15:14:13.158Z"
   },
   {
    "duration": 1078,
    "start_time": "2024-03-05T15:14:14.496Z"
   },
   {
    "duration": 166,
    "start_time": "2024-03-05T15:14:16.211Z"
   },
   {
    "duration": 4,
    "start_time": "2024-03-05T15:14:17.746Z"
   },
   {
    "duration": 16870,
    "start_time": "2024-03-05T15:14:18.631Z"
   },
   {
    "duration": 219,
    "start_time": "2024-03-05T15:14:37.430Z"
   },
   {
    "duration": 371,
    "start_time": "2024-03-05T15:14:38.609Z"
   },
   {
    "duration": 17093,
    "start_time": "2024-03-05T15:14:39.887Z"
   },
   {
    "duration": 178,
    "start_time": "2024-03-05T15:15:00.514Z"
   },
   {
    "duration": 215,
    "start_time": "2024-03-05T15:15:04.083Z"
   },
   {
    "duration": 101,
    "start_time": "2024-03-05T15:15:06.372Z"
   },
   {
    "duration": 284,
    "start_time": "2024-03-05T15:15:07.835Z"
   },
   {
    "duration": 66,
    "start_time": "2024-03-05T15:15:09.488Z"
   },
   {
    "duration": 290,
    "start_time": "2024-03-05T15:15:10.486Z"
   },
   {
    "duration": 1228,
    "start_time": "2024-03-05T15:15:11.919Z"
   },
   {
    "duration": 304,
    "start_time": "2024-03-05T15:15:14.871Z"
   },
   {
    "duration": 83,
    "start_time": "2024-03-05T15:15:16.665Z"
   },
   {
    "duration": 107,
    "start_time": "2024-03-05T15:15:17.908Z"
   },
   {
    "duration": 29,
    "start_time": "2024-03-05T15:15:19.742Z"
   },
   {
    "duration": 250,
    "start_time": "2024-03-05T15:15:20.695Z"
   },
   {
    "duration": 250,
    "start_time": "2024-03-05T15:15:21.056Z"
   },
   {
    "duration": 17,
    "start_time": "2024-03-05T15:15:21.950Z"
   },
   {
    "duration": 17,
    "start_time": "2024-03-05T15:15:23.286Z"
   },
   {
    "duration": 75,
    "start_time": "2024-03-05T15:15:24.550Z"
   },
   {
    "duration": 126,
    "start_time": "2024-03-05T15:15:25.746Z"
   },
   {
    "duration": 256,
    "start_time": "2024-03-05T15:15:26.382Z"
   },
   {
    "duration": 11,
    "start_time": "2024-03-05T15:15:27.587Z"
   },
   {
    "duration": 170,
    "start_time": "2024-03-05T15:15:28.568Z"
   },
   {
    "duration": 4,
    "start_time": "2024-03-05T15:15:30.427Z"
   },
   {
    "duration": 147,
    "start_time": "2024-03-05T15:15:33.266Z"
   },
   {
    "duration": 919,
    "start_time": "2024-03-05T15:15:41.319Z"
   },
   {
    "duration": 412,
    "start_time": "2024-03-05T15:15:43.153Z"
   },
   {
    "duration": 95208,
    "start_time": "2024-03-05T15:15:45.274Z"
   },
   {
    "duration": 94752,
    "start_time": "2024-03-05T15:17:34.427Z"
   },
   {
    "duration": 103506,
    "start_time": "2024-03-05T15:19:31.172Z"
   },
   {
    "duration": 77014,
    "start_time": "2024-03-05T15:21:24.026Z"
   },
   {
    "duration": 7845,
    "start_time": "2024-03-05T15:22:51.818Z"
   },
   {
    "duration": 352455,
    "start_time": "2024-03-05T15:23:22.073Z"
   },
   {
    "duration": 29485,
    "start_time": "2024-03-05T15:29:24.635Z"
   },
   {
    "duration": 1216203,
    "start_time": "2024-03-05T15:30:07.456Z"
   },
   {
    "duration": 14,
    "start_time": "2024-03-05T15:50:51.038Z"
   },
   {
    "duration": 3,
    "start_time": "2024-03-05T15:51:05.140Z"
   },
   {
    "duration": 179,
    "start_time": "2024-03-05T15:51:07.175Z"
   },
   {
    "duration": 302,
    "start_time": "2024-03-05T15:51:17.702Z"
   },
   {
    "duration": 429188,
    "start_time": "2024-03-05T15:51:27.407Z"
   },
   {
    "duration": 21444,
    "start_time": "2024-03-05T15:58:48.535Z"
   },
   {
    "duration": 224,
    "start_time": "2024-03-05T15:59:09.981Z"
   },
   {
    "duration": 69,
    "start_time": "2024-03-05T15:59:10.206Z"
   },
   {
    "duration": 4258,
    "start_time": "2024-03-05T15:59:17.062Z"
   },
   {
    "duration": 120,
    "start_time": "2024-03-05T15:59:23.594Z"
   },
   {
    "duration": 6,
    "start_time": "2024-03-05T15:59:26.357Z"
   },
   {
    "duration": 444,
    "start_time": "2024-03-05T15:59:32.903Z"
   },
   {
    "duration": 16,
    "start_time": "2024-03-05T15:59:37.423Z"
   },
   {
    "duration": 5,
    "start_time": "2024-03-05T15:59:39.815Z"
   },
   {
    "duration": 26342,
    "start_time": "2024-03-05T15:59:44.658Z"
   },
   {
    "duration": 87,
    "start_time": "2024-03-05T16:00:15.086Z"
   },
   {
    "duration": 5,
    "start_time": "2024-03-05T16:00:17.111Z"
   },
   {
    "duration": 6874,
    "start_time": "2024-03-05T16:00:21.596Z"
   },
   {
    "duration": 91,
    "start_time": "2024-03-05T16:00:31.951Z"
   },
   {
    "duration": 5,
    "start_time": "2024-03-05T16:00:34.149Z"
   },
   {
    "duration": 139112,
    "start_time": "2024-03-05T16:00:38.273Z"
   },
   {
    "duration": 59782,
    "start_time": "2024-03-05T16:03:02.781Z"
   },
   {
    "duration": 40944,
    "start_time": "2024-03-05T16:04:07.455Z"
   },
   {
    "duration": 8,
    "start_time": "2024-03-05T16:05:34.781Z"
   },
   {
    "duration": 20,
    "start_time": "2024-03-05T16:05:34.791Z"
   },
   {
    "duration": 1607,
    "start_time": "2024-03-05T16:05:34.813Z"
   },
   {
    "duration": 976,
    "start_time": "2024-03-05T16:05:36.422Z"
   },
   {
    "duration": 285,
    "start_time": "2024-03-05T16:05:37.400Z"
   },
   {
    "duration": 539,
    "start_time": "2024-03-05T16:05:37.687Z"
   },
   {
    "duration": 1071,
    "start_time": "2024-03-05T16:05:38.228Z"
   },
   {
    "duration": 137,
    "start_time": "2024-03-05T16:05:39.301Z"
   },
   {
    "duration": 6,
    "start_time": "2024-03-05T16:05:39.439Z"
   },
   {
    "duration": 16296,
    "start_time": "2024-03-05T16:05:39.447Z"
   },
   {
    "duration": 226,
    "start_time": "2024-03-05T16:05:55.744Z"
   },
   {
    "duration": 382,
    "start_time": "2024-03-05T16:05:55.973Z"
   },
   {
    "duration": 16761,
    "start_time": "2024-03-05T16:05:56.357Z"
   },
   {
    "duration": 215,
    "start_time": "2024-03-05T16:06:13.121Z"
   },
   {
    "duration": 214,
    "start_time": "2024-03-05T16:06:13.338Z"
   },
   {
    "duration": 96,
    "start_time": "2024-03-05T16:06:13.554Z"
   },
   {
    "duration": 288,
    "start_time": "2024-03-05T16:06:13.652Z"
   },
   {
    "duration": 76,
    "start_time": "2024-03-05T16:06:13.942Z"
   },
   {
    "duration": 338,
    "start_time": "2024-03-05T16:06:14.019Z"
   },
   {
    "duration": 1189,
    "start_time": "2024-03-05T16:06:14.359Z"
   },
   {
    "duration": 302,
    "start_time": "2024-03-05T16:06:15.550Z"
   },
   {
    "duration": 80,
    "start_time": "2024-03-05T16:06:15.854Z"
   },
   {
    "duration": 104,
    "start_time": "2024-03-05T16:06:15.937Z"
   },
   {
    "duration": 58,
    "start_time": "2024-03-05T16:06:16.043Z"
   },
   {
    "duration": 290,
    "start_time": "2024-03-05T16:06:16.103Z"
   },
   {
    "duration": 252,
    "start_time": "2024-03-05T16:06:16.394Z"
   },
   {
    "duration": 17,
    "start_time": "2024-03-05T16:06:16.648Z"
   },
   {
    "duration": 22,
    "start_time": "2024-03-05T16:06:16.667Z"
   },
   {
    "duration": 91,
    "start_time": "2024-03-05T16:06:16.691Z"
   },
   {
    "duration": 139,
    "start_time": "2024-03-05T16:06:16.784Z"
   },
   {
    "duration": 288,
    "start_time": "2024-03-05T16:06:16.924Z"
   },
   {
    "duration": 10,
    "start_time": "2024-03-05T16:06:17.214Z"
   },
   {
    "duration": 177,
    "start_time": "2024-03-05T16:06:17.226Z"
   },
   {
    "duration": 5,
    "start_time": "2024-03-05T16:06:17.405Z"
   },
   {
    "duration": 110,
    "start_time": "2024-03-05T16:06:17.412Z"
   },
   {
    "duration": 908,
    "start_time": "2024-03-05T16:06:17.524Z"
   },
   {
    "duration": 388,
    "start_time": "2024-03-05T16:06:18.434Z"
   },
   {
    "duration": 80951,
    "start_time": "2024-03-05T16:06:18.824Z"
   },
   {
    "duration": 92395,
    "start_time": "2024-03-05T16:07:39.779Z"
   },
   {
    "duration": 92899,
    "start_time": "2024-03-05T16:09:12.177Z"
   },
   {
    "duration": 75573,
    "start_time": "2024-03-05T16:10:45.083Z"
   },
   {
    "duration": 8009,
    "start_time": "2024-03-05T16:12:00.658Z"
   },
   {
    "duration": 354003,
    "start_time": "2024-03-05T16:12:08.673Z"
   },
   {
    "duration": 28626,
    "start_time": "2024-03-05T16:18:02.678Z"
   },
   {
    "duration": 0,
    "start_time": "2024-03-05T17:13:50.998Z"
   },
   {
    "duration": 12,
    "start_time": "2024-03-05T17:14:27.527Z"
   },
   {
    "duration": 4,
    "start_time": "2024-03-05T17:14:28.150Z"
   },
   {
    "duration": 2988,
    "start_time": "2024-03-05T17:14:28.786Z"
   },
   {
    "duration": 2291,
    "start_time": "2024-03-05T17:14:34.605Z"
   },
   {
    "duration": 715,
    "start_time": "2024-03-05T17:14:36.898Z"
   },
   {
    "duration": 1156,
    "start_time": "2024-03-05T17:14:42.520Z"
   },
   {
    "duration": 2373,
    "start_time": "2024-03-05T17:14:44.200Z"
   },
   {
    "duration": 224,
    "start_time": "2024-03-05T17:14:46.575Z"
   },
   {
    "duration": 4,
    "start_time": "2024-03-05T17:14:47.984Z"
   },
   {
    "duration": 33213,
    "start_time": "2024-03-05T17:14:51.597Z"
   },
   {
    "duration": 559,
    "start_time": "2024-03-05T17:15:50.320Z"
   },
   {
    "duration": 766,
    "start_time": "2024-03-05T17:15:52.128Z"
   },
   {
    "duration": 34139,
    "start_time": "2024-03-05T17:15:53.597Z"
   },
   {
    "duration": 424,
    "start_time": "2024-03-05T17:16:30.955Z"
   },
   {
    "duration": 397,
    "start_time": "2024-03-05T17:16:32.776Z"
   },
   {
    "duration": 137,
    "start_time": "2024-03-05T17:16:35.555Z"
   },
   {
    "duration": 600,
    "start_time": "2024-03-05T17:16:37.113Z"
   },
   {
    "duration": 101,
    "start_time": "2024-03-05T17:16:39.509Z"
   },
   {
    "duration": 688,
    "start_time": "2024-03-05T17:16:41.318Z"
   },
   {
    "duration": 2519,
    "start_time": "2024-03-05T17:16:44.588Z"
   },
   {
    "duration": 685,
    "start_time": "2024-03-05T17:16:47.110Z"
   },
   {
    "duration": 141,
    "start_time": "2024-03-05T17:16:50.136Z"
   },
   {
    "duration": 126,
    "start_time": "2024-03-05T17:16:51.680Z"
   },
   {
    "duration": 57,
    "start_time": "2024-03-05T17:16:54.016Z"
   },
   {
    "duration": 515,
    "start_time": "2024-03-05T17:16:55.172Z"
   },
   {
    "duration": 533,
    "start_time": "2024-03-05T17:16:56.353Z"
   },
   {
    "duration": 17,
    "start_time": "2024-03-05T17:16:57.922Z"
   },
   {
    "duration": 17,
    "start_time": "2024-03-05T17:16:59.293Z"
   },
   {
    "duration": 89,
    "start_time": "2024-03-05T17:17:00.628Z"
   },
   {
    "duration": 277,
    "start_time": "2024-03-05T17:17:02.322Z"
   },
   {
    "duration": 509,
    "start_time": "2024-03-05T17:17:03.707Z"
   },
   {
    "duration": 25,
    "start_time": "2024-03-05T17:17:06.748Z"
   },
   {
    "duration": 220,
    "start_time": "2024-03-05T17:17:08.799Z"
   },
   {
    "duration": 4,
    "start_time": "2024-03-05T17:17:11.824Z"
   },
   {
    "duration": 139,
    "start_time": "2024-03-05T17:17:13.372Z"
   },
   {
    "duration": 1845,
    "start_time": "2024-03-05T17:17:46.737Z"
   },
   {
    "duration": 734,
    "start_time": "2024-03-05T17:17:50.860Z"
   },
   {
    "duration": 112408,
    "start_time": "2024-03-05T17:17:54.374Z"
   },
   {
    "duration": 127794,
    "start_time": "2024-03-05T17:19:46.785Z"
   },
   {
    "duration": 137781,
    "start_time": "2024-03-05T17:22:33.007Z"
   },
   {
    "duration": 165827,
    "start_time": "2024-03-05T17:25:00.448Z"
   },
   {
    "duration": 1298,
    "start_time": "2024-03-05T17:29:43.681Z"
   },
   {
    "duration": 6,
    "start_time": "2024-03-05T17:30:39.473Z"
   },
   {
    "duration": 51498,
    "start_time": "2024-03-05T17:30:39.481Z"
   },
   {
    "duration": 7,
    "start_time": "2024-03-05T17:40:18.430Z"
   },
   {
    "duration": 11,
    "start_time": "2024-03-05T17:40:18.439Z"
   },
   {
    "duration": 1514,
    "start_time": "2024-03-05T17:40:18.452Z"
   },
   {
    "duration": 945,
    "start_time": "2024-03-05T17:40:19.968Z"
   },
   {
    "duration": 436,
    "start_time": "2024-03-05T17:40:20.958Z"
   },
   {
    "duration": 712,
    "start_time": "2024-03-05T17:40:21.395Z"
   },
   {
    "duration": 735,
    "start_time": "2024-03-05T17:40:22.108Z"
   },
   {
    "duration": 86,
    "start_time": "2024-03-05T17:40:22.844Z"
   },
   {
    "duration": 3,
    "start_time": "2024-03-05T17:40:22.931Z"
   },
   {
    "duration": 11340,
    "start_time": "2024-03-05T17:40:22.937Z"
   },
   {
    "duration": 178,
    "start_time": "2024-03-05T17:40:34.279Z"
   },
   {
    "duration": 271,
    "start_time": "2024-03-05T17:40:34.459Z"
   },
   {
    "duration": 11683,
    "start_time": "2024-03-05T17:40:34.732Z"
   },
   {
    "duration": 148,
    "start_time": "2024-03-05T17:40:46.416Z"
   },
   {
    "duration": 136,
    "start_time": "2024-03-05T17:40:46.565Z"
   },
   {
    "duration": 66,
    "start_time": "2024-03-05T17:40:46.703Z"
   },
   {
    "duration": 223,
    "start_time": "2024-03-05T17:40:46.771Z"
   },
   {
    "duration": 62,
    "start_time": "2024-03-05T17:40:46.995Z"
   },
   {
    "duration": 215,
    "start_time": "2024-03-05T17:40:47.058Z"
   },
   {
    "duration": 872,
    "start_time": "2024-03-05T17:40:47.275Z"
   },
   {
    "duration": 220,
    "start_time": "2024-03-05T17:40:48.148Z"
   },
   {
    "duration": 55,
    "start_time": "2024-03-05T17:40:48.369Z"
   },
   {
    "duration": 60,
    "start_time": "2024-03-05T17:40:48.425Z"
   },
   {
    "duration": 22,
    "start_time": "2024-03-05T17:40:48.487Z"
   },
   {
    "duration": 186,
    "start_time": "2024-03-05T17:40:48.511Z"
   },
   {
    "duration": 201,
    "start_time": "2024-03-05T17:40:48.698Z"
   },
   {
    "duration": 12,
    "start_time": "2024-03-05T17:40:48.900Z"
   },
   {
    "duration": 16,
    "start_time": "2024-03-05T17:40:48.916Z"
   },
   {
    "duration": 52,
    "start_time": "2024-03-05T17:40:48.933Z"
   },
   {
    "duration": 114,
    "start_time": "2024-03-05T17:40:48.987Z"
   },
   {
    "duration": 214,
    "start_time": "2024-03-05T17:40:49.102Z"
   },
   {
    "duration": 9,
    "start_time": "2024-03-05T17:40:49.317Z"
   },
   {
    "duration": 99,
    "start_time": "2024-03-05T17:40:49.328Z"
   },
   {
    "duration": 4,
    "start_time": "2024-03-05T17:40:49.429Z"
   },
   {
    "duration": 88,
    "start_time": "2024-03-05T17:40:49.434Z"
   },
   {
    "duration": 674,
    "start_time": "2024-03-05T17:40:49.524Z"
   },
   {
    "duration": 250,
    "start_time": "2024-03-05T17:40:50.199Z"
   },
   {
    "duration": 48911,
    "start_time": "2024-03-05T17:40:50.450Z"
   },
   {
    "duration": 55694,
    "start_time": "2024-03-05T17:41:39.362Z"
   },
   {
    "duration": 54644,
    "start_time": "2024-03-05T17:42:35.058Z"
   },
   {
    "duration": 54874,
    "start_time": "2024-03-05T17:43:29.703Z"
   },
   {
    "duration": 6422,
    "start_time": "2024-03-05T17:44:24.578Z"
   },
   {
    "duration": 286795,
    "start_time": "2024-03-05T17:44:31.002Z"
   },
   {
    "duration": 23678,
    "start_time": "2024-03-05T17:49:17.798Z"
   },
   {
    "duration": 1307780,
    "start_time": "2024-03-05T17:49:41.477Z"
   },
   {
    "duration": 16504,
    "start_time": "2024-03-05T18:11:29.259Z"
   },
   {
    "duration": 293,
    "start_time": "2024-03-05T18:11:45.765Z"
   },
   {
    "duration": 7,
    "start_time": "2024-03-05T18:11:46.062Z"
   },
   {
    "duration": 2973,
    "start_time": "2024-03-05T18:11:46.157Z"
   },
   {
    "duration": 99,
    "start_time": "2024-03-05T18:11:49.131Z"
   },
   {
    "duration": 4,
    "start_time": "2024-03-05T18:11:49.232Z"
   },
   {
    "duration": 396,
    "start_time": "2024-03-05T18:11:49.237Z"
   },
   {
    "duration": 13,
    "start_time": "2024-03-05T18:11:49.635Z"
   },
   {
    "duration": 10,
    "start_time": "2024-03-05T18:11:49.649Z"
   },
   {
    "duration": 22193,
    "start_time": "2024-03-05T18:11:49.661Z"
   },
   {
    "duration": 58,
    "start_time": "2024-03-05T18:12:11.855Z"
   },
   {
    "duration": 4,
    "start_time": "2024-03-05T18:12:11.914Z"
   },
   {
    "duration": 5715,
    "start_time": "2024-03-05T18:12:11.919Z"
   },
   {
    "duration": 78,
    "start_time": "2024-03-05T18:12:17.635Z"
   },
   {
    "duration": 4,
    "start_time": "2024-03-05T18:12:17.714Z"
   },
   {
    "duration": 273545,
    "start_time": "2024-03-05T18:12:17.720Z"
   },
   {
    "duration": 77,
    "start_time": "2024-03-05T18:16:51.267Z"
   },
   {
    "duration": 4,
    "start_time": "2024-03-05T18:16:51.345Z"
   },
   {
    "duration": 4,
    "start_time": "2024-03-05T18:16:51.351Z"
   },
   {
    "duration": 17,
    "start_time": "2024-03-05T18:16:51.356Z"
   },
   {
    "duration": 61455,
    "start_time": "2024-03-05T18:16:51.378Z"
   },
   {
    "duration": 160251,
    "start_time": "2024-03-05T18:18:10.808Z"
   },
   {
    "duration": 0,
    "start_time": "2024-03-05T18:20:51.061Z"
   },
   {
    "duration": 74,
    "start_time": "2024-03-05T18:20:56.189Z"
   },
   {
    "duration": 2793,
    "start_time": "2024-03-05T18:21:02.013Z"
   },
   {
    "duration": 8,
    "start_time": "2024-03-05T18:21:22.850Z"
   },
   {
    "duration": 8,
    "start_time": "2024-03-05T18:21:22.860Z"
   },
   {
    "duration": 1369,
    "start_time": "2024-03-05T18:21:22.869Z"
   },
   {
    "duration": 721,
    "start_time": "2024-03-05T18:21:24.239Z"
   },
   {
    "duration": 435,
    "start_time": "2024-03-05T18:21:24.962Z"
   },
   {
    "duration": 798,
    "start_time": "2024-03-05T18:21:25.398Z"
   },
   {
    "duration": 966,
    "start_time": "2024-03-05T18:21:26.197Z"
   },
   {
    "duration": 79,
    "start_time": "2024-03-05T18:21:27.164Z"
   },
   {
    "duration": 14,
    "start_time": "2024-03-05T18:21:27.244Z"
   },
   {
    "duration": 9688,
    "start_time": "2024-03-05T18:21:27.259Z"
   },
   {
    "duration": 0,
    "start_time": "2024-03-05T18:21:37.247Z"
   },
   {
    "duration": 0,
    "start_time": "2024-03-05T18:21:37.248Z"
   },
   {
    "duration": 0,
    "start_time": "2024-03-05T18:21:37.249Z"
   },
   {
    "duration": 0,
    "start_time": "2024-03-05T18:21:37.250Z"
   },
   {
    "duration": 0,
    "start_time": "2024-03-05T18:21:37.251Z"
   },
   {
    "duration": 0,
    "start_time": "2024-03-05T18:21:37.258Z"
   },
   {
    "duration": 0,
    "start_time": "2024-03-05T18:21:37.259Z"
   },
   {
    "duration": 0,
    "start_time": "2024-03-05T18:21:37.261Z"
   },
   {
    "duration": 0,
    "start_time": "2024-03-05T18:21:37.262Z"
   },
   {
    "duration": 0,
    "start_time": "2024-03-05T18:21:37.263Z"
   },
   {
    "duration": 0,
    "start_time": "2024-03-05T18:21:37.264Z"
   },
   {
    "duration": 0,
    "start_time": "2024-03-05T18:21:37.265Z"
   },
   {
    "duration": 0,
    "start_time": "2024-03-05T18:21:37.266Z"
   },
   {
    "duration": 0,
    "start_time": "2024-03-05T18:21:37.267Z"
   },
   {
    "duration": 1,
    "start_time": "2024-03-05T18:21:37.268Z"
   },
   {
    "duration": 0,
    "start_time": "2024-03-05T18:21:37.270Z"
   },
   {
    "duration": 0,
    "start_time": "2024-03-05T18:21:37.271Z"
   },
   {
    "duration": 0,
    "start_time": "2024-03-05T18:21:37.272Z"
   },
   {
    "duration": 0,
    "start_time": "2024-03-05T18:21:37.273Z"
   },
   {
    "duration": 0,
    "start_time": "2024-03-05T18:21:37.274Z"
   },
   {
    "duration": 0,
    "start_time": "2024-03-05T18:21:37.276Z"
   },
   {
    "duration": 0,
    "start_time": "2024-03-05T18:21:37.277Z"
   },
   {
    "duration": 0,
    "start_time": "2024-03-05T18:21:37.278Z"
   },
   {
    "duration": 0,
    "start_time": "2024-03-05T18:21:37.279Z"
   },
   {
    "duration": 0,
    "start_time": "2024-03-05T18:21:37.280Z"
   },
   {
    "duration": 0,
    "start_time": "2024-03-05T18:21:37.281Z"
   },
   {
    "duration": 0,
    "start_time": "2024-03-05T18:21:37.282Z"
   },
   {
    "duration": 0,
    "start_time": "2024-03-05T18:21:37.283Z"
   },
   {
    "duration": 0,
    "start_time": "2024-03-05T18:21:37.285Z"
   },
   {
    "duration": 0,
    "start_time": "2024-03-05T18:21:37.287Z"
   },
   {
    "duration": 0,
    "start_time": "2024-03-05T18:21:37.288Z"
   },
   {
    "duration": 0,
    "start_time": "2024-03-05T18:21:37.289Z"
   },
   {
    "duration": 0,
    "start_time": "2024-03-05T18:21:37.290Z"
   },
   {
    "duration": 0,
    "start_time": "2024-03-05T18:21:37.291Z"
   },
   {
    "duration": 0,
    "start_time": "2024-03-05T18:21:37.292Z"
   },
   {
    "duration": 0,
    "start_time": "2024-03-05T18:21:37.293Z"
   },
   {
    "duration": 1,
    "start_time": "2024-03-05T18:21:37.293Z"
   },
   {
    "duration": 0,
    "start_time": "2024-03-05T18:21:37.294Z"
   },
   {
    "duration": 0,
    "start_time": "2024-03-05T18:21:37.295Z"
   },
   {
    "duration": 0,
    "start_time": "2024-03-05T18:21:37.296Z"
   },
   {
    "duration": 0,
    "start_time": "2024-03-05T18:21:37.358Z"
   },
   {
    "duration": 0,
    "start_time": "2024-03-05T18:21:37.359Z"
   },
   {
    "duration": 0,
    "start_time": "2024-03-05T18:21:37.360Z"
   },
   {
    "duration": 0,
    "start_time": "2024-03-05T18:21:37.361Z"
   },
   {
    "duration": 0,
    "start_time": "2024-03-05T18:21:37.362Z"
   },
   {
    "duration": 0,
    "start_time": "2024-03-05T18:21:37.363Z"
   },
   {
    "duration": 0,
    "start_time": "2024-03-05T18:21:37.364Z"
   },
   {
    "duration": 0,
    "start_time": "2024-03-05T18:21:37.365Z"
   },
   {
    "duration": 0,
    "start_time": "2024-03-05T18:21:37.366Z"
   },
   {
    "duration": 0,
    "start_time": "2024-03-05T18:21:37.367Z"
   },
   {
    "duration": 0,
    "start_time": "2024-03-05T18:21:37.368Z"
   },
   {
    "duration": 0,
    "start_time": "2024-03-05T18:21:37.369Z"
   },
   {
    "duration": 0,
    "start_time": "2024-03-05T18:21:37.370Z"
   },
   {
    "duration": 1,
    "start_time": "2024-03-05T18:21:37.370Z"
   },
   {
    "duration": 0,
    "start_time": "2024-03-05T18:21:37.371Z"
   },
   {
    "duration": 6,
    "start_time": "2024-03-05T18:21:53.223Z"
   },
   {
    "duration": 3,
    "start_time": "2024-03-05T18:21:53.231Z"
   },
   {
    "duration": 1361,
    "start_time": "2024-03-05T18:21:53.235Z"
   },
   {
    "duration": 842,
    "start_time": "2024-03-05T18:21:54.598Z"
   },
   {
    "duration": 203,
    "start_time": "2024-03-05T18:21:55.441Z"
   },
   {
    "duration": 361,
    "start_time": "2024-03-05T18:21:55.645Z"
   },
   {
    "duration": 742,
    "start_time": "2024-03-05T18:21:56.008Z"
   },
   {
    "duration": 84,
    "start_time": "2024-03-05T18:21:56.751Z"
   },
   {
    "duration": 4,
    "start_time": "2024-03-05T18:21:56.837Z"
   },
   {
    "duration": 11450,
    "start_time": "2024-03-05T18:21:56.858Z"
   },
   {
    "duration": 166,
    "start_time": "2024-03-05T18:22:08.309Z"
   },
   {
    "duration": 273,
    "start_time": "2024-03-05T18:22:08.476Z"
   },
   {
    "duration": 11836,
    "start_time": "2024-03-05T18:22:08.751Z"
   },
   {
    "duration": 156,
    "start_time": "2024-03-05T18:22:20.588Z"
   },
   {
    "duration": 142,
    "start_time": "2024-03-05T18:22:20.745Z"
   },
   {
    "duration": 69,
    "start_time": "2024-03-05T18:22:20.889Z"
   },
   {
    "duration": 222,
    "start_time": "2024-03-05T18:22:20.960Z"
   },
   {
    "duration": 58,
    "start_time": "2024-03-05T18:22:21.183Z"
   },
   {
    "duration": 241,
    "start_time": "2024-03-05T18:22:21.242Z"
   },
   {
    "duration": 927,
    "start_time": "2024-03-05T18:22:21.484Z"
   },
   {
    "duration": 236,
    "start_time": "2024-03-05T18:22:22.413Z"
   },
   {
    "duration": 62,
    "start_time": "2024-03-05T18:22:22.650Z"
   },
   {
    "duration": 60,
    "start_time": "2024-03-05T18:22:22.714Z"
   },
   {
    "duration": 23,
    "start_time": "2024-03-05T18:22:22.775Z"
   },
   {
    "duration": 201,
    "start_time": "2024-03-05T18:22:22.800Z"
   },
   {
    "duration": 193,
    "start_time": "2024-03-05T18:22:23.003Z"
   },
   {
    "duration": 12,
    "start_time": "2024-03-05T18:22:23.198Z"
   },
   {
    "duration": 30,
    "start_time": "2024-03-05T18:22:23.214Z"
   },
   {
    "duration": 58,
    "start_time": "2024-03-05T18:22:23.246Z"
   },
   {
    "duration": 108,
    "start_time": "2024-03-05T18:22:23.306Z"
   },
   {
    "duration": 218,
    "start_time": "2024-03-05T18:22:23.416Z"
   },
   {
    "duration": 9,
    "start_time": "2024-03-05T18:22:23.636Z"
   },
   {
    "duration": 111,
    "start_time": "2024-03-05T18:22:23.647Z"
   },
   {
    "duration": 3,
    "start_time": "2024-03-05T18:22:23.759Z"
   },
   {
    "duration": 78,
    "start_time": "2024-03-05T18:22:23.763Z"
   },
   {
    "duration": 708,
    "start_time": "2024-03-05T18:22:23.843Z"
   },
   {
    "duration": 276,
    "start_time": "2024-03-05T18:22:24.553Z"
   },
   {
    "duration": 49628,
    "start_time": "2024-03-05T18:22:24.831Z"
   },
   {
    "duration": 69601,
    "start_time": "2024-03-05T18:23:14.460Z"
   },
   {
    "duration": 78908,
    "start_time": "2024-03-05T18:24:24.063Z"
   },
   {
    "duration": 55304,
    "start_time": "2024-03-05T18:25:42.972Z"
   },
   {
    "duration": 6584,
    "start_time": "2024-03-05T18:26:38.277Z"
   },
   {
    "duration": 288445,
    "start_time": "2024-03-05T18:26:44.862Z"
   },
   {
    "duration": 23726,
    "start_time": "2024-03-05T18:31:33.308Z"
   },
   {
    "duration": 200528,
    "start_time": "2024-03-05T18:31:57.036Z"
   },
   {
    "duration": 11591,
    "start_time": "2024-03-05T18:35:17.566Z"
   },
   {
    "duration": 198,
    "start_time": "2024-03-05T18:35:29.159Z"
   },
   {
    "duration": 4,
    "start_time": "2024-03-05T18:35:29.361Z"
   },
   {
    "duration": 3103,
    "start_time": "2024-03-05T18:35:29.457Z"
   },
   {
    "duration": 101,
    "start_time": "2024-03-05T18:35:32.561Z"
   },
   {
    "duration": 4,
    "start_time": "2024-03-05T18:35:32.663Z"
   },
   {
    "duration": 400,
    "start_time": "2024-03-05T18:35:32.668Z"
   },
   {
    "duration": 13,
    "start_time": "2024-03-05T18:35:33.069Z"
   },
   {
    "duration": 4,
    "start_time": "2024-03-05T18:35:33.083Z"
   },
   {
    "duration": 21682,
    "start_time": "2024-03-05T18:35:33.088Z"
   },
   {
    "duration": 65,
    "start_time": "2024-03-05T18:35:54.772Z"
   },
   {
    "duration": 5,
    "start_time": "2024-03-05T18:35:54.838Z"
   },
   {
    "duration": 5718,
    "start_time": "2024-03-05T18:35:54.844Z"
   },
   {
    "duration": 76,
    "start_time": "2024-03-05T18:36:00.564Z"
   },
   {
    "duration": 28,
    "start_time": "2024-03-05T18:36:00.641Z"
   },
   {
    "duration": 7096,
    "start_time": "2024-03-05T18:36:00.670Z"
   },
   {
    "duration": 708,
    "start_time": "2024-03-05T18:36:07.767Z"
   },
   {
    "duration": 4,
    "start_time": "2024-03-05T18:36:08.558Z"
   },
   {
    "duration": 4,
    "start_time": "2024-03-05T18:36:08.563Z"
   },
   {
    "duration": 9,
    "start_time": "2024-03-05T18:36:08.568Z"
   },
   {
    "duration": 7,
    "start_time": "2024-03-06T07:36:28.596Z"
   },
   {
    "duration": 8,
    "start_time": "2024-03-06T07:36:28.604Z"
   },
   {
    "duration": 1510,
    "start_time": "2024-03-06T07:36:28.613Z"
   },
   {
    "duration": 1050,
    "start_time": "2024-03-06T07:36:30.126Z"
   },
   {
    "duration": 232,
    "start_time": "2024-03-06T07:36:31.178Z"
   },
   {
    "duration": 434,
    "start_time": "2024-03-06T07:36:31.411Z"
   },
   {
    "duration": 833,
    "start_time": "2024-03-06T07:36:31.847Z"
   },
   {
    "duration": 110,
    "start_time": "2024-03-06T07:36:32.681Z"
   },
   {
    "duration": 4,
    "start_time": "2024-03-06T07:36:32.792Z"
   },
   {
    "duration": 13987,
    "start_time": "2024-03-06T07:36:32.798Z"
   },
   {
    "duration": 194,
    "start_time": "2024-03-06T07:36:46.786Z"
   },
   {
    "duration": 337,
    "start_time": "2024-03-06T07:36:46.981Z"
   },
   {
    "duration": 14233,
    "start_time": "2024-03-06T07:36:47.319Z"
   },
   {
    "duration": 264,
    "start_time": "2024-03-06T07:38:43.028Z"
   },
   {
    "duration": 147,
    "start_time": "2024-03-06T07:39:09.932Z"
   },
   {
    "duration": 164,
    "start_time": "2024-03-06T07:39:16.441Z"
   },
   {
    "duration": 151,
    "start_time": "2024-03-06T07:40:42.910Z"
   },
   {
    "duration": 78,
    "start_time": "2024-03-06T07:44:35.849Z"
   },
   {
    "duration": 128,
    "start_time": "2024-03-06T07:44:42.204Z"
   },
   {
    "duration": 131,
    "start_time": "2024-03-06T07:44:52.017Z"
   },
   {
    "duration": 73,
    "start_time": "2024-03-06T07:46:25.495Z"
   },
   {
    "duration": 146,
    "start_time": "2024-03-06T07:46:31.158Z"
   },
   {
    "duration": 973,
    "start_time": "2024-03-06T07:59:20.928Z"
   },
   {
    "duration": 152,
    "start_time": "2024-03-06T07:59:37.242Z"
   },
   {
    "duration": 146,
    "start_time": "2024-03-06T08:00:06.748Z"
   },
   {
    "duration": 148,
    "start_time": "2024-03-06T08:00:14.197Z"
   },
   {
    "duration": 144,
    "start_time": "2024-03-06T08:00:18.722Z"
   },
   {
    "duration": 158,
    "start_time": "2024-03-06T08:00:44.104Z"
   },
   {
    "duration": 136,
    "start_time": "2024-03-06T08:00:49.950Z"
   },
   {
    "duration": 237,
    "start_time": "2024-03-06T08:01:12.639Z"
   },
   {
    "duration": 244,
    "start_time": "2024-03-06T08:01:47.203Z"
   },
   {
    "duration": 351,
    "start_time": "2024-03-06T08:02:08.011Z"
   },
   {
    "duration": 248,
    "start_time": "2024-03-06T08:02:18.569Z"
   },
   {
    "duration": 262,
    "start_time": "2024-03-06T08:02:38.833Z"
   },
   {
    "duration": 1333,
    "start_time": "2024-03-06T08:03:37.005Z"
   },
   {
    "duration": 285,
    "start_time": "2024-03-06T08:03:43.330Z"
   },
   {
    "duration": 4,
    "start_time": "2024-03-06T08:07:16.148Z"
   },
   {
    "duration": 55,
    "start_time": "2024-03-06T08:07:35.706Z"
   },
   {
    "duration": 1240,
    "start_time": "2024-03-06T08:11:06.134Z"
   },
   {
    "duration": 131,
    "start_time": "2024-03-06T08:11:30.064Z"
   },
   {
    "duration": 49,
    "start_time": "2024-03-06T08:12:33.035Z"
   },
   {
    "duration": 66,
    "start_time": "2024-03-06T08:13:02.356Z"
   },
   {
    "duration": 27,
    "start_time": "2024-03-06T08:13:34.262Z"
   },
   {
    "duration": 2,
    "start_time": "2024-03-06T08:13:49.626Z"
   },
   {
    "duration": 18,
    "start_time": "2024-03-06T08:13:49.630Z"
   },
   {
    "duration": 6,
    "start_time": "2024-03-06T08:13:49.649Z"
   },
   {
    "duration": 758,
    "start_time": "2024-03-06T08:13:49.657Z"
   },
   {
    "duration": 254,
    "start_time": "2024-03-06T08:13:50.417Z"
   },
   {
    "duration": 365,
    "start_time": "2024-03-06T08:13:50.673Z"
   },
   {
    "duration": 816,
    "start_time": "2024-03-06T08:13:51.044Z"
   },
   {
    "duration": 114,
    "start_time": "2024-03-06T08:13:51.862Z"
   },
   {
    "duration": 4,
    "start_time": "2024-03-06T08:13:51.979Z"
   },
   {
    "duration": 13571,
    "start_time": "2024-03-06T08:13:51.984Z"
   },
   {
    "duration": 167,
    "start_time": "2024-03-06T08:14:05.557Z"
   },
   {
    "duration": 315,
    "start_time": "2024-03-06T08:14:05.725Z"
   },
   {
    "duration": 14001,
    "start_time": "2024-03-06T08:14:06.045Z"
   },
   {
    "duration": 147,
    "start_time": "2024-03-06T08:14:20.047Z"
   },
   {
    "duration": 151,
    "start_time": "2024-03-06T08:14:20.196Z"
   },
   {
    "duration": 60,
    "start_time": "2024-03-06T08:14:20.349Z"
   },
   {
    "duration": 270,
    "start_time": "2024-03-06T08:14:20.410Z"
   },
   {
    "duration": 71,
    "start_time": "2024-03-06T08:14:20.682Z"
   },
   {
    "duration": 263,
    "start_time": "2024-03-06T08:14:20.755Z"
   },
   {
    "duration": 253,
    "start_time": "2024-03-06T08:14:21.020Z"
   },
   {
    "duration": 1098,
    "start_time": "2024-03-06T08:14:21.275Z"
   },
   {
    "duration": 46,
    "start_time": "2024-03-06T08:14:32.074Z"
   },
   {
    "duration": 138,
    "start_time": "2024-03-06T08:14:42.418Z"
   },
   {
    "duration": 1304,
    "start_time": "2024-03-06T08:14:55.794Z"
   },
   {
    "duration": 1412,
    "start_time": "2024-03-06T08:15:25.777Z"
   },
   {
    "duration": 24,
    "start_time": "2024-03-06T08:15:37.185Z"
   },
   {
    "duration": 14,
    "start_time": "2024-03-06T08:15:45.104Z"
   },
   {
    "duration": 143,
    "start_time": "2024-03-06T08:16:03.677Z"
   },
   {
    "duration": 12,
    "start_time": "2024-03-06T08:16:14.405Z"
   },
   {
    "duration": 1084,
    "start_time": "2024-03-06T08:16:38.890Z"
   },
   {
    "duration": 1108,
    "start_time": "2024-03-06T08:16:43.672Z"
   },
   {
    "duration": 3,
    "start_time": "2024-03-06T08:17:02.983Z"
   },
   {
    "duration": 9,
    "start_time": "2024-03-06T08:17:22.294Z"
   },
   {
    "duration": 9,
    "start_time": "2024-03-06T08:17:32.858Z"
   },
   {
    "duration": 84,
    "start_time": "2024-03-06T08:19:29.804Z"
   },
   {
    "duration": 10,
    "start_time": "2024-03-06T08:19:36.147Z"
   },
   {
    "duration": 30,
    "start_time": "2024-03-06T08:21:02.301Z"
   },
   {
    "duration": 2,
    "start_time": "2024-03-06T08:22:02.444Z"
   },
   {
    "duration": 106,
    "start_time": "2024-03-06T08:22:02.448Z"
   },
   {
    "duration": 132,
    "start_time": "2024-03-06T08:22:02.555Z"
   },
   {
    "duration": 841,
    "start_time": "2024-03-06T08:22:02.689Z"
   },
   {
    "duration": 237,
    "start_time": "2024-03-06T08:22:03.531Z"
   },
   {
    "duration": 383,
    "start_time": "2024-03-06T08:22:03.770Z"
   },
   {
    "duration": 808,
    "start_time": "2024-03-06T08:22:04.154Z"
   },
   {
    "duration": 115,
    "start_time": "2024-03-06T08:22:04.963Z"
   },
   {
    "duration": 3,
    "start_time": "2024-03-06T08:22:05.080Z"
   },
   {
    "duration": 13977,
    "start_time": "2024-03-06T08:22:05.085Z"
   },
   {
    "duration": 170,
    "start_time": "2024-03-06T08:22:19.064Z"
   },
   {
    "duration": 316,
    "start_time": "2024-03-06T08:22:19.235Z"
   },
   {
    "duration": 14062,
    "start_time": "2024-03-06T08:22:19.552Z"
   },
   {
    "duration": 153,
    "start_time": "2024-03-06T08:22:33.615Z"
   },
   {
    "duration": 144,
    "start_time": "2024-03-06T08:22:33.770Z"
   },
   {
    "duration": 60,
    "start_time": "2024-03-06T08:22:33.916Z"
   },
   {
    "duration": 258,
    "start_time": "2024-03-06T08:22:33.977Z"
   },
   {
    "duration": 59,
    "start_time": "2024-03-06T08:22:34.236Z"
   },
   {
    "duration": 247,
    "start_time": "2024-03-06T08:22:34.296Z"
   },
   {
    "duration": 1036,
    "start_time": "2024-03-06T08:22:34.545Z"
   },
   {
    "duration": 246,
    "start_time": "2024-03-06T08:22:35.582Z"
   },
   {
    "duration": 131,
    "start_time": "2024-03-06T08:23:26.911Z"
   },
   {
    "duration": 28,
    "start_time": "2024-03-06T08:25:15.339Z"
   },
   {
    "duration": 4,
    "start_time": "2024-03-06T08:25:18.282Z"
   },
   {
    "duration": 28,
    "start_time": "2024-03-06T08:26:40.460Z"
   },
   {
    "duration": 52,
    "start_time": "2024-03-06T08:26:52.727Z"
   },
   {
    "duration": 66,
    "start_time": "2024-03-06T08:30:22.766Z"
   },
   {
    "duration": 24,
    "start_time": "2024-03-06T08:30:24.935Z"
   },
   {
    "duration": 205,
    "start_time": "2024-03-06T08:30:25.483Z"
   },
   {
    "duration": 202,
    "start_time": "2024-03-06T08:30:26.276Z"
   },
   {
    "duration": 14,
    "start_time": "2024-03-06T08:30:28.259Z"
   },
   {
    "duration": 15,
    "start_time": "2024-03-06T08:30:31.195Z"
   },
   {
    "duration": 59,
    "start_time": "2024-03-06T08:30:32.343Z"
   },
   {
    "duration": 98,
    "start_time": "2024-03-06T08:30:34.648Z"
   },
   {
    "duration": 197,
    "start_time": "2024-03-06T08:30:34.975Z"
   },
   {
    "duration": 9,
    "start_time": "2024-03-06T08:30:36.330Z"
   },
   {
    "duration": 105,
    "start_time": "2024-03-06T08:30:37.555Z"
   },
   {
    "duration": 3,
    "start_time": "2024-03-06T08:30:39.736Z"
   },
   {
    "duration": 68,
    "start_time": "2024-03-06T08:30:40.352Z"
   },
   {
    "duration": 79,
    "start_time": "2024-03-06T08:33:58.047Z"
   },
   {
    "duration": 55,
    "start_time": "2024-03-06T08:34:31.703Z"
   },
   {
    "duration": 121,
    "start_time": "2024-03-06T08:35:41.171Z"
   },
   {
    "duration": 202,
    "start_time": "2024-03-06T08:39:13.462Z"
   },
   {
    "duration": 174,
    "start_time": "2024-03-06T08:39:24.501Z"
   },
   {
    "duration": 8,
    "start_time": "2024-03-06T08:39:58.112Z"
   },
   {
    "duration": 187,
    "start_time": "2024-03-06T08:40:00.234Z"
   },
   {
    "duration": 8,
    "start_time": "2024-03-06T08:42:32.789Z"
   },
   {
    "duration": 144,
    "start_time": "2024-03-06T08:42:35.586Z"
   },
   {
    "duration": 234,
    "start_time": "2024-03-06T08:42:38.247Z"
   },
   {
    "duration": 5,
    "start_time": "2024-03-06T08:42:40.766Z"
   },
   {
    "duration": 207,
    "start_time": "2024-03-06T08:42:43.229Z"
   },
   {
    "duration": 431,
    "start_time": "2024-03-06T08:42:47.112Z"
   },
   {
    "duration": 4209,
    "start_time": "2024-03-06T08:43:02.766Z"
   },
   {
    "duration": 4285,
    "start_time": "2024-03-06T08:44:01.098Z"
   },
   {
    "duration": 6185,
    "start_time": "2024-03-06T08:44:25.769Z"
   },
   {
    "duration": 1162,
    "start_time": "2024-03-06T08:44:35.121Z"
   },
   {
    "duration": 10,
    "start_time": "2024-03-06T08:45:30.538Z"
   },
   {
    "duration": 159,
    "start_time": "2024-03-06T08:45:31.606Z"
   },
   {
    "duration": 246,
    "start_time": "2024-03-06T08:45:32.739Z"
   },
   {
    "duration": 2,
    "start_time": "2024-03-06T08:45:33.629Z"
   },
   {
    "duration": 205,
    "start_time": "2024-03-06T08:45:34.391Z"
   },
   {
    "duration": 432,
    "start_time": "2024-03-06T08:45:36.761Z"
   },
   {
    "duration": 3,
    "start_time": "2024-03-06T08:46:06.938Z"
   },
   {
    "duration": 9,
    "start_time": "2024-03-06T08:46:06.943Z"
   },
   {
    "duration": 5,
    "start_time": "2024-03-06T08:46:06.953Z"
   },
   {
    "duration": 789,
    "start_time": "2024-03-06T08:46:06.960Z"
   },
   {
    "duration": 245,
    "start_time": "2024-03-06T08:46:07.750Z"
   },
   {
    "duration": 370,
    "start_time": "2024-03-06T08:46:07.996Z"
   },
   {
    "duration": 806,
    "start_time": "2024-03-06T08:46:08.368Z"
   },
   {
    "duration": 112,
    "start_time": "2024-03-06T08:46:09.176Z"
   },
   {
    "duration": 3,
    "start_time": "2024-03-06T08:46:09.291Z"
   },
   {
    "duration": 14459,
    "start_time": "2024-03-06T08:46:09.296Z"
   },
   {
    "duration": 180,
    "start_time": "2024-03-06T08:46:23.756Z"
   },
   {
    "duration": 318,
    "start_time": "2024-03-06T08:46:23.938Z"
   },
   {
    "duration": 14665,
    "start_time": "2024-03-06T08:46:24.259Z"
   },
   {
    "duration": 154,
    "start_time": "2024-03-06T08:46:38.926Z"
   },
   {
    "duration": 148,
    "start_time": "2024-03-06T08:46:39.082Z"
   },
   {
    "duration": 67,
    "start_time": "2024-03-06T08:46:39.232Z"
   },
   {
    "duration": 277,
    "start_time": "2024-03-06T08:46:39.300Z"
   },
   {
    "duration": 60,
    "start_time": "2024-03-06T08:46:39.580Z"
   },
   {
    "duration": 261,
    "start_time": "2024-03-06T08:46:39.641Z"
   },
   {
    "duration": 1172,
    "start_time": "2024-03-06T08:46:39.904Z"
   },
   {
    "duration": 259,
    "start_time": "2024-03-06T08:46:41.078Z"
   },
   {
    "duration": 154,
    "start_time": "2024-03-06T08:46:41.338Z"
   },
   {
    "duration": 29,
    "start_time": "2024-03-06T08:46:41.494Z"
   },
   {
    "duration": 69,
    "start_time": "2024-03-06T08:46:41.528Z"
   },
   {
    "duration": 77,
    "start_time": "2024-03-06T08:46:41.599Z"
   },
   {
    "duration": 25,
    "start_time": "2024-03-06T08:46:41.678Z"
   },
   {
    "duration": 247,
    "start_time": "2024-03-06T08:46:41.704Z"
   },
   {
    "duration": 230,
    "start_time": "2024-03-06T08:46:41.952Z"
   },
   {
    "duration": 15,
    "start_time": "2024-03-06T08:46:42.183Z"
   },
   {
    "duration": 16,
    "start_time": "2024-03-06T08:46:42.199Z"
   },
   {
    "duration": 75,
    "start_time": "2024-03-06T08:46:42.216Z"
   },
   {
    "duration": 113,
    "start_time": "2024-03-06T08:46:42.292Z"
   },
   {
    "duration": 218,
    "start_time": "2024-03-06T08:46:42.406Z"
   },
   {
    "duration": 9,
    "start_time": "2024-03-06T08:46:42.625Z"
   },
   {
    "duration": 125,
    "start_time": "2024-03-06T08:46:42.635Z"
   },
   {
    "duration": 3,
    "start_time": "2024-03-06T08:46:42.761Z"
   },
   {
    "duration": 105,
    "start_time": "2024-03-06T08:46:42.766Z"
   },
   {
    "duration": 14,
    "start_time": "2024-03-06T08:47:08.686Z"
   },
   {
    "duration": 390,
    "start_time": "2024-03-06T08:47:09.515Z"
   },
   {
    "duration": 388,
    "start_time": "2024-03-06T08:47:10.401Z"
   },
   {
    "duration": 5,
    "start_time": "2024-03-06T08:47:11.527Z"
   },
   {
    "duration": 337,
    "start_time": "2024-03-06T08:47:12.097Z"
   },
   {
    "duration": 58816,
    "start_time": "2024-03-06T08:47:13.351Z"
   },
   {
    "duration": 63696,
    "start_time": "2024-03-06T08:48:24.549Z"
   },
   {
    "duration": 65191,
    "start_time": "2024-03-06T08:49:41.059Z"
   },
   {
    "duration": 15,
    "start_time": "2024-03-06T10:00:31.488Z"
   },
   {
    "duration": 18,
    "start_time": "2024-03-06T10:02:14.484Z"
   },
   {
    "duration": 9,
    "start_time": "2024-03-06T10:02:30.712Z"
   },
   {
    "duration": 4,
    "start_time": "2024-03-06T10:03:20.238Z"
   },
   {
    "duration": 3,
    "start_time": "2024-03-06T10:03:30.950Z"
   },
   {
    "duration": 2,
    "start_time": "2024-03-06T10:04:45.618Z"
   },
   {
    "duration": 10,
    "start_time": "2024-03-06T10:06:01.458Z"
   },
   {
    "duration": 7,
    "start_time": "2024-03-06T10:06:29.796Z"
   },
   {
    "duration": 3,
    "start_time": "2024-03-06T10:06:35.781Z"
   },
   {
    "duration": 3,
    "start_time": "2024-03-06T10:07:20.705Z"
   },
   {
    "duration": 3,
    "start_time": "2024-03-06T10:07:22.959Z"
   },
   {
    "duration": 2,
    "start_time": "2024-03-06T10:09:08.036Z"
   },
   {
    "duration": 3,
    "start_time": "2024-03-06T10:09:34.231Z"
   },
   {
    "duration": 12,
    "start_time": "2024-03-06T10:11:09.603Z"
   },
   {
    "duration": 3,
    "start_time": "2024-03-06T10:11:20.391Z"
   },
   {
    "duration": 2,
    "start_time": "2024-03-06T10:11:25.705Z"
   },
   {
    "duration": 35,
    "start_time": "2024-03-06T10:13:58.279Z"
   },
   {
    "duration": 34,
    "start_time": "2024-03-06T10:15:03.572Z"
   },
   {
    "duration": 53,
    "start_time": "2024-03-06T10:15:37.125Z"
   },
   {
    "duration": 2,
    "start_time": "2024-03-06T10:17:47.565Z"
   },
   {
    "duration": 3,
    "start_time": "2024-03-06T10:17:49.467Z"
   },
   {
    "duration": 126,
    "start_time": "2024-03-06T10:18:14.396Z"
   },
   {
    "duration": 2,
    "start_time": "2024-03-06T10:18:42.503Z"
   },
   {
    "duration": 91,
    "start_time": "2024-03-06T10:18:48.225Z"
   },
   {
    "duration": 84,
    "start_time": "2024-03-06T10:19:43.691Z"
   },
   {
    "duration": 125,
    "start_time": "2024-03-06T10:20:30.318Z"
   },
   {
    "duration": 3,
    "start_time": "2024-03-06T10:22:07.413Z"
   },
   {
    "duration": 17,
    "start_time": "2024-03-06T10:24:13.730Z"
   },
   {
    "duration": 69,
    "start_time": "2024-03-06T10:25:29.164Z"
   },
   {
    "duration": 76,
    "start_time": "2024-03-06T10:28:53.913Z"
   },
   {
    "duration": 9,
    "start_time": "2024-03-06T10:29:00.762Z"
   },
   {
    "duration": 9,
    "start_time": "2024-03-06T10:29:40.034Z"
   },
   {
    "duration": 8,
    "start_time": "2024-03-06T10:31:15.224Z"
   },
   {
    "duration": 3,
    "start_time": "2024-03-06T10:31:25.869Z"
   },
   {
    "duration": 3,
    "start_time": "2024-03-06T10:31:41.710Z"
   },
   {
    "duration": 2,
    "start_time": "2024-03-06T10:31:46.619Z"
   },
   {
    "duration": 207310,
    "start_time": "2024-03-06T10:32:08.542Z"
   },
   {
    "duration": 9,
    "start_time": "2024-03-06T10:36:14.339Z"
   },
   {
    "duration": 9,
    "start_time": "2024-03-06T10:37:02.842Z"
   },
   {
    "duration": 3,
    "start_time": "2024-03-06T10:37:09.273Z"
   },
   {
    "duration": 3,
    "start_time": "2024-03-06T10:37:23.114Z"
   },
   {
    "duration": 3,
    "start_time": "2024-03-06T10:37:28.274Z"
   },
   {
    "duration": 9,
    "start_time": "2024-03-06T10:37:51.743Z"
   },
   {
    "duration": 463,
    "start_time": "2024-03-06T10:43:01.582Z"
   },
   {
    "duration": 10,
    "start_time": "2024-03-06T10:43:07.964Z"
   },
   {
    "duration": 8,
    "start_time": "2024-03-06T10:43:20.313Z"
   },
   {
    "duration": 4,
    "start_time": "2024-03-06T10:43:23.972Z"
   },
   {
    "duration": 8,
    "start_time": "2024-03-06T10:44:56.578Z"
   },
   {
    "duration": 8,
    "start_time": "2024-03-06T10:45:21.712Z"
   },
   {
    "duration": 4,
    "start_time": "2024-03-06T10:45:27.308Z"
   },
   {
    "duration": 6,
    "start_time": "2024-03-06T10:45:30.738Z"
   },
   {
    "duration": 2,
    "start_time": "2024-03-06T10:46:00.298Z"
   },
   {
    "duration": 13,
    "start_time": "2024-03-06T10:46:03.179Z"
   },
   {
    "duration": 12,
    "start_time": "2024-03-06T10:46:48.761Z"
   },
   {
    "duration": 2,
    "start_time": "2024-03-06T10:47:09.769Z"
   },
   {
    "duration": 205386,
    "start_time": "2024-03-06T10:47:18.575Z"
   },
   {
    "duration": 10,
    "start_time": "2024-03-06T10:50:53.822Z"
   },
   {
    "duration": 345,
    "start_time": "2024-03-06T10:50:56.702Z"
   },
   {
    "duration": 321,
    "start_time": "2024-03-06T10:50:57.941Z"
   },
   {
    "duration": 5,
    "start_time": "2024-03-06T10:50:58.725Z"
   },
   {
    "duration": 3,
    "start_time": "2024-03-06T10:52:25.057Z"
   },
   {
    "duration": 839368,
    "start_time": "2024-03-06T10:52:39.618Z"
   },
   {
    "duration": 11,
    "start_time": "2024-03-06T11:07:39.510Z"
   },
   {
    "duration": 347,
    "start_time": "2024-03-06T11:07:48.301Z"
   },
   {
    "duration": 5,
    "start_time": "2024-03-06T11:07:51.573Z"
   },
   {
    "duration": 121,
    "start_time": "2024-03-06T11:08:25.418Z"
   },
   {
    "duration": 12,
    "start_time": "2024-03-06T11:08:40.349Z"
   },
   {
    "duration": 12,
    "start_time": "2024-03-06T11:08:46.444Z"
   },
   {
    "duration": 4,
    "start_time": "2024-03-06T11:09:31.965Z"
   },
   {
    "duration": 6,
    "start_time": "2024-03-06T11:10:51.401Z"
   },
   {
    "duration": 3,
    "start_time": "2024-03-06T11:11:12.458Z"
   },
   {
    "duration": 3,
    "start_time": "2024-03-06T11:11:14.866Z"
   },
   {
    "duration": 3,
    "start_time": "2024-03-06T11:11:16.583Z"
   },
   {
    "duration": 3,
    "start_time": "2024-03-06T11:11:18.346Z"
   },
   {
    "duration": 2,
    "start_time": "2024-03-06T11:11:30.755Z"
   },
   {
    "duration": 22092,
    "start_time": "2024-03-06T11:11:39.821Z"
   },
   {
    "duration": 20,
    "start_time": "2024-03-06T11:12:35.998Z"
   },
   {
    "duration": 99,
    "start_time": "2024-03-06T11:12:49.027Z"
   },
   {
    "duration": 12,
    "start_time": "2024-03-06T11:13:32.649Z"
   },
   {
    "duration": 98,
    "start_time": "2024-03-06T11:13:44.251Z"
   },
   {
    "duration": 19,
    "start_time": "2024-03-06T11:13:55.625Z"
   },
   {
    "duration": 100,
    "start_time": "2024-03-06T11:14:51.057Z"
   },
   {
    "duration": 19,
    "start_time": "2024-03-06T11:15:11.474Z"
   },
   {
    "duration": 9,
    "start_time": "2024-03-06T11:15:16.969Z"
   },
   {
    "duration": 99,
    "start_time": "2024-03-06T11:17:13.561Z"
   },
   {
    "duration": 22,
    "start_time": "2024-03-06T11:17:42.248Z"
   },
   {
    "duration": 4,
    "start_time": "2024-03-06T11:21:13.296Z"
   },
   {
    "duration": 10,
    "start_time": "2024-03-06T11:22:17.901Z"
   },
   {
    "duration": 7,
    "start_time": "2024-03-06T11:23:41.096Z"
   },
   {
    "duration": 7,
    "start_time": "2024-03-06T11:23:43.539Z"
   },
   {
    "duration": 8,
    "start_time": "2024-03-06T11:23:45.548Z"
   },
   {
    "duration": 22,
    "start_time": "2024-03-06T11:23:58.181Z"
   },
   {
    "duration": 35,
    "start_time": "2024-03-06T11:24:03.082Z"
   },
   {
    "duration": 6,
    "start_time": "2024-03-06T11:24:16.688Z"
   },
   {
    "duration": 5,
    "start_time": "2024-03-06T11:24:26.053Z"
   },
   {
    "duration": 5,
    "start_time": "2024-03-06T11:24:34.427Z"
   },
   {
    "duration": 21,
    "start_time": "2024-03-06T11:24:36.971Z"
   },
   {
    "duration": 23,
    "start_time": "2024-03-06T11:24:39.596Z"
   },
   {
    "duration": 110,
    "start_time": "2024-03-06T11:24:52.142Z"
   },
   {
    "duration": 3,
    "start_time": "2024-03-06T11:25:12.501Z"
   },
   {
    "duration": 3,
    "start_time": "2024-03-06T11:25:12.860Z"
   },
   {
    "duration": 4,
    "start_time": "2024-03-06T11:25:13.167Z"
   },
   {
    "duration": 22,
    "start_time": "2024-03-06T11:25:13.864Z"
   },
   {
    "duration": 22,
    "start_time": "2024-03-06T11:25:15.095Z"
   },
   {
    "duration": 100,
    "start_time": "2024-03-06T11:25:20.713Z"
   },
   {
    "duration": 24,
    "start_time": "2024-03-06T11:25:45.494Z"
   },
   {
    "duration": 19,
    "start_time": "2024-03-06T11:25:52.673Z"
   },
   {
    "duration": 3,
    "start_time": "2024-03-06T11:30:22.514Z"
   },
   {
    "duration": 12,
    "start_time": "2024-03-06T11:30:24.578Z"
   },
   {
    "duration": 4,
    "start_time": "2024-03-06T11:30:46.619Z"
   },
   {
    "duration": 13,
    "start_time": "2024-03-06T11:30:48.366Z"
   },
   {
    "duration": 8,
    "start_time": "2024-03-06T11:31:12.137Z"
   },
   {
    "duration": 4,
    "start_time": "2024-03-06T11:31:19.866Z"
   },
   {
    "duration": 3,
    "start_time": "2024-03-06T11:31:20.836Z"
   },
   {
    "duration": 3,
    "start_time": "2024-03-06T11:31:21.509Z"
   },
   {
    "duration": 3,
    "start_time": "2024-03-06T11:31:22.660Z"
   },
   {
    "duration": 3,
    "start_time": "2024-03-06T11:31:25.601Z"
   },
   {
    "duration": 8,
    "start_time": "2024-03-06T11:31:31.726Z"
   },
   {
    "duration": 2,
    "start_time": "2024-03-06T11:31:35.635Z"
   },
   {
    "duration": 4,
    "start_time": "2024-03-06T11:31:53.267Z"
   },
   {
    "duration": 4,
    "start_time": "2024-03-06T11:31:53.442Z"
   },
   {
    "duration": 5,
    "start_time": "2024-03-06T11:31:53.617Z"
   },
   {
    "duration": 3,
    "start_time": "2024-03-06T11:31:53.795Z"
   },
   {
    "duration": 23,
    "start_time": "2024-03-06T11:31:54.229Z"
   },
   {
    "duration": 23,
    "start_time": "2024-03-06T11:31:55.138Z"
   },
   {
    "duration": 4,
    "start_time": "2024-03-06T11:31:56.071Z"
   },
   {
    "duration": 12,
    "start_time": "2024-03-06T11:31:56.394Z"
   },
   {
    "duration": 6,
    "start_time": "2024-03-06T11:32:20.851Z"
   },
   {
    "duration": 11,
    "start_time": "2024-03-06T11:32:25.891Z"
   },
   {
    "duration": 98,
    "start_time": "2024-03-06T11:32:29.978Z"
   },
   {
    "duration": 30,
    "start_time": "2024-03-06T11:32:50.006Z"
   },
   {
    "duration": 19,
    "start_time": "2024-03-06T11:32:54.229Z"
   },
   {
    "duration": 12,
    "start_time": "2024-03-06T11:34:12.276Z"
   },
   {
    "duration": 5,
    "start_time": "2024-03-06T11:34:21.537Z"
   },
   {
    "duration": 5,
    "start_time": "2024-03-06T11:34:47.910Z"
   },
   {
    "duration": 5,
    "start_time": "2024-03-06T11:35:13.033Z"
   },
   {
    "duration": 98,
    "start_time": "2024-03-06T11:35:24.406Z"
   },
   {
    "duration": 5,
    "start_time": "2024-03-06T11:35:35.130Z"
   },
   {
    "duration": 4,
    "start_time": "2024-03-06T11:35:41.641Z"
   },
   {
    "duration": 99,
    "start_time": "2024-03-06T11:35:44.985Z"
   },
   {
    "duration": 4,
    "start_time": "2024-03-06T11:36:01.925Z"
   },
   {
    "duration": 5,
    "start_time": "2024-03-06T11:36:14.459Z"
   },
   {
    "duration": 4,
    "start_time": "2024-03-06T11:36:26.187Z"
   },
   {
    "duration": 3,
    "start_time": "2024-03-06T11:36:34.220Z"
   },
   {
    "duration": 4,
    "start_time": "2024-03-06T11:36:43.090Z"
   },
   {
    "duration": 99,
    "start_time": "2024-03-06T11:36:46.240Z"
   },
   {
    "duration": 99,
    "start_time": "2024-03-06T11:37:05.259Z"
   },
   {
    "duration": 51,
    "start_time": "2024-03-06T11:37:13.569Z"
   },
   {
    "duration": 98,
    "start_time": "2024-03-06T11:37:23.098Z"
   },
   {
    "duration": 22,
    "start_time": "2024-03-06T11:37:38.749Z"
   },
   {
    "duration": 4,
    "start_time": "2024-03-06T11:38:22.310Z"
   },
   {
    "duration": 97,
    "start_time": "2024-03-06T11:38:52.215Z"
   },
   {
    "duration": 99,
    "start_time": "2024-03-06T11:39:59.633Z"
   },
   {
    "duration": 5,
    "start_time": "2024-03-06T11:40:04.056Z"
   },
   {
    "duration": 2,
    "start_time": "2024-03-06T11:41:09.966Z"
   },
   {
    "duration": 1147687,
    "start_time": "2024-03-06T11:41:15.425Z"
   },
   {
    "duration": 18,
    "start_time": "2024-03-06T12:00:23.114Z"
   },
   {
    "duration": 110,
    "start_time": "2024-03-06T12:00:41.357Z"
   },
   {
    "duration": 5,
    "start_time": "2024-03-06T12:00:43.775Z"
   },
   {
    "duration": 3,
    "start_time": "2024-03-06T12:02:19.559Z"
   },
   {
    "duration": 2,
    "start_time": "2024-03-06T12:02:46.172Z"
   },
   {
    "duration": 66213,
    "start_time": "2024-03-06T12:02:58.459Z"
   },
   {
    "duration": 18,
    "start_time": "2024-03-06T12:04:04.674Z"
   },
   {
    "duration": 105,
    "start_time": "2024-03-06T12:06:11.667Z"
   },
   {
    "duration": 107,
    "start_time": "2024-03-06T12:06:13.387Z"
   },
   {
    "duration": 5,
    "start_time": "2024-03-06T12:06:13.746Z"
   },
   {
    "duration": 3,
    "start_time": "2024-03-06T12:31:56.397Z"
   },
   {
    "duration": 3,
    "start_time": "2024-03-06T12:33:18.293Z"
   },
   {
    "duration": 3,
    "start_time": "2024-03-06T12:34:13.239Z"
   },
   {
    "duration": 3,
    "start_time": "2024-03-06T12:35:02.921Z"
   },
   {
    "duration": 8068,
    "start_time": "2024-03-06T12:35:14.259Z"
   },
   {
    "duration": 3,
    "start_time": "2024-03-06T12:38:15.565Z"
   },
   {
    "duration": 2,
    "start_time": "2024-03-06T12:38:16.374Z"
   },
   {
    "duration": 8064,
    "start_time": "2024-03-06T12:38:16.722Z"
   },
   {
    "duration": 3,
    "start_time": "2024-03-06T12:43:56.219Z"
   },
   {
    "duration": 2,
    "start_time": "2024-03-06T12:44:16.859Z"
   },
   {
    "duration": 15049,
    "start_time": "2024-03-06T12:44:19.899Z"
   },
   {
    "duration": 3,
    "start_time": "2024-03-06T12:46:03.728Z"
   },
   {
    "duration": 3,
    "start_time": "2024-03-06T12:46:19.598Z"
   },
   {
    "duration": 2,
    "start_time": "2024-03-06T12:46:53.532Z"
   },
   {
    "duration": 3,
    "start_time": "2024-03-06T12:47:28.868Z"
   },
   {
    "duration": 93,
    "start_time": "2024-03-06T12:47:30.366Z"
   },
   {
    "duration": 2,
    "start_time": "2024-03-06T12:47:53.694Z"
   },
   {
    "duration": 2,
    "start_time": "2024-03-06T12:47:55.930Z"
   },
   {
    "duration": 7821,
    "start_time": "2024-03-06T12:47:57.960Z"
   },
   {
    "duration": 23,
    "start_time": "2024-03-06T12:53:11.968Z"
   },
   {
    "duration": 20,
    "start_time": "2024-03-06T12:53:21.590Z"
   },
   {
    "duration": 8,
    "start_time": "2024-03-06T12:53:49.534Z"
   },
   {
    "duration": 5,
    "start_time": "2024-03-06T12:53:53.837Z"
   },
   {
    "duration": 9,
    "start_time": "2024-03-06T12:54:09.873Z"
   },
   {
    "duration": 93,
    "start_time": "2024-03-06T12:54:12.418Z"
   },
   {
    "duration": 8,
    "start_time": "2024-03-06T12:54:57.360Z"
   },
   {
    "duration": 110,
    "start_time": "2024-03-06T12:54:57.676Z"
   },
   {
    "duration": 7,
    "start_time": "2024-03-06T12:55:34.222Z"
   },
   {
    "duration": 9,
    "start_time": "2024-03-06T12:55:50.018Z"
   },
   {
    "duration": 102,
    "start_time": "2024-03-06T12:55:50.480Z"
   },
   {
    "duration": 3,
    "start_time": "2024-03-06T12:56:41.830Z"
   },
   {
    "duration": 3,
    "start_time": "2024-03-06T12:56:52.316Z"
   },
   {
    "duration": 3,
    "start_time": "2024-03-06T12:57:38.882Z"
   },
   {
    "duration": 8018,
    "start_time": "2024-03-06T12:57:57.447Z"
   },
   {
    "duration": 107931,
    "start_time": "2024-03-06T12:59:50.346Z"
   },
   {
    "duration": 86,
    "start_time": "2024-03-06T13:03:32.307Z"
   },
   {
    "duration": 517,
    "start_time": "2024-03-06T13:03:40.638Z"
   },
   {
    "duration": 6,
    "start_time": "2024-03-06T13:03:43.205Z"
   },
   {
    "duration": 106515,
    "start_time": "2024-03-06T13:04:35.218Z"
   },
   {
    "duration": 489,
    "start_time": "2024-03-06T13:06:21.735Z"
   },
   {
    "duration": 5,
    "start_time": "2024-03-06T13:06:22.226Z"
   },
   {
    "duration": 106469,
    "start_time": "2024-03-06T13:06:54.826Z"
   },
   {
    "duration": 511,
    "start_time": "2024-03-06T13:08:41.297Z"
   },
   {
    "duration": 5,
    "start_time": "2024-03-06T13:08:41.810Z"
   },
   {
    "duration": 3,
    "start_time": "2024-03-06T13:21:47.910Z"
   },
   {
    "duration": 128,
    "start_time": "2024-03-06T13:22:34.532Z"
   },
   {
    "duration": 74,
    "start_time": "2024-03-06T13:22:56.413Z"
   },
   {
    "duration": 101,
    "start_time": "2024-03-06T13:22:59.879Z"
   },
   {
    "duration": 15,
    "start_time": "2024-03-06T13:26:56.266Z"
   },
   {
    "duration": 27,
    "start_time": "2024-03-06T13:27:49.675Z"
   },
   {
    "duration": 20,
    "start_time": "2024-03-06T13:29:04.525Z"
   },
   {
    "duration": 25,
    "start_time": "2024-03-06T13:29:21.997Z"
   },
   {
    "duration": 11,
    "start_time": "2024-03-06T13:32:14.400Z"
   },
   {
    "duration": 68,
    "start_time": "2024-03-06T13:33:08.356Z"
   },
   {
    "duration": 577,
    "start_time": "2024-03-06T13:33:22.752Z"
   },
   {
    "duration": 562,
    "start_time": "2024-03-06T13:34:06.274Z"
   },
   {
    "duration": 6900,
    "start_time": "2024-03-06T13:36:35.855Z"
   },
   {
    "duration": 6187,
    "start_time": "2024-03-06T13:36:52.768Z"
   },
   {
    "duration": 6631,
    "start_time": "2024-03-06T13:38:40.030Z"
   },
   {
    "duration": 393,
    "start_time": "2024-03-06T13:38:57.754Z"
   },
   {
    "duration": 5,
    "start_time": "2024-03-06T13:39:13.776Z"
   },
   {
    "duration": 4,
    "start_time": "2024-03-06T13:42:41.005Z"
   },
   {
    "duration": 5,
    "start_time": "2024-03-06T13:43:05.118Z"
   },
   {
    "duration": 6,
    "start_time": "2024-03-06T13:43:07.827Z"
   },
   {
    "duration": 101,
    "start_time": "2024-03-06T13:50:24.420Z"
   },
   {
    "duration": 344,
    "start_time": "2024-03-06T13:50:40.030Z"
   },
   {
    "duration": 6,
    "start_time": "2024-03-06T13:52:37.402Z"
   },
   {
    "duration": 5,
    "start_time": "2024-03-06T13:52:52.114Z"
   },
   {
    "duration": 4,
    "start_time": "2024-03-06T13:53:09.896Z"
   },
   {
    "duration": 4,
    "start_time": "2024-03-06T13:59:17.065Z"
   },
   {
    "duration": 8,
    "start_time": "2024-03-06T13:59:17.909Z"
   },
   {
    "duration": 10,
    "start_time": "2024-03-06T14:02:08.976Z"
   },
   {
    "duration": 3,
    "start_time": "2024-03-06T14:02:08.988Z"
   },
   {
    "duration": 1332,
    "start_time": "2024-03-06T14:02:08.992Z"
   },
   {
    "duration": 841,
    "start_time": "2024-03-06T14:02:10.326Z"
   },
   {
    "duration": 496,
    "start_time": "2024-03-06T14:02:11.169Z"
   },
   {
    "duration": 702,
    "start_time": "2024-03-06T14:02:11.667Z"
   },
   {
    "duration": 847,
    "start_time": "2024-03-06T14:02:12.370Z"
   },
   {
    "duration": 108,
    "start_time": "2024-03-06T14:02:13.219Z"
   },
   {
    "duration": 3,
    "start_time": "2024-03-06T14:02:13.329Z"
   },
   {
    "duration": 13400,
    "start_time": "2024-03-06T14:02:13.334Z"
   },
   {
    "duration": 189,
    "start_time": "2024-03-06T14:02:26.735Z"
   },
   {
    "duration": 321,
    "start_time": "2024-03-06T14:02:26.926Z"
   },
   {
    "duration": 14142,
    "start_time": "2024-03-06T14:02:27.249Z"
   },
   {
    "duration": 167,
    "start_time": "2024-03-06T14:02:41.393Z"
   },
   {
    "duration": 145,
    "start_time": "2024-03-06T14:02:41.562Z"
   },
   {
    "duration": 68,
    "start_time": "2024-03-06T14:02:41.709Z"
   },
   {
    "duration": 258,
    "start_time": "2024-03-06T14:02:41.778Z"
   },
   {
    "duration": 59,
    "start_time": "2024-03-06T14:02:42.037Z"
   },
   {
    "duration": 274,
    "start_time": "2024-03-06T14:02:42.098Z"
   },
   {
    "duration": 1051,
    "start_time": "2024-03-06T14:02:42.374Z"
   },
   {
    "duration": 272,
    "start_time": "2024-03-06T14:02:43.426Z"
   },
   {
    "duration": 164,
    "start_time": "2024-03-06T14:02:43.700Z"
   },
   {
    "duration": 30,
    "start_time": "2024-03-06T14:02:43.866Z"
   },
   {
    "duration": 67,
    "start_time": "2024-03-06T14:02:43.897Z"
   },
   {
    "duration": 66,
    "start_time": "2024-03-06T14:02:43.965Z"
   },
   {
    "duration": 31,
    "start_time": "2024-03-06T14:02:44.032Z"
   },
   {
    "duration": 224,
    "start_time": "2024-03-06T14:02:44.065Z"
   },
   {
    "duration": 224,
    "start_time": "2024-03-06T14:02:44.293Z"
   },
   {
    "duration": 14,
    "start_time": "2024-03-06T14:02:44.519Z"
   },
   {
    "duration": 27,
    "start_time": "2024-03-06T14:02:44.534Z"
   },
   {
    "duration": 64,
    "start_time": "2024-03-06T14:02:44.563Z"
   },
   {
    "duration": 106,
    "start_time": "2024-03-06T14:02:44.629Z"
   },
   {
    "duration": 220,
    "start_time": "2024-03-06T14:02:44.737Z"
   },
   {
    "duration": 9,
    "start_time": "2024-03-06T14:02:44.959Z"
   },
   {
    "duration": 120,
    "start_time": "2024-03-06T14:02:44.969Z"
   },
   {
    "duration": 3,
    "start_time": "2024-03-06T14:02:45.091Z"
   },
   {
    "duration": 153,
    "start_time": "2024-03-06T14:02:45.095Z"
   },
   {
    "duration": 12,
    "start_time": "2024-03-06T14:02:45.249Z"
   },
   {
    "duration": 82,
    "start_time": "2024-03-06T14:02:45.262Z"
   },
   {
    "duration": 37,
    "start_time": "2024-03-06T14:02:45.346Z"
   },
   {
    "duration": 46,
    "start_time": "2024-03-06T14:02:45.384Z"
   },
   {
    "duration": 34,
    "start_time": "2024-03-06T14:02:45.432Z"
   },
   {
    "duration": 32,
    "start_time": "2024-03-06T14:02:45.467Z"
   },
   {
    "duration": 13,
    "start_time": "2024-03-06T14:02:45.501Z"
   },
   {
    "duration": 46,
    "start_time": "2024-03-06T14:02:45.516Z"
   },
   {
    "duration": 15,
    "start_time": "2024-03-06T14:02:45.563Z"
   },
   {
    "duration": 23,
    "start_time": "2024-03-06T14:02:45.579Z"
   },
   {
    "duration": 20,
    "start_time": "2024-03-06T14:02:45.604Z"
   },
   {
    "duration": 64,
    "start_time": "2024-03-06T14:02:45.626Z"
   },
   {
    "duration": 3,
    "start_time": "2024-03-06T14:02:45.692Z"
   },
   {
    "duration": 204567,
    "start_time": "2024-03-06T14:02:45.696Z"
   },
   {
    "duration": 9,
    "start_time": "2024-03-06T14:06:10.264Z"
   },
   {
    "duration": 376,
    "start_time": "2024-03-06T14:06:10.274Z"
   },
   {
    "duration": 94,
    "start_time": "2024-03-06T14:06:10.652Z"
   },
   {
    "duration": 116,
    "start_time": "2024-03-06T14:06:10.748Z"
   },
   {
    "duration": 64870,
    "start_time": "2024-03-06T14:06:10.866Z"
   },
   {
    "duration": 21,
    "start_time": "2024-03-06T14:07:15.738Z"
   },
   {
    "duration": 186,
    "start_time": "2024-03-06T14:07:15.760Z"
   },
   {
    "duration": 6,
    "start_time": "2024-03-06T14:07:15.948Z"
   },
   {
    "duration": 16,
    "start_time": "2024-03-06T14:07:15.955Z"
   },
   {
    "duration": 112,
    "start_time": "2024-03-06T14:07:15.972Z"
   },
   {
    "duration": 7,
    "start_time": "2024-03-06T14:07:16.086Z"
   },
   {
    "duration": 118,
    "start_time": "2024-03-06T14:07:16.094Z"
   },
   {
    "duration": 106116,
    "start_time": "2024-03-06T14:07:16.213Z"
   },
   {
    "duration": 485,
    "start_time": "2024-03-06T14:09:02.331Z"
   },
   {
    "duration": 4,
    "start_time": "2024-03-06T14:09:02.818Z"
   },
   {
    "duration": 107787,
    "start_time": "2024-03-06T14:09:02.823Z"
   },
   {
    "duration": 489,
    "start_time": "2024-03-06T14:10:50.611Z"
   },
   {
    "duration": 5,
    "start_time": "2024-03-06T14:10:51.102Z"
   },
   {
    "duration": 40,
    "start_time": "2024-03-06T14:10:51.109Z"
   },
   {
    "duration": 655,
    "start_time": "2024-03-06T14:10:51.151Z"
   },
   {
    "duration": 8353,
    "start_time": "2024-03-06T14:10:51.807Z"
   },
   {
    "duration": 489,
    "start_time": "2024-03-06T14:11:00.161Z"
   },
   {
    "duration": 4,
    "start_time": "2024-03-06T14:11:00.652Z"
   },
   {
    "duration": 86,
    "start_time": "2024-03-06T14:11:00.657Z"
   },
   {
    "duration": 103,
    "start_time": "2024-03-06T14:11:00.744Z"
   },
   {
    "duration": 9,
    "start_time": "2024-03-08T13:20:35.536Z"
   },
   {
    "duration": 3,
    "start_time": "2024-03-08T13:20:35.547Z"
   },
   {
    "duration": 1772,
    "start_time": "2024-03-08T13:20:35.551Z"
   },
   {
    "duration": 1166,
    "start_time": "2024-03-08T13:20:37.325Z"
   },
   {
    "duration": 292,
    "start_time": "2024-03-08T13:20:38.494Z"
   },
   {
    "duration": 469,
    "start_time": "2024-03-08T13:20:38.790Z"
   },
   {
    "duration": 982,
    "start_time": "2024-03-08T13:20:39.260Z"
   },
   {
    "duration": 137,
    "start_time": "2024-03-08T13:20:40.244Z"
   },
   {
    "duration": 8,
    "start_time": "2024-03-08T13:20:40.383Z"
   },
   {
    "duration": 15876,
    "start_time": "2024-03-08T13:20:40.399Z"
   },
   {
    "duration": 229,
    "start_time": "2024-03-08T13:20:56.278Z"
   },
   {
    "duration": 424,
    "start_time": "2024-03-08T13:20:56.508Z"
   },
   {
    "duration": 16219,
    "start_time": "2024-03-08T13:20:56.934Z"
   },
   {
    "duration": 220,
    "start_time": "2024-03-08T13:21:13.155Z"
   },
   {
    "duration": 162,
    "start_time": "2024-03-08T13:21:13.385Z"
   },
   {
    "duration": 67,
    "start_time": "2024-03-08T13:21:13.548Z"
   },
   {
    "duration": 282,
    "start_time": "2024-03-08T13:21:13.616Z"
   },
   {
    "duration": 56,
    "start_time": "2024-03-08T13:21:13.899Z"
   },
   {
    "duration": 293,
    "start_time": "2024-03-08T13:21:13.956Z"
   },
   {
    "duration": 1142,
    "start_time": "2024-03-08T13:21:14.251Z"
   },
   {
    "duration": 286,
    "start_time": "2024-03-08T13:21:15.395Z"
   },
   {
    "duration": 177,
    "start_time": "2024-03-08T13:21:15.683Z"
   },
   {
    "duration": 55,
    "start_time": "2024-03-08T13:21:15.862Z"
   },
   {
    "duration": 86,
    "start_time": "2024-03-08T13:21:15.918Z"
   },
   {
    "duration": 107,
    "start_time": "2024-03-08T13:21:16.006Z"
   },
   {
    "duration": 34,
    "start_time": "2024-03-08T13:21:16.115Z"
   },
   {
    "duration": 255,
    "start_time": "2024-03-08T13:21:16.151Z"
   },
   {
    "duration": 237,
    "start_time": "2024-03-08T13:21:16.409Z"
   },
   {
    "duration": 25,
    "start_time": "2024-03-08T13:21:16.648Z"
   },
   {
    "duration": 24,
    "start_time": "2024-03-08T13:21:16.680Z"
   },
   {
    "duration": 63,
    "start_time": "2024-03-08T13:21:16.705Z"
   },
   {
    "duration": 121,
    "start_time": "2024-03-08T13:21:16.774Z"
   },
   {
    "duration": 240,
    "start_time": "2024-03-08T13:21:16.896Z"
   },
   {
    "duration": 9,
    "start_time": "2024-03-08T13:21:17.137Z"
   },
   {
    "duration": 145,
    "start_time": "2024-03-08T13:21:17.148Z"
   },
   {
    "duration": 3,
    "start_time": "2024-03-08T13:21:17.295Z"
   },
   {
    "duration": 93,
    "start_time": "2024-03-08T13:21:17.299Z"
   },
   {
    "duration": 145,
    "start_time": "2024-03-08T13:23:51.544Z"
   },
   {
    "duration": 3,
    "start_time": "2024-03-08T13:46:29.024Z"
   },
   {
    "duration": 2,
    "start_time": "2024-03-08T13:46:30.709Z"
   },
   {
    "duration": 4,
    "start_time": "2024-03-08T13:47:24.274Z"
   },
   {
    "duration": 3,
    "start_time": "2024-03-08T13:47:54.858Z"
   },
   {
    "duration": 3,
    "start_time": "2024-03-08T13:48:01.047Z"
   },
   {
    "duration": 3,
    "start_time": "2024-03-08T13:48:03.108Z"
   },
   {
    "duration": 3,
    "start_time": "2024-03-08T13:48:05.798Z"
   },
   {
    "duration": 4,
    "start_time": "2024-03-08T13:48:25.050Z"
   },
   {
    "duration": 4,
    "start_time": "2024-03-08T13:48:27.078Z"
   },
   {
    "duration": 3,
    "start_time": "2024-03-08T13:48:28.578Z"
   },
   {
    "duration": 4,
    "start_time": "2024-03-08T13:50:02.774Z"
   },
   {
    "duration": 2,
    "start_time": "2024-03-08T13:50:11.199Z"
   },
   {
    "duration": 59,
    "start_time": "2024-03-08T13:50:14.664Z"
   },
   {
    "duration": 3,
    "start_time": "2024-03-08T13:50:23.727Z"
   },
   {
    "duration": 456,
    "start_time": "2024-03-08T13:50:26.248Z"
   },
   {
    "duration": 94,
    "start_time": "2024-03-08T13:51:58.017Z"
   },
   {
    "duration": 13,
    "start_time": "2024-03-08T13:52:05.310Z"
   },
   {
    "duration": 11,
    "start_time": "2024-03-08T13:52:18.205Z"
   },
   {
    "duration": 4,
    "start_time": "2024-03-08T13:53:17.274Z"
   },
   {
    "duration": 3,
    "start_time": "2024-03-08T13:53:24.728Z"
   },
   {
    "duration": 3,
    "start_time": "2024-03-08T13:53:25.052Z"
   },
   {
    "duration": 3,
    "start_time": "2024-03-08T13:53:25.950Z"
   },
   {
    "duration": 3,
    "start_time": "2024-03-08T13:53:26.219Z"
   },
   {
    "duration": 5,
    "start_time": "2024-03-08T13:53:26.474Z"
   },
   {
    "duration": 3,
    "start_time": "2024-03-08T13:53:26.806Z"
   },
   {
    "duration": 4,
    "start_time": "2024-03-08T13:53:27.996Z"
   },
   {
    "duration": 3,
    "start_time": "2024-03-08T13:53:28.608Z"
   },
   {
    "duration": 72,
    "start_time": "2024-03-08T13:53:29.521Z"
   },
   {
    "duration": 3,
    "start_time": "2024-03-08T13:53:32.248Z"
   },
   {
    "duration": 396,
    "start_time": "2024-03-08T13:54:09.889Z"
   },
   {
    "duration": 2,
    "start_time": "2024-03-08T13:54:40.992Z"
   },
   {
    "duration": 2,
    "start_time": "2024-03-08T13:54:42.537Z"
   },
   {
    "duration": 5,
    "start_time": "2024-03-08T13:54:42.873Z"
   },
   {
    "duration": 3,
    "start_time": "2024-03-08T13:54:43.060Z"
   },
   {
    "duration": 2,
    "start_time": "2024-03-08T13:54:43.230Z"
   },
   {
    "duration": 3,
    "start_time": "2024-03-08T13:54:43.551Z"
   },
   {
    "duration": 3,
    "start_time": "2024-03-08T13:54:44.015Z"
   },
   {
    "duration": 3,
    "start_time": "2024-03-08T13:54:44.249Z"
   },
   {
    "duration": 4,
    "start_time": "2024-03-08T13:54:45.589Z"
   },
   {
    "duration": 5,
    "start_time": "2024-03-08T13:54:46.372Z"
   },
   {
    "duration": 57,
    "start_time": "2024-03-08T13:54:46.589Z"
   },
   {
    "duration": 3,
    "start_time": "2024-03-08T13:54:48.638Z"
   },
   {
    "duration": 187161,
    "start_time": "2024-03-08T13:54:49.428Z"
   },
   {
    "duration": 3,
    "start_time": "2024-03-08T13:57:56.591Z"
   },
   {
    "duration": 65732,
    "start_time": "2024-03-08T13:57:56.595Z"
   },
   {
    "duration": 20,
    "start_time": "2024-03-08T14:19:05.317Z"
   },
   {
    "duration": 2,
    "start_time": "2024-03-08T14:19:10.381Z"
   },
   {
    "duration": 17,
    "start_time": "2024-03-08T14:20:46.274Z"
   },
   {
    "duration": 15,
    "start_time": "2024-03-08T14:20:49.273Z"
   },
   {
    "duration": 7,
    "start_time": "2024-03-08T14:20:58.567Z"
   },
   {
    "duration": 7,
    "start_time": "2024-03-08T14:21:18.712Z"
   },
   {
    "duration": 9,
    "start_time": "2024-03-08T14:21:34.357Z"
   },
   {
    "duration": 5,
    "start_time": "2024-03-08T14:21:40.694Z"
   },
   {
    "duration": 5,
    "start_time": "2024-03-08T14:22:14.975Z"
   },
   {
    "duration": 6,
    "start_time": "2024-03-08T14:22:44.503Z"
   },
   {
    "duration": 6,
    "start_time": "2024-03-08T14:23:01.903Z"
   },
   {
    "duration": 3,
    "start_time": "2024-03-08T14:23:03.881Z"
   },
   {
    "duration": 4,
    "start_time": "2024-03-08T14:23:05.138Z"
   },
   {
    "duration": 3,
    "start_time": "2024-03-08T14:23:06.100Z"
   },
   {
    "duration": 3,
    "start_time": "2024-03-08T14:23:07.714Z"
   },
   {
    "duration": 3,
    "start_time": "2024-03-08T14:23:08.474Z"
   },
   {
    "duration": 4,
    "start_time": "2024-03-08T14:23:09.925Z"
   },
   {
    "duration": 8,
    "start_time": "2024-03-08T14:23:12.165Z"
   },
   {
    "duration": 3,
    "start_time": "2024-03-08T14:23:13.374Z"
   },
   {
    "duration": 60,
    "start_time": "2024-03-08T14:23:14.529Z"
   },
   {
    "duration": 2,
    "start_time": "2024-03-08T14:23:31.379Z"
   },
   {
    "duration": 349403,
    "start_time": "2024-03-08T14:23:35.682Z"
   },
   {
    "duration": 14,
    "start_time": "2024-03-08T14:29:47.241Z"
   },
   {
    "duration": 72,
    "start_time": "2024-03-08T14:34:57.500Z"
   },
   {
    "duration": 7478,
    "start_time": "2024-03-08T14:35:03.906Z"
   },
   {
    "duration": 3,
    "start_time": "2024-03-08T14:35:25.306Z"
   },
   {
    "duration": 7,
    "start_time": "2024-03-08T14:35:26.316Z"
   },
   {
    "duration": 5,
    "start_time": "2024-03-08T14:35:26.720Z"
   },
   {
    "duration": 5,
    "start_time": "2024-03-08T14:35:27.237Z"
   },
   {
    "duration": 3,
    "start_time": "2024-03-08T14:35:28.711Z"
   },
   {
    "duration": 3,
    "start_time": "2024-03-08T14:35:28.878Z"
   },
   {
    "duration": 3,
    "start_time": "2024-03-08T14:35:29.073Z"
   },
   {
    "duration": 3,
    "start_time": "2024-03-08T14:35:30.019Z"
   },
   {
    "duration": 3,
    "start_time": "2024-03-08T14:35:30.292Z"
   },
   {
    "duration": 3,
    "start_time": "2024-03-08T14:35:30.620Z"
   },
   {
    "duration": 3,
    "start_time": "2024-03-08T14:35:31.854Z"
   },
   {
    "duration": 3,
    "start_time": "2024-03-08T14:35:32.109Z"
   },
   {
    "duration": 59,
    "start_time": "2024-03-08T14:35:33.315Z"
   },
   {
    "duration": 2,
    "start_time": "2024-03-08T14:35:35.594Z"
   },
   {
    "duration": 300,
    "start_time": "2024-03-08T14:35:36.137Z"
   },
   {
    "duration": 3,
    "start_time": "2024-03-08T14:38:22.712Z"
   },
   {
    "duration": 7,
    "start_time": "2024-03-08T14:38:28.791Z"
   },
   {
    "duration": 3,
    "start_time": "2024-03-08T14:38:29.822Z"
   },
   {
    "duration": 3,
    "start_time": "2024-03-08T14:38:30.064Z"
   },
   {
    "duration": 4,
    "start_time": "2024-03-08T14:38:30.272Z"
   },
   {
    "duration": 3,
    "start_time": "2024-03-08T14:38:30.629Z"
   },
   {
    "duration": 3,
    "start_time": "2024-03-08T14:38:30.896Z"
   },
   {
    "duration": 3,
    "start_time": "2024-03-08T14:38:31.174Z"
   },
   {
    "duration": 3,
    "start_time": "2024-03-08T14:38:31.905Z"
   },
   {
    "duration": 3,
    "start_time": "2024-03-08T14:38:32.196Z"
   },
   {
    "duration": 56,
    "start_time": "2024-03-08T14:38:32.537Z"
   },
   {
    "duration": 3,
    "start_time": "2024-03-08T14:38:34.909Z"
   },
   {
    "duration": 322,
    "start_time": "2024-03-08T14:38:35.701Z"
   },
   {
    "duration": 11,
    "start_time": "2024-03-08T14:39:21.409Z"
   },
   {
    "duration": 3,
    "start_time": "2024-03-08T14:39:25.554Z"
   },
   {
    "duration": 6,
    "start_time": "2024-03-08T14:39:32.132Z"
   },
   {
    "duration": 2,
    "start_time": "2024-03-08T14:39:33.121Z"
   },
   {
    "duration": 3,
    "start_time": "2024-03-08T14:39:33.384Z"
   },
   {
    "duration": 2,
    "start_time": "2024-03-08T14:39:33.652Z"
   },
   {
    "duration": 3,
    "start_time": "2024-03-08T14:39:33.859Z"
   },
   {
    "duration": 3,
    "start_time": "2024-03-08T14:39:34.068Z"
   },
   {
    "duration": 3,
    "start_time": "2024-03-08T14:39:34.296Z"
   },
   {
    "duration": 3,
    "start_time": "2024-03-08T14:39:34.932Z"
   },
   {
    "duration": 3,
    "start_time": "2024-03-08T14:39:35.286Z"
   },
   {
    "duration": 57,
    "start_time": "2024-03-08T14:39:35.574Z"
   },
   {
    "duration": 3,
    "start_time": "2024-03-08T14:39:36.743Z"
   },
   {
    "duration": 291,
    "start_time": "2024-03-08T14:39:37.113Z"
   },
   {
    "duration": 3,
    "start_time": "2024-03-08T14:40:18.156Z"
   },
   {
    "duration": 301,
    "start_time": "2024-03-08T14:40:18.921Z"
   },
   {
    "duration": 3,
    "start_time": "2024-03-08T14:40:34.537Z"
   },
   {
    "duration": 6,
    "start_time": "2024-03-08T14:40:35.462Z"
   },
   {
    "duration": 3,
    "start_time": "2024-03-08T14:40:35.798Z"
   },
   {
    "duration": 3,
    "start_time": "2024-03-08T14:40:35.946Z"
   },
   {
    "duration": 3,
    "start_time": "2024-03-08T14:40:36.112Z"
   },
   {
    "duration": 3,
    "start_time": "2024-03-08T14:40:36.164Z"
   },
   {
    "duration": 2,
    "start_time": "2024-03-08T14:40:36.462Z"
   },
   {
    "duration": 3,
    "start_time": "2024-03-08T14:40:36.677Z"
   },
   {
    "duration": 3,
    "start_time": "2024-03-08T14:40:37.240Z"
   },
   {
    "duration": 3,
    "start_time": "2024-03-08T14:40:37.463Z"
   },
   {
    "duration": 67,
    "start_time": "2024-03-08T14:40:37.670Z"
   },
   {
    "duration": 3,
    "start_time": "2024-03-08T14:40:38.665Z"
   },
   {
    "duration": 198522,
    "start_time": "2024-03-08T14:40:39.057Z"
   },
   {
    "duration": 16,
    "start_time": "2024-03-08T14:44:12.670Z"
   },
   {
    "duration": 2,
    "start_time": "2024-03-08T14:47:00.509Z"
   },
   {
    "duration": 5,
    "start_time": "2024-03-08T14:47:02.051Z"
   },
   {
    "duration": 3,
    "start_time": "2024-03-08T14:47:02.458Z"
   },
   {
    "duration": 3,
    "start_time": "2024-03-08T14:47:03.616Z"
   },
   {
    "duration": 3,
    "start_time": "2024-03-08T14:47:03.971Z"
   },
   {
    "duration": 3,
    "start_time": "2024-03-08T14:47:04.156Z"
   },
   {
    "duration": 5,
    "start_time": "2024-03-08T14:47:04.380Z"
   },
   {
    "duration": 3,
    "start_time": "2024-03-08T14:47:04.648Z"
   },
   {
    "duration": 3,
    "start_time": "2024-03-08T14:47:05.209Z"
   },
   {
    "duration": 3,
    "start_time": "2024-03-08T14:47:05.391Z"
   },
   {
    "duration": 56,
    "start_time": "2024-03-08T14:47:05.750Z"
   },
   {
    "duration": 3,
    "start_time": "2024-03-08T14:47:06.894Z"
   },
   {
    "duration": 214191,
    "start_time": "2024-03-08T14:47:08.883Z"
   },
   {
    "duration": 10,
    "start_time": "2024-03-08T14:50:48.620Z"
   },
   {
    "duration": 3,
    "start_time": "2024-03-08T15:02:48.478Z"
   },
   {
    "duration": 214281,
    "start_time": "2024-03-08T15:03:13.602Z"
   },
   {
    "duration": 10,
    "start_time": "2024-03-08T15:06:52.982Z"
   },
   {
    "duration": 3,
    "start_time": "2024-03-08T15:07:50.072Z"
   },
   {
    "duration": 3,
    "start_time": "2024-03-08T15:08:34.478Z"
   },
   {
    "duration": 15607,
    "start_time": "2024-03-08T15:09:17.860Z"
   },
   {
    "duration": 1017,
    "start_time": "2024-03-08T15:10:27.456Z"
   },
   {
    "duration": 15574,
    "start_time": "2024-03-08T15:11:28.692Z"
   },
   {
    "duration": 16045,
    "start_time": "2024-03-08T15:12:55.621Z"
   },
   {
    "duration": 16074,
    "start_time": "2024-03-08T15:13:19.099Z"
   },
   {
    "duration": 15879,
    "start_time": "2024-03-08T15:13:48.687Z"
   },
   {
    "duration": 17253,
    "start_time": "2024-03-08T15:14:15.813Z"
   },
   {
    "duration": 1034,
    "start_time": "2024-03-08T15:14:41.739Z"
   },
   {
    "duration": 3,
    "start_time": "2024-03-08T15:15:45.871Z"
   },
   {
    "duration": 3,
    "start_time": "2024-03-08T15:15:57.922Z"
   },
   {
    "duration": 6,
    "start_time": "2024-03-08T15:16:09.932Z"
   },
   {
    "duration": 3,
    "start_time": "2024-03-08T15:17:28.080Z"
   },
   {
    "duration": 61067,
    "start_time": "2024-03-08T15:17:31.866Z"
   },
   {
    "duration": 3,
    "start_time": "2024-03-08T15:19:47.398Z"
   },
   {
    "duration": 3,
    "start_time": "2024-03-08T15:19:47.721Z"
   },
   {
    "duration": 3,
    "start_time": "2024-03-08T15:19:48.000Z"
   },
   {
    "duration": 3,
    "start_time": "2024-03-08T15:19:48.363Z"
   },
   {
    "duration": 3,
    "start_time": "2024-03-08T15:19:48.719Z"
   },
   {
    "duration": 4,
    "start_time": "2024-03-08T15:19:50.217Z"
   },
   {
    "duration": 3,
    "start_time": "2024-03-08T15:19:50.899Z"
   },
   {
    "duration": 49,
    "start_time": "2024-03-08T15:19:51.182Z"
   },
   {
    "duration": 2,
    "start_time": "2024-03-08T15:19:57.389Z"
   },
   {
    "duration": 731443,
    "start_time": "2024-03-08T15:19:58.181Z"
   },
   {
    "duration": 3,
    "start_time": "2024-03-08T15:33:11.212Z"
   },
   {
    "duration": 63162,
    "start_time": "2024-03-08T15:33:13.157Z"
   },
   {
    "duration": 26,
    "start_time": "2024-03-08T15:34:31.020Z"
   },
   {
    "duration": 3,
    "start_time": "2024-03-08T15:36:22.482Z"
   },
   {
    "duration": 1317,
    "start_time": "2024-03-08T15:37:00.711Z"
   },
   {
    "duration": 1091,
    "start_time": "2024-03-08T15:37:29.292Z"
   },
   {
    "duration": 57,
    "start_time": "2024-03-08T15:38:33.428Z"
   },
   {
    "duration": 5,
    "start_time": "2024-03-08T15:38:41.076Z"
   },
   {
    "duration": 2,
    "start_time": "2024-03-08T15:38:50.512Z"
   },
   {
    "duration": 10,
    "start_time": "2024-03-08T15:44:34.945Z"
   },
   {
    "duration": 2930,
    "start_time": "2024-03-08T15:45:12.795Z"
   },
   {
    "duration": 70,
    "start_time": "2024-03-08T15:45:21.721Z"
   },
   {
    "duration": 587,
    "start_time": "2024-03-08T15:47:03.444Z"
   },
   {
    "duration": 10,
    "start_time": "2024-03-08T15:47:10.485Z"
   },
   {
    "duration": 10,
    "start_time": "2024-03-08T15:47:20.646Z"
   },
   {
    "duration": 1217,
    "start_time": "2024-03-08T15:52:20.831Z"
   },
   {
    "duration": 94,
    "start_time": "2024-03-08T15:53:24.804Z"
   },
   {
    "duration": 77,
    "start_time": "2024-03-08T15:53:30.683Z"
   },
   {
    "duration": 62,
    "start_time": "2024-03-08T15:53:51.748Z"
   },
   {
    "duration": 1038,
    "start_time": "2024-03-08T15:53:58.629Z"
   },
   {
    "duration": 1120,
    "start_time": "2024-03-08T15:55:04.993Z"
   },
   {
    "duration": 1174,
    "start_time": "2024-03-08T15:55:59.989Z"
   },
   {
    "duration": 1097,
    "start_time": "2024-03-08T15:56:03.980Z"
   },
   {
    "duration": 1044,
    "start_time": "2024-03-08T15:56:34.313Z"
   },
   {
    "duration": 1091,
    "start_time": "2024-03-08T15:56:42.790Z"
   },
   {
    "duration": 1132,
    "start_time": "2024-03-08T15:56:53.604Z"
   },
   {
    "duration": 1107,
    "start_time": "2024-03-08T15:57:19.089Z"
   },
   {
    "duration": 1074,
    "start_time": "2024-03-08T15:59:56.161Z"
   },
   {
    "duration": 1187,
    "start_time": "2024-03-08T16:00:21.709Z"
   },
   {
    "duration": 16,
    "start_time": "2024-03-08T16:02:12.999Z"
   },
   {
    "duration": 77,
    "start_time": "2024-03-08T16:02:19.066Z"
   },
   {
    "duration": 9,
    "start_time": "2024-03-08T16:02:24.471Z"
   },
   {
    "duration": 5,
    "start_time": "2024-03-08T16:02:43.909Z"
   },
   {
    "duration": 4,
    "start_time": "2024-03-08T16:02:54.350Z"
   },
   {
    "duration": 5,
    "start_time": "2024-03-08T16:02:59.888Z"
   },
   {
    "duration": 6,
    "start_time": "2024-03-08T16:03:13.387Z"
   },
   {
    "duration": 5,
    "start_time": "2024-03-08T16:03:20.879Z"
   },
   {
    "duration": 5,
    "start_time": "2024-03-08T16:03:24.531Z"
   },
   {
    "duration": 2487,
    "start_time": "2024-03-08T16:03:56.935Z"
   },
   {
    "duration": 1189,
    "start_time": "2024-03-08T16:04:29.532Z"
   },
   {
    "duration": 6,
    "start_time": "2024-03-08T16:04:47.775Z"
   },
   {
    "duration": 9,
    "start_time": "2024-03-08T16:04:57.850Z"
   },
   {
    "duration": 1160,
    "start_time": "2024-03-08T16:05:35.107Z"
   },
   {
    "duration": 20,
    "start_time": "2024-03-08T16:09:02.698Z"
   },
   {
    "duration": 1989,
    "start_time": "2024-03-08T16:09:13.032Z"
   },
   {
    "duration": 19,
    "start_time": "2024-03-08T16:09:46.882Z"
   },
   {
    "duration": 2014,
    "start_time": "2024-03-08T16:10:45.483Z"
   },
   {
    "duration": 1927,
    "start_time": "2024-03-08T16:11:14.979Z"
   },
   {
    "duration": 1421,
    "start_time": "2024-03-08T16:12:05.472Z"
   },
   {
    "duration": 13,
    "start_time": "2024-03-08T16:12:44.890Z"
   },
   {
    "duration": 1226,
    "start_time": "2024-03-08T16:13:29.654Z"
   },
   {
    "duration": 1177,
    "start_time": "2024-03-08T16:13:54.977Z"
   },
   {
    "duration": 4,
    "start_time": "2024-03-08T16:14:08.040Z"
   },
   {
    "duration": 13,
    "start_time": "2024-03-08T16:14:26.355Z"
   },
   {
    "duration": 10,
    "start_time": "2024-03-08T16:15:44.707Z"
   },
   {
    "duration": 705,
    "start_time": "2024-03-08T16:16:21.603Z"
   },
   {
    "duration": 22,
    "start_time": "2024-03-08T16:16:26.262Z"
   },
   {
    "duration": 719,
    "start_time": "2024-03-08T16:16:50.798Z"
   },
   {
    "duration": 17,
    "start_time": "2024-03-08T16:16:53.702Z"
   },
   {
    "duration": 642,
    "start_time": "2024-03-08T16:17:09.106Z"
   },
   {
    "duration": 16,
    "start_time": "2024-03-08T16:17:12.325Z"
   },
   {
    "duration": 1376,
    "start_time": "2024-03-08T16:17:29.658Z"
   },
   {
    "duration": 764,
    "start_time": "2024-03-08T16:18:03.755Z"
   },
   {
    "duration": 17,
    "start_time": "2024-03-08T16:18:04.520Z"
   },
   {
    "duration": 1169,
    "start_time": "2024-03-08T16:18:12.573Z"
   },
   {
    "duration": 5,
    "start_time": "2024-03-08T16:18:35.541Z"
   },
   {
    "duration": 5,
    "start_time": "2024-03-08T16:18:41.234Z"
   },
   {
    "duration": 786,
    "start_time": "2024-03-08T16:19:08.167Z"
   },
   {
    "duration": 27,
    "start_time": "2024-03-08T16:19:08.955Z"
   },
   {
    "duration": 1203,
    "start_time": "2024-03-08T16:19:09.908Z"
   },
   {
    "duration": 12,
    "start_time": "2024-03-08T16:19:16.541Z"
   },
   {
    "duration": 705,
    "start_time": "2024-03-08T16:19:41.152Z"
   },
   {
    "duration": 22,
    "start_time": "2024-03-08T16:19:41.859Z"
   },
   {
    "duration": 1250,
    "start_time": "2024-03-08T16:19:44.647Z"
   },
   {
    "duration": 1268,
    "start_time": "2024-03-08T16:38:34.766Z"
   },
   {
    "duration": 1169,
    "start_time": "2024-03-08T16:38:42.640Z"
   },
   {
    "duration": 1102,
    "start_time": "2024-03-08T16:47:05.964Z"
   },
   {
    "duration": 953,
    "start_time": "2024-03-08T16:47:11.798Z"
   },
   {
    "duration": 1150,
    "start_time": "2024-03-08T16:47:18.421Z"
   },
   {
    "duration": 634,
    "start_time": "2024-03-08T16:47:45.256Z"
   },
   {
    "duration": 21,
    "start_time": "2024-03-08T16:47:48.972Z"
   },
   {
    "duration": 1175,
    "start_time": "2024-03-08T16:47:52.072Z"
   },
   {
    "duration": 1104,
    "start_time": "2024-03-08T16:48:02.077Z"
   },
   {
    "duration": 1291,
    "start_time": "2024-03-08T17:11:40.209Z"
   },
   {
    "duration": 1240,
    "start_time": "2024-03-08T17:11:45.239Z"
   },
   {
    "duration": 5,
    "start_time": "2024-03-08T17:11:57.484Z"
   },
   {
    "duration": 12,
    "start_time": "2024-03-08T17:19:52.910Z"
   },
   {
    "duration": 1216,
    "start_time": "2024-03-08T17:20:19.538Z"
   },
   {
    "duration": 1250,
    "start_time": "2024-03-08T17:20:26.457Z"
   },
   {
    "duration": 1229,
    "start_time": "2024-03-08T17:20:38.240Z"
   },
   {
    "duration": 1386,
    "start_time": "2024-03-08T17:20:45.058Z"
   },
   {
    "duration": 1278,
    "start_time": "2024-03-08T17:24:46.252Z"
   },
   {
    "duration": 1194,
    "start_time": "2024-03-08T17:24:50.169Z"
   },
   {
    "duration": 15,
    "start_time": "2024-03-08T17:27:34.640Z"
   },
   {
    "duration": 1354,
    "start_time": "2024-03-08T17:27:38.562Z"
   },
   {
    "duration": 1220,
    "start_time": "2024-03-08T17:27:54.056Z"
   },
   {
    "duration": 5,
    "start_time": "2024-03-08T17:28:16.116Z"
   },
   {
    "duration": 5,
    "start_time": "2024-03-08T17:28:36.819Z"
   },
   {
    "duration": 8,
    "start_time": "2024-03-08T17:28:59.686Z"
   },
   {
    "duration": 8,
    "start_time": "2024-03-08T17:29:24.591Z"
   },
   {
    "duration": 9,
    "start_time": "2024-03-08T17:29:37.861Z"
   },
   {
    "duration": 3,
    "start_time": "2024-03-08T17:29:48.095Z"
   },
   {
    "duration": 11,
    "start_time": "2024-03-08T17:29:57.176Z"
   },
   {
    "duration": 11,
    "start_time": "2024-03-08T17:30:01.958Z"
   },
   {
    "duration": 6,
    "start_time": "2024-03-08T17:30:14.112Z"
   },
   {
    "duration": 542,
    "start_time": "2024-03-08T17:30:29.554Z"
   },
   {
    "duration": 1222,
    "start_time": "2024-03-08T17:30:35.052Z"
   },
   {
    "duration": 2542,
    "start_time": "2024-03-08T17:31:03.072Z"
   },
   {
    "duration": 1210,
    "start_time": "2024-03-08T17:31:14.106Z"
   },
   {
    "duration": 1113,
    "start_time": "2024-03-08T17:31:52.104Z"
   },
   {
    "duration": 7,
    "start_time": "2024-03-08T17:33:49.104Z"
   },
   {
    "duration": 1134,
    "start_time": "2024-03-08T17:33:56.272Z"
   },
   {
    "duration": 61,
    "start_time": "2024-03-08T17:34:40.503Z"
   },
   {
    "duration": 530,
    "start_time": "2024-03-08T17:34:50.851Z"
   },
   {
    "duration": 1144,
    "start_time": "2024-03-08T17:34:54.529Z"
   },
   {
    "duration": 10,
    "start_time": "2024-03-08T17:35:50.145Z"
   },
   {
    "duration": 5,
    "start_time": "2024-03-08T17:36:00.122Z"
   },
   {
    "duration": 1142,
    "start_time": "2024-03-08T17:36:16.443Z"
   },
   {
    "duration": 12,
    "start_time": "2024-03-08T17:37:10.344Z"
   },
   {
    "duration": 58,
    "start_time": "2024-03-08T17:37:10.710Z"
   },
   {
    "duration": 19,
    "start_time": "2024-03-08T17:37:11.116Z"
   },
   {
    "duration": 48,
    "start_time": "2024-03-08T17:37:11.771Z"
   },
   {
    "duration": 116486,
    "start_time": "2024-03-08T17:37:12.553Z"
   },
   {
    "duration": 22266,
    "start_time": "2024-03-08T17:39:15.317Z"
   },
   {
    "duration": 2675,
    "start_time": "2024-03-08T17:40:09.187Z"
   },
   {
    "duration": 87,
    "start_time": "2024-03-08T17:41:01.659Z"
   },
   {
    "duration": 76,
    "start_time": "2024-03-08T17:41:05.863Z"
   },
   {
    "duration": 4,
    "start_time": "2024-03-08T17:41:13.134Z"
   },
   {
    "duration": 21970,
    "start_time": "2024-03-08T17:43:18.322Z"
   },
   {
    "duration": 57,
    "start_time": "2024-03-08T17:43:47.564Z"
   },
   {
    "duration": 5,
    "start_time": "2024-03-08T17:43:49.247Z"
   },
   {
    "duration": 22292,
    "start_time": "2024-03-08T17:44:05.090Z"
   },
   {
    "duration": 61,
    "start_time": "2024-03-08T17:44:31.808Z"
   },
   {
    "duration": 5,
    "start_time": "2024-03-08T17:44:36.190Z"
   },
   {
    "duration": 9,
    "start_time": "2024-03-08T17:48:05.939Z"
   },
   {
    "duration": 2,
    "start_time": "2024-03-08T17:48:16.956Z"
   },
   {
    "duration": 2,
    "start_time": "2024-03-08T17:49:18.328Z"
   },
   {
    "duration": 3,
    "start_time": "2024-03-08T17:49:42.240Z"
   },
   {
    "duration": 4,
    "start_time": "2024-03-08T17:52:27.766Z"
   },
   {
    "duration": 3,
    "start_time": "2024-03-08T17:52:43.797Z"
   },
   {
    "duration": 13,
    "start_time": "2024-03-08T17:54:02.494Z"
   },
   {
    "duration": 3,
    "start_time": "2024-03-08T17:54:47.019Z"
   },
   {
    "duration": 13,
    "start_time": "2024-03-08T17:54:50.677Z"
   },
   {
    "duration": 3,
    "start_time": "2024-03-08T17:55:19.680Z"
   },
   {
    "duration": 3,
    "start_time": "2024-03-08T17:55:28.786Z"
   },
   {
    "duration": 46,
    "start_time": "2024-03-08T17:55:49.657Z"
   },
   {
    "duration": 3,
    "start_time": "2024-03-08T17:57:05.809Z"
   },
   {
    "duration": 3,
    "start_time": "2024-03-08T17:57:09.348Z"
   },
   {
    "duration": 31,
    "start_time": "2024-03-08T17:57:11.867Z"
   },
   {
    "duration": 3,
    "start_time": "2024-03-08T17:57:56.485Z"
   },
   {
    "duration": 3,
    "start_time": "2024-03-08T17:57:59.564Z"
   },
   {
    "duration": 5,
    "start_time": "2024-03-08T17:58:04.140Z"
   },
   {
    "duration": 64,
    "start_time": "2024-03-08T17:58:05.708Z"
   },
   {
    "duration": 3,
    "start_time": "2024-03-08T17:58:09.499Z"
   },
   {
    "duration": 8366,
    "start_time": "2024-03-08T17:58:10.220Z"
   },
   {
    "duration": 4,
    "start_time": "2024-03-08T17:59:21.247Z"
   },
   {
    "duration": 3,
    "start_time": "2024-03-08T17:59:24.892Z"
   },
   {
    "duration": 8437,
    "start_time": "2024-03-08T17:59:25.722Z"
   },
   {
    "duration": 3,
    "start_time": "2024-03-08T18:00:19.425Z"
   },
   {
    "duration": 2,
    "start_time": "2024-03-08T18:00:22.898Z"
   },
   {
    "duration": 8647,
    "start_time": "2024-03-08T18:00:23.191Z"
   },
   {
    "duration": 3,
    "start_time": "2024-03-08T18:01:01.881Z"
   },
   {
    "duration": 4,
    "start_time": "2024-03-08T18:01:05.672Z"
   },
   {
    "duration": 382857,
    "start_time": "2024-03-08T18:01:05.988Z"
   },
   {
    "duration": 25,
    "start_time": "2024-03-08T18:07:42.292Z"
   },
   {
    "duration": 2,
    "start_time": "2024-03-08T18:08:53.426Z"
   },
   {
    "duration": 28870,
    "start_time": "2024-03-08T18:08:59.082Z"
   },
   {
    "duration": 148,
    "start_time": "2024-03-08T18:10:06.435Z"
   },
   {
    "duration": 9,
    "start_time": "2024-03-08T18:10:42.728Z"
   },
   {
    "duration": 10,
    "start_time": "2024-03-08T18:10:48.637Z"
   },
   {
    "duration": 13,
    "start_time": "2024-03-08T18:11:33.334Z"
   },
   {
    "duration": 147,
    "start_time": "2024-03-08T18:11:58.830Z"
   },
   {
    "duration": 6,
    "start_time": "2024-03-08T18:12:05.170Z"
   },
   {
    "duration": 5,
    "start_time": "2024-03-08T18:12:15.103Z"
   },
   {
    "duration": 2,
    "start_time": "2024-03-08T18:13:53.291Z"
   },
   {
    "duration": 75,
    "start_time": "2024-03-08T18:14:22.140Z"
   },
   {
    "duration": 4,
    "start_time": "2024-03-08T18:14:25.071Z"
   },
   {
    "duration": 3,
    "start_time": "2024-03-08T18:15:05.427Z"
   },
   {
    "duration": 14,
    "start_time": "2024-03-08T18:15:07.829Z"
   },
   {
    "duration": 3,
    "start_time": "2024-03-08T18:15:32.618Z"
   },
   {
    "duration": 13,
    "start_time": "2024-03-08T18:15:34.488Z"
   },
   {
    "duration": 3,
    "start_time": "2024-03-08T18:15:45.742Z"
   },
   {
    "duration": 3,
    "start_time": "2024-03-08T18:15:54.776Z"
   },
   {
    "duration": 3,
    "start_time": "2024-03-08T18:15:56.006Z"
   },
   {
    "duration": 13,
    "start_time": "2024-03-08T18:15:56.205Z"
   },
   {
    "duration": 3,
    "start_time": "2024-03-08T18:16:12.122Z"
   },
   {
    "duration": 3,
    "start_time": "2024-03-08T18:16:12.856Z"
   },
   {
    "duration": 13,
    "start_time": "2024-03-08T18:16:13.293Z"
   },
   {
    "duration": 3,
    "start_time": "2024-03-08T18:17:11.792Z"
   },
   {
    "duration": 3,
    "start_time": "2024-03-08T18:17:15.352Z"
   },
   {
    "duration": 378599,
    "start_time": "2024-03-08T18:17:15.907Z"
   },
   {
    "duration": 25,
    "start_time": "2024-03-08T18:24:13.871Z"
   },
   {
    "duration": 8,
    "start_time": "2024-03-08T18:24:21.004Z"
   },
   {
    "duration": 9,
    "start_time": "2024-03-08T18:24:39.960Z"
   },
   {
    "duration": 2,
    "start_time": "2024-03-08T18:24:50.543Z"
   },
   {
    "duration": 28074,
    "start_time": "2024-03-08T18:24:54.680Z"
   },
   {
    "duration": 10,
    "start_time": "2024-03-08T18:27:38.431Z"
   },
   {
    "duration": 419,
    "start_time": "2024-03-08T18:27:43.117Z"
   },
   {
    "duration": 8,
    "start_time": "2024-03-09T13:04:18.562Z"
   },
   {
    "duration": 22,
    "start_time": "2024-03-09T13:04:18.571Z"
   },
   {
    "duration": 1809,
    "start_time": "2024-03-09T13:04:18.595Z"
   },
   {
    "duration": 0,
    "start_time": "2024-03-09T13:04:20.409Z"
   },
   {
    "duration": 0,
    "start_time": "2024-03-09T13:04:20.411Z"
   },
   {
    "duration": 0,
    "start_time": "2024-03-09T13:04:20.413Z"
   },
   {
    "duration": 0,
    "start_time": "2024-03-09T13:04:20.413Z"
   },
   {
    "duration": 0,
    "start_time": "2024-03-09T13:04:20.415Z"
   },
   {
    "duration": 0,
    "start_time": "2024-03-09T13:04:20.416Z"
   },
   {
    "duration": 0,
    "start_time": "2024-03-09T13:04:20.417Z"
   },
   {
    "duration": 0,
    "start_time": "2024-03-09T13:04:20.418Z"
   },
   {
    "duration": 0,
    "start_time": "2024-03-09T13:04:20.419Z"
   },
   {
    "duration": 0,
    "start_time": "2024-03-09T13:04:20.421Z"
   },
   {
    "duration": 0,
    "start_time": "2024-03-09T13:04:20.422Z"
   },
   {
    "duration": 0,
    "start_time": "2024-03-09T13:04:20.423Z"
   },
   {
    "duration": 0,
    "start_time": "2024-03-09T13:04:20.424Z"
   },
   {
    "duration": 0,
    "start_time": "2024-03-09T13:04:20.425Z"
   },
   {
    "duration": 0,
    "start_time": "2024-03-09T13:04:20.426Z"
   },
   {
    "duration": 0,
    "start_time": "2024-03-09T13:04:20.427Z"
   },
   {
    "duration": 0,
    "start_time": "2024-03-09T13:04:20.429Z"
   },
   {
    "duration": 0,
    "start_time": "2024-03-09T13:04:20.430Z"
   },
   {
    "duration": 0,
    "start_time": "2024-03-09T13:04:20.431Z"
   },
   {
    "duration": 0,
    "start_time": "2024-03-09T13:04:20.432Z"
   },
   {
    "duration": 0,
    "start_time": "2024-03-09T13:04:20.433Z"
   },
   {
    "duration": 0,
    "start_time": "2024-03-09T13:04:20.472Z"
   },
   {
    "duration": 0,
    "start_time": "2024-03-09T13:04:20.474Z"
   },
   {
    "duration": 0,
    "start_time": "2024-03-09T13:04:20.475Z"
   },
   {
    "duration": 0,
    "start_time": "2024-03-09T13:04:20.476Z"
   },
   {
    "duration": 0,
    "start_time": "2024-03-09T13:04:20.477Z"
   },
   {
    "duration": 0,
    "start_time": "2024-03-09T13:04:20.478Z"
   },
   {
    "duration": 0,
    "start_time": "2024-03-09T13:04:20.479Z"
   },
   {
    "duration": 0,
    "start_time": "2024-03-09T13:04:20.480Z"
   },
   {
    "duration": 0,
    "start_time": "2024-03-09T13:04:20.481Z"
   },
   {
    "duration": 0,
    "start_time": "2024-03-09T13:04:20.483Z"
   },
   {
    "duration": 0,
    "start_time": "2024-03-09T13:04:20.484Z"
   },
   {
    "duration": 0,
    "start_time": "2024-03-09T13:04:20.485Z"
   },
   {
    "duration": 0,
    "start_time": "2024-03-09T13:04:20.486Z"
   },
   {
    "duration": 0,
    "start_time": "2024-03-09T13:04:20.487Z"
   },
   {
    "duration": 0,
    "start_time": "2024-03-09T13:04:20.489Z"
   },
   {
    "duration": 0,
    "start_time": "2024-03-09T13:04:20.490Z"
   },
   {
    "duration": 0,
    "start_time": "2024-03-09T13:04:20.492Z"
   },
   {
    "duration": 0,
    "start_time": "2024-03-09T13:04:20.493Z"
   },
   {
    "duration": 0,
    "start_time": "2024-03-09T13:04:20.494Z"
   },
   {
    "duration": 0,
    "start_time": "2024-03-09T13:04:20.496Z"
   },
   {
    "duration": 0,
    "start_time": "2024-03-09T13:04:20.497Z"
   },
   {
    "duration": 0,
    "start_time": "2024-03-09T13:04:20.498Z"
   },
   {
    "duration": 0,
    "start_time": "2024-03-09T13:04:20.499Z"
   },
   {
    "duration": 0,
    "start_time": "2024-03-09T13:04:20.500Z"
   },
   {
    "duration": 0,
    "start_time": "2024-03-09T13:04:20.501Z"
   },
   {
    "duration": 0,
    "start_time": "2024-03-09T13:04:20.502Z"
   },
   {
    "duration": 0,
    "start_time": "2024-03-09T13:04:20.503Z"
   },
   {
    "duration": 0,
    "start_time": "2024-03-09T13:04:20.504Z"
   },
   {
    "duration": 0,
    "start_time": "2024-03-09T13:04:20.505Z"
   },
   {
    "duration": 0,
    "start_time": "2024-03-09T13:04:20.507Z"
   },
   {
    "duration": 0,
    "start_time": "2024-03-09T13:04:20.508Z"
   },
   {
    "duration": 0,
    "start_time": "2024-03-09T13:04:20.509Z"
   },
   {
    "duration": 0,
    "start_time": "2024-03-09T13:04:20.573Z"
   },
   {
    "duration": 0,
    "start_time": "2024-03-09T13:04:20.574Z"
   },
   {
    "duration": 0,
    "start_time": "2024-03-09T13:04:20.576Z"
   },
   {
    "duration": 0,
    "start_time": "2024-03-09T13:04:20.577Z"
   },
   {
    "duration": 0,
    "start_time": "2024-03-09T13:04:20.578Z"
   },
   {
    "duration": 0,
    "start_time": "2024-03-09T13:04:20.579Z"
   },
   {
    "duration": 0,
    "start_time": "2024-03-09T13:04:20.580Z"
   },
   {
    "duration": 0,
    "start_time": "2024-03-09T13:04:20.580Z"
   },
   {
    "duration": 0,
    "start_time": "2024-03-09T13:04:20.581Z"
   },
   {
    "duration": 0,
    "start_time": "2024-03-09T13:04:20.582Z"
   },
   {
    "duration": 0,
    "start_time": "2024-03-09T13:04:20.582Z"
   },
   {
    "duration": 0,
    "start_time": "2024-03-09T13:04:20.583Z"
   },
   {
    "duration": 0,
    "start_time": "2024-03-09T13:04:20.584Z"
   },
   {
    "duration": 0,
    "start_time": "2024-03-09T13:04:20.586Z"
   },
   {
    "duration": 0,
    "start_time": "2024-03-09T13:04:20.587Z"
   },
   {
    "duration": 0,
    "start_time": "2024-03-09T13:04:20.589Z"
   },
   {
    "duration": 0,
    "start_time": "2024-03-09T13:04:20.590Z"
   },
   {
    "duration": 0,
    "start_time": "2024-03-09T13:04:20.591Z"
   },
   {
    "duration": 3606,
    "start_time": "2024-03-09T13:04:59.561Z"
   },
   {
    "duration": 2,
    "start_time": "2024-03-09T13:05:11.897Z"
   },
   {
    "duration": 19,
    "start_time": "2024-03-09T13:05:11.901Z"
   },
   {
    "duration": 2689,
    "start_time": "2024-03-09T13:05:11.922Z"
   },
   {
    "duration": 73,
    "start_time": "2024-03-09T13:05:14.614Z"
   },
   {
    "duration": 2996,
    "start_time": "2024-03-09T13:05:14.688Z"
   },
   {
    "duration": 279,
    "start_time": "2024-03-09T13:05:17.686Z"
   },
   {
    "duration": 495,
    "start_time": "2024-03-09T13:05:17.966Z"
   },
   {
    "duration": 1021,
    "start_time": "2024-03-09T13:05:18.462Z"
   },
   {
    "duration": 126,
    "start_time": "2024-03-09T13:05:19.486Z"
   },
   {
    "duration": 4,
    "start_time": "2024-03-09T13:05:19.613Z"
   },
   {
    "duration": 16279,
    "start_time": "2024-03-09T13:05:19.619Z"
   },
   {
    "duration": 209,
    "start_time": "2024-03-09T13:05:35.900Z"
   },
   {
    "duration": 364,
    "start_time": "2024-03-09T13:05:36.110Z"
   },
   {
    "duration": 15920,
    "start_time": "2024-03-09T13:05:36.475Z"
   },
   {
    "duration": 182,
    "start_time": "2024-03-09T13:05:52.397Z"
   },
   {
    "duration": 173,
    "start_time": "2024-03-09T13:05:52.580Z"
   },
   {
    "duration": 75,
    "start_time": "2024-03-09T13:05:52.754Z"
   },
   {
    "duration": 309,
    "start_time": "2024-03-09T13:05:52.831Z"
   },
   {
    "duration": 70,
    "start_time": "2024-03-09T13:05:53.141Z"
   },
   {
    "duration": 315,
    "start_time": "2024-03-09T13:05:53.212Z"
   },
   {
    "duration": 1264,
    "start_time": "2024-03-09T13:05:53.529Z"
   },
   {
    "duration": 298,
    "start_time": "2024-03-09T13:05:54.795Z"
   },
   {
    "duration": 188,
    "start_time": "2024-03-09T13:05:55.095Z"
   },
   {
    "duration": 32,
    "start_time": "2024-03-09T13:05:55.288Z"
   },
   {
    "duration": 74,
    "start_time": "2024-03-09T13:05:55.322Z"
   },
   {
    "duration": 83,
    "start_time": "2024-03-09T13:05:55.397Z"
   },
   {
    "duration": 33,
    "start_time": "2024-03-09T13:05:55.481Z"
   },
   {
    "duration": 260,
    "start_time": "2024-03-09T13:05:55.516Z"
   },
   {
    "duration": 243,
    "start_time": "2024-03-09T13:05:55.778Z"
   },
   {
    "duration": 15,
    "start_time": "2024-03-09T13:05:56.023Z"
   },
   {
    "duration": 34,
    "start_time": "2024-03-09T13:05:56.039Z"
   },
   {
    "duration": 81,
    "start_time": "2024-03-09T13:05:56.074Z"
   },
   {
    "duration": 130,
    "start_time": "2024-03-09T13:05:56.157Z"
   },
   {
    "duration": 247,
    "start_time": "2024-03-09T13:05:56.289Z"
   },
   {
    "duration": 10,
    "start_time": "2024-03-09T13:05:56.537Z"
   },
   {
    "duration": 145,
    "start_time": "2024-03-09T13:05:56.549Z"
   },
   {
    "duration": 3,
    "start_time": "2024-03-09T13:05:56.696Z"
   },
   {
    "duration": 95,
    "start_time": "2024-03-09T13:05:56.701Z"
   },
   {
    "duration": 148,
    "start_time": "2024-03-09T13:05:56.798Z"
   },
   {
    "duration": 4,
    "start_time": "2024-03-09T13:05:56.947Z"
   },
   {
    "duration": 4,
    "start_time": "2024-03-09T13:05:56.952Z"
   },
   {
    "duration": 27,
    "start_time": "2024-03-09T13:05:56.957Z"
   },
   {
    "duration": 3,
    "start_time": "2024-03-09T13:05:56.986Z"
   },
   {
    "duration": 7,
    "start_time": "2024-03-09T13:05:56.991Z"
   },
   {
    "duration": 3,
    "start_time": "2024-03-09T13:05:57.000Z"
   },
   {
    "duration": 7,
    "start_time": "2024-03-09T13:05:57.004Z"
   },
   {
    "duration": 10,
    "start_time": "2024-03-09T13:05:57.013Z"
   },
   {
    "duration": 11,
    "start_time": "2024-03-09T13:05:57.025Z"
   },
   {
    "duration": 4,
    "start_time": "2024-03-09T13:05:57.038Z"
   },
   {
    "duration": 29,
    "start_time": "2024-03-09T13:05:57.044Z"
   },
   {
    "duration": 24,
    "start_time": "2024-03-09T13:05:57.075Z"
   },
   {
    "duration": 8,
    "start_time": "2024-03-09T13:05:57.101Z"
   },
   {
    "duration": 10,
    "start_time": "2024-03-09T13:05:57.111Z"
   },
   {
    "duration": 7,
    "start_time": "2024-03-09T13:05:57.123Z"
   },
   {
    "duration": 73,
    "start_time": "2024-03-09T13:05:57.132Z"
   },
   {
    "duration": 3,
    "start_time": "2024-03-09T13:05:57.206Z"
   },
   {
    "duration": 233185,
    "start_time": "2024-03-09T13:05:57.210Z"
   },
   {
    "duration": 10,
    "start_time": "2024-03-09T13:09:50.397Z"
   },
   {
    "duration": 12,
    "start_time": "2024-03-09T13:09:50.409Z"
   },
   {
    "duration": 17059,
    "start_time": "2024-03-09T13:09:50.422Z"
   },
   {
    "duration": 1200,
    "start_time": "2024-03-09T13:10:07.574Z"
   },
   {
    "duration": 95,
    "start_time": "2024-03-09T13:10:08.778Z"
   },
   {
    "duration": 3,
    "start_time": "2024-03-09T13:10:08.875Z"
   },
   {
    "duration": 66896,
    "start_time": "2024-03-09T13:10:08.879Z"
   },
   {
    "duration": 30,
    "start_time": "2024-03-09T13:11:15.777Z"
   },
   {
    "duration": 9,
    "start_time": "2024-03-09T13:11:15.809Z"
   },
   {
    "duration": 1429,
    "start_time": "2024-03-09T13:11:15.820Z"
   },
   {
    "duration": 1192,
    "start_time": "2024-03-09T13:11:17.250Z"
   },
   {
    "duration": 3,
    "start_time": "2024-03-09T13:11:18.447Z"
   },
   {
    "duration": 9,
    "start_time": "2024-03-09T13:11:18.452Z"
   },
   {
    "duration": 411990,
    "start_time": "2024-03-09T13:11:18.463Z"
   },
   {
    "duration": 11,
    "start_time": "2024-03-09T13:18:10.454Z"
   },
   {
    "duration": 4,
    "start_time": "2024-03-09T13:18:10.466Z"
   },
   {
    "duration": 30808,
    "start_time": "2024-03-09T13:18:10.472Z"
   },
   {
    "duration": 442,
    "start_time": "2024-03-09T13:18:41.282Z"
   },
   {
    "duration": 3,
    "start_time": "2024-03-09T13:20:13.056Z"
   },
   {
    "duration": 5,
    "start_time": "2024-03-09T13:20:13.061Z"
   },
   {
    "duration": 2660,
    "start_time": "2024-03-09T13:20:13.067Z"
   },
   {
    "duration": 5,
    "start_time": "2024-03-09T13:20:15.730Z"
   },
   {
    "duration": 912,
    "start_time": "2024-03-09T13:20:15.737Z"
   },
   {
    "duration": 280,
    "start_time": "2024-03-09T13:20:16.651Z"
   },
   {
    "duration": 442,
    "start_time": "2024-03-09T13:20:16.932Z"
   },
   {
    "duration": 936,
    "start_time": "2024-03-09T13:20:17.376Z"
   },
   {
    "duration": 129,
    "start_time": "2024-03-09T13:20:18.314Z"
   },
   {
    "duration": 4,
    "start_time": "2024-03-09T13:20:18.445Z"
   },
   {
    "duration": 15543,
    "start_time": "2024-03-09T13:20:18.451Z"
   },
   {
    "duration": 213,
    "start_time": "2024-03-09T13:20:33.996Z"
   },
   {
    "duration": 383,
    "start_time": "2024-03-09T13:20:34.210Z"
   },
   {
    "duration": 15689,
    "start_time": "2024-03-09T13:20:34.595Z"
   },
   {
    "duration": 180,
    "start_time": "2024-03-09T13:20:50.285Z"
   },
   {
    "duration": 170,
    "start_time": "2024-03-09T13:20:50.466Z"
   },
   {
    "duration": 74,
    "start_time": "2024-03-09T13:20:50.638Z"
   },
   {
    "duration": 305,
    "start_time": "2024-03-09T13:20:50.713Z"
   },
   {
    "duration": 70,
    "start_time": "2024-03-09T13:20:51.020Z"
   },
   {
    "duration": 299,
    "start_time": "2024-03-09T13:20:51.092Z"
   },
   {
    "duration": 282,
    "start_time": "2024-03-09T13:20:51.393Z"
   },
   {
    "duration": 1242,
    "start_time": "2024-03-09T13:20:51.677Z"
   },
   {
    "duration": 163,
    "start_time": "2024-03-09T13:20:52.921Z"
   },
   {
    "duration": 33,
    "start_time": "2024-03-09T13:20:53.085Z"
   },
   {
    "duration": 73,
    "start_time": "2024-03-09T13:20:53.120Z"
   },
   {
    "duration": 78,
    "start_time": "2024-03-09T13:20:53.195Z"
   },
   {
    "duration": 28,
    "start_time": "2024-03-09T13:20:53.274Z"
   },
   {
    "duration": 281,
    "start_time": "2024-03-09T13:20:53.306Z"
   },
   {
    "duration": 246,
    "start_time": "2024-03-09T13:20:53.589Z"
   },
   {
    "duration": 16,
    "start_time": "2024-03-09T13:20:53.837Z"
   },
   {
    "duration": 34,
    "start_time": "2024-03-09T13:20:53.854Z"
   },
   {
    "duration": 74,
    "start_time": "2024-03-09T13:20:53.889Z"
   },
   {
    "duration": 134,
    "start_time": "2024-03-09T13:20:53.972Z"
   },
   {
    "duration": 259,
    "start_time": "2024-03-09T13:20:54.107Z"
   },
   {
    "duration": 10,
    "start_time": "2024-03-09T13:20:54.372Z"
   },
   {
    "duration": 129,
    "start_time": "2024-03-09T13:20:54.384Z"
   },
   {
    "duration": 3,
    "start_time": "2024-03-09T13:20:54.515Z"
   },
   {
    "duration": 98,
    "start_time": "2024-03-09T13:20:54.520Z"
   },
   {
    "duration": 128,
    "start_time": "2024-03-09T13:20:54.619Z"
   },
   {
    "duration": 4,
    "start_time": "2024-03-09T13:20:54.749Z"
   },
   {
    "duration": 18,
    "start_time": "2024-03-09T13:20:54.755Z"
   },
   {
    "duration": 22,
    "start_time": "2024-03-09T13:20:54.775Z"
   },
   {
    "duration": 3,
    "start_time": "2024-03-09T13:20:54.799Z"
   },
   {
    "duration": 15,
    "start_time": "2024-03-09T13:20:54.804Z"
   },
   {
    "duration": 4,
    "start_time": "2024-03-09T13:20:54.820Z"
   },
   {
    "duration": 7,
    "start_time": "2024-03-09T13:20:54.825Z"
   },
   {
    "duration": 16,
    "start_time": "2024-03-09T13:20:54.834Z"
   },
   {
    "duration": 12,
    "start_time": "2024-03-09T13:20:54.852Z"
   },
   {
    "duration": 12,
    "start_time": "2024-03-09T13:20:54.866Z"
   },
   {
    "duration": 9,
    "start_time": "2024-03-09T13:20:54.879Z"
   },
   {
    "duration": 8,
    "start_time": "2024-03-09T13:20:54.890Z"
   },
   {
    "duration": 7,
    "start_time": "2024-03-09T13:20:54.900Z"
   },
   {
    "duration": 11,
    "start_time": "2024-03-09T13:20:54.909Z"
   },
   {
    "duration": 17,
    "start_time": "2024-03-09T13:20:54.921Z"
   },
   {
    "duration": 61,
    "start_time": "2024-03-09T13:20:54.939Z"
   },
   {
    "duration": 3,
    "start_time": "2024-03-09T13:20:55.002Z"
   },
   {
    "duration": 230989,
    "start_time": "2024-03-09T13:20:55.007Z"
   },
   {
    "duration": 11,
    "start_time": "2024-03-09T13:24:45.998Z"
   },
   {
    "duration": 35,
    "start_time": "2024-03-09T13:24:46.010Z"
   },
   {
    "duration": 18008,
    "start_time": "2024-03-09T13:24:46.073Z"
   },
   {
    "duration": 1201,
    "start_time": "2024-03-09T13:25:04.173Z"
   },
   {
    "duration": 3,
    "start_time": "2024-03-09T13:25:05.378Z"
   },
   {
    "duration": 91,
    "start_time": "2024-03-09T13:25:05.384Z"
   },
   {
    "duration": 66721,
    "start_time": "2024-03-09T13:25:05.477Z"
   },
   {
    "duration": 27,
    "start_time": "2024-03-09T13:26:12.200Z"
   },
   {
    "duration": 25,
    "start_time": "2024-03-09T13:26:12.229Z"
   },
   {
    "duration": 1402,
    "start_time": "2024-03-09T13:26:12.256Z"
   },
   {
    "duration": 1191,
    "start_time": "2024-03-09T13:26:13.659Z"
   },
   {
    "duration": 4,
    "start_time": "2024-03-09T13:26:14.852Z"
   },
   {
    "duration": 5,
    "start_time": "2024-03-09T13:26:14.857Z"
   },
   {
    "duration": 412453,
    "start_time": "2024-03-09T13:26:14.873Z"
   },
   {
    "duration": 11,
    "start_time": "2024-03-09T13:33:07.328Z"
   },
   {
    "duration": 51,
    "start_time": "2024-03-09T13:33:07.341Z"
   },
   {
    "duration": 31456,
    "start_time": "2024-03-09T13:33:07.394Z"
   },
   {
    "duration": 462,
    "start_time": "2024-03-09T13:33:38.852Z"
   },
   {
    "duration": 2,
    "start_time": "2024-03-09T13:51:05.168Z"
   },
   {
    "duration": 6,
    "start_time": "2024-03-09T14:06:06.733Z"
   },
   {
    "duration": 22,
    "start_time": "2024-03-09T14:07:11.573Z"
   },
   {
    "duration": 4,
    "start_time": "2024-03-09T14:07:32.837Z"
   },
   {
    "duration": 4,
    "start_time": "2024-03-09T14:07:38.163Z"
   },
   {
    "duration": 15,
    "start_time": "2024-03-09T14:07:41.825Z"
   },
   {
    "duration": 4,
    "start_time": "2024-03-09T14:07:49.717Z"
   },
   {
    "duration": 4,
    "start_time": "2024-03-09T14:07:56.969Z"
   },
   {
    "duration": 103,
    "start_time": "2024-03-09T14:14:09.122Z"
   },
   {
    "duration": 3,
    "start_time": "2024-03-09T14:14:13.791Z"
   },
   {
    "duration": 15,
    "start_time": "2024-03-09T14:14:19.330Z"
   },
   {
    "duration": 3,
    "start_time": "2024-03-09T14:14:41.033Z"
   },
   {
    "duration": 3,
    "start_time": "2024-03-09T14:14:41.978Z"
   },
   {
    "duration": 15,
    "start_time": "2024-03-09T14:15:04.910Z"
   },
   {
    "duration": 16,
    "start_time": "2024-03-09T14:15:42.805Z"
   },
   {
    "duration": 4,
    "start_time": "2024-03-09T14:15:52.528Z"
   },
   {
    "duration": 137,
    "start_time": "2024-03-09T14:17:01.485Z"
   },
   {
    "duration": 15,
    "start_time": "2024-03-09T14:17:36.195Z"
   },
   {
    "duration": 15,
    "start_time": "2024-03-09T14:17:49.880Z"
   },
   {
    "duration": 10,
    "start_time": "2024-03-09T14:26:04.500Z"
   },
   {
    "duration": 15,
    "start_time": "2024-03-09T14:29:49.297Z"
   },
   {
    "duration": 20,
    "start_time": "2024-03-09T14:29:57.495Z"
   },
   {
    "duration": 121,
    "start_time": "2024-03-09T14:39:35.301Z"
   },
   {
    "duration": 4,
    "start_time": "2024-03-09T14:41:39.306Z"
   },
   {
    "duration": 3,
    "start_time": "2024-03-09T14:42:38.661Z"
   },
   {
    "duration": 3,
    "start_time": "2024-03-09T14:43:03.624Z"
   },
   {
    "duration": 42,
    "start_time": "2024-03-09T14:43:04.850Z"
   },
   {
    "duration": 10,
    "start_time": "2024-03-09T14:43:48.671Z"
   },
   {
    "duration": 5,
    "start_time": "2024-03-09T14:43:54.202Z"
   },
   {
    "duration": 3,
    "start_time": "2024-03-09T14:44:23.302Z"
   },
   {
    "duration": 3,
    "start_time": "2024-03-09T14:44:40.849Z"
   },
   {
    "duration": 38,
    "start_time": "2024-03-09T14:44:42.912Z"
   },
   {
    "duration": 7,
    "start_time": "2024-03-09T14:50:23.778Z"
   },
   {
    "duration": 10,
    "start_time": "2024-03-09T14:50:43.104Z"
   },
   {
    "duration": 1802,
    "start_time": "2024-03-09T14:51:03.365Z"
   },
   {
    "duration": 6074,
    "start_time": "2024-03-09T14:51:30.084Z"
   },
   {
    "duration": 19,
    "start_time": "2024-03-09T14:52:07.583Z"
   },
   {
    "duration": 38,
    "start_time": "2024-03-09T14:53:02.309Z"
   },
   {
    "duration": 3,
    "start_time": "2024-03-09T14:53:53.370Z"
   },
   {
    "duration": 37,
    "start_time": "2024-03-09T14:53:58.137Z"
   },
   {
    "duration": 3,
    "start_time": "2024-03-09T14:54:14.121Z"
   },
   {
    "duration": 106,
    "start_time": "2024-03-09T14:55:13.780Z"
   },
   {
    "duration": 4,
    "start_time": "2024-03-09T14:55:19.542Z"
   },
   {
    "duration": 11,
    "start_time": "2024-03-09T14:55:33.556Z"
   },
   {
    "duration": 37,
    "start_time": "2024-03-09T14:55:38.651Z"
   },
   {
    "duration": 60045,
    "start_time": "2024-03-09T14:56:24.855Z"
   },
   {
    "duration": 14,
    "start_time": "2024-03-09T14:58:02.510Z"
   },
   {
    "duration": 4,
    "start_time": "2024-03-09T14:58:16.737Z"
   },
   {
    "duration": 362464,
    "start_time": "2024-03-09T14:58:20.537Z"
   },
   {
    "duration": 15,
    "start_time": "2024-03-09T15:04:23.003Z"
   },
   {
    "duration": 19,
    "start_time": "2024-03-09T15:04:23.020Z"
   },
   {
    "duration": 3,
    "start_time": "2024-03-09T15:05:17.222Z"
   },
   {
    "duration": 13,
    "start_time": "2024-03-09T15:05:44.887Z"
   },
   {
    "duration": 3,
    "start_time": "2024-03-09T15:06:14.433Z"
   },
   {
    "duration": 10,
    "start_time": "2024-03-09T15:06:15.359Z"
   },
   {
    "duration": 4,
    "start_time": "2024-03-09T15:06:23.688Z"
   },
   {
    "duration": 363484,
    "start_time": "2024-03-09T15:06:24.104Z"
   },
   {
    "duration": 3184,
    "start_time": "2024-03-09T15:12:27.590Z"
   },
   {
    "duration": 10,
    "start_time": "2024-03-09T15:21:24.626Z"
   },
   {
    "duration": 3,
    "start_time": "2024-03-09T15:22:03.797Z"
   },
   {
    "duration": 4,
    "start_time": "2024-03-09T15:22:08.551Z"
   },
   {
    "duration": 9,
    "start_time": "2024-03-09T15:22:12.144Z"
   },
   {
    "duration": 13,
    "start_time": "2024-03-09T15:22:33.469Z"
   },
   {
    "duration": 184,
    "start_time": "2024-03-09T15:27:59.877Z"
   },
   {
    "duration": 195,
    "start_time": "2024-03-09T15:28:09.355Z"
   },
   {
    "duration": 163,
    "start_time": "2024-03-09T15:29:19.426Z"
   },
   {
    "duration": 185,
    "start_time": "2024-03-09T15:29:29.008Z"
   },
   {
    "duration": 181,
    "start_time": "2024-03-09T15:29:51.101Z"
   },
   {
    "duration": 7,
    "start_time": "2024-03-09T15:32:08.644Z"
   },
   {
    "duration": 11,
    "start_time": "2024-03-09T15:32:08.653Z"
   },
   {
    "duration": 2752,
    "start_time": "2024-03-09T15:32:08.665Z"
   },
   {
    "duration": 1626,
    "start_time": "2024-03-09T15:32:11.420Z"
   },
   {
    "duration": 1002,
    "start_time": "2024-03-09T15:32:13.048Z"
   },
   {
    "duration": 302,
    "start_time": "2024-03-09T15:32:14.052Z"
   },
   {
    "duration": 559,
    "start_time": "2024-03-09T15:32:14.356Z"
   },
   {
    "duration": 1657,
    "start_time": "2024-03-09T15:32:14.917Z"
   },
   {
    "duration": 223,
    "start_time": "2024-03-09T15:32:16.575Z"
   },
   {
    "duration": 4,
    "start_time": "2024-03-09T15:32:16.800Z"
   },
   {
    "duration": 17176,
    "start_time": "2024-03-09T15:32:16.806Z"
   },
   {
    "duration": 255,
    "start_time": "2024-03-09T15:32:33.984Z"
   },
   {
    "duration": 359,
    "start_time": "2024-03-09T15:32:34.241Z"
   },
   {
    "duration": 20772,
    "start_time": "2024-03-09T15:32:34.601Z"
   },
   {
    "duration": 190,
    "start_time": "2024-03-09T15:32:55.375Z"
   },
   {
    "duration": 178,
    "start_time": "2024-03-09T15:32:55.567Z"
   },
   {
    "duration": 77,
    "start_time": "2024-03-09T15:32:55.747Z"
   },
   {
    "duration": 303,
    "start_time": "2024-03-09T15:32:55.826Z"
   },
   {
    "duration": 84,
    "start_time": "2024-03-09T15:32:56.130Z"
   },
   {
    "duration": 337,
    "start_time": "2024-03-09T15:32:56.216Z"
   },
   {
    "duration": 1248,
    "start_time": "2024-03-09T15:32:56.554Z"
   },
   {
    "duration": 300,
    "start_time": "2024-03-09T15:32:57.804Z"
   },
   {
    "duration": 185,
    "start_time": "2024-03-09T15:32:58.105Z"
   },
   {
    "duration": 33,
    "start_time": "2024-03-09T15:32:58.292Z"
   },
   {
    "duration": 79,
    "start_time": "2024-03-09T15:32:58.327Z"
   },
   {
    "duration": 78,
    "start_time": "2024-03-09T15:32:58.408Z"
   },
   {
    "duration": 28,
    "start_time": "2024-03-09T15:32:58.488Z"
   },
   {
    "duration": 289,
    "start_time": "2024-03-09T15:32:58.521Z"
   },
   {
    "duration": 262,
    "start_time": "2024-03-09T15:32:58.811Z"
   },
   {
    "duration": 25,
    "start_time": "2024-03-09T15:32:59.075Z"
   },
   {
    "duration": 21,
    "start_time": "2024-03-09T15:32:59.102Z"
   },
   {
    "duration": 88,
    "start_time": "2024-03-09T15:32:59.124Z"
   },
   {
    "duration": 138,
    "start_time": "2024-03-09T15:32:59.213Z"
   },
   {
    "duration": 272,
    "start_time": "2024-03-09T15:32:59.352Z"
   },
   {
    "duration": 11,
    "start_time": "2024-03-09T15:32:59.625Z"
   },
   {
    "duration": 156,
    "start_time": "2024-03-09T15:32:59.637Z"
   },
   {
    "duration": 3,
    "start_time": "2024-03-09T15:32:59.795Z"
   },
   {
    "duration": 108,
    "start_time": "2024-03-09T15:32:59.800Z"
   },
   {
    "duration": 130,
    "start_time": "2024-03-09T15:32:59.909Z"
   },
   {
    "duration": 4,
    "start_time": "2024-03-09T15:33:00.040Z"
   },
   {
    "duration": 77,
    "start_time": "2024-03-09T15:33:00.045Z"
   },
   {
    "duration": 142,
    "start_time": "2024-03-09T15:33:00.124Z"
   },
   {
    "duration": 37,
    "start_time": "2024-03-09T15:33:00.268Z"
   },
   {
    "duration": 51,
    "start_time": "2024-03-09T15:33:00.306Z"
   },
   {
    "duration": 60,
    "start_time": "2024-03-09T15:33:00.358Z"
   },
   {
    "duration": 50,
    "start_time": "2024-03-09T15:33:00.419Z"
   },
   {
    "duration": 36,
    "start_time": "2024-03-09T15:33:00.471Z"
   },
   {
    "duration": 53,
    "start_time": "2024-03-09T15:33:00.508Z"
   },
   {
    "duration": 70,
    "start_time": "2024-03-09T15:33:00.563Z"
   },
   {
    "duration": 63,
    "start_time": "2024-03-09T15:33:00.634Z"
   },
   {
    "duration": 118,
    "start_time": "2024-03-09T15:33:00.699Z"
   },
   {
    "duration": 61,
    "start_time": "2024-03-09T15:33:00.818Z"
   },
   {
    "duration": 47,
    "start_time": "2024-03-09T15:33:00.881Z"
   },
   {
    "duration": 74,
    "start_time": "2024-03-09T15:33:00.930Z"
   },
   {
    "duration": 65,
    "start_time": "2024-03-09T15:33:01.006Z"
   },
   {
    "duration": 42,
    "start_time": "2024-03-09T15:33:01.073Z"
   },
   {
    "duration": 116,
    "start_time": "2024-03-09T15:33:01.117Z"
   },
   {
    "duration": 26,
    "start_time": "2024-03-09T15:33:01.235Z"
   },
   {
    "duration": 485429,
    "start_time": "2024-03-09T15:33:01.263Z"
   },
   {
    "duration": 11,
    "start_time": "2024-03-09T15:41:06.694Z"
   },
   {
    "duration": 21,
    "start_time": "2024-03-09T15:41:06.706Z"
   },
   {
    "duration": 17745,
    "start_time": "2024-03-09T15:41:06.729Z"
   },
   {
    "duration": 1298,
    "start_time": "2024-03-09T15:41:24.476Z"
   },
   {
    "duration": 4,
    "start_time": "2024-03-09T15:41:25.776Z"
   },
   {
    "duration": 92,
    "start_time": "2024-03-09T15:41:25.782Z"
   },
   {
    "duration": 67235,
    "start_time": "2024-03-09T15:41:25.876Z"
   },
   {
    "duration": 90,
    "start_time": "2024-03-09T15:42:33.113Z"
   },
   {
    "duration": 13,
    "start_time": "2024-03-09T15:42:33.205Z"
   },
   {
    "duration": 1880,
    "start_time": "2024-03-09T15:42:33.220Z"
   },
   {
    "duration": 1182,
    "start_time": "2024-03-09T15:42:35.101Z"
   },
   {
    "duration": 4,
    "start_time": "2024-03-09T15:42:36.285Z"
   },
   {
    "duration": 4,
    "start_time": "2024-03-09T15:42:36.291Z"
   },
   {
    "duration": 436627,
    "start_time": "2024-03-09T15:42:36.297Z"
   },
   {
    "duration": 11,
    "start_time": "2024-03-09T15:49:52.925Z"
   },
   {
    "duration": 15,
    "start_time": "2024-03-09T15:49:52.937Z"
   },
   {
    "duration": 33410,
    "start_time": "2024-03-09T15:49:52.953Z"
   },
   {
    "duration": 439,
    "start_time": "2024-03-09T15:50:26.365Z"
   },
   {
    "duration": 2,
    "start_time": "2024-03-09T15:50:26.806Z"
   },
   {
    "duration": 8,
    "start_time": "2024-03-09T15:50:26.810Z"
   },
   {
    "duration": 347683,
    "start_time": "2024-03-09T15:50:26.819Z"
   },
   {
    "duration": 13,
    "start_time": "2024-03-09T15:56:14.504Z"
   },
   {
    "duration": 3,
    "start_time": "2024-03-09T15:56:14.523Z"
   },
   {
    "duration": 12708,
    "start_time": "2024-03-09T15:56:14.573Z"
   },
   {
    "duration": 3009,
    "start_time": "2024-03-09T15:56:27.283Z"
   },
   {
    "duration": 2,
    "start_time": "2024-03-09T15:56:30.294Z"
   },
   {
    "duration": 246,
    "start_time": "2024-03-09T15:56:30.298Z"
   },
   {
    "duration": 128,
    "start_time": "2024-03-09T15:56:30.546Z"
   },
   {
    "duration": 226,
    "start_time": "2024-03-09T15:56:30.676Z"
   },
   {
    "duration": 11,
    "start_time": "2024-03-09T15:56:30.903Z"
   },
   {
    "duration": 7,
    "start_time": "2024-03-09T15:57:00.253Z"
   },
   {
    "duration": 7,
    "start_time": "2024-03-09T15:57:51.779Z"
   },
   {
    "duration": 5,
    "start_time": "2024-03-09T15:58:19.544Z"
   },
   {
    "duration": 138,
    "start_time": "2024-03-09T15:59:49.997Z"
   },
   {
    "duration": 5,
    "start_time": "2024-03-09T15:59:53.149Z"
   },
   {
    "duration": 2676,
    "start_time": "2024-03-09T16:02:46.283Z"
   },
   {
    "duration": 2728,
    "start_time": "2024-03-09T16:03:42.231Z"
   },
   {
    "duration": 8,
    "start_time": "2024-03-10T17:38:18.423Z"
   },
   {
    "duration": 13,
    "start_time": "2024-03-10T17:38:18.432Z"
   },
   {
    "duration": 3044,
    "start_time": "2024-03-10T17:38:18.446Z"
   },
   {
    "duration": 1698,
    "start_time": "2024-03-10T17:38:21.493Z"
   },
   {
    "duration": 2933,
    "start_time": "2024-03-10T17:38:23.193Z"
   },
   {
    "duration": 262,
    "start_time": "2024-03-10T17:38:26.128Z"
   },
   {
    "duration": 464,
    "start_time": "2024-03-10T17:38:26.392Z"
   },
   {
    "duration": 965,
    "start_time": "2024-03-10T17:38:26.858Z"
   },
   {
    "duration": 116,
    "start_time": "2024-03-10T17:38:27.824Z"
   },
   {
    "duration": 4,
    "start_time": "2024-03-10T17:38:27.942Z"
   },
   {
    "duration": 15479,
    "start_time": "2024-03-10T17:38:27.948Z"
   },
   {
    "duration": 198,
    "start_time": "2024-03-10T17:38:43.429Z"
   },
   {
    "duration": 352,
    "start_time": "2024-03-10T17:38:43.629Z"
   },
   {
    "duration": 15221,
    "start_time": "2024-03-10T17:38:43.983Z"
   },
   {
    "duration": 170,
    "start_time": "2024-03-10T17:38:59.206Z"
   },
   {
    "duration": 174,
    "start_time": "2024-03-10T17:38:59.377Z"
   },
   {
    "duration": 69,
    "start_time": "2024-03-10T17:38:59.553Z"
   },
   {
    "duration": 283,
    "start_time": "2024-03-10T17:38:59.624Z"
   },
   {
    "duration": 84,
    "start_time": "2024-03-10T17:38:59.908Z"
   },
   {
    "duration": 304,
    "start_time": "2024-03-10T17:38:59.993Z"
   },
   {
    "duration": 1200,
    "start_time": "2024-03-10T17:39:00.299Z"
   },
   {
    "duration": 297,
    "start_time": "2024-03-10T17:39:01.501Z"
   },
   {
    "duration": 172,
    "start_time": "2024-03-10T17:39:01.800Z"
   },
   {
    "duration": 31,
    "start_time": "2024-03-10T17:39:01.974Z"
   },
   {
    "duration": 101,
    "start_time": "2024-03-10T17:39:02.007Z"
   },
   {
    "duration": 91,
    "start_time": "2024-03-10T17:39:02.110Z"
   },
   {
    "duration": 33,
    "start_time": "2024-03-10T17:39:02.202Z"
   },
   {
    "duration": 247,
    "start_time": "2024-03-10T17:39:02.239Z"
   },
   {
    "duration": 254,
    "start_time": "2024-03-10T17:39:02.487Z"
   },
   {
    "duration": 16,
    "start_time": "2024-03-10T17:39:02.743Z"
   },
   {
    "duration": 26,
    "start_time": "2024-03-10T17:39:02.760Z"
   },
   {
    "duration": 68,
    "start_time": "2024-03-10T17:39:02.788Z"
   },
   {
    "duration": 124,
    "start_time": "2024-03-10T17:39:02.858Z"
   },
   {
    "duration": 246,
    "start_time": "2024-03-10T17:39:02.983Z"
   },
   {
    "duration": 10,
    "start_time": "2024-03-10T17:39:03.230Z"
   },
   {
    "duration": 142,
    "start_time": "2024-03-10T17:39:03.242Z"
   },
   {
    "duration": 3,
    "start_time": "2024-03-10T17:39:03.386Z"
   },
   {
    "duration": 89,
    "start_time": "2024-03-10T17:39:03.390Z"
   },
   {
    "duration": 126,
    "start_time": "2024-03-10T17:39:03.481Z"
   },
   {
    "duration": 4,
    "start_time": "2024-03-10T17:39:03.609Z"
   },
   {
    "duration": 11,
    "start_time": "2024-03-10T17:39:03.615Z"
   },
   {
    "duration": 19,
    "start_time": "2024-03-10T17:39:03.628Z"
   },
   {
    "duration": 10,
    "start_time": "2024-03-10T17:39:03.648Z"
   },
   {
    "duration": 31,
    "start_time": "2024-03-10T17:39:03.659Z"
   },
   {
    "duration": 3,
    "start_time": "2024-03-10T17:39:03.692Z"
   },
   {
    "duration": 8,
    "start_time": "2024-03-10T17:39:03.697Z"
   },
   {
    "duration": 13,
    "start_time": "2024-03-10T17:39:03.707Z"
   },
   {
    "duration": 21,
    "start_time": "2024-03-10T17:39:03.722Z"
   },
   {
    "duration": 9,
    "start_time": "2024-03-10T17:39:03.745Z"
   },
   {
    "duration": 4,
    "start_time": "2024-03-10T17:39:03.755Z"
   },
   {
    "duration": 4,
    "start_time": "2024-03-10T17:39:03.761Z"
   },
   {
    "duration": 3,
    "start_time": "2024-03-10T17:39:03.767Z"
   },
   {
    "duration": 7,
    "start_time": "2024-03-10T17:39:03.772Z"
   },
   {
    "duration": 3,
    "start_time": "2024-03-10T17:39:03.781Z"
   },
   {
    "duration": 14,
    "start_time": "2024-03-10T17:39:03.785Z"
   },
   {
    "duration": 4,
    "start_time": "2024-03-10T17:39:03.800Z"
   },
   {
    "duration": 78,
    "start_time": "2024-03-10T17:39:03.806Z"
   },
   {
    "duration": 2,
    "start_time": "2024-03-10T17:39:34.773Z"
   },
   {
    "duration": 3,
    "start_time": "2024-03-10T17:39:41.139Z"
   },
   {
    "duration": 6,
    "start_time": "2024-03-10T17:39:44.256Z"
   },
   {
    "duration": 3,
    "start_time": "2024-03-10T17:39:44.604Z"
   },
   {
    "duration": 3,
    "start_time": "2024-03-10T17:39:45.869Z"
   },
   {
    "duration": 3,
    "start_time": "2024-03-10T17:39:46.617Z"
   },
   {
    "duration": 3,
    "start_time": "2024-03-10T17:39:46.836Z"
   },
   {
    "duration": 3,
    "start_time": "2024-03-10T17:39:47.588Z"
   },
   {
    "duration": 3,
    "start_time": "2024-03-10T17:39:47.786Z"
   },
   {
    "duration": 3,
    "start_time": "2024-03-10T17:39:48.551Z"
   },
   {
    "duration": 3,
    "start_time": "2024-03-10T17:39:48.797Z"
   },
   {
    "duration": 3,
    "start_time": "2024-03-10T17:39:50.521Z"
   },
   {
    "duration": 5,
    "start_time": "2024-03-10T17:39:52.130Z"
   },
   {
    "duration": 4,
    "start_time": "2024-03-10T17:39:52.335Z"
   },
   {
    "duration": 3,
    "start_time": "2024-03-10T17:39:52.575Z"
   },
   {
    "duration": 63,
    "start_time": "2024-03-10T17:39:52.909Z"
   },
   {
    "duration": 3,
    "start_time": "2024-03-10T17:39:55.794Z"
   },
   {
    "duration": 425,
    "start_time": "2024-03-10T17:39:58.573Z"
   },
   {
    "duration": 6688,
    "start_time": "2024-03-10T17:41:21.233Z"
   },
   {
    "duration": 317,
    "start_time": "2024-03-10T17:41:39.428Z"
   },
   {
    "duration": 3,
    "start_time": "2024-03-10T17:41:58.497Z"
   },
   {
    "duration": 14,
    "start_time": "2024-03-10T17:41:59.301Z"
   },
   {
    "duration": 3,
    "start_time": "2024-03-10T17:41:59.563Z"
   },
   {
    "duration": 8,
    "start_time": "2024-03-10T17:42:00.260Z"
   },
   {
    "duration": 3,
    "start_time": "2024-03-10T17:42:00.478Z"
   },
   {
    "duration": 3,
    "start_time": "2024-03-10T17:42:01.038Z"
   },
   {
    "duration": 3,
    "start_time": "2024-03-10T17:42:01.248Z"
   },
   {
    "duration": 3,
    "start_time": "2024-03-10T17:42:01.438Z"
   },
   {
    "duration": 3,
    "start_time": "2024-03-10T17:42:01.656Z"
   },
   {
    "duration": 3,
    "start_time": "2024-03-10T17:42:01.862Z"
   },
   {
    "duration": 3,
    "start_time": "2024-03-10T17:42:02.062Z"
   },
   {
    "duration": 4,
    "start_time": "2024-03-10T17:42:02.287Z"
   },
   {
    "duration": 4,
    "start_time": "2024-03-10T17:42:03.635Z"
   },
   {
    "duration": 3,
    "start_time": "2024-03-10T17:42:03.824Z"
   },
   {
    "duration": 4,
    "start_time": "2024-03-10T17:42:03.991Z"
   },
   {
    "duration": 3,
    "start_time": "2024-03-10T17:42:04.152Z"
   },
   {
    "duration": 83,
    "start_time": "2024-03-10T17:42:04.427Z"
   },
   {
    "duration": 4,
    "start_time": "2024-03-10T17:42:06.919Z"
   },
   {
    "duration": 321,
    "start_time": "2024-03-10T17:42:08.271Z"
   },
   {
    "duration": 3079,
    "start_time": "2024-03-10T17:42:39.615Z"
   },
   {
    "duration": 3028,
    "start_time": "2024-03-10T17:42:45.741Z"
   },
   {
    "duration": 5,
    "start_time": "2024-03-10T17:42:48.771Z"
   },
   {
    "duration": 116,
    "start_time": "2024-03-10T17:42:57.688Z"
   },
   {
    "duration": 3,
    "start_time": "2024-03-10T17:42:57.919Z"
   },
   {
    "duration": 3,
    "start_time": "2024-03-10T17:42:58.885Z"
   },
   {
    "duration": 17,
    "start_time": "2024-03-10T17:42:59.498Z"
   },
   {
    "duration": 3,
    "start_time": "2024-03-10T17:42:59.740Z"
   },
   {
    "duration": 7,
    "start_time": "2024-03-10T17:43:00.275Z"
   },
   {
    "duration": 3,
    "start_time": "2024-03-10T17:43:00.404Z"
   },
   {
    "duration": 3,
    "start_time": "2024-03-10T17:43:00.955Z"
   },
   {
    "duration": 3,
    "start_time": "2024-03-10T17:43:01.132Z"
   },
   {
    "duration": 3,
    "start_time": "2024-03-10T17:43:01.366Z"
   },
   {
    "duration": 3,
    "start_time": "2024-03-10T17:43:01.621Z"
   },
   {
    "duration": 3,
    "start_time": "2024-03-10T17:43:01.792Z"
   },
   {
    "duration": 3,
    "start_time": "2024-03-10T17:43:01.962Z"
   },
   {
    "duration": 3,
    "start_time": "2024-03-10T17:43:02.133Z"
   },
   {
    "duration": 3,
    "start_time": "2024-03-10T17:43:02.637Z"
   },
   {
    "duration": 2,
    "start_time": "2024-03-10T17:43:02.789Z"
   },
   {
    "duration": 3,
    "start_time": "2024-03-10T17:43:02.939Z"
   },
   {
    "duration": 3,
    "start_time": "2024-03-10T17:43:03.197Z"
   },
   {
    "duration": 64,
    "start_time": "2024-03-10T17:43:03.376Z"
   },
   {
    "duration": 3,
    "start_time": "2024-03-10T17:43:06.047Z"
   },
   {
    "duration": 305,
    "start_time": "2024-03-10T17:43:07.237Z"
   },
   {
    "duration": 2,
    "start_time": "2024-03-10T17:45:03.373Z"
   },
   {
    "duration": 6,
    "start_time": "2024-03-10T17:45:04.860Z"
   },
   {
    "duration": 3,
    "start_time": "2024-03-10T17:45:05.024Z"
   },
   {
    "duration": 2,
    "start_time": "2024-03-10T17:45:05.548Z"
   },
   {
    "duration": 3,
    "start_time": "2024-03-10T17:45:05.841Z"
   },
   {
    "duration": 3,
    "start_time": "2024-03-10T17:45:05.984Z"
   },
   {
    "duration": 2,
    "start_time": "2024-03-10T17:45:06.106Z"
   },
   {
    "duration": 3,
    "start_time": "2024-03-10T17:45:06.377Z"
   },
   {
    "duration": 3,
    "start_time": "2024-03-10T17:45:06.553Z"
   },
   {
    "duration": 3,
    "start_time": "2024-03-10T17:45:06.788Z"
   },
   {
    "duration": 3,
    "start_time": "2024-03-10T17:45:07.552Z"
   },
   {
    "duration": 3,
    "start_time": "2024-03-10T17:45:07.786Z"
   },
   {
    "duration": 3,
    "start_time": "2024-03-10T17:45:08.011Z"
   },
   {
    "duration": 3,
    "start_time": "2024-03-10T17:45:08.267Z"
   },
   {
    "duration": 64,
    "start_time": "2024-03-10T17:45:08.527Z"
   },
   {
    "duration": 3,
    "start_time": "2024-03-10T17:45:10.250Z"
   },
   {
    "duration": 289,
    "start_time": "2024-03-10T17:45:12.387Z"
   },
   {
    "duration": 3,
    "start_time": "2024-03-10T17:46:20.104Z"
   },
   {
    "duration": 2,
    "start_time": "2024-03-10T17:46:27.751Z"
   },
   {
    "duration": 6,
    "start_time": "2024-03-10T17:46:28.277Z"
   },
   {
    "duration": 3,
    "start_time": "2024-03-10T17:46:28.411Z"
   },
   {
    "duration": 4,
    "start_time": "2024-03-10T17:46:28.923Z"
   },
   {
    "duration": 2,
    "start_time": "2024-03-10T17:46:29.237Z"
   },
   {
    "duration": 3,
    "start_time": "2024-03-10T17:46:29.397Z"
   },
   {
    "duration": 3,
    "start_time": "2024-03-10T17:46:29.701Z"
   },
   {
    "duration": 3,
    "start_time": "2024-03-10T17:46:29.865Z"
   },
   {
    "duration": 3,
    "start_time": "2024-03-10T17:46:30.020Z"
   },
   {
    "duration": 3,
    "start_time": "2024-03-10T17:46:30.360Z"
   },
   {
    "duration": 4,
    "start_time": "2024-03-10T17:46:30.969Z"
   },
   {
    "duration": 3,
    "start_time": "2024-03-10T17:46:31.196Z"
   },
   {
    "duration": 3,
    "start_time": "2024-03-10T17:46:31.473Z"
   },
   {
    "duration": 3,
    "start_time": "2024-03-10T17:46:31.862Z"
   },
   {
    "duration": 61,
    "start_time": "2024-03-10T17:46:32.049Z"
   },
   {
    "duration": 3,
    "start_time": "2024-03-10T17:46:33.023Z"
   },
   {
    "duration": 201624,
    "start_time": "2024-03-10T17:46:33.265Z"
   },
   {
    "duration": 11,
    "start_time": "2024-03-10T17:50:16.503Z"
   },
   {
    "duration": 3,
    "start_time": "2024-03-10T17:50:34.873Z"
   },
   {
    "duration": 3,
    "start_time": "2024-03-10T17:50:36.272Z"
   },
   {
    "duration": 6,
    "start_time": "2024-03-10T17:50:36.924Z"
   },
   {
    "duration": 3,
    "start_time": "2024-03-10T17:50:37.094Z"
   },
   {
    "duration": 3,
    "start_time": "2024-03-10T17:50:37.567Z"
   },
   {
    "duration": 3,
    "start_time": "2024-03-10T17:50:37.734Z"
   },
   {
    "duration": 3,
    "start_time": "2024-03-10T17:50:38.122Z"
   },
   {
    "duration": 2,
    "start_time": "2024-03-10T17:50:38.305Z"
   },
   {
    "duration": 3,
    "start_time": "2024-03-10T17:50:38.705Z"
   },
   {
    "duration": 3,
    "start_time": "2024-03-10T17:50:39.052Z"
   },
   {
    "duration": 3,
    "start_time": "2024-03-10T17:50:39.303Z"
   },
   {
    "duration": 3,
    "start_time": "2024-03-10T17:50:40.433Z"
   },
   {
    "duration": 3,
    "start_time": "2024-03-10T17:50:40.610Z"
   },
   {
    "duration": 3,
    "start_time": "2024-03-10T17:50:40.816Z"
   },
   {
    "duration": 3,
    "start_time": "2024-03-10T17:50:40.991Z"
   },
   {
    "duration": 57,
    "start_time": "2024-03-10T17:50:41.279Z"
   },
   {
    "duration": 2,
    "start_time": "2024-03-10T17:50:42.401Z"
   },
   {
    "duration": 203320,
    "start_time": "2024-03-10T17:50:45.466Z"
   },
   {
    "duration": 3,
    "start_time": "2024-03-10T17:54:08.788Z"
   },
   {
    "duration": 11,
    "start_time": "2024-03-10T17:54:19.215Z"
   },
   {
    "duration": 4,
    "start_time": "2024-03-10T17:54:39.306Z"
   },
   {
    "duration": 2,
    "start_time": "2024-03-10T17:54:40.799Z"
   },
   {
    "duration": 13,
    "start_time": "2024-03-10T17:54:42.862Z"
   },
   {
    "duration": 3,
    "start_time": "2024-03-10T17:54:44.218Z"
   },
   {
    "duration": 3,
    "start_time": "2024-03-10T17:54:57.108Z"
   },
   {
    "duration": 6,
    "start_time": "2024-03-10T17:55:00.005Z"
   },
   {
    "duration": 3,
    "start_time": "2024-03-10T17:55:00.217Z"
   },
   {
    "duration": 2,
    "start_time": "2024-03-10T17:55:01.179Z"
   },
   {
    "duration": 4,
    "start_time": "2024-03-10T17:55:01.366Z"
   },
   {
    "duration": 3,
    "start_time": "2024-03-10T17:55:01.537Z"
   },
   {
    "duration": 3,
    "start_time": "2024-03-10T17:55:01.728Z"
   },
   {
    "duration": 3,
    "start_time": "2024-03-10T17:55:01.850Z"
   },
   {
    "duration": 3,
    "start_time": "2024-03-10T17:55:02.079Z"
   },
   {
    "duration": 2,
    "start_time": "2024-03-10T17:55:02.256Z"
   },
   {
    "duration": 3,
    "start_time": "2024-03-10T17:55:02.978Z"
   },
   {
    "duration": 3,
    "start_time": "2024-03-10T17:55:03.147Z"
   },
   {
    "duration": 4,
    "start_time": "2024-03-10T17:55:03.506Z"
   },
   {
    "duration": 3,
    "start_time": "2024-03-10T17:55:03.643Z"
   },
   {
    "duration": 55,
    "start_time": "2024-03-10T17:55:04.040Z"
   },
   {
    "duration": 3,
    "start_time": "2024-03-10T17:55:06.297Z"
   },
   {
    "duration": 293764,
    "start_time": "2024-03-10T17:55:08.419Z"
   },
   {
    "duration": 10,
    "start_time": "2024-03-10T18:00:02.185Z"
   },
   {
    "duration": 46,
    "start_time": "2024-03-10T18:00:02.197Z"
   },
   {
    "duration": 54,
    "start_time": "2024-03-10T18:00:02.245Z"
   },
   {
    "duration": 3,
    "start_time": "2024-03-10T18:00:57.070Z"
   },
   {
    "duration": 2780,
    "start_time": "2024-03-10T18:00:59.734Z"
   },
   {
    "duration": 3,
    "start_time": "2024-03-10T18:02:31.951Z"
   },
   {
    "duration": 4,
    "start_time": "2024-03-10T18:02:49.868Z"
   },
   {
    "duration": 2,
    "start_time": "2024-03-10T18:02:54.530Z"
   },
   {
    "duration": 3,
    "start_time": "2024-03-10T18:03:04.487Z"
   },
   {
    "duration": 2,
    "start_time": "2024-03-10T18:03:09.338Z"
   },
   {
    "duration": 4,
    "start_time": "2024-03-10T18:03:20.633Z"
   },
   {
    "duration": 3,
    "start_time": "2024-03-10T18:03:28.609Z"
   },
   {
    "duration": 75061,
    "start_time": "2024-03-10T18:03:29.846Z"
   },
   {
    "duration": 17,
    "start_time": "2024-03-10T18:11:34.369Z"
   },
   {
    "duration": 3,
    "start_time": "2024-03-10T18:13:48.498Z"
   },
   {
    "duration": 3,
    "start_time": "2024-03-10T18:13:56.326Z"
   },
   {
    "duration": 3,
    "start_time": "2024-03-10T18:13:56.536Z"
   },
   {
    "duration": 2,
    "start_time": "2024-03-10T18:14:01.996Z"
   },
   {
    "duration": 2,
    "start_time": "2024-03-10T18:14:09.090Z"
   },
   {
    "duration": 2,
    "start_time": "2024-03-10T18:14:10.074Z"
   },
   {
    "duration": 3,
    "start_time": "2024-03-10T18:14:10.273Z"
   },
   {
    "duration": 4,
    "start_time": "2024-03-10T18:14:10.450Z"
   },
   {
    "duration": 2,
    "start_time": "2024-03-10T18:14:10.631Z"
   },
   {
    "duration": 3,
    "start_time": "2024-03-10T18:14:11.481Z"
   },
   {
    "duration": 5,
    "start_time": "2024-03-10T18:14:13.287Z"
   },
   {
    "duration": 3,
    "start_time": "2024-03-10T18:14:13.474Z"
   },
   {
    "duration": 4,
    "start_time": "2024-03-10T18:14:13.737Z"
   },
   {
    "duration": 2,
    "start_time": "2024-03-10T18:14:14.205Z"
   },
   {
    "duration": 3,
    "start_time": "2024-03-10T18:14:18.471Z"
   },
   {
    "duration": 73060,
    "start_time": "2024-03-10T18:14:18.822Z"
   },
   {
    "duration": 11,
    "start_time": "2024-03-10T18:15:31.884Z"
   },
   {
    "duration": 3,
    "start_time": "2024-03-10T18:16:15.146Z"
   },
   {
    "duration": 3,
    "start_time": "2024-03-10T18:16:22.591Z"
   },
   {
    "duration": 3,
    "start_time": "2024-03-10T18:16:24.196Z"
   },
   {
    "duration": 3,
    "start_time": "2024-03-10T18:16:25.908Z"
   },
   {
    "duration": 3,
    "start_time": "2024-03-10T18:16:32.667Z"
   },
   {
    "duration": 2,
    "start_time": "2024-03-10T18:16:37.474Z"
   },
   {
    "duration": 3,
    "start_time": "2024-03-10T18:16:40.939Z"
   },
   {
    "duration": 2,
    "start_time": "2024-03-10T18:16:45.070Z"
   },
   {
    "duration": 21642,
    "start_time": "2024-03-10T18:16:50.805Z"
   },
   {
    "duration": 13,
    "start_time": "2024-03-10T18:17:12.448Z"
   },
   {
    "duration": 3,
    "start_time": "2024-03-10T18:24:40.752Z"
   },
   {
    "duration": 2,
    "start_time": "2024-03-10T18:25:34.774Z"
   },
   {
    "duration": 14,
    "start_time": "2024-03-10T18:25:36.172Z"
   },
   {
    "duration": 3,
    "start_time": "2024-03-10T18:25:36.388Z"
   },
   {
    "duration": 3,
    "start_time": "2024-03-10T18:25:39.477Z"
   },
   {
    "duration": 2,
    "start_time": "2024-03-10T18:26:55.693Z"
   },
   {
    "duration": 3,
    "start_time": "2024-03-10T18:27:27.406Z"
   },
   {
    "duration": 4,
    "start_time": "2024-03-10T18:28:25.852Z"
   },
   {
    "duration": 55,
    "start_time": "2024-03-10T18:28:31.375Z"
   },
   {
    "duration": 3,
    "start_time": "2024-03-10T18:28:36.616Z"
   },
   {
    "duration": 298,
    "start_time": "2024-03-10T18:28:37.225Z"
   },
   {
    "duration": 3,
    "start_time": "2024-03-10T18:29:02.393Z"
   },
   {
    "duration": 3,
    "start_time": "2024-03-10T18:29:05.277Z"
   },
   {
    "duration": 2152,
    "start_time": "2024-03-10T18:29:05.995Z"
   },
   {
    "duration": 4,
    "start_time": "2024-03-10T18:30:14.667Z"
   },
   {
    "duration": 2,
    "start_time": "2024-03-10T18:30:20.431Z"
   },
   {
    "duration": 2113,
    "start_time": "2024-03-10T18:30:21.258Z"
   },
   {
    "duration": 3,
    "start_time": "2024-03-10T18:31:35.377Z"
   },
   {
    "duration": 4,
    "start_time": "2024-03-10T18:31:39.372Z"
   },
   {
    "duration": 2126,
    "start_time": "2024-03-10T18:31:40.039Z"
   },
   {
    "duration": 3,
    "start_time": "2024-03-10T18:32:06.264Z"
   },
   {
    "duration": 3,
    "start_time": "2024-03-10T18:32:07.725Z"
   },
   {
    "duration": 12,
    "start_time": "2024-03-10T18:32:08.306Z"
   },
   {
    "duration": 2,
    "start_time": "2024-03-10T18:32:09.295Z"
   },
   {
    "duration": 3,
    "start_time": "2024-03-10T18:32:11.154Z"
   },
   {
    "duration": 3,
    "start_time": "2024-03-10T18:32:12.203Z"
   },
   {
    "duration": 3,
    "start_time": "2024-03-10T18:32:14.291Z"
   },
   {
    "duration": 3,
    "start_time": "2024-03-10T18:32:14.655Z"
   },
   {
    "duration": 3,
    "start_time": "2024-03-10T18:32:15.453Z"
   },
   {
    "duration": 3,
    "start_time": "2024-03-10T18:32:16.258Z"
   },
   {
    "duration": 3,
    "start_time": "2024-03-10T18:32:28.942Z"
   },
   {
    "duration": 3,
    "start_time": "2024-03-10T18:32:29.485Z"
   },
   {
    "duration": 3,
    "start_time": "2024-03-10T18:32:30.151Z"
   },
   {
    "duration": 3,
    "start_time": "2024-03-10T18:32:31.771Z"
   },
   {
    "duration": 3,
    "start_time": "2024-03-10T18:32:34.454Z"
   },
   {
    "duration": 2,
    "start_time": "2024-03-10T18:32:42.583Z"
   },
   {
    "duration": 3,
    "start_time": "2024-03-10T18:32:46.878Z"
   },
   {
    "duration": 2,
    "start_time": "2024-03-10T18:32:47.349Z"
   },
   {
    "duration": 3,
    "start_time": "2024-03-10T18:32:48.537Z"
   },
   {
    "duration": 2,
    "start_time": "2024-03-10T18:32:48.773Z"
   },
   {
    "duration": 3,
    "start_time": "2024-03-10T18:32:49.618Z"
   },
   {
    "duration": 2,
    "start_time": "2024-03-10T18:32:49.803Z"
   },
   {
    "duration": 51,
    "start_time": "2024-03-10T18:32:50.000Z"
   },
   {
    "duration": 2,
    "start_time": "2024-03-10T18:32:54.055Z"
   },
   {
    "duration": 36,
    "start_time": "2024-03-10T18:32:54.270Z"
   },
   {
    "duration": 128,
    "start_time": "2024-03-10T18:34:18.080Z"
   },
   {
    "duration": 4,
    "start_time": "2024-03-10T18:34:37.705Z"
   },
   {
    "duration": 4,
    "start_time": "2024-03-10T18:34:39.890Z"
   },
   {
    "duration": 3,
    "start_time": "2024-03-10T18:34:40.088Z"
   },
   {
    "duration": 61,
    "start_time": "2024-03-10T18:34:40.291Z"
   },
   {
    "duration": 2,
    "start_time": "2024-03-10T18:34:44.786Z"
   },
   {
    "duration": 29,
    "start_time": "2024-03-10T18:34:44.965Z"
   },
   {
    "duration": 3,
    "start_time": "2024-03-10T18:35:04.835Z"
   },
   {
    "duration": 2,
    "start_time": "2024-03-10T18:35:05.766Z"
   },
   {
    "duration": 4,
    "start_time": "2024-03-10T18:35:07.930Z"
   },
   {
    "duration": 3,
    "start_time": "2024-03-10T18:35:08.079Z"
   },
   {
    "duration": 3,
    "start_time": "2024-03-10T18:35:08.234Z"
   },
   {
    "duration": 3,
    "start_time": "2024-03-10T18:35:08.634Z"
   },
   {
    "duration": 62,
    "start_time": "2024-03-10T18:35:08.990Z"
   },
   {
    "duration": 3,
    "start_time": "2024-03-10T18:35:11.878Z"
   },
   {
    "duration": 290,
    "start_time": "2024-03-10T18:35:12.001Z"
   },
   {
    "duration": 5,
    "start_time": "2024-03-10T18:38:09.575Z"
   },
   {
    "duration": 4,
    "start_time": "2024-03-10T18:38:23.234Z"
   },
   {
    "duration": 4,
    "start_time": "2024-03-10T18:38:24.503Z"
   },
   {
    "duration": 4,
    "start_time": "2024-03-10T18:38:24.709Z"
   },
   {
    "duration": 64,
    "start_time": "2024-03-10T18:38:24.978Z"
   },
   {
    "duration": 2,
    "start_time": "2024-03-10T18:38:30.260Z"
   },
   {
    "duration": 303,
    "start_time": "2024-03-10T18:38:30.687Z"
   },
   {
    "duration": 4,
    "start_time": "2024-03-10T18:39:29.887Z"
   },
   {
    "duration": 3,
    "start_time": "2024-03-10T18:39:33.516Z"
   },
   {
    "duration": 266,
    "start_time": "2024-03-10T18:39:33.915Z"
   },
   {
    "duration": 4,
    "start_time": "2024-03-10T18:39:50.105Z"
   },
   {
    "duration": 3,
    "start_time": "2024-03-10T18:43:52.869Z"
   },
   {
    "duration": 3498,
    "start_time": "2024-03-10T18:44:17.463Z"
   },
   {
    "duration": 3507,
    "start_time": "2024-03-10T18:44:46.034Z"
   },
   {
    "duration": 9,
    "start_time": "2024-03-10T18:44:52.723Z"
   },
   {
    "duration": 20,
    "start_time": "2024-03-10T18:45:13.278Z"
   },
   {
    "duration": 3,
    "start_time": "2024-03-10T18:45:43.510Z"
   },
   {
    "duration": 2,
    "start_time": "2024-03-10T18:46:19.096Z"
   },
   {
    "duration": 6,
    "start_time": "2024-03-10T18:46:26.513Z"
   },
   {
    "duration": 5,
    "start_time": "2024-03-10T18:46:48.148Z"
   },
   {
    "duration": 2,
    "start_time": "2024-03-10T18:46:53.336Z"
   },
   {
    "duration": 403,
    "start_time": "2024-03-10T18:46:54.640Z"
   },
   {
    "duration": 3,
    "start_time": "2024-03-10T18:47:30.292Z"
   },
   {
    "duration": 2,
    "start_time": "2024-03-10T18:47:33.792Z"
   },
   {
    "duration": 274,
    "start_time": "2024-03-10T18:47:34.662Z"
   },
   {
    "duration": 3,
    "start_time": "2024-03-10T18:49:29.121Z"
   },
   {
    "duration": 3,
    "start_time": "2024-03-10T18:49:31.004Z"
   },
   {
    "duration": 2,
    "start_time": "2024-03-10T18:49:31.185Z"
   },
   {
    "duration": 3,
    "start_time": "2024-03-10T18:49:31.992Z"
   },
   {
    "duration": 3,
    "start_time": "2024-03-10T18:49:32.147Z"
   },
   {
    "duration": 17,
    "start_time": "2024-03-10T18:49:32.493Z"
   },
   {
    "duration": 3,
    "start_time": "2024-03-10T18:49:33.737Z"
   },
   {
    "duration": 3,
    "start_time": "2024-03-10T18:49:34.004Z"
   },
   {
    "duration": 3,
    "start_time": "2024-03-10T18:49:35.054Z"
   },
   {
    "duration": 3,
    "start_time": "2024-03-10T18:49:35.224Z"
   },
   {
    "duration": 53,
    "start_time": "2024-03-10T18:49:36.715Z"
   },
   {
    "duration": 3,
    "start_time": "2024-03-10T18:49:39.464Z"
   },
   {
    "duration": 305,
    "start_time": "2024-03-10T18:49:39.649Z"
   },
   {
    "duration": 393,
    "start_time": "2024-03-10T18:52:49.384Z"
   },
   {
    "duration": 159070,
    "start_time": "2024-03-10T18:53:00.977Z"
   },
   {
    "duration": 3,
    "start_time": "2024-03-10T18:56:01.334Z"
   },
   {
    "duration": 7163,
    "start_time": "2024-03-10T18:56:11.829Z"
   },
   {
    "duration": 4,
    "start_time": "2024-03-10T18:56:27.985Z"
   },
   {
    "duration": 4,
    "start_time": "2024-03-10T18:56:51.426Z"
   },
   {
    "duration": 2,
    "start_time": "2024-03-10T18:57:03.003Z"
   },
   {
    "duration": 6393,
    "start_time": "2024-03-10T18:57:04.122Z"
   },
   {
    "duration": 3,
    "start_time": "2024-03-10T18:57:58.414Z"
   },
   {
    "duration": 3,
    "start_time": "2024-03-10T18:58:02.027Z"
   },
   {
    "duration": 5840,
    "start_time": "2024-03-10T18:58:03.307Z"
   },
   {
    "duration": 3,
    "start_time": "2024-03-10T18:58:43.029Z"
   },
   {
    "duration": 3,
    "start_time": "2024-03-10T18:58:45.616Z"
   },
   {
    "duration": 5823,
    "start_time": "2024-03-10T18:58:46.366Z"
   },
   {
    "duration": 3,
    "start_time": "2024-03-10T18:59:18.250Z"
   },
   {
    "duration": 3,
    "start_time": "2024-03-10T18:59:19.584Z"
   },
   {
    "duration": 6134,
    "start_time": "2024-03-10T18:59:20.913Z"
   },
   {
    "duration": 3,
    "start_time": "2024-03-10T19:00:15.546Z"
   },
   {
    "duration": 3,
    "start_time": "2024-03-10T19:00:18.776Z"
   },
   {
    "duration": 2284,
    "start_time": "2024-03-10T19:00:19.576Z"
   },
   {
    "duration": 3,
    "start_time": "2024-03-10T19:00:48.902Z"
   },
   {
    "duration": 3,
    "start_time": "2024-03-10T19:00:52.818Z"
   },
   {
    "duration": 1669,
    "start_time": "2024-03-10T19:00:53.630Z"
   },
   {
    "duration": 3,
    "start_time": "2024-03-10T19:01:50.868Z"
   },
   {
    "duration": 4,
    "start_time": "2024-03-10T19:02:03.288Z"
   },
   {
    "duration": 2,
    "start_time": "2024-03-10T19:02:11.009Z"
   },
   {
    "duration": 5773,
    "start_time": "2024-03-10T19:02:11.743Z"
   },
   {
    "duration": 3,
    "start_time": "2024-03-10T19:11:48.279Z"
   },
   {
    "duration": 93,
    "start_time": "2024-03-10T19:11:49.144Z"
   },
   {
    "duration": 3,
    "start_time": "2024-03-10T19:11:54.561Z"
   },
   {
    "duration": 3,
    "start_time": "2024-03-10T19:12:00.717Z"
   },
   {
    "duration": 722881,
    "start_time": "2024-03-10T19:12:01.800Z"
   },
   {
    "duration": 3,
    "start_time": "2024-03-10T19:24:20.886Z"
   },
   {
    "duration": 3,
    "start_time": "2024-03-10T19:24:21.849Z"
   },
   {
    "duration": 3,
    "start_time": "2024-03-10T19:24:22.691Z"
   },
   {
    "duration": 2,
    "start_time": "2024-03-10T19:24:24.313Z"
   },
   {
    "duration": 194605,
    "start_time": "2024-03-10T19:24:26.550Z"
   },
   {
    "duration": 3,
    "start_time": "2024-03-10T19:27:52.133Z"
   },
   {
    "duration": 807717,
    "start_time": "2024-03-10T19:27:54.144Z"
   },
   {
    "duration": 3,
    "start_time": "2024-03-10T19:41:31.629Z"
   },
   {
    "duration": 2,
    "start_time": "2024-03-10T19:41:44.927Z"
   },
   {
    "duration": 161569,
    "start_time": "2024-03-10T19:41:51.344Z"
   },
   {
    "duration": 851,
    "start_time": "2024-03-10T19:45:05.569Z"
   },
   {
    "duration": 3,
    "start_time": "2024-03-10T19:45:55.137Z"
   },
   {
    "duration": 2,
    "start_time": "2024-03-10T19:46:09.523Z"
   },
   {
    "duration": 3,
    "start_time": "2024-03-10T19:46:37.420Z"
   },
   {
    "duration": 799652,
    "start_time": "2024-03-10T19:46:39.603Z"
   },
   {
    "duration": 5,
    "start_time": "2024-03-10T20:02:05.354Z"
   },
   {
    "duration": 4,
    "start_time": "2024-03-10T20:02:27.512Z"
   },
   {
    "duration": 3,
    "start_time": "2024-03-10T20:02:29.674Z"
   },
   {
    "duration": 160288,
    "start_time": "2024-03-10T20:02:31.361Z"
   },
   {
    "duration": 883,
    "start_time": "2024-03-10T20:05:19.806Z"
   },
   {
    "duration": 886,
    "start_time": "2024-03-10T20:05:30.183Z"
   },
   {
    "duration": 3,
    "start_time": "2024-03-10T20:06:50.744Z"
   },
   {
    "duration": 3,
    "start_time": "2024-03-10T20:07:04.352Z"
   },
   {
    "duration": 3,
    "start_time": "2024-03-10T20:07:11.224Z"
   },
   {
    "duration": 3,
    "start_time": "2024-03-10T20:07:15.243Z"
   },
   {
    "duration": 123,
    "start_time": "2024-03-10T20:07:23.113Z"
   },
   {
    "duration": 3,
    "start_time": "2024-03-10T20:10:17.699Z"
   },
   {
    "duration": 3,
    "start_time": "2024-03-10T20:10:22.009Z"
   },
   {
    "duration": 2,
    "start_time": "2024-03-10T20:10:26.185Z"
   },
   {
    "duration": 120,
    "start_time": "2024-03-10T20:10:28.702Z"
   },
   {
    "duration": 3,
    "start_time": "2024-03-10T20:11:26.614Z"
   },
   {
    "duration": 3,
    "start_time": "2024-03-10T20:11:29.408Z"
   },
   {
    "duration": 132,
    "start_time": "2024-03-10T20:11:30.437Z"
   },
   {
    "duration": 98,
    "start_time": "2024-03-10T20:13:18.797Z"
   },
   {
    "duration": 3,
    "start_time": "2024-03-10T20:13:33.041Z"
   },
   {
    "duration": 99,
    "start_time": "2024-03-10T20:14:23.924Z"
   },
   {
    "duration": 105,
    "start_time": "2024-03-10T20:14:48.063Z"
   },
   {
    "duration": 4,
    "start_time": "2024-03-10T20:15:31.705Z"
   },
   {
    "duration": 3,
    "start_time": "2024-03-10T20:15:38.601Z"
   },
   {
    "duration": 3,
    "start_time": "2024-03-10T20:16:05.850Z"
   },
   {
    "duration": 113,
    "start_time": "2024-03-10T20:16:06.911Z"
   },
   {
    "duration": 3,
    "start_time": "2024-03-10T20:22:42.033Z"
   },
   {
    "duration": 3,
    "start_time": "2024-03-10T20:22:50.555Z"
   },
   {
    "duration": 112,
    "start_time": "2024-03-10T20:22:51.322Z"
   },
   {
    "duration": 3,
    "start_time": "2024-03-10T20:22:55.448Z"
   },
   {
    "duration": 120,
    "start_time": "2024-03-10T20:22:57.148Z"
   },
   {
    "duration": 3,
    "start_time": "2024-03-10T20:25:35.709Z"
   },
   {
    "duration": 3,
    "start_time": "2024-03-10T20:25:38.404Z"
   },
   {
    "duration": 136,
    "start_time": "2024-03-10T20:25:39.179Z"
   },
   {
    "duration": 23,
    "start_time": "2024-03-10T20:37:05.017Z"
   },
   {
    "duration": 23,
    "start_time": "2024-03-10T20:37:46.795Z"
   },
   {
    "duration": 35,
    "start_time": "2024-03-10T20:37:54.733Z"
   },
   {
    "duration": 43,
    "start_time": "2024-03-10T20:38:17.443Z"
   },
   {
    "duration": 36,
    "start_time": "2024-03-10T20:39:24.113Z"
   },
   {
    "duration": 49,
    "start_time": "2024-03-10T20:39:32.881Z"
   },
   {
    "duration": 9,
    "start_time": "2024-03-10T20:39:42.512Z"
   },
   {
    "duration": 21,
    "start_time": "2024-03-10T20:39:51.006Z"
   },
   {
    "duration": 22,
    "start_time": "2024-03-10T20:40:02.612Z"
   },
   {
    "duration": 10,
    "start_time": "2024-03-10T20:42:53.812Z"
   },
   {
    "duration": 76,
    "start_time": "2024-03-10T20:43:01.172Z"
   },
   {
    "duration": 103,
    "start_time": "2024-03-10T20:43:30.085Z"
   },
   {
    "duration": 371912,
    "start_time": "2024-03-10T20:43:38.085Z"
   },
   {
    "duration": 4,
    "start_time": "2024-03-10T20:50:33.463Z"
   },
   {
    "duration": 3,
    "start_time": "2024-03-10T20:50:41.251Z"
   },
   {
    "duration": 6516328,
    "start_time": "2024-03-10T20:50:43.660Z"
   },
   {
    "duration": 7,
    "start_time": "2024-03-10T22:40:39.848Z"
   },
   {
    "duration": 3,
    "start_time": "2024-03-10T22:40:44.185Z"
   },
   {
    "duration": 1082360,
    "start_time": "2024-03-10T22:40:47.918Z"
   },
   {
    "duration": 1817,
    "start_time": "2024-03-10T22:58:50.281Z"
   },
   {
    "duration": 1769,
    "start_time": "2024-03-10T23:03:32.946Z"
   },
   {
    "duration": 4,
    "start_time": "2024-03-10T23:04:58.332Z"
   },
   {
    "duration": 7,
    "start_time": "2024-03-10T23:05:10.525Z"
   },
   {
    "duration": 3,
    "start_time": "2024-03-10T23:05:35.960Z"
   },
   {
    "duration": 3,
    "start_time": "2024-03-10T23:07:50.005Z"
   },
   {
    "duration": 101,
    "start_time": "2024-03-10T23:08:06.863Z"
   },
   {
    "duration": 3,
    "start_time": "2024-03-10T23:08:10.153Z"
   },
   {
    "duration": 59,
    "start_time": "2024-03-10T23:08:14.582Z"
   },
   {
    "duration": 3,
    "start_time": "2024-03-10T23:08:24.346Z"
   },
   {
    "duration": 3523,
    "start_time": "2024-03-10T23:08:25.969Z"
   },
   {
    "duration": 4,
    "start_time": "2024-03-10T23:08:47.218Z"
   },
   {
    "duration": 3,
    "start_time": "2024-03-10T23:08:56.060Z"
   },
   {
    "duration": 3,
    "start_time": "2024-03-10T23:09:00.471Z"
   },
   {
    "duration": 77524,
    "start_time": "2024-03-10T23:09:02.513Z"
   },
   {
    "duration": 18,
    "start_time": "2024-03-10T23:10:31.501Z"
   },
   {
    "duration": 3,
    "start_time": "2024-03-10T23:10:34.790Z"
   },
   {
    "duration": 1629,
    "start_time": "2024-03-10T23:10:36.698Z"
   },
   {
    "duration": 1402,
    "start_time": "2024-03-10T23:10:43.582Z"
   },
   {
    "duration": 1622,
    "start_time": "2024-03-10T23:10:59.066Z"
   },
   {
    "duration": 1406,
    "start_time": "2024-03-10T23:11:06.017Z"
   },
   {
    "duration": 4169,
    "start_time": "2024-03-10T23:11:53.091Z"
   },
   {
    "duration": 3,
    "start_time": "2024-03-10T23:12:22.423Z"
   },
   {
    "duration": 3,
    "start_time": "2024-03-10T23:12:25.440Z"
   },
   {
    "duration": 3,
    "start_time": "2024-03-10T23:12:30.040Z"
   },
   {
    "duration": 3529,
    "start_time": "2024-03-10T23:12:31.126Z"
   },
   {
    "duration": 4,
    "start_time": "2024-03-10T23:13:12.198Z"
   },
   {
    "duration": 3,
    "start_time": "2024-03-10T23:13:38.466Z"
   },
   {
    "duration": 3,
    "start_time": "2024-03-10T23:14:09.612Z"
   },
   {
    "duration": 3,
    "start_time": "2024-03-10T23:14:13.229Z"
   },
   {
    "duration": 3,
    "start_time": "2024-03-10T23:14:13.995Z"
   },
   {
    "duration": 15,
    "start_time": "2024-03-10T23:14:14.661Z"
   },
   {
    "duration": 3,
    "start_time": "2024-03-10T23:14:15.179Z"
   },
   {
    "duration": 3,
    "start_time": "2024-03-10T23:14:16.887Z"
   },
   {
    "duration": 3,
    "start_time": "2024-03-10T23:14:22.110Z"
   },
   {
    "duration": 3,
    "start_time": "2024-03-10T23:14:22.543Z"
   },
   {
    "duration": 3,
    "start_time": "2024-03-10T23:14:31.275Z"
   },
   {
    "duration": 2,
    "start_time": "2024-03-10T23:14:35.295Z"
   },
   {
    "duration": 2,
    "start_time": "2024-03-10T23:14:36.990Z"
   },
   {
    "duration": 3,
    "start_time": "2024-03-10T23:14:37.773Z"
   },
   {
    "duration": 2,
    "start_time": "2024-03-10T23:14:38.899Z"
   },
   {
    "duration": 3,
    "start_time": "2024-03-10T23:14:41.605Z"
   },
   {
    "duration": 3,
    "start_time": "2024-03-10T23:14:42.174Z"
   },
   {
    "duration": 3,
    "start_time": "2024-03-10T23:16:41.151Z"
   },
   {
    "duration": 2,
    "start_time": "2024-03-10T23:17:22.354Z"
   },
   {
    "duration": 4,
    "start_time": "2024-03-10T23:17:36.189Z"
   },
   {
    "duration": 4,
    "start_time": "2024-03-10T23:17:36.788Z"
   },
   {
    "duration": 3,
    "start_time": "2024-03-10T23:17:51.084Z"
   },
   {
    "duration": 3,
    "start_time": "2024-03-10T23:17:51.271Z"
   },
   {
    "duration": 55,
    "start_time": "2024-03-10T23:17:51.529Z"
   },
   {
    "duration": 3,
    "start_time": "2024-03-10T23:18:02.340Z"
   },
   {
    "duration": 66075,
    "start_time": "2024-03-10T23:18:03.388Z"
   },
   {
    "duration": 28,
    "start_time": "2024-03-10T23:19:17.743Z"
   },
   {
    "duration": 3,
    "start_time": "2024-03-10T23:19:19.941Z"
   },
   {
    "duration": 1370,
    "start_time": "2024-03-10T23:19:24.953Z"
   },
   {
    "duration": 1165,
    "start_time": "2024-03-10T23:19:26.442Z"
   },
   {
    "duration": 3,
    "start_time": "2024-03-10T23:19:30.584Z"
   },
   {
    "duration": 2,
    "start_time": "2024-03-10T23:19:40.839Z"
   },
   {
    "duration": 288,
    "start_time": "2024-03-10T23:19:42.174Z"
   },
   {
    "duration": 3,
    "start_time": "2024-03-10T23:20:59.615Z"
   },
   {
    "duration": 3,
    "start_time": "2024-03-10T23:21:06.607Z"
   },
   {
    "duration": 3,
    "start_time": "2024-03-10T23:21:11.534Z"
   },
   {
    "duration": 3,
    "start_time": "2024-03-10T23:21:16.895Z"
   },
   {
    "duration": 103005,
    "start_time": "2024-03-10T23:21:17.566Z"
   },
   {
    "duration": 4,
    "start_time": "2024-03-10T23:23:14.568Z"
   },
   {
    "duration": 2,
    "start_time": "2024-03-10T23:23:51.697Z"
   },
   {
    "duration": 3,
    "start_time": "2024-03-10T23:23:56.504Z"
   },
   {
    "duration": 4,
    "start_time": "2024-03-10T23:24:00.975Z"
   },
   {
    "duration": 2,
    "start_time": "2024-03-10T23:24:06.956Z"
   },
   {
    "duration": 286,
    "start_time": "2024-03-10T23:24:07.927Z"
   },
   {
    "duration": 258,
    "start_time": "2024-03-10T23:24:22.933Z"
   },
   {
    "duration": 292,
    "start_time": "2024-03-10T23:25:20.091Z"
   },
   {
    "duration": 3,
    "start_time": "2024-03-10T23:25:57.892Z"
   },
   {
    "duration": 3,
    "start_time": "2024-03-10T23:26:06.584Z"
   },
   {
    "duration": 2,
    "start_time": "2024-03-10T23:26:11.960Z"
   },
   {
    "duration": 354206,
    "start_time": "2024-03-10T23:26:12.782Z"
   },
   {
    "duration": 0,
    "start_time": "2024-03-10T23:32:06.990Z"
   },
   {
    "duration": 829786,
    "start_time": "2024-03-10T23:32:12.046Z"
   },
   {
    "duration": 4,
    "start_time": "2024-03-10T23:46:07.569Z"
   },
   {
    "duration": 4,
    "start_time": "2024-03-10T23:46:10.429Z"
   },
   {
    "duration": 3,
    "start_time": "2024-03-10T23:46:11.058Z"
   },
   {
    "duration": 164276,
    "start_time": "2024-03-10T23:46:12.896Z"
   },
   {
    "duration": 848,
    "start_time": "2024-03-10T23:48:57.174Z"
   },
   {
    "duration": 3,
    "start_time": "2024-03-10T23:48:58.024Z"
   },
   {
    "duration": 3,
    "start_time": "2024-03-10T23:49:17.105Z"
   },
   {
    "duration": 7,
    "start_time": "2024-03-10T23:54:29.116Z"
   },
   {
    "duration": 6,
    "start_time": "2024-03-10T23:54:29.125Z"
   },
   {
    "duration": 2602,
    "start_time": "2024-03-10T23:54:29.132Z"
   },
   {
    "duration": 3121,
    "start_time": "2024-03-10T23:54:31.737Z"
   },
   {
    "duration": 2072,
    "start_time": "2024-03-10T23:54:34.860Z"
   },
   {
    "duration": 3032,
    "start_time": "2024-03-10T23:54:36.933Z"
   },
   {
    "duration": 309,
    "start_time": "2024-03-10T23:54:39.967Z"
   },
   {
    "duration": 537,
    "start_time": "2024-03-10T23:54:40.278Z"
   },
   {
    "duration": 978,
    "start_time": "2024-03-10T23:54:40.816Z"
   },
   {
    "duration": 124,
    "start_time": "2024-03-10T23:54:41.797Z"
   },
   {
    "duration": 4,
    "start_time": "2024-03-10T23:54:41.923Z"
   },
   {
    "duration": 15261,
    "start_time": "2024-03-10T23:54:41.928Z"
   },
   {
    "duration": 201,
    "start_time": "2024-03-10T23:54:57.190Z"
   },
   {
    "duration": 359,
    "start_time": "2024-03-10T23:54:57.392Z"
   },
   {
    "duration": 16305,
    "start_time": "2024-03-10T23:54:57.753Z"
   },
   {
    "duration": 179,
    "start_time": "2024-03-10T23:55:14.060Z"
   },
   {
    "duration": 174,
    "start_time": "2024-03-10T23:55:14.241Z"
   },
   {
    "duration": 74,
    "start_time": "2024-03-10T23:55:14.417Z"
   },
   {
    "duration": 304,
    "start_time": "2024-03-10T23:55:14.492Z"
   },
   {
    "duration": 73,
    "start_time": "2024-03-10T23:55:14.797Z"
   },
   {
    "duration": 310,
    "start_time": "2024-03-10T23:55:14.872Z"
   },
   {
    "duration": 1233,
    "start_time": "2024-03-10T23:55:15.184Z"
   },
   {
    "duration": 290,
    "start_time": "2024-03-10T23:55:16.419Z"
   },
   {
    "duration": 187,
    "start_time": "2024-03-10T23:55:16.711Z"
   },
   {
    "duration": 31,
    "start_time": "2024-03-10T23:55:16.900Z"
   },
   {
    "duration": 85,
    "start_time": "2024-03-10T23:55:16.933Z"
   },
   {
    "duration": 73,
    "start_time": "2024-03-10T23:55:17.019Z"
   },
   {
    "duration": 27,
    "start_time": "2024-03-10T23:55:17.097Z"
   },
   {
    "duration": 256,
    "start_time": "2024-03-10T23:55:17.126Z"
   },
   {
    "duration": 250,
    "start_time": "2024-03-10T23:55:17.384Z"
   },
   {
    "duration": 15,
    "start_time": "2024-03-10T23:55:17.636Z"
   },
   {
    "duration": 27,
    "start_time": "2024-03-10T23:55:17.654Z"
   },
   {
    "duration": 71,
    "start_time": "2024-03-10T23:55:17.682Z"
   },
   {
    "duration": 130,
    "start_time": "2024-03-10T23:55:17.755Z"
   },
   {
    "duration": 250,
    "start_time": "2024-03-10T23:55:17.886Z"
   },
   {
    "duration": 11,
    "start_time": "2024-03-10T23:55:18.138Z"
   },
   {
    "duration": 129,
    "start_time": "2024-03-10T23:55:18.151Z"
   },
   {
    "duration": 4,
    "start_time": "2024-03-10T23:55:18.281Z"
   },
   {
    "duration": 116,
    "start_time": "2024-03-10T23:55:18.286Z"
   },
   {
    "duration": 202,
    "start_time": "2024-03-10T23:55:18.403Z"
   },
   {
    "duration": 3,
    "start_time": "2024-03-10T23:55:18.607Z"
   },
   {
    "duration": 5,
    "start_time": "2024-03-10T23:55:18.612Z"
   },
   {
    "duration": 14,
    "start_time": "2024-03-10T23:55:18.619Z"
   },
   {
    "duration": 162,
    "start_time": "2024-03-10T23:55:18.635Z"
   },
   {
    "duration": 0,
    "start_time": "2024-03-10T23:55:18.798Z"
   },
   {
    "duration": 0,
    "start_time": "2024-03-10T23:55:18.800Z"
   },
   {
    "duration": 0,
    "start_time": "2024-03-10T23:55:18.801Z"
   },
   {
    "duration": 0,
    "start_time": "2024-03-10T23:55:18.802Z"
   },
   {
    "duration": 0,
    "start_time": "2024-03-10T23:55:18.803Z"
   },
   {
    "duration": 0,
    "start_time": "2024-03-10T23:55:18.804Z"
   },
   {
    "duration": 0,
    "start_time": "2024-03-10T23:55:18.805Z"
   },
   {
    "duration": 0,
    "start_time": "2024-03-10T23:55:18.807Z"
   },
   {
    "duration": 0,
    "start_time": "2024-03-10T23:55:18.808Z"
   },
   {
    "duration": 0,
    "start_time": "2024-03-10T23:55:18.809Z"
   },
   {
    "duration": 0,
    "start_time": "2024-03-10T23:55:18.810Z"
   },
   {
    "duration": 0,
    "start_time": "2024-03-10T23:55:18.811Z"
   },
   {
    "duration": 0,
    "start_time": "2024-03-10T23:55:18.812Z"
   },
   {
    "duration": 0,
    "start_time": "2024-03-10T23:55:18.813Z"
   },
   {
    "duration": 0,
    "start_time": "2024-03-10T23:55:18.814Z"
   },
   {
    "duration": 0,
    "start_time": "2024-03-10T23:55:18.815Z"
   },
   {
    "duration": 4,
    "start_time": "2024-03-10T23:56:24.330Z"
   },
   {
    "duration": 3,
    "start_time": "2024-03-10T23:56:27.803Z"
   },
   {
    "duration": 3,
    "start_time": "2024-03-10T23:56:29.322Z"
   },
   {
    "duration": 3,
    "start_time": "2024-03-10T23:56:29.648Z"
   },
   {
    "duration": 3,
    "start_time": "2024-03-10T23:56:30.549Z"
   },
   {
    "duration": 3,
    "start_time": "2024-03-10T23:56:30.790Z"
   },
   {
    "duration": 3,
    "start_time": "2024-03-10T23:56:31.640Z"
   },
   {
    "duration": 2,
    "start_time": "2024-03-10T23:56:31.861Z"
   },
   {
    "duration": 3,
    "start_time": "2024-03-10T23:56:32.616Z"
   },
   {
    "duration": 3,
    "start_time": "2024-03-10T23:56:32.874Z"
   },
   {
    "duration": 4,
    "start_time": "2024-03-10T23:56:34.979Z"
   },
   {
    "duration": 3,
    "start_time": "2024-03-10T23:56:35.206Z"
   },
   {
    "duration": 3,
    "start_time": "2024-03-10T23:56:35.958Z"
   },
   {
    "duration": 2,
    "start_time": "2024-03-10T23:56:36.154Z"
   },
   {
    "duration": 61,
    "start_time": "2024-03-10T23:56:36.539Z"
   },
   {
    "duration": 3,
    "start_time": "2024-03-10T23:56:39.044Z"
   },
   {
    "duration": 276982,
    "start_time": "2024-03-10T23:56:40.447Z"
   },
   {
    "duration": 14,
    "start_time": "2024-03-11T00:01:28.091Z"
   },
   {
    "duration": 3,
    "start_time": "2024-03-11T00:01:34.034Z"
   },
   {
    "duration": 19913,
    "start_time": "2024-03-11T00:01:35.957Z"
   },
   {
    "duration": 1207,
    "start_time": "2024-03-11T00:01:55.872Z"
   },
   {
    "duration": 5,
    "start_time": "2024-03-11T00:01:57.170Z"
   },
   {
    "duration": 4,
    "start_time": "2024-03-11T00:02:30.952Z"
   },
   {
    "duration": 67248,
    "start_time": "2024-03-11T00:02:42.072Z"
   },
   {
    "duration": 21,
    "start_time": "2024-03-11T00:03:49.322Z"
   },
   {
    "duration": 8,
    "start_time": "2024-03-11T00:03:49.345Z"
   },
   {
    "duration": 1390,
    "start_time": "2024-03-11T00:03:49.355Z"
   },
   {
    "duration": 1191,
    "start_time": "2024-03-11T00:03:50.747Z"
   },
   {
    "duration": 2,
    "start_time": "2024-03-11T00:03:51.940Z"
   },
   {
    "duration": 11,
    "start_time": "2024-03-11T00:04:23.823Z"
   },
   {
    "duration": 10,
    "start_time": "2024-03-11T00:05:24.042Z"
   },
   {
    "duration": 3,
    "start_time": "2024-03-11T00:05:33.738Z"
   },
   {
    "duration": 818780,
    "start_time": "2024-03-11T00:05:34.944Z"
   },
   {
    "duration": 4,
    "start_time": "2024-03-11T00:19:13.726Z"
   },
   {
    "duration": 4,
    "start_time": "2024-03-11T00:19:13.732Z"
   },
   {
    "duration": 164011,
    "start_time": "2024-03-11T00:19:13.738Z"
   },
   {
    "duration": 797,
    "start_time": "2024-03-11T00:21:57.751Z"
   },
   {
    "duration": 3,
    "start_time": "2024-03-11T00:21:58.550Z"
   },
   {
    "duration": 11,
    "start_time": "2024-03-11T00:22:17.403Z"
   },
   {
    "duration": 3,
    "start_time": "2024-03-11T00:23:01.462Z"
   },
   {
    "duration": 15,
    "start_time": "2024-03-11T00:23:06.431Z"
   },
   {
    "duration": 4,
    "start_time": "2024-03-11T00:23:33.268Z"
   },
   {
    "duration": 2,
    "start_time": "2024-03-11T00:23:58.216Z"
   },
   {
    "duration": 3,
    "start_time": "2024-03-11T00:23:59.610Z"
   },
   {
    "duration": 11,
    "start_time": "2024-03-11T00:24:14.145Z"
   },
   {
    "duration": 287,
    "start_time": "2024-03-11T00:24:26.922Z"
   },
   {
    "duration": 8,
    "start_time": "2024-03-11T20:06:27.393Z"
   },
   {
    "duration": 3,
    "start_time": "2024-03-11T20:06:27.403Z"
   },
   {
    "duration": 5,
    "start_time": "2024-03-11T20:06:27.407Z"
   },
   {
    "duration": 14,
    "start_time": "2024-03-11T20:06:27.413Z"
   },
   {
    "duration": 1658,
    "start_time": "2024-03-11T20:06:27.428Z"
   },
   {
    "duration": 155,
    "start_time": "2024-03-11T20:06:29.088Z"
   },
   {
    "duration": 0,
    "start_time": "2024-03-11T20:06:29.247Z"
   },
   {
    "duration": 0,
    "start_time": "2024-03-11T20:06:29.248Z"
   },
   {
    "duration": 0,
    "start_time": "2024-03-11T20:06:29.249Z"
   },
   {
    "duration": 0,
    "start_time": "2024-03-11T20:06:29.250Z"
   },
   {
    "duration": 0,
    "start_time": "2024-03-11T20:06:29.251Z"
   },
   {
    "duration": 0,
    "start_time": "2024-03-11T20:06:29.252Z"
   },
   {
    "duration": 0,
    "start_time": "2024-03-11T20:06:29.253Z"
   },
   {
    "duration": 0,
    "start_time": "2024-03-11T20:06:29.254Z"
   },
   {
    "duration": 0,
    "start_time": "2024-03-11T20:06:29.265Z"
   },
   {
    "duration": 0,
    "start_time": "2024-03-11T20:06:29.267Z"
   },
   {
    "duration": 0,
    "start_time": "2024-03-11T20:06:29.268Z"
   },
   {
    "duration": 0,
    "start_time": "2024-03-11T20:06:29.270Z"
   },
   {
    "duration": 0,
    "start_time": "2024-03-11T20:06:29.272Z"
   },
   {
    "duration": 0,
    "start_time": "2024-03-11T20:06:29.273Z"
   },
   {
    "duration": 0,
    "start_time": "2024-03-11T20:06:29.274Z"
   },
   {
    "duration": 0,
    "start_time": "2024-03-11T20:06:29.276Z"
   },
   {
    "duration": 0,
    "start_time": "2024-03-11T20:06:29.277Z"
   },
   {
    "duration": 0,
    "start_time": "2024-03-11T20:06:29.279Z"
   },
   {
    "duration": 0,
    "start_time": "2024-03-11T20:06:29.280Z"
   },
   {
    "duration": 0,
    "start_time": "2024-03-11T20:06:29.281Z"
   },
   {
    "duration": 0,
    "start_time": "2024-03-11T20:06:29.283Z"
   },
   {
    "duration": 0,
    "start_time": "2024-03-11T20:06:29.284Z"
   },
   {
    "duration": 0,
    "start_time": "2024-03-11T20:06:29.285Z"
   },
   {
    "duration": 0,
    "start_time": "2024-03-11T20:06:29.287Z"
   },
   {
    "duration": 0,
    "start_time": "2024-03-11T20:06:29.288Z"
   },
   {
    "duration": 0,
    "start_time": "2024-03-11T20:06:29.289Z"
   },
   {
    "duration": 0,
    "start_time": "2024-03-11T20:06:29.291Z"
   },
   {
    "duration": 0,
    "start_time": "2024-03-11T20:06:29.292Z"
   },
   {
    "duration": 0,
    "start_time": "2024-03-11T20:06:29.293Z"
   },
   {
    "duration": 0,
    "start_time": "2024-03-11T20:06:29.294Z"
   },
   {
    "duration": 0,
    "start_time": "2024-03-11T20:06:29.294Z"
   },
   {
    "duration": 0,
    "start_time": "2024-03-11T20:06:29.295Z"
   },
   {
    "duration": 0,
    "start_time": "2024-03-11T20:06:29.296Z"
   },
   {
    "duration": 0,
    "start_time": "2024-03-11T20:06:29.297Z"
   },
   {
    "duration": 0,
    "start_time": "2024-03-11T20:06:29.299Z"
   },
   {
    "duration": 0,
    "start_time": "2024-03-11T20:06:29.299Z"
   },
   {
    "duration": 0,
    "start_time": "2024-03-11T20:06:29.300Z"
   },
   {
    "duration": 0,
    "start_time": "2024-03-11T20:06:29.301Z"
   },
   {
    "duration": 0,
    "start_time": "2024-03-11T20:06:29.302Z"
   },
   {
    "duration": 0,
    "start_time": "2024-03-11T20:06:29.365Z"
   },
   {
    "duration": 0,
    "start_time": "2024-03-11T20:06:29.366Z"
   },
   {
    "duration": 0,
    "start_time": "2024-03-11T20:06:29.368Z"
   },
   {
    "duration": 0,
    "start_time": "2024-03-11T20:06:29.369Z"
   },
   {
    "duration": 0,
    "start_time": "2024-03-11T20:06:29.370Z"
   },
   {
    "duration": 0,
    "start_time": "2024-03-11T20:06:29.372Z"
   },
   {
    "duration": 0,
    "start_time": "2024-03-11T20:06:29.373Z"
   },
   {
    "duration": 0,
    "start_time": "2024-03-11T20:06:29.374Z"
   },
   {
    "duration": 0,
    "start_time": "2024-03-11T20:06:29.375Z"
   },
   {
    "duration": 0,
    "start_time": "2024-03-11T20:06:29.376Z"
   },
   {
    "duration": 0,
    "start_time": "2024-03-11T20:06:29.378Z"
   },
   {
    "duration": 0,
    "start_time": "2024-03-11T20:06:29.379Z"
   },
   {
    "duration": 0,
    "start_time": "2024-03-11T20:06:29.380Z"
   },
   {
    "duration": 0,
    "start_time": "2024-03-11T20:06:29.381Z"
   },
   {
    "duration": 0,
    "start_time": "2024-03-11T20:06:29.382Z"
   },
   {
    "duration": 0,
    "start_time": "2024-03-11T20:06:29.383Z"
   },
   {
    "duration": 0,
    "start_time": "2024-03-11T20:06:29.384Z"
   },
   {
    "duration": 0,
    "start_time": "2024-03-11T20:06:29.385Z"
   },
   {
    "duration": 0,
    "start_time": "2024-03-11T20:06:29.386Z"
   },
   {
    "duration": 0,
    "start_time": "2024-03-11T20:06:29.387Z"
   },
   {
    "duration": 0,
    "start_time": "2024-03-11T20:06:29.389Z"
   },
   {
    "duration": 0,
    "start_time": "2024-03-11T20:06:29.390Z"
   },
   {
    "duration": 0,
    "start_time": "2024-03-11T20:06:29.391Z"
   },
   {
    "duration": 0,
    "start_time": "2024-03-11T20:06:29.392Z"
   },
   {
    "duration": 0,
    "start_time": "2024-03-11T20:06:29.393Z"
   },
   {
    "duration": 0,
    "start_time": "2024-03-11T20:06:29.394Z"
   },
   {
    "duration": 0,
    "start_time": "2024-03-11T20:06:29.395Z"
   },
   {
    "duration": 0,
    "start_time": "2024-03-11T20:06:29.396Z"
   },
   {
    "duration": 0,
    "start_time": "2024-03-11T20:06:29.397Z"
   },
   {
    "duration": 0,
    "start_time": "2024-03-11T20:06:29.398Z"
   },
   {
    "duration": 0,
    "start_time": "2024-03-11T20:06:29.399Z"
   },
   {
    "duration": 0,
    "start_time": "2024-03-11T20:06:29.465Z"
   },
   {
    "duration": 0,
    "start_time": "2024-03-11T20:06:29.467Z"
   },
   {
    "duration": 0,
    "start_time": "2024-03-11T20:06:29.468Z"
   },
   {
    "duration": 8,
    "start_time": "2024-03-11T20:07:42.212Z"
   },
   {
    "duration": 8,
    "start_time": "2024-03-11T20:07:42.221Z"
   },
   {
    "duration": 3,
    "start_time": "2024-03-11T20:07:42.231Z"
   },
   {
    "duration": 3,
    "start_time": "2024-03-11T20:07:42.236Z"
   },
   {
    "duration": 1420,
    "start_time": "2024-03-11T20:07:42.240Z"
   },
   {
    "duration": 1043,
    "start_time": "2024-03-11T20:07:43.662Z"
   },
   {
    "duration": 253,
    "start_time": "2024-03-11T20:07:44.706Z"
   },
   {
    "duration": 436,
    "start_time": "2024-03-11T20:07:44.964Z"
   },
   {
    "duration": 899,
    "start_time": "2024-03-11T20:07:45.401Z"
   },
   {
    "duration": 125,
    "start_time": "2024-03-11T20:07:46.302Z"
   },
   {
    "duration": 4,
    "start_time": "2024-03-11T20:07:46.428Z"
   },
   {
    "duration": 13974,
    "start_time": "2024-03-11T20:07:46.434Z"
   },
   {
    "duration": 219,
    "start_time": "2024-03-11T20:08:00.409Z"
   },
   {
    "duration": 389,
    "start_time": "2024-03-11T20:08:00.629Z"
   },
   {
    "duration": 15355,
    "start_time": "2024-03-11T20:08:01.019Z"
   },
   {
    "duration": 164,
    "start_time": "2024-03-11T20:08:16.375Z"
   },
   {
    "duration": 154,
    "start_time": "2024-03-11T20:08:16.540Z"
   },
   {
    "duration": 72,
    "start_time": "2024-03-11T20:08:16.695Z"
   },
   {
    "duration": 266,
    "start_time": "2024-03-11T20:08:16.768Z"
   },
   {
    "duration": 68,
    "start_time": "2024-03-11T20:08:17.035Z"
   },
   {
    "duration": 268,
    "start_time": "2024-03-11T20:08:17.105Z"
   },
   {
    "duration": 1147,
    "start_time": "2024-03-11T20:08:17.374Z"
   },
   {
    "duration": 278,
    "start_time": "2024-03-11T20:08:18.522Z"
   },
   {
    "duration": 707,
    "start_time": "2024-03-11T20:08:18.802Z"
   },
   {
    "duration": 0,
    "start_time": "2024-03-11T20:08:19.512Z"
   },
   {
    "duration": 0,
    "start_time": "2024-03-11T20:08:19.513Z"
   },
   {
    "duration": 0,
    "start_time": "2024-03-11T20:08:19.515Z"
   },
   {
    "duration": 0,
    "start_time": "2024-03-11T20:08:19.516Z"
   },
   {
    "duration": 0,
    "start_time": "2024-03-11T20:08:19.517Z"
   },
   {
    "duration": 0,
    "start_time": "2024-03-11T20:08:19.517Z"
   },
   {
    "duration": 0,
    "start_time": "2024-03-11T20:08:19.519Z"
   },
   {
    "duration": 0,
    "start_time": "2024-03-11T20:08:19.520Z"
   },
   {
    "duration": 0,
    "start_time": "2024-03-11T20:08:19.520Z"
   },
   {
    "duration": 0,
    "start_time": "2024-03-11T20:08:19.522Z"
   },
   {
    "duration": 0,
    "start_time": "2024-03-11T20:08:19.522Z"
   },
   {
    "duration": 0,
    "start_time": "2024-03-11T20:08:19.523Z"
   },
   {
    "duration": 0,
    "start_time": "2024-03-11T20:08:19.524Z"
   },
   {
    "duration": 0,
    "start_time": "2024-03-11T20:08:19.525Z"
   },
   {
    "duration": 0,
    "start_time": "2024-03-11T20:08:19.526Z"
   },
   {
    "duration": 0,
    "start_time": "2024-03-11T20:08:19.527Z"
   },
   {
    "duration": 0,
    "start_time": "2024-03-11T20:08:19.528Z"
   },
   {
    "duration": 0,
    "start_time": "2024-03-11T20:08:19.529Z"
   },
   {
    "duration": 0,
    "start_time": "2024-03-11T20:08:19.530Z"
   },
   {
    "duration": 0,
    "start_time": "2024-03-11T20:08:19.531Z"
   },
   {
    "duration": 0,
    "start_time": "2024-03-11T20:08:19.533Z"
   },
   {
    "duration": 0,
    "start_time": "2024-03-11T20:08:19.535Z"
   },
   {
    "duration": 0,
    "start_time": "2024-03-11T20:08:19.536Z"
   },
   {
    "duration": 0,
    "start_time": "2024-03-11T20:08:19.537Z"
   },
   {
    "duration": 0,
    "start_time": "2024-03-11T20:08:19.538Z"
   },
   {
    "duration": 0,
    "start_time": "2024-03-11T20:08:19.539Z"
   },
   {
    "duration": 0,
    "start_time": "2024-03-11T20:08:19.540Z"
   },
   {
    "duration": 0,
    "start_time": "2024-03-11T20:08:19.541Z"
   },
   {
    "duration": 0,
    "start_time": "2024-03-11T20:08:19.542Z"
   },
   {
    "duration": 0,
    "start_time": "2024-03-11T20:08:19.543Z"
   },
   {
    "duration": 0,
    "start_time": "2024-03-11T20:08:19.544Z"
   },
   {
    "duration": 0,
    "start_time": "2024-03-11T20:08:19.545Z"
   },
   {
    "duration": 0,
    "start_time": "2024-03-11T20:08:19.546Z"
   },
   {
    "duration": 0,
    "start_time": "2024-03-11T20:08:19.565Z"
   },
   {
    "duration": 0,
    "start_time": "2024-03-11T20:08:19.566Z"
   },
   {
    "duration": 0,
    "start_time": "2024-03-11T20:08:19.567Z"
   },
   {
    "duration": 0,
    "start_time": "2024-03-11T20:08:19.568Z"
   },
   {
    "duration": 0,
    "start_time": "2024-03-11T20:08:19.569Z"
   },
   {
    "duration": 0,
    "start_time": "2024-03-11T20:08:19.570Z"
   },
   {
    "duration": 0,
    "start_time": "2024-03-11T20:08:19.571Z"
   },
   {
    "duration": 0,
    "start_time": "2024-03-11T20:08:19.572Z"
   },
   {
    "duration": 0,
    "start_time": "2024-03-11T20:08:19.573Z"
   },
   {
    "duration": 0,
    "start_time": "2024-03-11T20:08:19.574Z"
   },
   {
    "duration": 0,
    "start_time": "2024-03-11T20:08:19.575Z"
   },
   {
    "duration": 0,
    "start_time": "2024-03-11T20:08:19.576Z"
   },
   {
    "duration": 0,
    "start_time": "2024-03-11T20:08:19.577Z"
   },
   {
    "duration": 0,
    "start_time": "2024-03-11T20:08:19.578Z"
   },
   {
    "duration": 0,
    "start_time": "2024-03-11T20:08:19.579Z"
   },
   {
    "duration": 0,
    "start_time": "2024-03-11T20:08:19.580Z"
   },
   {
    "duration": 0,
    "start_time": "2024-03-11T20:08:19.581Z"
   },
   {
    "duration": 0,
    "start_time": "2024-03-11T20:08:19.582Z"
   },
   {
    "duration": 0,
    "start_time": "2024-03-11T20:08:19.583Z"
   },
   {
    "duration": 0,
    "start_time": "2024-03-11T20:08:19.584Z"
   },
   {
    "duration": 0,
    "start_time": "2024-03-11T20:08:19.585Z"
   },
   {
    "duration": 0,
    "start_time": "2024-03-11T20:08:19.586Z"
   },
   {
    "duration": 176,
    "start_time": "2024-03-11T20:09:40.776Z"
   },
   {
    "duration": 100,
    "start_time": "2024-03-11T20:09:42.371Z"
   },
   {
    "duration": 16,
    "start_time": "2024-03-11T20:09:42.945Z"
   },
   {
    "duration": 43,
    "start_time": "2024-03-11T20:09:44.163Z"
   },
   {
    "duration": 30,
    "start_time": "2024-03-11T20:09:44.564Z"
   },
   {
    "duration": 106,
    "start_time": "2024-03-11T20:09:48.957Z"
   },
   {
    "duration": 14,
    "start_time": "2024-03-11T20:09:51.491Z"
   },
   {
    "duration": 42,
    "start_time": "2024-03-11T20:10:02.596Z"
   },
   {
    "duration": 10,
    "start_time": "2024-03-11T20:10:04.452Z"
   },
   {
    "duration": 76,
    "start_time": "2024-03-11T20:10:07.614Z"
   },
   {
    "duration": 24,
    "start_time": "2024-03-11T20:10:13.805Z"
   },
   {
    "duration": 17,
    "start_time": "2024-03-11T20:10:15.307Z"
   },
   {
    "duration": 17,
    "start_time": "2024-03-11T20:10:16.855Z"
   },
   {
    "duration": 15,
    "start_time": "2024-03-11T20:10:17.381Z"
   },
   {
    "duration": 46,
    "start_time": "2024-03-11T20:10:17.914Z"
   },
   {
    "duration": 370,
    "start_time": "2024-03-11T20:10:18.901Z"
   },
   {
    "duration": 380,
    "start_time": "2024-03-11T20:10:39.600Z"
   },
   {
    "duration": 51,
    "start_time": "2024-03-11T20:10:43.245Z"
   },
   {
    "duration": 22,
    "start_time": "2024-03-11T20:10:44.720Z"
   },
   {
    "duration": 86,
    "start_time": "2024-03-11T20:10:45.545Z"
   },
   {
    "duration": 31,
    "start_time": "2024-03-11T20:10:46.046Z"
   },
   {
    "duration": 222,
    "start_time": "2024-03-11T20:10:56.133Z"
   },
   {
    "duration": 13,
    "start_time": "2024-03-11T20:10:57.699Z"
   },
   {
    "duration": 156,
    "start_time": "2024-03-11T20:10:58.890Z"
   },
   {
    "duration": 3,
    "start_time": "2024-03-11T20:11:10.908Z"
   },
   {
    "duration": 85,
    "start_time": "2024-03-11T20:11:11.966Z"
   },
   {
    "duration": 12,
    "start_time": "2024-03-11T20:11:15.948Z"
   },
   {
    "duration": 2,
    "start_time": "2024-03-11T20:11:19.039Z"
   },
   {
    "duration": 9,
    "start_time": "2024-03-11T20:11:29.907Z"
   },
   {
    "duration": 6007,
    "start_time": "2024-03-11T20:12:02.044Z"
   },
   {
    "duration": 6,
    "start_time": "2024-03-11T20:12:16.408Z"
   },
   {
    "duration": 15,
    "start_time": "2024-03-11T20:12:23.893Z"
   },
   {
    "duration": 10,
    "start_time": "2024-03-11T20:12:44.160Z"
   },
   {
    "duration": 5,
    "start_time": "2024-03-11T20:12:44.172Z"
   },
   {
    "duration": 4,
    "start_time": "2024-03-11T20:12:44.178Z"
   },
   {
    "duration": 2828,
    "start_time": "2024-03-11T20:12:44.183Z"
   },
   {
    "duration": 1231,
    "start_time": "2024-03-11T20:12:47.014Z"
   },
   {
    "duration": 1467,
    "start_time": "2024-03-11T20:12:48.246Z"
   },
   {
    "duration": 297,
    "start_time": "2024-03-11T20:12:49.714Z"
   },
   {
    "duration": 448,
    "start_time": "2024-03-11T20:12:50.012Z"
   },
   {
    "duration": 890,
    "start_time": "2024-03-11T20:12:50.464Z"
   },
   {
    "duration": 121,
    "start_time": "2024-03-11T20:12:51.357Z"
   },
   {
    "duration": 3,
    "start_time": "2024-03-11T20:12:51.480Z"
   },
   {
    "duration": 14082,
    "start_time": "2024-03-11T20:12:51.485Z"
   },
   {
    "duration": 230,
    "start_time": "2024-03-11T20:13:05.569Z"
   },
   {
    "duration": 385,
    "start_time": "2024-03-11T20:13:05.801Z"
   },
   {
    "duration": 15045,
    "start_time": "2024-03-11T20:13:06.188Z"
   },
   {
    "duration": 173,
    "start_time": "2024-03-11T20:13:21.235Z"
   },
   {
    "duration": 160,
    "start_time": "2024-03-11T20:13:21.409Z"
   },
   {
    "duration": 71,
    "start_time": "2024-03-11T20:13:21.570Z"
   },
   {
    "duration": 287,
    "start_time": "2024-03-11T20:13:21.643Z"
   },
   {
    "duration": 68,
    "start_time": "2024-03-11T20:13:21.932Z"
   },
   {
    "duration": 253,
    "start_time": "2024-03-11T20:13:22.002Z"
   },
   {
    "duration": 1178,
    "start_time": "2024-03-11T20:13:22.256Z"
   },
   {
    "duration": 264,
    "start_time": "2024-03-11T20:13:23.436Z"
   },
   {
    "duration": 156,
    "start_time": "2024-03-11T20:13:23.701Z"
   },
   {
    "duration": 95,
    "start_time": "2024-03-11T20:13:23.859Z"
   },
   {
    "duration": 15,
    "start_time": "2024-03-11T20:13:23.965Z"
   },
   {
    "duration": 43,
    "start_time": "2024-03-11T20:13:23.984Z"
   },
   {
    "duration": 44,
    "start_time": "2024-03-11T20:13:24.029Z"
   },
   {
    "duration": 112,
    "start_time": "2024-03-11T20:13:24.075Z"
   },
   {
    "duration": 13,
    "start_time": "2024-03-11T20:13:24.188Z"
   },
   {
    "duration": 41,
    "start_time": "2024-03-11T20:13:24.203Z"
   },
   {
    "duration": 26,
    "start_time": "2024-03-11T20:13:24.245Z"
   },
   {
    "duration": 84,
    "start_time": "2024-03-11T20:13:24.272Z"
   },
   {
    "duration": 30,
    "start_time": "2024-03-11T20:13:24.357Z"
   },
   {
    "duration": 15,
    "start_time": "2024-03-11T20:13:24.389Z"
   },
   {
    "duration": 16,
    "start_time": "2024-03-11T20:13:24.405Z"
   },
   {
    "duration": 62,
    "start_time": "2024-03-11T20:13:24.423Z"
   },
   {
    "duration": 350,
    "start_time": "2024-03-11T20:13:24.487Z"
   },
   {
    "duration": 363,
    "start_time": "2024-03-11T20:13:24.839Z"
   },
   {
    "duration": 54,
    "start_time": "2024-03-11T20:13:25.204Z"
   },
   {
    "duration": 21,
    "start_time": "2024-03-11T20:13:25.265Z"
   },
   {
    "duration": 107,
    "start_time": "2024-03-11T20:13:25.287Z"
   },
   {
    "duration": 32,
    "start_time": "2024-03-11T20:13:25.395Z"
   },
   {
    "duration": 251,
    "start_time": "2024-03-11T20:13:25.429Z"
   },
   {
    "duration": 11,
    "start_time": "2024-03-11T20:13:25.681Z"
   },
   {
    "duration": 160,
    "start_time": "2024-03-11T20:13:25.693Z"
   },
   {
    "duration": 11,
    "start_time": "2024-03-11T20:13:25.854Z"
   },
   {
    "duration": 88,
    "start_time": "2024-03-11T20:13:25.867Z"
   },
   {
    "duration": 17,
    "start_time": "2024-03-11T20:13:25.956Z"
   },
   {
    "duration": 2,
    "start_time": "2024-03-11T20:13:25.975Z"
   },
   {
    "duration": 6,
    "start_time": "2024-03-11T20:13:25.979Z"
   },
   {
    "duration": 13,
    "start_time": "2024-03-11T20:13:25.986Z"
   },
   {
    "duration": 7,
    "start_time": "2024-03-11T20:13:26.000Z"
   },
   {
    "duration": 18,
    "start_time": "2024-03-11T20:13:26.008Z"
   },
   {
    "duration": 10,
    "start_time": "2024-03-11T20:13:26.027Z"
   },
   {
    "duration": 12,
    "start_time": "2024-03-11T20:13:26.038Z"
   },
   {
    "duration": 7,
    "start_time": "2024-03-11T20:13:26.052Z"
   },
   {
    "duration": 9,
    "start_time": "2024-03-11T20:13:26.061Z"
   },
   {
    "duration": 5,
    "start_time": "2024-03-11T20:13:26.072Z"
   },
   {
    "duration": 5,
    "start_time": "2024-03-11T20:13:26.079Z"
   },
   {
    "duration": 5,
    "start_time": "2024-03-11T20:13:26.085Z"
   },
   {
    "duration": 6,
    "start_time": "2024-03-11T20:13:26.091Z"
   },
   {
    "duration": 14,
    "start_time": "2024-03-11T20:13:26.098Z"
   },
   {
    "duration": 7,
    "start_time": "2024-03-11T20:13:26.113Z"
   },
   {
    "duration": 237294,
    "start_time": "2024-03-11T20:13:26.121Z"
   },
   {
    "duration": 55,
    "start_time": "2024-03-11T20:17:23.416Z"
   },
   {
    "duration": 19,
    "start_time": "2024-03-11T20:17:23.472Z"
   },
   {
    "duration": 17279,
    "start_time": "2024-03-11T20:17:23.492Z"
   },
   {
    "duration": 1392,
    "start_time": "2024-03-11T20:17:40.773Z"
   },
   {
    "duration": 3,
    "start_time": "2024-03-11T20:17:42.167Z"
   },
   {
    "duration": 5,
    "start_time": "2024-03-11T20:17:42.172Z"
   },
   {
    "duration": 19178,
    "start_time": "2024-03-11T20:17:42.179Z"
   },
   {
    "duration": 15,
    "start_time": "2024-03-11T20:18:01.358Z"
   },
   {
    "duration": 50,
    "start_time": "2024-03-11T20:18:01.374Z"
   },
   {
    "duration": 658,
    "start_time": "2024-03-11T20:18:01.426Z"
   },
   {
    "duration": 256,
    "start_time": "2024-03-11T20:18:02.085Z"
   },
   {
    "duration": 2,
    "start_time": "2024-03-11T20:18:02.343Z"
   },
   {
    "duration": 31,
    "start_time": "2024-03-11T20:18:02.351Z"
   },
   {
    "duration": 34,
    "start_time": "2024-03-11T20:18:02.384Z"
   },
   {
    "duration": 111,
    "start_time": "2024-03-11T20:18:02.419Z"
   },
   {
    "duration": 0,
    "start_time": "2024-03-11T20:18:02.532Z"
   },
   {
    "duration": 12838,
    "start_time": "2024-03-11T20:18:30.335Z"
   },
   {
    "duration": 13,
    "start_time": "2024-03-11T20:18:48.351Z"
   },
   {
    "duration": 41478,
    "start_time": "2024-03-11T20:18:56.599Z"
   },
   {
    "duration": 0,
    "start_time": "2024-03-11T20:19:38.078Z"
   },
   {
    "duration": 4,
    "start_time": "2024-03-11T20:19:45.760Z"
   },
   {
    "duration": 3,
    "start_time": "2024-03-11T20:19:46.208Z"
   },
   {
    "duration": 10788,
    "start_time": "2024-03-11T20:19:46.696Z"
   },
   {
    "duration": 4,
    "start_time": "2024-03-11T20:20:29.544Z"
   },
   {
    "duration": 2,
    "start_time": "2024-03-11T20:20:30.116Z"
   },
   {
    "duration": 738948,
    "start_time": "2024-03-11T20:20:31.511Z"
   },
   {
    "duration": 0,
    "start_time": "2024-03-11T20:32:50.461Z"
   },
   {
    "duration": 4,
    "start_time": "2024-03-11T20:33:07.092Z"
   },
   {
    "duration": 4,
    "start_time": "2024-03-11T20:33:13.900Z"
   },
   {
    "duration": 630986,
    "start_time": "2024-03-11T20:33:15.012Z"
   },
   {
    "duration": 0,
    "start_time": "2024-03-11T20:43:46.000Z"
   },
   {
    "duration": 3,
    "start_time": "2024-03-11T20:43:58.162Z"
   },
   {
    "duration": 3,
    "start_time": "2024-03-11T20:43:59.720Z"
   },
   {
    "duration": 57890,
    "start_time": "2024-03-11T20:44:00.831Z"
   },
   {
    "duration": 0,
    "start_time": "2024-03-11T20:44:58.723Z"
   },
   {
    "duration": 3,
    "start_time": "2024-03-11T20:45:15.547Z"
   },
   {
    "duration": 3,
    "start_time": "2024-03-11T20:45:16.700Z"
   },
   {
    "duration": 121,
    "start_time": "2024-03-11T20:45:17.731Z"
   },
   {
    "duration": 10,
    "start_time": "2024-03-11T20:45:37.553Z"
   },
   {
    "duration": 3,
    "start_time": "2024-03-11T20:45:44.125Z"
   },
   {
    "duration": 2,
    "start_time": "2024-03-11T20:45:45.275Z"
   },
   {
    "duration": 875292,
    "start_time": "2024-03-11T20:45:46.422Z"
   },
   {
    "duration": 4,
    "start_time": "2024-03-11T21:00:21.716Z"
   },
   {
    "duration": 2,
    "start_time": "2024-03-11T21:00:31.987Z"
   },
   {
    "duration": 11,
    "start_time": "2024-03-11T21:00:34.698Z"
   },
   {
    "duration": 130075,
    "start_time": "2024-03-11T21:00:56.524Z"
   },
   {
    "duration": 9,
    "start_time": "2024-03-11T21:03:20.737Z"
   },
   {
    "duration": 1771,
    "start_time": "2024-03-11T21:03:27.783Z"
   },
   {
    "duration": 3,
    "start_time": "2024-03-11T21:03:33.251Z"
   },
   {
    "duration": 90,
    "start_time": "2024-03-11T21:06:45.884Z"
   },
   {
    "duration": 4,
    "start_time": "2024-03-11T21:06:53.289Z"
   },
   {
    "duration": 3,
    "start_time": "2024-03-11T21:07:09.571Z"
   },
   {
    "duration": 3,
    "start_time": "2024-03-11T21:07:14.479Z"
   },
   {
    "duration": 3,
    "start_time": "2024-03-11T21:07:26.268Z"
   },
   {
    "duration": 771,
    "start_time": "2024-03-11T21:07:38.749Z"
   },
   {
    "duration": 7,
    "start_time": "2024-03-11T21:08:28.457Z"
   },
   {
    "duration": 83,
    "start_time": "2024-03-11T21:08:38.468Z"
   },
   {
    "duration": 3,
    "start_time": "2024-03-11T21:08:40.353Z"
   },
   {
    "duration": 742,
    "start_time": "2024-03-11T21:08:41.425Z"
   },
   {
    "duration": 3,
    "start_time": "2024-03-11T21:09:31.068Z"
   },
   {
    "duration": 8,
    "start_time": "2024-03-11T21:09:32.734Z"
   },
   {
    "duration": 90,
    "start_time": "2024-03-11T21:09:33.399Z"
   },
   {
    "duration": 3,
    "start_time": "2024-03-11T21:09:34.468Z"
   },
   {
    "duration": 726,
    "start_time": "2024-03-11T21:09:36.987Z"
   },
   {
    "duration": 4,
    "start_time": "2024-03-11T21:10:06.309Z"
   },
   {
    "duration": 6,
    "start_time": "2024-03-11T21:10:07.963Z"
   },
   {
    "duration": 81,
    "start_time": "2024-03-11T21:10:08.685Z"
   },
   {
    "duration": 3,
    "start_time": "2024-03-11T21:10:09.442Z"
   },
   {
    "duration": 716,
    "start_time": "2024-03-11T21:10:10.987Z"
   },
   {
    "duration": 250054,
    "start_time": "2024-03-11T21:10:52.113Z"
   },
   {
    "duration": 4,
    "start_time": "2024-03-11T21:15:02.169Z"
   },
   {
    "duration": 2,
    "start_time": "2024-03-11T21:15:16.041Z"
   },
   {
    "duration": 13,
    "start_time": "2024-03-11T21:15:16.970Z"
   },
   {
    "duration": 8161,
    "start_time": "2024-03-11T21:15:43.412Z"
   },
   {
    "duration": 2210,
    "start_time": "2024-03-11T21:15:57.355Z"
   },
   {
    "duration": 3,
    "start_time": "2024-03-11T21:16:07.761Z"
   },
   {
    "duration": 3,
    "start_time": "2024-03-11T21:16:42.839Z"
   },
   {
    "duration": 7,
    "start_time": "2024-03-11T21:16:43.740Z"
   },
   {
    "duration": 79,
    "start_time": "2024-03-11T21:16:44.102Z"
   },
   {
    "duration": 3,
    "start_time": "2024-03-11T21:16:44.472Z"
   },
   {
    "duration": 241722,
    "start_time": "2024-03-11T21:16:45.947Z"
   },
   {
    "duration": 4,
    "start_time": "2024-03-11T21:20:47.671Z"
   },
   {
    "duration": 3,
    "start_time": "2024-03-11T21:20:58.621Z"
   },
   {
    "duration": 8599,
    "start_time": "2024-03-11T21:20:59.675Z"
   },
   {
    "duration": 2212,
    "start_time": "2024-03-11T21:21:08.276Z"
   },
   {
    "duration": 4,
    "start_time": "2024-03-11T21:21:20.902Z"
   },
   {
    "duration": 8,
    "start_time": "2024-03-11T21:21:23.035Z"
   },
   {
    "duration": 9,
    "start_time": "2024-03-11T21:21:29.728Z"
   },
   {
    "duration": 3,
    "start_time": "2024-03-11T21:22:10.492Z"
   },
   {
    "duration": 11,
    "start_time": "2024-03-11T21:22:33.438Z"
   },
   {
    "duration": 4,
    "start_time": "2024-03-11T21:23:00.322Z"
   },
   {
    "duration": 13,
    "start_time": "2024-03-11T21:24:24.813Z"
   },
   {
    "duration": 11,
    "start_time": "2024-03-11T21:25:27.998Z"
   },
   {
    "duration": 9,
    "start_time": "2024-03-11T21:25:58.277Z"
   },
   {
    "duration": 5,
    "start_time": "2024-03-11T21:26:01.736Z"
   },
   {
    "duration": 4,
    "start_time": "2024-03-11T21:26:11.623Z"
   },
   {
    "duration": 4,
    "start_time": "2024-03-11T21:27:25.688Z"
   },
   {
    "duration": 33,
    "start_time": "2024-03-11T21:27:26.707Z"
   },
   {
    "duration": 10,
    "start_time": "2024-03-11T21:27:30.133Z"
   },
   {
    "duration": 784,
    "start_time": "2024-03-11T21:27:50.289Z"
   },
   {
    "duration": 10,
    "start_time": "2024-03-11T21:28:09.972Z"
   },
   {
    "duration": 7,
    "start_time": "2024-03-11T21:28:38.844Z"
   },
   {
    "duration": 7,
    "start_time": "2024-03-11T21:34:38.620Z"
   },
   {
    "duration": 7,
    "start_time": "2024-03-11T21:34:38.629Z"
   },
   {
    "duration": 3,
    "start_time": "2024-03-11T21:34:38.638Z"
   },
   {
    "duration": 2799,
    "start_time": "2024-03-11T21:34:38.643Z"
   },
   {
    "duration": 1323,
    "start_time": "2024-03-11T21:34:41.444Z"
   },
   {
    "duration": 841,
    "start_time": "2024-03-11T21:34:42.769Z"
   },
   {
    "duration": 266,
    "start_time": "2024-03-11T21:34:43.611Z"
   },
   {
    "duration": 437,
    "start_time": "2024-03-11T21:34:43.878Z"
   },
   {
    "duration": 883,
    "start_time": "2024-03-11T21:34:44.316Z"
   },
   {
    "duration": 127,
    "start_time": "2024-03-11T21:34:45.202Z"
   },
   {
    "duration": 4,
    "start_time": "2024-03-11T21:34:45.330Z"
   },
   {
    "duration": 14590,
    "start_time": "2024-03-11T21:34:45.335Z"
   },
   {
    "duration": 229,
    "start_time": "2024-03-11T21:34:59.926Z"
   },
   {
    "duration": 397,
    "start_time": "2024-03-11T21:35:00.157Z"
   },
   {
    "duration": 15639,
    "start_time": "2024-03-11T21:35:00.556Z"
   },
   {
    "duration": 168,
    "start_time": "2024-03-11T21:35:16.197Z"
   },
   {
    "duration": 149,
    "start_time": "2024-03-11T21:35:16.366Z"
   },
   {
    "duration": 75,
    "start_time": "2024-03-11T21:35:16.516Z"
   },
   {
    "duration": 286,
    "start_time": "2024-03-11T21:35:16.593Z"
   },
   {
    "duration": 67,
    "start_time": "2024-03-11T21:35:16.880Z"
   },
   {
    "duration": 285,
    "start_time": "2024-03-11T21:35:16.948Z"
   },
   {
    "duration": 1207,
    "start_time": "2024-03-11T21:35:17.234Z"
   },
   {
    "duration": 263,
    "start_time": "2024-03-11T21:35:18.443Z"
   },
   {
    "duration": 171,
    "start_time": "2024-03-11T21:35:18.708Z"
   },
   {
    "duration": 106,
    "start_time": "2024-03-11T21:35:18.881Z"
   },
   {
    "duration": 15,
    "start_time": "2024-03-11T21:35:18.989Z"
   },
   {
    "duration": 41,
    "start_time": "2024-03-11T21:35:19.008Z"
   },
   {
    "duration": 37,
    "start_time": "2024-03-11T21:35:19.050Z"
   },
   {
    "duration": 118,
    "start_time": "2024-03-11T21:35:19.088Z"
   },
   {
    "duration": 16,
    "start_time": "2024-03-11T21:35:19.207Z"
   },
   {
    "duration": 51,
    "start_time": "2024-03-11T21:35:19.224Z"
   },
   {
    "duration": 14,
    "start_time": "2024-03-11T21:35:19.277Z"
   },
   {
    "duration": 98,
    "start_time": "2024-03-11T21:35:19.293Z"
   },
   {
    "duration": 31,
    "start_time": "2024-03-11T21:35:19.392Z"
   },
   {
    "duration": 18,
    "start_time": "2024-03-11T21:35:19.425Z"
   },
   {
    "duration": 25,
    "start_time": "2024-03-11T21:35:19.445Z"
   },
   {
    "duration": 59,
    "start_time": "2024-03-11T21:35:19.472Z"
   },
   {
    "duration": 363,
    "start_time": "2024-03-11T21:35:19.532Z"
   },
   {
    "duration": 330,
    "start_time": "2024-03-11T21:35:19.897Z"
   },
   {
    "duration": 51,
    "start_time": "2024-03-11T21:35:20.229Z"
   },
   {
    "duration": 35,
    "start_time": "2024-03-11T21:35:20.281Z"
   },
   {
    "duration": 89,
    "start_time": "2024-03-11T21:35:20.317Z"
   },
   {
    "duration": 33,
    "start_time": "2024-03-11T21:35:20.407Z"
   },
   {
    "duration": 248,
    "start_time": "2024-03-11T21:35:20.441Z"
   },
   {
    "duration": 11,
    "start_time": "2024-03-11T21:35:20.691Z"
   },
   {
    "duration": 154,
    "start_time": "2024-03-11T21:35:20.704Z"
   },
   {
    "duration": 4,
    "start_time": "2024-03-11T21:35:20.865Z"
   },
   {
    "duration": 83,
    "start_time": "2024-03-11T21:35:20.870Z"
   },
   {
    "duration": 11,
    "start_time": "2024-03-11T21:35:20.964Z"
   },
   {
    "duration": 4,
    "start_time": "2024-03-11T21:35:20.977Z"
   },
   {
    "duration": 4,
    "start_time": "2024-03-11T21:35:20.982Z"
   },
   {
    "duration": 4,
    "start_time": "2024-03-11T21:35:20.987Z"
   },
   {
    "duration": 6,
    "start_time": "2024-03-11T21:35:20.992Z"
   },
   {
    "duration": 8,
    "start_time": "2024-03-11T21:35:21.000Z"
   },
   {
    "duration": 19,
    "start_time": "2024-03-11T21:35:21.009Z"
   },
   {
    "duration": 12,
    "start_time": "2024-03-11T21:35:21.030Z"
   },
   {
    "duration": 18,
    "start_time": "2024-03-11T21:35:21.043Z"
   },
   {
    "duration": 4,
    "start_time": "2024-03-11T21:35:21.063Z"
   },
   {
    "duration": 3,
    "start_time": "2024-03-11T21:35:21.069Z"
   },
   {
    "duration": 219293,
    "start_time": "2024-03-11T21:35:21.074Z"
   },
   {
    "duration": 13,
    "start_time": "2024-03-11T21:39:00.369Z"
   },
   {
    "duration": 59,
    "start_time": "2024-03-11T21:39:00.384Z"
   },
   {
    "duration": 16324,
    "start_time": "2024-03-11T21:39:00.445Z"
   },
   {
    "duration": 1197,
    "start_time": "2024-03-11T21:39:16.771Z"
   },
   {
    "duration": 3,
    "start_time": "2024-03-11T21:39:17.970Z"
   },
   {
    "duration": 7,
    "start_time": "2024-03-11T21:39:18.064Z"
   },
   {
    "duration": 19717,
    "start_time": "2024-03-11T21:39:18.073Z"
   },
   {
    "duration": 13,
    "start_time": "2024-03-11T21:39:37.792Z"
   },
   {
    "duration": 10,
    "start_time": "2024-03-11T21:39:37.806Z"
   },
   {
    "duration": 480,
    "start_time": "2024-03-11T21:39:37.817Z"
   },
   {
    "duration": 230,
    "start_time": "2024-03-11T21:39:38.299Z"
   },
   {
    "duration": 2,
    "start_time": "2024-03-11T21:39:38.531Z"
   },
   {
    "duration": 6,
    "start_time": "2024-03-11T21:39:38.534Z"
   },
   {
    "duration": 11,
    "start_time": "2024-03-11T21:39:38.541Z"
   },
   {
    "duration": 36163,
    "start_time": "2024-03-11T21:39:38.553Z"
   },
   {
    "duration": 0,
    "start_time": "2024-03-11T21:40:14.718Z"
   },
   {
    "duration": 0,
    "start_time": "2024-03-11T21:40:14.719Z"
   },
   {
    "duration": 0,
    "start_time": "2024-03-11T21:40:14.720Z"
   },
   {
    "duration": 0,
    "start_time": "2024-03-11T21:40:14.721Z"
   },
   {
    "duration": 0,
    "start_time": "2024-03-11T21:40:14.722Z"
   },
   {
    "duration": 0,
    "start_time": "2024-03-11T21:40:14.723Z"
   },
   {
    "duration": 0,
    "start_time": "2024-03-11T21:40:14.724Z"
   },
   {
    "duration": 0,
    "start_time": "2024-03-11T21:40:14.725Z"
   },
   {
    "duration": 0,
    "start_time": "2024-03-11T21:40:14.726Z"
   },
   {
    "duration": 0,
    "start_time": "2024-03-11T21:40:14.727Z"
   },
   {
    "duration": 0,
    "start_time": "2024-03-11T21:40:14.728Z"
   },
   {
    "duration": 0,
    "start_time": "2024-03-11T21:40:14.729Z"
   },
   {
    "duration": 0,
    "start_time": "2024-03-11T21:40:14.730Z"
   },
   {
    "duration": 0,
    "start_time": "2024-03-11T21:40:14.731Z"
   },
   {
    "duration": 0,
    "start_time": "2024-03-11T21:40:14.732Z"
   },
   {
    "duration": 0,
    "start_time": "2024-03-11T21:40:14.733Z"
   },
   {
    "duration": 0,
    "start_time": "2024-03-11T21:40:14.735Z"
   },
   {
    "duration": 0,
    "start_time": "2024-03-11T21:40:14.736Z"
   },
   {
    "duration": 0,
    "start_time": "2024-03-11T21:40:14.737Z"
   },
   {
    "duration": 0,
    "start_time": "2024-03-11T21:40:14.738Z"
   },
   {
    "duration": 0,
    "start_time": "2024-03-11T21:40:14.739Z"
   },
   {
    "duration": 8,
    "start_time": "2024-03-11T21:40:25.492Z"
   },
   {
    "duration": 3,
    "start_time": "2024-03-11T21:40:25.501Z"
   },
   {
    "duration": 3,
    "start_time": "2024-03-11T21:40:25.505Z"
   },
   {
    "duration": 2902,
    "start_time": "2024-03-11T21:40:25.510Z"
   },
   {
    "duration": 1245,
    "start_time": "2024-03-11T21:40:28.414Z"
   },
   {
    "duration": 831,
    "start_time": "2024-03-11T21:40:29.661Z"
   },
   {
    "duration": 263,
    "start_time": "2024-03-11T21:40:30.493Z"
   },
   {
    "duration": 457,
    "start_time": "2024-03-11T21:40:30.758Z"
   },
   {
    "duration": 1480,
    "start_time": "2024-03-11T21:40:31.218Z"
   },
   {
    "duration": 274,
    "start_time": "2024-03-11T21:40:32.700Z"
   },
   {
    "duration": 4,
    "start_time": "2024-03-11T21:40:32.975Z"
   },
   {
    "duration": 14191,
    "start_time": "2024-03-11T21:40:32.980Z"
   },
   {
    "duration": 229,
    "start_time": "2024-03-11T21:40:47.172Z"
   },
   {
    "duration": 404,
    "start_time": "2024-03-11T21:40:47.403Z"
   },
   {
    "duration": 15499,
    "start_time": "2024-03-11T21:40:47.809Z"
   },
   {
    "duration": 164,
    "start_time": "2024-03-11T21:41:03.310Z"
   },
   {
    "duration": 154,
    "start_time": "2024-03-11T21:41:03.475Z"
   },
   {
    "duration": 73,
    "start_time": "2024-03-11T21:41:03.632Z"
   },
   {
    "duration": 275,
    "start_time": "2024-03-11T21:41:03.707Z"
   },
   {
    "duration": 65,
    "start_time": "2024-03-11T21:41:03.983Z"
   },
   {
    "duration": 274,
    "start_time": "2024-03-11T21:41:04.049Z"
   },
   {
    "duration": 1205,
    "start_time": "2024-03-11T21:41:04.324Z"
   },
   {
    "duration": 270,
    "start_time": "2024-03-11T21:41:05.530Z"
   },
   {
    "duration": 163,
    "start_time": "2024-03-11T21:41:05.802Z"
   },
   {
    "duration": 89,
    "start_time": "2024-03-11T21:41:05.967Z"
   },
   {
    "duration": 21,
    "start_time": "2024-03-11T21:41:06.058Z"
   },
   {
    "duration": 43,
    "start_time": "2024-03-11T21:41:06.080Z"
   },
   {
    "duration": 43,
    "start_time": "2024-03-11T21:41:06.125Z"
   },
   {
    "duration": 122,
    "start_time": "2024-03-11T21:41:06.169Z"
   },
   {
    "duration": 13,
    "start_time": "2024-03-11T21:41:06.292Z"
   },
   {
    "duration": 40,
    "start_time": "2024-03-11T21:41:06.307Z"
   },
   {
    "duration": 20,
    "start_time": "2024-03-11T21:41:06.349Z"
   },
   {
    "duration": 78,
    "start_time": "2024-03-11T21:41:06.370Z"
   },
   {
    "duration": 27,
    "start_time": "2024-03-11T21:41:06.464Z"
   },
   {
    "duration": 16,
    "start_time": "2024-03-11T21:41:06.493Z"
   },
   {
    "duration": 16,
    "start_time": "2024-03-11T21:41:06.510Z"
   },
   {
    "duration": 80,
    "start_time": "2024-03-11T21:41:06.527Z"
   },
   {
    "duration": 361,
    "start_time": "2024-03-11T21:41:06.609Z"
   },
   {
    "duration": 345,
    "start_time": "2024-03-11T21:41:06.972Z"
   },
   {
    "duration": 54,
    "start_time": "2024-03-11T21:41:07.319Z"
   },
   {
    "duration": 21,
    "start_time": "2024-03-11T21:41:07.374Z"
   },
   {
    "duration": 99,
    "start_time": "2024-03-11T21:41:07.396Z"
   },
   {
    "duration": 32,
    "start_time": "2024-03-11T21:41:07.496Z"
   },
   {
    "duration": 246,
    "start_time": "2024-03-11T21:41:07.529Z"
   },
   {
    "duration": 12,
    "start_time": "2024-03-11T21:41:07.777Z"
   },
   {
    "duration": 161,
    "start_time": "2024-03-11T21:41:07.791Z"
   },
   {
    "duration": 13,
    "start_time": "2024-03-11T21:41:07.953Z"
   },
   {
    "duration": 90,
    "start_time": "2024-03-11T21:41:07.968Z"
   },
   {
    "duration": 12,
    "start_time": "2024-03-11T21:41:08.065Z"
   },
   {
    "duration": 3,
    "start_time": "2024-03-11T21:41:08.078Z"
   },
   {
    "duration": 3,
    "start_time": "2024-03-11T21:41:08.086Z"
   },
   {
    "duration": 10,
    "start_time": "2024-03-11T21:41:08.091Z"
   },
   {
    "duration": 9,
    "start_time": "2024-03-11T21:41:08.102Z"
   },
   {
    "duration": 6,
    "start_time": "2024-03-11T21:41:08.113Z"
   },
   {
    "duration": 16,
    "start_time": "2024-03-11T21:41:08.120Z"
   },
   {
    "duration": 9,
    "start_time": "2024-03-11T21:41:08.137Z"
   },
   {
    "duration": 16,
    "start_time": "2024-03-11T21:41:08.148Z"
   },
   {
    "duration": 5,
    "start_time": "2024-03-11T21:41:08.166Z"
   },
   {
    "duration": 7,
    "start_time": "2024-03-11T21:41:08.173Z"
   },
   {
    "duration": 222684,
    "start_time": "2024-03-11T21:41:08.182Z"
   },
   {
    "duration": 13,
    "start_time": "2024-03-11T21:44:50.868Z"
   },
   {
    "duration": 15,
    "start_time": "2024-03-11T21:44:50.883Z"
   },
   {
    "duration": 16366,
    "start_time": "2024-03-11T21:44:50.900Z"
   },
   {
    "duration": 1199,
    "start_time": "2024-03-11T21:45:07.267Z"
   },
   {
    "duration": 4,
    "start_time": "2024-03-11T21:45:08.468Z"
   },
   {
    "duration": 93,
    "start_time": "2024-03-11T21:45:08.474Z"
   },
   {
    "duration": 18954,
    "start_time": "2024-03-11T21:45:08.568Z"
   },
   {
    "duration": 13,
    "start_time": "2024-03-11T21:45:27.523Z"
   },
   {
    "duration": 13,
    "start_time": "2024-03-11T21:45:27.537Z"
   },
   {
    "duration": 479,
    "start_time": "2024-03-11T21:45:27.551Z"
   },
   {
    "duration": 245,
    "start_time": "2024-03-11T21:45:28.032Z"
   },
   {
    "duration": 2,
    "start_time": "2024-03-11T21:45:28.279Z"
   },
   {
    "duration": 6,
    "start_time": "2024-03-11T21:45:28.283Z"
   },
   {
    "duration": 3,
    "start_time": "2024-03-11T21:45:28.291Z"
   },
   {
    "duration": 875350,
    "start_time": "2024-03-11T21:45:28.295Z"
   },
   {
    "duration": 4,
    "start_time": "2024-03-11T22:00:03.647Z"
   },
   {
    "duration": 13,
    "start_time": "2024-03-11T22:00:03.652Z"
   },
   {
    "duration": 126505,
    "start_time": "2024-03-11T22:00:03.667Z"
   },
   {
    "duration": 1785,
    "start_time": "2024-03-11T22:02:10.174Z"
   },
   {
    "duration": 5,
    "start_time": "2024-03-11T22:02:11.960Z"
   },
   {
    "duration": 5,
    "start_time": "2024-03-11T22:02:11.967Z"
   },
   {
    "duration": 9,
    "start_time": "2024-03-11T22:02:11.973Z"
   },
   {
    "duration": 96,
    "start_time": "2024-03-11T22:02:11.984Z"
   },
   {
    "duration": 2,
    "start_time": "2024-03-11T22:02:12.082Z"
   },
   {
    "duration": 240292,
    "start_time": "2024-03-11T22:02:12.086Z"
   },
   {
    "duration": 4,
    "start_time": "2024-03-11T22:06:12.379Z"
   },
   {
    "duration": 4,
    "start_time": "2024-03-11T22:06:12.385Z"
   },
   {
    "duration": 8479,
    "start_time": "2024-03-11T22:06:12.391Z"
   },
   {
    "duration": 2125,
    "start_time": "2024-03-11T22:06:20.872Z"
   },
   {
    "duration": 67,
    "start_time": "2024-03-11T22:06:22.998Z"
   },
   {
    "duration": 4,
    "start_time": "2024-03-11T22:06:23.066Z"
   },
   {
    "duration": 16,
    "start_time": "2024-03-11T22:06:23.071Z"
   },
   {
    "duration": 4,
    "start_time": "2024-03-11T22:06:23.089Z"
   },
   {
    "duration": 33,
    "start_time": "2024-03-11T22:06:23.094Z"
   },
   {
    "duration": 761,
    "start_time": "2024-03-11T22:06:23.128Z"
   },
   {
    "duration": 6,
    "start_time": "2024-03-11T22:06:23.890Z"
   },
   {
    "duration": 78,
    "start_time": "2024-03-12T09:08:55.659Z"
   },
   {
    "duration": 86,
    "start_time": "2024-03-12T09:10:54.942Z"
   },
   {
    "duration": 70,
    "start_time": "2024-03-12T09:11:08.408Z"
   },
   {
    "duration": 69,
    "start_time": "2024-03-12T09:12:25.655Z"
   },
   {
    "duration": 74,
    "start_time": "2024-03-12T09:12:38.464Z"
   },
   {
    "duration": 8,
    "start_time": "2024-03-12T09:15:00.336Z"
   },
   {
    "duration": 46,
    "start_time": "2024-03-12T09:15:00.345Z"
   },
   {
    "duration": 73,
    "start_time": "2024-03-12T09:15:00.393Z"
   },
   {
    "duration": 6453,
    "start_time": "2024-03-12T09:15:00.468Z"
   },
   {
    "duration": 1502,
    "start_time": "2024-03-12T09:15:06.924Z"
   },
   {
    "duration": 1102,
    "start_time": "2024-03-12T09:15:08.429Z"
   },
   {
    "duration": 326,
    "start_time": "2024-03-12T09:15:09.532Z"
   },
   {
    "duration": 463,
    "start_time": "2024-03-12T09:15:09.860Z"
   },
   {
    "duration": 896,
    "start_time": "2024-03-12T09:15:10.324Z"
   },
   {
    "duration": 150,
    "start_time": "2024-03-12T09:15:11.223Z"
   },
   {
    "duration": 3,
    "start_time": "2024-03-12T09:15:11.375Z"
   },
   {
    "duration": 14697,
    "start_time": "2024-03-12T09:15:11.380Z"
   },
   {
    "duration": 236,
    "start_time": "2024-03-12T09:15:26.078Z"
   },
   {
    "duration": 418,
    "start_time": "2024-03-12T09:15:26.316Z"
   },
   {
    "duration": 15506,
    "start_time": "2024-03-12T09:15:26.736Z"
   },
   {
    "duration": 174,
    "start_time": "2024-03-12T09:15:42.244Z"
   },
   {
    "duration": 160,
    "start_time": "2024-03-12T09:15:42.419Z"
   },
   {
    "duration": 77,
    "start_time": "2024-03-12T09:15:42.580Z"
   },
   {
    "duration": 280,
    "start_time": "2024-03-12T09:15:42.659Z"
   },
   {
    "duration": 63,
    "start_time": "2024-03-12T09:15:42.941Z"
   },
   {
    "duration": 270,
    "start_time": "2024-03-12T09:15:43.006Z"
   },
   {
    "duration": 1167,
    "start_time": "2024-03-12T09:15:43.278Z"
   },
   {
    "duration": 278,
    "start_time": "2024-03-12T09:15:44.447Z"
   },
   {
    "duration": 156,
    "start_time": "2024-03-12T09:15:44.727Z"
   },
   {
    "duration": 100,
    "start_time": "2024-03-12T09:15:44.885Z"
   },
   {
    "duration": 17,
    "start_time": "2024-03-12T09:15:44.987Z"
   },
   {
    "duration": 51,
    "start_time": "2024-03-12T09:15:45.006Z"
   },
   {
    "duration": 47,
    "start_time": "2024-03-12T09:15:45.062Z"
   },
   {
    "duration": 132,
    "start_time": "2024-03-12T09:15:45.110Z"
   },
   {
    "duration": 15,
    "start_time": "2024-03-12T09:15:45.244Z"
   },
   {
    "duration": 60,
    "start_time": "2024-03-12T09:15:45.260Z"
   },
   {
    "duration": 26,
    "start_time": "2024-03-12T09:15:45.322Z"
   },
   {
    "duration": 105,
    "start_time": "2024-03-12T09:15:45.349Z"
   },
   {
    "duration": 27,
    "start_time": "2024-03-12T09:15:45.456Z"
   },
   {
    "duration": 16,
    "start_time": "2024-03-12T09:15:45.485Z"
   },
   {
    "duration": 29,
    "start_time": "2024-03-12T09:15:45.502Z"
   },
   {
    "duration": 62,
    "start_time": "2024-03-12T09:15:45.533Z"
   },
   {
    "duration": 382,
    "start_time": "2024-03-12T09:15:45.597Z"
   },
   {
    "duration": 379,
    "start_time": "2024-03-12T09:15:45.981Z"
   },
   {
    "duration": 57,
    "start_time": "2024-03-12T09:15:46.362Z"
   },
   {
    "duration": 22,
    "start_time": "2024-03-12T09:15:46.420Z"
   },
   {
    "duration": 105,
    "start_time": "2024-03-12T09:15:46.443Z"
   },
   {
    "duration": 33,
    "start_time": "2024-03-12T09:15:46.550Z"
   },
   {
    "duration": 250,
    "start_time": "2024-03-12T09:15:46.584Z"
   },
   {
    "duration": 10,
    "start_time": "2024-03-12T09:15:46.835Z"
   },
   {
    "duration": 172,
    "start_time": "2024-03-12T09:15:46.847Z"
   },
   {
    "duration": 4,
    "start_time": "2024-03-12T09:15:47.020Z"
   },
   {
    "duration": 97,
    "start_time": "2024-03-12T09:15:47.025Z"
   },
   {
    "duration": 11,
    "start_time": "2024-03-12T09:15:47.124Z"
   },
   {
    "duration": 3,
    "start_time": "2024-03-12T09:15:47.137Z"
   },
   {
    "duration": 3,
    "start_time": "2024-03-12T09:15:47.141Z"
   },
   {
    "duration": 11,
    "start_time": "2024-03-12T09:15:47.146Z"
   },
   {
    "duration": 3,
    "start_time": "2024-03-12T09:15:47.158Z"
   },
   {
    "duration": 3,
    "start_time": "2024-03-12T09:15:47.163Z"
   },
   {
    "duration": 5,
    "start_time": "2024-03-12T09:15:47.168Z"
   },
   {
    "duration": 4,
    "start_time": "2024-03-12T09:15:47.174Z"
   },
   {
    "duration": 5,
    "start_time": "2024-03-12T09:15:47.179Z"
   },
   {
    "duration": 3,
    "start_time": "2024-03-12T09:15:47.186Z"
   },
   {
    "duration": 2,
    "start_time": "2024-03-12T09:15:47.219Z"
   },
   {
    "duration": 220951,
    "start_time": "2024-03-12T09:15:47.223Z"
   },
   {
    "duration": 14,
    "start_time": "2024-03-12T09:19:28.217Z"
   },
   {
    "duration": 21,
    "start_time": "2024-03-12T09:19:28.233Z"
   },
   {
    "duration": 17064,
    "start_time": "2024-03-12T09:19:28.255Z"
   },
   {
    "duration": 1299,
    "start_time": "2024-03-12T09:19:45.320Z"
   },
   {
    "duration": 3,
    "start_time": "2024-03-12T09:19:46.621Z"
   },
   {
    "duration": 498,
    "start_time": "2024-03-12T09:19:46.626Z"
   },
   {
    "duration": 92,
    "start_time": "2024-03-12T09:19:47.126Z"
   },
   {
    "duration": 19603,
    "start_time": "2024-03-12T09:19:47.220Z"
   },
   {
    "duration": 13,
    "start_time": "2024-03-12T09:20:06.824Z"
   },
   {
    "duration": 9,
    "start_time": "2024-03-12T09:20:06.839Z"
   },
   {
    "duration": 455,
    "start_time": "2024-03-12T09:20:06.849Z"
   },
   {
    "duration": 276,
    "start_time": "2024-03-12T09:20:07.306Z"
   },
   {
    "duration": 3,
    "start_time": "2024-03-12T09:20:07.583Z"
   },
   {
    "duration": 124,
    "start_time": "2024-03-12T09:20:07.588Z"
   },
   {
    "duration": 3,
    "start_time": "2024-03-12T09:20:07.717Z"
   },
   {
    "duration": 11,
    "start_time": "2024-03-12T09:20:07.721Z"
   },
   {
    "duration": 900591,
    "start_time": "2024-03-12T09:20:07.734Z"
   },
   {
    "duration": 5,
    "start_time": "2024-03-12T09:35:08.327Z"
   },
   {
    "duration": 6,
    "start_time": "2024-03-12T09:35:08.333Z"
   },
   {
    "duration": 126794,
    "start_time": "2024-03-12T09:35:08.341Z"
   },
   {
    "duration": 1789,
    "start_time": "2024-03-12T09:37:15.137Z"
   },
   {
    "duration": 2,
    "start_time": "2024-03-12T09:37:16.933Z"
   },
   {
    "duration": 653,
    "start_time": "2024-03-12T09:37:16.937Z"
   },
   {
    "duration": 3,
    "start_time": "2024-03-12T09:37:17.592Z"
   },
   {
    "duration": 11,
    "start_time": "2024-03-12T09:37:17.596Z"
   },
   {
    "duration": 103,
    "start_time": "2024-03-12T09:37:17.617Z"
   },
   {
    "duration": 3,
    "start_time": "2024-03-12T09:37:17.721Z"
   },
   {
    "duration": 243406,
    "start_time": "2024-03-12T09:37:17.726Z"
   },
   {
    "duration": 3,
    "start_time": "2024-03-12T09:41:21.135Z"
   },
   {
    "duration": 4,
    "start_time": "2024-03-12T09:41:21.140Z"
   },
   {
    "duration": 8582,
    "start_time": "2024-03-12T09:41:21.146Z"
   },
   {
    "duration": 2216,
    "start_time": "2024-03-12T09:41:29.730Z"
   },
   {
    "duration": 71,
    "start_time": "2024-03-12T09:41:31.948Z"
   },
   {
    "duration": 46,
    "start_time": "2024-03-12T09:41:32.021Z"
   },
   {
    "duration": 37,
    "start_time": "2024-03-12T09:41:32.068Z"
   },
   {
    "duration": 20,
    "start_time": "2024-03-12T09:41:32.107Z"
   },
   {
    "duration": 50,
    "start_time": "2024-03-12T09:41:32.129Z"
   },
   {
    "duration": 757,
    "start_time": "2024-03-12T09:41:32.180Z"
   },
   {
    "duration": 8,
    "start_time": "2024-03-12T09:41:32.939Z"
   },
   {
    "duration": 7,
    "start_time": "2024-03-12T09:42:16.161Z"
   },
   {
    "duration": 11,
    "start_time": "2024-03-12T09:42:16.169Z"
   },
   {
    "duration": 17,
    "start_time": "2024-03-12T09:42:16.181Z"
   },
   {
    "duration": 2953,
    "start_time": "2024-03-12T09:42:16.200Z"
   },
   {
    "duration": 1250,
    "start_time": "2024-03-12T09:42:19.155Z"
   },
   {
    "duration": 856,
    "start_time": "2024-03-12T09:42:20.406Z"
   },
   {
    "duration": 254,
    "start_time": "2024-03-12T09:42:21.264Z"
   },
   {
    "duration": 482,
    "start_time": "2024-03-12T09:42:21.520Z"
   },
   {
    "duration": 969,
    "start_time": "2024-03-12T09:42:22.004Z"
   },
   {
    "duration": 130,
    "start_time": "2024-03-12T09:42:22.976Z"
   },
   {
    "duration": 10,
    "start_time": "2024-03-12T09:42:23.108Z"
   },
   {
    "duration": 14462,
    "start_time": "2024-03-12T09:42:23.119Z"
   },
   {
    "duration": 239,
    "start_time": "2024-03-12T09:42:37.582Z"
   },
   {
    "duration": 392,
    "start_time": "2024-03-12T09:42:37.823Z"
   },
   {
    "duration": 15574,
    "start_time": "2024-03-12T09:42:38.218Z"
   },
   {
    "duration": 174,
    "start_time": "2024-03-12T09:42:53.794Z"
   },
   {
    "duration": 170,
    "start_time": "2024-03-12T09:42:53.970Z"
   },
   {
    "duration": 79,
    "start_time": "2024-03-12T09:42:54.141Z"
   },
   {
    "duration": 273,
    "start_time": "2024-03-12T09:42:54.222Z"
   },
   {
    "duration": 73,
    "start_time": "2024-03-12T09:42:54.496Z"
   },
   {
    "duration": 248,
    "start_time": "2024-03-12T09:42:54.570Z"
   },
   {
    "duration": 1201,
    "start_time": "2024-03-12T09:42:54.819Z"
   },
   {
    "duration": 279,
    "start_time": "2024-03-12T09:42:56.022Z"
   },
   {
    "duration": 175,
    "start_time": "2024-03-12T09:42:56.303Z"
   },
   {
    "duration": 121,
    "start_time": "2024-03-12T09:42:56.479Z"
   },
   {
    "duration": 27,
    "start_time": "2024-03-12T09:42:56.601Z"
   },
   {
    "duration": 45,
    "start_time": "2024-03-12T09:42:56.630Z"
   },
   {
    "duration": 37,
    "start_time": "2024-03-12T09:42:56.680Z"
   },
   {
    "duration": 124,
    "start_time": "2024-03-12T09:42:56.718Z"
   },
   {
    "duration": 14,
    "start_time": "2024-03-12T09:42:56.844Z"
   },
   {
    "duration": 68,
    "start_time": "2024-03-12T09:42:56.860Z"
   },
   {
    "duration": 18,
    "start_time": "2024-03-12T09:42:56.930Z"
   },
   {
    "duration": 169,
    "start_time": "2024-03-12T09:42:56.949Z"
   },
   {
    "duration": 26,
    "start_time": "2024-03-12T09:42:57.120Z"
   },
   {
    "duration": 16,
    "start_time": "2024-03-12T09:42:57.147Z"
   },
   {
    "duration": 63,
    "start_time": "2024-03-12T09:42:57.165Z"
   },
   {
    "duration": 92,
    "start_time": "2024-03-12T09:42:57.229Z"
   },
   {
    "duration": 370,
    "start_time": "2024-03-12T09:42:57.323Z"
   },
   {
    "duration": 349,
    "start_time": "2024-03-12T09:42:57.695Z"
   },
   {
    "duration": 53,
    "start_time": "2024-03-12T09:42:58.046Z"
   },
   {
    "duration": 33,
    "start_time": "2024-03-12T09:42:58.101Z"
   },
   {
    "duration": 105,
    "start_time": "2024-03-12T09:42:58.135Z"
   },
   {
    "duration": 35,
    "start_time": "2024-03-12T09:42:58.241Z"
   },
   {
    "duration": 261,
    "start_time": "2024-03-12T09:42:58.278Z"
   },
   {
    "duration": 11,
    "start_time": "2024-03-12T09:42:58.540Z"
   },
   {
    "duration": 176,
    "start_time": "2024-03-12T09:42:58.553Z"
   },
   {
    "duration": 4,
    "start_time": "2024-03-12T09:42:58.730Z"
   },
   {
    "duration": 109,
    "start_time": "2024-03-12T09:42:58.735Z"
   },
   {
    "duration": 17,
    "start_time": "2024-03-12T09:42:58.846Z"
   },
   {
    "duration": 4,
    "start_time": "2024-03-12T09:42:58.866Z"
   },
   {
    "duration": 16,
    "start_time": "2024-03-12T09:42:58.872Z"
   },
   {
    "duration": 4,
    "start_time": "2024-03-12T09:42:58.890Z"
   },
   {
    "duration": 22,
    "start_time": "2024-03-12T09:42:58.896Z"
   },
   {
    "duration": 3,
    "start_time": "2024-03-12T09:42:58.920Z"
   },
   {
    "duration": 4,
    "start_time": "2024-03-12T09:42:58.925Z"
   },
   {
    "duration": 5,
    "start_time": "2024-03-12T09:42:58.930Z"
   },
   {
    "duration": 5,
    "start_time": "2024-03-12T09:42:58.937Z"
   },
   {
    "duration": 4,
    "start_time": "2024-03-12T09:42:58.943Z"
   },
   {
    "duration": 7,
    "start_time": "2024-03-12T09:42:58.948Z"
   },
   {
    "duration": 220308,
    "start_time": "2024-03-12T09:42:58.957Z"
   },
   {
    "duration": 13,
    "start_time": "2024-03-12T09:46:39.267Z"
   },
   {
    "duration": 8,
    "start_time": "2024-03-12T09:46:39.281Z"
   },
   {
    "duration": 19026,
    "start_time": "2024-03-12T09:46:39.291Z"
   },
   {
    "duration": 1403,
    "start_time": "2024-03-12T09:46:58.319Z"
   },
   {
    "duration": 4,
    "start_time": "2024-03-12T09:46:59.724Z"
   },
   {
    "duration": 12,
    "start_time": "2024-03-12T09:46:59.818Z"
   },
   {
    "duration": 19704,
    "start_time": "2024-03-12T09:46:59.832Z"
   },
   {
    "duration": 12,
    "start_time": "2024-03-12T09:47:19.537Z"
   },
   {
    "duration": 6,
    "start_time": "2024-03-12T09:47:19.551Z"
   },
   {
    "duration": 467,
    "start_time": "2024-03-12T09:47:19.558Z"
   },
   {
    "duration": 245,
    "start_time": "2024-03-12T09:47:20.026Z"
   },
   {
    "duration": 2,
    "start_time": "2024-03-12T09:47:20.273Z"
   },
   {
    "duration": 13,
    "start_time": "2024-03-12T09:47:20.276Z"
   },
   {
    "duration": 7,
    "start_time": "2024-03-12T09:47:20.290Z"
   },
   {
    "duration": 880729,
    "start_time": "2024-03-12T09:47:20.299Z"
   },
   {
    "duration": 4,
    "start_time": "2024-03-12T10:02:01.030Z"
   },
   {
    "duration": 17,
    "start_time": "2024-03-12T10:02:01.036Z"
   },
   {
    "duration": 125033,
    "start_time": "2024-03-12T10:02:01.054Z"
   },
   {
    "duration": 1781,
    "start_time": "2024-03-12T10:04:06.089Z"
   },
   {
    "duration": 2,
    "start_time": "2024-03-12T10:04:07.872Z"
   },
   {
    "duration": 3,
    "start_time": "2024-03-12T10:04:07.876Z"
   },
   {
    "duration": 7,
    "start_time": "2024-03-12T10:04:07.884Z"
   },
   {
    "duration": 94,
    "start_time": "2024-03-12T10:04:07.892Z"
   },
   {
    "duration": 3,
    "start_time": "2024-03-12T10:04:07.988Z"
   },
   {
    "duration": 248337,
    "start_time": "2024-03-12T10:04:07.992Z"
   },
   {
    "duration": 5,
    "start_time": "2024-03-12T10:08:16.330Z"
   },
   {
    "duration": 6,
    "start_time": "2024-03-12T10:08:16.336Z"
   },
   {
    "duration": 8382,
    "start_time": "2024-03-12T10:08:16.343Z"
   },
   {
    "duration": 2297,
    "start_time": "2024-03-12T10:08:24.727Z"
   },
   {
    "duration": 3,
    "start_time": "2024-03-12T10:08:27.026Z"
   },
   {
    "duration": 7,
    "start_time": "2024-03-12T10:08:27.030Z"
   },
   {
    "duration": 11,
    "start_time": "2024-03-12T10:08:27.038Z"
   },
   {
    "duration": 4,
    "start_time": "2024-03-12T10:08:27.051Z"
   },
   {
    "duration": 73,
    "start_time": "2024-03-12T10:08:27.057Z"
   },
   {
    "duration": 795,
    "start_time": "2024-03-12T10:08:27.132Z"
   },
   {
    "duration": 6,
    "start_time": "2024-03-12T10:08:27.929Z"
   },
   {
    "duration": 7,
    "start_time": "2024-03-12T10:18:48.188Z"
   },
   {
    "duration": 7,
    "start_time": "2024-03-12T10:18:48.196Z"
   },
   {
    "duration": 5,
    "start_time": "2024-03-12T10:18:48.204Z"
   },
   {
    "duration": 2920,
    "start_time": "2024-03-12T10:18:48.210Z"
   },
   {
    "duration": 1490,
    "start_time": "2024-03-12T10:18:51.132Z"
   },
   {
    "duration": 871,
    "start_time": "2024-03-12T10:18:52.624Z"
   },
   {
    "duration": 267,
    "start_time": "2024-03-12T10:18:53.496Z"
   },
   {
    "duration": 448,
    "start_time": "2024-03-12T10:18:53.765Z"
   },
   {
    "duration": 913,
    "start_time": "2024-03-12T10:18:54.217Z"
   },
   {
    "duration": 138,
    "start_time": "2024-03-12T10:18:55.132Z"
   },
   {
    "duration": 4,
    "start_time": "2024-03-12T10:18:55.272Z"
   },
   {
    "duration": 13947,
    "start_time": "2024-03-12T10:18:55.278Z"
   },
   {
    "duration": 227,
    "start_time": "2024-03-12T10:19:09.226Z"
   },
   {
    "duration": 401,
    "start_time": "2024-03-12T10:19:09.455Z"
   },
   {
    "duration": 14790,
    "start_time": "2024-03-12T10:19:09.857Z"
   },
   {
    "duration": 171,
    "start_time": "2024-03-12T10:19:24.649Z"
   },
   {
    "duration": 149,
    "start_time": "2024-03-12T10:19:24.822Z"
   },
   {
    "duration": 78,
    "start_time": "2024-03-12T10:19:24.973Z"
   },
   {
    "duration": 268,
    "start_time": "2024-03-12T10:19:25.052Z"
   },
   {
    "duration": 66,
    "start_time": "2024-03-12T10:19:25.322Z"
   },
   {
    "duration": 269,
    "start_time": "2024-03-12T10:19:25.390Z"
   },
   {
    "duration": 1169,
    "start_time": "2024-03-12T10:19:25.661Z"
   },
   {
    "duration": 252,
    "start_time": "2024-03-12T10:19:26.834Z"
   },
   {
    "duration": 175,
    "start_time": "2024-03-12T10:19:27.088Z"
   },
   {
    "duration": 101,
    "start_time": "2024-03-12T10:19:27.264Z"
   },
   {
    "duration": 17,
    "start_time": "2024-03-12T10:19:27.367Z"
   },
   {
    "duration": 67,
    "start_time": "2024-03-12T10:19:27.386Z"
   },
   {
    "duration": 44,
    "start_time": "2024-03-12T10:19:27.454Z"
   },
   {
    "duration": 126,
    "start_time": "2024-03-12T10:19:27.499Z"
   },
   {
    "duration": 14,
    "start_time": "2024-03-12T10:19:27.627Z"
   },
   {
    "duration": 56,
    "start_time": "2024-03-12T10:19:27.642Z"
   },
   {
    "duration": 9,
    "start_time": "2024-03-12T10:19:27.718Z"
   },
   {
    "duration": 89,
    "start_time": "2024-03-12T10:19:27.729Z"
   },
   {
    "duration": 25,
    "start_time": "2024-03-12T10:19:27.819Z"
   },
   {
    "duration": 16,
    "start_time": "2024-03-12T10:19:27.846Z"
   },
   {
    "duration": 24,
    "start_time": "2024-03-12T10:19:27.863Z"
   },
   {
    "duration": 63,
    "start_time": "2024-03-12T10:19:27.889Z"
   },
   {
    "duration": 374,
    "start_time": "2024-03-12T10:19:27.953Z"
   },
   {
    "duration": 367,
    "start_time": "2024-03-12T10:19:28.329Z"
   },
   {
    "duration": 53,
    "start_time": "2024-03-12T10:19:28.698Z"
   },
   {
    "duration": 21,
    "start_time": "2024-03-12T10:19:28.752Z"
   },
   {
    "duration": 114,
    "start_time": "2024-03-12T10:19:28.775Z"
   },
   {
    "duration": 41,
    "start_time": "2024-03-12T10:19:28.890Z"
   },
   {
    "duration": 245,
    "start_time": "2024-03-12T10:19:28.933Z"
   },
   {
    "duration": 10,
    "start_time": "2024-03-12T10:19:29.179Z"
   },
   {
    "duration": 165,
    "start_time": "2024-03-12T10:19:29.191Z"
   },
   {
    "duration": 3,
    "start_time": "2024-03-12T10:19:29.358Z"
   },
   {
    "duration": 112,
    "start_time": "2024-03-12T10:19:29.363Z"
   },
   {
    "duration": 11,
    "start_time": "2024-03-12T10:19:29.477Z"
   },
   {
    "duration": 3,
    "start_time": "2024-03-12T10:19:29.490Z"
   },
   {
    "duration": 3,
    "start_time": "2024-03-12T10:19:29.517Z"
   },
   {
    "duration": 14,
    "start_time": "2024-03-12T10:19:29.522Z"
   },
   {
    "duration": 14,
    "start_time": "2024-03-12T10:19:29.537Z"
   },
   {
    "duration": 4,
    "start_time": "2024-03-12T10:19:29.553Z"
   },
   {
    "duration": 5,
    "start_time": "2024-03-12T10:19:29.558Z"
   },
   {
    "duration": 4,
    "start_time": "2024-03-12T10:19:29.564Z"
   },
   {
    "duration": 6,
    "start_time": "2024-03-12T10:19:29.570Z"
   },
   {
    "duration": 5,
    "start_time": "2024-03-12T10:19:29.577Z"
   },
   {
    "duration": 4,
    "start_time": "2024-03-12T10:19:29.583Z"
   },
   {
    "duration": 214185,
    "start_time": "2024-03-12T10:19:29.588Z"
   },
   {
    "duration": 55,
    "start_time": "2024-03-12T10:23:03.774Z"
   },
   {
    "duration": 3,
    "start_time": "2024-03-12T10:23:03.831Z"
   },
   {
    "duration": 15783,
    "start_time": "2024-03-12T10:23:03.836Z"
   },
   {
    "duration": 1198,
    "start_time": "2024-03-12T10:23:19.621Z"
   },
   {
    "duration": 91,
    "start_time": "2024-03-12T10:23:20.827Z"
   },
   {
    "duration": 6,
    "start_time": "2024-03-12T10:23:20.920Z"
   },
   {
    "duration": 19112,
    "start_time": "2024-03-12T10:23:20.927Z"
   },
   {
    "duration": 13,
    "start_time": "2024-03-12T10:23:40.040Z"
   },
   {
    "duration": 13,
    "start_time": "2024-03-12T10:23:40.055Z"
   },
   {
    "duration": 430,
    "start_time": "2024-03-12T10:23:40.070Z"
   },
   {
    "duration": 247,
    "start_time": "2024-03-12T10:23:40.502Z"
   },
   {
    "duration": 3,
    "start_time": "2024-03-12T10:23:40.751Z"
   },
   {
    "duration": 5,
    "start_time": "2024-03-12T10:23:40.755Z"
   },
   {
    "duration": 4,
    "start_time": "2024-03-12T10:23:40.761Z"
   },
   {
    "duration": 1644989,
    "start_time": "2024-03-12T10:23:40.766Z"
   },
   {
    "duration": 4,
    "start_time": "2024-03-12T10:51:05.756Z"
   },
   {
    "duration": 4,
    "start_time": "2024-03-12T10:51:05.761Z"
   },
   {
    "duration": 127830,
    "start_time": "2024-03-12T10:51:05.767Z"
   },
   {
    "duration": 1761,
    "start_time": "2024-03-12T10:53:13.599Z"
   },
   {
    "duration": 2,
    "start_time": "2024-03-12T10:53:15.362Z"
   },
   {
    "duration": 16,
    "start_time": "2024-03-12T10:53:15.366Z"
   },
   {
    "duration": 15,
    "start_time": "2024-03-12T10:53:15.383Z"
   },
   {
    "duration": 80,
    "start_time": "2024-03-12T10:53:15.400Z"
   },
   {
    "duration": 3,
    "start_time": "2024-03-12T10:53:15.481Z"
   },
   {
    "duration": 280165,
    "start_time": "2024-03-12T10:53:15.485Z"
   },
   {
    "duration": 5,
    "start_time": "2024-03-12T10:57:55.652Z"
   },
   {
    "duration": 4,
    "start_time": "2024-03-12T10:57:55.718Z"
   },
   {
    "duration": 7900,
    "start_time": "2024-03-12T10:57:55.724Z"
   },
   {
    "duration": 2203,
    "start_time": "2024-03-12T10:58:03.627Z"
   },
   {
    "duration": 3,
    "start_time": "2024-03-12T10:58:05.834Z"
   },
   {
    "duration": 6,
    "start_time": "2024-03-12T10:58:05.839Z"
   },
   {
    "duration": 10,
    "start_time": "2024-03-12T10:58:05.850Z"
   },
   {
    "duration": 6,
    "start_time": "2024-03-12T10:58:05.862Z"
   },
   {
    "duration": 71,
    "start_time": "2024-03-12T10:58:05.870Z"
   },
   {
    "duration": 795,
    "start_time": "2024-03-12T10:58:05.943Z"
   },
   {
    "duration": 6,
    "start_time": "2024-03-12T10:58:06.739Z"
   }
  ],
  "kernelspec": {
   "display_name": "Python 3 (ipykernel)",
   "language": "python",
   "name": "python3"
  },
  "language_info": {
   "codemirror_mode": {
    "name": "ipython",
    "version": 3
   },
   "file_extension": ".py",
   "mimetype": "text/x-python",
   "name": "python",
   "nbconvert_exporter": "python",
   "pygments_lexer": "ipython3",
   "version": "3.9.5"
  },
  "toc": {
   "base_numbering": 1,
   "nav_menu": {},
   "number_sections": true,
   "sideBar": true,
   "skip_h1_title": true,
   "title_cell": "Table of Contents",
   "title_sidebar": "Contents",
   "toc_cell": false,
   "toc_position": {
    "height": "calc(100% - 180px)",
    "left": "10px",
    "top": "150px",
    "width": "297.6px"
   },
   "toc_section_display": true,
   "toc_window_display": true
  }
 },
 "nbformat": 4,
 "nbformat_minor": 2
}
