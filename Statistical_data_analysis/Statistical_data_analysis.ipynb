{
 "cells": [
  {
   "cell_type": "markdown",
   "id": "25d9963e",
   "metadata": {},
   "source": [
    "# Анализ сервиса аренды самокатов GoFast\n",
    "\n",
    "Нам передали некоторые данные о пользователях популярного сервиса аренды самакатов GoFast из нескольких городов, а так же об их поездках. Нужно проанализировать данные и проверьте некоторые гипотезы, которые могут помочь бизнесу вырасти.\n",
    "\n",
    "Чтобы совершать поездки по городу, пользователи сервиса GoFast пользуются мобильным приложением. Сервисом можно пользоваться:\n",
    "- без подписки\n",
    "   - абонентская плата отсутствует;\n",
    "   - стоимость одной минуты поездки — 8 рублей;\n",
    "   - стоимость старта (начала поездки) — 50 рублей;\n",
    "- с подпиской Ultra\n",
    "   - абонентская плата — 199 рублей в месяц;\n",
    "   - стоимость одной минуты поездки — 6 рублей;\n",
    "   - стоимость старта — бесплатно."
   ]
  },
  {
   "cell_type": "markdown",
   "id": "8875c230",
   "metadata": {},
   "source": [
    "**Описание данных**\n",
    "\n",
    "*В основных данных есть информация о пользователях, их поездках и подписках.*\n",
    "\n",
    "**Пользователи** — `users_go.csv`\n",
    "\n",
    "- `user_id` — уникальный идентификатор пользователя\n",
    "- `name` — имя пользователя\n",
    "- `age` — возраст\n",
    "- `city` — город\n",
    "- `subscription_type` — тип подписки (free, ultra)\n",
    "\n",
    "**Поeздки** — `rides_go.csv`\n",
    "\n",
    "- `user_id` — уникальный идентификатор пользователя\n",
    "- `distance` — расстояние, которое пользователь проехал в текущей сессии (в метрах)\n",
    "- `duration` — продолжительность сессии (в минутах) — время с того момента, как пользователь нажал кнопку «Начать поездку» до момента, как он нажал кнопку «Завершить поездку»\n",
    "- `date` — дата совершения поездки\n",
    "\n",
    "**Подписки** — `subscriptions_go.csv`\n",
    "\n",
    "- `subscription_type` — тип подписки\n",
    "- `minute_price` — стоимость одной минуты поездки по данной подписке\n",
    "- `start_ride_price` — стоимость начала поездки\n",
    "- `subscription_fee` — стоимость ежемесячного платежа\n",
    "\n",
    "**План работы**\n",
    "\n",
    "**Шаг 1. Загрузка данных**\n",
    "\n",
    "*1.1 Считааем CSV-файлы с данными с помощью библиотеки pandas и сохраним их в датафреймы. Пути к файлам:*\n",
    "\n",
    "*1.2 Выведем первые строки каждого набора данных. Изучим общую информацию о каждом датафрейме.*\n",
    "\n",
    "**Шаг 2. Предобработка данных**\n",
    "\n",
    "*2.1 Приведем столбец `date` к типу даты pandas.*\n",
    "\n",
    "*2.2 Создади новый столбец с номером месяца на основе столбца `date`.*\n",
    "\n",
    "*2.3 Проверим наличие пропущенных значений и дубликатов в датафреймах. Обработаем их, если такие значения присутствуют.*\n",
    "\n",
    "**Шаг 3. Исследовательский анализ данных**\n",
    "\n",
    "***Опишим и визуализируем общую информацию о пользователях и поездках:***\n",
    "\n",
    "- *3.1 частота встречаемости городов;*\n",
    "- *3.2 соотношение пользователей с подпиской и без подписки;*\n",
    "- *3.3 возраст пользователей;*\n",
    "- *3.4 расстояние, которое пользователь преодолел за одну поездку;*\n",
    "- *3.5 продолжительность поездок.*\n",
    "\n",
    "**Шаг 4. Объединение данных**\n",
    "\n",
    "*4.1 Объединим данные о пользователях, поездках и подписках в один датафрейм. Для этого воспользуемся методом `merge()`.*\n",
    "\n",
    "*4.2 Создадим ещё два датафрейма из датафрейма, созданного на этапе 4.1:*\n",
    "\n",
    "- c данными о пользователях без подписки;\n",
    "- с данными о пользователях с подпиской.\n",
    "\n",
    "*4.3 Визуализируем информацию о расстоянии и времени поездок для пользователей обеих категорий.*\n",
    "\n",
    "**Шаг 5. Подсчёт выручки**\n",
    "\n",
    "*5.1 Создадим датафрейм с агрегированными данными о поездках на основе датафрейма с объединёнными данными из шага 4.1: найдем суммарное расстояние, количество поездок и суммарное время для каждого пользователя за каждый месяц.*\n",
    "\n",
    "*5.2 В этот же датафрейм добавим столбец с помесячной выручкой, которую принёс каждый пользователь.*\n",
    "\n",
    "**Шаг 6. Проверка гипотез**\n",
    "\n",
    "*6.1 Проверим некоторые гипотезы о различиях в данных пользователей с подпиской и без нее.*\n",
    "\n",
    "**Шаг 7. Распределения**\n",
    "\n",
    "*7.1 Сформулируем ответ на вопрос о количестве промокодов, которые нужно раздать, чтобы вероятность не выполнить влан: **пользователей продливших подписку после бесплатного периода более 100**, была примерно 5%.\n",
    "\n",
    "*7.2 С помощью аппроксимации оценим вероятность того, что из 1 млн уведомление откроют не более 399,5 тыс. пользователей.*\n",
    "\n",
    "**Шаг 8. Общие выводы**"
   ]
  },
  {
   "cell_type": "code",
   "execution_count": 1,
   "id": "72576667",
   "metadata": {},
   "outputs": [],
   "source": [
    "import pandas as pd\n",
    "import matplotlib.pyplot as plt\n",
    "import seaborn\n",
    "import numpy as np\n",
    "from scipy import stats as st"
   ]
  },
  {
   "cell_type": "markdown",
   "id": "c42cbe00",
   "metadata": {},
   "source": [
    "#### Шаг 1. Загрузка данных"
   ]
  },
  {
   "cell_type": "markdown",
   "id": "a9be9ebe",
   "metadata": {},
   "source": [
    "##### Загрузка и изучение данных о пользователях сервиса GoFast"
   ]
  },
  {
   "cell_type": "code",
   "execution_count": 2,
   "id": "eff9f206",
   "metadata": {},
   "outputs": [],
   "source": [
    "data_users = pd.read_csv('/datasets/users_go.csv')"
   ]
  },
  {
   "cell_type": "code",
   "execution_count": 3,
   "id": "f77e9611",
   "metadata": {},
   "outputs": [
    {
     "data": {
      "text/html": [
       "<div>\n",
       "<style scoped>\n",
       "    .dataframe tbody tr th:only-of-type {\n",
       "        vertical-align: middle;\n",
       "    }\n",
       "\n",
       "    .dataframe tbody tr th {\n",
       "        vertical-align: top;\n",
       "    }\n",
       "\n",
       "    .dataframe thead th {\n",
       "        text-align: right;\n",
       "    }\n",
       "</style>\n",
       "<table border=\"1\" class=\"dataframe\">\n",
       "  <thead>\n",
       "    <tr style=\"text-align: right;\">\n",
       "      <th></th>\n",
       "      <th>user_id</th>\n",
       "      <th>name</th>\n",
       "      <th>age</th>\n",
       "      <th>city</th>\n",
       "      <th>subscription_type</th>\n",
       "    </tr>\n",
       "  </thead>\n",
       "  <tbody>\n",
       "    <tr>\n",
       "      <th>0</th>\n",
       "      <td>1</td>\n",
       "      <td>Кира</td>\n",
       "      <td>22</td>\n",
       "      <td>Тюмень</td>\n",
       "      <td>ultra</td>\n",
       "    </tr>\n",
       "    <tr>\n",
       "      <th>1</th>\n",
       "      <td>2</td>\n",
       "      <td>Станислав</td>\n",
       "      <td>31</td>\n",
       "      <td>Омск</td>\n",
       "      <td>ultra</td>\n",
       "    </tr>\n",
       "    <tr>\n",
       "      <th>2</th>\n",
       "      <td>3</td>\n",
       "      <td>Алексей</td>\n",
       "      <td>20</td>\n",
       "      <td>Москва</td>\n",
       "      <td>ultra</td>\n",
       "    </tr>\n",
       "    <tr>\n",
       "      <th>3</th>\n",
       "      <td>4</td>\n",
       "      <td>Константин</td>\n",
       "      <td>26</td>\n",
       "      <td>Ростов-на-Дону</td>\n",
       "      <td>ultra</td>\n",
       "    </tr>\n",
       "    <tr>\n",
       "      <th>4</th>\n",
       "      <td>5</td>\n",
       "      <td>Адель</td>\n",
       "      <td>28</td>\n",
       "      <td>Омск</td>\n",
       "      <td>ultra</td>\n",
       "    </tr>\n",
       "  </tbody>\n",
       "</table>\n",
       "</div>"
      ],
      "text/plain": [
       "   user_id        name  age            city subscription_type\n",
       "0        1        Кира   22          Тюмень             ultra\n",
       "1        2   Станислав   31            Омск             ultra\n",
       "2        3     Алексей   20          Москва             ultra\n",
       "3        4  Константин   26  Ростов-на-Дону             ultra\n",
       "4        5       Адель   28            Омск             ultra"
      ]
     },
     "execution_count": 3,
     "metadata": {},
     "output_type": "execute_result"
    }
   ],
   "source": [
    "data_users.head()"
   ]
  },
  {
   "cell_type": "code",
   "execution_count": 4,
   "id": "34a5f4e1",
   "metadata": {},
   "outputs": [
    {
     "name": "stdout",
     "output_type": "stream",
     "text": [
      "<class 'pandas.core.frame.DataFrame'>\n",
      "RangeIndex: 1565 entries, 0 to 1564\n",
      "Data columns (total 5 columns):\n",
      " #   Column             Non-Null Count  Dtype \n",
      "---  ------             --------------  ----- \n",
      " 0   user_id            1565 non-null   int64 \n",
      " 1   name               1565 non-null   object\n",
      " 2   age                1565 non-null   int64 \n",
      " 3   city               1565 non-null   object\n",
      " 4   subscription_type  1565 non-null   object\n",
      "dtypes: int64(2), object(3)\n",
      "memory usage: 61.3+ KB\n"
     ]
    }
   ],
   "source": [
    "data_users.info()"
   ]
  },
  {
   "cell_type": "code",
   "execution_count": 5,
   "id": "fe67870d",
   "metadata": {},
   "outputs": [
    {
     "data": {
      "text/html": [
       "<div>\n",
       "<style scoped>\n",
       "    .dataframe tbody tr th:only-of-type {\n",
       "        vertical-align: middle;\n",
       "    }\n",
       "\n",
       "    .dataframe tbody tr th {\n",
       "        vertical-align: top;\n",
       "    }\n",
       "\n",
       "    .dataframe thead th {\n",
       "        text-align: right;\n",
       "    }\n",
       "</style>\n",
       "<table border=\"1\" class=\"dataframe\">\n",
       "  <thead>\n",
       "    <tr style=\"text-align: right;\">\n",
       "      <th></th>\n",
       "      <th>user_id</th>\n",
       "      <th>age</th>\n",
       "    </tr>\n",
       "  </thead>\n",
       "  <tbody>\n",
       "    <tr>\n",
       "      <th>count</th>\n",
       "      <td>1565.000000</td>\n",
       "      <td>1565.000000</td>\n",
       "    </tr>\n",
       "    <tr>\n",
       "      <th>mean</th>\n",
       "      <td>762.633866</td>\n",
       "      <td>24.922045</td>\n",
       "    </tr>\n",
       "    <tr>\n",
       "      <th>std</th>\n",
       "      <td>443.260155</td>\n",
       "      <td>4.553496</td>\n",
       "    </tr>\n",
       "    <tr>\n",
       "      <th>min</th>\n",
       "      <td>1.000000</td>\n",
       "      <td>12.000000</td>\n",
       "    </tr>\n",
       "    <tr>\n",
       "      <th>25%</th>\n",
       "      <td>378.000000</td>\n",
       "      <td>22.000000</td>\n",
       "    </tr>\n",
       "    <tr>\n",
       "      <th>50%</th>\n",
       "      <td>762.000000</td>\n",
       "      <td>25.000000</td>\n",
       "    </tr>\n",
       "    <tr>\n",
       "      <th>75%</th>\n",
       "      <td>1146.000000</td>\n",
       "      <td>28.000000</td>\n",
       "    </tr>\n",
       "    <tr>\n",
       "      <th>max</th>\n",
       "      <td>1534.000000</td>\n",
       "      <td>43.000000</td>\n",
       "    </tr>\n",
       "  </tbody>\n",
       "</table>\n",
       "</div>"
      ],
      "text/plain": [
       "           user_id          age\n",
       "count  1565.000000  1565.000000\n",
       "mean    762.633866    24.922045\n",
       "std     443.260155     4.553496\n",
       "min       1.000000    12.000000\n",
       "25%     378.000000    22.000000\n",
       "50%     762.000000    25.000000\n",
       "75%    1146.000000    28.000000\n",
       "max    1534.000000    43.000000"
      ]
     },
     "execution_count": 5,
     "metadata": {},
     "output_type": "execute_result"
    }
   ],
   "source": [
    "data_users.describe()"
   ]
  },
  {
   "cell_type": "markdown",
   "id": "e1689da7",
   "metadata": {},
   "source": [
    "##### Загрузка и изучение данных о поездках пользователей сервиса GoFast"
   ]
  },
  {
   "cell_type": "code",
   "execution_count": 6,
   "id": "3563563e",
   "metadata": {},
   "outputs": [
    {
     "data": {
      "text/html": [
       "<div>\n",
       "<style scoped>\n",
       "    .dataframe tbody tr th:only-of-type {\n",
       "        vertical-align: middle;\n",
       "    }\n",
       "\n",
       "    .dataframe tbody tr th {\n",
       "        vertical-align: top;\n",
       "    }\n",
       "\n",
       "    .dataframe thead th {\n",
       "        text-align: right;\n",
       "    }\n",
       "</style>\n",
       "<table border=\"1\" class=\"dataframe\">\n",
       "  <thead>\n",
       "    <tr style=\"text-align: right;\">\n",
       "      <th></th>\n",
       "      <th>user_id</th>\n",
       "      <th>distance</th>\n",
       "      <th>duration</th>\n",
       "      <th>date</th>\n",
       "    </tr>\n",
       "  </thead>\n",
       "  <tbody>\n",
       "    <tr>\n",
       "      <th>0</th>\n",
       "      <td>1</td>\n",
       "      <td>4409.919140</td>\n",
       "      <td>25.599769</td>\n",
       "      <td>2021-01-01</td>\n",
       "    </tr>\n",
       "    <tr>\n",
       "      <th>1</th>\n",
       "      <td>1</td>\n",
       "      <td>2617.592153</td>\n",
       "      <td>15.816871</td>\n",
       "      <td>2021-01-18</td>\n",
       "    </tr>\n",
       "    <tr>\n",
       "      <th>2</th>\n",
       "      <td>1</td>\n",
       "      <td>754.159807</td>\n",
       "      <td>6.232113</td>\n",
       "      <td>2021-04-20</td>\n",
       "    </tr>\n",
       "    <tr>\n",
       "      <th>3</th>\n",
       "      <td>1</td>\n",
       "      <td>2694.783254</td>\n",
       "      <td>18.511000</td>\n",
       "      <td>2021-08-11</td>\n",
       "    </tr>\n",
       "    <tr>\n",
       "      <th>4</th>\n",
       "      <td>1</td>\n",
       "      <td>4028.687306</td>\n",
       "      <td>26.265803</td>\n",
       "      <td>2021-08-28</td>\n",
       "    </tr>\n",
       "    <tr>\n",
       "      <th>...</th>\n",
       "      <td>...</td>\n",
       "      <td>...</td>\n",
       "      <td>...</td>\n",
       "      <td>...</td>\n",
       "    </tr>\n",
       "    <tr>\n",
       "      <th>95</th>\n",
       "      <td>9</td>\n",
       "      <td>2717.035685</td>\n",
       "      <td>10.520886</td>\n",
       "      <td>2021-08-04</td>\n",
       "    </tr>\n",
       "    <tr>\n",
       "      <th>96</th>\n",
       "      <td>9</td>\n",
       "      <td>2536.038610</td>\n",
       "      <td>13.144154</td>\n",
       "      <td>2021-09-20</td>\n",
       "    </tr>\n",
       "    <tr>\n",
       "      <th>97</th>\n",
       "      <td>9</td>\n",
       "      <td>3672.893449</td>\n",
       "      <td>12.475908</td>\n",
       "      <td>2021-10-30</td>\n",
       "    </tr>\n",
       "    <tr>\n",
       "      <th>98</th>\n",
       "      <td>9</td>\n",
       "      <td>2729.062718</td>\n",
       "      <td>21.645314</td>\n",
       "      <td>2021-12-18</td>\n",
       "    </tr>\n",
       "    <tr>\n",
       "      <th>99</th>\n",
       "      <td>10</td>\n",
       "      <td>3202.021507</td>\n",
       "      <td>9.624872</td>\n",
       "      <td>2021-02-04</td>\n",
       "    </tr>\n",
       "  </tbody>\n",
       "</table>\n",
       "<p>100 rows × 4 columns</p>\n",
       "</div>"
      ],
      "text/plain": [
       "    user_id     distance   duration        date\n",
       "0         1  4409.919140  25.599769  2021-01-01\n",
       "1         1  2617.592153  15.816871  2021-01-18\n",
       "2         1   754.159807   6.232113  2021-04-20\n",
       "3         1  2694.783254  18.511000  2021-08-11\n",
       "4         1  4028.687306  26.265803  2021-08-28\n",
       "..      ...          ...        ...         ...\n",
       "95        9  2717.035685  10.520886  2021-08-04\n",
       "96        9  2536.038610  13.144154  2021-09-20\n",
       "97        9  3672.893449  12.475908  2021-10-30\n",
       "98        9  2729.062718  21.645314  2021-12-18\n",
       "99       10  3202.021507   9.624872  2021-02-04\n",
       "\n",
       "[100 rows x 4 columns]"
      ]
     },
     "execution_count": 6,
     "metadata": {},
     "output_type": "execute_result"
    }
   ],
   "source": [
    "data_riders = pd.read_csv('/datasets/rides_go.csv')\n",
    "data_riders.head(100)"
   ]
  },
  {
   "cell_type": "code",
   "execution_count": 7,
   "id": "08ff8fc9",
   "metadata": {},
   "outputs": [
    {
     "name": "stdout",
     "output_type": "stream",
     "text": [
      "<class 'pandas.core.frame.DataFrame'>\n",
      "RangeIndex: 18068 entries, 0 to 18067\n",
      "Data columns (total 4 columns):\n",
      " #   Column    Non-Null Count  Dtype  \n",
      "---  ------    --------------  -----  \n",
      " 0   user_id   18068 non-null  int64  \n",
      " 1   distance  18068 non-null  float64\n",
      " 2   duration  18068 non-null  float64\n",
      " 3   date      18068 non-null  object \n",
      "dtypes: float64(2), int64(1), object(1)\n",
      "memory usage: 564.8+ KB\n"
     ]
    }
   ],
   "source": [
    "data_riders.info()"
   ]
  },
  {
   "cell_type": "code",
   "execution_count": 8,
   "id": "e4124ed0",
   "metadata": {},
   "outputs": [
    {
     "data": {
      "text/html": [
       "<div>\n",
       "<style scoped>\n",
       "    .dataframe tbody tr th:only-of-type {\n",
       "        vertical-align: middle;\n",
       "    }\n",
       "\n",
       "    .dataframe tbody tr th {\n",
       "        vertical-align: top;\n",
       "    }\n",
       "\n",
       "    .dataframe thead th {\n",
       "        text-align: right;\n",
       "    }\n",
       "</style>\n",
       "<table border=\"1\" class=\"dataframe\">\n",
       "  <thead>\n",
       "    <tr style=\"text-align: right;\">\n",
       "      <th></th>\n",
       "      <th>user_id</th>\n",
       "      <th>distance</th>\n",
       "      <th>duration</th>\n",
       "    </tr>\n",
       "  </thead>\n",
       "  <tbody>\n",
       "    <tr>\n",
       "      <th>count</th>\n",
       "      <td>18068.000000</td>\n",
       "      <td>18068.000000</td>\n",
       "      <td>18068.000000</td>\n",
       "    </tr>\n",
       "    <tr>\n",
       "      <th>mean</th>\n",
       "      <td>842.869936</td>\n",
       "      <td>3070.659976</td>\n",
       "      <td>17.805011</td>\n",
       "    </tr>\n",
       "    <tr>\n",
       "      <th>std</th>\n",
       "      <td>434.734317</td>\n",
       "      <td>1116.831209</td>\n",
       "      <td>6.091051</td>\n",
       "    </tr>\n",
       "    <tr>\n",
       "      <th>min</th>\n",
       "      <td>1.000000</td>\n",
       "      <td>0.855683</td>\n",
       "      <td>0.500000</td>\n",
       "    </tr>\n",
       "    <tr>\n",
       "      <th>25%</th>\n",
       "      <td>487.000000</td>\n",
       "      <td>2543.226360</td>\n",
       "      <td>13.597563</td>\n",
       "    </tr>\n",
       "    <tr>\n",
       "      <th>50%</th>\n",
       "      <td>889.000000</td>\n",
       "      <td>3133.609994</td>\n",
       "      <td>17.678395</td>\n",
       "    </tr>\n",
       "    <tr>\n",
       "      <th>75%</th>\n",
       "      <td>1213.250000</td>\n",
       "      <td>3776.222735</td>\n",
       "      <td>21.724800</td>\n",
       "    </tr>\n",
       "    <tr>\n",
       "      <th>max</th>\n",
       "      <td>1534.000000</td>\n",
       "      <td>7211.007745</td>\n",
       "      <td>40.823963</td>\n",
       "    </tr>\n",
       "  </tbody>\n",
       "</table>\n",
       "</div>"
      ],
      "text/plain": [
       "            user_id      distance      duration\n",
       "count  18068.000000  18068.000000  18068.000000\n",
       "mean     842.869936   3070.659976     17.805011\n",
       "std      434.734317   1116.831209      6.091051\n",
       "min        1.000000      0.855683      0.500000\n",
       "25%      487.000000   2543.226360     13.597563\n",
       "50%      889.000000   3133.609994     17.678395\n",
       "75%     1213.250000   3776.222735     21.724800\n",
       "max     1534.000000   7211.007745     40.823963"
      ]
     },
     "execution_count": 8,
     "metadata": {},
     "output_type": "execute_result"
    }
   ],
   "source": [
    "data_riders.describe()"
   ]
  },
  {
   "cell_type": "markdown",
   "id": "d400eceb",
   "metadata": {},
   "source": [
    "##### Загрузка и изучение данных о подписках пользователей сервиса GoFast"
   ]
  },
  {
   "cell_type": "code",
   "execution_count": 9,
   "id": "d6809789",
   "metadata": {},
   "outputs": [
    {
     "data": {
      "text/html": [
       "<div>\n",
       "<style scoped>\n",
       "    .dataframe tbody tr th:only-of-type {\n",
       "        vertical-align: middle;\n",
       "    }\n",
       "\n",
       "    .dataframe tbody tr th {\n",
       "        vertical-align: top;\n",
       "    }\n",
       "\n",
       "    .dataframe thead th {\n",
       "        text-align: right;\n",
       "    }\n",
       "</style>\n",
       "<table border=\"1\" class=\"dataframe\">\n",
       "  <thead>\n",
       "    <tr style=\"text-align: right;\">\n",
       "      <th></th>\n",
       "      <th>subscription_type</th>\n",
       "      <th>minute_price</th>\n",
       "      <th>start_ride_price</th>\n",
       "      <th>subscription_fee</th>\n",
       "    </tr>\n",
       "  </thead>\n",
       "  <tbody>\n",
       "    <tr>\n",
       "      <th>0</th>\n",
       "      <td>free</td>\n",
       "      <td>8</td>\n",
       "      <td>50</td>\n",
       "      <td>0</td>\n",
       "    </tr>\n",
       "    <tr>\n",
       "      <th>1</th>\n",
       "      <td>ultra</td>\n",
       "      <td>6</td>\n",
       "      <td>0</td>\n",
       "      <td>199</td>\n",
       "    </tr>\n",
       "  </tbody>\n",
       "</table>\n",
       "</div>"
      ],
      "text/plain": [
       "  subscription_type  minute_price  start_ride_price  subscription_fee\n",
       "0              free             8                50                 0\n",
       "1             ultra             6                 0               199"
      ]
     },
     "execution_count": 9,
     "metadata": {},
     "output_type": "execute_result"
    }
   ],
   "source": [
    "data_sub = pd.read_csv('/datasets/subscriptions_go.csv')\n",
    "data_sub.head()"
   ]
  },
  {
   "cell_type": "code",
   "execution_count": 10,
   "id": "72a3a127",
   "metadata": {},
   "outputs": [
    {
     "name": "stdout",
     "output_type": "stream",
     "text": [
      "<class 'pandas.core.frame.DataFrame'>\n",
      "RangeIndex: 2 entries, 0 to 1\n",
      "Data columns (total 4 columns):\n",
      " #   Column             Non-Null Count  Dtype \n",
      "---  ------             --------------  ----- \n",
      " 0   subscription_type  2 non-null      object\n",
      " 1   minute_price       2 non-null      int64 \n",
      " 2   start_ride_price   2 non-null      int64 \n",
      " 3   subscription_fee   2 non-null      int64 \n",
      "dtypes: int64(3), object(1)\n",
      "memory usage: 192.0+ bytes\n"
     ]
    }
   ],
   "source": [
    "data_sub.info()"
   ]
  },
  {
   "cell_type": "markdown",
   "id": "a74b8209",
   "metadata": {},
   "source": [
    "**Загрузив и рассмотрев данные можем сказать следующее:**\n",
    "\n",
    "- для каждого датафрейма ненулевых значений одинаковое количество по столбцам;\n",
    "- данные загрузились корректно;\n",
    "- названия столбцов написаны согласно \"змеиному\" регистру."
   ]
  },
  {
   "cell_type": "markdown",
   "id": "e95ebca7",
   "metadata": {},
   "source": [
    "#### Шаг 2. Предобработка данных"
   ]
  },
  {
   "cell_type": "markdown",
   "id": "e63da2d2",
   "metadata": {},
   "source": [
    "##### Проверка предоставленных датафреймов на наличие пропусков"
   ]
  },
  {
   "cell_type": "markdown",
   "id": "01057c5f",
   "metadata": {},
   "source": [
    "*Датафрейм пользователи*"
   ]
  },
  {
   "cell_type": "code",
   "execution_count": 11,
   "id": "8b5f5549",
   "metadata": {},
   "outputs": [
    {
     "data": {
      "text/plain": [
       "user_id              0\n",
       "name                 0\n",
       "age                  0\n",
       "city                 0\n",
       "subscription_type    0\n",
       "dtype: int64"
      ]
     },
     "execution_count": 11,
     "metadata": {},
     "output_type": "execute_result"
    }
   ],
   "source": [
    "data_users.isna().sum()"
   ]
  },
  {
   "cell_type": "markdown",
   "id": "b8259c3b",
   "metadata": {},
   "source": [
    "*Датафрейм поездок*"
   ]
  },
  {
   "cell_type": "code",
   "execution_count": 12,
   "id": "af6d202c",
   "metadata": {},
   "outputs": [
    {
     "data": {
      "text/plain": [
       "user_id     0\n",
       "distance    0\n",
       "duration    0\n",
       "date        0\n",
       "dtype: int64"
      ]
     },
     "execution_count": 12,
     "metadata": {},
     "output_type": "execute_result"
    }
   ],
   "source": [
    "data_riders.isna().sum()"
   ]
  },
  {
   "cell_type": "markdown",
   "id": "3b630295",
   "metadata": {},
   "source": [
    "*Датафрейм подписок*"
   ]
  },
  {
   "cell_type": "code",
   "execution_count": 13,
   "id": "7b4a4573",
   "metadata": {},
   "outputs": [
    {
     "data": {
      "text/plain": [
       "subscription_type    0\n",
       "minute_price         0\n",
       "start_ride_price     0\n",
       "subscription_fee     0\n",
       "dtype: int64"
      ]
     },
     "execution_count": 13,
     "metadata": {},
     "output_type": "execute_result"
    }
   ],
   "source": [
    "data_sub.isna().sum()"
   ]
  },
  {
   "cell_type": "markdown",
   "id": "8ee0c224",
   "metadata": {},
   "source": [
    "Пропусков в датафреймах не обнаружено"
   ]
  },
  {
   "cell_type": "markdown",
   "id": "1db49a70",
   "metadata": {},
   "source": [
    "##### Приведем столбец `date` к типу даты pandas."
   ]
  },
  {
   "cell_type": "code",
   "execution_count": 14,
   "id": "6927567d",
   "metadata": {},
   "outputs": [
    {
     "data": {
      "text/html": [
       "<div>\n",
       "<style scoped>\n",
       "    .dataframe tbody tr th:only-of-type {\n",
       "        vertical-align: middle;\n",
       "    }\n",
       "\n",
       "    .dataframe tbody tr th {\n",
       "        vertical-align: top;\n",
       "    }\n",
       "\n",
       "    .dataframe thead th {\n",
       "        text-align: right;\n",
       "    }\n",
       "</style>\n",
       "<table border=\"1\" class=\"dataframe\">\n",
       "  <thead>\n",
       "    <tr style=\"text-align: right;\">\n",
       "      <th></th>\n",
       "      <th>user_id</th>\n",
       "      <th>distance</th>\n",
       "      <th>duration</th>\n",
       "      <th>date</th>\n",
       "    </tr>\n",
       "  </thead>\n",
       "  <tbody>\n",
       "    <tr>\n",
       "      <th>0</th>\n",
       "      <td>1</td>\n",
       "      <td>4409.919140</td>\n",
       "      <td>25.599769</td>\n",
       "      <td>2021-01-01</td>\n",
       "    </tr>\n",
       "    <tr>\n",
       "      <th>1</th>\n",
       "      <td>1</td>\n",
       "      <td>2617.592153</td>\n",
       "      <td>15.816871</td>\n",
       "      <td>2021-01-18</td>\n",
       "    </tr>\n",
       "    <tr>\n",
       "      <th>2</th>\n",
       "      <td>1</td>\n",
       "      <td>754.159807</td>\n",
       "      <td>6.232113</td>\n",
       "      <td>2021-04-20</td>\n",
       "    </tr>\n",
       "    <tr>\n",
       "      <th>3</th>\n",
       "      <td>1</td>\n",
       "      <td>2694.783254</td>\n",
       "      <td>18.511000</td>\n",
       "      <td>2021-08-11</td>\n",
       "    </tr>\n",
       "    <tr>\n",
       "      <th>4</th>\n",
       "      <td>1</td>\n",
       "      <td>4028.687306</td>\n",
       "      <td>26.265803</td>\n",
       "      <td>2021-08-28</td>\n",
       "    </tr>\n",
       "    <tr>\n",
       "      <th>5</th>\n",
       "      <td>1</td>\n",
       "      <td>2770.890808</td>\n",
       "      <td>16.650138</td>\n",
       "      <td>2021-10-09</td>\n",
       "    </tr>\n",
       "    <tr>\n",
       "      <th>6</th>\n",
       "      <td>1</td>\n",
       "      <td>3039.020292</td>\n",
       "      <td>14.927879</td>\n",
       "      <td>2021-10-19</td>\n",
       "    </tr>\n",
       "    <tr>\n",
       "      <th>7</th>\n",
       "      <td>1</td>\n",
       "      <td>2842.118050</td>\n",
       "      <td>23.117468</td>\n",
       "      <td>2021-11-06</td>\n",
       "    </tr>\n",
       "    <tr>\n",
       "      <th>8</th>\n",
       "      <td>1</td>\n",
       "      <td>3412.690668</td>\n",
       "      <td>15.238072</td>\n",
       "      <td>2021-11-14</td>\n",
       "    </tr>\n",
       "    <tr>\n",
       "      <th>9</th>\n",
       "      <td>1</td>\n",
       "      <td>748.690645</td>\n",
       "      <td>15.041884</td>\n",
       "      <td>2021-11-22</td>\n",
       "    </tr>\n",
       "  </tbody>\n",
       "</table>\n",
       "</div>"
      ],
      "text/plain": [
       "   user_id     distance   duration       date\n",
       "0        1  4409.919140  25.599769 2021-01-01\n",
       "1        1  2617.592153  15.816871 2021-01-18\n",
       "2        1   754.159807   6.232113 2021-04-20\n",
       "3        1  2694.783254  18.511000 2021-08-11\n",
       "4        1  4028.687306  26.265803 2021-08-28\n",
       "5        1  2770.890808  16.650138 2021-10-09\n",
       "6        1  3039.020292  14.927879 2021-10-19\n",
       "7        1  2842.118050  23.117468 2021-11-06\n",
       "8        1  3412.690668  15.238072 2021-11-14\n",
       "9        1   748.690645  15.041884 2021-11-22"
      ]
     },
     "execution_count": 14,
     "metadata": {},
     "output_type": "execute_result"
    }
   ],
   "source": [
    "data_riders['date'] = pd.to_datetime(data_riders['date'], format = '%Y-%m-%d')\n",
    "data_riders.head(10)"
   ]
  },
  {
   "cell_type": "markdown",
   "id": "d865076a",
   "metadata": {},
   "source": [
    "##### Создадим новый столбец с номером месяца на основе столбца `date`"
   ]
  },
  {
   "cell_type": "markdown",
   "id": "4db931a8",
   "metadata": {},
   "source": [
    "Сначала проверим, за какой период предоставлены данные. Если данные предоставлены за несколько лет, то они могут попасть в один и тот же месяц"
   ]
  },
  {
   "cell_type": "code",
   "execution_count": 15,
   "id": "cd5caeb5",
   "metadata": {},
   "outputs": [
    {
     "data": {
      "text/plain": [
       "array([2021])"
      ]
     },
     "execution_count": 15,
     "metadata": {},
     "output_type": "execute_result"
    }
   ],
   "source": [
    "data_riders['date'].dt.year.unique()"
   ]
  },
  {
   "cell_type": "markdown",
   "id": "715352c9",
   "metadata": {},
   "source": [
    "Данные предоставлены только за один год, соответственно ошибок не будет, добавим номер месяца"
   ]
  },
  {
   "cell_type": "code",
   "execution_count": 16,
   "id": "d6f11d95",
   "metadata": {},
   "outputs": [
    {
     "data": {
      "text/html": [
       "<div>\n",
       "<style scoped>\n",
       "    .dataframe tbody tr th:only-of-type {\n",
       "        vertical-align: middle;\n",
       "    }\n",
       "\n",
       "    .dataframe tbody tr th {\n",
       "        vertical-align: top;\n",
       "    }\n",
       "\n",
       "    .dataframe thead th {\n",
       "        text-align: right;\n",
       "    }\n",
       "</style>\n",
       "<table border=\"1\" class=\"dataframe\">\n",
       "  <thead>\n",
       "    <tr style=\"text-align: right;\">\n",
       "      <th></th>\n",
       "      <th>user_id</th>\n",
       "      <th>distance</th>\n",
       "      <th>duration</th>\n",
       "      <th>date</th>\n",
       "      <th>month</th>\n",
       "    </tr>\n",
       "  </thead>\n",
       "  <tbody>\n",
       "    <tr>\n",
       "      <th>0</th>\n",
       "      <td>1</td>\n",
       "      <td>4409.919140</td>\n",
       "      <td>25.599769</td>\n",
       "      <td>2021-01-01</td>\n",
       "      <td>1</td>\n",
       "    </tr>\n",
       "    <tr>\n",
       "      <th>1</th>\n",
       "      <td>1</td>\n",
       "      <td>2617.592153</td>\n",
       "      <td>15.816871</td>\n",
       "      <td>2021-01-18</td>\n",
       "      <td>1</td>\n",
       "    </tr>\n",
       "    <tr>\n",
       "      <th>2</th>\n",
       "      <td>1</td>\n",
       "      <td>754.159807</td>\n",
       "      <td>6.232113</td>\n",
       "      <td>2021-04-20</td>\n",
       "      <td>4</td>\n",
       "    </tr>\n",
       "    <tr>\n",
       "      <th>3</th>\n",
       "      <td>1</td>\n",
       "      <td>2694.783254</td>\n",
       "      <td>18.511000</td>\n",
       "      <td>2021-08-11</td>\n",
       "      <td>8</td>\n",
       "    </tr>\n",
       "    <tr>\n",
       "      <th>4</th>\n",
       "      <td>1</td>\n",
       "      <td>4028.687306</td>\n",
       "      <td>26.265803</td>\n",
       "      <td>2021-08-28</td>\n",
       "      <td>8</td>\n",
       "    </tr>\n",
       "    <tr>\n",
       "      <th>5</th>\n",
       "      <td>1</td>\n",
       "      <td>2770.890808</td>\n",
       "      <td>16.650138</td>\n",
       "      <td>2021-10-09</td>\n",
       "      <td>10</td>\n",
       "    </tr>\n",
       "    <tr>\n",
       "      <th>6</th>\n",
       "      <td>1</td>\n",
       "      <td>3039.020292</td>\n",
       "      <td>14.927879</td>\n",
       "      <td>2021-10-19</td>\n",
       "      <td>10</td>\n",
       "    </tr>\n",
       "    <tr>\n",
       "      <th>7</th>\n",
       "      <td>1</td>\n",
       "      <td>2842.118050</td>\n",
       "      <td>23.117468</td>\n",
       "      <td>2021-11-06</td>\n",
       "      <td>11</td>\n",
       "    </tr>\n",
       "    <tr>\n",
       "      <th>8</th>\n",
       "      <td>1</td>\n",
       "      <td>3412.690668</td>\n",
       "      <td>15.238072</td>\n",
       "      <td>2021-11-14</td>\n",
       "      <td>11</td>\n",
       "    </tr>\n",
       "    <tr>\n",
       "      <th>9</th>\n",
       "      <td>1</td>\n",
       "      <td>748.690645</td>\n",
       "      <td>15.041884</td>\n",
       "      <td>2021-11-22</td>\n",
       "      <td>11</td>\n",
       "    </tr>\n",
       "  </tbody>\n",
       "</table>\n",
       "</div>"
      ],
      "text/plain": [
       "   user_id     distance   duration       date  month\n",
       "0        1  4409.919140  25.599769 2021-01-01      1\n",
       "1        1  2617.592153  15.816871 2021-01-18      1\n",
       "2        1   754.159807   6.232113 2021-04-20      4\n",
       "3        1  2694.783254  18.511000 2021-08-11      8\n",
       "4        1  4028.687306  26.265803 2021-08-28      8\n",
       "5        1  2770.890808  16.650138 2021-10-09     10\n",
       "6        1  3039.020292  14.927879 2021-10-19     10\n",
       "7        1  2842.118050  23.117468 2021-11-06     11\n",
       "8        1  3412.690668  15.238072 2021-11-14     11\n",
       "9        1   748.690645  15.041884 2021-11-22     11"
      ]
     },
     "execution_count": 16,
     "metadata": {},
     "output_type": "execute_result"
    }
   ],
   "source": [
    "data_riders['month'] = pd.DatetimeIndex(data_riders['date']).month\n",
    "data_riders.head(10)"
   ]
  },
  {
   "cell_type": "code",
   "execution_count": 17,
   "id": "eeb40cc0",
   "metadata": {},
   "outputs": [
    {
     "data": {
      "text/html": [
       "<div>\n",
       "<style scoped>\n",
       "    .dataframe tbody tr th:only-of-type {\n",
       "        vertical-align: middle;\n",
       "    }\n",
       "\n",
       "    .dataframe tbody tr th {\n",
       "        vertical-align: top;\n",
       "    }\n",
       "\n",
       "    .dataframe thead th {\n",
       "        text-align: right;\n",
       "    }\n",
       "</style>\n",
       "<table border=\"1\" class=\"dataframe\">\n",
       "  <thead>\n",
       "    <tr style=\"text-align: right;\">\n",
       "      <th></th>\n",
       "      <th>user_id</th>\n",
       "      <th>distance</th>\n",
       "      <th>duration</th>\n",
       "      <th>month</th>\n",
       "    </tr>\n",
       "  </thead>\n",
       "  <tbody>\n",
       "    <tr>\n",
       "      <th>count</th>\n",
       "      <td>18068.000000</td>\n",
       "      <td>18068.000000</td>\n",
       "      <td>18068.000000</td>\n",
       "      <td>18068.000000</td>\n",
       "    </tr>\n",
       "    <tr>\n",
       "      <th>mean</th>\n",
       "      <td>842.869936</td>\n",
       "      <td>3070.659976</td>\n",
       "      <td>17.805011</td>\n",
       "      <td>6.486772</td>\n",
       "    </tr>\n",
       "    <tr>\n",
       "      <th>std</th>\n",
       "      <td>434.734317</td>\n",
       "      <td>1116.831209</td>\n",
       "      <td>6.091051</td>\n",
       "      <td>3.437410</td>\n",
       "    </tr>\n",
       "    <tr>\n",
       "      <th>min</th>\n",
       "      <td>1.000000</td>\n",
       "      <td>0.855683</td>\n",
       "      <td>0.500000</td>\n",
       "      <td>1.000000</td>\n",
       "    </tr>\n",
       "    <tr>\n",
       "      <th>25%</th>\n",
       "      <td>487.000000</td>\n",
       "      <td>2543.226360</td>\n",
       "      <td>13.597563</td>\n",
       "      <td>4.000000</td>\n",
       "    </tr>\n",
       "    <tr>\n",
       "      <th>50%</th>\n",
       "      <td>889.000000</td>\n",
       "      <td>3133.609994</td>\n",
       "      <td>17.678395</td>\n",
       "      <td>6.000000</td>\n",
       "    </tr>\n",
       "    <tr>\n",
       "      <th>75%</th>\n",
       "      <td>1213.250000</td>\n",
       "      <td>3776.222735</td>\n",
       "      <td>21.724800</td>\n",
       "      <td>9.000000</td>\n",
       "    </tr>\n",
       "    <tr>\n",
       "      <th>max</th>\n",
       "      <td>1534.000000</td>\n",
       "      <td>7211.007745</td>\n",
       "      <td>40.823963</td>\n",
       "      <td>12.000000</td>\n",
       "    </tr>\n",
       "  </tbody>\n",
       "</table>\n",
       "</div>"
      ],
      "text/plain": [
       "            user_id      distance      duration         month\n",
       "count  18068.000000  18068.000000  18068.000000  18068.000000\n",
       "mean     842.869936   3070.659976     17.805011      6.486772\n",
       "std      434.734317   1116.831209      6.091051      3.437410\n",
       "min        1.000000      0.855683      0.500000      1.000000\n",
       "25%      487.000000   2543.226360     13.597563      4.000000\n",
       "50%      889.000000   3133.609994     17.678395      6.000000\n",
       "75%     1213.250000   3776.222735     21.724800      9.000000\n",
       "max     1534.000000   7211.007745     40.823963     12.000000"
      ]
     },
     "execution_count": 17,
     "metadata": {},
     "output_type": "execute_result"
    }
   ],
   "source": [
    "data_riders.describe()"
   ]
  },
  {
   "cell_type": "markdown",
   "id": "804fbc67",
   "metadata": {},
   "source": [
    "Отлично, минимальное значение месяца 1, а максимамльное 12, ничего не сломалось"
   ]
  },
  {
   "cell_type": "markdown",
   "id": "1c009507",
   "metadata": {},
   "source": [
    "##### Обработка дубликатов"
   ]
  },
  {
   "cell_type": "markdown",
   "id": "85ad5bdb",
   "metadata": {},
   "source": [
    "**Датафрейм с пользователями**"
   ]
  },
  {
   "cell_type": "code",
   "execution_count": 18,
   "id": "9b838187",
   "metadata": {},
   "outputs": [
    {
     "data": {
      "text/plain": [
       "31"
      ]
     },
     "execution_count": 18,
     "metadata": {},
     "output_type": "execute_result"
    }
   ],
   "source": [
    "data_users.duplicated().sum()"
   ]
  },
  {
   "cell_type": "markdown",
   "id": "1b168247",
   "metadata": {},
   "source": [
    "Имеются явные дубликаты в датафреме `data_users`, считаю нужным их удалить, это может быть багом системы или на разных устройствах зашли под одним и тем же аккаунтом"
   ]
  },
  {
   "cell_type": "code",
   "execution_count": 19,
   "id": "986d6663",
   "metadata": {},
   "outputs": [],
   "source": [
    "data_users.drop_duplicates(inplace=True)"
   ]
  },
  {
   "cell_type": "code",
   "execution_count": 20,
   "id": "3f300204",
   "metadata": {},
   "outputs": [
    {
     "data": {
      "text/plain": [
       "0"
      ]
     },
     "execution_count": 20,
     "metadata": {},
     "output_type": "execute_result"
    }
   ],
   "source": [
    "data_users.duplicated().sum()"
   ]
  },
  {
   "cell_type": "code",
   "execution_count": 21,
   "id": "855ddd1a",
   "metadata": {},
   "outputs": [
    {
     "data": {
      "text/html": [
       "<div>\n",
       "<style scoped>\n",
       "    .dataframe tbody tr th:only-of-type {\n",
       "        vertical-align: middle;\n",
       "    }\n",
       "\n",
       "    .dataframe tbody tr th {\n",
       "        vertical-align: top;\n",
       "    }\n",
       "\n",
       "    .dataframe thead th {\n",
       "        text-align: right;\n",
       "    }\n",
       "</style>\n",
       "<table border=\"1\" class=\"dataframe\">\n",
       "  <thead>\n",
       "    <tr style=\"text-align: right;\">\n",
       "      <th></th>\n",
       "      <th>user_id</th>\n",
       "      <th>name</th>\n",
       "      <th>age</th>\n",
       "      <th>city</th>\n",
       "      <th>subscription_type</th>\n",
       "    </tr>\n",
       "  </thead>\n",
       "  <tbody>\n",
       "    <tr>\n",
       "      <th>0</th>\n",
       "      <td>1</td>\n",
       "      <td>Кира</td>\n",
       "      <td>22</td>\n",
       "      <td>Тюмень</td>\n",
       "      <td>ultra</td>\n",
       "    </tr>\n",
       "    <tr>\n",
       "      <th>1</th>\n",
       "      <td>2</td>\n",
       "      <td>Станислав</td>\n",
       "      <td>31</td>\n",
       "      <td>Омск</td>\n",
       "      <td>ultra</td>\n",
       "    </tr>\n",
       "    <tr>\n",
       "      <th>2</th>\n",
       "      <td>3</td>\n",
       "      <td>Алексей</td>\n",
       "      <td>20</td>\n",
       "      <td>Москва</td>\n",
       "      <td>ultra</td>\n",
       "    </tr>\n",
       "    <tr>\n",
       "      <th>3</th>\n",
       "      <td>4</td>\n",
       "      <td>Константин</td>\n",
       "      <td>26</td>\n",
       "      <td>Ростов-на-Дону</td>\n",
       "      <td>ultra</td>\n",
       "    </tr>\n",
       "    <tr>\n",
       "      <th>4</th>\n",
       "      <td>5</td>\n",
       "      <td>Адель</td>\n",
       "      <td>28</td>\n",
       "      <td>Омск</td>\n",
       "      <td>ultra</td>\n",
       "    </tr>\n",
       "    <tr>\n",
       "      <th>5</th>\n",
       "      <td>6</td>\n",
       "      <td>Регина</td>\n",
       "      <td>25</td>\n",
       "      <td>Краснодар</td>\n",
       "      <td>ultra</td>\n",
       "    </tr>\n",
       "    <tr>\n",
       "      <th>6</th>\n",
       "      <td>7</td>\n",
       "      <td>Игорь</td>\n",
       "      <td>23</td>\n",
       "      <td>Омск</td>\n",
       "      <td>ultra</td>\n",
       "    </tr>\n",
       "    <tr>\n",
       "      <th>7</th>\n",
       "      <td>8</td>\n",
       "      <td>Юрий</td>\n",
       "      <td>23</td>\n",
       "      <td>Краснодар</td>\n",
       "      <td>ultra</td>\n",
       "    </tr>\n",
       "    <tr>\n",
       "      <th>8</th>\n",
       "      <td>9</td>\n",
       "      <td>Ян</td>\n",
       "      <td>21</td>\n",
       "      <td>Пятигорск</td>\n",
       "      <td>ultra</td>\n",
       "    </tr>\n",
       "    <tr>\n",
       "      <th>9</th>\n",
       "      <td>10</td>\n",
       "      <td>Валерий</td>\n",
       "      <td>18</td>\n",
       "      <td>Екатеринбург</td>\n",
       "      <td>ultra</td>\n",
       "    </tr>\n",
       "  </tbody>\n",
       "</table>\n",
       "</div>"
      ],
      "text/plain": [
       "   user_id        name  age            city subscription_type\n",
       "0        1        Кира   22          Тюмень             ultra\n",
       "1        2   Станислав   31            Омск             ultra\n",
       "2        3     Алексей   20          Москва             ultra\n",
       "3        4  Константин   26  Ростов-на-Дону             ultra\n",
       "4        5       Адель   28            Омск             ultra\n",
       "5        6      Регина   25       Краснодар             ultra\n",
       "6        7       Игорь   23            Омск             ultra\n",
       "7        8        Юрий   23       Краснодар             ultra\n",
       "8        9          Ян   21       Пятигорск             ultra\n",
       "9       10     Валерий   18    Екатеринбург             ultra"
      ]
     },
     "execution_count": 21,
     "metadata": {},
     "output_type": "execute_result"
    }
   ],
   "source": [
    "data_users.head(10)"
   ]
  },
  {
   "cell_type": "markdown",
   "id": "9f663e0a",
   "metadata": {},
   "source": [
    "Явные дубликаты в данном датафрейме обработаны, ничего не сломалось, идем дальше"
   ]
  },
  {
   "cell_type": "code",
   "execution_count": 22,
   "id": "4d2786c6",
   "metadata": {},
   "outputs": [
    {
     "data": {
      "text/plain": [
       "array(['Кира', 'Станислав', 'Алексей', 'Константин', 'Адель', 'Регина',\n",
       "       'Игорь', 'Юрий', 'Ян', 'Валерий', 'Агата', 'Марк', 'Ева',\n",
       "       'Антонина', 'Валерия', 'Амалия', 'Даниил', 'Аделина', 'Святогор',\n",
       "       'Борис', 'Вероника', 'Ростислав', 'Назар', 'Эдуард', 'Василий',\n",
       "       'Денис', 'Тамара', 'Николай', 'Эвелина', 'Федор', 'Руслан', 'Иван',\n",
       "       'Любовь', 'Ярослава', 'Майя', 'Ильдар', 'Данила', 'Нина',\n",
       "       'Стефания', 'Ясмина', 'Дмитрий', 'Александр', 'Одиссей', 'Арсений',\n",
       "       'Алла', 'Таисия', 'Максим', 'Юлиана', 'Павел', 'Карина', 'Алиса',\n",
       "       'Лидия', 'Рамиль', 'Родион', 'Ника', 'Оксана', 'Анастасия',\n",
       "       'Маргарита', 'Вера', 'Тимур', 'Никита', 'Лев', 'Влад', 'Артур',\n",
       "       'Анна', 'Ольга', 'Вячеслав', 'Ксения', 'Виталина', 'Владислав',\n",
       "       'Тамерлан', 'Амина', 'Вадим', 'Олеся', 'Зарина', 'Егор', 'Гордей',\n",
       "       'Лилия', 'Святослав', 'Роберт', 'Амир', 'Влада', 'Богдан',\n",
       "       'Полина', 'Марат', 'Елисей', 'Макар', 'Алина', 'Глеб', 'Андрей',\n",
       "       'Альбина', 'Людмила', 'Марсель', 'Милена', 'Диана', 'Дарина',\n",
       "       'Данил', 'Артемий', 'Лиана', 'Альберт', 'Герман', 'Жанна', 'Нелли',\n",
       "       'Евгения', 'Ариана', 'Самира', 'Захар', 'Эльвира', 'Екатерина',\n",
       "       'Инна', 'Демид', 'Яна', 'Михаил', 'Татьяна', 'Степан', 'Мелания',\n",
       "       'Тимофей', 'Ирина', 'Анжелика', 'Владислава', 'Елизавета',\n",
       "       'Мадина', 'Снежана', 'Даниэль', 'Рустам', 'Каролина', 'Ангелина',\n",
       "       'Владимир', 'Виктория', 'Валентина', 'Семен', 'Арина', 'Лариса',\n",
       "       'Есения', 'Галина', 'Кирилл', 'Игнат', 'Виталий', 'Эмилия',\n",
       "       'Виолетта', 'Яромир', 'Софья', 'Мирослава', 'Евгений', 'Варвара',\n",
       "       'Платон', 'Наталия', 'Анатолий', 'Кристина', 'Всеволод', 'Дарья',\n",
       "       'Наташа', 'Мария', 'Марина', 'Василиса', 'Юлия', 'Илья', 'Злата',\n",
       "       'Роман', 'Наталья', 'Элина', 'Арсен', 'Айдар', 'Алия', 'Виктор',\n",
       "       'Мирон', 'Ульяна', 'Георгий', 'Петр', 'Эльмира', 'Олег', 'Дамир',\n",
       "       'Самир', 'Ярослав', 'Камилла', 'Сергей', 'Эмиль', 'Радмир',\n",
       "       'Савелий', 'Елена', 'Антон', 'Мирослав', 'София', 'Тихон', 'Артём',\n",
       "       'Давид', 'Григорий', 'Алёна', 'Светлана', 'Леонид', 'Александра',\n",
       "       'Василина', 'Милана', 'Матвей'], dtype=object)"
      ]
     },
     "execution_count": 22,
     "metadata": {},
     "output_type": "execute_result"
    }
   ],
   "source": [
    "data_users['name'].unique()"
   ]
  },
  {
   "cell_type": "markdown",
   "id": "8d88f4d2",
   "metadata": {},
   "source": [
    "Ошибок в именах нет, неявных дубликатов в столбце `name` не обнаружено"
   ]
  },
  {
   "cell_type": "code",
   "execution_count": 23,
   "id": "cc238fdb",
   "metadata": {},
   "outputs": [
    {
     "data": {
      "text/plain": [
       "array(['Тюмень', 'Омск', 'Москва', 'Ростов-на-Дону', 'Краснодар',\n",
       "       'Пятигорск', 'Екатеринбург', 'Сочи'], dtype=object)"
      ]
     },
     "execution_count": 23,
     "metadata": {},
     "output_type": "execute_result"
    }
   ],
   "source": [
    "data_users['city'].unique()"
   ]
  },
  {
   "cell_type": "markdown",
   "id": "ef7d3138",
   "metadata": {},
   "source": [
    "Неявных дубликатов в столбце `city` не обнаружено"
   ]
  },
  {
   "cell_type": "markdown",
   "id": "2f9f1c4e",
   "metadata": {},
   "source": [
    "**Датафрейм с поездками**"
   ]
  },
  {
   "cell_type": "code",
   "execution_count": 24,
   "id": "3d9160b6",
   "metadata": {},
   "outputs": [
    {
     "data": {
      "text/plain": [
       "0"
      ]
     },
     "execution_count": 24,
     "metadata": {},
     "output_type": "execute_result"
    }
   ],
   "source": [
    "data_riders.duplicated().sum()"
   ]
  },
  {
   "cell_type": "markdown",
   "id": "7f884027",
   "metadata": {},
   "source": [
    "В данном датафрейме дубликатов нет, обрабаотывать датафрейм с подписками не имеет смысла там всего две строки мы изначально убедились что там все хорошо"
   ]
  },
  {
   "cell_type": "markdown",
   "id": "1033973f",
   "metadata": {},
   "source": [
    "**При обработке данных выяснилось следующее:**\n",
    "- Пропущенных значений в датафреймах нет\n",
    "- Был добавлен столбец `month` в датафрейм `data_riders` с номером месяца\n",
    "- Дубликаты были обнаружены только в датафрейме с пользователями, они были удалены"
   ]
  },
  {
   "cell_type": "markdown",
   "id": "212593c7",
   "metadata": {},
   "source": [
    "#### Шаг 3. Исследовательский анализ данных"
   ]
  },
  {
   "cell_type": "markdown",
   "id": "37ec4b90",
   "metadata": {},
   "source": [
    "**Описание и визуализация общей информации о пользователях и поездках**"
   ]
  },
  {
   "cell_type": "markdown",
   "id": "8625099b",
   "metadata": {},
   "source": [
    "##### Частота встречаемости городов"
   ]
  },
  {
   "cell_type": "code",
   "execution_count": 25,
   "id": "11fc004b",
   "metadata": {},
   "outputs": [
    {
     "data": {
      "text/plain": [
       "Пятигорск         219\n",
       "Екатеринбург      204\n",
       "Ростов-на-Дону    198\n",
       "Краснодар         193\n",
       "Сочи              189\n",
       "Омск              183\n",
       "Тюмень            180\n",
       "Москва            168\n",
       "Name: city, dtype: int64"
      ]
     },
     "execution_count": 25,
     "metadata": {},
     "output_type": "execute_result"
    }
   ],
   "source": [
    "data_users['city'].value_counts()"
   ]
  },
  {
   "cell_type": "code",
   "execution_count": 26,
   "id": "a154eba4",
   "metadata": {},
   "outputs": [
    {
     "data": {
      "text/plain": [
       "Пятигорск         14.0\n",
       "Екатеринбург      13.0\n",
       "Ростов-на-Дону    13.0\n",
       "Краснодар         13.0\n",
       "Сочи              12.0\n",
       "Омск              12.0\n",
       "Тюмень            12.0\n",
       "Москва            11.0\n",
       "Name: city, dtype: float64"
      ]
     },
     "execution_count": 26,
     "metadata": {},
     "output_type": "execute_result"
    }
   ],
   "source": [
    "round(data_users['city'].value_counts() / data_users['city'].value_counts().sum() * 100, 0)"
   ]
  },
  {
   "cell_type": "markdown",
   "id": "c637d6ac",
   "metadata": {},
   "source": [
    "*Для визуализации данных используем столбчатую диаграмму*"
   ]
  },
  {
   "cell_type": "code",
   "execution_count": 27,
   "id": "a91b5c22",
   "metadata": {},
   "outputs": [
    {
     "data": {
      "text/plain": [
       "<AxesSubplot:title={'center':'Распределение пользователей по городам'}>"
      ]
     },
     "execution_count": 27,
     "metadata": {},
     "output_type": "execute_result"
    },
    {
     "data": {
      "image/png": "[encoded data removed]",
      "text/plain": [
       "<Figure size 720x720 with 1 Axes>"
      ]
     },
     "metadata": {
      "needs_background": "light"
     },
     "output_type": "display_data"
    }
   ],
   "source": [
    "data_users['city'].value_counts(ascending=True).plot(\n",
    "    title = 'Распределение пользователей по городам',\n",
    "    kind = 'bar', \n",
    "    figsize = (10,10)\n",
    "    )"
   ]
  },
  {
   "cell_type": "code",
   "execution_count": 28,
   "id": "96895bd7",
   "metadata": {},
   "outputs": [
    {
     "data": {
      "text/plain": [
       "<AxesSubplot:title={'center':'Распределение пользователей по городам в %'}>"
      ]
     },
     "execution_count": 28,
     "metadata": {},
     "output_type": "execute_result"
    },
    {
     "data": {
      "image/png": "[encoded data removed]",
      "text/plain": [
       "<Figure size 720x720 with 1 Axes>"
      ]
     },
     "metadata": {
      "needs_background": "light"
     },
     "output_type": "display_data"
    }
   ],
   "source": [
    "round(data_users['city'].value_counts(ascending=True) / data_users['city'].value_counts(ascending=True).sum() * 100, 0).plot(title = 'Распределение пользователей по городам в %',\n",
    "                                                                                                 kind = 'bar',\n",
    "                                                                                                 figsize = (10,10)\n",
    "                                                                                                )"
   ]
  },
  {
   "cell_type": "markdown",
   "id": "5dd83297",
   "metadata": {},
   "source": [
    "*Распределение пользователй по городам примерно одинаковое, однако наибольшее количество в Пятигорске - 14%, а наименьшее в Москве - 11%*"
   ]
  },
  {
   "cell_type": "markdown",
   "id": "00f27743",
   "metadata": {},
   "source": [
    "##### Cоотношение пользователей с подпиской и без подписки"
   ]
  },
  {
   "cell_type": "code",
   "execution_count": 29,
   "id": "cd8bd6ce",
   "metadata": {},
   "outputs": [
    {
     "data": {
      "text/plain": [
       "free     835\n",
       "ultra    699\n",
       "Name: subscription_type, dtype: int64"
      ]
     },
     "execution_count": 29,
     "metadata": {},
     "output_type": "execute_result"
    }
   ],
   "source": [
    "data_users['subscription_type'].value_counts()"
   ]
  },
  {
   "cell_type": "markdown",
   "id": "ca2563c1",
   "metadata": {},
   "source": [
    "*Используем круговую диаграмму для отображения соотношения количества числа пользователей с подпиской и без*"
   ]
  },
  {
   "cell_type": "code",
   "execution_count": 30,
   "id": "9fe3af51",
   "metadata": {},
   "outputs": [
    {
     "data": {
      "text/plain": [
       "<AxesSubplot:title={'center':'Соотношение пользователей сервиса GoFast с подпиской и без нее'}, ylabel='subscription_type'>"
      ]
     },
     "execution_count": 30,
     "metadata": {},
     "output_type": "execute_result"
    },
    {
     "data": {
      "image/png": "[encoded data removed]",
      "text/plain": [
       "<Figure size 360x360 with 1 Axes>"
      ]
     },
     "metadata": {},
     "output_type": "display_data"
    }
   ],
   "source": [
    "data_users['subscription_type'].value_counts().plot(\n",
    "    title = 'Соотношение пользователей сервиса GoFast с подпиской и без нее',\n",
    "    kind = 'pie',\n",
    "    y = data_users['subscription_type'].value_counts(),\n",
    "    autopct = '%1.0f%%',\n",
    "    figsize = (5,5)\n",
    ")"
   ]
  },
  {
   "cell_type": "markdown",
   "id": "c7bc4561",
   "metadata": {},
   "source": [
    "*Преобладают пользователи без подписки их 54%*"
   ]
  },
  {
   "cell_type": "markdown",
   "id": "5806284f",
   "metadata": {},
   "source": [
    "##### Оценим возраст пользователей сервиса GoFast"
   ]
  },
  {
   "cell_type": "markdown",
   "id": "106f2b3d",
   "metadata": {},
   "source": [
    "*Построим гистограмму распределения возрастов клиентов сервиса GoFast*"
   ]
  },
  {
   "cell_type": "code",
   "execution_count": 31,
   "id": "1f8e8075",
   "metadata": {},
   "outputs": [
    {
     "data": {
      "image/png": "[encoded data removed]",
      "text/plain": [
       "<Figure size 432x288 with 1 Axes>"
      ]
     },
     "metadata": {
      "needs_background": "light"
     },
     "output_type": "display_data"
    }
   ],
   "source": [
    "plt.hist(data_users['age'], bins=10)\n",
    "plt.title('Возраст пользователей')\n",
    "plt.xlabel('Возраст')\n",
    "plt.ylabel('Количество пользователей')\n",
    "plt.grid()"
   ]
  },
  {
   "cell_type": "markdown",
   "id": "07949325",
   "metadata": {},
   "source": [
    "*Преобладающее количество клиентов сервиса - люди в возрасте от 20-ти до 30-ти лет*"
   ]
  },
  {
   "cell_type": "code",
   "execution_count": 32,
   "id": "342b93ca",
   "metadata": {
    "scrolled": true
   },
   "outputs": [
    {
     "data": {
      "text/plain": [
       "count    1534.000000\n",
       "mean       24.903520\n",
       "std         4.572367\n",
       "min        12.000000\n",
       "25%        22.000000\n",
       "50%        25.000000\n",
       "75%        28.000000\n",
       "max        43.000000\n",
       "Name: age, dtype: float64"
      ]
     },
     "execution_count": 32,
     "metadata": {},
     "output_type": "execute_result"
    }
   ],
   "source": [
    "data_users['age'].describe()"
   ]
  },
  {
   "cell_type": "markdown",
   "id": "18f1c8f2",
   "metadata": {},
   "source": [
    "*Минимальный возраст клиентов 12 лет, максимальный - 43 года, средий - порядка 25 лет*"
   ]
  },
  {
   "cell_type": "markdown",
   "id": "33d932c3",
   "metadata": {},
   "source": [
    "##### Расстояние, которое пользователь преодолел за одну поездку"
   ]
  },
  {
   "cell_type": "markdown",
   "id": "c2be290d",
   "metadata": {},
   "source": [
    "Рассмотрим самые длинные поездки пользователей сервиса"
   ]
  },
  {
   "cell_type": "code",
   "execution_count": 33,
   "id": "1eb49a84",
   "metadata": {},
   "outputs": [
    {
     "data": {
      "text/plain": [
       "16309    7211.007745\n",
       "16484    7066.003772\n",
       "15580    6908.491343\n",
       "17171    6760.940067\n",
       "17242    6724.932981\n",
       "10341    6671.969833\n",
       "11385    6601.197575\n",
       "12086    6538.937375\n",
       "10915    6535.386520\n",
       "11319    6503.600402\n",
       "Name: distance, dtype: float64"
      ]
     },
     "execution_count": 33,
     "metadata": {},
     "output_type": "execute_result"
    }
   ],
   "source": [
    "data_riders['distance'].sort_values(ascending=False).head(10)"
   ]
  },
  {
   "cell_type": "markdown",
   "id": "b146a704",
   "metadata": {},
   "source": [
    "*Видим что самые длинные поездки более 7 км*"
   ]
  },
  {
   "cell_type": "markdown",
   "id": "f331ce1d",
   "metadata": {},
   "source": [
    "Рассмотрим самые короткие поездки пользователей сервиса"
   ]
  },
  {
   "cell_type": "code",
   "execution_count": 34,
   "id": "425ee377",
   "metadata": {},
   "outputs": [
    {
     "data": {
      "text/plain": [
       "11555     0.855683\n",
       "9541      2.570787\n",
       "13690     4.329506\n",
       "8658      6.784447\n",
       "7841      7.097072\n",
       "8906     11.283615\n",
       "8324     12.233115\n",
       "13940    15.000606\n",
       "15626    15.366168\n",
       "11862    15.630873\n",
       "Name: distance, dtype: float64"
      ]
     },
     "execution_count": 34,
     "metadata": {},
     "output_type": "execute_result"
    }
   ],
   "source": [
    "data_riders['distance'].sort_values().head(10)"
   ]
  },
  {
   "cell_type": "markdown",
   "id": "93f10acc",
   "metadata": {},
   "source": [
    "*А самые короткие не превышают и нескольких метров*"
   ]
  },
  {
   "cell_type": "markdown",
   "id": "c63afe8d",
   "metadata": {},
   "source": [
    "*Построим гистограмму распределения дальности поездок пользователей сервиса*"
   ]
  },
  {
   "cell_type": "code",
   "execution_count": 35,
   "id": "5976f3f2",
   "metadata": {},
   "outputs": [
    {
     "data": {
      "image/png": "[encoded data removed]",
      "text/plain": [
       "<Figure size 432x288 with 1 Axes>"
      ]
     },
     "metadata": {
      "needs_background": "light"
     },
     "output_type": "display_data"
    }
   ],
   "source": [
    "plt.hist(data_riders['distance'], bins=100)\n",
    "plt.title('Распределение дальности поездок пользователей сервиса GoFast')\n",
    "plt.xlabel('Дальность поездки, м')\n",
    "plt.ylabel('Количество пользователей')\n",
    "plt.grid()"
   ]
  },
  {
   "cell_type": "code",
   "execution_count": 36,
   "id": "16a71f28",
   "metadata": {},
   "outputs": [
    {
     "data": {
      "image/png": "[encoded data removed]",
      "text/plain": [
       "<Figure size 432x288 with 1 Axes>"
      ]
     },
     "metadata": {
      "needs_background": "light"
     },
     "output_type": "display_data"
    }
   ],
   "source": [
    "plt.hist(data_riders['distance'], bins=27, range=(2000,4000))\n",
    "plt.title('Распределение дальности поездок пользователей сервиса GoFast, от 2 до 4 км')\n",
    "plt.xlabel('Дальность поездки, м')\n",
    "plt.ylabel('Количество пользователей')\n",
    "plt.grid()"
   ]
  },
  {
   "cell_type": "code",
   "execution_count": 37,
   "id": "d5a904af",
   "metadata": {},
   "outputs": [
    {
     "data": {
      "image/png": "[encoded data removed]",
      "text/plain": [
       "<Figure size 432x288 with 1 Axes>"
      ]
     },
     "metadata": {
      "needs_background": "light"
     },
     "output_type": "display_data"
    }
   ],
   "source": [
    "plt.hist(data_riders['distance'], bins=20, range=(0,1500))\n",
    "plt.title('Распределение дальности поездок пользователей сервиса GoFast, до 1.5 км')\n",
    "plt.xlabel('Дальность поездки, м')\n",
    "plt.ylabel('Количество пользователей')\n",
    "plt.grid()"
   ]
  },
  {
   "cell_type": "markdown",
   "id": "81324a09",
   "metadata": {},
   "source": [
    "*Видим что преобладает дальность поездко от 2 до 4 км, а так же есть пик между 0 и примерно 1,5 километрами. Можем предположить что первый пик соотсветсвует людям которые используют самокат чтобы добраться до работы, а основной пик, это люди коткорые взяли самокат чтобы развлечься, например покататься по парку*"
   ]
  },
  {
   "cell_type": "markdown",
   "id": "c7913423",
   "metadata": {},
   "source": [
    "##### Продолжительность поездок"
   ]
  },
  {
   "cell_type": "markdown",
   "id": "309278f0",
   "metadata": {},
   "source": [
    "Рассмотрим самые не продолжительные поездки пользователей сервиса"
   ]
  },
  {
   "cell_type": "code",
   "execution_count": 38,
   "id": "10581ac8",
   "metadata": {},
   "outputs": [
    {
     "data": {
      "text/plain": [
       "12013    0.500000\n",
       "17314    0.500000\n",
       "15029    0.500000\n",
       "7437     0.500000\n",
       "12967    0.500000\n",
       "           ...   \n",
       "8906     2.035632\n",
       "6691     2.053251\n",
       "13308    2.180879\n",
       "17309    2.222598\n",
       "14081    2.224797\n",
       "Name: duration, Length: 100, dtype: float64"
      ]
     },
     "execution_count": 38,
     "metadata": {},
     "output_type": "execute_result"
    }
   ],
   "source": [
    "data_riders['duration'].sort_values().head(100)"
   ]
  },
  {
   "cell_type": "markdown",
   "id": "662e6499",
   "metadata": {},
   "source": [
    "*Минимальная продолжительность поездки составляет 0.5 минуты*"
   ]
  },
  {
   "cell_type": "markdown",
   "id": "1c91ea8b",
   "metadata": {},
   "source": [
    "Рассмотрим самые продолжительные поездки пользователей сервиса"
   ]
  },
  {
   "cell_type": "code",
   "execution_count": 39,
   "id": "813d1218",
   "metadata": {},
   "outputs": [
    {
     "data": {
      "text/plain": [
       "4215    40.823963\n",
       "4709    39.873856\n",
       "2623    39.526602\n",
       "1998    38.352763\n",
       "6453    38.265229\n",
       "143     38.125729\n",
       "3729    37.014141\n",
       "499     36.906491\n",
       "6348    36.809310\n",
       "4653    36.622595\n",
       "Name: duration, dtype: float64"
      ]
     },
     "execution_count": 39,
     "metadata": {},
     "output_type": "execute_result"
    }
   ],
   "source": [
    "data_riders['duration'].sort_values(ascending=False).head(10)"
   ]
  },
  {
   "cell_type": "markdown",
   "id": "635af569",
   "metadata": {},
   "source": [
    "*Самые продолжительные поездки пользователей сервиса длятся более 36 минут*"
   ]
  },
  {
   "cell_type": "markdown",
   "id": "e7020e17",
   "metadata": {},
   "source": [
    "*Построим гистограмму распределения продолжительности поездок пользователей сервиса*"
   ]
  },
  {
   "cell_type": "code",
   "execution_count": 40,
   "id": "34994365",
   "metadata": {},
   "outputs": [
    {
     "data": {
      "image/png": "[encoded data removed]",
      "text/plain": [
       "<Figure size 432x288 with 1 Axes>"
      ]
     },
     "metadata": {
      "needs_background": "light"
     },
     "output_type": "display_data"
    }
   ],
   "source": [
    "plt.hist(data_riders['duration'], bins=100)\n",
    "plt.title('Распределение продолжительности поездок пользователей сервиса GoFast')\n",
    "plt.xlabel('Продолжительность поездки, мин')\n",
    "plt.ylabel('Количество пользователей')\n",
    "plt.grid()"
   ]
  },
  {
   "cell_type": "markdown",
   "id": "48a4ecf1",
   "metadata": {},
   "source": [
    "*Основная масса пользователей имеет продолжительность поездки примерно 12-22 минуты. Имеется странный пик в районе 0*"
   ]
  },
  {
   "cell_type": "markdown",
   "id": "0a75cc55",
   "metadata": {},
   "source": [
    "**Выводы**\n",
    "\n",
    "**Частота встречаемости городов**\n",
    "\n",
    "Количество пользователей по городам распределено примерно одинаково. Лидером по количеству пользователей является Пятигорск - 219 пользователей. Меньше всего пользователей в Москве - 168. Можем предположить, что это связано с размером города, в Пятигорске удобнее брать самокат, чтобы куда-то добраться.\n",
    "\n",
    "**Соотношение пользователей с подпиской и без подписки**\n",
    "\n",
    "Пользователей, использующих бесплатную подписку больше - 835 человек, что является примерно 54% от общего числа пользователей. С платной подпиской 699 пользователей, что соответственно является примерно 46%.\n",
    "\n",
    "**Возраст пользователей**\n",
    "\n",
    "- минимальный возраст пользователей 12 лет;\n",
    "- максимальный возраст пользователей - 43 года;\n",
    "- преобладающее большинство пользователей сервиса укладываются в промежуток от 20-ти до 30-ти лет.\n",
    "\n",
    "**Расстояние, которое пользователь преодолел за одну поездку**\n",
    "\n",
    "- самая короткая дистанция - 0.86 км;\n",
    "- самая длинная - 7.2 км;\n",
    "- в основном пользователи проезжают от 2 км до 4 км;\n",
    "- так же имеется небольшой пик в районе 0 - ~1.5 км.\n",
    "\n",
    "**Продолжительность поездок**\n",
    "\n",
    "- самые короткие поездки - по пол минуты, что странно, возможно пользователи просто передумали пользоваться самокатом, или была техническая неинсправность самого самоката.\n",
    "- самая длинная поездка заняла 40 минут.\n",
    "- в основном же длительность поездки состовляет от ~12 до ~22 минут."
   ]
  },
  {
   "cell_type": "markdown",
   "id": "4ef51331",
   "metadata": {},
   "source": [
    "#### Шаг 4. Объединение данных"
   ]
  },
  {
   "cell_type": "markdown",
   "id": "793a2e49",
   "metadata": {},
   "source": [
    "##### Объединим данные о пользователях, поездках и подписках в один датафрейм"
   ]
  },
  {
   "cell_type": "code",
   "execution_count": 41,
   "id": "9ac137ae",
   "metadata": {},
   "outputs": [
    {
     "data": {
      "text/html": [
       "<div>\n",
       "<style scoped>\n",
       "    .dataframe tbody tr th:only-of-type {\n",
       "        vertical-align: middle;\n",
       "    }\n",
       "\n",
       "    .dataframe tbody tr th {\n",
       "        vertical-align: top;\n",
       "    }\n",
       "\n",
       "    .dataframe thead th {\n",
       "        text-align: right;\n",
       "    }\n",
       "</style>\n",
       "<table border=\"1\" class=\"dataframe\">\n",
       "  <thead>\n",
       "    <tr style=\"text-align: right;\">\n",
       "      <th></th>\n",
       "      <th>user_id</th>\n",
       "      <th>name</th>\n",
       "      <th>age</th>\n",
       "      <th>city</th>\n",
       "      <th>subscription_type</th>\n",
       "      <th>distance</th>\n",
       "      <th>duration</th>\n",
       "      <th>date</th>\n",
       "      <th>month</th>\n",
       "      <th>minute_price</th>\n",
       "      <th>start_ride_price</th>\n",
       "      <th>subscription_fee</th>\n",
       "    </tr>\n",
       "  </thead>\n",
       "  <tbody>\n",
       "    <tr>\n",
       "      <th>0</th>\n",
       "      <td>1</td>\n",
       "      <td>Кира</td>\n",
       "      <td>22</td>\n",
       "      <td>Тюмень</td>\n",
       "      <td>ultra</td>\n",
       "      <td>4409.919140</td>\n",
       "      <td>25.599769</td>\n",
       "      <td>2021-01-01</td>\n",
       "      <td>1</td>\n",
       "      <td>6</td>\n",
       "      <td>0</td>\n",
       "      <td>199</td>\n",
       "    </tr>\n",
       "    <tr>\n",
       "      <th>1</th>\n",
       "      <td>1</td>\n",
       "      <td>Кира</td>\n",
       "      <td>22</td>\n",
       "      <td>Тюмень</td>\n",
       "      <td>ultra</td>\n",
       "      <td>2617.592153</td>\n",
       "      <td>15.816871</td>\n",
       "      <td>2021-01-18</td>\n",
       "      <td>1</td>\n",
       "      <td>6</td>\n",
       "      <td>0</td>\n",
       "      <td>199</td>\n",
       "    </tr>\n",
       "    <tr>\n",
       "      <th>2</th>\n",
       "      <td>1</td>\n",
       "      <td>Кира</td>\n",
       "      <td>22</td>\n",
       "      <td>Тюмень</td>\n",
       "      <td>ultra</td>\n",
       "      <td>754.159807</td>\n",
       "      <td>6.232113</td>\n",
       "      <td>2021-04-20</td>\n",
       "      <td>4</td>\n",
       "      <td>6</td>\n",
       "      <td>0</td>\n",
       "      <td>199</td>\n",
       "    </tr>\n",
       "    <tr>\n",
       "      <th>3</th>\n",
       "      <td>1</td>\n",
       "      <td>Кира</td>\n",
       "      <td>22</td>\n",
       "      <td>Тюмень</td>\n",
       "      <td>ultra</td>\n",
       "      <td>2694.783254</td>\n",
       "      <td>18.511000</td>\n",
       "      <td>2021-08-11</td>\n",
       "      <td>8</td>\n",
       "      <td>6</td>\n",
       "      <td>0</td>\n",
       "      <td>199</td>\n",
       "    </tr>\n",
       "    <tr>\n",
       "      <th>4</th>\n",
       "      <td>1</td>\n",
       "      <td>Кира</td>\n",
       "      <td>22</td>\n",
       "      <td>Тюмень</td>\n",
       "      <td>ultra</td>\n",
       "      <td>4028.687306</td>\n",
       "      <td>26.265803</td>\n",
       "      <td>2021-08-28</td>\n",
       "      <td>8</td>\n",
       "      <td>6</td>\n",
       "      <td>0</td>\n",
       "      <td>199</td>\n",
       "    </tr>\n",
       "    <tr>\n",
       "      <th>...</th>\n",
       "      <td>...</td>\n",
       "      <td>...</td>\n",
       "      <td>...</td>\n",
       "      <td>...</td>\n",
       "      <td>...</td>\n",
       "      <td>...</td>\n",
       "      <td>...</td>\n",
       "      <td>...</td>\n",
       "      <td>...</td>\n",
       "      <td>...</td>\n",
       "      <td>...</td>\n",
       "      <td>...</td>\n",
       "    </tr>\n",
       "    <tr>\n",
       "      <th>95</th>\n",
       "      <td>9</td>\n",
       "      <td>Ян</td>\n",
       "      <td>21</td>\n",
       "      <td>Пятигорск</td>\n",
       "      <td>ultra</td>\n",
       "      <td>2717.035685</td>\n",
       "      <td>10.520886</td>\n",
       "      <td>2021-08-04</td>\n",
       "      <td>8</td>\n",
       "      <td>6</td>\n",
       "      <td>0</td>\n",
       "      <td>199</td>\n",
       "    </tr>\n",
       "    <tr>\n",
       "      <th>96</th>\n",
       "      <td>9</td>\n",
       "      <td>Ян</td>\n",
       "      <td>21</td>\n",
       "      <td>Пятигорск</td>\n",
       "      <td>ultra</td>\n",
       "      <td>2536.038610</td>\n",
       "      <td>13.144154</td>\n",
       "      <td>2021-09-20</td>\n",
       "      <td>9</td>\n",
       "      <td>6</td>\n",
       "      <td>0</td>\n",
       "      <td>199</td>\n",
       "    </tr>\n",
       "    <tr>\n",
       "      <th>97</th>\n",
       "      <td>9</td>\n",
       "      <td>Ян</td>\n",
       "      <td>21</td>\n",
       "      <td>Пятигорск</td>\n",
       "      <td>ultra</td>\n",
       "      <td>3672.893449</td>\n",
       "      <td>12.475908</td>\n",
       "      <td>2021-10-30</td>\n",
       "      <td>10</td>\n",
       "      <td>6</td>\n",
       "      <td>0</td>\n",
       "      <td>199</td>\n",
       "    </tr>\n",
       "    <tr>\n",
       "      <th>98</th>\n",
       "      <td>9</td>\n",
       "      <td>Ян</td>\n",
       "      <td>21</td>\n",
       "      <td>Пятигорск</td>\n",
       "      <td>ultra</td>\n",
       "      <td>2729.062718</td>\n",
       "      <td>21.645314</td>\n",
       "      <td>2021-12-18</td>\n",
       "      <td>12</td>\n",
       "      <td>6</td>\n",
       "      <td>0</td>\n",
       "      <td>199</td>\n",
       "    </tr>\n",
       "    <tr>\n",
       "      <th>99</th>\n",
       "      <td>10</td>\n",
       "      <td>Валерий</td>\n",
       "      <td>18</td>\n",
       "      <td>Екатеринбург</td>\n",
       "      <td>ultra</td>\n",
       "      <td>3202.021507</td>\n",
       "      <td>9.624872</td>\n",
       "      <td>2021-02-04</td>\n",
       "      <td>2</td>\n",
       "      <td>6</td>\n",
       "      <td>0</td>\n",
       "      <td>199</td>\n",
       "    </tr>\n",
       "  </tbody>\n",
       "</table>\n",
       "<p>100 rows × 12 columns</p>\n",
       "</div>"
      ],
      "text/plain": [
       "    user_id     name  age          city subscription_type     distance  \\\n",
       "0         1     Кира   22        Тюмень             ultra  4409.919140   \n",
       "1         1     Кира   22        Тюмень             ultra  2617.592153   \n",
       "2         1     Кира   22        Тюмень             ultra   754.159807   \n",
       "3         1     Кира   22        Тюмень             ultra  2694.783254   \n",
       "4         1     Кира   22        Тюмень             ultra  4028.687306   \n",
       "..      ...      ...  ...           ...               ...          ...   \n",
       "95        9       Ян   21     Пятигорск             ultra  2717.035685   \n",
       "96        9       Ян   21     Пятигорск             ultra  2536.038610   \n",
       "97        9       Ян   21     Пятигорск             ultra  3672.893449   \n",
       "98        9       Ян   21     Пятигорск             ultra  2729.062718   \n",
       "99       10  Валерий   18  Екатеринбург             ultra  3202.021507   \n",
       "\n",
       "     duration       date  month  minute_price  start_ride_price  \\\n",
       "0   25.599769 2021-01-01      1             6                 0   \n",
       "1   15.816871 2021-01-18      1             6                 0   \n",
       "2    6.232113 2021-04-20      4             6                 0   \n",
       "3   18.511000 2021-08-11      8             6                 0   \n",
       "4   26.265803 2021-08-28      8             6                 0   \n",
       "..        ...        ...    ...           ...               ...   \n",
       "95  10.520886 2021-08-04      8             6                 0   \n",
       "96  13.144154 2021-09-20      9             6                 0   \n",
       "97  12.475908 2021-10-30     10             6                 0   \n",
       "98  21.645314 2021-12-18     12             6                 0   \n",
       "99   9.624872 2021-02-04      2             6                 0   \n",
       "\n",
       "    subscription_fee  \n",
       "0                199  \n",
       "1                199  \n",
       "2                199  \n",
       "3                199  \n",
       "4                199  \n",
       "..               ...  \n",
       "95               199  \n",
       "96               199  \n",
       "97               199  \n",
       "98               199  \n",
       "99               199  \n",
       "\n",
       "[100 rows x 12 columns]"
      ]
     },
     "execution_count": 41,
     "metadata": {},
     "output_type": "execute_result"
    }
   ],
   "source": [
    "data_full = data_users.merge(data_riders)\n",
    "data_full = data_full.merge(data_sub)\n",
    "data_full.head(100)"
   ]
  },
  {
   "cell_type": "code",
   "execution_count": 42,
   "id": "d63ed20d",
   "metadata": {},
   "outputs": [
    {
     "name": "stdout",
     "output_type": "stream",
     "text": [
      "<class 'pandas.core.frame.DataFrame'>\n",
      "Int64Index: 18068 entries, 0 to 18067\n",
      "Data columns (total 12 columns):\n",
      " #   Column             Non-Null Count  Dtype         \n",
      "---  ------             --------------  -----         \n",
      " 0   user_id            18068 non-null  int64         \n",
      " 1   name               18068 non-null  object        \n",
      " 2   age                18068 non-null  int64         \n",
      " 3   city               18068 non-null  object        \n",
      " 4   subscription_type  18068 non-null  object        \n",
      " 5   distance           18068 non-null  float64       \n",
      " 6   duration           18068 non-null  float64       \n",
      " 7   date               18068 non-null  datetime64[ns]\n",
      " 8   month              18068 non-null  int64         \n",
      " 9   minute_price       18068 non-null  int64         \n",
      " 10  start_ride_price   18068 non-null  int64         \n",
      " 11  subscription_fee   18068 non-null  int64         \n",
      "dtypes: datetime64[ns](1), float64(2), int64(6), object(3)\n",
      "memory usage: 1.8+ MB\n"
     ]
    }
   ],
   "source": [
    "data_full.info()"
   ]
  },
  {
   "cell_type": "markdown",
   "id": "9201a7aa",
   "metadata": {},
   "source": [
    "Все объеденилось корректно, продолжаем"
   ]
  },
  {
   "cell_type": "markdown",
   "id": "2a8a2bd4",
   "metadata": {},
   "source": [
    "##### Создадим ещё два датафрейма из датафрейма `data_full`"
   ]
  },
  {
   "cell_type": "markdown",
   "id": "78154b8d",
   "metadata": {},
   "source": [
    "Датафрейм c данными о пользователях без подписки"
   ]
  },
  {
   "cell_type": "code",
   "execution_count": 43,
   "id": "ca7de303",
   "metadata": {},
   "outputs": [
    {
     "data": {
      "text/html": [
       "<div>\n",
       "<style scoped>\n",
       "    .dataframe tbody tr th:only-of-type {\n",
       "        vertical-align: middle;\n",
       "    }\n",
       "\n",
       "    .dataframe tbody tr th {\n",
       "        vertical-align: top;\n",
       "    }\n",
       "\n",
       "    .dataframe thead th {\n",
       "        text-align: right;\n",
       "    }\n",
       "</style>\n",
       "<table border=\"1\" class=\"dataframe\">\n",
       "  <thead>\n",
       "    <tr style=\"text-align: right;\">\n",
       "      <th></th>\n",
       "      <th>user_id</th>\n",
       "      <th>name</th>\n",
       "      <th>age</th>\n",
       "      <th>city</th>\n",
       "      <th>subscription_type</th>\n",
       "      <th>distance</th>\n",
       "      <th>duration</th>\n",
       "      <th>date</th>\n",
       "      <th>month</th>\n",
       "      <th>minute_price</th>\n",
       "      <th>start_ride_price</th>\n",
       "      <th>subscription_fee</th>\n",
       "    </tr>\n",
       "  </thead>\n",
       "  <tbody>\n",
       "    <tr>\n",
       "      <th>6500</th>\n",
       "      <td>700</td>\n",
       "      <td>Айдар</td>\n",
       "      <td>22</td>\n",
       "      <td>Омск</td>\n",
       "      <td>free</td>\n",
       "      <td>2515.690719</td>\n",
       "      <td>14.944286</td>\n",
       "      <td>2021-01-02</td>\n",
       "      <td>1</td>\n",
       "      <td>8</td>\n",
       "      <td>50</td>\n",
       "      <td>0</td>\n",
       "    </tr>\n",
       "    <tr>\n",
       "      <th>6501</th>\n",
       "      <td>700</td>\n",
       "      <td>Айдар</td>\n",
       "      <td>22</td>\n",
       "      <td>Омск</td>\n",
       "      <td>free</td>\n",
       "      <td>846.932642</td>\n",
       "      <td>16.234663</td>\n",
       "      <td>2021-02-01</td>\n",
       "      <td>2</td>\n",
       "      <td>8</td>\n",
       "      <td>50</td>\n",
       "      <td>0</td>\n",
       "    </tr>\n",
       "    <tr>\n",
       "      <th>6502</th>\n",
       "      <td>700</td>\n",
       "      <td>Айдар</td>\n",
       "      <td>22</td>\n",
       "      <td>Омск</td>\n",
       "      <td>free</td>\n",
       "      <td>4004.434142</td>\n",
       "      <td>20.016628</td>\n",
       "      <td>2021-02-04</td>\n",
       "      <td>2</td>\n",
       "      <td>8</td>\n",
       "      <td>50</td>\n",
       "      <td>0</td>\n",
       "    </tr>\n",
       "    <tr>\n",
       "      <th>6503</th>\n",
       "      <td>700</td>\n",
       "      <td>Айдар</td>\n",
       "      <td>22</td>\n",
       "      <td>Омск</td>\n",
       "      <td>free</td>\n",
       "      <td>1205.911290</td>\n",
       "      <td>9.782872</td>\n",
       "      <td>2021-02-10</td>\n",
       "      <td>2</td>\n",
       "      <td>8</td>\n",
       "      <td>50</td>\n",
       "      <td>0</td>\n",
       "    </tr>\n",
       "    <tr>\n",
       "      <th>6504</th>\n",
       "      <td>700</td>\n",
       "      <td>Айдар</td>\n",
       "      <td>22</td>\n",
       "      <td>Омск</td>\n",
       "      <td>free</td>\n",
       "      <td>3047.379435</td>\n",
       "      <td>17.427673</td>\n",
       "      <td>2021-02-14</td>\n",
       "      <td>2</td>\n",
       "      <td>8</td>\n",
       "      <td>50</td>\n",
       "      <td>0</td>\n",
       "    </tr>\n",
       "    <tr>\n",
       "      <th>...</th>\n",
       "      <td>...</td>\n",
       "      <td>...</td>\n",
       "      <td>...</td>\n",
       "      <td>...</td>\n",
       "      <td>...</td>\n",
       "      <td>...</td>\n",
       "      <td>...</td>\n",
       "      <td>...</td>\n",
       "      <td>...</td>\n",
       "      <td>...</td>\n",
       "      <td>...</td>\n",
       "      <td>...</td>\n",
       "    </tr>\n",
       "    <tr>\n",
       "      <th>6595</th>\n",
       "      <td>706</td>\n",
       "      <td>Юрий</td>\n",
       "      <td>23</td>\n",
       "      <td>Краснодар</td>\n",
       "      <td>free</td>\n",
       "      <td>2285.965977</td>\n",
       "      <td>19.079924</td>\n",
       "      <td>2021-06-16</td>\n",
       "      <td>6</td>\n",
       "      <td>8</td>\n",
       "      <td>50</td>\n",
       "      <td>0</td>\n",
       "    </tr>\n",
       "    <tr>\n",
       "      <th>6596</th>\n",
       "      <td>706</td>\n",
       "      <td>Юрий</td>\n",
       "      <td>23</td>\n",
       "      <td>Краснодар</td>\n",
       "      <td>free</td>\n",
       "      <td>4942.953065</td>\n",
       "      <td>30.476510</td>\n",
       "      <td>2021-07-07</td>\n",
       "      <td>7</td>\n",
       "      <td>8</td>\n",
       "      <td>50</td>\n",
       "      <td>0</td>\n",
       "    </tr>\n",
       "    <tr>\n",
       "      <th>6597</th>\n",
       "      <td>706</td>\n",
       "      <td>Юрий</td>\n",
       "      <td>23</td>\n",
       "      <td>Краснодар</td>\n",
       "      <td>free</td>\n",
       "      <td>2440.146524</td>\n",
       "      <td>12.365600</td>\n",
       "      <td>2021-07-10</td>\n",
       "      <td>7</td>\n",
       "      <td>8</td>\n",
       "      <td>50</td>\n",
       "      <td>0</td>\n",
       "    </tr>\n",
       "    <tr>\n",
       "      <th>6598</th>\n",
       "      <td>706</td>\n",
       "      <td>Юрий</td>\n",
       "      <td>23</td>\n",
       "      <td>Краснодар</td>\n",
       "      <td>free</td>\n",
       "      <td>3369.361706</td>\n",
       "      <td>10.738723</td>\n",
       "      <td>2021-08-26</td>\n",
       "      <td>8</td>\n",
       "      <td>8</td>\n",
       "      <td>50</td>\n",
       "      <td>0</td>\n",
       "    </tr>\n",
       "    <tr>\n",
       "      <th>6599</th>\n",
       "      <td>706</td>\n",
       "      <td>Юрий</td>\n",
       "      <td>23</td>\n",
       "      <td>Краснодар</td>\n",
       "      <td>free</td>\n",
       "      <td>2475.365121</td>\n",
       "      <td>10.736583</td>\n",
       "      <td>2021-10-08</td>\n",
       "      <td>10</td>\n",
       "      <td>8</td>\n",
       "      <td>50</td>\n",
       "      <td>0</td>\n",
       "    </tr>\n",
       "  </tbody>\n",
       "</table>\n",
       "<p>100 rows × 12 columns</p>\n",
       "</div>"
      ],
      "text/plain": [
       "      user_id   name  age       city subscription_type     distance  \\\n",
       "6500      700  Айдар   22       Омск              free  2515.690719   \n",
       "6501      700  Айдар   22       Омск              free   846.932642   \n",
       "6502      700  Айдар   22       Омск              free  4004.434142   \n",
       "6503      700  Айдар   22       Омск              free  1205.911290   \n",
       "6504      700  Айдар   22       Омск              free  3047.379435   \n",
       "...       ...    ...  ...        ...               ...          ...   \n",
       "6595      706   Юрий   23  Краснодар              free  2285.965977   \n",
       "6596      706   Юрий   23  Краснодар              free  4942.953065   \n",
       "6597      706   Юрий   23  Краснодар              free  2440.146524   \n",
       "6598      706   Юрий   23  Краснодар              free  3369.361706   \n",
       "6599      706   Юрий   23  Краснодар              free  2475.365121   \n",
       "\n",
       "       duration       date  month  minute_price  start_ride_price  \\\n",
       "6500  14.944286 2021-01-02      1             8                50   \n",
       "6501  16.234663 2021-02-01      2             8                50   \n",
       "6502  20.016628 2021-02-04      2             8                50   \n",
       "6503   9.782872 2021-02-10      2             8                50   \n",
       "6504  17.427673 2021-02-14      2             8                50   \n",
       "...         ...        ...    ...           ...               ...   \n",
       "6595  19.079924 2021-06-16      6             8                50   \n",
       "6596  30.476510 2021-07-07      7             8                50   \n",
       "6597  12.365600 2021-07-10      7             8                50   \n",
       "6598  10.738723 2021-08-26      8             8                50   \n",
       "6599  10.736583 2021-10-08     10             8                50   \n",
       "\n",
       "      subscription_fee  \n",
       "6500                 0  \n",
       "6501                 0  \n",
       "6502                 0  \n",
       "6503                 0  \n",
       "6504                 0  \n",
       "...                ...  \n",
       "6595                 0  \n",
       "6596                 0  \n",
       "6597                 0  \n",
       "6598                 0  \n",
       "6599                 0  \n",
       "\n",
       "[100 rows x 12 columns]"
      ]
     },
     "execution_count": 43,
     "metadata": {},
     "output_type": "execute_result"
    }
   ],
   "source": [
    "data_sub_free = data_full.query('subscription_type == \"free\"')\n",
    "data_sub_free.head(100)"
   ]
  },
  {
   "cell_type": "markdown",
   "id": "05b8892c",
   "metadata": {},
   "source": [
    "Датафрейм c данными о пользователях c подпиской"
   ]
  },
  {
   "cell_type": "code",
   "execution_count": 44,
   "id": "ad3565c7",
   "metadata": {},
   "outputs": [
    {
     "data": {
      "text/html": [
       "<div>\n",
       "<style scoped>\n",
       "    .dataframe tbody tr th:only-of-type {\n",
       "        vertical-align: middle;\n",
       "    }\n",
       "\n",
       "    .dataframe tbody tr th {\n",
       "        vertical-align: top;\n",
       "    }\n",
       "\n",
       "    .dataframe thead th {\n",
       "        text-align: right;\n",
       "    }\n",
       "</style>\n",
       "<table border=\"1\" class=\"dataframe\">\n",
       "  <thead>\n",
       "    <tr style=\"text-align: right;\">\n",
       "      <th></th>\n",
       "      <th>user_id</th>\n",
       "      <th>name</th>\n",
       "      <th>age</th>\n",
       "      <th>city</th>\n",
       "      <th>subscription_type</th>\n",
       "      <th>distance</th>\n",
       "      <th>duration</th>\n",
       "      <th>date</th>\n",
       "      <th>month</th>\n",
       "      <th>minute_price</th>\n",
       "      <th>start_ride_price</th>\n",
       "      <th>subscription_fee</th>\n",
       "    </tr>\n",
       "  </thead>\n",
       "  <tbody>\n",
       "    <tr>\n",
       "      <th>0</th>\n",
       "      <td>1</td>\n",
       "      <td>Кира</td>\n",
       "      <td>22</td>\n",
       "      <td>Тюмень</td>\n",
       "      <td>ultra</td>\n",
       "      <td>4409.919140</td>\n",
       "      <td>25.599769</td>\n",
       "      <td>2021-01-01</td>\n",
       "      <td>1</td>\n",
       "      <td>6</td>\n",
       "      <td>0</td>\n",
       "      <td>199</td>\n",
       "    </tr>\n",
       "    <tr>\n",
       "      <th>1</th>\n",
       "      <td>1</td>\n",
       "      <td>Кира</td>\n",
       "      <td>22</td>\n",
       "      <td>Тюмень</td>\n",
       "      <td>ultra</td>\n",
       "      <td>2617.592153</td>\n",
       "      <td>15.816871</td>\n",
       "      <td>2021-01-18</td>\n",
       "      <td>1</td>\n",
       "      <td>6</td>\n",
       "      <td>0</td>\n",
       "      <td>199</td>\n",
       "    </tr>\n",
       "    <tr>\n",
       "      <th>2</th>\n",
       "      <td>1</td>\n",
       "      <td>Кира</td>\n",
       "      <td>22</td>\n",
       "      <td>Тюмень</td>\n",
       "      <td>ultra</td>\n",
       "      <td>754.159807</td>\n",
       "      <td>6.232113</td>\n",
       "      <td>2021-04-20</td>\n",
       "      <td>4</td>\n",
       "      <td>6</td>\n",
       "      <td>0</td>\n",
       "      <td>199</td>\n",
       "    </tr>\n",
       "    <tr>\n",
       "      <th>3</th>\n",
       "      <td>1</td>\n",
       "      <td>Кира</td>\n",
       "      <td>22</td>\n",
       "      <td>Тюмень</td>\n",
       "      <td>ultra</td>\n",
       "      <td>2694.783254</td>\n",
       "      <td>18.511000</td>\n",
       "      <td>2021-08-11</td>\n",
       "      <td>8</td>\n",
       "      <td>6</td>\n",
       "      <td>0</td>\n",
       "      <td>199</td>\n",
       "    </tr>\n",
       "    <tr>\n",
       "      <th>4</th>\n",
       "      <td>1</td>\n",
       "      <td>Кира</td>\n",
       "      <td>22</td>\n",
       "      <td>Тюмень</td>\n",
       "      <td>ultra</td>\n",
       "      <td>4028.687306</td>\n",
       "      <td>26.265803</td>\n",
       "      <td>2021-08-28</td>\n",
       "      <td>8</td>\n",
       "      <td>6</td>\n",
       "      <td>0</td>\n",
       "      <td>199</td>\n",
       "    </tr>\n",
       "    <tr>\n",
       "      <th>...</th>\n",
       "      <td>...</td>\n",
       "      <td>...</td>\n",
       "      <td>...</td>\n",
       "      <td>...</td>\n",
       "      <td>...</td>\n",
       "      <td>...</td>\n",
       "      <td>...</td>\n",
       "      <td>...</td>\n",
       "      <td>...</td>\n",
       "      <td>...</td>\n",
       "      <td>...</td>\n",
       "      <td>...</td>\n",
       "    </tr>\n",
       "    <tr>\n",
       "      <th>95</th>\n",
       "      <td>9</td>\n",
       "      <td>Ян</td>\n",
       "      <td>21</td>\n",
       "      <td>Пятигорск</td>\n",
       "      <td>ultra</td>\n",
       "      <td>2717.035685</td>\n",
       "      <td>10.520886</td>\n",
       "      <td>2021-08-04</td>\n",
       "      <td>8</td>\n",
       "      <td>6</td>\n",
       "      <td>0</td>\n",
       "      <td>199</td>\n",
       "    </tr>\n",
       "    <tr>\n",
       "      <th>96</th>\n",
       "      <td>9</td>\n",
       "      <td>Ян</td>\n",
       "      <td>21</td>\n",
       "      <td>Пятигорск</td>\n",
       "      <td>ultra</td>\n",
       "      <td>2536.038610</td>\n",
       "      <td>13.144154</td>\n",
       "      <td>2021-09-20</td>\n",
       "      <td>9</td>\n",
       "      <td>6</td>\n",
       "      <td>0</td>\n",
       "      <td>199</td>\n",
       "    </tr>\n",
       "    <tr>\n",
       "      <th>97</th>\n",
       "      <td>9</td>\n",
       "      <td>Ян</td>\n",
       "      <td>21</td>\n",
       "      <td>Пятигорск</td>\n",
       "      <td>ultra</td>\n",
       "      <td>3672.893449</td>\n",
       "      <td>12.475908</td>\n",
       "      <td>2021-10-30</td>\n",
       "      <td>10</td>\n",
       "      <td>6</td>\n",
       "      <td>0</td>\n",
       "      <td>199</td>\n",
       "    </tr>\n",
       "    <tr>\n",
       "      <th>98</th>\n",
       "      <td>9</td>\n",
       "      <td>Ян</td>\n",
       "      <td>21</td>\n",
       "      <td>Пятигорск</td>\n",
       "      <td>ultra</td>\n",
       "      <td>2729.062718</td>\n",
       "      <td>21.645314</td>\n",
       "      <td>2021-12-18</td>\n",
       "      <td>12</td>\n",
       "      <td>6</td>\n",
       "      <td>0</td>\n",
       "      <td>199</td>\n",
       "    </tr>\n",
       "    <tr>\n",
       "      <th>99</th>\n",
       "      <td>10</td>\n",
       "      <td>Валерий</td>\n",
       "      <td>18</td>\n",
       "      <td>Екатеринбург</td>\n",
       "      <td>ultra</td>\n",
       "      <td>3202.021507</td>\n",
       "      <td>9.624872</td>\n",
       "      <td>2021-02-04</td>\n",
       "      <td>2</td>\n",
       "      <td>6</td>\n",
       "      <td>0</td>\n",
       "      <td>199</td>\n",
       "    </tr>\n",
       "  </tbody>\n",
       "</table>\n",
       "<p>100 rows × 12 columns</p>\n",
       "</div>"
      ],
      "text/plain": [
       "    user_id     name  age          city subscription_type     distance  \\\n",
       "0         1     Кира   22        Тюмень             ultra  4409.919140   \n",
       "1         1     Кира   22        Тюмень             ultra  2617.592153   \n",
       "2         1     Кира   22        Тюмень             ultra   754.159807   \n",
       "3         1     Кира   22        Тюмень             ultra  2694.783254   \n",
       "4         1     Кира   22        Тюмень             ultra  4028.687306   \n",
       "..      ...      ...  ...           ...               ...          ...   \n",
       "95        9       Ян   21     Пятигорск             ultra  2717.035685   \n",
       "96        9       Ян   21     Пятигорск             ultra  2536.038610   \n",
       "97        9       Ян   21     Пятигорск             ultra  3672.893449   \n",
       "98        9       Ян   21     Пятигорск             ultra  2729.062718   \n",
       "99       10  Валерий   18  Екатеринбург             ultra  3202.021507   \n",
       "\n",
       "     duration       date  month  minute_price  start_ride_price  \\\n",
       "0   25.599769 2021-01-01      1             6                 0   \n",
       "1   15.816871 2021-01-18      1             6                 0   \n",
       "2    6.232113 2021-04-20      4             6                 0   \n",
       "3   18.511000 2021-08-11      8             6                 0   \n",
       "4   26.265803 2021-08-28      8             6                 0   \n",
       "..        ...        ...    ...           ...               ...   \n",
       "95  10.520886 2021-08-04      8             6                 0   \n",
       "96  13.144154 2021-09-20      9             6                 0   \n",
       "97  12.475908 2021-10-30     10             6                 0   \n",
       "98  21.645314 2021-12-18     12             6                 0   \n",
       "99   9.624872 2021-02-04      2             6                 0   \n",
       "\n",
       "    subscription_fee  \n",
       "0                199  \n",
       "1                199  \n",
       "2                199  \n",
       "3                199  \n",
       "4                199  \n",
       "..               ...  \n",
       "95               199  \n",
       "96               199  \n",
       "97               199  \n",
       "98               199  \n",
       "99               199  \n",
       "\n",
       "[100 rows x 12 columns]"
      ]
     },
     "execution_count": 44,
     "metadata": {},
     "output_type": "execute_result"
    }
   ],
   "source": [
    "data_sub_ultra = data_full.query('subscription_type == \"ultra\"')\n",
    "data_sub_ultra.head(100)"
   ]
  },
  {
   "cell_type": "markdown",
   "id": "40e392a8",
   "metadata": {},
   "source": [
    "##### Визуализируем информацию о расстоянии и времени поездок для пользователей обеих категорий."
   ]
  },
  {
   "cell_type": "markdown",
   "id": "b20ef33b",
   "metadata": {},
   "source": [
    "Визуализируем данные о расстоянии поездки для датафрейма c данными о пользователях без подписки"
   ]
  },
  {
   "cell_type": "code",
   "execution_count": 45,
   "id": "368d9cb7",
   "metadata": {},
   "outputs": [
    {
     "data": {
      "image/png": "[encoded data removed]",
      "text/plain": [
       "<Figure size 432x288 with 1 Axes>"
      ]
     },
     "metadata": {
      "needs_background": "light"
     },
     "output_type": "display_data"
    }
   ],
   "source": [
    "plt.hist(data_sub_free['distance'], bins=100)\n",
    "plt.title('Распределение данных о дистанции поездки пользователей без подписки')\n",
    "plt.xlabel('Дистанция поездки, м')\n",
    "plt.ylabel('Количество пользователей')\n",
    "plt.grid()"
   ]
  },
  {
   "cell_type": "markdown",
   "id": "118efc3c",
   "metadata": {},
   "source": [
    "*Преобладающее число пользователей без подписки проезжают от 3 до 4 км, так же есть небольшой пик от 0 до 1 км*"
   ]
  },
  {
   "cell_type": "markdown",
   "id": "57ce87d9",
   "metadata": {},
   "source": [
    "Визуализируем данные о времени поездки для датафрейма c данными о пользователях без подписки"
   ]
  },
  {
   "cell_type": "code",
   "execution_count": 46,
   "id": "a562af79",
   "metadata": {},
   "outputs": [
    {
     "data": {
      "image/png": "[encoded data removed]",
      "text/plain": [
       "<Figure size 432x288 with 1 Axes>"
      ]
     },
     "metadata": {
      "needs_background": "light"
     },
     "output_type": "display_data"
    }
   ],
   "source": [
    "plt.hist(data_sub_free['duration'], bins=100)\n",
    "plt.title('Распределение данных о времени поездки пользователей без подписки')\n",
    "plt.xlabel('Время поездки, мин')\n",
    "plt.ylabel('Количество пользователей')\n",
    "plt.grid()"
   ]
  },
  {
   "cell_type": "markdown",
   "id": "1982fb80",
   "metadata": {},
   "source": [
    "*Преобладающее число пользователей без подписки имеют время поездки от 11 до 21 минуты, так же есть странный пик около 0 минут*"
   ]
  },
  {
   "cell_type": "markdown",
   "id": "14ed0ebc",
   "metadata": {},
   "source": [
    "Визуализируем данные о расстоянии поездки для датафрейма c данными о пользователях с подпиской"
   ]
  },
  {
   "cell_type": "code",
   "execution_count": 47,
   "id": "a8b24da4",
   "metadata": {},
   "outputs": [
    {
     "data": {
      "image/png": "[encoded data removed]",
      "text/plain": [
       "<Figure size 432x288 with 1 Axes>"
      ]
     },
     "metadata": {
      "needs_background": "light"
     },
     "output_type": "display_data"
    }
   ],
   "source": [
    "plt.hist(data_sub_ultra['distance'], bins=100)\n",
    "plt.title('Распределение данных о дистанции поездки пользователей с подпиской')\n",
    "plt.xlabel('Дистанция поездки, м')\n",
    "plt.ylabel('Количество пользователей')\n",
    "plt.grid()"
   ]
  },
  {
   "cell_type": "markdown",
   "id": "3f481ca4",
   "metadata": {},
   "source": [
    "*Преобладающее число пользователей с подпиской проезжают от 2.5 до 3.5 км, так же есть небольшой пик в районе 1 км*"
   ]
  },
  {
   "cell_type": "markdown",
   "id": "01fb6e91",
   "metadata": {},
   "source": [
    "Визуализируем данные о времени поездки для датафрейма c данными о пользователях с подпиской"
   ]
  },
  {
   "cell_type": "code",
   "execution_count": 48,
   "id": "3e5881a7",
   "metadata": {},
   "outputs": [
    {
     "data": {
      "image/png": "[encoded data removed]",
      "text/plain": [
       "<Figure size 432x288 with 1 Axes>"
      ]
     },
     "metadata": {
      "needs_background": "light"
     },
     "output_type": "display_data"
    }
   ],
   "source": [
    "plt.hist(data_sub_ultra['duration'], bins=100)\n",
    "plt.title('Распределение данных о времени поездки пользователей с подпиской')\n",
    "plt.xlabel('Время поездки, мин')\n",
    "plt.ylabel('Количество пользователей')\n",
    "plt.grid()"
   ]
  },
  {
   "cell_type": "markdown",
   "id": "709dd9cb",
   "metadata": {},
   "source": [
    "*Преобладающее число пользователей с подпиской имеют время поездки от 12 до 22 минут*"
   ]
  },
  {
   "cell_type": "code",
   "execution_count": 49,
   "id": "0e96616d",
   "metadata": {},
   "outputs": [
    {
     "data": {
      "image/png": "[encoded data removed]",
      "text/plain": [
       "<Figure size 432x288 with 1 Axes>"
      ]
     },
     "metadata": {
      "needs_background": "light"
     },
     "output_type": "display_data"
    }
   ],
   "source": [
    "plt.hist([data_sub_free['distance'], data_sub_ultra['distance']], bins=100, alpha=0.7, label=['без подписки', 'c подпиской'])\n",
    "plt.title('Распределение данных о дистанции поездки пользователей сервиса GoFast')\n",
    "plt.xlabel('Дистанция поездки, м')\n",
    "plt.ylabel('Количество пользователей')\n",
    "plt.legend()\n",
    "plt.grid()"
   ]
  },
  {
   "cell_type": "code",
   "execution_count": 50,
   "id": "642ee0ff",
   "metadata": {},
   "outputs": [
    {
     "data": {
      "image/png": "[encoded data removed]",
      "text/plain": [
       "<Figure size 432x288 with 1 Axes>"
      ]
     },
     "metadata": {
      "needs_background": "light"
     },
     "output_type": "display_data"
    }
   ],
   "source": [
    "plt.hist([data_sub_free['duration'], data_sub_ultra['duration']], bins=100, alpha=0.7, label=['без подписки', 'c подпиской'])\n",
    "plt.title('Распределение данных о времени поездки пользователей сервиса GoFast')\n",
    "plt.xlabel('Время поездки, мин')\n",
    "plt.ylabel('Количество пользователей')\n",
    "plt.legend()\n",
    "plt.grid()"
   ]
  },
  {
   "cell_type": "markdown",
   "id": "9653ba00",
   "metadata": {},
   "source": [
    "**Выводы**\n",
    "\n",
    "Объединили данные о пользователях, поездках и подписках в один датафрейм `data_full`\n",
    "\n",
    "Создали ещё два датафрейма из датафрейма `data_full`:\n",
    "\n",
    "- о пользователях без подписки `data_sub_free`;\n",
    "- о пользователях с подпиской `data_sub_ultra`.\n",
    "\n",
    "Визуализировали данные о длительности и времени поездок пользователей с подпиской и без:\n",
    "\n",
    "- преобладающее число пользователей без подписки проезжают от 3 до 4 км, так же есть небольшой пик от 0 до 1 км;\n",
    "- преобладающее число пользователей без подписки имеют время поездки от 11 до 21 минуты, так же есть странный пик около 0 минут;\n",
    "- преобладающее число пользователей с подпиской проезжают от 2.5 до 3.5 км, так же есть небольшой пик в районе 1 км;\n",
    "- преобладающее число пользователей с подпиской имеют время поездки от 12 до 22 минут.\n",
    "\n",
    "*Так же есть странный пик около 0 минут у пользователей без подписки, у пользователей с подпиской его нет, пока что нет никаких предположений о том, что это*\n",
    "\n",
    "Гаффик *Распределение данных о дистанции поездки пользователей сервиса GoFast*, показывает что длинные и короткие поездки чаще совершают пользователеи без подписки, а пользоатели с подпиской, чаще всего проезжают от 2.5 до 3.5 км.\n",
    "\n",
    "Граффик *Распределение данных о времени поездки пользователей сервиса GoFast*, что на всех временных промежутках пользователи без подписки больше, а длительные поездки, от 35 минут, совершают только пользователи с подпиской."
   ]
  },
  {
   "cell_type": "markdown",
   "id": "402d620f",
   "metadata": {},
   "source": [
    "#### Шаг 5. Подсчёт выручки"
   ]
  },
  {
   "cell_type": "markdown",
   "id": "3d7c3e45",
   "metadata": {},
   "source": [
    "##### Создадим датафрейм с агрегированными данными о поездках на основе датафрейма с объединёнными данными из шага 4.1: найдем суммарное расстояние, количество поездок и суммарное время для каждого пользователя за каждый месяц."
   ]
  },
  {
   "cell_type": "code",
   "execution_count": 51,
   "id": "6477a3ad",
   "metadata": {},
   "outputs": [
    {
     "data": {
      "text/html": [
       "<div>\n",
       "<style scoped>\n",
       "    .dataframe tbody tr th:only-of-type {\n",
       "        vertical-align: middle;\n",
       "    }\n",
       "\n",
       "    .dataframe tbody tr th {\n",
       "        vertical-align: top;\n",
       "    }\n",
       "\n",
       "    .dataframe thead th {\n",
       "        text-align: right;\n",
       "    }\n",
       "</style>\n",
       "<table border=\"1\" class=\"dataframe\">\n",
       "  <thead>\n",
       "    <tr style=\"text-align: right;\">\n",
       "      <th></th>\n",
       "      <th></th>\n",
       "      <th>distance</th>\n",
       "      <th>duration</th>\n",
       "      <th>name</th>\n",
       "      <th>subscription_type</th>\n",
       "    </tr>\n",
       "    <tr>\n",
       "      <th>month</th>\n",
       "      <th>user_id</th>\n",
       "      <th></th>\n",
       "      <th></th>\n",
       "      <th></th>\n",
       "      <th></th>\n",
       "    </tr>\n",
       "  </thead>\n",
       "  <tbody>\n",
       "    <tr>\n",
       "      <th rowspan=\"10\" valign=\"top\">1</th>\n",
       "      <th>1</th>\n",
       "      <td>7027.511294</td>\n",
       "      <td>42.0</td>\n",
       "      <td>2</td>\n",
       "      <td>ultra</td>\n",
       "    </tr>\n",
       "    <tr>\n",
       "      <th>3</th>\n",
       "      <td>3061.777147</td>\n",
       "      <td>13.0</td>\n",
       "      <td>1</td>\n",
       "      <td>ultra</td>\n",
       "    </tr>\n",
       "    <tr>\n",
       "      <th>5</th>\n",
       "      <td>3914.646990</td>\n",
       "      <td>13.0</td>\n",
       "      <td>1</td>\n",
       "      <td>ultra</td>\n",
       "    </tr>\n",
       "    <tr>\n",
       "      <th>7</th>\n",
       "      <td>6478.080979</td>\n",
       "      <td>28.0</td>\n",
       "      <td>2</td>\n",
       "      <td>ultra</td>\n",
       "    </tr>\n",
       "    <tr>\n",
       "      <th>12</th>\n",
       "      <td>3577.151148</td>\n",
       "      <td>33.0</td>\n",
       "      <td>1</td>\n",
       "      <td>ultra</td>\n",
       "    </tr>\n",
       "    <tr>\n",
       "      <th>13</th>\n",
       "      <td>6687.987446</td>\n",
       "      <td>42.0</td>\n",
       "      <td>2</td>\n",
       "      <td>ultra</td>\n",
       "    </tr>\n",
       "    <tr>\n",
       "      <th>14</th>\n",
       "      <td>7699.643820</td>\n",
       "      <td>35.0</td>\n",
       "      <td>2</td>\n",
       "      <td>ultra</td>\n",
       "    </tr>\n",
       "    <tr>\n",
       "      <th>15</th>\n",
       "      <td>4187.621459</td>\n",
       "      <td>39.0</td>\n",
       "      <td>1</td>\n",
       "      <td>ultra</td>\n",
       "    </tr>\n",
       "    <tr>\n",
       "      <th>20</th>\n",
       "      <td>3516.719208</td>\n",
       "      <td>29.0</td>\n",
       "      <td>1</td>\n",
       "      <td>ultra</td>\n",
       "    </tr>\n",
       "    <tr>\n",
       "      <th>22</th>\n",
       "      <td>3058.692225</td>\n",
       "      <td>13.0</td>\n",
       "      <td>1</td>\n",
       "      <td>ultra</td>\n",
       "    </tr>\n",
       "  </tbody>\n",
       "</table>\n",
       "</div>"
      ],
      "text/plain": [
       "                  distance  duration  name subscription_type\n",
       "month user_id                                               \n",
       "1     1        7027.511294      42.0     2             ultra\n",
       "      3        3061.777147      13.0     1             ultra\n",
       "      5        3914.646990      13.0     1             ultra\n",
       "      7        6478.080979      28.0     2             ultra\n",
       "      12       3577.151148      33.0     1             ultra\n",
       "      13       6687.987446      42.0     2             ultra\n",
       "      14       7699.643820      35.0     2             ultra\n",
       "      15       4187.621459      39.0     1             ultra\n",
       "      20       3516.719208      29.0     1             ultra\n",
       "      22       3058.692225      13.0     1             ultra"
      ]
     },
     "execution_count": 51,
     "metadata": {},
     "output_type": "execute_result"
    }
   ],
   "source": [
    "# округлим значение в столбце `duration` с помощью \"потолка\"\n",
    "data_full['duration'] = np.ceil(data_full['duration'])\n",
    "# создадим сводную таблицу с помощью метода `pivot_table`, в качестве аргумента для `aggfunc` будет словарь, чтобы можно было выполнить разные действия с разными столбцами\n",
    "data_grouped = data_full.pivot_table(index = ['month', 'user_id'],\n",
    "                                   values = ['distance', 'duration', 'name', 'subscription_type'],\n",
    "                                   aggfunc = {'distance': sum,\n",
    "                                              'duration': sum,\n",
    "                                              # к столбцу `name` применим функцию `len`, чтобы посчитать количество поездок\n",
    "                                              'name': len,\n",
    "                                              # к столбцу `subscription_type` применим функцию `min`, чтобы оставить единственное значение\n",
    "                                              'subscription_type': min\n",
    "                                             }\n",
    ")\n",
    "data_grouped.head(10)"
   ]
  },
  {
   "cell_type": "code",
   "execution_count": 52,
   "id": "8437efbe",
   "metadata": {},
   "outputs": [
    {
     "data": {
      "text/html": [
       "<div>\n",
       "<style scoped>\n",
       "    .dataframe tbody tr th:only-of-type {\n",
       "        vertical-align: middle;\n",
       "    }\n",
       "\n",
       "    .dataframe tbody tr th {\n",
       "        vertical-align: top;\n",
       "    }\n",
       "\n",
       "    .dataframe thead th {\n",
       "        text-align: right;\n",
       "    }\n",
       "</style>\n",
       "<table border=\"1\" class=\"dataframe\">\n",
       "  <thead>\n",
       "    <tr style=\"text-align: right;\">\n",
       "      <th></th>\n",
       "      <th></th>\n",
       "      <th>distance</th>\n",
       "      <th>duration</th>\n",
       "      <th>number_trips</th>\n",
       "      <th>subscription_type</th>\n",
       "    </tr>\n",
       "    <tr>\n",
       "      <th>month</th>\n",
       "      <th>user_id</th>\n",
       "      <th></th>\n",
       "      <th></th>\n",
       "      <th></th>\n",
       "      <th></th>\n",
       "    </tr>\n",
       "  </thead>\n",
       "  <tbody>\n",
       "    <tr>\n",
       "      <th rowspan=\"10\" valign=\"top\">1</th>\n",
       "      <th>1</th>\n",
       "      <td>7027.511294</td>\n",
       "      <td>42.0</td>\n",
       "      <td>2</td>\n",
       "      <td>ultra</td>\n",
       "    </tr>\n",
       "    <tr>\n",
       "      <th>3</th>\n",
       "      <td>3061.777147</td>\n",
       "      <td>13.0</td>\n",
       "      <td>1</td>\n",
       "      <td>ultra</td>\n",
       "    </tr>\n",
       "    <tr>\n",
       "      <th>5</th>\n",
       "      <td>3914.646990</td>\n",
       "      <td>13.0</td>\n",
       "      <td>1</td>\n",
       "      <td>ultra</td>\n",
       "    </tr>\n",
       "    <tr>\n",
       "      <th>7</th>\n",
       "      <td>6478.080979</td>\n",
       "      <td>28.0</td>\n",
       "      <td>2</td>\n",
       "      <td>ultra</td>\n",
       "    </tr>\n",
       "    <tr>\n",
       "      <th>12</th>\n",
       "      <td>3577.151148</td>\n",
       "      <td>33.0</td>\n",
       "      <td>1</td>\n",
       "      <td>ultra</td>\n",
       "    </tr>\n",
       "    <tr>\n",
       "      <th>13</th>\n",
       "      <td>6687.987446</td>\n",
       "      <td>42.0</td>\n",
       "      <td>2</td>\n",
       "      <td>ultra</td>\n",
       "    </tr>\n",
       "    <tr>\n",
       "      <th>14</th>\n",
       "      <td>7699.643820</td>\n",
       "      <td>35.0</td>\n",
       "      <td>2</td>\n",
       "      <td>ultra</td>\n",
       "    </tr>\n",
       "    <tr>\n",
       "      <th>15</th>\n",
       "      <td>4187.621459</td>\n",
       "      <td>39.0</td>\n",
       "      <td>1</td>\n",
       "      <td>ultra</td>\n",
       "    </tr>\n",
       "    <tr>\n",
       "      <th>20</th>\n",
       "      <td>3516.719208</td>\n",
       "      <td>29.0</td>\n",
       "      <td>1</td>\n",
       "      <td>ultra</td>\n",
       "    </tr>\n",
       "    <tr>\n",
       "      <th>22</th>\n",
       "      <td>3058.692225</td>\n",
       "      <td>13.0</td>\n",
       "      <td>1</td>\n",
       "      <td>ultra</td>\n",
       "    </tr>\n",
       "  </tbody>\n",
       "</table>\n",
       "</div>"
      ],
      "text/plain": [
       "                  distance  duration  number_trips subscription_type\n",
       "month user_id                                                       \n",
       "1     1        7027.511294      42.0             2             ultra\n",
       "      3        3061.777147      13.0             1             ultra\n",
       "      5        3914.646990      13.0             1             ultra\n",
       "      7        6478.080979      28.0             2             ultra\n",
       "      12       3577.151148      33.0             1             ultra\n",
       "      13       6687.987446      42.0             2             ultra\n",
       "      14       7699.643820      35.0             2             ultra\n",
       "      15       4187.621459      39.0             1             ultra\n",
       "      20       3516.719208      29.0             1             ultra\n",
       "      22       3058.692225      13.0             1             ultra"
      ]
     },
     "execution_count": 52,
     "metadata": {},
     "output_type": "execute_result"
    }
   ],
   "source": [
    "# заменим название столбца `name` на `number_trips`, так как в этом столбце мы считали количество имен, как количество поездок\n",
    "data_grouped.rename(columns={'name' : 'number_trips'}, inplace=True)\n",
    "data_grouped.head(10)"
   ]
  },
  {
   "cell_type": "markdown",
   "id": "ddba20eb",
   "metadata": {},
   "source": [
    "##### В этот же датафрейм добавим столбец с помесячной выручкой, которую принёс каждый пользователь"
   ]
  },
  {
   "cell_type": "code",
   "execution_count": 53,
   "id": "2729f7c1",
   "metadata": {},
   "outputs": [
    {
     "data": {
      "text/html": [
       "<div>\n",
       "<style scoped>\n",
       "    .dataframe tbody tr th:only-of-type {\n",
       "        vertical-align: middle;\n",
       "    }\n",
       "\n",
       "    .dataframe tbody tr th {\n",
       "        vertical-align: top;\n",
       "    }\n",
       "\n",
       "    .dataframe thead th {\n",
       "        text-align: right;\n",
       "    }\n",
       "</style>\n",
       "<table border=\"1\" class=\"dataframe\">\n",
       "  <thead>\n",
       "    <tr style=\"text-align: right;\">\n",
       "      <th></th>\n",
       "      <th>subscription_type</th>\n",
       "      <th>minute_price</th>\n",
       "      <th>start_ride_price</th>\n",
       "      <th>subscription_fee</th>\n",
       "    </tr>\n",
       "  </thead>\n",
       "  <tbody>\n",
       "    <tr>\n",
       "      <th>0</th>\n",
       "      <td>free</td>\n",
       "      <td>8</td>\n",
       "      <td>50</td>\n",
       "      <td>0</td>\n",
       "    </tr>\n",
       "    <tr>\n",
       "      <th>1</th>\n",
       "      <td>ultra</td>\n",
       "      <td>6</td>\n",
       "      <td>0</td>\n",
       "      <td>199</td>\n",
       "    </tr>\n",
       "  </tbody>\n",
       "</table>\n",
       "</div>"
      ],
      "text/plain": [
       "  subscription_type  minute_price  start_ride_price  subscription_fee\n",
       "0              free             8                50                 0\n",
       "1             ultra             6                 0               199"
      ]
     },
     "execution_count": 53,
     "metadata": {},
     "output_type": "execute_result"
    }
   ],
   "source": [
    "data_sub.head()"
   ]
  },
  {
   "cell_type": "code",
   "execution_count": 54,
   "id": "f073fa93",
   "metadata": {},
   "outputs": [],
   "source": [
    "# создадим функию `revenue_calculation`, которая будет считать выручку для каждого пользователя в месяц, в зависимотсти от того, есть ли у него подписка ил нет\n",
    "def revenue_calculation(row):\n",
    "    if row['subscription_type'] == 'free':\n",
    "        return data_sub.loc[0,'minute_price'] * row['duration'] + data_sub.loc[0,'start_ride_price'] * row['number_trips']\n",
    "    elif row['subscription_type'] == 'ultra':\n",
    "        return data_sub.loc[1,'minute_price'] * row['duration'] + data_sub.loc[1,'subscription_fee']\n",
    "    else:\n",
    "        return 'Ошибка в виде подписки'"
   ]
  },
  {
   "cell_type": "code",
   "execution_count": 55,
   "id": "e2c31779",
   "metadata": {},
   "outputs": [
    {
     "data": {
      "text/html": [
       "<div>\n",
       "<style scoped>\n",
       "    .dataframe tbody tr th:only-of-type {\n",
       "        vertical-align: middle;\n",
       "    }\n",
       "\n",
       "    .dataframe tbody tr th {\n",
       "        vertical-align: top;\n",
       "    }\n",
       "\n",
       "    .dataframe thead th {\n",
       "        text-align: right;\n",
       "    }\n",
       "</style>\n",
       "<table border=\"1\" class=\"dataframe\">\n",
       "  <thead>\n",
       "    <tr style=\"text-align: right;\">\n",
       "      <th></th>\n",
       "      <th></th>\n",
       "      <th>distance</th>\n",
       "      <th>duration</th>\n",
       "      <th>number_trips</th>\n",
       "      <th>subscription_type</th>\n",
       "      <th>revenue_month</th>\n",
       "    </tr>\n",
       "    <tr>\n",
       "      <th>month</th>\n",
       "      <th>user_id</th>\n",
       "      <th></th>\n",
       "      <th></th>\n",
       "      <th></th>\n",
       "      <th></th>\n",
       "      <th></th>\n",
       "    </tr>\n",
       "  </thead>\n",
       "  <tbody>\n",
       "    <tr>\n",
       "      <th rowspan=\"10\" valign=\"top\">1</th>\n",
       "      <th>1</th>\n",
       "      <td>7027.511294</td>\n",
       "      <td>42.0</td>\n",
       "      <td>2</td>\n",
       "      <td>ultra</td>\n",
       "      <td>451.0</td>\n",
       "    </tr>\n",
       "    <tr>\n",
       "      <th>3</th>\n",
       "      <td>3061.777147</td>\n",
       "      <td>13.0</td>\n",
       "      <td>1</td>\n",
       "      <td>ultra</td>\n",
       "      <td>277.0</td>\n",
       "    </tr>\n",
       "    <tr>\n",
       "      <th>5</th>\n",
       "      <td>3914.646990</td>\n",
       "      <td>13.0</td>\n",
       "      <td>1</td>\n",
       "      <td>ultra</td>\n",
       "      <td>277.0</td>\n",
       "    </tr>\n",
       "    <tr>\n",
       "      <th>7</th>\n",
       "      <td>6478.080979</td>\n",
       "      <td>28.0</td>\n",
       "      <td>2</td>\n",
       "      <td>ultra</td>\n",
       "      <td>367.0</td>\n",
       "    </tr>\n",
       "    <tr>\n",
       "      <th>12</th>\n",
       "      <td>3577.151148</td>\n",
       "      <td>33.0</td>\n",
       "      <td>1</td>\n",
       "      <td>ultra</td>\n",
       "      <td>397.0</td>\n",
       "    </tr>\n",
       "    <tr>\n",
       "      <th>13</th>\n",
       "      <td>6687.987446</td>\n",
       "      <td>42.0</td>\n",
       "      <td>2</td>\n",
       "      <td>ultra</td>\n",
       "      <td>451.0</td>\n",
       "    </tr>\n",
       "    <tr>\n",
       "      <th>14</th>\n",
       "      <td>7699.643820</td>\n",
       "      <td>35.0</td>\n",
       "      <td>2</td>\n",
       "      <td>ultra</td>\n",
       "      <td>409.0</td>\n",
       "    </tr>\n",
       "    <tr>\n",
       "      <th>15</th>\n",
       "      <td>4187.621459</td>\n",
       "      <td>39.0</td>\n",
       "      <td>1</td>\n",
       "      <td>ultra</td>\n",
       "      <td>433.0</td>\n",
       "    </tr>\n",
       "    <tr>\n",
       "      <th>20</th>\n",
       "      <td>3516.719208</td>\n",
       "      <td>29.0</td>\n",
       "      <td>1</td>\n",
       "      <td>ultra</td>\n",
       "      <td>373.0</td>\n",
       "    </tr>\n",
       "    <tr>\n",
       "      <th>22</th>\n",
       "      <td>3058.692225</td>\n",
       "      <td>13.0</td>\n",
       "      <td>1</td>\n",
       "      <td>ultra</td>\n",
       "      <td>277.0</td>\n",
       "    </tr>\n",
       "  </tbody>\n",
       "</table>\n",
       "</div>"
      ],
      "text/plain": [
       "                  distance  duration  number_trips subscription_type  \\\n",
       "month user_id                                                          \n",
       "1     1        7027.511294      42.0             2             ultra   \n",
       "      3        3061.777147      13.0             1             ultra   \n",
       "      5        3914.646990      13.0             1             ultra   \n",
       "      7        6478.080979      28.0             2             ultra   \n",
       "      12       3577.151148      33.0             1             ultra   \n",
       "      13       6687.987446      42.0             2             ultra   \n",
       "      14       7699.643820      35.0             2             ultra   \n",
       "      15       4187.621459      39.0             1             ultra   \n",
       "      20       3516.719208      29.0             1             ultra   \n",
       "      22       3058.692225      13.0             1             ultra   \n",
       "\n",
       "               revenue_month  \n",
       "month user_id                 \n",
       "1     1                451.0  \n",
       "      3                277.0  \n",
       "      5                277.0  \n",
       "      7                367.0  \n",
       "      12               397.0  \n",
       "      13               451.0  \n",
       "      14               409.0  \n",
       "      15               433.0  \n",
       "      20               373.0  \n",
       "      22               277.0  "
      ]
     },
     "execution_count": 55,
     "metadata": {},
     "output_type": "execute_result"
    }
   ],
   "source": [
    "data_grouped['revenue_month'] = data_grouped.apply(revenue_calculation, axis=1)\n",
    "data_grouped.head(10)"
   ]
  },
  {
   "cell_type": "markdown",
   "id": "948daad0",
   "metadata": {},
   "source": [
    "**Выводы**\n",
    "\n",
    "Создали сводную таблицу `data_grouped` с данными о суммарном расстоянии, количестве поездок и суммарном времени для каждого пользователя за каждый месяц\n",
    "\n",
    "Округлили значение из столбца `duration` до \"потолка\" с помощью `np.ceil`\n",
    "\n",
    "В этот же датафрейм добавили столбец с помесячной выручкой, которую принёс каждый пользователь"
   ]
  },
  {
   "cell_type": "markdown",
   "id": "41545ac0",
   "metadata": {},
   "source": [
    "#### Шаг 6. Проверка гипотез"
   ]
  },
  {
   "cell_type": "markdown",
   "id": "2504829b",
   "metadata": {},
   "source": [
    "##### Важно понять, тратят ли пользователи с подпиской больше времени на поездки?"
   ]
  },
  {
   "cell_type": "markdown",
   "id": "8b30f020",
   "metadata": {},
   "source": [
    "Проверим, тратят ли пользователи с подпиской больше времени на поездки, если да, то пользователи с подпиской могут быть «выгоднее» для компании.\n",
    "\n",
    "Проверим гипотезу: **пользователи с подпиской тратят больше времени на поездки, чем пользователи на без подписки**\n",
    "\n",
    "H_0: Время поездки пользователей с подпиской ultra = времени поездки пользователей без подписки free\n",
    "\n",
    "H_1: Время поездки  пользователей с подпиской ultra > времени поездки пользователей без подписки free\n",
    "\n",
    "Уровень статистической значимости примем alpha = 0.05"
   ]
  },
  {
   "cell_type": "code",
   "execution_count": 56,
   "id": "e2670f63",
   "metadata": {},
   "outputs": [
    {
     "name": "stdout",
     "output_type": "stream",
     "text": [
      "Среднее значение для выборки пользователей с подпиской: 18.54198516280583\n",
      "Среднее значение для выборки пользователей без подписки: 17.39090929866399\n",
      "1.2804098316645618e-34\n",
      "Отвергаем нулевую гипотезу\n"
     ]
    }
   ],
   "source": [
    "print('Среднее значение для выборки пользователей с подпиской:', data_sub_ultra['duration'].mean())\n",
    "print('Среднее значение для выборки пользователей без подписки:', data_sub_free['duration'].mean())\n",
    "\n",
    "alpha = 0.05\n",
    "\n",
    "results = st.ttest_ind(data_sub_ultra['duration'], data_sub_free['duration'], alternative='greater')\n",
    "\n",
    "print(results.pvalue)\n",
    "\n",
    "if results.pvalue < alpha:\n",
    "    print('Отвергаем нулевую гипотезу')\n",
    "else:\n",
    "    print('Не получилось отвергнуть нулевую гипотезу')"
   ]
  },
  {
   "cell_type": "markdown",
   "id": "f8b89cd4",
   "metadata": {},
   "source": [
    "Гипотезу проверили, отвергли гипотезу о равенстве времени поездок пользователей с и без подписки, следовательно время поездки пользователей с подпиской `ultra` выше, чем пользователей без подписки `free`"
   ]
  },
  {
   "cell_type": "markdown",
   "id": "773d7f3c",
   "metadata": {},
   "source": [
    "##### Расстояние одной поездки в 3130 метров — оптимальное с точки зрения износа самоката. Можно ли сказать, что среднее расстояние, которое проезжают пользователи с подпиской за одну поездку, не превышает 3130 метров? "
   ]
  },
  {
   "cell_type": "markdown",
   "id": "1124d5e9",
   "metadata": {},
   "source": [
    "Проверим гипотезу: **пользователи с подпиской проезжают расстояние, не превышающее 3130 метров за одну поездку**\n",
    "\n",
    "H_0: Расстояние поездки пользователей с подпиской ultra = 3130 метров\n",
    "\n",
    "H_1: Расстояние поездки пользователей с подпиской ultra > 3130 метров\n",
    "\n",
    "Уровень статистической значимости примем alpha = 0.05"
   ]
  },
  {
   "cell_type": "code",
   "execution_count": 57,
   "id": "c46719bf",
   "metadata": {},
   "outputs": [
    {
     "name": "stdout",
     "output_type": "stream",
     "text": [
      "Среднее значение для выборки пользователей с подпиской: 3115.4453880370247\n",
      "0.9195368847849785\n",
      "Не получилось отвергнуть нулевую гипотезу\n"
     ]
    }
   ],
   "source": [
    "print('Среднее значение для выборки пользователей с подпиской:', data_sub_ultra['distance'].mean())\n",
    "\n",
    "interested_value = 3130\n",
    "\n",
    "alpha = 0.05\n",
    "\n",
    "results = st.ttest_1samp(data_sub_ultra['distance'], interested_value, alternative='greater')\n",
    "\n",
    "print(results.pvalue)\n",
    "\n",
    "if results.pvalue < alpha:\n",
    "    print('Отвергаем нулевую гипотезу')\n",
    "else:\n",
    "    print('Не получилось отвергнуть нулевую гипотезу')"
   ]
  },
  {
   "cell_type": "markdown",
   "id": "051febd0",
   "metadata": {},
   "source": [
    "Гипотезу проверили, отвергнуть нулевую гипотезу не получилось, следовательно мы не можем утверждать что пользователи с подпиской `ultra` проезжают более 3130 м"
   ]
  },
  {
   "cell_type": "markdown",
   "id": "208996ce",
   "metadata": {},
   "source": [
    "##### Будет ли помесячная выручка от пользователей с подпиской по месяцам выше, чем выручка от пользователей без подписки"
   ]
  },
  {
   "cell_type": "markdown",
   "id": "41dafe8f",
   "metadata": {},
   "source": [
    "Проверим гипотезу: **помесячная выручка от пользователей с подпиской выше, чем выручка от пользователей без подписки**\n",
    "\n",
    "H_0: Выручка пользователей с подпиской ultra = выручке пользователей без подписки free\n",
    "\n",
    "H_1: Выручка пользователей с подпиской ultra > выручки пользователей без подписки free\n",
    "\n",
    "Уровень статистической значимости примем alpha = 0.05"
   ]
  },
  {
   "cell_type": "code",
   "execution_count": 58,
   "id": "29cfe99d",
   "metadata": {},
   "outputs": [
    {
     "name": "stdout",
     "output_type": "stream",
     "text": [
      "Среднее значение для выборки пользователей с подпиской: 362.7921906022502\n",
      "Среднее значение для выборки пользователей без подписки: 328.6413651073845\n",
      "1.8850394384715216e-31\n",
      "Отвергаем нулевую гипотезу\n"
     ]
    }
   ],
   "source": [
    "print('Среднее значение для выборки пользователей с подпиской:', data_grouped.loc[data_grouped.subscription_type == 'ultra', 'revenue_month'].mean())\n",
    "print('Среднее значение для выборки пользователей без подписки:', data_grouped.loc[data_grouped.subscription_type == 'free', 'revenue_month'].mean())\n",
    "\n",
    "alpha = 0.05\n",
    "\n",
    "results = st.ttest_ind(data_grouped.loc[data_grouped.subscription_type == 'ultra', 'revenue_month'],\n",
    "                       data_grouped.loc[data_grouped.subscription_type == 'free', 'revenue_month'],\n",
    "                       alternative = 'greater'                      \n",
    "                      )\n",
    "\n",
    "print(results.pvalue)\n",
    "\n",
    "if results.pvalue < alpha:\n",
    "    print('Отвергаем нулевую гипотезу')\n",
    "else:\n",
    "    print('Не получилось отвергнуть нулевую гипотезу')"
   ]
  },
  {
   "cell_type": "markdown",
   "id": "b4befc70",
   "metadata": {},
   "source": [
    "Гипотезу проверили, нулевую гипотезу отвергли, следовательно пользователи с подпиской `ultra` приносят больше выручки чем пользователи без подписки `free`"
   ]
  },
  {
   "cell_type": "markdown",
   "id": "6907a491",
   "metadata": {},
   "source": [
    "##### Выбор теста для проверки гипотезы"
   ]
  },
  {
   "cell_type": "markdown",
   "id": "1b50d35a",
   "metadata": {},
   "source": [
    "Представьте такую ситуацию: техническая команда сервиса обновила сервера, с которыми взаимодействует мобильное приложение. Она надеется, что из-за этого количество обращений в техподдержку значимо снизилось. Некоторый файл содержит для каждого пользователя данные о количестве обращений до обновления и после него. Какой тест вам понадобился бы для проверки этой гипотезы?"
   ]
  },
  {
   "cell_type": "markdown",
   "id": "23bc6aff",
   "metadata": {},
   "source": [
    "**Так как это зависимые выборки, будем использовать гипотезу о равенстве средних для зависимых выборок**\n",
    "\n",
    "Сформулируем гипотезы:\n",
    "\n",
    "- Н_0: mu1 = mu2\n",
    "- H_1: mu1 > mu2\n",
    "\n",
    "где mu1 и mu2 это средние значения количество обращений в техподдержку до и после изменения.\n",
    "\n",
    "Метод, который нужно использовать при сравнении `scipy.stats.ttest_rel()`.\n",
    "\n",
    "Будем проверять одностороннюю гипотезу, так как в задании написано, что количество обращений в техподдержку должно значимо снизиться."
   ]
  },
  {
   "cell_type": "markdown",
   "id": "2f1c9603",
   "metadata": {},
   "source": [
    "**Выводы**\n",
    "\n",
    "Проверили гипотезу: **пользователи с подпиской тратят больше времени на поездки, чем пользователи на без подписки**. Отвергли гипотезу о равенстве времени поездок пользователей с и без подписки, следовательно время поездки пользователей с подпиской `ultra` выше, чем пользователей без подписки `free`.\n",
    "\n",
    "Проверим гипотезу: **пользователи с подпиской проезжают расстояние, не превышающее 3130 метров за одну поездку**. Отвергнуть гипотезу о равенстве дистанции поездки пользователей с подпиской 3130 м не получилось, следовательно мы не можем утверждать что пользователи с подпиской `ultra` проезжают менее 3130 м.\n",
    "\n",
    "Проверим гипотезу: **помесячная выручка от пользователей с подпиской выше, чем выручка от пользователей без подписки**. Отвергли гипотезу о равенстве выручек пользователей с и без подписки, следовательно пользователи с подпиской `ultra` приносят больше выручки чем пользователи без подписки `free`."
   ]
  },
  {
   "cell_type": "markdown",
   "id": "61213c5e",
   "metadata": {},
   "source": [
    "#### Шаг 7. Распределения"
   ]
  },
  {
   "cell_type": "markdown",
   "id": "2d17fecc",
   "metadata": {},
   "source": [
    "##### Отделу маркетинга GoFast поставили задачу: нужно провести акцию с раздачей промокодов на один бесплатный месяц подписки, в рамках которой как минимум 100 существующих клиентов должны продлить эту подписку. "
   ]
  },
  {
   "cell_type": "markdown",
   "id": "c8cd0f09",
   "metadata": {},
   "source": [
    "Эта акция уже проводилась ранее и по итогу выяснилось, что после бесплатного пробного периода подписку продлевают 10 % пользователей. Выясните, какое минимальное количество промокодов нужно разослать, чтобы вероятность не выполнить план была примерно 5 %. Подберите параметры распределения, описывающего эту ситуацию и сформулируйте ответ на вопрос о количестве промокодов."
   ]
  },
  {
   "cell_type": "code",
   "execution_count": 4,
   "id": "95cd1d51",
   "metadata": {},
   "outputs": [
    {
     "name": "stdout",
     "output_type": "stream",
     "text": [
      "0.050737812243497736\n"
     ]
    }
   ],
   "source": [
    "from scipy.stats import poisson, binom, norm\n",
    "from math import sqrt\n",
    "\n",
    "n = 1180\n",
    "p = 0.1\n",
    "\n",
    "lamda = n * p\n",
    "\n",
    "interested_value = 100\n",
    "\n",
    "result = poisson.cdf(interested_value ,lamda)\n",
    "print(result)"
   ]
  },
  {
   "cell_type": "markdown",
   "id": "29750ab6",
   "metadata": {},
   "source": [
    "Эта задача решается с помощью распредлеения Пуассона, в котором лямда задается значениями `n` - количество промокодов и `p` - вероятность того что клиент продлит подписку, `interested_value` - минимальное значение требуемых клиентов продливших подписку.\n",
    "\n",
    "Подбором значение, удалось обнаружить, что если раздать не менее 1180 промокодов, то вероятность получить менее 100 пользователей продливших подписку, выше 5% что и требовалось доказать."
   ]
  },
  {
   "cell_type": "markdown",
   "id": "c1158788",
   "metadata": {},
   "source": [
    "##### Отдел маркетинга рассылает клиентам push-уведомления в мобильном приложении."
   ]
  },
  {
   "cell_type": "markdown",
   "id": "3187920f",
   "metadata": {},
   "source": [
    "Клиенты могут открыть его или не открывать. Известно, что уведомления открывают около 40 % получивших клиентов. Отдел планирует разослать 1 млн уведомлений. С помощью аппроксимации постройте примерный график распределения и оцените вероятность того, что уведомление откроют не более 399,5 тыс. пользователей."
   ]
  },
  {
   "cell_type": "code",
   "execution_count": 60,
   "id": "418058de",
   "metadata": {},
   "outputs": [
    {
     "name": "stdout",
     "output_type": "stream",
     "text": [
      "0.15371708296369768\n"
     ]
    }
   ],
   "source": [
    "n = 1000000\n",
    "p = 0.4\n",
    "\n",
    "interested_value = 399500\n",
    "\n",
    "mu = n * p\n",
    "sigma = sqrt(n * p * (1 - p))\n",
    "\n",
    "distr = st.norm(mu, sigma) \n",
    "\n",
    "result = distr.cdf(interested_value)\n",
    "print(result)"
   ]
  },
  {
   "cell_type": "markdown",
   "id": "2881e14e",
   "metadata": {},
   "source": [
    "Вероятность что из 1 млн отправленых писем, будут открыты не более 399.5 тысяч, составлет 15.3717%"
   ]
  },
  {
   "cell_type": "markdown",
   "id": "f3142961",
   "metadata": {},
   "source": [
    "#### Шаг 8. Общий вывод"
   ]
  },
  {
   "cell_type": "markdown",
   "id": "6d95c921",
   "metadata": {},
   "source": [
    "Загрузили 3 датафрейма: с пользователями, информацией о поездках, информацией о подписках.\n",
    "\n",
    "Дальше проверили данные на пропуски, их не оказалось ни в одной таблице. Поменяли тип данных у столбца `date` из датафрейма `data_riders` к типу даты. Также добавили столбец `month` с номером месяца. И удалили дубликаты строк из датафрейма с пользователями.\n",
    "\n",
    "Провели исследовательский анализ данных:\n",
    "\n",
    "**Частота встречаемости городов**\n",
    "\n",
    "Количество пользователей по городам распределено примерно одинаково. Лидером по количеству пользователей является Пятигорск - 219 пользователей. Меньше всего пользователей в Москве - 168. Можем предположить, что это связано с размером города, в Пятигорске удобнее брать самокат, чтобы куда-то добраться.\n",
    "\n",
    "**Соотношение пользователей с подпиской и без подписки**\n",
    "\n",
    "Пользователей, использующих бесплатную подписку больше - 835 человек, что является примерно 54% от общего числа пользователей. С платной подпиской 699 пользователей, что соответственно является примерно 46%.\n",
    "\n",
    "**Возраст пользователей**\n",
    "\n",
    "- минимальный возраст пользователей 12 лет;\n",
    "- максимальный возраст пользователей - 43 года;\n",
    "- преобладающее большинство пользователей сервиса укладываются в промежуток от 20-ти до 30-ти лет.\n",
    "\n",
    "**Расстояние, которое пользователь преодолел за одну поездку**\n",
    "\n",
    "- самая короткая дистанция - 0.86 км;\n",
    "- самая длинная - 7.2 км;\n",
    "- в основном пользователи проезжают от 2 км до 4 км;\n",
    "- так же имеется небольшой пик в районе 0 - ~1.5 км.\n",
    "\n",
    "**Продолжительность поездок**\n",
    "\n",
    "- самые короткие поездки - по пол минуты, что странно, возможно пользователи просто передумали пользоваться самокатом, или была техническая неинсправность самого самоката.\n",
    "- самая длинная поездка заняла 40 минут.\n",
    "- в основном же длительность поездки состовляет от ~12 до ~22 минут.\n",
    "\n",
    "Объединили данные о пользователях, поездках и подписках в один датафрейм `data_full`\n",
    "\n",
    "Создали ещё два датафрейма из датафрейма `data_full`:\n",
    "\n",
    "- о пользователях без подписки `data_sub_free`;\n",
    "- о пользователях с подпиской `data_sub_ultra`.\n",
    "\n",
    "Визуализировали данные о длительности и времени поездок пользователей с подпиской и без:\n",
    "\n",
    "- преобладающее число пользователей без подписки проезжают от 3 до 4 км, так же есть небольшой пик от 0 до 1 км;\n",
    "- преобладающее число пользователей без подписки имеют время поездки от 11 до 21 минуты, так же есть странный пик около 0 минут;\n",
    "- преобладающее число пользователей с подпиской проезжают от 2.5 до 3.5 км, так же есть небольшой пик в районе 1 км;\n",
    "- преобладающее число пользователей с подпиской имеют время поездки от 12 до 22 минут.\n",
    "\n",
    "**Из вышесказанного следует, что пользователи без подписки совершают более длинные и длительные поездки, чем пользователеи с подпиской**\n",
    "\n",
    "*Так же есть странный пик около 0 минут у пользователей без подписки, у пользователей с подпиской его нет, пока что нет никаких предположений о том, что это*\n",
    "\n",
    "Создали сводную таблицу `data_grouped` с данными о суммарном расстоянии, количестве поездок и суммарном времени для каждого пользователя за каждый месяц\n",
    "\n",
    "Округлили значение из столбца `duration` до \"потолка\" с помощью `np.ceil`\n",
    "\n",
    "В этот же датафрейм добавили столбец с помесячной выручкой, которую принёс каждый пользователь.\n",
    "\n",
    "Проверили гипотезу: **пользователи с подпиской тратят больше времени на поездки, чем пользователи на без подписки**. Отвергли гипотезу о равенстве времени поездок пользователей с и без подписки, следовательно время поездки пользователей с подпиской `ultra` выше, чем пользователей без подписки `free`.\n",
    "\n",
    "Проверим гипотезу: **пользователи с подпиской проезжают расстояние, не превышающее 3130 метров за одну поездку**. Отвергнуть гипотезу о равенстве дистанции поездки пользователей с подпиской 3130 м не получилось, следовательно мы не можем утверждать что пользователи с подпиской `ultra` проезжают более 3130 м.\n",
    "\n",
    "Проверим гипотезу: **помесячная выручка от пользователей с подпиской выше, чем выручка от пользователей без подписки**. Отвергли гипотезу о равенстве выручек пользователей с и без подписки, следовательно пользователи с подпиской `ultra` приносят больше выручки чем пользователи без подписки `free`.\n",
    "\n",
    "Подбором значение, удалось обнаружить, что если раздать не менее 1180 промокодов, то вероятность получить менее 100 пользователей продливших подписку, выше 5% что и требовалось доказать.\n",
    "\n",
    "Вероятность что из 1 млн отправленых писем, будут открыты не более 399.5 тысяч, составлет 15.3717%\n",
    "\n",
    "**Пользователи с попиской `ultra`, выгоднее для коммпании, так как они дольше используют самокаты, проезжают в основном около 3130 метров, что помогает меньше изнашивать самокат, а так же они приносят больше выручки чем полььзователи без подписки.**"
   ]
  }
 ],
 "metadata": {
  "ExecuteTimeLog": [
   {
    "duration": 1336,
    "start_time": "2023-11-03T08:40:45.927Z"
   },
   {
    "duration": 79,
    "start_time": "2023-11-03T08:41:06.791Z"
   },
   {
    "duration": 95,
    "start_time": "2023-11-03T08:41:26.592Z"
   },
   {
    "duration": 15,
    "start_time": "2023-11-03T08:41:40.329Z"
   },
   {
    "duration": 13,
    "start_time": "2023-11-03T08:42:25.162Z"
   },
   {
    "duration": 145,
    "start_time": "2023-11-03T08:44:01.694Z"
   },
   {
    "duration": 82,
    "start_time": "2023-11-03T08:46:24.126Z"
   },
   {
    "duration": 79,
    "start_time": "2023-11-03T08:46:34.944Z"
   },
   {
    "duration": 142,
    "start_time": "2023-11-03T08:46:52.943Z"
   },
   {
    "duration": 139,
    "start_time": "2023-11-03T08:47:36.045Z"
   },
   {
    "duration": 149,
    "start_time": "2023-11-03T08:51:31.963Z"
   },
   {
    "duration": 125,
    "start_time": "2023-11-03T08:51:48.268Z"
   },
   {
    "duration": 120,
    "start_time": "2023-11-03T08:56:37.859Z"
   },
   {
    "duration": 127,
    "start_time": "2023-11-03T08:56:49.687Z"
   },
   {
    "duration": 162,
    "start_time": "2023-11-03T08:56:56.305Z"
   },
   {
    "duration": 224,
    "start_time": "2023-11-03T08:57:02.810Z"
   },
   {
    "duration": 148,
    "start_time": "2023-11-03T08:57:12.735Z"
   },
   {
    "duration": 135,
    "start_time": "2023-11-03T08:57:22.323Z"
   },
   {
    "duration": 127,
    "start_time": "2023-11-03T08:58:01.635Z"
   },
   {
    "duration": 124,
    "start_time": "2023-11-03T08:58:03.800Z"
   },
   {
    "duration": 138,
    "start_time": "2023-11-03T08:58:22.527Z"
   },
   {
    "duration": 152,
    "start_time": "2023-11-03T08:58:28.699Z"
   },
   {
    "duration": 88,
    "start_time": "2023-11-03T09:06:12.792Z"
   },
   {
    "duration": 83,
    "start_time": "2023-11-03T09:13:42.731Z"
   },
   {
    "duration": 56,
    "start_time": "2023-11-03T09:13:59.409Z"
   },
   {
    "duration": 9,
    "start_time": "2023-11-03T09:14:14.324Z"
   },
   {
    "duration": 9,
    "start_time": "2023-11-03T09:15:43.845Z"
   },
   {
    "duration": 8,
    "start_time": "2023-11-03T09:16:09.718Z"
   },
   {
    "duration": 6,
    "start_time": "2023-11-03T09:16:24.130Z"
   },
   {
    "duration": 11,
    "start_time": "2023-11-03T09:16:32.373Z"
   },
   {
    "duration": 9,
    "start_time": "2023-11-03T09:17:29.806Z"
   },
   {
    "duration": 12,
    "start_time": "2023-11-03T09:17:35.522Z"
   },
   {
    "duration": 11,
    "start_time": "2023-11-03T09:26:42.876Z"
   },
   {
    "duration": 190,
    "start_time": "2023-11-03T09:26:52.583Z"
   },
   {
    "duration": 11,
    "start_time": "2023-11-03T09:32:33.013Z"
   },
   {
    "duration": 12,
    "start_time": "2023-11-03T09:32:37.903Z"
   },
   {
    "duration": 11,
    "start_time": "2023-11-03T09:32:52.022Z"
   },
   {
    "duration": 11,
    "start_time": "2023-11-03T09:33:07.252Z"
   },
   {
    "duration": 12,
    "start_time": "2023-11-03T09:37:16.225Z"
   },
   {
    "duration": 71,
    "start_time": "2023-11-03T09:37:36.072Z"
   },
   {
    "duration": 10,
    "start_time": "2023-11-03T09:37:59.174Z"
   },
   {
    "duration": 9,
    "start_time": "2023-11-03T09:38:21.683Z"
   },
   {
    "duration": 10,
    "start_time": "2023-11-03T09:38:29.274Z"
   },
   {
    "duration": 496,
    "start_time": "2023-11-03T09:38:52.350Z"
   },
   {
    "duration": 9,
    "start_time": "2023-11-03T09:39:00.622Z"
   },
   {
    "duration": 12,
    "start_time": "2023-11-03T09:39:44.011Z"
   },
   {
    "duration": 11,
    "start_time": "2023-11-03T09:39:58.469Z"
   },
   {
    "duration": 9,
    "start_time": "2023-11-03T09:40:01.931Z"
   },
   {
    "duration": 13,
    "start_time": "2023-11-03T09:40:46.837Z"
   },
   {
    "duration": 67,
    "start_time": "2023-11-03T09:43:09.244Z"
   },
   {
    "duration": 32,
    "start_time": "2023-11-03T09:43:23.897Z"
   },
   {
    "duration": 34,
    "start_time": "2023-11-03T09:44:17.361Z"
   },
   {
    "duration": 9,
    "start_time": "2023-11-03T09:44:31.996Z"
   },
   {
    "duration": 9,
    "start_time": "2023-11-03T09:51:17.267Z"
   },
   {
    "duration": 6,
    "start_time": "2023-11-03T09:51:23.112Z"
   },
   {
    "duration": 7,
    "start_time": "2023-11-03T09:52:02.382Z"
   },
   {
    "duration": 7,
    "start_time": "2023-11-03T09:52:31.791Z"
   },
   {
    "duration": 8,
    "start_time": "2023-11-03T09:56:15.318Z"
   },
   {
    "duration": 23,
    "start_time": "2023-11-03T09:56:30.928Z"
   },
   {
    "duration": 95,
    "start_time": "2023-11-03T09:56:33.942Z"
   },
   {
    "duration": 12,
    "start_time": "2023-11-03T09:58:01.730Z"
   },
   {
    "duration": 23,
    "start_time": "2023-11-03T10:03:02.987Z"
   },
   {
    "duration": 13,
    "start_time": "2023-11-03T10:04:05.906Z"
   },
   {
    "duration": 12,
    "start_time": "2023-11-03T10:04:28.592Z"
   },
   {
    "duration": 13,
    "start_time": "2023-11-03T10:04:34.859Z"
   },
   {
    "duration": 6,
    "start_time": "2023-11-03T10:07:21.836Z"
   },
   {
    "duration": 13,
    "start_time": "2023-11-03T10:10:35.385Z"
   },
   {
    "duration": 5,
    "start_time": "2023-11-03T10:11:35.625Z"
   },
   {
    "duration": 6,
    "start_time": "2023-11-03T10:12:52.517Z"
   },
   {
    "duration": 15,
    "start_time": "2023-11-03T10:13:04.938Z"
   },
   {
    "duration": 9,
    "start_time": "2023-11-03T10:13:11.671Z"
   },
   {
    "duration": 10,
    "start_time": "2023-11-03T10:14:23.507Z"
   },
   {
    "duration": 9,
    "start_time": "2023-11-03T10:14:31.237Z"
   },
   {
    "duration": 9,
    "start_time": "2023-11-03T10:15:42.181Z"
   },
   {
    "duration": 5,
    "start_time": "2023-11-03T10:15:57.122Z"
   },
   {
    "duration": 9,
    "start_time": "2023-11-03T10:16:26.645Z"
   },
   {
    "duration": 4,
    "start_time": "2023-11-03T10:16:29.517Z"
   },
   {
    "duration": 9,
    "start_time": "2023-11-03T10:20:43.789Z"
   },
   {
    "duration": 5,
    "start_time": "2023-11-03T10:20:48.431Z"
   },
   {
    "duration": 5,
    "start_time": "2023-11-03T10:21:04.145Z"
   },
   {
    "duration": 7,
    "start_time": "2023-11-03T10:21:22.214Z"
   },
   {
    "duration": 8,
    "start_time": "2023-11-03T10:21:38.337Z"
   },
   {
    "duration": 7,
    "start_time": "2023-11-03T10:21:43.391Z"
   },
   {
    "duration": 8,
    "start_time": "2023-11-03T10:21:58.526Z"
   },
   {
    "duration": 12,
    "start_time": "2023-11-03T10:22:53.906Z"
   },
   {
    "duration": 11,
    "start_time": "2023-11-03T10:23:04.993Z"
   },
   {
    "duration": 9,
    "start_time": "2023-11-03T10:24:17.045Z"
   },
   {
    "duration": 10,
    "start_time": "2023-11-03T10:25:23.975Z"
   },
   {
    "duration": 10,
    "start_time": "2023-11-03T10:25:36.376Z"
   },
   {
    "duration": 4,
    "start_time": "2023-11-03T10:25:48.470Z"
   },
   {
    "duration": 5,
    "start_time": "2023-11-03T10:25:51.030Z"
   },
   {
    "duration": 48,
    "start_time": "2023-11-03T13:33:22.123Z"
   },
   {
    "duration": 1266,
    "start_time": "2023-11-03T13:33:29.171Z"
   },
   {
    "duration": 79,
    "start_time": "2023-11-03T13:33:30.440Z"
   },
   {
    "duration": 23,
    "start_time": "2023-11-03T13:33:30.521Z"
   },
   {
    "duration": 231,
    "start_time": "2023-11-03T13:33:30.546Z"
   },
   {
    "duration": 339,
    "start_time": "2023-11-03T13:33:30.779Z"
   },
   {
    "duration": 176,
    "start_time": "2023-11-03T13:33:31.119Z"
   },
   {
    "duration": 96,
    "start_time": "2023-11-03T13:33:31.296Z"
   },
   {
    "duration": 216,
    "start_time": "2023-11-03T13:33:31.408Z"
   },
   {
    "duration": 12,
    "start_time": "2023-11-03T13:33:31.626Z"
   },
   {
    "duration": 48,
    "start_time": "2023-11-03T13:33:31.641Z"
   },
   {
    "duration": 83,
    "start_time": "2023-11-03T13:33:31.691Z"
   },
   {
    "duration": 7,
    "start_time": "2023-11-03T13:33:31.776Z"
   },
   {
    "duration": 40,
    "start_time": "2023-11-03T13:33:31.784Z"
   },
   {
    "duration": 50,
    "start_time": "2023-11-03T13:33:31.825Z"
   },
   {
    "duration": 33,
    "start_time": "2023-11-03T13:33:31.877Z"
   },
   {
    "duration": 42,
    "start_time": "2023-11-03T13:33:31.911Z"
   },
   {
    "duration": 48,
    "start_time": "2023-11-03T13:33:31.955Z"
   },
   {
    "duration": 32,
    "start_time": "2023-11-03T13:33:32.005Z"
   },
   {
    "duration": 44,
    "start_time": "2023-11-03T13:33:32.039Z"
   },
   {
    "duration": 35,
    "start_time": "2023-11-03T13:33:32.084Z"
   },
   {
    "duration": 88,
    "start_time": "2023-11-03T13:33:32.120Z"
   },
   {
    "duration": 36,
    "start_time": "2023-11-03T13:33:32.210Z"
   },
   {
    "duration": 40,
    "start_time": "2023-11-03T13:33:32.248Z"
   },
   {
    "duration": 205,
    "start_time": "2023-11-03T13:33:32.289Z"
   },
   {
    "duration": 65,
    "start_time": "2023-11-03T13:33:32.495Z"
   },
   {
    "duration": 81,
    "start_time": "2023-11-03T13:38:10.501Z"
   },
   {
    "duration": 5,
    "start_time": "2023-11-03T13:38:49.755Z"
   },
   {
    "duration": 69,
    "start_time": "2023-11-03T13:39:11.391Z"
   },
   {
    "duration": 10,
    "start_time": "2023-11-03T13:39:27.630Z"
   },
   {
    "duration": 8,
    "start_time": "2023-11-03T13:41:07.240Z"
   },
   {
    "duration": 15,
    "start_time": "2023-11-03T13:43:53.223Z"
   },
   {
    "duration": 8,
    "start_time": "2023-11-03T13:44:01.048Z"
   },
   {
    "duration": 9,
    "start_time": "2023-11-03T13:45:12.500Z"
   },
   {
    "duration": 7,
    "start_time": "2023-11-03T13:45:15.529Z"
   },
   {
    "duration": 173,
    "start_time": "2023-11-03T13:46:04.033Z"
   },
   {
    "duration": 10,
    "start_time": "2023-11-03T13:53:57.287Z"
   },
   {
    "duration": 98,
    "start_time": "2023-11-03T13:54:08.257Z"
   },
   {
    "duration": 105,
    "start_time": "2023-11-03T13:54:15.219Z"
   },
   {
    "duration": 113,
    "start_time": "2023-11-03T13:54:32.004Z"
   },
   {
    "duration": 109,
    "start_time": "2023-11-03T13:54:53.429Z"
   },
   {
    "duration": 3,
    "start_time": "2023-11-03T13:55:04.870Z"
   },
   {
    "duration": 202,
    "start_time": "2023-11-03T13:55:08.631Z"
   },
   {
    "duration": 121,
    "start_time": "2023-11-03T13:55:19.343Z"
   },
   {
    "duration": 110,
    "start_time": "2023-11-03T13:56:18.989Z"
   },
   {
    "duration": 156,
    "start_time": "2023-11-03T13:58:08.850Z"
   },
   {
    "duration": 229,
    "start_time": "2023-11-03T13:59:13.562Z"
   },
   {
    "duration": 110,
    "start_time": "2023-11-03T14:00:09.940Z"
   },
   {
    "duration": 16,
    "start_time": "2023-11-03T14:22:37.830Z"
   },
   {
    "duration": 95,
    "start_time": "2023-11-03T14:24:23.513Z"
   },
   {
    "duration": 6,
    "start_time": "2023-11-03T14:24:33.584Z"
   },
   {
    "duration": 150,
    "start_time": "2023-11-03T14:25:29.098Z"
   },
   {
    "duration": 47,
    "start_time": "2023-11-03T14:26:21.553Z"
   },
   {
    "duration": 50,
    "start_time": "2023-11-03T14:26:25.126Z"
   },
   {
    "duration": 49,
    "start_time": "2023-11-03T14:26:30.062Z"
   },
   {
    "duration": 12,
    "start_time": "2023-11-03T14:26:36.450Z"
   },
   {
    "duration": 17,
    "start_time": "2023-11-03T14:26:50.621Z"
   },
   {
    "duration": 25,
    "start_time": "2023-11-03T14:26:53.799Z"
   },
   {
    "duration": 35,
    "start_time": "2023-11-03T14:27:11.795Z"
   },
   {
    "duration": 41,
    "start_time": "2023-11-03T14:27:15.870Z"
   },
   {
    "duration": 15,
    "start_time": "2023-11-03T14:27:20.329Z"
   },
   {
    "duration": 4,
    "start_time": "2023-11-03T14:39:06.369Z"
   },
   {
    "duration": 5,
    "start_time": "2023-11-03T14:39:28.232Z"
   },
   {
    "duration": 9,
    "start_time": "2023-11-03T14:40:20.557Z"
   },
   {
    "duration": 8,
    "start_time": "2023-11-03T14:42:34.328Z"
   },
   {
    "duration": 10,
    "start_time": "2023-11-03T14:46:05.324Z"
   },
   {
    "duration": 7,
    "start_time": "2023-11-03T14:46:32.353Z"
   },
   {
    "duration": 9,
    "start_time": "2023-11-03T14:46:53.515Z"
   },
   {
    "duration": 12,
    "start_time": "2023-11-03T14:47:10.596Z"
   },
   {
    "duration": 15,
    "start_time": "2023-11-03T14:48:02.483Z"
   },
   {
    "duration": 8,
    "start_time": "2023-11-03T14:48:07.613Z"
   },
   {
    "duration": 9,
    "start_time": "2023-11-03T14:48:38.633Z"
   },
   {
    "duration": 9,
    "start_time": "2023-11-03T14:49:01.374Z"
   },
   {
    "duration": 238,
    "start_time": "2023-11-03T14:51:24.841Z"
   },
   {
    "duration": 339,
    "start_time": "2023-11-03T14:51:34.299Z"
   },
   {
    "duration": 1355,
    "start_time": "2023-11-03T14:51:39.877Z"
   },
   {
    "duration": 240,
    "start_time": "2023-11-03T14:52:17.601Z"
   },
   {
    "duration": 260,
    "start_time": "2023-11-03T14:53:37.528Z"
   },
   {
    "duration": 7,
    "start_time": "2023-11-03T14:57:29.856Z"
   },
   {
    "duration": 9,
    "start_time": "2023-11-03T14:58:37.226Z"
   },
   {
    "duration": 8,
    "start_time": "2023-11-03T14:58:43.210Z"
   },
   {
    "duration": 7,
    "start_time": "2023-11-03T14:58:47.622Z"
   },
   {
    "duration": 8,
    "start_time": "2023-11-03T14:58:58.107Z"
   },
   {
    "duration": 8,
    "start_time": "2023-11-03T14:59:03.862Z"
   },
   {
    "duration": 9,
    "start_time": "2023-11-03T15:00:14.997Z"
   },
   {
    "duration": 8,
    "start_time": "2023-11-03T15:00:18.470Z"
   },
   {
    "duration": 18,
    "start_time": "2023-11-03T15:02:06.075Z"
   },
   {
    "duration": 1271,
    "start_time": "2023-11-03T15:03:12.016Z"
   },
   {
    "duration": 268,
    "start_time": "2023-11-03T15:04:55.178Z"
   },
   {
    "duration": 45,
    "start_time": "2023-11-03T18:34:56.849Z"
   },
   {
    "duration": 1340,
    "start_time": "2023-11-03T18:35:02.434Z"
   },
   {
    "duration": 76,
    "start_time": "2023-11-03T18:35:03.776Z"
   },
   {
    "duration": 11,
    "start_time": "2023-11-03T18:35:03.853Z"
   },
   {
    "duration": 9,
    "start_time": "2023-11-03T18:35:03.866Z"
   },
   {
    "duration": 19,
    "start_time": "2023-11-03T18:35:03.876Z"
   },
   {
    "duration": 73,
    "start_time": "2023-11-03T18:35:03.896Z"
   },
   {
    "duration": 9,
    "start_time": "2023-11-03T18:35:03.971Z"
   },
   {
    "duration": 16,
    "start_time": "2023-11-03T18:35:03.981Z"
   },
   {
    "duration": 57,
    "start_time": "2023-11-03T18:35:03.998Z"
   },
   {
    "duration": 9,
    "start_time": "2023-11-03T18:35:04.057Z"
   },
   {
    "duration": 13,
    "start_time": "2023-11-03T18:35:04.067Z"
   },
   {
    "duration": 33,
    "start_time": "2023-11-03T18:35:04.082Z"
   },
   {
    "duration": 5,
    "start_time": "2023-11-03T18:35:04.117Z"
   },
   {
    "duration": 18,
    "start_time": "2023-11-03T18:35:04.123Z"
   },
   {
    "duration": 9,
    "start_time": "2023-11-03T18:35:04.142Z"
   },
   {
    "duration": 4,
    "start_time": "2023-11-03T18:35:04.152Z"
   },
   {
    "duration": 18,
    "start_time": "2023-11-03T18:35:04.157Z"
   },
   {
    "duration": 15,
    "start_time": "2023-11-03T18:35:04.176Z"
   },
   {
    "duration": 9,
    "start_time": "2023-11-03T18:35:04.192Z"
   },
   {
    "duration": 12,
    "start_time": "2023-11-03T18:35:04.202Z"
   },
   {
    "duration": 7,
    "start_time": "2023-11-03T18:35:04.215Z"
   },
   {
    "duration": 9,
    "start_time": "2023-11-03T18:35:04.224Z"
   },
   {
    "duration": 6,
    "start_time": "2023-11-03T18:35:04.235Z"
   },
   {
    "duration": 19,
    "start_time": "2023-11-03T18:35:04.242Z"
   },
   {
    "duration": 164,
    "start_time": "2023-11-03T18:35:04.263Z"
   },
   {
    "duration": 10,
    "start_time": "2023-11-03T18:35:04.429Z"
   },
   {
    "duration": 84,
    "start_time": "2023-11-03T18:35:04.441Z"
   },
   {
    "duration": 134,
    "start_time": "2023-11-03T18:35:04.539Z"
   },
   {
    "duration": 7,
    "start_time": "2023-11-03T18:35:04.674Z"
   },
   {
    "duration": 14,
    "start_time": "2023-11-03T18:35:04.682Z"
   },
   {
    "duration": 6,
    "start_time": "2023-11-03T18:35:04.697Z"
   },
   {
    "duration": 243,
    "start_time": "2023-11-03T18:35:04.704Z"
   },
   {
    "duration": 7,
    "start_time": "2023-11-03T18:35:04.949Z"
   },
   {
    "duration": 7,
    "start_time": "2023-11-03T18:35:04.958Z"
   },
   {
    "duration": 251,
    "start_time": "2023-11-03T18:35:04.967Z"
   },
   {
    "duration": 3,
    "start_time": "2023-11-03T18:35:06.247Z"
   },
   {
    "duration": 36,
    "start_time": "2023-11-03T18:35:06.252Z"
   },
   {
    "duration": 9,
    "start_time": "2023-11-03T18:35:06.289Z"
   },
   {
    "duration": 10,
    "start_time": "2023-11-03T18:35:06.299Z"
   },
   {
    "duration": 19,
    "start_time": "2023-11-03T18:35:06.311Z"
   },
   {
    "duration": 45,
    "start_time": "2023-11-03T18:35:06.332Z"
   },
   {
    "duration": 10,
    "start_time": "2023-11-03T18:35:06.378Z"
   },
   {
    "duration": 34,
    "start_time": "2023-11-03T18:35:06.389Z"
   },
   {
    "duration": 21,
    "start_time": "2023-11-03T18:35:06.425Z"
   },
   {
    "duration": 9,
    "start_time": "2023-11-03T18:35:06.447Z"
   },
   {
    "duration": 15,
    "start_time": "2023-11-03T18:35:06.457Z"
   },
   {
    "duration": 15,
    "start_time": "2023-11-03T18:35:06.473Z"
   },
   {
    "duration": 6,
    "start_time": "2023-11-03T18:35:06.490Z"
   },
   {
    "duration": 19,
    "start_time": "2023-11-03T18:35:06.497Z"
   },
   {
    "duration": 9,
    "start_time": "2023-11-03T18:35:06.518Z"
   },
   {
    "duration": 12,
    "start_time": "2023-11-03T18:35:06.528Z"
   },
   {
    "duration": 4,
    "start_time": "2023-11-03T18:35:06.541Z"
   },
   {
    "duration": 18,
    "start_time": "2023-11-03T18:35:06.546Z"
   },
   {
    "duration": 12,
    "start_time": "2023-11-03T18:35:06.566Z"
   },
   {
    "duration": 12,
    "start_time": "2023-11-03T18:35:06.579Z"
   },
   {
    "duration": 5,
    "start_time": "2023-11-03T18:35:06.592Z"
   },
   {
    "duration": 16,
    "start_time": "2023-11-03T18:35:06.599Z"
   },
   {
    "duration": 5,
    "start_time": "2023-11-03T18:35:06.616Z"
   },
   {
    "duration": 18,
    "start_time": "2023-11-03T18:35:06.622Z"
   },
   {
    "duration": 154,
    "start_time": "2023-11-03T18:35:06.642Z"
   },
   {
    "duration": 5,
    "start_time": "2023-11-03T18:35:06.797Z"
   },
   {
    "duration": 155,
    "start_time": "2023-11-03T18:35:06.803Z"
   },
   {
    "duration": 137,
    "start_time": "2023-11-03T18:35:06.960Z"
   },
   {
    "duration": 6,
    "start_time": "2023-11-03T18:35:07.099Z"
   },
   {
    "duration": 7,
    "start_time": "2023-11-03T18:35:07.106Z"
   },
   {
    "duration": 8,
    "start_time": "2023-11-03T18:35:07.114Z"
   },
   {
    "duration": 230,
    "start_time": "2023-11-03T18:35:07.139Z"
   },
   {
    "duration": 7,
    "start_time": "2023-11-03T18:35:07.371Z"
   },
   {
    "duration": 8,
    "start_time": "2023-11-03T18:35:07.380Z"
   },
   {
    "duration": 252,
    "start_time": "2023-11-03T18:35:07.389Z"
   },
   {
    "duration": 17,
    "start_time": "2023-11-03T18:35:07.642Z"
   },
   {
    "duration": 24,
    "start_time": "2023-11-03T18:35:28.001Z"
   },
   {
    "duration": 12,
    "start_time": "2023-11-03T18:35:55.645Z"
   },
   {
    "duration": 16,
    "start_time": "2023-11-03T18:40:26.760Z"
   },
   {
    "duration": 19,
    "start_time": "2023-11-03T18:40:34.372Z"
   },
   {
    "duration": 29,
    "start_time": "2023-11-03T18:40:41.635Z"
   },
   {
    "duration": 22,
    "start_time": "2023-11-03T18:41:07.141Z"
   },
   {
    "duration": 18,
    "start_time": "2023-11-03T18:42:14.339Z"
   },
   {
    "duration": 125,
    "start_time": "2023-11-03T18:45:26.291Z"
   },
   {
    "duration": 270,
    "start_time": "2023-11-03T18:48:00.454Z"
   },
   {
    "duration": 225,
    "start_time": "2023-11-03T18:49:07.121Z"
   },
   {
    "duration": 285,
    "start_time": "2023-11-03T18:49:50.505Z"
   },
   {
    "duration": 213,
    "start_time": "2023-11-03T18:50:17.024Z"
   },
   {
    "duration": 223,
    "start_time": "2023-11-03T18:50:50.221Z"
   },
   {
    "duration": 1027,
    "start_time": "2023-11-03T19:22:16.389Z"
   },
   {
    "duration": 1032,
    "start_time": "2023-11-03T19:22:41.238Z"
   },
   {
    "duration": 959,
    "start_time": "2023-11-03T19:23:38.409Z"
   },
   {
    "duration": 107,
    "start_time": "2023-11-03T19:23:50.634Z"
   },
   {
    "duration": 9,
    "start_time": "2023-11-03T19:24:23.811Z"
   },
   {
    "duration": 10,
    "start_time": "2023-11-03T19:24:28.554Z"
   },
   {
    "duration": 964,
    "start_time": "2023-11-03T19:24:33.311Z"
   },
   {
    "duration": 1090,
    "start_time": "2023-11-03T19:25:27.684Z"
   },
   {
    "duration": 96,
    "start_time": "2023-11-03T19:28:26.540Z"
   },
   {
    "duration": 973,
    "start_time": "2023-11-03T19:32:09.702Z"
   },
   {
    "duration": 954,
    "start_time": "2023-11-03T19:33:03.414Z"
   },
   {
    "duration": 959,
    "start_time": "2023-11-03T19:35:45.557Z"
   },
   {
    "duration": 1926,
    "start_time": "2023-11-03T19:38:48.382Z"
   },
   {
    "duration": 1012,
    "start_time": "2023-11-03T19:39:40.244Z"
   },
   {
    "duration": 3,
    "start_time": "2023-11-03T19:40:34.365Z"
   },
   {
    "duration": 1037,
    "start_time": "2023-11-03T19:40:59.119Z"
   },
   {
    "duration": 10,
    "start_time": "2023-11-03T19:41:31.004Z"
   },
   {
    "duration": 18,
    "start_time": "2023-11-03T19:43:47.836Z"
   },
   {
    "duration": 15,
    "start_time": "2023-11-03T19:44:07.394Z"
   },
   {
    "duration": 24,
    "start_time": "2023-11-03T19:44:11.594Z"
   },
   {
    "duration": 10,
    "start_time": "2023-11-03T19:45:29.948Z"
   },
   {
    "duration": 16,
    "start_time": "2023-11-03T19:50:55.146Z"
   },
   {
    "duration": 7,
    "start_time": "2023-11-03T19:55:03.230Z"
   },
   {
    "duration": 3,
    "start_time": "2023-11-03T19:58:10.061Z"
   },
   {
    "duration": 16,
    "start_time": "2023-11-03T20:00:17.226Z"
   },
   {
    "duration": 140,
    "start_time": "2023-11-03T20:01:04.808Z"
   },
   {
    "duration": 143,
    "start_time": "2023-11-03T20:01:57.274Z"
   },
   {
    "duration": 155,
    "start_time": "2023-11-03T20:02:09.222Z"
   },
   {
    "duration": 4,
    "start_time": "2023-11-03T20:02:50.207Z"
   },
   {
    "duration": 37,
    "start_time": "2023-11-03T20:02:50.212Z"
   },
   {
    "duration": 9,
    "start_time": "2023-11-03T20:02:50.250Z"
   },
   {
    "duration": 23,
    "start_time": "2023-11-03T20:02:50.260Z"
   },
   {
    "duration": 17,
    "start_time": "2023-11-03T20:02:50.284Z"
   },
   {
    "duration": 59,
    "start_time": "2023-11-03T20:02:50.302Z"
   },
   {
    "duration": 10,
    "start_time": "2023-11-03T20:02:50.362Z"
   },
   {
    "duration": 34,
    "start_time": "2023-11-03T20:02:50.373Z"
   },
   {
    "duration": 20,
    "start_time": "2023-11-03T20:02:50.409Z"
   },
   {
    "duration": 33,
    "start_time": "2023-11-03T20:02:50.431Z"
   },
   {
    "duration": 8,
    "start_time": "2023-11-03T20:02:50.467Z"
   },
   {
    "duration": 23,
    "start_time": "2023-11-03T20:02:50.477Z"
   },
   {
    "duration": 12,
    "start_time": "2023-11-03T20:02:50.502Z"
   },
   {
    "duration": 29,
    "start_time": "2023-11-03T20:02:50.516Z"
   },
   {
    "duration": 17,
    "start_time": "2023-11-03T20:02:50.546Z"
   },
   {
    "duration": 4,
    "start_time": "2023-11-03T20:02:50.564Z"
   },
   {
    "duration": 13,
    "start_time": "2023-11-03T20:02:50.569Z"
   },
   {
    "duration": 7,
    "start_time": "2023-11-03T20:02:50.584Z"
   },
   {
    "duration": 20,
    "start_time": "2023-11-03T20:02:50.593Z"
   },
   {
    "duration": 6,
    "start_time": "2023-11-03T20:02:50.614Z"
   },
   {
    "duration": 11,
    "start_time": "2023-11-03T20:02:50.621Z"
   },
   {
    "duration": 19,
    "start_time": "2023-11-03T20:02:50.633Z"
   },
   {
    "duration": 6,
    "start_time": "2023-11-03T20:02:50.654Z"
   },
   {
    "duration": 15,
    "start_time": "2023-11-03T20:02:50.662Z"
   },
   {
    "duration": 155,
    "start_time": "2023-11-03T20:02:50.678Z"
   },
   {
    "duration": 8,
    "start_time": "2023-11-03T20:02:50.835Z"
   },
   {
    "duration": 110,
    "start_time": "2023-11-03T20:02:50.844Z"
   },
   {
    "duration": 126,
    "start_time": "2023-11-03T20:02:50.956Z"
   },
   {
    "duration": 11,
    "start_time": "2023-11-03T20:02:51.087Z"
   },
   {
    "duration": 10,
    "start_time": "2023-11-03T20:02:51.100Z"
   },
   {
    "duration": 8,
    "start_time": "2023-11-03T20:02:51.111Z"
   },
   {
    "duration": 331,
    "start_time": "2023-11-03T20:02:51.120Z"
   },
   {
    "duration": 7,
    "start_time": "2023-11-03T20:02:51.452Z"
   },
   {
    "duration": 21,
    "start_time": "2023-11-03T20:02:51.460Z"
   },
   {
    "duration": 251,
    "start_time": "2023-11-03T20:02:51.482Z"
   },
   {
    "duration": 37,
    "start_time": "2023-11-03T20:02:51.734Z"
   },
   {
    "duration": 11,
    "start_time": "2023-11-03T20:02:51.772Z"
   },
   {
    "duration": 27,
    "start_time": "2023-11-03T20:02:51.784Z"
   },
   {
    "duration": 38,
    "start_time": "2023-11-03T20:02:51.812Z"
   },
   {
    "duration": 241,
    "start_time": "2023-11-03T20:02:51.851Z"
   },
   {
    "duration": 256,
    "start_time": "2023-11-03T20:02:52.093Z"
   },
   {
    "duration": 273,
    "start_time": "2023-11-03T20:02:52.351Z"
   },
   {
    "duration": 321,
    "start_time": "2023-11-03T20:02:52.625Z"
   },
   {
    "duration": 941,
    "start_time": "2023-11-03T20:02:52.948Z"
   },
   {
    "duration": 9,
    "start_time": "2023-11-03T20:02:53.890Z"
   },
   {
    "duration": 18,
    "start_time": "2023-11-03T20:02:53.900Z"
   },
   {
    "duration": 22,
    "start_time": "2023-11-03T20:02:53.919Z"
   },
   {
    "duration": 156,
    "start_time": "2023-11-03T20:02:53.942Z"
   },
   {
    "duration": 912,
    "start_time": "2023-11-03T20:04:33.698Z"
   },
   {
    "duration": 152,
    "start_time": "2023-11-03T20:05:43.091Z"
   },
   {
    "duration": 153,
    "start_time": "2023-11-03T20:06:34.333Z"
   },
   {
    "duration": 938,
    "start_time": "2023-11-03T20:08:51.764Z"
   },
   {
    "duration": 937,
    "start_time": "2023-11-03T20:09:44.659Z"
   },
   {
    "duration": 9,
    "start_time": "2023-11-03T20:09:49.080Z"
   },
   {
    "duration": 6,
    "start_time": "2023-11-03T20:09:51.030Z"
   },
   {
    "duration": 3,
    "start_time": "2023-11-03T20:09:52.678Z"
   },
   {
    "duration": 137,
    "start_time": "2023-11-03T20:09:54.761Z"
   },
   {
    "duration": 17,
    "start_time": "2023-11-03T20:11:52.727Z"
   },
   {
    "duration": 9,
    "start_time": "2023-11-03T20:31:24.515Z"
   },
   {
    "duration": 4,
    "start_time": "2023-11-03T20:31:33.551Z"
   },
   {
    "duration": 5,
    "start_time": "2023-11-03T20:32:24.635Z"
   },
   {
    "duration": 5,
    "start_time": "2023-11-03T20:33:21.154Z"
   },
   {
    "duration": 4,
    "start_time": "2023-11-03T20:35:28.082Z"
   },
   {
    "duration": 5,
    "start_time": "2023-11-03T20:35:44.495Z"
   },
   {
    "duration": 5,
    "start_time": "2023-11-03T20:35:49.900Z"
   },
   {
    "duration": 4,
    "start_time": "2023-11-03T20:50:51.708Z"
   },
   {
    "duration": 4,
    "start_time": "2023-11-03T20:51:13.088Z"
   },
   {
    "duration": 4,
    "start_time": "2023-11-03T20:51:17.631Z"
   },
   {
    "duration": 11,
    "start_time": "2023-11-03T20:59:41.608Z"
   },
   {
    "duration": 202,
    "start_time": "2023-11-03T21:48:34.807Z"
   },
   {
    "duration": 209,
    "start_time": "2023-11-03T21:52:11.391Z"
   },
   {
    "duration": 3,
    "start_time": "2023-11-03T21:57:10.603Z"
   },
   {
    "duration": 46,
    "start_time": "2023-11-03T21:57:10.608Z"
   },
   {
    "duration": 6,
    "start_time": "2023-11-03T21:57:10.656Z"
   },
   {
    "duration": 11,
    "start_time": "2023-11-03T21:57:10.664Z"
   },
   {
    "duration": 13,
    "start_time": "2023-11-03T21:57:10.677Z"
   },
   {
    "duration": 32,
    "start_time": "2023-11-03T21:57:10.691Z"
   },
   {
    "duration": 31,
    "start_time": "2023-11-03T21:57:10.724Z"
   },
   {
    "duration": 17,
    "start_time": "2023-11-03T21:57:10.756Z"
   },
   {
    "duration": 19,
    "start_time": "2023-11-03T21:57:10.774Z"
   },
   {
    "duration": 9,
    "start_time": "2023-11-03T21:57:10.795Z"
   },
   {
    "duration": 7,
    "start_time": "2023-11-03T21:57:10.806Z"
   },
   {
    "duration": 8,
    "start_time": "2023-11-03T21:57:10.814Z"
   },
   {
    "duration": 20,
    "start_time": "2023-11-03T21:57:10.823Z"
   },
   {
    "duration": 19,
    "start_time": "2023-11-03T21:57:10.844Z"
   },
   {
    "duration": 12,
    "start_time": "2023-11-03T21:57:10.865Z"
   },
   {
    "duration": 19,
    "start_time": "2023-11-03T21:57:10.878Z"
   },
   {
    "duration": 5,
    "start_time": "2023-11-03T21:57:10.898Z"
   },
   {
    "duration": 4,
    "start_time": "2023-11-03T21:57:10.905Z"
   },
   {
    "duration": 5,
    "start_time": "2023-11-03T21:57:10.910Z"
   },
   {
    "duration": 8,
    "start_time": "2023-11-03T21:57:10.949Z"
   },
   {
    "duration": 4,
    "start_time": "2023-11-03T21:57:10.959Z"
   },
   {
    "duration": 4,
    "start_time": "2023-11-03T21:57:10.964Z"
   },
   {
    "duration": 7,
    "start_time": "2023-11-03T21:57:10.969Z"
   },
   {
    "duration": 4,
    "start_time": "2023-11-03T21:57:10.978Z"
   },
   {
    "duration": 9,
    "start_time": "2023-11-03T21:57:10.983Z"
   },
   {
    "duration": 178,
    "start_time": "2023-11-03T21:57:10.993Z"
   },
   {
    "duration": 5,
    "start_time": "2023-11-03T21:57:11.172Z"
   },
   {
    "duration": 107,
    "start_time": "2023-11-03T21:57:11.178Z"
   },
   {
    "duration": 133,
    "start_time": "2023-11-03T21:57:11.288Z"
   },
   {
    "duration": 6,
    "start_time": "2023-11-03T21:57:11.422Z"
   },
   {
    "duration": 21,
    "start_time": "2023-11-03T21:57:11.429Z"
   },
   {
    "duration": 7,
    "start_time": "2023-11-03T21:57:11.452Z"
   },
   {
    "duration": 236,
    "start_time": "2023-11-03T21:57:11.460Z"
   },
   {
    "duration": 7,
    "start_time": "2023-11-03T21:57:11.697Z"
   },
   {
    "duration": 9,
    "start_time": "2023-11-03T21:57:11.706Z"
   },
   {
    "duration": 255,
    "start_time": "2023-11-03T21:57:11.716Z"
   },
   {
    "duration": 27,
    "start_time": "2023-11-03T21:57:11.973Z"
   },
   {
    "duration": 11,
    "start_time": "2023-11-03T21:57:12.001Z"
   },
   {
    "duration": 38,
    "start_time": "2023-11-03T21:57:12.013Z"
   },
   {
    "duration": 19,
    "start_time": "2023-11-03T21:57:12.053Z"
   },
   {
    "duration": 236,
    "start_time": "2023-11-03T21:57:12.073Z"
   },
   {
    "duration": 263,
    "start_time": "2023-11-03T21:57:12.310Z"
   },
   {
    "duration": 248,
    "start_time": "2023-11-03T21:57:12.575Z"
   },
   {
    "duration": 242,
    "start_time": "2023-11-03T21:57:12.825Z"
   },
   {
    "duration": 989,
    "start_time": "2023-11-03T21:57:13.069Z"
   },
   {
    "duration": 9,
    "start_time": "2023-11-03T21:57:14.060Z"
   },
   {
    "duration": 7,
    "start_time": "2023-11-03T21:57:14.070Z"
   },
   {
    "duration": 16,
    "start_time": "2023-11-03T21:57:14.078Z"
   },
   {
    "duration": 315,
    "start_time": "2023-11-03T21:57:14.095Z"
   },
   {
    "duration": 5,
    "start_time": "2023-11-03T21:57:14.411Z"
   },
   {
    "duration": 9,
    "start_time": "2023-11-03T21:57:14.417Z"
   },
   {
    "duration": 21,
    "start_time": "2023-11-03T21:57:14.427Z"
   },
   {
    "duration": 221,
    "start_time": "2023-11-03T21:57:14.451Z"
   },
   {
    "duration": 207,
    "start_time": "2023-11-03T21:57:27.771Z"
   },
   {
    "duration": 67,
    "start_time": "2023-11-03T21:58:13.947Z"
   },
   {
    "duration": 10225,
    "start_time": "2023-11-03T21:58:36.403Z"
   },
   {
    "duration": 195,
    "start_time": "2023-11-03T21:59:44.818Z"
   },
   {
    "duration": 75,
    "start_time": "2023-11-03T21:59:50.683Z"
   },
   {
    "duration": 61,
    "start_time": "2023-11-03T21:59:53.229Z"
   },
   {
    "duration": 171,
    "start_time": "2023-11-03T22:00:00.951Z"
   },
   {
    "duration": 210,
    "start_time": "2023-11-03T22:04:49.280Z"
   },
   {
    "duration": 1114,
    "start_time": "2023-11-03T22:05:15.295Z"
   },
   {
    "duration": 1207,
    "start_time": "2023-11-03T22:06:18.785Z"
   },
   {
    "duration": 208,
    "start_time": "2023-11-03T22:06:49.334Z"
   },
   {
    "duration": 196,
    "start_time": "2023-11-03T22:06:57.006Z"
   },
   {
    "duration": 76,
    "start_time": "2023-11-03T22:07:04.969Z"
   },
   {
    "duration": 80,
    "start_time": "2023-11-03T22:07:08.715Z"
   },
   {
    "duration": 82,
    "start_time": "2023-11-03T22:07:34.781Z"
   },
   {
    "duration": 2150,
    "start_time": "2023-11-03T22:08:24.047Z"
   },
   {
    "duration": 2149,
    "start_time": "2023-11-03T22:08:57.155Z"
   },
   {
    "duration": 2122,
    "start_time": "2023-11-03T22:09:12.500Z"
   },
   {
    "duration": 2,
    "start_time": "2023-11-03T22:09:24.317Z"
   },
   {
    "duration": 30,
    "start_time": "2023-11-03T22:09:24.321Z"
   },
   {
    "duration": 8,
    "start_time": "2023-11-03T22:09:24.352Z"
   },
   {
    "duration": 10,
    "start_time": "2023-11-03T22:09:24.362Z"
   },
   {
    "duration": 12,
    "start_time": "2023-11-03T22:09:24.373Z"
   },
   {
    "duration": 31,
    "start_time": "2023-11-03T22:09:24.386Z"
   },
   {
    "duration": 24,
    "start_time": "2023-11-03T22:09:24.418Z"
   },
   {
    "duration": 16,
    "start_time": "2023-11-03T22:09:24.443Z"
   },
   {
    "duration": 19,
    "start_time": "2023-11-03T22:09:24.461Z"
   },
   {
    "duration": 8,
    "start_time": "2023-11-03T22:09:24.482Z"
   },
   {
    "duration": 8,
    "start_time": "2023-11-03T22:09:24.492Z"
   },
   {
    "duration": 9,
    "start_time": "2023-11-03T22:09:24.501Z"
   },
   {
    "duration": 18,
    "start_time": "2023-11-03T22:09:24.511Z"
   },
   {
    "duration": 19,
    "start_time": "2023-11-03T22:09:24.530Z"
   },
   {
    "duration": 9,
    "start_time": "2023-11-03T22:09:24.550Z"
   },
   {
    "duration": 20,
    "start_time": "2023-11-03T22:09:24.560Z"
   },
   {
    "duration": 5,
    "start_time": "2023-11-03T22:09:24.581Z"
   },
   {
    "duration": 4,
    "start_time": "2023-11-03T22:09:24.588Z"
   },
   {
    "duration": 7,
    "start_time": "2023-11-03T22:09:24.593Z"
   },
   {
    "duration": 39,
    "start_time": "2023-11-03T22:09:24.602Z"
   },
   {
    "duration": 6,
    "start_time": "2023-11-03T22:09:24.642Z"
   },
   {
    "duration": 3,
    "start_time": "2023-11-03T22:09:24.649Z"
   },
   {
    "duration": 7,
    "start_time": "2023-11-03T22:09:24.654Z"
   },
   {
    "duration": 4,
    "start_time": "2023-11-03T22:09:24.664Z"
   },
   {
    "duration": 6,
    "start_time": "2023-11-03T22:09:24.669Z"
   },
   {
    "duration": 177,
    "start_time": "2023-11-03T22:09:24.676Z"
   },
   {
    "duration": 5,
    "start_time": "2023-11-03T22:09:24.854Z"
   },
   {
    "duration": 95,
    "start_time": "2023-11-03T22:09:24.860Z"
   },
   {
    "duration": 136,
    "start_time": "2023-11-03T22:09:24.956Z"
   },
   {
    "duration": 7,
    "start_time": "2023-11-03T22:09:25.093Z"
   },
   {
    "duration": 27,
    "start_time": "2023-11-03T22:09:25.101Z"
   },
   {
    "duration": 6,
    "start_time": "2023-11-03T22:09:25.129Z"
   },
   {
    "duration": 239,
    "start_time": "2023-11-03T22:09:25.136Z"
   },
   {
    "duration": 8,
    "start_time": "2023-11-03T22:09:25.377Z"
   },
   {
    "duration": 7,
    "start_time": "2023-11-03T22:09:25.386Z"
   },
   {
    "duration": 261,
    "start_time": "2023-11-03T22:09:25.395Z"
   },
   {
    "duration": 34,
    "start_time": "2023-11-03T22:09:25.658Z"
   },
   {
    "duration": 11,
    "start_time": "2023-11-03T22:09:25.693Z"
   },
   {
    "duration": 35,
    "start_time": "2023-11-03T22:09:25.706Z"
   },
   {
    "duration": 19,
    "start_time": "2023-11-03T22:09:25.743Z"
   },
   {
    "duration": 248,
    "start_time": "2023-11-03T22:09:25.764Z"
   },
   {
    "duration": 233,
    "start_time": "2023-11-03T22:09:26.014Z"
   },
   {
    "duration": 452,
    "start_time": "2023-11-03T22:09:26.248Z"
   },
   {
    "duration": 228,
    "start_time": "2023-11-03T22:09:26.701Z"
   },
   {
    "duration": 932,
    "start_time": "2023-11-03T22:09:26.930Z"
   },
   {
    "duration": 10,
    "start_time": "2023-11-03T22:09:27.863Z"
   },
   {
    "duration": 7,
    "start_time": "2023-11-03T22:09:27.874Z"
   },
   {
    "duration": 9,
    "start_time": "2023-11-03T22:09:27.882Z"
   },
   {
    "duration": 153,
    "start_time": "2023-11-03T22:09:27.892Z"
   },
   {
    "duration": 4,
    "start_time": "2023-11-03T22:09:28.047Z"
   },
   {
    "duration": 4,
    "start_time": "2023-11-03T22:09:28.052Z"
   },
   {
    "duration": 9,
    "start_time": "2023-11-03T22:09:28.057Z"
   },
   {
    "duration": 2160,
    "start_time": "2023-11-03T22:09:28.067Z"
   },
   {
    "duration": 210,
    "start_time": "2023-11-03T22:10:32.155Z"
   },
   {
    "duration": 200,
    "start_time": "2023-11-03T22:10:46.765Z"
   },
   {
    "duration": 1341,
    "start_time": "2023-11-03T22:10:54.581Z"
   },
   {
    "duration": 145,
    "start_time": "2023-11-03T22:11:04.155Z"
   },
   {
    "duration": 1072,
    "start_time": "2023-11-03T22:11:15.075Z"
   },
   {
    "duration": 7,
    "start_time": "2023-11-03T22:11:21.144Z"
   },
   {
    "duration": 19,
    "start_time": "2023-11-03T22:11:36.473Z"
   },
   {
    "duration": 9,
    "start_time": "2023-11-03T22:11:41.228Z"
   },
   {
    "duration": 18,
    "start_time": "2023-11-03T22:11:45.078Z"
   },
   {
    "duration": 147,
    "start_time": "2023-11-03T22:11:57.220Z"
   },
   {
    "duration": 6,
    "start_time": "2023-11-03T22:12:00.326Z"
   },
   {
    "duration": 6,
    "start_time": "2023-11-03T22:12:06.626Z"
   },
   {
    "duration": 6,
    "start_time": "2023-11-03T22:12:10.845Z"
   },
   {
    "duration": 7,
    "start_time": "2023-11-03T22:12:14.634Z"
   },
   {
    "duration": 17,
    "start_time": "2023-11-03T22:12:18.380Z"
   },
   {
    "duration": 9,
    "start_time": "2023-11-03T22:12:23.281Z"
   },
   {
    "duration": 9,
    "start_time": "2023-11-03T22:12:38.383Z"
   },
   {
    "duration": 17,
    "start_time": "2023-11-03T22:12:42.636Z"
   },
   {
    "duration": 5,
    "start_time": "2023-11-03T22:12:47.692Z"
   },
   {
    "duration": 29,
    "start_time": "2023-11-03T22:12:51.076Z"
   },
   {
    "duration": 6,
    "start_time": "2023-11-03T22:12:58.730Z"
   },
   {
    "duration": 11,
    "start_time": "2023-11-03T22:13:04.867Z"
   },
   {
    "duration": 9,
    "start_time": "2023-11-03T22:13:09.359Z"
   },
   {
    "duration": 12,
    "start_time": "2023-11-03T22:13:13.046Z"
   },
   {
    "duration": 10,
    "start_time": "2023-11-03T22:13:15.711Z"
   },
   {
    "duration": 8,
    "start_time": "2023-11-03T22:13:19.656Z"
   },
   {
    "duration": 8,
    "start_time": "2023-11-03T22:14:24.164Z"
   },
   {
    "duration": 17,
    "start_time": "2023-11-03T22:14:28.285Z"
   },
   {
    "duration": 10379,
    "start_time": "2023-11-03T22:14:30.676Z"
   },
   {
    "duration": 109,
    "start_time": "2023-11-03T22:14:44.498Z"
   },
   {
    "duration": 7,
    "start_time": "2023-11-03T22:14:55.374Z"
   },
   {
    "duration": 17,
    "start_time": "2023-11-03T22:14:57.811Z"
   },
   {
    "duration": 140,
    "start_time": "2023-11-03T22:15:02.386Z"
   },
   {
    "duration": 115,
    "start_time": "2023-11-03T22:15:09.103Z"
   },
   {
    "duration": 7,
    "start_time": "2023-11-03T22:15:12.169Z"
   },
   {
    "duration": 18,
    "start_time": "2023-11-03T22:15:15.809Z"
   },
   {
    "duration": 19,
    "start_time": "2023-11-03T22:15:21.384Z"
   },
   {
    "duration": 7,
    "start_time": "2023-11-03T22:15:27.050Z"
   },
   {
    "duration": 5,
    "start_time": "2023-11-03T22:15:31.251Z"
   },
   {
    "duration": 7,
    "start_time": "2023-11-03T22:15:37.553Z"
   },
   {
    "duration": 7,
    "start_time": "2023-11-03T22:15:51.486Z"
   },
   {
    "duration": 22,
    "start_time": "2023-11-03T22:15:54.479Z"
   },
   {
    "duration": 32,
    "start_time": "2023-11-03T22:16:01.224Z"
   },
   {
    "duration": 5,
    "start_time": "2023-11-03T22:16:05.393Z"
   },
   {
    "duration": 3,
    "start_time": "2023-11-03T22:19:26.895Z"
   },
   {
    "duration": 10,
    "start_time": "2023-11-03T22:20:00.430Z"
   },
   {
    "duration": 9,
    "start_time": "2023-11-03T22:20:21.530Z"
   },
   {
    "duration": 9,
    "start_time": "2023-11-03T22:26:29.632Z"
   },
   {
    "duration": 5,
    "start_time": "2023-11-03T22:26:43.844Z"
   },
   {
    "duration": 4,
    "start_time": "2023-11-03T22:26:49.640Z"
   },
   {
    "duration": 5,
    "start_time": "2023-11-03T22:26:51.814Z"
   },
   {
    "duration": 4,
    "start_time": "2023-11-03T22:26:57.550Z"
   },
   {
    "duration": 5,
    "start_time": "2023-11-03T22:27:04.898Z"
   },
   {
    "duration": 4,
    "start_time": "2023-11-03T22:27:08.970Z"
   },
   {
    "duration": 5,
    "start_time": "2023-11-03T22:27:18.098Z"
   },
   {
    "duration": 5,
    "start_time": "2023-11-03T22:28:11.517Z"
   },
   {
    "duration": 4,
    "start_time": "2023-11-03T22:28:13.794Z"
   },
   {
    "duration": 5,
    "start_time": "2023-11-03T22:28:16.578Z"
   },
   {
    "duration": 5,
    "start_time": "2023-11-03T22:28:25.407Z"
   },
   {
    "duration": 5,
    "start_time": "2023-11-03T22:28:31.178Z"
   },
   {
    "duration": 4,
    "start_time": "2023-11-03T22:28:34.334Z"
   },
   {
    "duration": 5,
    "start_time": "2023-11-03T22:28:40.109Z"
   },
   {
    "duration": 5,
    "start_time": "2023-11-03T22:28:44.493Z"
   },
   {
    "duration": 4,
    "start_time": "2023-11-03T22:30:09.418Z"
   },
   {
    "duration": 5,
    "start_time": "2023-11-03T22:31:04.722Z"
   },
   {
    "duration": 5,
    "start_time": "2023-11-03T22:31:14.805Z"
   },
   {
    "duration": 4,
    "start_time": "2023-11-03T22:31:18.262Z"
   },
   {
    "duration": 5,
    "start_time": "2023-11-03T22:31:22.446Z"
   },
   {
    "duration": 4,
    "start_time": "2023-11-03T22:32:39.720Z"
   },
   {
    "duration": 5,
    "start_time": "2023-11-03T22:32:46.426Z"
   },
   {
    "duration": 4,
    "start_time": "2023-11-03T22:32:50.285Z"
   },
   {
    "duration": 5,
    "start_time": "2023-11-03T22:32:54.473Z"
   },
   {
    "duration": 5,
    "start_time": "2023-11-03T22:32:58.239Z"
   },
   {
    "duration": 6,
    "start_time": "2023-11-03T22:33:02.245Z"
   },
   {
    "duration": 4,
    "start_time": "2023-11-03T22:33:04.597Z"
   },
   {
    "duration": 5,
    "start_time": "2023-11-03T22:33:07.286Z"
   },
   {
    "duration": 8,
    "start_time": "2023-11-03T22:42:24.243Z"
   },
   {
    "duration": 3,
    "start_time": "2023-11-03T22:42:43.866Z"
   },
   {
    "duration": 4,
    "start_time": "2023-11-03T22:42:50.713Z"
   },
   {
    "duration": 4,
    "start_time": "2023-11-03T22:42:54.527Z"
   },
   {
    "duration": 3,
    "start_time": "2023-11-03T22:42:57.702Z"
   },
   {
    "duration": 4,
    "start_time": "2023-11-03T22:43:02.832Z"
   },
   {
    "duration": 4,
    "start_time": "2023-11-03T22:54:37.192Z"
   },
   {
    "duration": 4,
    "start_time": "2023-11-03T22:55:00.433Z"
   },
   {
    "duration": 4,
    "start_time": "2023-11-03T22:55:04.687Z"
   },
   {
    "duration": 4,
    "start_time": "2023-11-03T22:55:09.204Z"
   },
   {
    "duration": 3,
    "start_time": "2023-11-03T22:55:12.561Z"
   },
   {
    "duration": 8,
    "start_time": "2023-11-03T22:57:29.039Z"
   },
   {
    "duration": 3,
    "start_time": "2023-11-03T22:57:42.558Z"
   },
   {
    "duration": 4,
    "start_time": "2023-11-03T22:57:47.262Z"
   },
   {
    "duration": 3,
    "start_time": "2023-11-03T22:57:51.528Z"
   },
   {
    "duration": 4,
    "start_time": "2023-11-03T22:57:56.655Z"
   },
   {
    "duration": 3,
    "start_time": "2023-11-03T22:57:59.326Z"
   },
   {
    "duration": 5,
    "start_time": "2023-11-03T22:58:02.487Z"
   },
   {
    "duration": 3,
    "start_time": "2023-11-03T22:58:06.234Z"
   },
   {
    "duration": 4,
    "start_time": "2023-11-03T22:58:09.487Z"
   },
   {
    "duration": 3,
    "start_time": "2023-11-03T22:58:12.576Z"
   },
   {
    "duration": 3,
    "start_time": "2023-11-03T22:59:17.962Z"
   },
   {
    "duration": 4,
    "start_time": "2023-11-03T22:59:37.223Z"
   },
   {
    "duration": 3,
    "start_time": "2023-11-03T22:59:49.509Z"
   },
   {
    "duration": 3,
    "start_time": "2023-11-03T22:59:53.065Z"
   },
   {
    "duration": 4,
    "start_time": "2023-11-03T22:59:56.833Z"
   },
   {
    "duration": 3,
    "start_time": "2023-11-03T23:00:04.154Z"
   },
   {
    "duration": 3,
    "start_time": "2023-11-03T23:00:08.730Z"
   },
   {
    "duration": 3,
    "start_time": "2023-11-03T23:00:40.430Z"
   },
   {
    "duration": 3,
    "start_time": "2023-11-03T23:01:00.783Z"
   },
   {
    "duration": 9624,
    "start_time": "2023-11-03T23:05:44.312Z"
   },
   {
    "duration": 9549,
    "start_time": "2023-11-03T23:06:19.984Z"
   },
   {
    "duration": 9522,
    "start_time": "2023-11-03T23:07:16.501Z"
   },
   {
    "duration": 9710,
    "start_time": "2023-11-03T23:07:42.255Z"
   },
   {
    "duration": 9745,
    "start_time": "2023-11-03T23:08:45.355Z"
   },
   {
    "duration": 9633,
    "start_time": "2023-11-03T23:09:11.768Z"
   },
   {
    "duration": 824,
    "start_time": "2023-11-03T23:10:27.986Z"
   },
   {
    "duration": 1039,
    "start_time": "2023-11-03T23:10:47.890Z"
   },
   {
    "duration": 849,
    "start_time": "2023-11-03T23:10:58.828Z"
   },
   {
    "duration": 951,
    "start_time": "2023-11-03T23:11:23.193Z"
   },
   {
    "duration": 111,
    "start_time": "2023-11-03T23:11:29.441Z"
   },
   {
    "duration": 926,
    "start_time": "2023-11-03T23:11:40.661Z"
   },
   {
    "duration": 877,
    "start_time": "2023-11-03T23:12:10.921Z"
   },
   {
    "duration": 864,
    "start_time": "2023-11-03T23:12:22.524Z"
   },
   {
    "duration": 863,
    "start_time": "2023-11-03T23:12:38.728Z"
   },
   {
    "duration": 920,
    "start_time": "2023-11-03T23:12:59.367Z"
   },
   {
    "duration": 308,
    "start_time": "2023-11-03T23:19:10.866Z"
   },
   {
    "duration": 172,
    "start_time": "2023-11-03T23:19:34.549Z"
   },
   {
    "duration": 308,
    "start_time": "2023-11-03T23:21:31.897Z"
   },
   {
    "duration": 196,
    "start_time": "2023-11-03T23:21:46.125Z"
   },
   {
    "duration": 192,
    "start_time": "2023-11-03T23:22:15.299Z"
   },
   {
    "duration": 363,
    "start_time": "2023-11-03T23:22:41.779Z"
   },
   {
    "duration": 1365,
    "start_time": "2023-11-03T23:22:49.515Z"
   },
   {
    "duration": 310,
    "start_time": "2023-11-03T23:23:01.726Z"
   },
   {
    "duration": 327,
    "start_time": "2023-11-03T23:23:12.195Z"
   },
   {
    "duration": 77,
    "start_time": "2023-11-03T23:23:20.106Z"
   },
   {
    "duration": 1234,
    "start_time": "2023-11-03T23:23:26.663Z"
   },
   {
    "duration": 1588,
    "start_time": "2023-11-03T23:23:46.362Z"
   },
   {
    "duration": 1583,
    "start_time": "2023-11-03T23:24:27.802Z"
   },
   {
    "duration": 9,
    "start_time": "2023-11-03T23:29:25.643Z"
   },
   {
    "duration": 9,
    "start_time": "2023-11-03T23:29:42.970Z"
   },
   {
    "duration": 1610,
    "start_time": "2023-11-03T23:30:03.716Z"
   },
   {
    "duration": 8,
    "start_time": "2023-11-03T23:30:19.719Z"
   },
   {
    "duration": 1603,
    "start_time": "2023-11-03T23:30:23.827Z"
   },
   {
    "duration": 9,
    "start_time": "2023-11-03T23:30:36.639Z"
   },
   {
    "duration": 1728,
    "start_time": "2023-11-03T23:30:45.658Z"
   },
   {
    "duration": 340,
    "start_time": "2023-11-03T23:30:59.858Z"
   },
   {
    "duration": 1366,
    "start_time": "2023-11-03T23:31:05.223Z"
   },
   {
    "duration": 4,
    "start_time": "2023-11-03T23:39:07.709Z"
   },
   {
    "duration": 4,
    "start_time": "2023-11-03T23:41:51.193Z"
   },
   {
    "duration": 4,
    "start_time": "2023-11-03T23:41:56.854Z"
   },
   {
    "duration": 26434,
    "start_time": "2023-11-03T23:46:22.471Z"
   },
   {
    "duration": 3,
    "start_time": "2023-11-03T23:54:45.277Z"
   },
   {
    "duration": 52,
    "start_time": "2023-11-03T23:54:45.281Z"
   },
   {
    "duration": 8,
    "start_time": "2023-11-03T23:54:45.334Z"
   },
   {
    "duration": 28,
    "start_time": "2023-11-03T23:54:45.343Z"
   },
   {
    "duration": 12,
    "start_time": "2023-11-03T23:54:45.373Z"
   },
   {
    "duration": 44,
    "start_time": "2023-11-03T23:54:45.386Z"
   },
   {
    "duration": 9,
    "start_time": "2023-11-03T23:54:45.432Z"
   },
   {
    "duration": 34,
    "start_time": "2023-11-03T23:54:45.442Z"
   },
   {
    "duration": 19,
    "start_time": "2023-11-03T23:54:45.478Z"
   },
   {
    "duration": 9,
    "start_time": "2023-11-03T23:54:45.499Z"
   },
   {
    "duration": 16,
    "start_time": "2023-11-03T23:54:45.510Z"
   },
   {
    "duration": 19,
    "start_time": "2023-11-03T23:54:45.528Z"
   },
   {
    "duration": 11,
    "start_time": "2023-11-03T23:54:45.549Z"
   },
   {
    "duration": 26,
    "start_time": "2023-11-03T23:54:45.562Z"
   },
   {
    "duration": 10,
    "start_time": "2023-11-03T23:54:45.590Z"
   },
   {
    "duration": 19,
    "start_time": "2023-11-03T23:54:45.601Z"
   },
   {
    "duration": 12,
    "start_time": "2023-11-03T23:54:45.621Z"
   },
   {
    "duration": 12,
    "start_time": "2023-11-03T23:54:45.634Z"
   },
   {
    "duration": 21,
    "start_time": "2023-11-03T23:54:45.648Z"
   },
   {
    "duration": 9,
    "start_time": "2023-11-03T23:54:45.670Z"
   },
   {
    "duration": 11,
    "start_time": "2023-11-03T23:54:45.680Z"
   },
   {
    "duration": 23,
    "start_time": "2023-11-03T23:54:45.693Z"
   },
   {
    "duration": 24,
    "start_time": "2023-11-03T23:54:45.718Z"
   },
   {
    "duration": 8,
    "start_time": "2023-11-03T23:54:45.744Z"
   },
   {
    "duration": 28,
    "start_time": "2023-11-03T23:54:45.754Z"
   },
   {
    "duration": 150,
    "start_time": "2023-11-03T23:54:45.784Z"
   },
   {
    "duration": 5,
    "start_time": "2023-11-03T23:54:45.936Z"
   },
   {
    "duration": 98,
    "start_time": "2023-11-03T23:54:45.943Z"
   },
   {
    "duration": 140,
    "start_time": "2023-11-03T23:54:46.046Z"
   },
   {
    "duration": 7,
    "start_time": "2023-11-03T23:54:46.188Z"
   },
   {
    "duration": 18,
    "start_time": "2023-11-03T23:54:46.197Z"
   },
   {
    "duration": 16,
    "start_time": "2023-11-03T23:54:46.216Z"
   },
   {
    "duration": 652,
    "start_time": "2023-11-03T23:54:46.234Z"
   },
   {
    "duration": 7,
    "start_time": "2023-11-03T23:54:46.887Z"
   },
   {
    "duration": 6,
    "start_time": "2023-11-03T23:54:46.896Z"
   },
   {
    "duration": 244,
    "start_time": "2023-11-03T23:54:46.903Z"
   },
   {
    "duration": 26,
    "start_time": "2023-11-03T23:54:47.149Z"
   },
   {
    "duration": 11,
    "start_time": "2023-11-03T23:54:47.177Z"
   },
   {
    "duration": 20,
    "start_time": "2023-11-03T23:54:47.189Z"
   },
   {
    "duration": 41,
    "start_time": "2023-11-03T23:54:47.210Z"
   },
   {
    "duration": 231,
    "start_time": "2023-11-03T23:54:47.253Z"
   },
   {
    "duration": 227,
    "start_time": "2023-11-03T23:54:47.486Z"
   },
   {
    "duration": 221,
    "start_time": "2023-11-03T23:54:47.714Z"
   },
   {
    "duration": 232,
    "start_time": "2023-11-03T23:54:47.936Z"
   },
   {
    "duration": 882,
    "start_time": "2023-11-03T23:54:48.170Z"
   },
   {
    "duration": 9,
    "start_time": "2023-11-03T23:54:49.053Z"
   },
   {
    "duration": 10,
    "start_time": "2023-11-03T23:54:49.063Z"
   },
   {
    "duration": 4,
    "start_time": "2023-11-03T23:54:49.074Z"
   },
   {
    "duration": 154,
    "start_time": "2023-11-03T23:54:49.079Z"
   },
   {
    "duration": 7,
    "start_time": "2023-11-03T23:54:49.234Z"
   },
   {
    "duration": 8,
    "start_time": "2023-11-03T23:54:49.242Z"
   },
   {
    "duration": 10,
    "start_time": "2023-11-03T23:54:49.251Z"
   },
   {
    "duration": 4,
    "start_time": "2023-11-03T23:54:49.262Z"
   },
   {
    "duration": 4,
    "start_time": "2023-11-03T23:54:49.267Z"
   },
   {
    "duration": 1026,
    "start_time": "2023-11-04T00:34:58.588Z"
   },
   {
    "duration": 76,
    "start_time": "2023-11-04T00:34:59.616Z"
   },
   {
    "duration": 12,
    "start_time": "2023-11-04T00:34:59.694Z"
   },
   {
    "duration": 9,
    "start_time": "2023-11-04T00:34:59.709Z"
   },
   {
    "duration": 14,
    "start_time": "2023-11-04T00:34:59.720Z"
   },
   {
    "duration": 74,
    "start_time": "2023-11-04T00:34:59.736Z"
   },
   {
    "duration": 12,
    "start_time": "2023-11-04T00:34:59.811Z"
   },
   {
    "duration": 17,
    "start_time": "2023-11-04T00:34:59.825Z"
   },
   {
    "duration": 57,
    "start_time": "2023-11-04T00:34:59.844Z"
   },
   {
    "duration": 8,
    "start_time": "2023-11-04T00:34:59.905Z"
   },
   {
    "duration": 7,
    "start_time": "2023-11-04T00:34:59.915Z"
   },
   {
    "duration": 7,
    "start_time": "2023-11-04T00:34:59.924Z"
   },
   {
    "duration": 5,
    "start_time": "2023-11-04T00:34:59.933Z"
   },
   {
    "duration": 13,
    "start_time": "2023-11-04T00:34:59.940Z"
   },
   {
    "duration": 10,
    "start_time": "2023-11-04T00:34:59.955Z"
   },
   {
    "duration": 18,
    "start_time": "2023-11-04T00:34:59.966Z"
   },
   {
    "duration": 4,
    "start_time": "2023-11-04T00:34:59.985Z"
   },
   {
    "duration": 5,
    "start_time": "2023-11-04T00:34:59.991Z"
   },
   {
    "duration": 44,
    "start_time": "2023-11-04T00:34:59.997Z"
   },
   {
    "duration": 22,
    "start_time": "2023-11-04T00:35:00.043Z"
   },
   {
    "duration": 25,
    "start_time": "2023-11-04T00:35:00.066Z"
   },
   {
    "duration": 21,
    "start_time": "2023-11-04T00:35:00.093Z"
   },
   {
    "duration": 12,
    "start_time": "2023-11-04T00:35:00.115Z"
   },
   {
    "duration": 5,
    "start_time": "2023-11-04T00:35:00.128Z"
   },
   {
    "duration": 9,
    "start_time": "2023-11-04T00:35:00.134Z"
   },
   {
    "duration": 165,
    "start_time": "2023-11-04T00:35:00.144Z"
   },
   {
    "duration": 5,
    "start_time": "2023-11-04T00:35:00.310Z"
   },
   {
    "duration": 107,
    "start_time": "2023-11-04T00:35:00.318Z"
   },
   {
    "duration": 135,
    "start_time": "2023-11-04T00:35:00.427Z"
   },
   {
    "duration": 6,
    "start_time": "2023-11-04T00:35:00.564Z"
   },
   {
    "duration": 33,
    "start_time": "2023-11-04T00:35:00.571Z"
   },
   {
    "duration": 27,
    "start_time": "2023-11-04T00:35:00.605Z"
   },
   {
    "duration": 243,
    "start_time": "2023-11-04T00:35:00.633Z"
   },
   {
    "duration": 7,
    "start_time": "2023-11-04T00:35:00.877Z"
   },
   {
    "duration": 24,
    "start_time": "2023-11-04T00:35:00.885Z"
   },
   {
    "duration": 244,
    "start_time": "2023-11-04T00:35:00.910Z"
   },
   {
    "duration": 29,
    "start_time": "2023-11-04T00:35:01.156Z"
   },
   {
    "duration": 33,
    "start_time": "2023-11-04T00:35:01.186Z"
   },
   {
    "duration": 39,
    "start_time": "2023-11-04T00:35:01.221Z"
   },
   {
    "duration": 26,
    "start_time": "2023-11-04T00:35:01.261Z"
   },
   {
    "duration": 574,
    "start_time": "2023-11-04T00:35:01.289Z"
   },
   {
    "duration": 477,
    "start_time": "2023-11-04T00:35:01.864Z"
   },
   {
    "duration": 431,
    "start_time": "2023-11-04T00:35:02.343Z"
   },
   {
    "duration": 346,
    "start_time": "2023-11-04T00:35:02.776Z"
   },
   {
    "duration": 897,
    "start_time": "2023-11-04T00:35:03.123Z"
   },
   {
    "duration": 21,
    "start_time": "2023-11-04T00:35:04.021Z"
   },
   {
    "duration": 20,
    "start_time": "2023-11-04T00:35:04.043Z"
   },
   {
    "duration": 10,
    "start_time": "2023-11-04T00:35:04.064Z"
   },
   {
    "duration": 143,
    "start_time": "2023-11-04T00:35:04.075Z"
   },
   {
    "duration": 4,
    "start_time": "2023-11-04T00:35:04.219Z"
   },
   {
    "duration": 15,
    "start_time": "2023-11-04T00:35:04.225Z"
   },
   {
    "duration": 20,
    "start_time": "2023-11-04T00:35:04.241Z"
   },
   {
    "duration": 4,
    "start_time": "2023-11-04T00:35:04.262Z"
   },
   {
    "duration": 6,
    "start_time": "2023-11-04T00:35:04.267Z"
   },
   {
    "duration": 3,
    "start_time": "2023-11-04T00:35:09.693Z"
   },
   {
    "duration": 4,
    "start_time": "2023-11-04T00:35:19.767Z"
   },
   {
    "duration": 4,
    "start_time": "2023-11-04T00:35:25.105Z"
   },
   {
    "duration": 1035,
    "start_time": "2023-11-04T00:38:41.974Z"
   },
   {
    "duration": 29,
    "start_time": "2023-11-04T00:38:43.011Z"
   },
   {
    "duration": 10,
    "start_time": "2023-11-04T00:38:43.041Z"
   },
   {
    "duration": 12,
    "start_time": "2023-11-04T00:38:43.053Z"
   },
   {
    "duration": 24,
    "start_time": "2023-11-04T00:38:43.066Z"
   },
   {
    "duration": 33,
    "start_time": "2023-11-04T00:38:43.091Z"
   },
   {
    "duration": 17,
    "start_time": "2023-11-04T00:38:43.125Z"
   },
   {
    "duration": 15,
    "start_time": "2023-11-04T00:38:43.143Z"
   },
   {
    "duration": 19,
    "start_time": "2023-11-04T00:38:43.160Z"
   },
   {
    "duration": 8,
    "start_time": "2023-11-04T00:38:43.182Z"
   },
   {
    "duration": 11,
    "start_time": "2023-11-04T00:38:43.191Z"
   },
   {
    "duration": 10,
    "start_time": "2023-11-04T00:38:43.203Z"
   },
   {
    "duration": 26,
    "start_time": "2023-11-04T00:38:43.214Z"
   },
   {
    "duration": 13,
    "start_time": "2023-11-04T00:38:43.241Z"
   },
   {
    "duration": 9,
    "start_time": "2023-11-04T00:38:43.255Z"
   },
   {
    "duration": 18,
    "start_time": "2023-11-04T00:38:43.265Z"
   },
   {
    "duration": 5,
    "start_time": "2023-11-04T00:38:43.284Z"
   },
   {
    "duration": 4,
    "start_time": "2023-11-04T00:38:43.290Z"
   },
   {
    "duration": 8,
    "start_time": "2023-11-04T00:38:43.296Z"
   },
   {
    "duration": 8,
    "start_time": "2023-11-04T00:38:43.340Z"
   },
   {
    "duration": 6,
    "start_time": "2023-11-04T00:38:43.349Z"
   },
   {
    "duration": 8,
    "start_time": "2023-11-04T00:38:43.356Z"
   },
   {
    "duration": 27,
    "start_time": "2023-11-04T00:38:43.365Z"
   },
   {
    "duration": 9,
    "start_time": "2023-11-04T00:38:43.393Z"
   },
   {
    "duration": 11,
    "start_time": "2023-11-04T00:38:43.404Z"
   },
   {
    "duration": 172,
    "start_time": "2023-11-04T00:38:43.416Z"
   },
   {
    "duration": 7,
    "start_time": "2023-11-04T00:38:43.589Z"
   },
   {
    "duration": 108,
    "start_time": "2023-11-04T00:38:43.600Z"
   },
   {
    "duration": 137,
    "start_time": "2023-11-04T00:38:43.709Z"
   },
   {
    "duration": 6,
    "start_time": "2023-11-04T00:38:43.847Z"
   },
   {
    "duration": 8,
    "start_time": "2023-11-04T00:38:43.855Z"
   },
   {
    "duration": 8,
    "start_time": "2023-11-04T00:38:43.865Z"
   },
   {
    "duration": 261,
    "start_time": "2023-11-04T00:38:43.875Z"
   },
   {
    "duration": 6,
    "start_time": "2023-11-04T00:38:44.140Z"
   },
   {
    "duration": 6,
    "start_time": "2023-11-04T00:38:44.148Z"
   },
   {
    "duration": 244,
    "start_time": "2023-11-04T00:38:44.155Z"
   },
   {
    "duration": 28,
    "start_time": "2023-11-04T00:38:44.400Z"
   },
   {
    "duration": 20,
    "start_time": "2023-11-04T00:38:44.430Z"
   },
   {
    "duration": 21,
    "start_time": "2023-11-04T00:38:44.451Z"
   },
   {
    "duration": 18,
    "start_time": "2023-11-04T00:38:44.474Z"
   },
   {
    "duration": 310,
    "start_time": "2023-11-04T00:38:44.494Z"
   },
   {
    "duration": 226,
    "start_time": "2023-11-04T00:38:44.805Z"
   },
   {
    "duration": 219,
    "start_time": "2023-11-04T00:38:45.040Z"
   },
   {
    "duration": 235,
    "start_time": "2023-11-04T00:38:45.260Z"
   },
   {
    "duration": 926,
    "start_time": "2023-11-04T00:38:45.497Z"
   },
   {
    "duration": 16,
    "start_time": "2023-11-04T00:38:46.424Z"
   },
   {
    "duration": 7,
    "start_time": "2023-11-04T00:38:46.442Z"
   },
   {
    "duration": 3,
    "start_time": "2023-11-04T00:38:46.450Z"
   },
   {
    "duration": 159,
    "start_time": "2023-11-04T00:38:46.454Z"
   },
   {
    "duration": 4,
    "start_time": "2023-11-04T00:38:46.614Z"
   },
   {
    "duration": 4,
    "start_time": "2023-11-04T00:38:46.619Z"
   },
   {
    "duration": 7,
    "start_time": "2023-11-04T00:38:46.639Z"
   },
   {
    "duration": 3,
    "start_time": "2023-11-04T00:38:46.647Z"
   },
   {
    "duration": 5,
    "start_time": "2023-11-04T00:38:46.652Z"
   },
   {
    "duration": 47,
    "start_time": "2023-11-04T08:09:52.829Z"
   },
   {
    "duration": 1342,
    "start_time": "2023-11-04T08:09:59.005Z"
   },
   {
    "duration": 79,
    "start_time": "2023-11-04T08:10:00.349Z"
   },
   {
    "duration": 35,
    "start_time": "2023-11-04T08:10:00.430Z"
   },
   {
    "duration": 34,
    "start_time": "2023-11-04T08:10:00.467Z"
   },
   {
    "duration": 95,
    "start_time": "2023-11-04T08:10:00.502Z"
   },
   {
    "duration": 122,
    "start_time": "2023-11-04T08:10:00.598Z"
   },
   {
    "duration": 11,
    "start_time": "2023-11-04T08:10:00.721Z"
   },
   {
    "duration": 57,
    "start_time": "2023-11-04T08:10:00.733Z"
   },
   {
    "duration": 130,
    "start_time": "2023-11-04T08:10:00.792Z"
   },
   {
    "duration": 224,
    "start_time": "2023-11-04T08:10:00.925Z"
   },
   {
    "duration": 62,
    "start_time": "2023-11-04T08:10:01.151Z"
   },
   {
    "duration": 64,
    "start_time": "2023-11-04T08:10:01.215Z"
   },
   {
    "duration": 56,
    "start_time": "2023-11-04T08:10:01.280Z"
   },
   {
    "duration": 85,
    "start_time": "2023-11-04T08:10:01.338Z"
   },
   {
    "duration": 53,
    "start_time": "2023-11-04T08:10:01.424Z"
   },
   {
    "duration": 113,
    "start_time": "2023-11-04T08:10:01.479Z"
   },
   {
    "duration": 87,
    "start_time": "2023-11-04T08:10:01.594Z"
   },
   {
    "duration": 34,
    "start_time": "2023-11-04T08:10:01.683Z"
   },
   {
    "duration": 47,
    "start_time": "2023-11-04T08:10:01.719Z"
   },
   {
    "duration": 82,
    "start_time": "2023-11-04T08:10:01.768Z"
   },
   {
    "duration": 45,
    "start_time": "2023-11-04T08:10:01.852Z"
   },
   {
    "duration": 130,
    "start_time": "2023-11-04T08:10:01.899Z"
   },
   {
    "duration": 239,
    "start_time": "2023-11-04T08:10:02.031Z"
   },
   {
    "duration": 49,
    "start_time": "2023-11-04T08:10:02.271Z"
   },
   {
    "duration": 39,
    "start_time": "2023-11-04T08:10:02.322Z"
   },
   {
    "duration": 66,
    "start_time": "2023-11-04T08:10:02.363Z"
   },
   {
    "duration": 205,
    "start_time": "2023-11-04T08:10:02.430Z"
   },
   {
    "duration": 6,
    "start_time": "2023-11-04T08:10:02.639Z"
   },
   {
    "duration": 122,
    "start_time": "2023-11-04T08:10:02.646Z"
   },
   {
    "duration": 157,
    "start_time": "2023-11-04T08:10:02.770Z"
   },
   {
    "duration": 7,
    "start_time": "2023-11-04T08:10:02.929Z"
   },
   {
    "duration": 47,
    "start_time": "2023-11-04T08:10:02.938Z"
   },
   {
    "duration": 18,
    "start_time": "2023-11-04T08:10:02.986Z"
   },
   {
    "duration": 285,
    "start_time": "2023-11-04T08:10:03.005Z"
   },
   {
    "duration": 15,
    "start_time": "2023-11-04T08:10:03.292Z"
   },
   {
    "duration": 455,
    "start_time": "2023-11-04T08:10:03.309Z"
   },
   {
    "duration": 354,
    "start_time": "2023-11-04T08:10:03.765Z"
   },
   {
    "duration": 30,
    "start_time": "2023-11-04T08:10:04.121Z"
   },
   {
    "duration": 13,
    "start_time": "2023-11-04T08:10:04.153Z"
   },
   {
    "duration": 51,
    "start_time": "2023-11-04T08:10:04.168Z"
   },
   {
    "duration": 19,
    "start_time": "2023-11-04T08:10:04.221Z"
   },
   {
    "duration": 321,
    "start_time": "2023-11-04T08:10:04.241Z"
   },
   {
    "duration": 255,
    "start_time": "2023-11-04T08:10:04.563Z"
   },
   {
    "duration": 258,
    "start_time": "2023-11-04T08:10:04.820Z"
   },
   {
    "duration": 275,
    "start_time": "2023-11-04T08:10:05.080Z"
   },
   {
    "duration": 918,
    "start_time": "2023-11-04T08:10:05.357Z"
   },
   {
    "duration": 10,
    "start_time": "2023-11-04T08:10:06.277Z"
   },
   {
    "duration": 38,
    "start_time": "2023-11-04T08:10:06.288Z"
   },
   {
    "duration": 9,
    "start_time": "2023-11-04T08:10:06.327Z"
   },
   {
    "duration": 160,
    "start_time": "2023-11-04T08:10:06.338Z"
   },
   {
    "duration": 10,
    "start_time": "2023-11-04T08:10:06.499Z"
   },
   {
    "duration": 20,
    "start_time": "2023-11-04T08:10:06.510Z"
   },
   {
    "duration": 21,
    "start_time": "2023-11-04T08:10:06.532Z"
   },
   {
    "duration": 36,
    "start_time": "2023-11-04T08:10:06.555Z"
   },
   {
    "duration": 30,
    "start_time": "2023-11-04T08:10:06.593Z"
   },
   {
    "duration": 4,
    "start_time": "2023-11-04T08:11:52.341Z"
   },
   {
    "duration": 64,
    "start_time": "2023-11-04T08:11:57.916Z"
   },
   {
    "duration": 10,
    "start_time": "2023-11-04T08:12:03.977Z"
   },
   {
    "duration": 9,
    "start_time": "2023-11-04T08:12:07.993Z"
   },
   {
    "duration": 12,
    "start_time": "2023-11-04T08:12:13.550Z"
   },
   {
    "duration": 11,
    "start_time": "2023-11-04T08:12:35.580Z"
   },
   {
    "duration": 11,
    "start_time": "2023-11-04T08:12:49.362Z"
   },
   {
    "duration": 13,
    "start_time": "2023-11-04T08:12:59.743Z"
   },
   {
    "duration": 9,
    "start_time": "2023-11-04T08:17:37.554Z"
   },
   {
    "duration": 187,
    "start_time": "2023-11-04T08:17:42.729Z"
   },
   {
    "duration": 12,
    "start_time": "2023-11-04T08:18:37.116Z"
   },
   {
    "duration": 11,
    "start_time": "2023-11-04T08:18:41.478Z"
   },
   {
    "duration": 11,
    "start_time": "2023-11-04T08:18:50.648Z"
   },
   {
    "duration": 11,
    "start_time": "2023-11-04T08:18:56.961Z"
   },
   {
    "duration": 19,
    "start_time": "2023-11-04T08:19:00.207Z"
   },
   {
    "duration": 11,
    "start_time": "2023-11-04T08:20:28.933Z"
   },
   {
    "duration": 13,
    "start_time": "2023-11-04T08:20:34.674Z"
   },
   {
    "duration": 147,
    "start_time": "2023-11-04T08:23:15.227Z"
   },
   {
    "duration": 172,
    "start_time": "2023-11-04T08:23:26.289Z"
   },
   {
    "duration": 172,
    "start_time": "2023-11-04T08:23:42.487Z"
   },
   {
    "duration": 152,
    "start_time": "2023-11-04T08:24:50.313Z"
   },
   {
    "duration": 148,
    "start_time": "2023-11-04T08:25:47.880Z"
   },
   {
    "duration": 155,
    "start_time": "2023-11-04T08:26:04.959Z"
   },
   {
    "duration": 157,
    "start_time": "2023-11-04T08:26:13.562Z"
   },
   {
    "duration": 76,
    "start_time": "2023-11-04T08:26:57.854Z"
   },
   {
    "duration": 138,
    "start_time": "2023-11-04T08:27:03.186Z"
   },
   {
    "duration": 156,
    "start_time": "2023-11-04T08:28:06.632Z"
   },
   {
    "duration": 233,
    "start_time": "2023-11-04T08:29:40.420Z"
   },
   {
    "duration": 131,
    "start_time": "2023-11-04T08:30:06.826Z"
   },
   {
    "duration": 162,
    "start_time": "2023-11-04T08:30:18.051Z"
   },
   {
    "duration": 167,
    "start_time": "2023-11-04T08:30:58.402Z"
   },
   {
    "duration": 171,
    "start_time": "2023-11-04T08:31:23.360Z"
   },
   {
    "duration": 310,
    "start_time": "2023-11-04T08:32:55.888Z"
   },
   {
    "duration": 305,
    "start_time": "2023-11-04T08:33:14.367Z"
   },
   {
    "duration": 278,
    "start_time": "2023-11-04T08:33:40.512Z"
   },
   {
    "duration": 386,
    "start_time": "2023-11-04T08:33:53.289Z"
   },
   {
    "duration": 253,
    "start_time": "2023-11-04T08:33:57.645Z"
   },
   {
    "duration": 253,
    "start_time": "2023-11-04T08:34:22.517Z"
   },
   {
    "duration": 196,
    "start_time": "2023-11-04T08:34:27.588Z"
   },
   {
    "duration": 263,
    "start_time": "2023-11-04T08:34:30.178Z"
   },
   {
    "duration": 230,
    "start_time": "2023-11-04T08:34:51.418Z"
   },
   {
    "duration": 373,
    "start_time": "2023-11-04T08:34:58.542Z"
   },
   {
    "duration": 150,
    "start_time": "2023-11-04T08:35:52.837Z"
   },
   {
    "duration": 174,
    "start_time": "2023-11-04T08:36:00.238Z"
   },
   {
    "duration": 150,
    "start_time": "2023-11-04T08:36:10.515Z"
   },
   {
    "duration": 162,
    "start_time": "2023-11-04T08:36:16.774Z"
   },
   {
    "duration": 168,
    "start_time": "2023-11-04T08:36:23.174Z"
   },
   {
    "duration": 164,
    "start_time": "2023-11-04T08:36:28.344Z"
   },
   {
    "duration": 178,
    "start_time": "2023-11-04T08:36:31.349Z"
   },
   {
    "duration": 188,
    "start_time": "2023-11-04T08:36:39.062Z"
   },
   {
    "duration": 173,
    "start_time": "2023-11-04T08:36:42.644Z"
   },
   {
    "duration": 174,
    "start_time": "2023-11-04T08:36:50.545Z"
   },
   {
    "duration": 278,
    "start_time": "2023-11-04T08:36:54.439Z"
   },
   {
    "duration": 165,
    "start_time": "2023-11-04T08:37:51.069Z"
   },
   {
    "duration": 68,
    "start_time": "2023-11-04T08:41:46.853Z"
   },
   {
    "duration": 380,
    "start_time": "2023-11-04T08:42:05.133Z"
   },
   {
    "duration": 399,
    "start_time": "2023-11-04T08:42:44.038Z"
   },
   {
    "duration": 81,
    "start_time": "2023-11-04T08:43:11.103Z"
   },
   {
    "duration": 424,
    "start_time": "2023-11-04T08:43:15.503Z"
   },
   {
    "duration": 521,
    "start_time": "2023-11-04T08:43:21.319Z"
   },
   {
    "duration": 403,
    "start_time": "2023-11-04T08:43:26.478Z"
   },
   {
    "duration": 414,
    "start_time": "2023-11-04T08:43:48.142Z"
   },
   {
    "duration": 480,
    "start_time": "2023-11-04T08:46:24.618Z"
   },
   {
    "duration": 425,
    "start_time": "2023-11-04T08:46:27.646Z"
   },
   {
    "duration": 1017,
    "start_time": "2023-11-04T08:47:55.410Z"
   },
   {
    "duration": 556,
    "start_time": "2023-11-04T08:48:22.872Z"
   },
   {
    "duration": 359,
    "start_time": "2023-11-04T08:50:12.573Z"
   },
   {
    "duration": 454,
    "start_time": "2023-11-04T08:50:24.666Z"
   },
   {
    "duration": 457,
    "start_time": "2023-11-04T08:51:11.382Z"
   },
   {
    "duration": 543,
    "start_time": "2023-11-04T08:51:29.380Z"
   },
   {
    "duration": 489,
    "start_time": "2023-11-04T08:51:39.773Z"
   },
   {
    "duration": 459,
    "start_time": "2023-11-04T08:52:21.572Z"
   },
   {
    "duration": 810,
    "start_time": "2023-11-04T08:58:14.166Z"
   },
   {
    "duration": 5,
    "start_time": "2023-11-04T09:10:17.682Z"
   },
   {
    "duration": 28,
    "start_time": "2023-11-04T09:10:21.075Z"
   },
   {
    "duration": 4,
    "start_time": "2023-11-04T09:12:31.382Z"
   },
   {
    "duration": 1648,
    "start_time": "2023-11-04T09:12:34.431Z"
   },
   {
    "duration": 11,
    "start_time": "2023-11-04T09:12:51.904Z"
   },
   {
    "duration": 4,
    "start_time": "2023-11-04T09:12:55.766Z"
   },
   {
    "duration": 313,
    "start_time": "2023-11-04T09:12:58.361Z"
   },
   {
    "duration": 4,
    "start_time": "2023-11-04T09:16:54.674Z"
   },
   {
    "duration": 7,
    "start_time": "2023-11-04T09:19:48.310Z"
   },
   {
    "duration": 6,
    "start_time": "2023-11-04T09:20:23.009Z"
   },
   {
    "duration": 6,
    "start_time": "2023-11-04T09:20:52.833Z"
   },
   {
    "duration": 14,
    "start_time": "2023-11-04T09:22:05.788Z"
   },
   {
    "duration": 6,
    "start_time": "2023-11-04T09:32:27.907Z"
   },
   {
    "duration": 1160,
    "start_time": "2023-11-04T09:49:08.661Z"
   },
   {
    "duration": 31,
    "start_time": "2023-11-04T09:49:09.823Z"
   },
   {
    "duration": 16,
    "start_time": "2023-11-04T09:49:09.858Z"
   },
   {
    "duration": 33,
    "start_time": "2023-11-04T09:49:09.875Z"
   },
   {
    "duration": 32,
    "start_time": "2023-11-04T09:49:09.910Z"
   },
   {
    "duration": 60,
    "start_time": "2023-11-04T09:49:09.944Z"
   },
   {
    "duration": 19,
    "start_time": "2023-11-04T09:49:10.005Z"
   },
   {
    "duration": 73,
    "start_time": "2023-11-04T09:49:10.033Z"
   },
   {
    "duration": 46,
    "start_time": "2023-11-04T09:49:10.109Z"
   },
   {
    "duration": 35,
    "start_time": "2023-11-04T09:49:10.156Z"
   },
   {
    "duration": 43,
    "start_time": "2023-11-04T09:49:10.193Z"
   },
   {
    "duration": 32,
    "start_time": "2023-11-04T09:49:10.237Z"
   },
   {
    "duration": 36,
    "start_time": "2023-11-04T09:49:10.270Z"
   },
   {
    "duration": 43,
    "start_time": "2023-11-04T09:49:10.307Z"
   },
   {
    "duration": 37,
    "start_time": "2023-11-04T09:49:10.352Z"
   },
   {
    "duration": 36,
    "start_time": "2023-11-04T09:49:10.391Z"
   },
   {
    "duration": 44,
    "start_time": "2023-11-04T09:49:10.428Z"
   },
   {
    "duration": 11,
    "start_time": "2023-11-04T09:49:10.473Z"
   },
   {
    "duration": 41,
    "start_time": "2023-11-04T09:49:10.485Z"
   },
   {
    "duration": 28,
    "start_time": "2023-11-04T09:49:10.527Z"
   },
   {
    "duration": 47,
    "start_time": "2023-11-04T09:49:10.557Z"
   },
   {
    "duration": 32,
    "start_time": "2023-11-04T09:49:10.606Z"
   },
   {
    "duration": 37,
    "start_time": "2023-11-04T09:49:10.639Z"
   },
   {
    "duration": 29,
    "start_time": "2023-11-04T09:49:10.678Z"
   },
   {
    "duration": 38,
    "start_time": "2023-11-04T09:49:10.709Z"
   },
   {
    "duration": 16,
    "start_time": "2023-11-04T09:49:10.749Z"
   },
   {
    "duration": 187,
    "start_time": "2023-11-04T09:49:10.769Z"
   },
   {
    "duration": 168,
    "start_time": "2023-11-04T09:49:10.957Z"
   },
   {
    "duration": 6,
    "start_time": "2023-11-04T09:49:11.126Z"
   },
   {
    "duration": 115,
    "start_time": "2023-11-04T09:49:11.133Z"
   },
   {
    "duration": 151,
    "start_time": "2023-11-04T09:49:11.250Z"
   },
   {
    "duration": 8,
    "start_time": "2023-11-04T09:49:11.406Z"
   },
   {
    "duration": 18,
    "start_time": "2023-11-04T09:49:11.416Z"
   },
   {
    "duration": 8,
    "start_time": "2023-11-04T09:49:11.435Z"
   },
   {
    "duration": 278,
    "start_time": "2023-11-04T09:49:11.445Z"
   },
   {
    "duration": 198,
    "start_time": "2023-11-04T09:49:11.726Z"
   },
   {
    "duration": 171,
    "start_time": "2023-11-04T09:49:11.926Z"
   },
   {
    "duration": 9,
    "start_time": "2023-11-04T09:49:12.099Z"
   },
   {
    "duration": 13,
    "start_time": "2023-11-04T09:49:12.109Z"
   },
   {
    "duration": 324,
    "start_time": "2023-11-04T09:49:12.124Z"
   },
   {
    "duration": 32,
    "start_time": "2023-11-04T09:49:12.450Z"
   },
   {
    "duration": 29,
    "start_time": "2023-11-04T09:49:12.483Z"
   },
   {
    "duration": 21,
    "start_time": "2023-11-04T09:49:12.513Z"
   },
   {
    "duration": 36,
    "start_time": "2023-11-04T09:49:12.536Z"
   },
   {
    "duration": 253,
    "start_time": "2023-11-04T09:49:12.573Z"
   },
   {
    "duration": 255,
    "start_time": "2023-11-04T09:49:12.828Z"
   },
   {
    "duration": 256,
    "start_time": "2023-11-04T09:49:13.085Z"
   },
   {
    "duration": 262,
    "start_time": "2023-11-04T09:49:13.343Z"
   },
   {
    "duration": 534,
    "start_time": "2023-11-04T09:49:13.606Z"
   },
   {
    "duration": 432,
    "start_time": "2023-11-04T09:49:14.142Z"
   },
   {
    "duration": 799,
    "start_time": "2023-11-04T09:49:14.575Z"
   },
   {
    "duration": 10,
    "start_time": "2023-11-04T09:49:15.375Z"
   },
   {
    "duration": 28,
    "start_time": "2023-11-04T09:49:15.386Z"
   },
   {
    "duration": 29,
    "start_time": "2023-11-04T09:49:15.415Z"
   },
   {
    "duration": 341,
    "start_time": "2023-11-04T09:49:15.445Z"
   },
   {
    "duration": 7,
    "start_time": "2023-11-04T09:49:15.787Z"
   },
   {
    "duration": 15,
    "start_time": "2023-11-04T09:49:15.795Z"
   },
   {
    "duration": 17,
    "start_time": "2023-11-04T09:49:15.812Z"
   },
   {
    "duration": 4,
    "start_time": "2023-11-04T09:49:15.831Z"
   },
   {
    "duration": 9,
    "start_time": "2023-11-04T09:49:15.836Z"
   },
   {
    "duration": 1302,
    "start_time": "2023-11-04T13:34:51.051Z"
   },
   {
    "duration": 30,
    "start_time": "2023-11-04T13:34:52.355Z"
   },
   {
    "duration": 72,
    "start_time": "2023-11-04T13:34:52.387Z"
   },
   {
    "duration": 41,
    "start_time": "2023-11-04T13:34:52.461Z"
   },
   {
    "duration": 43,
    "start_time": "2023-11-04T13:34:52.513Z"
   },
   {
    "duration": 69,
    "start_time": "2023-11-04T13:34:52.558Z"
   },
   {
    "duration": 12,
    "start_time": "2023-11-04T13:34:52.629Z"
   },
   {
    "duration": 43,
    "start_time": "2023-11-04T13:34:52.642Z"
   },
   {
    "duration": 26,
    "start_time": "2023-11-04T13:34:52.687Z"
   },
   {
    "duration": 12,
    "start_time": "2023-11-04T13:34:52.718Z"
   },
   {
    "duration": 18,
    "start_time": "2023-11-04T13:34:52.732Z"
   },
   {
    "duration": 18,
    "start_time": "2023-11-04T13:34:52.752Z"
   },
   {
    "duration": 19,
    "start_time": "2023-11-04T13:34:52.771Z"
   },
   {
    "duration": 36,
    "start_time": "2023-11-04T13:34:52.791Z"
   },
   {
    "duration": 39,
    "start_time": "2023-11-04T13:34:52.828Z"
   },
   {
    "duration": 22,
    "start_time": "2023-11-04T13:34:52.869Z"
   },
   {
    "duration": 32,
    "start_time": "2023-11-04T13:34:52.892Z"
   },
   {
    "duration": 23,
    "start_time": "2023-11-04T13:34:52.925Z"
   },
   {
    "duration": 34,
    "start_time": "2023-11-04T13:34:52.950Z"
   },
   {
    "duration": 29,
    "start_time": "2023-11-04T13:34:52.985Z"
   },
   {
    "duration": 10,
    "start_time": "2023-11-04T13:34:53.018Z"
   },
   {
    "duration": 8,
    "start_time": "2023-11-04T13:34:53.030Z"
   },
   {
    "duration": 37,
    "start_time": "2023-11-04T13:34:53.040Z"
   },
   {
    "duration": 18,
    "start_time": "2023-11-04T13:34:53.079Z"
   },
   {
    "duration": 27,
    "start_time": "2023-11-04T13:34:53.099Z"
   },
   {
    "duration": 24,
    "start_time": "2023-11-04T13:34:53.128Z"
   },
   {
    "duration": 225,
    "start_time": "2023-11-04T13:34:53.153Z"
   },
   {
    "duration": 212,
    "start_time": "2023-11-04T13:34:53.382Z"
   },
   {
    "duration": 12,
    "start_time": "2023-11-04T13:34:53.596Z"
   },
   {
    "duration": 132,
    "start_time": "2023-11-04T13:34:53.610Z"
   },
   {
    "duration": 182,
    "start_time": "2023-11-04T13:34:53.744Z"
   },
   {
    "duration": 9,
    "start_time": "2023-11-04T13:34:53.928Z"
   },
   {
    "duration": 31,
    "start_time": "2023-11-04T13:34:53.939Z"
   },
   {
    "duration": 36,
    "start_time": "2023-11-04T13:34:53.972Z"
   },
   {
    "duration": 338,
    "start_time": "2023-11-04T13:34:54.010Z"
   },
   {
    "duration": 256,
    "start_time": "2023-11-04T13:34:54.350Z"
   },
   {
    "duration": 261,
    "start_time": "2023-11-04T13:34:54.612Z"
   },
   {
    "duration": 11,
    "start_time": "2023-11-04T13:34:54.875Z"
   },
   {
    "duration": 33,
    "start_time": "2023-11-04T13:34:54.887Z"
   },
   {
    "duration": 395,
    "start_time": "2023-11-04T13:34:54.922Z"
   },
   {
    "duration": 36,
    "start_time": "2023-11-04T13:34:55.321Z"
   },
   {
    "duration": 16,
    "start_time": "2023-11-04T13:34:55.359Z"
   },
   {
    "duration": 59,
    "start_time": "2023-11-04T13:34:55.378Z"
   },
   {
    "duration": 97,
    "start_time": "2023-11-04T13:34:55.439Z"
   },
   {
    "duration": 325,
    "start_time": "2023-11-04T13:34:55.538Z"
   },
   {
    "duration": 570,
    "start_time": "2023-11-04T13:34:55.865Z"
   },
   {
    "duration": 695,
    "start_time": "2023-11-04T13:34:56.437Z"
   },
   {
    "duration": 902,
    "start_time": "2023-11-04T13:34:57.134Z"
   },
   {
    "duration": 755,
    "start_time": "2023-11-04T13:34:58.038Z"
   },
   {
    "duration": 575,
    "start_time": "2023-11-04T13:34:58.807Z"
   },
   {
    "duration": 996,
    "start_time": "2023-11-04T13:34:59.384Z"
   },
   {
    "duration": 22,
    "start_time": "2023-11-04T13:35:00.381Z"
   },
   {
    "duration": 41,
    "start_time": "2023-11-04T13:35:00.414Z"
   },
   {
    "duration": 69,
    "start_time": "2023-11-04T13:35:00.457Z"
   },
   {
    "duration": 427,
    "start_time": "2023-11-04T13:35:00.528Z"
   },
   {
    "duration": 8,
    "start_time": "2023-11-04T13:35:00.957Z"
   },
   {
    "duration": 81,
    "start_time": "2023-11-04T13:35:00.967Z"
   },
   {
    "duration": 64,
    "start_time": "2023-11-04T13:35:01.050Z"
   },
   {
    "duration": 39,
    "start_time": "2023-11-04T13:35:01.118Z"
   },
   {
    "duration": 57,
    "start_time": "2023-11-04T13:35:01.159Z"
   },
   {
    "duration": 685,
    "start_time": "2023-11-05T13:13:14.792Z"
   },
   {
    "duration": 4,
    "start_time": "2023-11-05T13:13:34.295Z"
   },
   {
    "duration": 4,
    "start_time": "2023-11-05T13:13:38.763Z"
   },
   {
    "duration": 5,
    "start_time": "2023-11-05T13:13:42.513Z"
   }
  ],
  "kernelspec": {
   "display_name": "Python 3 (ipykernel)",
   "language": "python",
   "name": "python3"
  },
  "language_info": {
   "codemirror_mode": {
    "name": "ipython",
    "version": 3
   },
   "file_extension": ".py",
   "mimetype": "text/x-python",
   "name": "python",
   "nbconvert_exporter": "python",
   "pygments_lexer": "ipython3",
   "version": "3.9.5"
  },
  "toc": {
   "base_numbering": 1,
   "nav_menu": {},
   "number_sections": true,
   "sideBar": true,
   "skip_h1_title": true,
   "title_cell": "Table of Contents",
   "title_sidebar": "Contents",
   "toc_cell": false,
   "toc_position": {
    "height": "calc(100% - 180px)",
    "left": "10px",
    "top": "150px",
    "width": "383.775px"
   },
   "toc_section_display": true,
   "toc_window_display": false
  }
 },
 "nbformat": 4,
 "nbformat_minor": 5
}
