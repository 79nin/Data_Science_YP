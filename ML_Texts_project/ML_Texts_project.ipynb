{
 "cells": [
  {
   "cell_type": "markdown",
   "metadata": {
    "toc": true
   },
   "source": [
    "<h1>Содержание<span class=\"tocSkip\"></span></h1>\n",
    "<div class=\"toc\"><ul class=\"toc-item\"><li><span><a href=\"#Подготовка\" data-toc-modified-id=\"Подготовка-1\"><span class=\"toc-item-num\">1&nbsp;&nbsp;</span>Подготовка</a></span><ul class=\"toc-item\"><li><span><a href=\"#Загрузка-и-первичный-анализ-данных\" data-toc-modified-id=\"Загрузка-и-первичный-анализ-данных-1.1\"><span class=\"toc-item-num\">1.1&nbsp;&nbsp;</span>Загрузка и первичный анализ данных</a></span></li><li><span><a href=\"#Анализ-таргета\" data-toc-modified-id=\"Анализ-таргета-1.2\"><span class=\"toc-item-num\">1.2&nbsp;&nbsp;</span>Анализ таргета</a></span></li></ul></li><li><span><a href=\"#Обучение\" data-toc-modified-id=\"Обучение-2\"><span class=\"toc-item-num\">2&nbsp;&nbsp;</span>Обучение</a></span><ul class=\"toc-item\"><li><span><a href=\"#Подготовка-данных\" data-toc-modified-id=\"Подготовка-данных-2.1\"><span class=\"toc-item-num\">2.1&nbsp;&nbsp;</span>Подготовка данных</a></span></li><li><span><a href=\"#Обучение-моделей\" data-toc-modified-id=\"Обучение-моделей-2.2\"><span class=\"toc-item-num\">2.2&nbsp;&nbsp;</span>Обучение моделей</a></span></li></ul></li><li><span><a href=\"#Выводы\" data-toc-modified-id=\"Выводы-3\"><span class=\"toc-item-num\">3&nbsp;&nbsp;</span>Выводы</a></span>"
   ]
  },
  {
   "cell_type": "markdown",
   "metadata": {},
   "source": [
    "# Проект для «Викишоп»"
   ]
  },
  {
   "cell_type": "markdown",
   "metadata": {},
   "source": [
    "Интернет-магазин «Викишоп» запускает новый сервис. Теперь пользователи могут редактировать и дополнять описания товаров, как в вики-сообществах. То есть клиенты предлагают свои правки и комментируют изменения других. Магазину нужен инструмент, который будет искать токсичные комментарии и отправлять их на модерацию. \n",
    "\n",
    "Обучите модель классифицировать комментарии на позитивные и негативные. В вашем распоряжении набор данных с разметкой о токсичности правок.\n",
    "\n",
    "Постройте модель со значением метрики качества *F1* не меньше 0.75. \n",
    "\n",
    "**Инструкция по выполнению проекта**\n",
    "\n",
    "1. Загрузите и подготовьте данные.\n",
    "2. Обучите разные модели. \n",
    "3. Сделайте выводы.\n",
    "\n",
    "Для выполнения проекта применять *BERT* необязательно, но вы можете попробовать.\n",
    "\n",
    "**Описание данных**\n",
    "\n",
    "Данные находятся в файле `toxic_comments.csv`. Столбец *text* в нём содержит текст комментария, а *toxic* — целевой признак."
   ]
  },
  {
   "cell_type": "code",
   "execution_count": 1,
   "metadata": {},
   "outputs": [
    {
     "name": "stderr",
     "output_type": "stream",
     "text": [
      "[nltk_data] Downloading package wordnet to /home/jovyan/nltk_data...\n",
      "[nltk_data]   Package wordnet is already up-to-date!\n",
      "[nltk_data] Downloading package averaged_perceptron_tagger to\n",
      "[nltk_data]     /home/jovyan/nltk_data...\n",
      "[nltk_data]   Package averaged_perceptron_tagger is already up-to-\n",
      "[nltk_data]       date!\n"
     ]
    }
   ],
   "source": [
    "import pandas as pd\n",
    "import numpy as np\n",
    "from sklearn.linear_model import LogisticRegression\n",
    "from sklearn.tree import DecisionTreeClassifier\n",
    "from sklearn.model_selection import train_test_split\n",
    "import os\n",
    "import matplotlib.pyplot as plt\n",
    "import re\n",
    "import nltk\n",
    "nltk.download('wordnet')\n",
    "from nltk import pos_tag, word_tokenize\n",
    "nltk.download('averaged_perceptron_tagger')\n",
    "from nltk.corpus import stopwords as nltk_stopwords\n",
    "from nltk.stem import WordNetLemmatizer\n",
    "import spacy\n",
    "from sklearn.feature_extraction.text import TfidfVectorizer\n",
    "from sklearn.model_selection import RandomizedSearchCV, GridSearchCV\n",
    "from sklearn.pipeline import Pipeline\n",
    "from sklearn.metrics import f1_score"
   ]
  },
  {
   "cell_type": "code",
   "execution_count": 2,
   "metadata": {},
   "outputs": [],
   "source": [
    "RANDOM_STATE = 42\n",
    "TEST_SIZE = 0.2"
   ]
  },
  {
   "cell_type": "code",
   "execution_count": 3,
   "metadata": {},
   "outputs": [],
   "source": [
    "# функция для вывода первичной информации о фрейме\n",
    "def info_df(name_df):\n",
    "    display(name_df.head(10))\n",
    "    print(name_df.info())\n",
    "    return name_df.describe()"
   ]
  },
  {
   "cell_type": "markdown",
   "metadata": {},
   "source": [
    "## Подготовка"
   ]
  },
  {
   "cell_type": "markdown",
   "metadata": {},
   "source": [
    "### Загрузка и первичный анализ данных"
   ]
  },
  {
   "cell_type": "code",
   "execution_count": 4,
   "metadata": {},
   "outputs": [],
   "source": [
    "pth1 = '/datasets/toxic_comments.csv'\n",
    "pth2 = 'toxic_comments.csv'\n",
    "if os.path.exists(pth1):\n",
    "    toxic_comments = pd.read_csv(pth1)\n",
    "    toxic_comments.drop(columns=toxic_comments.columns[0], axis=1, inplace=True)\n",
    "elif os.path.exists(pth2):\n",
    "    toxic_comments = pd.read_csv(pth2)\n",
    "    toxic_comments.drop(columns=toxic_comments.columns[0], axis=1, inplace=True)\n",
    "else:\n",
    "    print('Something is wrong')"
   ]
  },
  {
   "cell_type": "code",
   "execution_count": 5,
   "metadata": {},
   "outputs": [
    {
     "data": {
      "text/html": [
       "<div>\n",
       "<style scoped>\n",
       "    .dataframe tbody tr th:only-of-type {\n",
       "        vertical-align: middle;\n",
       "    }\n",
       "\n",
       "    .dataframe tbody tr th {\n",
       "        vertical-align: top;\n",
       "    }\n",
       "\n",
       "    .dataframe thead th {\n",
       "        text-align: right;\n",
       "    }\n",
       "</style>\n",
       "<table border=\"1\" class=\"dataframe\">\n",
       "  <thead>\n",
       "    <tr style=\"text-align: right;\">\n",
       "      <th></th>\n",
       "      <th>text</th>\n",
       "      <th>toxic</th>\n",
       "    </tr>\n",
       "  </thead>\n",
       "  <tbody>\n",
       "    <tr>\n",
       "      <th>0</th>\n",
       "      <td>Explanation\\nWhy the edits made under my usern...</td>\n",
       "      <td>0</td>\n",
       "    </tr>\n",
       "    <tr>\n",
       "      <th>1</th>\n",
       "      <td>D'aww! He matches this background colour I'm s...</td>\n",
       "      <td>0</td>\n",
       "    </tr>\n",
       "    <tr>\n",
       "      <th>2</th>\n",
       "      <td>Hey man, I'm really not trying to edit war. It...</td>\n",
       "      <td>0</td>\n",
       "    </tr>\n",
       "    <tr>\n",
       "      <th>3</th>\n",
       "      <td>\"\\nMore\\nI can't make any real suggestions on ...</td>\n",
       "      <td>0</td>\n",
       "    </tr>\n",
       "    <tr>\n",
       "      <th>4</th>\n",
       "      <td>You, sir, are my hero. Any chance you remember...</td>\n",
       "      <td>0</td>\n",
       "    </tr>\n",
       "    <tr>\n",
       "      <th>5</th>\n",
       "      <td>\"\\n\\nCongratulations from me as well, use the ...</td>\n",
       "      <td>0</td>\n",
       "    </tr>\n",
       "    <tr>\n",
       "      <th>6</th>\n",
       "      <td>COCKSUCKER BEFORE YOU PISS AROUND ON MY WORK</td>\n",
       "      <td>1</td>\n",
       "    </tr>\n",
       "    <tr>\n",
       "      <th>7</th>\n",
       "      <td>Your vandalism to the Matt Shirvington article...</td>\n",
       "      <td>0</td>\n",
       "    </tr>\n",
       "    <tr>\n",
       "      <th>8</th>\n",
       "      <td>Sorry if the word 'nonsense' was offensive to ...</td>\n",
       "      <td>0</td>\n",
       "    </tr>\n",
       "    <tr>\n",
       "      <th>9</th>\n",
       "      <td>alignment on this subject and which are contra...</td>\n",
       "      <td>0</td>\n",
       "    </tr>\n",
       "  </tbody>\n",
       "</table>\n",
       "</div>"
      ],
      "text/plain": [
       "                                                text  toxic\n",
       "0  Explanation\\nWhy the edits made under my usern...      0\n",
       "1  D'aww! He matches this background colour I'm s...      0\n",
       "2  Hey man, I'm really not trying to edit war. It...      0\n",
       "3  \"\\nMore\\nI can't make any real suggestions on ...      0\n",
       "4  You, sir, are my hero. Any chance you remember...      0\n",
       "5  \"\\n\\nCongratulations from me as well, use the ...      0\n",
       "6       COCKSUCKER BEFORE YOU PISS AROUND ON MY WORK      1\n",
       "7  Your vandalism to the Matt Shirvington article...      0\n",
       "8  Sorry if the word 'nonsense' was offensive to ...      0\n",
       "9  alignment on this subject and which are contra...      0"
      ]
     },
     "metadata": {},
     "output_type": "display_data"
    },
    {
     "name": "stdout",
     "output_type": "stream",
     "text": [
      "<class 'pandas.core.frame.DataFrame'>\n",
      "RangeIndex: 159292 entries, 0 to 159291\n",
      "Data columns (total 2 columns):\n",
      " #   Column  Non-Null Count   Dtype \n",
      "---  ------  --------------   ----- \n",
      " 0   text    159292 non-null  object\n",
      " 1   toxic   159292 non-null  int64 \n",
      "dtypes: int64(1), object(1)\n",
      "memory usage: 2.4+ MB\n",
      "None\n"
     ]
    },
    {
     "data": {
      "text/html": [
       "<div>\n",
       "<style scoped>\n",
       "    .dataframe tbody tr th:only-of-type {\n",
       "        vertical-align: middle;\n",
       "    }\n",
       "\n",
       "    .dataframe tbody tr th {\n",
       "        vertical-align: top;\n",
       "    }\n",
       "\n",
       "    .dataframe thead th {\n",
       "        text-align: right;\n",
       "    }\n",
       "</style>\n",
       "<table border=\"1\" class=\"dataframe\">\n",
       "  <thead>\n",
       "    <tr style=\"text-align: right;\">\n",
       "      <th></th>\n",
       "      <th>toxic</th>\n",
       "    </tr>\n",
       "  </thead>\n",
       "  <tbody>\n",
       "    <tr>\n",
       "      <th>count</th>\n",
       "      <td>159292.000000</td>\n",
       "    </tr>\n",
       "    <tr>\n",
       "      <th>mean</th>\n",
       "      <td>0.101612</td>\n",
       "    </tr>\n",
       "    <tr>\n",
       "      <th>std</th>\n",
       "      <td>0.302139</td>\n",
       "    </tr>\n",
       "    <tr>\n",
       "      <th>min</th>\n",
       "      <td>0.000000</td>\n",
       "    </tr>\n",
       "    <tr>\n",
       "      <th>25%</th>\n",
       "      <td>0.000000</td>\n",
       "    </tr>\n",
       "    <tr>\n",
       "      <th>50%</th>\n",
       "      <td>0.000000</td>\n",
       "    </tr>\n",
       "    <tr>\n",
       "      <th>75%</th>\n",
       "      <td>0.000000</td>\n",
       "    </tr>\n",
       "    <tr>\n",
       "      <th>max</th>\n",
       "      <td>1.000000</td>\n",
       "    </tr>\n",
       "  </tbody>\n",
       "</table>\n",
       "</div>"
      ],
      "text/plain": [
       "               toxic\n",
       "count  159292.000000\n",
       "mean        0.101612\n",
       "std         0.302139\n",
       "min         0.000000\n",
       "25%         0.000000\n",
       "50%         0.000000\n",
       "75%         0.000000\n",
       "max         1.000000"
      ]
     },
     "execution_count": 5,
     "metadata": {},
     "output_type": "execute_result"
    }
   ],
   "source": [
    "info_df(toxic_comments)"
   ]
  },
  {
   "cell_type": "code",
   "execution_count": 6,
   "metadata": {},
   "outputs": [
    {
     "data": {
      "text/plain": [
       "0"
      ]
     },
     "execution_count": 6,
     "metadata": {},
     "output_type": "execute_result"
    }
   ],
   "source": [
    "# Так как пропусков не обнаружено, проверим наличие дубликатов\n",
    "toxic_comments.duplicated().sum()"
   ]
  },
  {
   "cell_type": "markdown",
   "metadata": {},
   "source": [
    "### Анализ таргета"
   ]
  },
  {
   "cell_type": "code",
   "execution_count": 7,
   "metadata": {},
   "outputs": [
    {
     "data": {
      "image/png": "[encoded data removed]",
      "text/plain": [
       "<Figure size 432x288 with 1 Axes>"
      ]
     },
     "metadata": {
      "needs_background": "light"
     },
     "output_type": "display_data"
    }
   ],
   "source": [
    "toxic_comments['toxic'].value_counts().plot(kind = 'bar')\n",
    "plt.title('Распределение целевого признака')\n",
    "plt.ylabel('Количество')\n",
    "plt.show()"
   ]
  },
  {
   "cell_type": "markdown",
   "metadata": {},
   "source": [
    "Налицо дисбаланс классов однако мы испльзуем в качесвте критерия F1 меру так, так что устранять его пока что не будем. Если значения не устроят, начнем с этим бороться."
   ]
  },
  {
   "cell_type": "markdown",
   "metadata": {},
   "source": [
    "**Выводы**\n",
    "\n",
    "- Загрузил данные из датасета `toxic_comments.csv`\n",
    "- Провел проверку на пропуски и дубликаты, их не обнаружено\n",
    "- Обнаружил дисбаланс классов, устранять его не стал так как используется метрика F1"
   ]
  },
  {
   "cell_type": "markdown",
   "metadata": {},
   "source": [
    "## Обучение"
   ]
  },
  {
   "cell_type": "markdown",
   "metadata": {},
   "source": [
    "### Подготовка данных"
   ]
  },
  {
   "cell_type": "code",
   "execution_count": 8,
   "metadata": {},
   "outputs": [],
   "source": [
    "nlp = spacy.load(\"en_core_web_sm\")"
   ]
  },
  {
   "cell_type": "code",
   "execution_count": 9,
   "metadata": {},
   "outputs": [],
   "source": [
    "lemmatizer = WordNetLemmatizer()\n",
    "\n",
    "def penn2morphy(penntag):\n",
    "    morphy_tag = {'NN':'n', 'JJ':'a',\n",
    "                  'VB':'v', 'RB':'r'}\n",
    "    try:\n",
    "        return morphy_tag[penntag[:2]]\n",
    "    except:\n",
    "        return 'n' \n",
    "\n",
    "def clean_text(text):\n",
    "    clean = \" \".join(re.sub(r'[^a-zA-z]', ' ', text).lower().split())\n",
    "    word_list = nltk.word_tokenize(clean)\n",
    "    lemmatized_output = ' '.join(word_list)\n",
    "    #lemmatized_output = ' '.join([lemmatizer.lemmatize(w) for w in word_list])\n",
    "    clear = [lemmatizer.lemmatize(word.lower(), pos=penn2morphy(tag)) \n",
    "             for word, tag in pos_tag(word_tokenize(lemmatized_output))]\n",
    "    \n",
    "    return ' '.join(clear)"
   ]
  },
  {
   "cell_type": "code",
   "execution_count": 10,
   "metadata": {},
   "outputs": [
    {
     "data": {
      "text/html": [
       "<div>\n",
       "<style scoped>\n",
       "    .dataframe tbody tr th:only-of-type {\n",
       "        vertical-align: middle;\n",
       "    }\n",
       "\n",
       "    .dataframe tbody tr th {\n",
       "        vertical-align: top;\n",
       "    }\n",
       "\n",
       "    .dataframe thead th {\n",
       "        text-align: right;\n",
       "    }\n",
       "</style>\n",
       "<table border=\"1\" class=\"dataframe\">\n",
       "  <thead>\n",
       "    <tr style=\"text-align: right;\">\n",
       "      <th></th>\n",
       "      <th>text</th>\n",
       "      <th>toxic</th>\n",
       "      <th>lemm_text</th>\n",
       "    </tr>\n",
       "  </thead>\n",
       "  <tbody>\n",
       "    <tr>\n",
       "      <th>0</th>\n",
       "      <td>Explanation\\nWhy the edits made under my usern...</td>\n",
       "      <td>0</td>\n",
       "      <td>explanation why the edits make under my userna...</td>\n",
       "    </tr>\n",
       "    <tr>\n",
       "      <th>1</th>\n",
       "      <td>D'aww! He matches this background colour I'm s...</td>\n",
       "      <td>0</td>\n",
       "      <td>d aww he match this background colour i m seem...</td>\n",
       "    </tr>\n",
       "    <tr>\n",
       "      <th>2</th>\n",
       "      <td>Hey man, I'm really not trying to edit war. It...</td>\n",
       "      <td>0</td>\n",
       "      <td>hey man i m really not try to edit war it s ju...</td>\n",
       "    </tr>\n",
       "    <tr>\n",
       "      <th>3</th>\n",
       "      <td>\"\\nMore\\nI can't make any real suggestions on ...</td>\n",
       "      <td>0</td>\n",
       "      <td>more i can t make any real suggestion on impro...</td>\n",
       "    </tr>\n",
       "    <tr>\n",
       "      <th>4</th>\n",
       "      <td>You, sir, are my hero. Any chance you remember...</td>\n",
       "      <td>0</td>\n",
       "      <td>you sir be my hero any chance you remember wha...</td>\n",
       "    </tr>\n",
       "  </tbody>\n",
       "</table>\n",
       "</div>"
      ],
      "text/plain": [
       "                                                text  toxic  \\\n",
       "0  Explanation\\nWhy the edits made under my usern...      0   \n",
       "1  D'aww! He matches this background colour I'm s...      0   \n",
       "2  Hey man, I'm really not trying to edit war. It...      0   \n",
       "3  \"\\nMore\\nI can't make any real suggestions on ...      0   \n",
       "4  You, sir, are my hero. Any chance you remember...      0   \n",
       "\n",
       "                                           lemm_text  \n",
       "0  explanation why the edits make under my userna...  \n",
       "1  d aww he match this background colour i m seem...  \n",
       "2  hey man i m really not try to edit war it s ju...  \n",
       "3  more i can t make any real suggestion on impro...  \n",
       "4  you sir be my hero any chance you remember wha...  "
      ]
     },
     "execution_count": 10,
     "metadata": {},
     "output_type": "execute_result"
    }
   ],
   "source": [
    "toxic_comments['lemm_text'] = toxic_comments['text'].apply(clean_text)\n",
    "toxic_comments.head()"
   ]
  },
  {
   "cell_type": "code",
   "execution_count": 11,
   "metadata": {},
   "outputs": [
    {
     "data": {
      "text/html": [
       "<div>\n",
       "<style scoped>\n",
       "    .dataframe tbody tr th:only-of-type {\n",
       "        vertical-align: middle;\n",
       "    }\n",
       "\n",
       "    .dataframe tbody tr th {\n",
       "        vertical-align: top;\n",
       "    }\n",
       "\n",
       "    .dataframe thead th {\n",
       "        text-align: right;\n",
       "    }\n",
       "</style>\n",
       "<table border=\"1\" class=\"dataframe\">\n",
       "  <thead>\n",
       "    <tr style=\"text-align: right;\">\n",
       "      <th></th>\n",
       "      <th>toxic</th>\n",
       "      <th>lemm_text</th>\n",
       "    </tr>\n",
       "  </thead>\n",
       "  <tbody>\n",
       "    <tr>\n",
       "      <th>0</th>\n",
       "      <td>0</td>\n",
       "      <td>explanation why the edits make under my userna...</td>\n",
       "    </tr>\n",
       "    <tr>\n",
       "      <th>1</th>\n",
       "      <td>0</td>\n",
       "      <td>d aww he match this background colour i m seem...</td>\n",
       "    </tr>\n",
       "    <tr>\n",
       "      <th>2</th>\n",
       "      <td>0</td>\n",
       "      <td>hey man i m really not try to edit war it s ju...</td>\n",
       "    </tr>\n",
       "    <tr>\n",
       "      <th>3</th>\n",
       "      <td>0</td>\n",
       "      <td>more i can t make any real suggestion on impro...</td>\n",
       "    </tr>\n",
       "    <tr>\n",
       "      <th>4</th>\n",
       "      <td>0</td>\n",
       "      <td>you sir be my hero any chance you remember wha...</td>\n",
       "    </tr>\n",
       "  </tbody>\n",
       "</table>\n",
       "</div>"
      ],
      "text/plain": [
       "   toxic                                          lemm_text\n",
       "0      0  explanation why the edits make under my userna...\n",
       "1      0  d aww he match this background colour i m seem...\n",
       "2      0  hey man i m really not try to edit war it s ju...\n",
       "3      0  more i can t make any real suggestion on impro...\n",
       "4      0  you sir be my hero any chance you remember wha..."
      ]
     },
     "execution_count": 11,
     "metadata": {},
     "output_type": "execute_result"
    }
   ],
   "source": [
    "lemmatize_comments = toxic_comments.copy()\n",
    "lemmatize_comments.drop(columns='text', axis=1, inplace=True)\n",
    "lemmatize_comments.head()"
   ]
  },
  {
   "cell_type": "code",
   "execution_count": 12,
   "metadata": {},
   "outputs": [],
   "source": [
    "features_train, features_test, target_train, target_test = train_test_split(\n",
    "    lemmatize_comments['lemm_text'], lemmatize_comments['toxic'],\n",
    "    test_size=TEST_SIZE, random_state=RANDOM_STATE, stratify=lemmatize_comments['toxic'])"
   ]
  },
  {
   "cell_type": "code",
   "execution_count": 13,
   "metadata": {},
   "outputs": [
    {
     "name": "stderr",
     "output_type": "stream",
     "text": [
      "[nltk_data] Downloading package stopwords to /home/jovyan/nltk_data...\n",
      "[nltk_data]   Package stopwords is already up-to-date!\n"
     ]
    }
   ],
   "source": [
    "nltk.download('stopwords')\n",
    "stopwords = set(nltk_stopwords.words('english'))"
   ]
  },
  {
   "cell_type": "code",
   "execution_count": 14,
   "metadata": {},
   "outputs": [],
   "source": [
    "count_tf_idf = TfidfVectorizer(stop_words=stopwords)"
   ]
  },
  {
   "cell_type": "markdown",
   "metadata": {},
   "source": [
    "### Обучение моделей"
   ]
  },
  {
   "cell_type": "code",
   "execution_count": 16,
   "metadata": {},
   "outputs": [],
   "source": [
    "pipe_models = Pipeline([\n",
    "    ('vect', TfidfVectorizer(stop_words=stopwords)),\n",
    "    ('models', LogisticRegression(random_state=RANDOM_STATE))\n",
    "])"
   ]
  },
  {
   "cell_type": "code",
   "execution_count": 17,
   "metadata": {},
   "outputs": [],
   "source": [
    "params_models = [\n",
    "    {\n",
    "        'models': [LogisticRegression(random_state=RANDOM_STATE)],\n",
    "        'models__C': [0.3, 0.6, 1],\n",
    "        'models__penalty': ['l1', 'l2', 'elasticnet'],\n",
    "        'models__solver': ['lbfgs', 'liblinear', 'newton-cg', 'newton-cholesky', 'sag', 'saga']\n",
    "    },\n",
    "    {\n",
    "        'models': [DecisionTreeClassifier(random_state=RANDOM_STATE)],\n",
    "        'models__max_depth': range(2, 5),\n",
    "        'models__max_features': range(2, 5),\n",
    "    }\n",
    "]"
   ]
  },
  {
   "cell_type": "code",
   "execution_count": 18,
   "metadata": {},
   "outputs": [],
   "source": [
    "grided_search_models = GridSearchCV(\n",
    "    pipe_models, \n",
    "    params_models,\n",
    "    cv=3,\n",
    "    scoring='f1',\n",
    "    n_jobs=-1\n",
    ")"
   ]
  },
  {
   "cell_type": "code",
   "execution_count": 19,
   "metadata": {},
   "outputs": [
    {
     "name": "stderr",
     "output_type": "stream",
     "text": [
      "/opt/conda/lib/python3.9/site-packages/sklearn/model_selection/_validation.py:610: FitFailedWarning: Estimator fit failed. The score on this train-test partition for these parameters will be set to nan. Details: \n",
      "Traceback (most recent call last):\n",
      "  File \"/opt/conda/lib/python3.9/site-packages/sklearn/model_selection/_validation.py\", line 593, in _fit_and_score\n",
      "    estimator.fit(X_train, y_train, **fit_params)\n",
      "  File \"/opt/conda/lib/python3.9/site-packages/sklearn/pipeline.py\", line 346, in fit\n",
      "    self._final_estimator.fit(Xt, y, **fit_params_last_step)\n",
      "  File \"/opt/conda/lib/python3.9/site-packages/sklearn/linear_model/_logistic.py\", line 1306, in fit\n",
      "    solver = _check_solver(self.solver, self.penalty, self.dual)\n",
      "  File \"/opt/conda/lib/python3.9/site-packages/sklearn/linear_model/_logistic.py\", line 443, in _check_solver\n",
      "    raise ValueError(\"Solver %s supports only 'l2' or 'none' penalties, \"\n",
      "ValueError: Solver lbfgs supports only 'l2' or 'none' penalties, got l1 penalty.\n",
      "\n",
      "  warnings.warn(\"Estimator fit failed. The score on this train-test\"\n",
      "/opt/conda/lib/python3.9/site-packages/sklearn/model_selection/_validation.py:610: FitFailedWarning: Estimator fit failed. The score on this train-test partition for these parameters will be set to nan. Details: \n",
      "Traceback (most recent call last):\n",
      "  File \"/opt/conda/lib/python3.9/site-packages/sklearn/model_selection/_validation.py\", line 593, in _fit_and_score\n",
      "    estimator.fit(X_train, y_train, **fit_params)\n",
      "  File \"/opt/conda/lib/python3.9/site-packages/sklearn/pipeline.py\", line 346, in fit\n",
      "    self._final_estimator.fit(Xt, y, **fit_params_last_step)\n",
      "  File \"/opt/conda/lib/python3.9/site-packages/sklearn/linear_model/_logistic.py\", line 1306, in fit\n",
      "    solver = _check_solver(self.solver, self.penalty, self.dual)\n",
      "  File \"/opt/conda/lib/python3.9/site-packages/sklearn/linear_model/_logistic.py\", line 443, in _check_solver\n",
      "    raise ValueError(\"Solver %s supports only 'l2' or 'none' penalties, \"\n",
      "ValueError: Solver lbfgs supports only 'l2' or 'none' penalties, got l1 penalty.\n",
      "\n",
      "  warnings.warn(\"Estimator fit failed. The score on this train-test\"\n",
      "/opt/conda/lib/python3.9/site-packages/sklearn/model_selection/_validation.py:610: FitFailedWarning: Estimator fit failed. The score on this train-test partition for these parameters will be set to nan. Details: \n",
      "Traceback (most recent call last):\n",
      "  File \"/opt/conda/lib/python3.9/site-packages/sklearn/model_selection/_validation.py\", line 593, in _fit_and_score\n",
      "    estimator.fit(X_train, y_train, **fit_params)\n",
      "  File \"/opt/conda/lib/python3.9/site-packages/sklearn/pipeline.py\", line 346, in fit\n",
      "    self._final_estimator.fit(Xt, y, **fit_params_last_step)\n",
      "  File \"/opt/conda/lib/python3.9/site-packages/sklearn/linear_model/_logistic.py\", line 1306, in fit\n",
      "    solver = _check_solver(self.solver, self.penalty, self.dual)\n",
      "  File \"/opt/conda/lib/python3.9/site-packages/sklearn/linear_model/_logistic.py\", line 443, in _check_solver\n",
      "    raise ValueError(\"Solver %s supports only 'l2' or 'none' penalties, \"\n",
      "ValueError: Solver lbfgs supports only 'l2' or 'none' penalties, got l1 penalty.\n",
      "\n",
      "  warnings.warn(\"Estimator fit failed. The score on this train-test\"\n",
      "/opt/conda/lib/python3.9/site-packages/sklearn/model_selection/_validation.py:610: FitFailedWarning: Estimator fit failed. The score on this train-test partition for these parameters will be set to nan. Details: \n",
      "Traceback (most recent call last):\n",
      "  File \"/opt/conda/lib/python3.9/site-packages/sklearn/model_selection/_validation.py\", line 593, in _fit_and_score\n",
      "    estimator.fit(X_train, y_train, **fit_params)\n",
      "  File \"/opt/conda/lib/python3.9/site-packages/sklearn/pipeline.py\", line 346, in fit\n",
      "    self._final_estimator.fit(Xt, y, **fit_params_last_step)\n",
      "  File \"/opt/conda/lib/python3.9/site-packages/sklearn/linear_model/_logistic.py\", line 1306, in fit\n",
      "    solver = _check_solver(self.solver, self.penalty, self.dual)\n",
      "  File \"/opt/conda/lib/python3.9/site-packages/sklearn/linear_model/_logistic.py\", line 443, in _check_solver\n",
      "    raise ValueError(\"Solver %s supports only 'l2' or 'none' penalties, \"\n",
      "ValueError: Solver newton-cg supports only 'l2' or 'none' penalties, got l1 penalty.\n",
      "\n",
      "  warnings.warn(\"Estimator fit failed. The score on this train-test\"\n",
      "/opt/conda/lib/python3.9/site-packages/sklearn/model_selection/_validation.py:610: FitFailedWarning: Estimator fit failed. The score on this train-test partition for these parameters will be set to nan. Details: \n",
      "Traceback (most recent call last):\n",
      "  File \"/opt/conda/lib/python3.9/site-packages/sklearn/model_selection/_validation.py\", line 593, in _fit_and_score\n",
      "    estimator.fit(X_train, y_train, **fit_params)\n",
      "  File \"/opt/conda/lib/python3.9/site-packages/sklearn/pipeline.py\", line 346, in fit\n",
      "    self._final_estimator.fit(Xt, y, **fit_params_last_step)\n",
      "  File \"/opt/conda/lib/python3.9/site-packages/sklearn/linear_model/_logistic.py\", line 1306, in fit\n",
      "    solver = _check_solver(self.solver, self.penalty, self.dual)\n",
      "  File \"/opt/conda/lib/python3.9/site-packages/sklearn/linear_model/_logistic.py\", line 443, in _check_solver\n",
      "    raise ValueError(\"Solver %s supports only 'l2' or 'none' penalties, \"\n",
      "ValueError: Solver newton-cg supports only 'l2' or 'none' penalties, got l1 penalty.\n",
      "\n",
      "  warnings.warn(\"Estimator fit failed. The score on this train-test\"\n",
      "/opt/conda/lib/python3.9/site-packages/sklearn/model_selection/_validation.py:610: FitFailedWarning: Estimator fit failed. The score on this train-test partition for these parameters will be set to nan. Details: \n",
      "Traceback (most recent call last):\n",
      "  File \"/opt/conda/lib/python3.9/site-packages/sklearn/model_selection/_validation.py\", line 593, in _fit_and_score\n",
      "    estimator.fit(X_train, y_train, **fit_params)\n",
      "  File \"/opt/conda/lib/python3.9/site-packages/sklearn/pipeline.py\", line 346, in fit\n",
      "    self._final_estimator.fit(Xt, y, **fit_params_last_step)\n",
      "  File \"/opt/conda/lib/python3.9/site-packages/sklearn/linear_model/_logistic.py\", line 1306, in fit\n",
      "    solver = _check_solver(self.solver, self.penalty, self.dual)\n",
      "  File \"/opt/conda/lib/python3.9/site-packages/sklearn/linear_model/_logistic.py\", line 443, in _check_solver\n",
      "    raise ValueError(\"Solver %s supports only 'l2' or 'none' penalties, \"\n",
      "ValueError: Solver newton-cg supports only 'l2' or 'none' penalties, got l1 penalty.\n",
      "\n",
      "  warnings.warn(\"Estimator fit failed. The score on this train-test\"\n",
      "/opt/conda/lib/python3.9/site-packages/sklearn/model_selection/_validation.py:610: FitFailedWarning: Estimator fit failed. The score on this train-test partition for these parameters will be set to nan. Details: \n",
      "Traceback (most recent call last):\n",
      "  File \"/opt/conda/lib/python3.9/site-packages/sklearn/model_selection/_validation.py\", line 593, in _fit_and_score\n",
      "    estimator.fit(X_train, y_train, **fit_params)\n",
      "  File \"/opt/conda/lib/python3.9/site-packages/sklearn/pipeline.py\", line 346, in fit\n",
      "    self._final_estimator.fit(Xt, y, **fit_params_last_step)\n",
      "  File \"/opt/conda/lib/python3.9/site-packages/sklearn/linear_model/_logistic.py\", line 1306, in fit\n",
      "    solver = _check_solver(self.solver, self.penalty, self.dual)\n",
      "  File \"/opt/conda/lib/python3.9/site-packages/sklearn/linear_model/_logistic.py\", line 434, in _check_solver\n",
      "    raise ValueError(\"Logistic Regression supports only solvers in %s, got\"\n",
      "ValueError: Logistic Regression supports only solvers in ['liblinear', 'newton-cg', 'lbfgs', 'sag', 'saga'], got newton-cholesky.\n",
      "\n",
      "  warnings.warn(\"Estimator fit failed. The score on this train-test\"\n",
      "/opt/conda/lib/python3.9/site-packages/sklearn/model_selection/_validation.py:610: FitFailedWarning: Estimator fit failed. The score on this train-test partition for these parameters will be set to nan. Details: \n",
      "Traceback (most recent call last):\n",
      "  File \"/opt/conda/lib/python3.9/site-packages/sklearn/model_selection/_validation.py\", line 593, in _fit_and_score\n",
      "    estimator.fit(X_train, y_train, **fit_params)\n",
      "  File \"/opt/conda/lib/python3.9/site-packages/sklearn/pipeline.py\", line 346, in fit\n",
      "    self._final_estimator.fit(Xt, y, **fit_params_last_step)\n",
      "  File \"/opt/conda/lib/python3.9/site-packages/sklearn/linear_model/_logistic.py\", line 1306, in fit\n",
      "    solver = _check_solver(self.solver, self.penalty, self.dual)\n",
      "  File \"/opt/conda/lib/python3.9/site-packages/sklearn/linear_model/_logistic.py\", line 434, in _check_solver\n",
      "    raise ValueError(\"Logistic Regression supports only solvers in %s, got\"\n",
      "ValueError: Logistic Regression supports only solvers in ['liblinear', 'newton-cg', 'lbfgs', 'sag', 'saga'], got newton-cholesky.\n",
      "\n",
      "  warnings.warn(\"Estimator fit failed. The score on this train-test\"\n",
      "/opt/conda/lib/python3.9/site-packages/sklearn/model_selection/_validation.py:610: FitFailedWarning: Estimator fit failed. The score on this train-test partition for these parameters will be set to nan. Details: \n",
      "Traceback (most recent call last):\n",
      "  File \"/opt/conda/lib/python3.9/site-packages/sklearn/model_selection/_validation.py\", line 593, in _fit_and_score\n",
      "    estimator.fit(X_train, y_train, **fit_params)\n",
      "  File \"/opt/conda/lib/python3.9/site-packages/sklearn/pipeline.py\", line 346, in fit\n",
      "    self._final_estimator.fit(Xt, y, **fit_params_last_step)\n",
      "  File \"/opt/conda/lib/python3.9/site-packages/sklearn/linear_model/_logistic.py\", line 1306, in fit\n",
      "    solver = _check_solver(self.solver, self.penalty, self.dual)\n",
      "  File \"/opt/conda/lib/python3.9/site-packages/sklearn/linear_model/_logistic.py\", line 434, in _check_solver\n",
      "    raise ValueError(\"Logistic Regression supports only solvers in %s, got\"\n",
      "ValueError: Logistic Regression supports only solvers in ['liblinear', 'newton-cg', 'lbfgs', 'sag', 'saga'], got newton-cholesky.\n",
      "\n",
      "  warnings.warn(\"Estimator fit failed. The score on this train-test\"\n",
      "/opt/conda/lib/python3.9/site-packages/sklearn/model_selection/_validation.py:610: FitFailedWarning: Estimator fit failed. The score on this train-test partition for these parameters will be set to nan. Details: \n",
      "Traceback (most recent call last):\n",
      "  File \"/opt/conda/lib/python3.9/site-packages/sklearn/model_selection/_validation.py\", line 593, in _fit_and_score\n",
      "    estimator.fit(X_train, y_train, **fit_params)\n",
      "  File \"/opt/conda/lib/python3.9/site-packages/sklearn/pipeline.py\", line 346, in fit\n",
      "    self._final_estimator.fit(Xt, y, **fit_params_last_step)\n",
      "  File \"/opt/conda/lib/python3.9/site-packages/sklearn/linear_model/_logistic.py\", line 1306, in fit\n",
      "    solver = _check_solver(self.solver, self.penalty, self.dual)\n",
      "  File \"/opt/conda/lib/python3.9/site-packages/sklearn/linear_model/_logistic.py\", line 443, in _check_solver\n",
      "    raise ValueError(\"Solver %s supports only 'l2' or 'none' penalties, \"\n",
      "ValueError: Solver sag supports only 'l2' or 'none' penalties, got l1 penalty.\n",
      "\n",
      "  warnings.warn(\"Estimator fit failed. The score on this train-test\"\n",
      "/opt/conda/lib/python3.9/site-packages/sklearn/model_selection/_validation.py:610: FitFailedWarning: Estimator fit failed. The score on this train-test partition for these parameters will be set to nan. Details: \n",
      "Traceback (most recent call last):\n",
      "  File \"/opt/conda/lib/python3.9/site-packages/sklearn/model_selection/_validation.py\", line 593, in _fit_and_score\n",
      "    estimator.fit(X_train, y_train, **fit_params)\n",
      "  File \"/opt/conda/lib/python3.9/site-packages/sklearn/pipeline.py\", line 346, in fit\n",
      "    self._final_estimator.fit(Xt, y, **fit_params_last_step)\n",
      "  File \"/opt/conda/lib/python3.9/site-packages/sklearn/linear_model/_logistic.py\", line 1306, in fit\n",
      "    solver = _check_solver(self.solver, self.penalty, self.dual)\n",
      "  File \"/opt/conda/lib/python3.9/site-packages/sklearn/linear_model/_logistic.py\", line 443, in _check_solver\n",
      "    raise ValueError(\"Solver %s supports only 'l2' or 'none' penalties, \"\n",
      "ValueError: Solver sag supports only 'l2' or 'none' penalties, got l1 penalty.\n",
      "\n",
      "  warnings.warn(\"Estimator fit failed. The score on this train-test\"\n",
      "/opt/conda/lib/python3.9/site-packages/sklearn/model_selection/_validation.py:610: FitFailedWarning: Estimator fit failed. The score on this train-test partition for these parameters will be set to nan. Details: \n",
      "Traceback (most recent call last):\n",
      "  File \"/opt/conda/lib/python3.9/site-packages/sklearn/model_selection/_validation.py\", line 593, in _fit_and_score\n",
      "    estimator.fit(X_train, y_train, **fit_params)\n",
      "  File \"/opt/conda/lib/python3.9/site-packages/sklearn/pipeline.py\", line 346, in fit\n",
      "    self._final_estimator.fit(Xt, y, **fit_params_last_step)\n",
      "  File \"/opt/conda/lib/python3.9/site-packages/sklearn/linear_model/_logistic.py\", line 1306, in fit\n",
      "    solver = _check_solver(self.solver, self.penalty, self.dual)\n",
      "  File \"/opt/conda/lib/python3.9/site-packages/sklearn/linear_model/_logistic.py\", line 443, in _check_solver\n",
      "    raise ValueError(\"Solver %s supports only 'l2' or 'none' penalties, \"\n",
      "ValueError: Solver sag supports only 'l2' or 'none' penalties, got l1 penalty.\n",
      "\n",
      "  warnings.warn(\"Estimator fit failed. The score on this train-test\"\n",
      "/opt/conda/lib/python3.9/site-packages/sklearn/model_selection/_validation.py:610: FitFailedWarning: Estimator fit failed. The score on this train-test partition for these parameters will be set to nan. Details: \n",
      "Traceback (most recent call last):\n",
      "  File \"/opt/conda/lib/python3.9/site-packages/sklearn/model_selection/_validation.py\", line 593, in _fit_and_score\n",
      "    estimator.fit(X_train, y_train, **fit_params)\n",
      "  File \"/opt/conda/lib/python3.9/site-packages/sklearn/pipeline.py\", line 346, in fit\n",
      "    self._final_estimator.fit(Xt, y, **fit_params_last_step)\n",
      "  File \"/opt/conda/lib/python3.9/site-packages/sklearn/linear_model/_logistic.py\", line 1306, in fit\n",
      "    solver = _check_solver(self.solver, self.penalty, self.dual)\n",
      "  File \"/opt/conda/lib/python3.9/site-packages/sklearn/linear_model/_logistic.py\", line 434, in _check_solver\n",
      "    raise ValueError(\"Logistic Regression supports only solvers in %s, got\"\n",
      "ValueError: Logistic Regression supports only solvers in ['liblinear', 'newton-cg', 'lbfgs', 'sag', 'saga'], got newton-cholesky.\n",
      "\n",
      "  warnings.warn(\"Estimator fit failed. The score on this train-test\"\n",
      "/opt/conda/lib/python3.9/site-packages/sklearn/model_selection/_validation.py:610: FitFailedWarning: Estimator fit failed. The score on this train-test partition for these parameters will be set to nan. Details: \n",
      "Traceback (most recent call last):\n",
      "  File \"/opt/conda/lib/python3.9/site-packages/sklearn/model_selection/_validation.py\", line 593, in _fit_and_score\n",
      "    estimator.fit(X_train, y_train, **fit_params)\n",
      "  File \"/opt/conda/lib/python3.9/site-packages/sklearn/pipeline.py\", line 346, in fit\n",
      "    self._final_estimator.fit(Xt, y, **fit_params_last_step)\n",
      "  File \"/opt/conda/lib/python3.9/site-packages/sklearn/linear_model/_logistic.py\", line 1306, in fit\n",
      "    solver = _check_solver(self.solver, self.penalty, self.dual)\n",
      "  File \"/opt/conda/lib/python3.9/site-packages/sklearn/linear_model/_logistic.py\", line 434, in _check_solver\n",
      "    raise ValueError(\"Logistic Regression supports only solvers in %s, got\"\n",
      "ValueError: Logistic Regression supports only solvers in ['liblinear', 'newton-cg', 'lbfgs', 'sag', 'saga'], got newton-cholesky.\n",
      "\n",
      "  warnings.warn(\"Estimator fit failed. The score on this train-test\"\n",
      "/opt/conda/lib/python3.9/site-packages/sklearn/model_selection/_validation.py:610: FitFailedWarning: Estimator fit failed. The score on this train-test partition for these parameters will be set to nan. Details: \n",
      "Traceback (most recent call last):\n",
      "  File \"/opt/conda/lib/python3.9/site-packages/sklearn/model_selection/_validation.py\", line 593, in _fit_and_score\n",
      "    estimator.fit(X_train, y_train, **fit_params)\n",
      "  File \"/opt/conda/lib/python3.9/site-packages/sklearn/pipeline.py\", line 346, in fit\n",
      "    self._final_estimator.fit(Xt, y, **fit_params_last_step)\n",
      "  File \"/opt/conda/lib/python3.9/site-packages/sklearn/linear_model/_logistic.py\", line 1306, in fit\n",
      "    solver = _check_solver(self.solver, self.penalty, self.dual)\n",
      "  File \"/opt/conda/lib/python3.9/site-packages/sklearn/linear_model/_logistic.py\", line 434, in _check_solver\n",
      "    raise ValueError(\"Logistic Regression supports only solvers in %s, got\"\n",
      "ValueError: Logistic Regression supports only solvers in ['liblinear', 'newton-cg', 'lbfgs', 'sag', 'saga'], got newton-cholesky.\n",
      "\n",
      "  warnings.warn(\"Estimator fit failed. The score on this train-test\"\n",
      "/opt/conda/lib/python3.9/site-packages/sklearn/model_selection/_validation.py:610: FitFailedWarning: Estimator fit failed. The score on this train-test partition for these parameters will be set to nan. Details: \n",
      "Traceback (most recent call last):\n",
      "  File \"/opt/conda/lib/python3.9/site-packages/sklearn/model_selection/_validation.py\", line 593, in _fit_and_score\n",
      "    estimator.fit(X_train, y_train, **fit_params)\n",
      "  File \"/opt/conda/lib/python3.9/site-packages/sklearn/pipeline.py\", line 346, in fit\n",
      "    self._final_estimator.fit(Xt, y, **fit_params_last_step)\n",
      "  File \"/opt/conda/lib/python3.9/site-packages/sklearn/linear_model/_logistic.py\", line 1306, in fit\n",
      "    solver = _check_solver(self.solver, self.penalty, self.dual)\n",
      "  File \"/opt/conda/lib/python3.9/site-packages/sklearn/linear_model/_logistic.py\", line 443, in _check_solver\n",
      "    raise ValueError(\"Solver %s supports only 'l2' or 'none' penalties, \"\n",
      "ValueError: Solver lbfgs supports only 'l2' or 'none' penalties, got elasticnet penalty.\n",
      "\n",
      "  warnings.warn(\"Estimator fit failed. The score on this train-test\"\n",
      "/opt/conda/lib/python3.9/site-packages/sklearn/model_selection/_validation.py:610: FitFailedWarning: Estimator fit failed. The score on this train-test partition for these parameters will be set to nan. Details: \n",
      "Traceback (most recent call last):\n",
      "  File \"/opt/conda/lib/python3.9/site-packages/sklearn/model_selection/_validation.py\", line 593, in _fit_and_score\n",
      "    estimator.fit(X_train, y_train, **fit_params)\n",
      "  File \"/opt/conda/lib/python3.9/site-packages/sklearn/pipeline.py\", line 346, in fit\n",
      "    self._final_estimator.fit(Xt, y, **fit_params_last_step)\n",
      "  File \"/opt/conda/lib/python3.9/site-packages/sklearn/linear_model/_logistic.py\", line 1306, in fit\n",
      "    solver = _check_solver(self.solver, self.penalty, self.dual)\n",
      "  File \"/opt/conda/lib/python3.9/site-packages/sklearn/linear_model/_logistic.py\", line 443, in _check_solver\n",
      "    raise ValueError(\"Solver %s supports only 'l2' or 'none' penalties, \"\n",
      "ValueError: Solver lbfgs supports only 'l2' or 'none' penalties, got elasticnet penalty.\n",
      "\n",
      "  warnings.warn(\"Estimator fit failed. The score on this train-test\"\n",
      "/opt/conda/lib/python3.9/site-packages/sklearn/model_selection/_validation.py:610: FitFailedWarning: Estimator fit failed. The score on this train-test partition for these parameters will be set to nan. Details: \n",
      "Traceback (most recent call last):\n",
      "  File \"/opt/conda/lib/python3.9/site-packages/sklearn/model_selection/_validation.py\", line 593, in _fit_and_score\n",
      "    estimator.fit(X_train, y_train, **fit_params)\n",
      "  File \"/opt/conda/lib/python3.9/site-packages/sklearn/pipeline.py\", line 346, in fit\n",
      "    self._final_estimator.fit(Xt, y, **fit_params_last_step)\n",
      "  File \"/opt/conda/lib/python3.9/site-packages/sklearn/linear_model/_logistic.py\", line 1306, in fit\n",
      "    solver = _check_solver(self.solver, self.penalty, self.dual)\n",
      "  File \"/opt/conda/lib/python3.9/site-packages/sklearn/linear_model/_logistic.py\", line 443, in _check_solver\n",
      "    raise ValueError(\"Solver %s supports only 'l2' or 'none' penalties, \"\n",
      "ValueError: Solver lbfgs supports only 'l2' or 'none' penalties, got elasticnet penalty.\n",
      "\n",
      "  warnings.warn(\"Estimator fit failed. The score on this train-test\"\n",
      "/opt/conda/lib/python3.9/site-packages/sklearn/model_selection/_validation.py:610: FitFailedWarning: Estimator fit failed. The score on this train-test partition for these parameters will be set to nan. Details: \n",
      "Traceback (most recent call last):\n",
      "  File \"/opt/conda/lib/python3.9/site-packages/sklearn/model_selection/_validation.py\", line 593, in _fit_and_score\n",
      "    estimator.fit(X_train, y_train, **fit_params)\n",
      "  File \"/opt/conda/lib/python3.9/site-packages/sklearn/pipeline.py\", line 346, in fit\n",
      "    self._final_estimator.fit(Xt, y, **fit_params_last_step)\n",
      "  File \"/opt/conda/lib/python3.9/site-packages/sklearn/linear_model/_logistic.py\", line 1306, in fit\n",
      "    solver = _check_solver(self.solver, self.penalty, self.dual)\n",
      "  File \"/opt/conda/lib/python3.9/site-packages/sklearn/linear_model/_logistic.py\", line 450, in _check_solver\n",
      "    raise ValueError(\"Only 'saga' solver supports elasticnet penalty,\"\n",
      "ValueError: Only 'saga' solver supports elasticnet penalty, got solver=liblinear.\n",
      "\n",
      "  warnings.warn(\"Estimator fit failed. The score on this train-test\"\n",
      "/opt/conda/lib/python3.9/site-packages/sklearn/model_selection/_validation.py:610: FitFailedWarning: Estimator fit failed. The score on this train-test partition for these parameters will be set to nan. Details: \n",
      "Traceback (most recent call last):\n",
      "  File \"/opt/conda/lib/python3.9/site-packages/sklearn/model_selection/_validation.py\", line 593, in _fit_and_score\n",
      "    estimator.fit(X_train, y_train, **fit_params)\n",
      "  File \"/opt/conda/lib/python3.9/site-packages/sklearn/pipeline.py\", line 346, in fit\n",
      "    self._final_estimator.fit(Xt, y, **fit_params_last_step)\n",
      "  File \"/opt/conda/lib/python3.9/site-packages/sklearn/linear_model/_logistic.py\", line 1306, in fit\n",
      "    solver = _check_solver(self.solver, self.penalty, self.dual)\n",
      "  File \"/opt/conda/lib/python3.9/site-packages/sklearn/linear_model/_logistic.py\", line 450, in _check_solver\n",
      "    raise ValueError(\"Only 'saga' solver supports elasticnet penalty,\"\n",
      "ValueError: Only 'saga' solver supports elasticnet penalty, got solver=liblinear.\n",
      "\n",
      "  warnings.warn(\"Estimator fit failed. The score on this train-test\"\n",
      "/opt/conda/lib/python3.9/site-packages/sklearn/model_selection/_validation.py:610: FitFailedWarning: Estimator fit failed. The score on this train-test partition for these parameters will be set to nan. Details: \n",
      "Traceback (most recent call last):\n",
      "  File \"/opt/conda/lib/python3.9/site-packages/sklearn/model_selection/_validation.py\", line 593, in _fit_and_score\n",
      "    estimator.fit(X_train, y_train, **fit_params)\n",
      "  File \"/opt/conda/lib/python3.9/site-packages/sklearn/pipeline.py\", line 346, in fit\n",
      "    self._final_estimator.fit(Xt, y, **fit_params_last_step)\n",
      "  File \"/opt/conda/lib/python3.9/site-packages/sklearn/linear_model/_logistic.py\", line 1306, in fit\n",
      "    solver = _check_solver(self.solver, self.penalty, self.dual)\n",
      "  File \"/opt/conda/lib/python3.9/site-packages/sklearn/linear_model/_logistic.py\", line 450, in _check_solver\n",
      "    raise ValueError(\"Only 'saga' solver supports elasticnet penalty,\"\n",
      "ValueError: Only 'saga' solver supports elasticnet penalty, got solver=liblinear.\n",
      "\n",
      "  warnings.warn(\"Estimator fit failed. The score on this train-test\"\n",
      "/opt/conda/lib/python3.9/site-packages/sklearn/model_selection/_validation.py:610: FitFailedWarning: Estimator fit failed. The score on this train-test partition for these parameters will be set to nan. Details: \n",
      "Traceback (most recent call last):\n",
      "  File \"/opt/conda/lib/python3.9/site-packages/sklearn/model_selection/_validation.py\", line 593, in _fit_and_score\n",
      "    estimator.fit(X_train, y_train, **fit_params)\n",
      "  File \"/opt/conda/lib/python3.9/site-packages/sklearn/pipeline.py\", line 346, in fit\n",
      "    self._final_estimator.fit(Xt, y, **fit_params_last_step)\n",
      "  File \"/opt/conda/lib/python3.9/site-packages/sklearn/linear_model/_logistic.py\", line 1306, in fit\n",
      "    solver = _check_solver(self.solver, self.penalty, self.dual)\n",
      "  File \"/opt/conda/lib/python3.9/site-packages/sklearn/linear_model/_logistic.py\", line 443, in _check_solver\n",
      "    raise ValueError(\"Solver %s supports only 'l2' or 'none' penalties, \"\n",
      "ValueError: Solver newton-cg supports only 'l2' or 'none' penalties, got elasticnet penalty.\n",
      "\n",
      "  warnings.warn(\"Estimator fit failed. The score on this train-test\"\n",
      "/opt/conda/lib/python3.9/site-packages/sklearn/model_selection/_validation.py:610: FitFailedWarning: Estimator fit failed. The score on this train-test partition for these parameters will be set to nan. Details: \n",
      "Traceback (most recent call last):\n",
      "  File \"/opt/conda/lib/python3.9/site-packages/sklearn/model_selection/_validation.py\", line 593, in _fit_and_score\n",
      "    estimator.fit(X_train, y_train, **fit_params)\n",
      "  File \"/opt/conda/lib/python3.9/site-packages/sklearn/pipeline.py\", line 346, in fit\n",
      "    self._final_estimator.fit(Xt, y, **fit_params_last_step)\n",
      "  File \"/opt/conda/lib/python3.9/site-packages/sklearn/linear_model/_logistic.py\", line 1306, in fit\n",
      "    solver = _check_solver(self.solver, self.penalty, self.dual)\n",
      "  File \"/opt/conda/lib/python3.9/site-packages/sklearn/linear_model/_logistic.py\", line 443, in _check_solver\n",
      "    raise ValueError(\"Solver %s supports only 'l2' or 'none' penalties, \"\n",
      "ValueError: Solver newton-cg supports only 'l2' or 'none' penalties, got elasticnet penalty.\n",
      "\n",
      "  warnings.warn(\"Estimator fit failed. The score on this train-test\"\n",
      "/opt/conda/lib/python3.9/site-packages/sklearn/model_selection/_validation.py:610: FitFailedWarning: Estimator fit failed. The score on this train-test partition for these parameters will be set to nan. Details: \n",
      "Traceback (most recent call last):\n",
      "  File \"/opt/conda/lib/python3.9/site-packages/sklearn/model_selection/_validation.py\", line 593, in _fit_and_score\n",
      "    estimator.fit(X_train, y_train, **fit_params)\n",
      "  File \"/opt/conda/lib/python3.9/site-packages/sklearn/pipeline.py\", line 346, in fit\n",
      "    self._final_estimator.fit(Xt, y, **fit_params_last_step)\n",
      "  File \"/opt/conda/lib/python3.9/site-packages/sklearn/linear_model/_logistic.py\", line 1306, in fit\n",
      "    solver = _check_solver(self.solver, self.penalty, self.dual)\n",
      "  File \"/opt/conda/lib/python3.9/site-packages/sklearn/linear_model/_logistic.py\", line 443, in _check_solver\n",
      "    raise ValueError(\"Solver %s supports only 'l2' or 'none' penalties, \"\n",
      "ValueError: Solver newton-cg supports only 'l2' or 'none' penalties, got elasticnet penalty.\n",
      "\n",
      "  warnings.warn(\"Estimator fit failed. The score on this train-test\"\n",
      "/opt/conda/lib/python3.9/site-packages/sklearn/model_selection/_validation.py:610: FitFailedWarning: Estimator fit failed. The score on this train-test partition for these parameters will be set to nan. Details: \n",
      "Traceback (most recent call last):\n",
      "  File \"/opt/conda/lib/python3.9/site-packages/sklearn/model_selection/_validation.py\", line 593, in _fit_and_score\n",
      "    estimator.fit(X_train, y_train, **fit_params)\n",
      "  File \"/opt/conda/lib/python3.9/site-packages/sklearn/pipeline.py\", line 346, in fit\n",
      "    self._final_estimator.fit(Xt, y, **fit_params_last_step)\n",
      "  File \"/opt/conda/lib/python3.9/site-packages/sklearn/linear_model/_logistic.py\", line 1306, in fit\n",
      "    solver = _check_solver(self.solver, self.penalty, self.dual)\n",
      "  File \"/opt/conda/lib/python3.9/site-packages/sklearn/linear_model/_logistic.py\", line 434, in _check_solver\n",
      "    raise ValueError(\"Logistic Regression supports only solvers in %s, got\"\n",
      "ValueError: Logistic Regression supports only solvers in ['liblinear', 'newton-cg', 'lbfgs', 'sag', 'saga'], got newton-cholesky.\n",
      "\n",
      "  warnings.warn(\"Estimator fit failed. The score on this train-test\"\n",
      "/opt/conda/lib/python3.9/site-packages/sklearn/model_selection/_validation.py:610: FitFailedWarning: Estimator fit failed. The score on this train-test partition for these parameters will be set to nan. Details: \n",
      "Traceback (most recent call last):\n",
      "  File \"/opt/conda/lib/python3.9/site-packages/sklearn/model_selection/_validation.py\", line 593, in _fit_and_score\n",
      "    estimator.fit(X_train, y_train, **fit_params)\n",
      "  File \"/opt/conda/lib/python3.9/site-packages/sklearn/pipeline.py\", line 346, in fit\n",
      "    self._final_estimator.fit(Xt, y, **fit_params_last_step)\n",
      "  File \"/opt/conda/lib/python3.9/site-packages/sklearn/linear_model/_logistic.py\", line 1306, in fit\n",
      "    solver = _check_solver(self.solver, self.penalty, self.dual)\n",
      "  File \"/opt/conda/lib/python3.9/site-packages/sklearn/linear_model/_logistic.py\", line 434, in _check_solver\n",
      "    raise ValueError(\"Logistic Regression supports only solvers in %s, got\"\n",
      "ValueError: Logistic Regression supports only solvers in ['liblinear', 'newton-cg', 'lbfgs', 'sag', 'saga'], got newton-cholesky.\n",
      "\n",
      "  warnings.warn(\"Estimator fit failed. The score on this train-test\"\n",
      "/opt/conda/lib/python3.9/site-packages/sklearn/model_selection/_validation.py:610: FitFailedWarning: Estimator fit failed. The score on this train-test partition for these parameters will be set to nan. Details: \n",
      "Traceback (most recent call last):\n",
      "  File \"/opt/conda/lib/python3.9/site-packages/sklearn/model_selection/_validation.py\", line 593, in _fit_and_score\n",
      "    estimator.fit(X_train, y_train, **fit_params)\n",
      "  File \"/opt/conda/lib/python3.9/site-packages/sklearn/pipeline.py\", line 346, in fit\n",
      "    self._final_estimator.fit(Xt, y, **fit_params_last_step)\n",
      "  File \"/opt/conda/lib/python3.9/site-packages/sklearn/linear_model/_logistic.py\", line 1306, in fit\n",
      "    solver = _check_solver(self.solver, self.penalty, self.dual)\n",
      "  File \"/opt/conda/lib/python3.9/site-packages/sklearn/linear_model/_logistic.py\", line 434, in _check_solver\n",
      "    raise ValueError(\"Logistic Regression supports only solvers in %s, got\"\n",
      "ValueError: Logistic Regression supports only solvers in ['liblinear', 'newton-cg', 'lbfgs', 'sag', 'saga'], got newton-cholesky.\n",
      "\n",
      "  warnings.warn(\"Estimator fit failed. The score on this train-test\"\n",
      "/opt/conda/lib/python3.9/site-packages/sklearn/model_selection/_validation.py:610: FitFailedWarning: Estimator fit failed. The score on this train-test partition for these parameters will be set to nan. Details: \n",
      "Traceback (most recent call last):\n",
      "  File \"/opt/conda/lib/python3.9/site-packages/sklearn/model_selection/_validation.py\", line 593, in _fit_and_score\n",
      "    estimator.fit(X_train, y_train, **fit_params)\n",
      "  File \"/opt/conda/lib/python3.9/site-packages/sklearn/pipeline.py\", line 346, in fit\n",
      "    self._final_estimator.fit(Xt, y, **fit_params_last_step)\n",
      "  File \"/opt/conda/lib/python3.9/site-packages/sklearn/linear_model/_logistic.py\", line 1306, in fit\n",
      "    solver = _check_solver(self.solver, self.penalty, self.dual)\n",
      "  File \"/opt/conda/lib/python3.9/site-packages/sklearn/linear_model/_logistic.py\", line 443, in _check_solver\n",
      "    raise ValueError(\"Solver %s supports only 'l2' or 'none' penalties, \"\n",
      "ValueError: Solver sag supports only 'l2' or 'none' penalties, got elasticnet penalty.\n",
      "\n",
      "  warnings.warn(\"Estimator fit failed. The score on this train-test\"\n",
      "/opt/conda/lib/python3.9/site-packages/sklearn/model_selection/_validation.py:610: FitFailedWarning: Estimator fit failed. The score on this train-test partition for these parameters will be set to nan. Details: \n",
      "Traceback (most recent call last):\n",
      "  File \"/opt/conda/lib/python3.9/site-packages/sklearn/model_selection/_validation.py\", line 593, in _fit_and_score\n",
      "    estimator.fit(X_train, y_train, **fit_params)\n",
      "  File \"/opt/conda/lib/python3.9/site-packages/sklearn/pipeline.py\", line 346, in fit\n",
      "    self._final_estimator.fit(Xt, y, **fit_params_last_step)\n",
      "  File \"/opt/conda/lib/python3.9/site-packages/sklearn/linear_model/_logistic.py\", line 1306, in fit\n",
      "    solver = _check_solver(self.solver, self.penalty, self.dual)\n",
      "  File \"/opt/conda/lib/python3.9/site-packages/sklearn/linear_model/_logistic.py\", line 443, in _check_solver\n",
      "    raise ValueError(\"Solver %s supports only 'l2' or 'none' penalties, \"\n",
      "ValueError: Solver sag supports only 'l2' or 'none' penalties, got elasticnet penalty.\n",
      "\n",
      "  warnings.warn(\"Estimator fit failed. The score on this train-test\"\n",
      "/opt/conda/lib/python3.9/site-packages/sklearn/model_selection/_validation.py:610: FitFailedWarning: Estimator fit failed. The score on this train-test partition for these parameters will be set to nan. Details: \n",
      "Traceback (most recent call last):\n",
      "  File \"/opt/conda/lib/python3.9/site-packages/sklearn/model_selection/_validation.py\", line 593, in _fit_and_score\n",
      "    estimator.fit(X_train, y_train, **fit_params)\n",
      "  File \"/opt/conda/lib/python3.9/site-packages/sklearn/pipeline.py\", line 346, in fit\n",
      "    self._final_estimator.fit(Xt, y, **fit_params_last_step)\n",
      "  File \"/opt/conda/lib/python3.9/site-packages/sklearn/linear_model/_logistic.py\", line 1306, in fit\n",
      "    solver = _check_solver(self.solver, self.penalty, self.dual)\n",
      "  File \"/opt/conda/lib/python3.9/site-packages/sklearn/linear_model/_logistic.py\", line 443, in _check_solver\n",
      "    raise ValueError(\"Solver %s supports only 'l2' or 'none' penalties, \"\n",
      "ValueError: Solver sag supports only 'l2' or 'none' penalties, got elasticnet penalty.\n",
      "\n",
      "  warnings.warn(\"Estimator fit failed. The score on this train-test\"\n",
      "/opt/conda/lib/python3.9/site-packages/sklearn/model_selection/_validation.py:610: FitFailedWarning: Estimator fit failed. The score on this train-test partition for these parameters will be set to nan. Details: \n",
      "Traceback (most recent call last):\n",
      "  File \"/opt/conda/lib/python3.9/site-packages/sklearn/model_selection/_validation.py\", line 593, in _fit_and_score\n",
      "    estimator.fit(X_train, y_train, **fit_params)\n",
      "  File \"/opt/conda/lib/python3.9/site-packages/sklearn/pipeline.py\", line 346, in fit\n",
      "    self._final_estimator.fit(Xt, y, **fit_params_last_step)\n",
      "  File \"/opt/conda/lib/python3.9/site-packages/sklearn/linear_model/_logistic.py\", line 1314, in fit\n",
      "    raise ValueError(\"l1_ratio must be between 0 and 1;\"\n",
      "ValueError: l1_ratio must be between 0 and 1; got (l1_ratio=None)\n",
      "\n",
      "  warnings.warn(\"Estimator fit failed. The score on this train-test\"\n",
      "/opt/conda/lib/python3.9/site-packages/sklearn/model_selection/_validation.py:610: FitFailedWarning: Estimator fit failed. The score on this train-test partition for these parameters will be set to nan. Details: \n",
      "Traceback (most recent call last):\n",
      "  File \"/opt/conda/lib/python3.9/site-packages/sklearn/model_selection/_validation.py\", line 593, in _fit_and_score\n",
      "    estimator.fit(X_train, y_train, **fit_params)\n",
      "  File \"/opt/conda/lib/python3.9/site-packages/sklearn/pipeline.py\", line 346, in fit\n",
      "    self._final_estimator.fit(Xt, y, **fit_params_last_step)\n",
      "  File \"/opt/conda/lib/python3.9/site-packages/sklearn/linear_model/_logistic.py\", line 1314, in fit\n",
      "    raise ValueError(\"l1_ratio must be between 0 and 1;\"\n",
      "ValueError: l1_ratio must be between 0 and 1; got (l1_ratio=None)\n",
      "\n",
      "  warnings.warn(\"Estimator fit failed. The score on this train-test\"\n",
      "/opt/conda/lib/python3.9/site-packages/sklearn/model_selection/_validation.py:610: FitFailedWarning: Estimator fit failed. The score on this train-test partition for these parameters will be set to nan. Details: \n",
      "Traceback (most recent call last):\n",
      "  File \"/opt/conda/lib/python3.9/site-packages/sklearn/model_selection/_validation.py\", line 593, in _fit_and_score\n",
      "    estimator.fit(X_train, y_train, **fit_params)\n",
      "  File \"/opt/conda/lib/python3.9/site-packages/sklearn/pipeline.py\", line 346, in fit\n",
      "    self._final_estimator.fit(Xt, y, **fit_params_last_step)\n",
      "  File \"/opt/conda/lib/python3.9/site-packages/sklearn/linear_model/_logistic.py\", line 1314, in fit\n",
      "    raise ValueError(\"l1_ratio must be between 0 and 1;\"\n",
      "ValueError: l1_ratio must be between 0 and 1; got (l1_ratio=None)\n",
      "\n",
      "  warnings.warn(\"Estimator fit failed. The score on this train-test\"\n",
      "/opt/conda/lib/python3.9/site-packages/sklearn/model_selection/_validation.py:610: FitFailedWarning: Estimator fit failed. The score on this train-test partition for these parameters will be set to nan. Details: \n",
      "Traceback (most recent call last):\n",
      "  File \"/opt/conda/lib/python3.9/site-packages/sklearn/model_selection/_validation.py\", line 593, in _fit_and_score\n",
      "    estimator.fit(X_train, y_train, **fit_params)\n",
      "  File \"/opt/conda/lib/python3.9/site-packages/sklearn/pipeline.py\", line 346, in fit\n",
      "    self._final_estimator.fit(Xt, y, **fit_params_last_step)\n",
      "  File \"/opt/conda/lib/python3.9/site-packages/sklearn/linear_model/_logistic.py\", line 1306, in fit\n",
      "    solver = _check_solver(self.solver, self.penalty, self.dual)\n",
      "  File \"/opt/conda/lib/python3.9/site-packages/sklearn/linear_model/_logistic.py\", line 443, in _check_solver\n",
      "    raise ValueError(\"Solver %s supports only 'l2' or 'none' penalties, \"\n",
      "ValueError: Solver lbfgs supports only 'l2' or 'none' penalties, got l1 penalty.\n",
      "\n",
      "  warnings.warn(\"Estimator fit failed. The score on this train-test\"\n",
      "/opt/conda/lib/python3.9/site-packages/sklearn/model_selection/_validation.py:610: FitFailedWarning: Estimator fit failed. The score on this train-test partition for these parameters will be set to nan. Details: \n",
      "Traceback (most recent call last):\n",
      "  File \"/opt/conda/lib/python3.9/site-packages/sklearn/model_selection/_validation.py\", line 593, in _fit_and_score\n",
      "    estimator.fit(X_train, y_train, **fit_params)\n",
      "  File \"/opt/conda/lib/python3.9/site-packages/sklearn/pipeline.py\", line 346, in fit\n",
      "    self._final_estimator.fit(Xt, y, **fit_params_last_step)\n",
      "  File \"/opt/conda/lib/python3.9/site-packages/sklearn/linear_model/_logistic.py\", line 1306, in fit\n",
      "    solver = _check_solver(self.solver, self.penalty, self.dual)\n",
      "  File \"/opt/conda/lib/python3.9/site-packages/sklearn/linear_model/_logistic.py\", line 443, in _check_solver\n",
      "    raise ValueError(\"Solver %s supports only 'l2' or 'none' penalties, \"\n",
      "ValueError: Solver lbfgs supports only 'l2' or 'none' penalties, got l1 penalty.\n",
      "\n",
      "  warnings.warn(\"Estimator fit failed. The score on this train-test\"\n",
      "/opt/conda/lib/python3.9/site-packages/sklearn/model_selection/_validation.py:610: FitFailedWarning: Estimator fit failed. The score on this train-test partition for these parameters will be set to nan. Details: \n",
      "Traceback (most recent call last):\n",
      "  File \"/opt/conda/lib/python3.9/site-packages/sklearn/model_selection/_validation.py\", line 593, in _fit_and_score\n",
      "    estimator.fit(X_train, y_train, **fit_params)\n",
      "  File \"/opt/conda/lib/python3.9/site-packages/sklearn/pipeline.py\", line 346, in fit\n",
      "    self._final_estimator.fit(Xt, y, **fit_params_last_step)\n",
      "  File \"/opt/conda/lib/python3.9/site-packages/sklearn/linear_model/_logistic.py\", line 1306, in fit\n",
      "    solver = _check_solver(self.solver, self.penalty, self.dual)\n",
      "  File \"/opt/conda/lib/python3.9/site-packages/sklearn/linear_model/_logistic.py\", line 443, in _check_solver\n",
      "    raise ValueError(\"Solver %s supports only 'l2' or 'none' penalties, \"\n",
      "ValueError: Solver lbfgs supports only 'l2' or 'none' penalties, got l1 penalty.\n",
      "\n",
      "  warnings.warn(\"Estimator fit failed. The score on this train-test\"\n",
      "/opt/conda/lib/python3.9/site-packages/sklearn/model_selection/_validation.py:610: FitFailedWarning: Estimator fit failed. The score on this train-test partition for these parameters will be set to nan. Details: \n",
      "Traceback (most recent call last):\n",
      "  File \"/opt/conda/lib/python3.9/site-packages/sklearn/model_selection/_validation.py\", line 593, in _fit_and_score\n",
      "    estimator.fit(X_train, y_train, **fit_params)\n",
      "  File \"/opt/conda/lib/python3.9/site-packages/sklearn/pipeline.py\", line 346, in fit\n",
      "    self._final_estimator.fit(Xt, y, **fit_params_last_step)\n",
      "  File \"/opt/conda/lib/python3.9/site-packages/sklearn/linear_model/_logistic.py\", line 1306, in fit\n",
      "    solver = _check_solver(self.solver, self.penalty, self.dual)\n",
      "  File \"/opt/conda/lib/python3.9/site-packages/sklearn/linear_model/_logistic.py\", line 443, in _check_solver\n",
      "    raise ValueError(\"Solver %s supports only 'l2' or 'none' penalties, \"\n",
      "ValueError: Solver newton-cg supports only 'l2' or 'none' penalties, got l1 penalty.\n",
      "\n",
      "  warnings.warn(\"Estimator fit failed. The score on this train-test\"\n",
      "/opt/conda/lib/python3.9/site-packages/sklearn/model_selection/_validation.py:610: FitFailedWarning: Estimator fit failed. The score on this train-test partition for these parameters will be set to nan. Details: \n",
      "Traceback (most recent call last):\n",
      "  File \"/opt/conda/lib/python3.9/site-packages/sklearn/model_selection/_validation.py\", line 593, in _fit_and_score\n",
      "    estimator.fit(X_train, y_train, **fit_params)\n",
      "  File \"/opt/conda/lib/python3.9/site-packages/sklearn/pipeline.py\", line 346, in fit\n",
      "    self._final_estimator.fit(Xt, y, **fit_params_last_step)\n",
      "  File \"/opt/conda/lib/python3.9/site-packages/sklearn/linear_model/_logistic.py\", line 1306, in fit\n",
      "    solver = _check_solver(self.solver, self.penalty, self.dual)\n",
      "  File \"/opt/conda/lib/python3.9/site-packages/sklearn/linear_model/_logistic.py\", line 443, in _check_solver\n",
      "    raise ValueError(\"Solver %s supports only 'l2' or 'none' penalties, \"\n",
      "ValueError: Solver newton-cg supports only 'l2' or 'none' penalties, got l1 penalty.\n",
      "\n",
      "  warnings.warn(\"Estimator fit failed. The score on this train-test\"\n",
      "/opt/conda/lib/python3.9/site-packages/sklearn/model_selection/_validation.py:610: FitFailedWarning: Estimator fit failed. The score on this train-test partition for these parameters will be set to nan. Details: \n",
      "Traceback (most recent call last):\n",
      "  File \"/opt/conda/lib/python3.9/site-packages/sklearn/model_selection/_validation.py\", line 593, in _fit_and_score\n",
      "    estimator.fit(X_train, y_train, **fit_params)\n",
      "  File \"/opt/conda/lib/python3.9/site-packages/sklearn/pipeline.py\", line 346, in fit\n",
      "    self._final_estimator.fit(Xt, y, **fit_params_last_step)\n",
      "  File \"/opt/conda/lib/python3.9/site-packages/sklearn/linear_model/_logistic.py\", line 1306, in fit\n",
      "    solver = _check_solver(self.solver, self.penalty, self.dual)\n",
      "  File \"/opt/conda/lib/python3.9/site-packages/sklearn/linear_model/_logistic.py\", line 443, in _check_solver\n",
      "    raise ValueError(\"Solver %s supports only 'l2' or 'none' penalties, \"\n",
      "ValueError: Solver newton-cg supports only 'l2' or 'none' penalties, got l1 penalty.\n",
      "\n",
      "  warnings.warn(\"Estimator fit failed. The score on this train-test\"\n",
      "/opt/conda/lib/python3.9/site-packages/sklearn/model_selection/_validation.py:610: FitFailedWarning: Estimator fit failed. The score on this train-test partition for these parameters will be set to nan. Details: \n",
      "Traceback (most recent call last):\n",
      "  File \"/opt/conda/lib/python3.9/site-packages/sklearn/model_selection/_validation.py\", line 593, in _fit_and_score\n",
      "    estimator.fit(X_train, y_train, **fit_params)\n",
      "  File \"/opt/conda/lib/python3.9/site-packages/sklearn/pipeline.py\", line 346, in fit\n",
      "    self._final_estimator.fit(Xt, y, **fit_params_last_step)\n",
      "  File \"/opt/conda/lib/python3.9/site-packages/sklearn/linear_model/_logistic.py\", line 1306, in fit\n",
      "    solver = _check_solver(self.solver, self.penalty, self.dual)\n",
      "  File \"/opt/conda/lib/python3.9/site-packages/sklearn/linear_model/_logistic.py\", line 434, in _check_solver\n",
      "    raise ValueError(\"Logistic Regression supports only solvers in %s, got\"\n",
      "ValueError: Logistic Regression supports only solvers in ['liblinear', 'newton-cg', 'lbfgs', 'sag', 'saga'], got newton-cholesky.\n",
      "\n",
      "  warnings.warn(\"Estimator fit failed. The score on this train-test\"\n",
      "/opt/conda/lib/python3.9/site-packages/sklearn/model_selection/_validation.py:610: FitFailedWarning: Estimator fit failed. The score on this train-test partition for these parameters will be set to nan. Details: \n",
      "Traceback (most recent call last):\n",
      "  File \"/opt/conda/lib/python3.9/site-packages/sklearn/model_selection/_validation.py\", line 593, in _fit_and_score\n",
      "    estimator.fit(X_train, y_train, **fit_params)\n",
      "  File \"/opt/conda/lib/python3.9/site-packages/sklearn/pipeline.py\", line 346, in fit\n",
      "    self._final_estimator.fit(Xt, y, **fit_params_last_step)\n",
      "  File \"/opt/conda/lib/python3.9/site-packages/sklearn/linear_model/_logistic.py\", line 1306, in fit\n",
      "    solver = _check_solver(self.solver, self.penalty, self.dual)\n",
      "  File \"/opt/conda/lib/python3.9/site-packages/sklearn/linear_model/_logistic.py\", line 434, in _check_solver\n",
      "    raise ValueError(\"Logistic Regression supports only solvers in %s, got\"\n",
      "ValueError: Logistic Regression supports only solvers in ['liblinear', 'newton-cg', 'lbfgs', 'sag', 'saga'], got newton-cholesky.\n",
      "\n",
      "  warnings.warn(\"Estimator fit failed. The score on this train-test\"\n",
      "/opt/conda/lib/python3.9/site-packages/sklearn/model_selection/_validation.py:610: FitFailedWarning: Estimator fit failed. The score on this train-test partition for these parameters will be set to nan. Details: \n",
      "Traceback (most recent call last):\n",
      "  File \"/opt/conda/lib/python3.9/site-packages/sklearn/model_selection/_validation.py\", line 593, in _fit_and_score\n",
      "    estimator.fit(X_train, y_train, **fit_params)\n",
      "  File \"/opt/conda/lib/python3.9/site-packages/sklearn/pipeline.py\", line 346, in fit\n",
      "    self._final_estimator.fit(Xt, y, **fit_params_last_step)\n",
      "  File \"/opt/conda/lib/python3.9/site-packages/sklearn/linear_model/_logistic.py\", line 1306, in fit\n",
      "    solver = _check_solver(self.solver, self.penalty, self.dual)\n",
      "  File \"/opt/conda/lib/python3.9/site-packages/sklearn/linear_model/_logistic.py\", line 434, in _check_solver\n",
      "    raise ValueError(\"Logistic Regression supports only solvers in %s, got\"\n",
      "ValueError: Logistic Regression supports only solvers in ['liblinear', 'newton-cg', 'lbfgs', 'sag', 'saga'], got newton-cholesky.\n",
      "\n",
      "  warnings.warn(\"Estimator fit failed. The score on this train-test\"\n",
      "/opt/conda/lib/python3.9/site-packages/sklearn/model_selection/_validation.py:610: FitFailedWarning: Estimator fit failed. The score on this train-test partition for these parameters will be set to nan. Details: \n",
      "Traceback (most recent call last):\n",
      "  File \"/opt/conda/lib/python3.9/site-packages/sklearn/model_selection/_validation.py\", line 593, in _fit_and_score\n",
      "    estimator.fit(X_train, y_train, **fit_params)\n",
      "  File \"/opt/conda/lib/python3.9/site-packages/sklearn/pipeline.py\", line 346, in fit\n",
      "    self._final_estimator.fit(Xt, y, **fit_params_last_step)\n",
      "  File \"/opt/conda/lib/python3.9/site-packages/sklearn/linear_model/_logistic.py\", line 1306, in fit\n",
      "    solver = _check_solver(self.solver, self.penalty, self.dual)\n",
      "  File \"/opt/conda/lib/python3.9/site-packages/sklearn/linear_model/_logistic.py\", line 443, in _check_solver\n",
      "    raise ValueError(\"Solver %s supports only 'l2' or 'none' penalties, \"\n",
      "ValueError: Solver sag supports only 'l2' or 'none' penalties, got l1 penalty.\n",
      "\n",
      "  warnings.warn(\"Estimator fit failed. The score on this train-test\"\n",
      "/opt/conda/lib/python3.9/site-packages/sklearn/model_selection/_validation.py:610: FitFailedWarning: Estimator fit failed. The score on this train-test partition for these parameters will be set to nan. Details: \n",
      "Traceback (most recent call last):\n",
      "  File \"/opt/conda/lib/python3.9/site-packages/sklearn/model_selection/_validation.py\", line 593, in _fit_and_score\n",
      "    estimator.fit(X_train, y_train, **fit_params)\n",
      "  File \"/opt/conda/lib/python3.9/site-packages/sklearn/pipeline.py\", line 346, in fit\n",
      "    self._final_estimator.fit(Xt, y, **fit_params_last_step)\n",
      "  File \"/opt/conda/lib/python3.9/site-packages/sklearn/linear_model/_logistic.py\", line 1306, in fit\n",
      "    solver = _check_solver(self.solver, self.penalty, self.dual)\n",
      "  File \"/opt/conda/lib/python3.9/site-packages/sklearn/linear_model/_logistic.py\", line 443, in _check_solver\n",
      "    raise ValueError(\"Solver %s supports only 'l2' or 'none' penalties, \"\n",
      "ValueError: Solver sag supports only 'l2' or 'none' penalties, got l1 penalty.\n",
      "\n",
      "  warnings.warn(\"Estimator fit failed. The score on this train-test\"\n",
      "/opt/conda/lib/python3.9/site-packages/sklearn/model_selection/_validation.py:610: FitFailedWarning: Estimator fit failed. The score on this train-test partition for these parameters will be set to nan. Details: \n",
      "Traceback (most recent call last):\n",
      "  File \"/opt/conda/lib/python3.9/site-packages/sklearn/model_selection/_validation.py\", line 593, in _fit_and_score\n",
      "    estimator.fit(X_train, y_train, **fit_params)\n",
      "  File \"/opt/conda/lib/python3.9/site-packages/sklearn/pipeline.py\", line 346, in fit\n",
      "    self._final_estimator.fit(Xt, y, **fit_params_last_step)\n",
      "  File \"/opt/conda/lib/python3.9/site-packages/sklearn/linear_model/_logistic.py\", line 1306, in fit\n",
      "    solver = _check_solver(self.solver, self.penalty, self.dual)\n",
      "  File \"/opt/conda/lib/python3.9/site-packages/sklearn/linear_model/_logistic.py\", line 443, in _check_solver\n",
      "    raise ValueError(\"Solver %s supports only 'l2' or 'none' penalties, \"\n",
      "ValueError: Solver sag supports only 'l2' or 'none' penalties, got l1 penalty.\n",
      "\n",
      "  warnings.warn(\"Estimator fit failed. The score on this train-test\"\n",
      "/opt/conda/lib/python3.9/site-packages/sklearn/model_selection/_validation.py:610: FitFailedWarning: Estimator fit failed. The score on this train-test partition for these parameters will be set to nan. Details: \n",
      "Traceback (most recent call last):\n",
      "  File \"/opt/conda/lib/python3.9/site-packages/sklearn/model_selection/_validation.py\", line 593, in _fit_and_score\n",
      "    estimator.fit(X_train, y_train, **fit_params)\n",
      "  File \"/opt/conda/lib/python3.9/site-packages/sklearn/pipeline.py\", line 346, in fit\n",
      "    self._final_estimator.fit(Xt, y, **fit_params_last_step)\n",
      "  File \"/opt/conda/lib/python3.9/site-packages/sklearn/linear_model/_logistic.py\", line 1306, in fit\n",
      "    solver = _check_solver(self.solver, self.penalty, self.dual)\n",
      "  File \"/opt/conda/lib/python3.9/site-packages/sklearn/linear_model/_logistic.py\", line 434, in _check_solver\n",
      "    raise ValueError(\"Logistic Regression supports only solvers in %s, got\"\n",
      "ValueError: Logistic Regression supports only solvers in ['liblinear', 'newton-cg', 'lbfgs', 'sag', 'saga'], got newton-cholesky.\n",
      "\n",
      "  warnings.warn(\"Estimator fit failed. The score on this train-test\"\n",
      "/opt/conda/lib/python3.9/site-packages/sklearn/model_selection/_validation.py:610: FitFailedWarning: Estimator fit failed. The score on this train-test partition for these parameters will be set to nan. Details: \n",
      "Traceback (most recent call last):\n",
      "  File \"/opt/conda/lib/python3.9/site-packages/sklearn/model_selection/_validation.py\", line 593, in _fit_and_score\n",
      "    estimator.fit(X_train, y_train, **fit_params)\n",
      "  File \"/opt/conda/lib/python3.9/site-packages/sklearn/pipeline.py\", line 346, in fit\n",
      "    self._final_estimator.fit(Xt, y, **fit_params_last_step)\n",
      "  File \"/opt/conda/lib/python3.9/site-packages/sklearn/linear_model/_logistic.py\", line 1306, in fit\n",
      "    solver = _check_solver(self.solver, self.penalty, self.dual)\n",
      "  File \"/opt/conda/lib/python3.9/site-packages/sklearn/linear_model/_logistic.py\", line 434, in _check_solver\n",
      "    raise ValueError(\"Logistic Regression supports only solvers in %s, got\"\n",
      "ValueError: Logistic Regression supports only solvers in ['liblinear', 'newton-cg', 'lbfgs', 'sag', 'saga'], got newton-cholesky.\n",
      "\n",
      "  warnings.warn(\"Estimator fit failed. The score on this train-test\"\n",
      "/opt/conda/lib/python3.9/site-packages/sklearn/model_selection/_validation.py:610: FitFailedWarning: Estimator fit failed. The score on this train-test partition for these parameters will be set to nan. Details: \n",
      "Traceback (most recent call last):\n",
      "  File \"/opt/conda/lib/python3.9/site-packages/sklearn/model_selection/_validation.py\", line 593, in _fit_and_score\n",
      "    estimator.fit(X_train, y_train, **fit_params)\n",
      "  File \"/opt/conda/lib/python3.9/site-packages/sklearn/pipeline.py\", line 346, in fit\n",
      "    self._final_estimator.fit(Xt, y, **fit_params_last_step)\n",
      "  File \"/opt/conda/lib/python3.9/site-packages/sklearn/linear_model/_logistic.py\", line 1306, in fit\n",
      "    solver = _check_solver(self.solver, self.penalty, self.dual)\n",
      "  File \"/opt/conda/lib/python3.9/site-packages/sklearn/linear_model/_logistic.py\", line 434, in _check_solver\n",
      "    raise ValueError(\"Logistic Regression supports only solvers in %s, got\"\n",
      "ValueError: Logistic Regression supports only solvers in ['liblinear', 'newton-cg', 'lbfgs', 'sag', 'saga'], got newton-cholesky.\n",
      "\n",
      "  warnings.warn(\"Estimator fit failed. The score on this train-test\"\n",
      "/opt/conda/lib/python3.9/site-packages/sklearn/model_selection/_validation.py:610: FitFailedWarning: Estimator fit failed. The score on this train-test partition for these parameters will be set to nan. Details: \n",
      "Traceback (most recent call last):\n",
      "  File \"/opt/conda/lib/python3.9/site-packages/sklearn/model_selection/_validation.py\", line 593, in _fit_and_score\n",
      "    estimator.fit(X_train, y_train, **fit_params)\n",
      "  File \"/opt/conda/lib/python3.9/site-packages/sklearn/pipeline.py\", line 346, in fit\n",
      "    self._final_estimator.fit(Xt, y, **fit_params_last_step)\n",
      "  File \"/opt/conda/lib/python3.9/site-packages/sklearn/linear_model/_logistic.py\", line 1306, in fit\n",
      "    solver = _check_solver(self.solver, self.penalty, self.dual)\n",
      "  File \"/opt/conda/lib/python3.9/site-packages/sklearn/linear_model/_logistic.py\", line 443, in _check_solver\n",
      "    raise ValueError(\"Solver %s supports only 'l2' or 'none' penalties, \"\n",
      "ValueError: Solver lbfgs supports only 'l2' or 'none' penalties, got elasticnet penalty.\n",
      "\n",
      "  warnings.warn(\"Estimator fit failed. The score on this train-test\"\n",
      "/opt/conda/lib/python3.9/site-packages/sklearn/model_selection/_validation.py:610: FitFailedWarning: Estimator fit failed. The score on this train-test partition for these parameters will be set to nan. Details: \n",
      "Traceback (most recent call last):\n",
      "  File \"/opt/conda/lib/python3.9/site-packages/sklearn/model_selection/_validation.py\", line 593, in _fit_and_score\n",
      "    estimator.fit(X_train, y_train, **fit_params)\n",
      "  File \"/opt/conda/lib/python3.9/site-packages/sklearn/pipeline.py\", line 346, in fit\n",
      "    self._final_estimator.fit(Xt, y, **fit_params_last_step)\n",
      "  File \"/opt/conda/lib/python3.9/site-packages/sklearn/linear_model/_logistic.py\", line 1306, in fit\n",
      "    solver = _check_solver(self.solver, self.penalty, self.dual)\n",
      "  File \"/opt/conda/lib/python3.9/site-packages/sklearn/linear_model/_logistic.py\", line 443, in _check_solver\n",
      "    raise ValueError(\"Solver %s supports only 'l2' or 'none' penalties, \"\n",
      "ValueError: Solver lbfgs supports only 'l2' or 'none' penalties, got elasticnet penalty.\n",
      "\n",
      "  warnings.warn(\"Estimator fit failed. The score on this train-test\"\n",
      "/opt/conda/lib/python3.9/site-packages/sklearn/model_selection/_validation.py:610: FitFailedWarning: Estimator fit failed. The score on this train-test partition for these parameters will be set to nan. Details: \n",
      "Traceback (most recent call last):\n",
      "  File \"/opt/conda/lib/python3.9/site-packages/sklearn/model_selection/_validation.py\", line 593, in _fit_and_score\n",
      "    estimator.fit(X_train, y_train, **fit_params)\n",
      "  File \"/opt/conda/lib/python3.9/site-packages/sklearn/pipeline.py\", line 346, in fit\n",
      "    self._final_estimator.fit(Xt, y, **fit_params_last_step)\n",
      "  File \"/opt/conda/lib/python3.9/site-packages/sklearn/linear_model/_logistic.py\", line 1306, in fit\n",
      "    solver = _check_solver(self.solver, self.penalty, self.dual)\n",
      "  File \"/opt/conda/lib/python3.9/site-packages/sklearn/linear_model/_logistic.py\", line 443, in _check_solver\n",
      "    raise ValueError(\"Solver %s supports only 'l2' or 'none' penalties, \"\n",
      "ValueError: Solver lbfgs supports only 'l2' or 'none' penalties, got elasticnet penalty.\n",
      "\n",
      "  warnings.warn(\"Estimator fit failed. The score on this train-test\"\n",
      "/opt/conda/lib/python3.9/site-packages/sklearn/model_selection/_validation.py:610: FitFailedWarning: Estimator fit failed. The score on this train-test partition for these parameters will be set to nan. Details: \n",
      "Traceback (most recent call last):\n",
      "  File \"/opt/conda/lib/python3.9/site-packages/sklearn/model_selection/_validation.py\", line 593, in _fit_and_score\n",
      "    estimator.fit(X_train, y_train, **fit_params)\n",
      "  File \"/opt/conda/lib/python3.9/site-packages/sklearn/pipeline.py\", line 346, in fit\n",
      "    self._final_estimator.fit(Xt, y, **fit_params_last_step)\n",
      "  File \"/opt/conda/lib/python3.9/site-packages/sklearn/linear_model/_logistic.py\", line 1306, in fit\n",
      "    solver = _check_solver(self.solver, self.penalty, self.dual)\n",
      "  File \"/opt/conda/lib/python3.9/site-packages/sklearn/linear_model/_logistic.py\", line 450, in _check_solver\n",
      "    raise ValueError(\"Only 'saga' solver supports elasticnet penalty,\"\n",
      "ValueError: Only 'saga' solver supports elasticnet penalty, got solver=liblinear.\n",
      "\n",
      "  warnings.warn(\"Estimator fit failed. The score on this train-test\"\n",
      "/opt/conda/lib/python3.9/site-packages/sklearn/model_selection/_validation.py:610: FitFailedWarning: Estimator fit failed. The score on this train-test partition for these parameters will be set to nan. Details: \n",
      "Traceback (most recent call last):\n",
      "  File \"/opt/conda/lib/python3.9/site-packages/sklearn/model_selection/_validation.py\", line 593, in _fit_and_score\n",
      "    estimator.fit(X_train, y_train, **fit_params)\n",
      "  File \"/opt/conda/lib/python3.9/site-packages/sklearn/pipeline.py\", line 346, in fit\n",
      "    self._final_estimator.fit(Xt, y, **fit_params_last_step)\n",
      "  File \"/opt/conda/lib/python3.9/site-packages/sklearn/linear_model/_logistic.py\", line 1306, in fit\n",
      "    solver = _check_solver(self.solver, self.penalty, self.dual)\n",
      "  File \"/opt/conda/lib/python3.9/site-packages/sklearn/linear_model/_logistic.py\", line 450, in _check_solver\n",
      "    raise ValueError(\"Only 'saga' solver supports elasticnet penalty,\"\n",
      "ValueError: Only 'saga' solver supports elasticnet penalty, got solver=liblinear.\n",
      "\n",
      "  warnings.warn(\"Estimator fit failed. The score on this train-test\"\n",
      "/opt/conda/lib/python3.9/site-packages/sklearn/model_selection/_validation.py:610: FitFailedWarning: Estimator fit failed. The score on this train-test partition for these parameters will be set to nan. Details: \n",
      "Traceback (most recent call last):\n",
      "  File \"/opt/conda/lib/python3.9/site-packages/sklearn/model_selection/_validation.py\", line 593, in _fit_and_score\n",
      "    estimator.fit(X_train, y_train, **fit_params)\n",
      "  File \"/opt/conda/lib/python3.9/site-packages/sklearn/pipeline.py\", line 346, in fit\n",
      "    self._final_estimator.fit(Xt, y, **fit_params_last_step)\n",
      "  File \"/opt/conda/lib/python3.9/site-packages/sklearn/linear_model/_logistic.py\", line 1306, in fit\n",
      "    solver = _check_solver(self.solver, self.penalty, self.dual)\n",
      "  File \"/opt/conda/lib/python3.9/site-packages/sklearn/linear_model/_logistic.py\", line 450, in _check_solver\n",
      "    raise ValueError(\"Only 'saga' solver supports elasticnet penalty,\"\n",
      "ValueError: Only 'saga' solver supports elasticnet penalty, got solver=liblinear.\n",
      "\n",
      "  warnings.warn(\"Estimator fit failed. The score on this train-test\"\n",
      "/opt/conda/lib/python3.9/site-packages/sklearn/model_selection/_validation.py:610: FitFailedWarning: Estimator fit failed. The score on this train-test partition for these parameters will be set to nan. Details: \n",
      "Traceback (most recent call last):\n",
      "  File \"/opt/conda/lib/python3.9/site-packages/sklearn/model_selection/_validation.py\", line 593, in _fit_and_score\n",
      "    estimator.fit(X_train, y_train, **fit_params)\n",
      "  File \"/opt/conda/lib/python3.9/site-packages/sklearn/pipeline.py\", line 346, in fit\n",
      "    self._final_estimator.fit(Xt, y, **fit_params_last_step)\n",
      "  File \"/opt/conda/lib/python3.9/site-packages/sklearn/linear_model/_logistic.py\", line 1306, in fit\n",
      "    solver = _check_solver(self.solver, self.penalty, self.dual)\n",
      "  File \"/opt/conda/lib/python3.9/site-packages/sklearn/linear_model/_logistic.py\", line 443, in _check_solver\n",
      "    raise ValueError(\"Solver %s supports only 'l2' or 'none' penalties, \"\n",
      "ValueError: Solver newton-cg supports only 'l2' or 'none' penalties, got elasticnet penalty.\n",
      "\n",
      "  warnings.warn(\"Estimator fit failed. The score on this train-test\"\n",
      "/opt/conda/lib/python3.9/site-packages/sklearn/model_selection/_validation.py:610: FitFailedWarning: Estimator fit failed. The score on this train-test partition for these parameters will be set to nan. Details: \n",
      "Traceback (most recent call last):\n",
      "  File \"/opt/conda/lib/python3.9/site-packages/sklearn/model_selection/_validation.py\", line 593, in _fit_and_score\n",
      "    estimator.fit(X_train, y_train, **fit_params)\n",
      "  File \"/opt/conda/lib/python3.9/site-packages/sklearn/pipeline.py\", line 346, in fit\n",
      "    self._final_estimator.fit(Xt, y, **fit_params_last_step)\n",
      "  File \"/opt/conda/lib/python3.9/site-packages/sklearn/linear_model/_logistic.py\", line 1306, in fit\n",
      "    solver = _check_solver(self.solver, self.penalty, self.dual)\n",
      "  File \"/opt/conda/lib/python3.9/site-packages/sklearn/linear_model/_logistic.py\", line 443, in _check_solver\n",
      "    raise ValueError(\"Solver %s supports only 'l2' or 'none' penalties, \"\n",
      "ValueError: Solver newton-cg supports only 'l2' or 'none' penalties, got elasticnet penalty.\n",
      "\n",
      "  warnings.warn(\"Estimator fit failed. The score on this train-test\"\n",
      "/opt/conda/lib/python3.9/site-packages/sklearn/model_selection/_validation.py:610: FitFailedWarning: Estimator fit failed. The score on this train-test partition for these parameters will be set to nan. Details: \n",
      "Traceback (most recent call last):\n",
      "  File \"/opt/conda/lib/python3.9/site-packages/sklearn/model_selection/_validation.py\", line 593, in _fit_and_score\n",
      "    estimator.fit(X_train, y_train, **fit_params)\n",
      "  File \"/opt/conda/lib/python3.9/site-packages/sklearn/pipeline.py\", line 346, in fit\n",
      "    self._final_estimator.fit(Xt, y, **fit_params_last_step)\n",
      "  File \"/opt/conda/lib/python3.9/site-packages/sklearn/linear_model/_logistic.py\", line 1306, in fit\n",
      "    solver = _check_solver(self.solver, self.penalty, self.dual)\n",
      "  File \"/opt/conda/lib/python3.9/site-packages/sklearn/linear_model/_logistic.py\", line 443, in _check_solver\n",
      "    raise ValueError(\"Solver %s supports only 'l2' or 'none' penalties, \"\n",
      "ValueError: Solver newton-cg supports only 'l2' or 'none' penalties, got elasticnet penalty.\n",
      "\n",
      "  warnings.warn(\"Estimator fit failed. The score on this train-test\"\n",
      "/opt/conda/lib/python3.9/site-packages/sklearn/model_selection/_validation.py:610: FitFailedWarning: Estimator fit failed. The score on this train-test partition for these parameters will be set to nan. Details: \n",
      "Traceback (most recent call last):\n",
      "  File \"/opt/conda/lib/python3.9/site-packages/sklearn/model_selection/_validation.py\", line 593, in _fit_and_score\n",
      "    estimator.fit(X_train, y_train, **fit_params)\n",
      "  File \"/opt/conda/lib/python3.9/site-packages/sklearn/pipeline.py\", line 346, in fit\n",
      "    self._final_estimator.fit(Xt, y, **fit_params_last_step)\n",
      "  File \"/opt/conda/lib/python3.9/site-packages/sklearn/linear_model/_logistic.py\", line 1306, in fit\n",
      "    solver = _check_solver(self.solver, self.penalty, self.dual)\n",
      "  File \"/opt/conda/lib/python3.9/site-packages/sklearn/linear_model/_logistic.py\", line 434, in _check_solver\n",
      "    raise ValueError(\"Logistic Regression supports only solvers in %s, got\"\n",
      "ValueError: Logistic Regression supports only solvers in ['liblinear', 'newton-cg', 'lbfgs', 'sag', 'saga'], got newton-cholesky.\n",
      "\n",
      "  warnings.warn(\"Estimator fit failed. The score on this train-test\"\n",
      "/opt/conda/lib/python3.9/site-packages/sklearn/model_selection/_validation.py:610: FitFailedWarning: Estimator fit failed. The score on this train-test partition for these parameters will be set to nan. Details: \n",
      "Traceback (most recent call last):\n",
      "  File \"/opt/conda/lib/python3.9/site-packages/sklearn/model_selection/_validation.py\", line 593, in _fit_and_score\n",
      "    estimator.fit(X_train, y_train, **fit_params)\n",
      "  File \"/opt/conda/lib/python3.9/site-packages/sklearn/pipeline.py\", line 346, in fit\n",
      "    self._final_estimator.fit(Xt, y, **fit_params_last_step)\n",
      "  File \"/opt/conda/lib/python3.9/site-packages/sklearn/linear_model/_logistic.py\", line 1306, in fit\n",
      "    solver = _check_solver(self.solver, self.penalty, self.dual)\n",
      "  File \"/opt/conda/lib/python3.9/site-packages/sklearn/linear_model/_logistic.py\", line 434, in _check_solver\n",
      "    raise ValueError(\"Logistic Regression supports only solvers in %s, got\"\n",
      "ValueError: Logistic Regression supports only solvers in ['liblinear', 'newton-cg', 'lbfgs', 'sag', 'saga'], got newton-cholesky.\n",
      "\n",
      "  warnings.warn(\"Estimator fit failed. The score on this train-test\"\n",
      "/opt/conda/lib/python3.9/site-packages/sklearn/model_selection/_validation.py:610: FitFailedWarning: Estimator fit failed. The score on this train-test partition for these parameters will be set to nan. Details: \n",
      "Traceback (most recent call last):\n",
      "  File \"/opt/conda/lib/python3.9/site-packages/sklearn/model_selection/_validation.py\", line 593, in _fit_and_score\n",
      "    estimator.fit(X_train, y_train, **fit_params)\n",
      "  File \"/opt/conda/lib/python3.9/site-packages/sklearn/pipeline.py\", line 346, in fit\n",
      "    self._final_estimator.fit(Xt, y, **fit_params_last_step)\n",
      "  File \"/opt/conda/lib/python3.9/site-packages/sklearn/linear_model/_logistic.py\", line 1306, in fit\n",
      "    solver = _check_solver(self.solver, self.penalty, self.dual)\n",
      "  File \"/opt/conda/lib/python3.9/site-packages/sklearn/linear_model/_logistic.py\", line 434, in _check_solver\n",
      "    raise ValueError(\"Logistic Regression supports only solvers in %s, got\"\n",
      "ValueError: Logistic Regression supports only solvers in ['liblinear', 'newton-cg', 'lbfgs', 'sag', 'saga'], got newton-cholesky.\n",
      "\n",
      "  warnings.warn(\"Estimator fit failed. The score on this train-test\"\n",
      "/opt/conda/lib/python3.9/site-packages/sklearn/model_selection/_validation.py:610: FitFailedWarning: Estimator fit failed. The score on this train-test partition for these parameters will be set to nan. Details: \n",
      "Traceback (most recent call last):\n",
      "  File \"/opt/conda/lib/python3.9/site-packages/sklearn/model_selection/_validation.py\", line 593, in _fit_and_score\n",
      "    estimator.fit(X_train, y_train, **fit_params)\n",
      "  File \"/opt/conda/lib/python3.9/site-packages/sklearn/pipeline.py\", line 346, in fit\n",
      "    self._final_estimator.fit(Xt, y, **fit_params_last_step)\n",
      "  File \"/opt/conda/lib/python3.9/site-packages/sklearn/linear_model/_logistic.py\", line 1306, in fit\n",
      "    solver = _check_solver(self.solver, self.penalty, self.dual)\n",
      "  File \"/opt/conda/lib/python3.9/site-packages/sklearn/linear_model/_logistic.py\", line 443, in _check_solver\n",
      "    raise ValueError(\"Solver %s supports only 'l2' or 'none' penalties, \"\n",
      "ValueError: Solver sag supports only 'l2' or 'none' penalties, got elasticnet penalty.\n",
      "\n",
      "  warnings.warn(\"Estimator fit failed. The score on this train-test\"\n",
      "/opt/conda/lib/python3.9/site-packages/sklearn/model_selection/_validation.py:610: FitFailedWarning: Estimator fit failed. The score on this train-test partition for these parameters will be set to nan. Details: \n",
      "Traceback (most recent call last):\n",
      "  File \"/opt/conda/lib/python3.9/site-packages/sklearn/model_selection/_validation.py\", line 593, in _fit_and_score\n",
      "    estimator.fit(X_train, y_train, **fit_params)\n",
      "  File \"/opt/conda/lib/python3.9/site-packages/sklearn/pipeline.py\", line 346, in fit\n",
      "    self._final_estimator.fit(Xt, y, **fit_params_last_step)\n",
      "  File \"/opt/conda/lib/python3.9/site-packages/sklearn/linear_model/_logistic.py\", line 1306, in fit\n",
      "    solver = _check_solver(self.solver, self.penalty, self.dual)\n",
      "  File \"/opt/conda/lib/python3.9/site-packages/sklearn/linear_model/_logistic.py\", line 443, in _check_solver\n",
      "    raise ValueError(\"Solver %s supports only 'l2' or 'none' penalties, \"\n",
      "ValueError: Solver sag supports only 'l2' or 'none' penalties, got elasticnet penalty.\n",
      "\n",
      "  warnings.warn(\"Estimator fit failed. The score on this train-test\"\n",
      "/opt/conda/lib/python3.9/site-packages/sklearn/model_selection/_validation.py:610: FitFailedWarning: Estimator fit failed. The score on this train-test partition for these parameters will be set to nan. Details: \n",
      "Traceback (most recent call last):\n",
      "  File \"/opt/conda/lib/python3.9/site-packages/sklearn/model_selection/_validation.py\", line 593, in _fit_and_score\n",
      "    estimator.fit(X_train, y_train, **fit_params)\n",
      "  File \"/opt/conda/lib/python3.9/site-packages/sklearn/pipeline.py\", line 346, in fit\n",
      "    self._final_estimator.fit(Xt, y, **fit_params_last_step)\n",
      "  File \"/opt/conda/lib/python3.9/site-packages/sklearn/linear_model/_logistic.py\", line 1306, in fit\n",
      "    solver = _check_solver(self.solver, self.penalty, self.dual)\n",
      "  File \"/opt/conda/lib/python3.9/site-packages/sklearn/linear_model/_logistic.py\", line 443, in _check_solver\n",
      "    raise ValueError(\"Solver %s supports only 'l2' or 'none' penalties, \"\n",
      "ValueError: Solver sag supports only 'l2' or 'none' penalties, got elasticnet penalty.\n",
      "\n",
      "  warnings.warn(\"Estimator fit failed. The score on this train-test\"\n",
      "/opt/conda/lib/python3.9/site-packages/sklearn/model_selection/_validation.py:610: FitFailedWarning: Estimator fit failed. The score on this train-test partition for these parameters will be set to nan. Details: \n",
      "Traceback (most recent call last):\n",
      "  File \"/opt/conda/lib/python3.9/site-packages/sklearn/model_selection/_validation.py\", line 593, in _fit_and_score\n",
      "    estimator.fit(X_train, y_train, **fit_params)\n",
      "  File \"/opt/conda/lib/python3.9/site-packages/sklearn/pipeline.py\", line 346, in fit\n",
      "    self._final_estimator.fit(Xt, y, **fit_params_last_step)\n",
      "  File \"/opt/conda/lib/python3.9/site-packages/sklearn/linear_model/_logistic.py\", line 1314, in fit\n",
      "    raise ValueError(\"l1_ratio must be between 0 and 1;\"\n",
      "ValueError: l1_ratio must be between 0 and 1; got (l1_ratio=None)\n",
      "\n",
      "  warnings.warn(\"Estimator fit failed. The score on this train-test\"\n",
      "/opt/conda/lib/python3.9/site-packages/sklearn/model_selection/_validation.py:610: FitFailedWarning: Estimator fit failed. The score on this train-test partition for these parameters will be set to nan. Details: \n",
      "Traceback (most recent call last):\n",
      "  File \"/opt/conda/lib/python3.9/site-packages/sklearn/model_selection/_validation.py\", line 593, in _fit_and_score\n",
      "    estimator.fit(X_train, y_train, **fit_params)\n",
      "  File \"/opt/conda/lib/python3.9/site-packages/sklearn/pipeline.py\", line 346, in fit\n",
      "    self._final_estimator.fit(Xt, y, **fit_params_last_step)\n",
      "  File \"/opt/conda/lib/python3.9/site-packages/sklearn/linear_model/_logistic.py\", line 1314, in fit\n",
      "    raise ValueError(\"l1_ratio must be between 0 and 1;\"\n",
      "ValueError: l1_ratio must be between 0 and 1; got (l1_ratio=None)\n",
      "\n",
      "  warnings.warn(\"Estimator fit failed. The score on this train-test\"\n",
      "/opt/conda/lib/python3.9/site-packages/sklearn/model_selection/_validation.py:610: FitFailedWarning: Estimator fit failed. The score on this train-test partition for these parameters will be set to nan. Details: \n",
      "Traceback (most recent call last):\n",
      "  File \"/opt/conda/lib/python3.9/site-packages/sklearn/model_selection/_validation.py\", line 593, in _fit_and_score\n",
      "    estimator.fit(X_train, y_train, **fit_params)\n",
      "  File \"/opt/conda/lib/python3.9/site-packages/sklearn/pipeline.py\", line 346, in fit\n",
      "    self._final_estimator.fit(Xt, y, **fit_params_last_step)\n",
      "  File \"/opt/conda/lib/python3.9/site-packages/sklearn/linear_model/_logistic.py\", line 1314, in fit\n",
      "    raise ValueError(\"l1_ratio must be between 0 and 1;\"\n",
      "ValueError: l1_ratio must be between 0 and 1; got (l1_ratio=None)\n",
      "\n",
      "  warnings.warn(\"Estimator fit failed. The score on this train-test\"\n",
      "/opt/conda/lib/python3.9/site-packages/sklearn/model_selection/_validation.py:610: FitFailedWarning: Estimator fit failed. The score on this train-test partition for these parameters will be set to nan. Details: \n",
      "Traceback (most recent call last):\n",
      "  File \"/opt/conda/lib/python3.9/site-packages/sklearn/model_selection/_validation.py\", line 593, in _fit_and_score\n",
      "    estimator.fit(X_train, y_train, **fit_params)\n",
      "  File \"/opt/conda/lib/python3.9/site-packages/sklearn/pipeline.py\", line 346, in fit\n",
      "    self._final_estimator.fit(Xt, y, **fit_params_last_step)\n",
      "  File \"/opt/conda/lib/python3.9/site-packages/sklearn/linear_model/_logistic.py\", line 1306, in fit\n",
      "    solver = _check_solver(self.solver, self.penalty, self.dual)\n",
      "  File \"/opt/conda/lib/python3.9/site-packages/sklearn/linear_model/_logistic.py\", line 443, in _check_solver\n",
      "    raise ValueError(\"Solver %s supports only 'l2' or 'none' penalties, \"\n",
      "ValueError: Solver lbfgs supports only 'l2' or 'none' penalties, got l1 penalty.\n",
      "\n",
      "  warnings.warn(\"Estimator fit failed. The score on this train-test\"\n",
      "/opt/conda/lib/python3.9/site-packages/sklearn/model_selection/_validation.py:610: FitFailedWarning: Estimator fit failed. The score on this train-test partition for these parameters will be set to nan. Details: \n",
      "Traceback (most recent call last):\n",
      "  File \"/opt/conda/lib/python3.9/site-packages/sklearn/model_selection/_validation.py\", line 593, in _fit_and_score\n",
      "    estimator.fit(X_train, y_train, **fit_params)\n",
      "  File \"/opt/conda/lib/python3.9/site-packages/sklearn/pipeline.py\", line 346, in fit\n",
      "    self._final_estimator.fit(Xt, y, **fit_params_last_step)\n",
      "  File \"/opt/conda/lib/python3.9/site-packages/sklearn/linear_model/_logistic.py\", line 1306, in fit\n",
      "    solver = _check_solver(self.solver, self.penalty, self.dual)\n",
      "  File \"/opt/conda/lib/python3.9/site-packages/sklearn/linear_model/_logistic.py\", line 443, in _check_solver\n",
      "    raise ValueError(\"Solver %s supports only 'l2' or 'none' penalties, \"\n",
      "ValueError: Solver lbfgs supports only 'l2' or 'none' penalties, got l1 penalty.\n",
      "\n",
      "  warnings.warn(\"Estimator fit failed. The score on this train-test\"\n",
      "/opt/conda/lib/python3.9/site-packages/sklearn/model_selection/_validation.py:610: FitFailedWarning: Estimator fit failed. The score on this train-test partition for these parameters will be set to nan. Details: \n",
      "Traceback (most recent call last):\n",
      "  File \"/opt/conda/lib/python3.9/site-packages/sklearn/model_selection/_validation.py\", line 593, in _fit_and_score\n",
      "    estimator.fit(X_train, y_train, **fit_params)\n",
      "  File \"/opt/conda/lib/python3.9/site-packages/sklearn/pipeline.py\", line 346, in fit\n",
      "    self._final_estimator.fit(Xt, y, **fit_params_last_step)\n",
      "  File \"/opt/conda/lib/python3.9/site-packages/sklearn/linear_model/_logistic.py\", line 1306, in fit\n",
      "    solver = _check_solver(self.solver, self.penalty, self.dual)\n",
      "  File \"/opt/conda/lib/python3.9/site-packages/sklearn/linear_model/_logistic.py\", line 443, in _check_solver\n",
      "    raise ValueError(\"Solver %s supports only 'l2' or 'none' penalties, \"\n",
      "ValueError: Solver lbfgs supports only 'l2' or 'none' penalties, got l1 penalty.\n",
      "\n",
      "  warnings.warn(\"Estimator fit failed. The score on this train-test\"\n",
      "/opt/conda/lib/python3.9/site-packages/sklearn/model_selection/_validation.py:610: FitFailedWarning: Estimator fit failed. The score on this train-test partition for these parameters will be set to nan. Details: \n",
      "Traceback (most recent call last):\n",
      "  File \"/opt/conda/lib/python3.9/site-packages/sklearn/model_selection/_validation.py\", line 593, in _fit_and_score\n",
      "    estimator.fit(X_train, y_train, **fit_params)\n",
      "  File \"/opt/conda/lib/python3.9/site-packages/sklearn/pipeline.py\", line 346, in fit\n",
      "    self._final_estimator.fit(Xt, y, **fit_params_last_step)\n",
      "  File \"/opt/conda/lib/python3.9/site-packages/sklearn/linear_model/_logistic.py\", line 1306, in fit\n",
      "    solver = _check_solver(self.solver, self.penalty, self.dual)\n",
      "  File \"/opt/conda/lib/python3.9/site-packages/sklearn/linear_model/_logistic.py\", line 443, in _check_solver\n",
      "    raise ValueError(\"Solver %s supports only 'l2' or 'none' penalties, \"\n",
      "ValueError: Solver newton-cg supports only 'l2' or 'none' penalties, got l1 penalty.\n",
      "\n",
      "  warnings.warn(\"Estimator fit failed. The score on this train-test\"\n",
      "/opt/conda/lib/python3.9/site-packages/sklearn/model_selection/_validation.py:610: FitFailedWarning: Estimator fit failed. The score on this train-test partition for these parameters will be set to nan. Details: \n",
      "Traceback (most recent call last):\n",
      "  File \"/opt/conda/lib/python3.9/site-packages/sklearn/model_selection/_validation.py\", line 593, in _fit_and_score\n",
      "    estimator.fit(X_train, y_train, **fit_params)\n",
      "  File \"/opt/conda/lib/python3.9/site-packages/sklearn/pipeline.py\", line 346, in fit\n",
      "    self._final_estimator.fit(Xt, y, **fit_params_last_step)\n",
      "  File \"/opt/conda/lib/python3.9/site-packages/sklearn/linear_model/_logistic.py\", line 1306, in fit\n",
      "    solver = _check_solver(self.solver, self.penalty, self.dual)\n",
      "  File \"/opt/conda/lib/python3.9/site-packages/sklearn/linear_model/_logistic.py\", line 443, in _check_solver\n",
      "    raise ValueError(\"Solver %s supports only 'l2' or 'none' penalties, \"\n",
      "ValueError: Solver newton-cg supports only 'l2' or 'none' penalties, got l1 penalty.\n",
      "\n",
      "  warnings.warn(\"Estimator fit failed. The score on this train-test\"\n",
      "/opt/conda/lib/python3.9/site-packages/sklearn/model_selection/_validation.py:610: FitFailedWarning: Estimator fit failed. The score on this train-test partition for these parameters will be set to nan. Details: \n",
      "Traceback (most recent call last):\n",
      "  File \"/opt/conda/lib/python3.9/site-packages/sklearn/model_selection/_validation.py\", line 593, in _fit_and_score\n",
      "    estimator.fit(X_train, y_train, **fit_params)\n",
      "  File \"/opt/conda/lib/python3.9/site-packages/sklearn/pipeline.py\", line 346, in fit\n",
      "    self._final_estimator.fit(Xt, y, **fit_params_last_step)\n",
      "  File \"/opt/conda/lib/python3.9/site-packages/sklearn/linear_model/_logistic.py\", line 1306, in fit\n",
      "    solver = _check_solver(self.solver, self.penalty, self.dual)\n",
      "  File \"/opt/conda/lib/python3.9/site-packages/sklearn/linear_model/_logistic.py\", line 443, in _check_solver\n",
      "    raise ValueError(\"Solver %s supports only 'l2' or 'none' penalties, \"\n",
      "ValueError: Solver newton-cg supports only 'l2' or 'none' penalties, got l1 penalty.\n",
      "\n",
      "  warnings.warn(\"Estimator fit failed. The score on this train-test\"\n",
      "/opt/conda/lib/python3.9/site-packages/sklearn/model_selection/_validation.py:610: FitFailedWarning: Estimator fit failed. The score on this train-test partition for these parameters will be set to nan. Details: \n",
      "Traceback (most recent call last):\n",
      "  File \"/opt/conda/lib/python3.9/site-packages/sklearn/model_selection/_validation.py\", line 593, in _fit_and_score\n",
      "    estimator.fit(X_train, y_train, **fit_params)\n",
      "  File \"/opt/conda/lib/python3.9/site-packages/sklearn/pipeline.py\", line 346, in fit\n",
      "    self._final_estimator.fit(Xt, y, **fit_params_last_step)\n",
      "  File \"/opt/conda/lib/python3.9/site-packages/sklearn/linear_model/_logistic.py\", line 1306, in fit\n",
      "    solver = _check_solver(self.solver, self.penalty, self.dual)\n",
      "  File \"/opt/conda/lib/python3.9/site-packages/sklearn/linear_model/_logistic.py\", line 434, in _check_solver\n",
      "    raise ValueError(\"Logistic Regression supports only solvers in %s, got\"\n",
      "ValueError: Logistic Regression supports only solvers in ['liblinear', 'newton-cg', 'lbfgs', 'sag', 'saga'], got newton-cholesky.\n",
      "\n",
      "  warnings.warn(\"Estimator fit failed. The score on this train-test\"\n",
      "/opt/conda/lib/python3.9/site-packages/sklearn/model_selection/_validation.py:610: FitFailedWarning: Estimator fit failed. The score on this train-test partition for these parameters will be set to nan. Details: \n",
      "Traceback (most recent call last):\n",
      "  File \"/opt/conda/lib/python3.9/site-packages/sklearn/model_selection/_validation.py\", line 593, in _fit_and_score\n",
      "    estimator.fit(X_train, y_train, **fit_params)\n",
      "  File \"/opt/conda/lib/python3.9/site-packages/sklearn/pipeline.py\", line 346, in fit\n",
      "    self._final_estimator.fit(Xt, y, **fit_params_last_step)\n",
      "  File \"/opt/conda/lib/python3.9/site-packages/sklearn/linear_model/_logistic.py\", line 1306, in fit\n",
      "    solver = _check_solver(self.solver, self.penalty, self.dual)\n",
      "  File \"/opt/conda/lib/python3.9/site-packages/sklearn/linear_model/_logistic.py\", line 434, in _check_solver\n",
      "    raise ValueError(\"Logistic Regression supports only solvers in %s, got\"\n",
      "ValueError: Logistic Regression supports only solvers in ['liblinear', 'newton-cg', 'lbfgs', 'sag', 'saga'], got newton-cholesky.\n",
      "\n",
      "  warnings.warn(\"Estimator fit failed. The score on this train-test\"\n",
      "/opt/conda/lib/python3.9/site-packages/sklearn/model_selection/_validation.py:610: FitFailedWarning: Estimator fit failed. The score on this train-test partition for these parameters will be set to nan. Details: \n",
      "Traceback (most recent call last):\n",
      "  File \"/opt/conda/lib/python3.9/site-packages/sklearn/model_selection/_validation.py\", line 593, in _fit_and_score\n",
      "    estimator.fit(X_train, y_train, **fit_params)\n",
      "  File \"/opt/conda/lib/python3.9/site-packages/sklearn/pipeline.py\", line 346, in fit\n",
      "    self._final_estimator.fit(Xt, y, **fit_params_last_step)\n",
      "  File \"/opt/conda/lib/python3.9/site-packages/sklearn/linear_model/_logistic.py\", line 1306, in fit\n",
      "    solver = _check_solver(self.solver, self.penalty, self.dual)\n",
      "  File \"/opt/conda/lib/python3.9/site-packages/sklearn/linear_model/_logistic.py\", line 434, in _check_solver\n",
      "    raise ValueError(\"Logistic Regression supports only solvers in %s, got\"\n",
      "ValueError: Logistic Regression supports only solvers in ['liblinear', 'newton-cg', 'lbfgs', 'sag', 'saga'], got newton-cholesky.\n",
      "\n",
      "  warnings.warn(\"Estimator fit failed. The score on this train-test\"\n",
      "/opt/conda/lib/python3.9/site-packages/sklearn/model_selection/_validation.py:610: FitFailedWarning: Estimator fit failed. The score on this train-test partition for these parameters will be set to nan. Details: \n",
      "Traceback (most recent call last):\n",
      "  File \"/opt/conda/lib/python3.9/site-packages/sklearn/model_selection/_validation.py\", line 593, in _fit_and_score\n",
      "    estimator.fit(X_train, y_train, **fit_params)\n",
      "  File \"/opt/conda/lib/python3.9/site-packages/sklearn/pipeline.py\", line 346, in fit\n",
      "    self._final_estimator.fit(Xt, y, **fit_params_last_step)\n",
      "  File \"/opt/conda/lib/python3.9/site-packages/sklearn/linear_model/_logistic.py\", line 1306, in fit\n",
      "    solver = _check_solver(self.solver, self.penalty, self.dual)\n",
      "  File \"/opt/conda/lib/python3.9/site-packages/sklearn/linear_model/_logistic.py\", line 443, in _check_solver\n",
      "    raise ValueError(\"Solver %s supports only 'l2' or 'none' penalties, \"\n",
      "ValueError: Solver sag supports only 'l2' or 'none' penalties, got l1 penalty.\n",
      "\n",
      "  warnings.warn(\"Estimator fit failed. The score on this train-test\"\n",
      "/opt/conda/lib/python3.9/site-packages/sklearn/model_selection/_validation.py:610: FitFailedWarning: Estimator fit failed. The score on this train-test partition for these parameters will be set to nan. Details: \n",
      "Traceback (most recent call last):\n",
      "  File \"/opt/conda/lib/python3.9/site-packages/sklearn/model_selection/_validation.py\", line 593, in _fit_and_score\n",
      "    estimator.fit(X_train, y_train, **fit_params)\n",
      "  File \"/opt/conda/lib/python3.9/site-packages/sklearn/pipeline.py\", line 346, in fit\n",
      "    self._final_estimator.fit(Xt, y, **fit_params_last_step)\n",
      "  File \"/opt/conda/lib/python3.9/site-packages/sklearn/linear_model/_logistic.py\", line 1306, in fit\n",
      "    solver = _check_solver(self.solver, self.penalty, self.dual)\n",
      "  File \"/opt/conda/lib/python3.9/site-packages/sklearn/linear_model/_logistic.py\", line 443, in _check_solver\n",
      "    raise ValueError(\"Solver %s supports only 'l2' or 'none' penalties, \"\n",
      "ValueError: Solver sag supports only 'l2' or 'none' penalties, got l1 penalty.\n",
      "\n",
      "  warnings.warn(\"Estimator fit failed. The score on this train-test\"\n",
      "/opt/conda/lib/python3.9/site-packages/sklearn/model_selection/_validation.py:610: FitFailedWarning: Estimator fit failed. The score on this train-test partition for these parameters will be set to nan. Details: \n",
      "Traceback (most recent call last):\n",
      "  File \"/opt/conda/lib/python3.9/site-packages/sklearn/model_selection/_validation.py\", line 593, in _fit_and_score\n",
      "    estimator.fit(X_train, y_train, **fit_params)\n",
      "  File \"/opt/conda/lib/python3.9/site-packages/sklearn/pipeline.py\", line 346, in fit\n",
      "    self._final_estimator.fit(Xt, y, **fit_params_last_step)\n",
      "  File \"/opt/conda/lib/python3.9/site-packages/sklearn/linear_model/_logistic.py\", line 1306, in fit\n",
      "    solver = _check_solver(self.solver, self.penalty, self.dual)\n",
      "  File \"/opt/conda/lib/python3.9/site-packages/sklearn/linear_model/_logistic.py\", line 443, in _check_solver\n",
      "    raise ValueError(\"Solver %s supports only 'l2' or 'none' penalties, \"\n",
      "ValueError: Solver sag supports only 'l2' or 'none' penalties, got l1 penalty.\n",
      "\n",
      "  warnings.warn(\"Estimator fit failed. The score on this train-test\"\n",
      "/opt/conda/lib/python3.9/site-packages/sklearn/linear_model/_logistic.py:763: ConvergenceWarning: lbfgs failed to converge (status=1):\n",
      "STOP: TOTAL NO. of ITERATIONS REACHED LIMIT.\n",
      "\n",
      "Increase the number of iterations (max_iter) or scale the data as shown in:\n",
      "    https://scikit-learn.org/stable/modules/preprocessing.html\n",
      "Please also refer to the documentation for alternative solver options:\n",
      "    https://scikit-learn.org/stable/modules/linear_model.html#logistic-regression\n",
      "  n_iter_i = _check_optimize_result(\n",
      "/opt/conda/lib/python3.9/site-packages/sklearn/model_selection/_validation.py:610: FitFailedWarning: Estimator fit failed. The score on this train-test partition for these parameters will be set to nan. Details: \n",
      "Traceback (most recent call last):\n",
      "  File \"/opt/conda/lib/python3.9/site-packages/sklearn/model_selection/_validation.py\", line 593, in _fit_and_score\n",
      "    estimator.fit(X_train, y_train, **fit_params)\n",
      "  File \"/opt/conda/lib/python3.9/site-packages/sklearn/pipeline.py\", line 346, in fit\n",
      "    self._final_estimator.fit(Xt, y, **fit_params_last_step)\n",
      "  File \"/opt/conda/lib/python3.9/site-packages/sklearn/linear_model/_logistic.py\", line 1306, in fit\n",
      "    solver = _check_solver(self.solver, self.penalty, self.dual)\n",
      "  File \"/opt/conda/lib/python3.9/site-packages/sklearn/linear_model/_logistic.py\", line 434, in _check_solver\n",
      "    raise ValueError(\"Logistic Regression supports only solvers in %s, got\"\n",
      "ValueError: Logistic Regression supports only solvers in ['liblinear', 'newton-cg', 'lbfgs', 'sag', 'saga'], got newton-cholesky.\n",
      "\n",
      "  warnings.warn(\"Estimator fit failed. The score on this train-test\"\n",
      "/opt/conda/lib/python3.9/site-packages/sklearn/model_selection/_validation.py:610: FitFailedWarning: Estimator fit failed. The score on this train-test partition for these parameters will be set to nan. Details: \n",
      "Traceback (most recent call last):\n",
      "  File \"/opt/conda/lib/python3.9/site-packages/sklearn/model_selection/_validation.py\", line 593, in _fit_and_score\n",
      "    estimator.fit(X_train, y_train, **fit_params)\n",
      "  File \"/opt/conda/lib/python3.9/site-packages/sklearn/pipeline.py\", line 346, in fit\n",
      "    self._final_estimator.fit(Xt, y, **fit_params_last_step)\n",
      "  File \"/opt/conda/lib/python3.9/site-packages/sklearn/linear_model/_logistic.py\", line 1306, in fit\n",
      "    solver = _check_solver(self.solver, self.penalty, self.dual)\n",
      "  File \"/opt/conda/lib/python3.9/site-packages/sklearn/linear_model/_logistic.py\", line 434, in _check_solver\n",
      "    raise ValueError(\"Logistic Regression supports only solvers in %s, got\"\n",
      "ValueError: Logistic Regression supports only solvers in ['liblinear', 'newton-cg', 'lbfgs', 'sag', 'saga'], got newton-cholesky.\n",
      "\n",
      "  warnings.warn(\"Estimator fit failed. The score on this train-test\"\n",
      "/opt/conda/lib/python3.9/site-packages/sklearn/model_selection/_validation.py:610: FitFailedWarning: Estimator fit failed. The score on this train-test partition for these parameters will be set to nan. Details: \n",
      "Traceback (most recent call last):\n",
      "  File \"/opt/conda/lib/python3.9/site-packages/sklearn/model_selection/_validation.py\", line 593, in _fit_and_score\n",
      "    estimator.fit(X_train, y_train, **fit_params)\n",
      "  File \"/opt/conda/lib/python3.9/site-packages/sklearn/pipeline.py\", line 346, in fit\n",
      "    self._final_estimator.fit(Xt, y, **fit_params_last_step)\n",
      "  File \"/opt/conda/lib/python3.9/site-packages/sklearn/linear_model/_logistic.py\", line 1306, in fit\n",
      "    solver = _check_solver(self.solver, self.penalty, self.dual)\n",
      "  File \"/opt/conda/lib/python3.9/site-packages/sklearn/linear_model/_logistic.py\", line 434, in _check_solver\n",
      "    raise ValueError(\"Logistic Regression supports only solvers in %s, got\"\n",
      "ValueError: Logistic Regression supports only solvers in ['liblinear', 'newton-cg', 'lbfgs', 'sag', 'saga'], got newton-cholesky.\n",
      "\n",
      "  warnings.warn(\"Estimator fit failed. The score on this train-test\"\n",
      "/opt/conda/lib/python3.9/site-packages/sklearn/model_selection/_validation.py:610: FitFailedWarning: Estimator fit failed. The score on this train-test partition for these parameters will be set to nan. Details: \n",
      "Traceback (most recent call last):\n",
      "  File \"/opt/conda/lib/python3.9/site-packages/sklearn/model_selection/_validation.py\", line 593, in _fit_and_score\n",
      "    estimator.fit(X_train, y_train, **fit_params)\n",
      "  File \"/opt/conda/lib/python3.9/site-packages/sklearn/pipeline.py\", line 346, in fit\n",
      "    self._final_estimator.fit(Xt, y, **fit_params_last_step)\n",
      "  File \"/opt/conda/lib/python3.9/site-packages/sklearn/linear_model/_logistic.py\", line 1306, in fit\n",
      "    solver = _check_solver(self.solver, self.penalty, self.dual)\n",
      "  File \"/opt/conda/lib/python3.9/site-packages/sklearn/linear_model/_logistic.py\", line 443, in _check_solver\n",
      "    raise ValueError(\"Solver %s supports only 'l2' or 'none' penalties, \"\n",
      "ValueError: Solver lbfgs supports only 'l2' or 'none' penalties, got elasticnet penalty.\n",
      "\n",
      "  warnings.warn(\"Estimator fit failed. The score on this train-test\"\n",
      "/opt/conda/lib/python3.9/site-packages/sklearn/model_selection/_validation.py:610: FitFailedWarning: Estimator fit failed. The score on this train-test partition for these parameters will be set to nan. Details: \n",
      "Traceback (most recent call last):\n",
      "  File \"/opt/conda/lib/python3.9/site-packages/sklearn/model_selection/_validation.py\", line 593, in _fit_and_score\n",
      "    estimator.fit(X_train, y_train, **fit_params)\n",
      "  File \"/opt/conda/lib/python3.9/site-packages/sklearn/pipeline.py\", line 346, in fit\n",
      "    self._final_estimator.fit(Xt, y, **fit_params_last_step)\n",
      "  File \"/opt/conda/lib/python3.9/site-packages/sklearn/linear_model/_logistic.py\", line 1306, in fit\n",
      "    solver = _check_solver(self.solver, self.penalty, self.dual)\n",
      "  File \"/opt/conda/lib/python3.9/site-packages/sklearn/linear_model/_logistic.py\", line 443, in _check_solver\n",
      "    raise ValueError(\"Solver %s supports only 'l2' or 'none' penalties, \"\n",
      "ValueError: Solver lbfgs supports only 'l2' or 'none' penalties, got elasticnet penalty.\n",
      "\n",
      "  warnings.warn(\"Estimator fit failed. The score on this train-test\"\n",
      "/opt/conda/lib/python3.9/site-packages/sklearn/model_selection/_validation.py:610: FitFailedWarning: Estimator fit failed. The score on this train-test partition for these parameters will be set to nan. Details: \n",
      "Traceback (most recent call last):\n",
      "  File \"/opt/conda/lib/python3.9/site-packages/sklearn/model_selection/_validation.py\", line 593, in _fit_and_score\n",
      "    estimator.fit(X_train, y_train, **fit_params)\n",
      "  File \"/opt/conda/lib/python3.9/site-packages/sklearn/pipeline.py\", line 346, in fit\n",
      "    self._final_estimator.fit(Xt, y, **fit_params_last_step)\n",
      "  File \"/opt/conda/lib/python3.9/site-packages/sklearn/linear_model/_logistic.py\", line 1306, in fit\n",
      "    solver = _check_solver(self.solver, self.penalty, self.dual)\n",
      "  File \"/opt/conda/lib/python3.9/site-packages/sklearn/linear_model/_logistic.py\", line 443, in _check_solver\n",
      "    raise ValueError(\"Solver %s supports only 'l2' or 'none' penalties, \"\n",
      "ValueError: Solver lbfgs supports only 'l2' or 'none' penalties, got elasticnet penalty.\n",
      "\n",
      "  warnings.warn(\"Estimator fit failed. The score on this train-test\"\n",
      "/opt/conda/lib/python3.9/site-packages/sklearn/model_selection/_validation.py:610: FitFailedWarning: Estimator fit failed. The score on this train-test partition for these parameters will be set to nan. Details: \n",
      "Traceback (most recent call last):\n",
      "  File \"/opt/conda/lib/python3.9/site-packages/sklearn/model_selection/_validation.py\", line 593, in _fit_and_score\n",
      "    estimator.fit(X_train, y_train, **fit_params)\n",
      "  File \"/opt/conda/lib/python3.9/site-packages/sklearn/pipeline.py\", line 346, in fit\n",
      "    self._final_estimator.fit(Xt, y, **fit_params_last_step)\n",
      "  File \"/opt/conda/lib/python3.9/site-packages/sklearn/linear_model/_logistic.py\", line 1306, in fit\n",
      "    solver = _check_solver(self.solver, self.penalty, self.dual)\n",
      "  File \"/opt/conda/lib/python3.9/site-packages/sklearn/linear_model/_logistic.py\", line 450, in _check_solver\n",
      "    raise ValueError(\"Only 'saga' solver supports elasticnet penalty,\"\n",
      "ValueError: Only 'saga' solver supports elasticnet penalty, got solver=liblinear.\n",
      "\n",
      "  warnings.warn(\"Estimator fit failed. The score on this train-test\"\n",
      "/opt/conda/lib/python3.9/site-packages/sklearn/model_selection/_validation.py:610: FitFailedWarning: Estimator fit failed. The score on this train-test partition for these parameters will be set to nan. Details: \n",
      "Traceback (most recent call last):\n",
      "  File \"/opt/conda/lib/python3.9/site-packages/sklearn/model_selection/_validation.py\", line 593, in _fit_and_score\n",
      "    estimator.fit(X_train, y_train, **fit_params)\n",
      "  File \"/opt/conda/lib/python3.9/site-packages/sklearn/pipeline.py\", line 346, in fit\n",
      "    self._final_estimator.fit(Xt, y, **fit_params_last_step)\n",
      "  File \"/opt/conda/lib/python3.9/site-packages/sklearn/linear_model/_logistic.py\", line 1306, in fit\n",
      "    solver = _check_solver(self.solver, self.penalty, self.dual)\n",
      "  File \"/opt/conda/lib/python3.9/site-packages/sklearn/linear_model/_logistic.py\", line 450, in _check_solver\n",
      "    raise ValueError(\"Only 'saga' solver supports elasticnet penalty,\"\n",
      "ValueError: Only 'saga' solver supports elasticnet penalty, got solver=liblinear.\n",
      "\n",
      "  warnings.warn(\"Estimator fit failed. The score on this train-test\"\n",
      "/opt/conda/lib/python3.9/site-packages/sklearn/model_selection/_validation.py:610: FitFailedWarning: Estimator fit failed. The score on this train-test partition for these parameters will be set to nan. Details: \n",
      "Traceback (most recent call last):\n",
      "  File \"/opt/conda/lib/python3.9/site-packages/sklearn/model_selection/_validation.py\", line 593, in _fit_and_score\n",
      "    estimator.fit(X_train, y_train, **fit_params)\n",
      "  File \"/opt/conda/lib/python3.9/site-packages/sklearn/pipeline.py\", line 346, in fit\n",
      "    self._final_estimator.fit(Xt, y, **fit_params_last_step)\n",
      "  File \"/opt/conda/lib/python3.9/site-packages/sklearn/linear_model/_logistic.py\", line 1306, in fit\n",
      "    solver = _check_solver(self.solver, self.penalty, self.dual)\n",
      "  File \"/opt/conda/lib/python3.9/site-packages/sklearn/linear_model/_logistic.py\", line 450, in _check_solver\n",
      "    raise ValueError(\"Only 'saga' solver supports elasticnet penalty,\"\n",
      "ValueError: Only 'saga' solver supports elasticnet penalty, got solver=liblinear.\n",
      "\n",
      "  warnings.warn(\"Estimator fit failed. The score on this train-test\"\n",
      "/opt/conda/lib/python3.9/site-packages/sklearn/model_selection/_validation.py:610: FitFailedWarning: Estimator fit failed. The score on this train-test partition for these parameters will be set to nan. Details: \n",
      "Traceback (most recent call last):\n",
      "  File \"/opt/conda/lib/python3.9/site-packages/sklearn/model_selection/_validation.py\", line 593, in _fit_and_score\n",
      "    estimator.fit(X_train, y_train, **fit_params)\n",
      "  File \"/opt/conda/lib/python3.9/site-packages/sklearn/pipeline.py\", line 346, in fit\n",
      "    self._final_estimator.fit(Xt, y, **fit_params_last_step)\n",
      "  File \"/opt/conda/lib/python3.9/site-packages/sklearn/linear_model/_logistic.py\", line 1306, in fit\n",
      "    solver = _check_solver(self.solver, self.penalty, self.dual)\n",
      "  File \"/opt/conda/lib/python3.9/site-packages/sklearn/linear_model/_logistic.py\", line 443, in _check_solver\n",
      "    raise ValueError(\"Solver %s supports only 'l2' or 'none' penalties, \"\n",
      "ValueError: Solver newton-cg supports only 'l2' or 'none' penalties, got elasticnet penalty.\n",
      "\n",
      "  warnings.warn(\"Estimator fit failed. The score on this train-test\"\n",
      "/opt/conda/lib/python3.9/site-packages/sklearn/model_selection/_validation.py:610: FitFailedWarning: Estimator fit failed. The score on this train-test partition for these parameters will be set to nan. Details: \n",
      "Traceback (most recent call last):\n",
      "  File \"/opt/conda/lib/python3.9/site-packages/sklearn/model_selection/_validation.py\", line 593, in _fit_and_score\n",
      "    estimator.fit(X_train, y_train, **fit_params)\n",
      "  File \"/opt/conda/lib/python3.9/site-packages/sklearn/pipeline.py\", line 346, in fit\n",
      "    self._final_estimator.fit(Xt, y, **fit_params_last_step)\n",
      "  File \"/opt/conda/lib/python3.9/site-packages/sklearn/linear_model/_logistic.py\", line 1306, in fit\n",
      "    solver = _check_solver(self.solver, self.penalty, self.dual)\n",
      "  File \"/opt/conda/lib/python3.9/site-packages/sklearn/linear_model/_logistic.py\", line 443, in _check_solver\n",
      "    raise ValueError(\"Solver %s supports only 'l2' or 'none' penalties, \"\n",
      "ValueError: Solver newton-cg supports only 'l2' or 'none' penalties, got elasticnet penalty.\n",
      "\n",
      "  warnings.warn(\"Estimator fit failed. The score on this train-test\"\n",
      "/opt/conda/lib/python3.9/site-packages/sklearn/model_selection/_validation.py:610: FitFailedWarning: Estimator fit failed. The score on this train-test partition for these parameters will be set to nan. Details: \n",
      "Traceback (most recent call last):\n",
      "  File \"/opt/conda/lib/python3.9/site-packages/sklearn/model_selection/_validation.py\", line 593, in _fit_and_score\n",
      "    estimator.fit(X_train, y_train, **fit_params)\n",
      "  File \"/opt/conda/lib/python3.9/site-packages/sklearn/pipeline.py\", line 346, in fit\n",
      "    self._final_estimator.fit(Xt, y, **fit_params_last_step)\n",
      "  File \"/opt/conda/lib/python3.9/site-packages/sklearn/linear_model/_logistic.py\", line 1306, in fit\n",
      "    solver = _check_solver(self.solver, self.penalty, self.dual)\n",
      "  File \"/opt/conda/lib/python3.9/site-packages/sklearn/linear_model/_logistic.py\", line 443, in _check_solver\n",
      "    raise ValueError(\"Solver %s supports only 'l2' or 'none' penalties, \"\n",
      "ValueError: Solver newton-cg supports only 'l2' or 'none' penalties, got elasticnet penalty.\n",
      "\n",
      "  warnings.warn(\"Estimator fit failed. The score on this train-test\"\n",
      "/opt/conda/lib/python3.9/site-packages/sklearn/model_selection/_validation.py:610: FitFailedWarning: Estimator fit failed. The score on this train-test partition for these parameters will be set to nan. Details: \n",
      "Traceback (most recent call last):\n",
      "  File \"/opt/conda/lib/python3.9/site-packages/sklearn/model_selection/_validation.py\", line 593, in _fit_and_score\n",
      "    estimator.fit(X_train, y_train, **fit_params)\n",
      "  File \"/opt/conda/lib/python3.9/site-packages/sklearn/pipeline.py\", line 346, in fit\n",
      "    self._final_estimator.fit(Xt, y, **fit_params_last_step)\n",
      "  File \"/opt/conda/lib/python3.9/site-packages/sklearn/linear_model/_logistic.py\", line 1306, in fit\n",
      "    solver = _check_solver(self.solver, self.penalty, self.dual)\n",
      "  File \"/opt/conda/lib/python3.9/site-packages/sklearn/linear_model/_logistic.py\", line 434, in _check_solver\n",
      "    raise ValueError(\"Logistic Regression supports only solvers in %s, got\"\n",
      "ValueError: Logistic Regression supports only solvers in ['liblinear', 'newton-cg', 'lbfgs', 'sag', 'saga'], got newton-cholesky.\n",
      "\n",
      "  warnings.warn(\"Estimator fit failed. The score on this train-test\"\n",
      "/opt/conda/lib/python3.9/site-packages/sklearn/model_selection/_validation.py:610: FitFailedWarning: Estimator fit failed. The score on this train-test partition for these parameters will be set to nan. Details: \n",
      "Traceback (most recent call last):\n",
      "  File \"/opt/conda/lib/python3.9/site-packages/sklearn/model_selection/_validation.py\", line 593, in _fit_and_score\n",
      "    estimator.fit(X_train, y_train, **fit_params)\n",
      "  File \"/opt/conda/lib/python3.9/site-packages/sklearn/pipeline.py\", line 346, in fit\n",
      "    self._final_estimator.fit(Xt, y, **fit_params_last_step)\n",
      "  File \"/opt/conda/lib/python3.9/site-packages/sklearn/linear_model/_logistic.py\", line 1306, in fit\n",
      "    solver = _check_solver(self.solver, self.penalty, self.dual)\n",
      "  File \"/opt/conda/lib/python3.9/site-packages/sklearn/linear_model/_logistic.py\", line 434, in _check_solver\n",
      "    raise ValueError(\"Logistic Regression supports only solvers in %s, got\"\n",
      "ValueError: Logistic Regression supports only solvers in ['liblinear', 'newton-cg', 'lbfgs', 'sag', 'saga'], got newton-cholesky.\n",
      "\n",
      "  warnings.warn(\"Estimator fit failed. The score on this train-test\"\n",
      "/opt/conda/lib/python3.9/site-packages/sklearn/model_selection/_validation.py:610: FitFailedWarning: Estimator fit failed. The score on this train-test partition for these parameters will be set to nan. Details: \n",
      "Traceback (most recent call last):\n",
      "  File \"/opt/conda/lib/python3.9/site-packages/sklearn/model_selection/_validation.py\", line 593, in _fit_and_score\n",
      "    estimator.fit(X_train, y_train, **fit_params)\n",
      "  File \"/opt/conda/lib/python3.9/site-packages/sklearn/pipeline.py\", line 346, in fit\n",
      "    self._final_estimator.fit(Xt, y, **fit_params_last_step)\n",
      "  File \"/opt/conda/lib/python3.9/site-packages/sklearn/linear_model/_logistic.py\", line 1306, in fit\n",
      "    solver = _check_solver(self.solver, self.penalty, self.dual)\n",
      "  File \"/opt/conda/lib/python3.9/site-packages/sklearn/linear_model/_logistic.py\", line 434, in _check_solver\n",
      "    raise ValueError(\"Logistic Regression supports only solvers in %s, got\"\n",
      "ValueError: Logistic Regression supports only solvers in ['liblinear', 'newton-cg', 'lbfgs', 'sag', 'saga'], got newton-cholesky.\n",
      "\n",
      "  warnings.warn(\"Estimator fit failed. The score on this train-test\"\n",
      "/opt/conda/lib/python3.9/site-packages/sklearn/model_selection/_validation.py:610: FitFailedWarning: Estimator fit failed. The score on this train-test partition for these parameters will be set to nan. Details: \n",
      "Traceback (most recent call last):\n",
      "  File \"/opt/conda/lib/python3.9/site-packages/sklearn/model_selection/_validation.py\", line 593, in _fit_and_score\n",
      "    estimator.fit(X_train, y_train, **fit_params)\n",
      "  File \"/opt/conda/lib/python3.9/site-packages/sklearn/pipeline.py\", line 346, in fit\n",
      "    self._final_estimator.fit(Xt, y, **fit_params_last_step)\n",
      "  File \"/opt/conda/lib/python3.9/site-packages/sklearn/linear_model/_logistic.py\", line 1306, in fit\n",
      "    solver = _check_solver(self.solver, self.penalty, self.dual)\n",
      "  File \"/opt/conda/lib/python3.9/site-packages/sklearn/linear_model/_logistic.py\", line 443, in _check_solver\n",
      "    raise ValueError(\"Solver %s supports only 'l2' or 'none' penalties, \"\n",
      "ValueError: Solver sag supports only 'l2' or 'none' penalties, got elasticnet penalty.\n",
      "\n",
      "  warnings.warn(\"Estimator fit failed. The score on this train-test\"\n",
      "/opt/conda/lib/python3.9/site-packages/sklearn/model_selection/_validation.py:610: FitFailedWarning: Estimator fit failed. The score on this train-test partition for these parameters will be set to nan. Details: \n",
      "Traceback (most recent call last):\n",
      "  File \"/opt/conda/lib/python3.9/site-packages/sklearn/model_selection/_validation.py\", line 593, in _fit_and_score\n",
      "    estimator.fit(X_train, y_train, **fit_params)\n",
      "  File \"/opt/conda/lib/python3.9/site-packages/sklearn/pipeline.py\", line 346, in fit\n",
      "    self._final_estimator.fit(Xt, y, **fit_params_last_step)\n",
      "  File \"/opt/conda/lib/python3.9/site-packages/sklearn/linear_model/_logistic.py\", line 1306, in fit\n",
      "    solver = _check_solver(self.solver, self.penalty, self.dual)\n",
      "  File \"/opt/conda/lib/python3.9/site-packages/sklearn/linear_model/_logistic.py\", line 443, in _check_solver\n",
      "    raise ValueError(\"Solver %s supports only 'l2' or 'none' penalties, \"\n",
      "ValueError: Solver sag supports only 'l2' or 'none' penalties, got elasticnet penalty.\n",
      "\n",
      "  warnings.warn(\"Estimator fit failed. The score on this train-test\"\n",
      "/opt/conda/lib/python3.9/site-packages/sklearn/model_selection/_validation.py:610: FitFailedWarning: Estimator fit failed. The score on this train-test partition for these parameters will be set to nan. Details: \n",
      "Traceback (most recent call last):\n",
      "  File \"/opt/conda/lib/python3.9/site-packages/sklearn/model_selection/_validation.py\", line 593, in _fit_and_score\n",
      "    estimator.fit(X_train, y_train, **fit_params)\n",
      "  File \"/opt/conda/lib/python3.9/site-packages/sklearn/pipeline.py\", line 346, in fit\n",
      "    self._final_estimator.fit(Xt, y, **fit_params_last_step)\n",
      "  File \"/opt/conda/lib/python3.9/site-packages/sklearn/linear_model/_logistic.py\", line 1306, in fit\n",
      "    solver = _check_solver(self.solver, self.penalty, self.dual)\n",
      "  File \"/opt/conda/lib/python3.9/site-packages/sklearn/linear_model/_logistic.py\", line 443, in _check_solver\n",
      "    raise ValueError(\"Solver %s supports only 'l2' or 'none' penalties, \"\n",
      "ValueError: Solver sag supports only 'l2' or 'none' penalties, got elasticnet penalty.\n",
      "\n",
      "  warnings.warn(\"Estimator fit failed. The score on this train-test\"\n",
      "/opt/conda/lib/python3.9/site-packages/sklearn/model_selection/_validation.py:610: FitFailedWarning: Estimator fit failed. The score on this train-test partition for these parameters will be set to nan. Details: \n",
      "Traceback (most recent call last):\n",
      "  File \"/opt/conda/lib/python3.9/site-packages/sklearn/model_selection/_validation.py\", line 593, in _fit_and_score\n",
      "    estimator.fit(X_train, y_train, **fit_params)\n",
      "  File \"/opt/conda/lib/python3.9/site-packages/sklearn/pipeline.py\", line 346, in fit\n",
      "    self._final_estimator.fit(Xt, y, **fit_params_last_step)\n",
      "  File \"/opt/conda/lib/python3.9/site-packages/sklearn/linear_model/_logistic.py\", line 1314, in fit\n",
      "    raise ValueError(\"l1_ratio must be between 0 and 1;\"\n",
      "ValueError: l1_ratio must be between 0 and 1; got (l1_ratio=None)\n",
      "\n",
      "  warnings.warn(\"Estimator fit failed. The score on this train-test\"\n",
      "/opt/conda/lib/python3.9/site-packages/sklearn/model_selection/_validation.py:610: FitFailedWarning: Estimator fit failed. The score on this train-test partition for these parameters will be set to nan. Details: \n",
      "Traceback (most recent call last):\n",
      "  File \"/opt/conda/lib/python3.9/site-packages/sklearn/model_selection/_validation.py\", line 593, in _fit_and_score\n",
      "    estimator.fit(X_train, y_train, **fit_params)\n",
      "  File \"/opt/conda/lib/python3.9/site-packages/sklearn/pipeline.py\", line 346, in fit\n",
      "    self._final_estimator.fit(Xt, y, **fit_params_last_step)\n",
      "  File \"/opt/conda/lib/python3.9/site-packages/sklearn/linear_model/_logistic.py\", line 1314, in fit\n",
      "    raise ValueError(\"l1_ratio must be between 0 and 1;\"\n",
      "ValueError: l1_ratio must be between 0 and 1; got (l1_ratio=None)\n",
      "\n",
      "  warnings.warn(\"Estimator fit failed. The score on this train-test\"\n",
      "/opt/conda/lib/python3.9/site-packages/sklearn/model_selection/_validation.py:610: FitFailedWarning: Estimator fit failed. The score on this train-test partition for these parameters will be set to nan. Details: \n",
      "Traceback (most recent call last):\n",
      "  File \"/opt/conda/lib/python3.9/site-packages/sklearn/model_selection/_validation.py\", line 593, in _fit_and_score\n",
      "    estimator.fit(X_train, y_train, **fit_params)\n",
      "  File \"/opt/conda/lib/python3.9/site-packages/sklearn/pipeline.py\", line 346, in fit\n",
      "    self._final_estimator.fit(Xt, y, **fit_params_last_step)\n",
      "  File \"/opt/conda/lib/python3.9/site-packages/sklearn/linear_model/_logistic.py\", line 1314, in fit\n",
      "    raise ValueError(\"l1_ratio must be between 0 and 1;\"\n",
      "ValueError: l1_ratio must be between 0 and 1; got (l1_ratio=None)\n",
      "\n",
      "  warnings.warn(\"Estimator fit failed. The score on this train-test\"\n",
      "/opt/conda/lib/python3.9/site-packages/sklearn/model_selection/_search.py:918: UserWarning: One or more of the test scores are non-finite: [       nan 0.72236456        nan        nan        nan 0.72236456\n",
      " 0.62304712 0.62347868 0.62304843        nan 0.62311973 0.62319233\n",
      "        nan        nan        nan        nan        nan        nan\n",
      "        nan 0.75235884        nan        nan        nan 0.75235884\n",
      " 0.6870719  0.6872327  0.6870719         nan 0.6870719  0.6872327\n",
      "        nan        nan        nan        nan        nan        nan\n",
      "        nan 0.76615043        nan        nan        nan 0.76618404\n",
      " 0.71718475 0.71721846 0.71718475        nan 0.71718475 0.71721846\n",
      "        nan        nan        nan        nan        nan        nan\n",
      " 0.         0.         0.         0.         0.         0.\n",
      " 0.         0.         0.        ]\n",
      "  warnings.warn(\n"
     ]
    },
    {
     "data": {
      "text/plain": [
       "GridSearchCV(cv=3,\n",
       "             estimator=Pipeline(steps=[('vect',\n",
       "                                        TfidfVectorizer(stop_words={'a',\n",
       "                                                                    'about',\n",
       "                                                                    'above',\n",
       "                                                                    'after',\n",
       "                                                                    'again',\n",
       "                                                                    'against',\n",
       "                                                                    'ain',\n",
       "                                                                    'all', 'am',\n",
       "                                                                    'an', 'and',\n",
       "                                                                    'any',\n",
       "                                                                    'are',\n",
       "                                                                    'aren',\n",
       "                                                                    \"aren't\",\n",
       "                                                                    'as', 'at',\n",
       "                                                                    'be',\n",
       "                                                                    'because',\n",
       "                                                                    'been',\n",
       "                                                                    'before',\n",
       "                                                                    'being',\n",
       "                                                                    'below',\n",
       "                                                                    'between',\n",
       "                                                                    'both',\n",
       "                                                                    'but', 'by',\n",
       "                                                                    'can',\n",
       "                                                                    'couldn',\n",
       "                                                                    \"couldn't\", ...})),\n",
       "                                       ('models',\n",
       "                                        LogisticRegression(random_state=42))]),\n",
       "             n...\n",
       "             param_grid=[{'models': [LogisticRegression(C=1, penalty='l1',\n",
       "                                                        random_state=42,\n",
       "                                                        solver='saga')],\n",
       "                          'models__C': [0.3, 0.6, 1],\n",
       "                          'models__penalty': ['l1', 'l2', 'elasticnet'],\n",
       "                          'models__solver': ['lbfgs', 'liblinear', 'newton-cg',\n",
       "                                             'newton-cholesky', 'sag',\n",
       "                                             'saga']},\n",
       "                         {'models': [DecisionTreeClassifier(random_state=42)],\n",
       "                          'models__max_depth': range(2, 5),\n",
       "                          'models__max_features': range(2, 5)}],\n",
       "             scoring='f1')"
      ]
     },
     "execution_count": 19,
     "metadata": {},
     "output_type": "execute_result"
    }
   ],
   "source": [
    "grided_search_models.fit(features_train, target_train)"
   ]
  },
  {
   "cell_type": "code",
   "execution_count": 20,
   "metadata": {
    "scrolled": true
   },
   "outputs": [
    {
     "name": "stdout",
     "output_type": "stream",
     "text": [
      "Лучшая модель и её параметры:\n",
      "\n",
      " Pipeline(steps=[('vect',\n",
      "                 TfidfVectorizer(stop_words={'a', 'about', 'above', 'after',\n",
      "                                             'again', 'against', 'ain', 'all',\n",
      "                                             'am', 'an', 'and', 'any', 'are',\n",
      "                                             'aren', \"aren't\", 'as', 'at', 'be',\n",
      "                                             'because', 'been', 'before',\n",
      "                                             'being', 'below', 'between',\n",
      "                                             'both', 'but', 'by', 'can',\n",
      "                                             'couldn', \"couldn't\", ...})),\n",
      "                ('models',\n",
      "                 LogisticRegression(C=1, penalty='l1', random_state=42,\n",
      "                                    solver='saga'))])\n",
      "Метрика лучшей модели на кросс-валидации: 0.7661840365574628\n"
     ]
    }
   ],
   "source": [
    "print('Лучшая модель и её параметры:\\n\\n', grided_search_models.best_estimator_)\n",
    "print ('Метрика лучшей модели на кросс-валидации:', (grided_search_models.best_score_))"
   ]
  },
  {
   "cell_type": "code",
   "execution_count": 21,
   "metadata": {},
   "outputs": [
    {
     "data": {
      "text/plain": [
       "0.7657848324514991"
      ]
     },
     "execution_count": 21,
     "metadata": {},
     "output_type": "execute_result"
    }
   ],
   "source": [
    "best_model = grided_search_models.best_estimator_\n",
    "predictions = best_model.predict(features_test)\n",
    "f1_score_best_model = f1_score(target_test, predictions)\n",
    "f1_score_best_model"
   ]
  },
  {
   "cell_type": "markdown",
   "metadata": {},
   "source": [
    "**Выводы**\n",
    "\n",
    "- Произвел лемматизацию комментариев с помощью `WordNetLemmatizer` и `re`, так как `pymystem3`, работает невероятно долго\n",
    "- Разделил датасет на тренировочный и тестовый и применил к ним `TfidfVectorizer` для создания векторов слов\n",
    "- С помощью пайплайна и `GridSearchCV` были обучены модели логистической регрессии и дерева решений, лучшей моделюсь стала:\n",
    "    - LogisticRegression(C=1, penalty='l1', random_state=42,solver='liblinear') c метрикой на кросс валидации 0.766\n",
    "- На тестовых данных метрика данной модели составила 0.765, что больше требуемых 0.75."
   ]
  },
  {
   "cell_type": "markdown",
   "metadata": {},
   "source": [
    "## Выводы"
   ]
  },
  {
   "cell_type": "markdown",
   "metadata": {},
   "source": [
    "**Шаг 1**\n",
    "- Загрузил данные из датасета `toxic_comments.csv`\n",
    "- Провел проверку на пропуски и дубликаты, их не обнаружено\n",
    "- Обнаружил дисбаланс классов, устранять его не стал так как используется метрика F1\n",
    "\n",
    "**Шаг 2**\n",
    "- Произвел лемматизацию комментариев с помощью `WordNetLemmatizer` и `re`, так как `pymystem3`, работает невероятно долго\n",
    "- Разделил датасет на тренировочный и тестовый и применил к ним `TfidfVectorizer` для создания векторов слов\n",
    "- С помощью пайплайна и `GridSearchCV` были обучены модели логистической регрессии и дерева решений, лучшей моделюсь стала:\n",
    "    - LogisticRegression(C=1, penalty='l1', random_state=42,solver='liblinear') c метрикой на кросс валидации 0.763\n",
    "- На тестовых данных метрика данной модели составила 0.775, что больше требуемых 0.75.\n",
    "\n",
    "**Шаг 3**\n",
    "- Подготовил обший вывод"
   ]
  }
 ],
 "metadata": {
  "ExecuteTimeLog": [
   {
    "duration": 2316,
    "start_time": "2024-03-26T09:59:56.824Z"
   },
   {
    "duration": 3,
    "start_time": "2024-03-26T10:00:43.020Z"
   },
   {
    "duration": 3,
    "start_time": "2024-03-26T10:01:11.358Z"
   },
   {
    "duration": 3,
    "start_time": "2024-03-26T10:01:17.221Z"
   },
   {
    "duration": 3,
    "start_time": "2024-03-26T10:03:48.442Z"
   },
   {
    "duration": 3300,
    "start_time": "2024-03-26T10:04:47.919Z"
   },
   {
    "duration": 942,
    "start_time": "2024-03-26T10:05:04.413Z"
   },
   {
    "duration": 54,
    "start_time": "2024-03-26T10:05:14.239Z"
   },
   {
    "duration": 922,
    "start_time": "2024-03-26T10:06:51.218Z"
   },
   {
    "duration": 52,
    "start_time": "2024-03-26T10:06:53.860Z"
   },
   {
    "duration": 1028,
    "start_time": "2024-03-26T10:12:53.682Z"
   },
   {
    "duration": 888,
    "start_time": "2024-03-26T10:13:00.855Z"
   },
   {
    "duration": 860,
    "start_time": "2024-03-26T10:13:07.951Z"
   },
   {
    "duration": 50,
    "start_time": "2024-03-26T10:13:10.843Z"
   },
   {
    "duration": 869,
    "start_time": "2024-03-26T10:13:18.386Z"
   },
   {
    "duration": 50,
    "start_time": "2024-03-26T10:13:20.155Z"
   },
   {
    "duration": 885,
    "start_time": "2024-03-26T10:13:29.117Z"
   },
   {
    "duration": 45,
    "start_time": "2024-03-26T10:13:31.694Z"
   },
   {
    "duration": 13,
    "start_time": "2024-03-26T10:15:09.923Z"
   },
   {
    "duration": 216,
    "start_time": "2024-03-26T10:15:19.740Z"
   },
   {
    "duration": 488,
    "start_time": "2024-03-26T10:28:38.092Z"
   },
   {
    "duration": 851,
    "start_time": "2024-03-26T10:29:05.117Z"
   },
   {
    "duration": 1514,
    "start_time": "2024-03-26T10:29:12.972Z"
   },
   {
    "duration": 348,
    "start_time": "2024-03-26T10:29:28.651Z"
   },
   {
    "duration": 11,
    "start_time": "2024-03-26T10:29:35.375Z"
   },
   {
    "duration": 148,
    "start_time": "2024-03-26T10:29:39.984Z"
   },
   {
    "duration": 0,
    "start_time": "2024-03-26T10:31:32.612Z"
   },
   {
    "duration": 6,
    "start_time": "2024-03-26T10:31:38.616Z"
   },
   {
    "duration": 4,
    "start_time": "2024-03-26T10:32:02.786Z"
   },
   {
    "duration": 3207,
    "start_time": "2024-03-26T10:32:13.445Z"
   },
   {
    "duration": 102,
    "start_time": "2024-03-26T10:32:26.715Z"
   },
   {
    "duration": 106,
    "start_time": "2024-03-26T10:32:35.300Z"
   },
   {
    "duration": 119,
    "start_time": "2024-03-26T10:33:45.411Z"
   },
   {
    "duration": 2674,
    "start_time": "2024-03-26T10:40:46.366Z"
   },
   {
    "duration": 2,
    "start_time": "2024-03-26T10:40:49.042Z"
   },
   {
    "duration": 11,
    "start_time": "2024-03-26T10:40:49.046Z"
   },
   {
    "duration": 3202,
    "start_time": "2024-03-26T10:40:49.058Z"
   },
   {
    "duration": 51,
    "start_time": "2024-03-26T10:40:52.262Z"
   },
   {
    "duration": 234,
    "start_time": "2024-03-26T10:40:52.315Z"
   },
   {
    "duration": 147,
    "start_time": "2024-03-26T10:40:52.551Z"
   },
   {
    "duration": 1546,
    "start_time": "2024-03-26T11:16:19.744Z"
   },
   {
    "duration": 3,
    "start_time": "2024-03-26T11:16:25.131Z"
   },
   {
    "duration": 4,
    "start_time": "2024-03-26T11:16:25.746Z"
   },
   {
    "duration": 3344,
    "start_time": "2024-03-26T11:16:26.851Z"
   },
   {
    "duration": 53,
    "start_time": "2024-03-26T11:16:30.196Z"
   },
   {
    "duration": 348,
    "start_time": "2024-03-26T11:16:30.251Z"
   },
   {
    "duration": 137,
    "start_time": "2024-03-26T11:16:30.601Z"
   },
   {
    "duration": 4,
    "start_time": "2024-03-26T11:19:41.836Z"
   },
   {
    "duration": 2375,
    "start_time": "2024-03-26T11:25:07.273Z"
   },
   {
    "duration": 1350,
    "start_time": "2024-03-26T11:25:52.545Z"
   },
   {
    "duration": 1572,
    "start_time": "2024-03-26T11:26:45.408Z"
   },
   {
    "duration": 3,
    "start_time": "2024-03-26T11:26:46.982Z"
   },
   {
    "duration": 27,
    "start_time": "2024-03-26T11:26:46.987Z"
   },
   {
    "duration": 3355,
    "start_time": "2024-03-26T11:26:47.016Z"
   },
   {
    "duration": 51,
    "start_time": "2024-03-26T11:26:50.373Z"
   },
   {
    "duration": 249,
    "start_time": "2024-03-26T11:26:50.426Z"
   },
   {
    "duration": 148,
    "start_time": "2024-03-26T11:26:50.677Z"
   },
   {
    "duration": 2269,
    "start_time": "2024-03-26T11:26:50.827Z"
   },
   {
    "duration": 22,
    "start_time": "2024-03-26T11:26:53.098Z"
   },
   {
    "duration": 1405,
    "start_time": "2024-03-26T11:26:53.121Z"
   },
   {
    "duration": 0,
    "start_time": "2024-03-26T11:26:54.528Z"
   },
   {
    "duration": 4,
    "start_time": "2024-03-26T11:28:20.352Z"
   },
   {
    "duration": 10576,
    "start_time": "2024-03-26T11:28:22.321Z"
   },
   {
    "duration": 5,
    "start_time": "2024-03-26T11:28:39.708Z"
   },
   {
    "duration": 4940,
    "start_time": "2024-03-26T11:28:41.764Z"
   },
   {
    "duration": 5,
    "start_time": "2024-03-26T11:29:04.678Z"
   },
   {
    "duration": 205011,
    "start_time": "2024-03-26T11:29:06.346Z"
   },
   {
    "duration": 8,
    "start_time": "2024-03-26T11:32:47.565Z"
   },
   {
    "duration": 1664,
    "start_time": "2024-03-26T11:32:58.937Z"
   },
   {
    "duration": 6,
    "start_time": "2024-03-26T11:33:06.646Z"
   },
   {
    "duration": 4,
    "start_time": "2024-03-26T11:33:12.228Z"
   },
   {
    "duration": 4,
    "start_time": "2024-03-26T11:35:41.580Z"
   },
   {
    "duration": 1670,
    "start_time": "2024-03-26T11:35:43.369Z"
   },
   {
    "duration": 5,
    "start_time": "2024-03-26T11:35:46.609Z"
   },
   {
    "duration": 987852,
    "start_time": "2024-03-26T11:36:19.552Z"
   },
   {
    "duration": 9,
    "start_time": "2024-03-26T11:53:16.441Z"
   },
   {
    "duration": 460,
    "start_time": "2024-03-26T11:54:23.383Z"
   },
   {
    "duration": 3,
    "start_time": "2024-03-26T11:54:32.463Z"
   },
   {
    "duration": 5314,
    "start_time": "2024-03-26T11:54:35.461Z"
   },
   {
    "duration": 4,
    "start_time": "2024-03-26T11:55:44.890Z"
   },
   {
    "duration": 4,
    "start_time": "2024-03-26T11:55:56.244Z"
   },
   {
    "duration": 4,
    "start_time": "2024-03-26T11:55:59.619Z"
   },
   {
    "duration": 29,
    "start_time": "2024-03-26T12:43:25.932Z"
   },
   {
    "duration": 3999,
    "start_time": "2024-03-26T12:43:34.383Z"
   },
   {
    "duration": 4,
    "start_time": "2024-03-26T12:43:40.994Z"
   },
   {
    "duration": 38,
    "start_time": "2024-03-26T12:45:45.954Z"
   },
   {
    "duration": 40,
    "start_time": "2024-03-26T12:45:57.744Z"
   },
   {
    "duration": 65,
    "start_time": "2024-03-26T12:54:03.364Z"
   },
   {
    "duration": 151,
    "start_time": "2024-03-26T12:54:40.216Z"
   },
   {
    "duration": 4,
    "start_time": "2024-03-26T12:54:55.053Z"
   },
   {
    "duration": 5,
    "start_time": "2024-03-26T12:55:04.430Z"
   },
   {
    "duration": 27,
    "start_time": "2024-03-26T12:55:08.495Z"
   },
   {
    "duration": 1640,
    "start_time": "2024-03-26T12:56:30.178Z"
   },
   {
    "duration": 2,
    "start_time": "2024-03-26T12:56:31.820Z"
   },
   {
    "duration": 89,
    "start_time": "2024-03-26T12:56:31.824Z"
   },
   {
    "duration": 3233,
    "start_time": "2024-03-26T12:56:31.915Z"
   },
   {
    "duration": 51,
    "start_time": "2024-03-26T12:56:35.151Z"
   },
   {
    "duration": 229,
    "start_time": "2024-03-26T12:56:35.203Z"
   },
   {
    "duration": 204,
    "start_time": "2024-03-26T12:56:35.434Z"
   },
   {
    "duration": 3,
    "start_time": "2024-03-26T12:56:35.639Z"
   },
   {
    "duration": 5178,
    "start_time": "2024-03-26T12:56:35.644Z"
   },
   {
    "duration": 47,
    "start_time": "2024-03-26T12:56:40.824Z"
   },
   {
    "duration": 69,
    "start_time": "2024-03-26T12:56:40.872Z"
   },
   {
    "duration": 166,
    "start_time": "2024-03-26T12:56:40.943Z"
   },
   {
    "duration": 2411,
    "start_time": "2024-03-26T12:56:41.110Z"
   },
   {
    "duration": 130,
    "start_time": "2024-03-26T12:57:27.550Z"
   },
   {
    "duration": 5,
    "start_time": "2024-03-26T12:58:11.736Z"
   },
   {
    "duration": 9,
    "start_time": "2024-03-26T12:58:36.073Z"
   },
   {
    "duration": 3,
    "start_time": "2024-03-26T12:58:52.732Z"
   },
   {
    "duration": 3,
    "start_time": "2024-03-26T12:58:56.564Z"
   },
   {
    "duration": 15,
    "start_time": "2024-03-26T12:59:25.991Z"
   },
   {
    "duration": 15,
    "start_time": "2024-03-26T12:59:33.794Z"
   },
   {
    "duration": 4,
    "start_time": "2024-03-26T12:59:48.901Z"
   },
   {
    "duration": 3,
    "start_time": "2024-03-26T13:00:06.156Z"
   },
   {
    "duration": 4,
    "start_time": "2024-03-26T13:00:18.184Z"
   },
   {
    "duration": 6,
    "start_time": "2024-03-26T13:00:19.856Z"
   },
   {
    "duration": 3,
    "start_time": "2024-03-26T13:00:29.879Z"
   },
   {
    "duration": 9959,
    "start_time": "2024-03-26T13:00:40.977Z"
   },
   {
    "duration": 4,
    "start_time": "2024-03-26T13:01:49.119Z"
   },
   {
    "duration": 86,
    "start_time": "2024-03-26T13:14:06.679Z"
   },
   {
    "duration": 5,
    "start_time": "2024-03-26T13:14:14.724Z"
   },
   {
    "duration": 3,
    "start_time": "2024-03-26T13:16:46.688Z"
   },
   {
    "duration": 5,
    "start_time": "2024-03-26T13:17:16.076Z"
   },
   {
    "duration": 4,
    "start_time": "2024-03-26T13:18:50.988Z"
   },
   {
    "duration": 21,
    "start_time": "2024-03-26T13:19:19.021Z"
   },
   {
    "duration": 3,
    "start_time": "2024-03-26T13:19:40.862Z"
   },
   {
    "duration": 35,
    "start_time": "2024-03-26T13:19:42.978Z"
   },
   {
    "duration": 6,
    "start_time": "2024-03-26T13:21:21.813Z"
   },
   {
    "duration": 3,
    "start_time": "2024-03-26T13:21:29.967Z"
   },
   {
    "duration": 3,
    "start_time": "2024-03-26T13:21:36.201Z"
   },
   {
    "duration": 36,
    "start_time": "2024-03-26T13:21:37.178Z"
   },
   {
    "duration": 4,
    "start_time": "2024-03-26T13:22:39.194Z"
   },
   {
    "duration": 3,
    "start_time": "2024-03-26T13:22:43.615Z"
   },
   {
    "duration": 1677,
    "start_time": "2024-03-26T13:50:46.557Z"
   },
   {
    "duration": 2,
    "start_time": "2024-03-26T13:50:48.236Z"
   },
   {
    "duration": 29,
    "start_time": "2024-03-26T13:50:48.239Z"
   },
   {
    "duration": 139,
    "start_time": "2024-03-26T13:50:48.269Z"
   },
   {
    "duration": 0,
    "start_time": "2024-03-26T13:50:48.410Z"
   },
   {
    "duration": 0,
    "start_time": "2024-03-26T13:50:48.411Z"
   },
   {
    "duration": 0,
    "start_time": "2024-03-26T13:50:48.412Z"
   },
   {
    "duration": 0,
    "start_time": "2024-03-26T13:50:48.413Z"
   },
   {
    "duration": 0,
    "start_time": "2024-03-26T13:50:48.414Z"
   },
   {
    "duration": 0,
    "start_time": "2024-03-26T13:50:48.415Z"
   },
   {
    "duration": 0,
    "start_time": "2024-03-26T13:50:48.416Z"
   },
   {
    "duration": 0,
    "start_time": "2024-03-26T13:50:48.417Z"
   },
   {
    "duration": 0,
    "start_time": "2024-03-26T13:50:48.418Z"
   },
   {
    "duration": 0,
    "start_time": "2024-03-26T13:50:48.419Z"
   },
   {
    "duration": 0,
    "start_time": "2024-03-26T13:50:48.421Z"
   },
   {
    "duration": 0,
    "start_time": "2024-03-26T13:50:48.422Z"
   },
   {
    "duration": 0,
    "start_time": "2024-03-26T13:50:48.423Z"
   },
   {
    "duration": 0,
    "start_time": "2024-03-26T13:50:48.424Z"
   },
   {
    "duration": 0,
    "start_time": "2024-03-26T13:50:48.425Z"
   },
   {
    "duration": 0,
    "start_time": "2024-03-26T13:50:48.426Z"
   },
   {
    "duration": 2066,
    "start_time": "2024-03-26T13:51:23.598Z"
   },
   {
    "duration": 2,
    "start_time": "2024-03-26T13:51:25.666Z"
   },
   {
    "duration": 26,
    "start_time": "2024-03-26T13:51:25.670Z"
   },
   {
    "duration": 3257,
    "start_time": "2024-03-26T13:51:25.697Z"
   },
   {
    "duration": 50,
    "start_time": "2024-03-26T13:51:28.956Z"
   },
   {
    "duration": 228,
    "start_time": "2024-03-26T13:51:29.008Z"
   },
   {
    "duration": 161,
    "start_time": "2024-03-26T13:51:29.238Z"
   },
   {
    "duration": 3,
    "start_time": "2024-03-26T13:51:29.401Z"
   },
   {
    "duration": 5255,
    "start_time": "2024-03-26T13:51:29.405Z"
   },
   {
    "duration": 57,
    "start_time": "2024-03-26T13:51:34.662Z"
   },
   {
    "duration": 67,
    "start_time": "2024-03-26T13:51:34.720Z"
   },
   {
    "duration": 5,
    "start_time": "2024-03-26T13:51:34.789Z"
   },
   {
    "duration": 2408,
    "start_time": "2024-03-26T13:51:34.796Z"
   },
   {
    "duration": 2,
    "start_time": "2024-03-26T13:51:37.207Z"
   },
   {
    "duration": 9838,
    "start_time": "2024-03-26T13:51:37.210Z"
   },
   {
    "duration": 3,
    "start_time": "2024-03-26T13:51:47.050Z"
   },
   {
    "duration": 7,
    "start_time": "2024-03-26T13:51:47.054Z"
   },
   {
    "duration": 15,
    "start_time": "2024-03-26T13:51:47.063Z"
   },
   {
    "duration": 672213,
    "start_time": "2024-03-26T13:51:47.079Z"
   },
   {
    "duration": 5,
    "start_time": "2024-03-26T14:02:59.294Z"
   },
   {
    "duration": 2885,
    "start_time": "2024-03-26T14:05:46.156Z"
   },
   {
    "duration": 3,
    "start_time": "2024-03-26T14:05:49.043Z"
   },
   {
    "duration": 29,
    "start_time": "2024-03-26T14:05:49.047Z"
   },
   {
    "duration": 3270,
    "start_time": "2024-03-26T14:05:49.078Z"
   },
   {
    "duration": 50,
    "start_time": "2024-03-26T14:05:52.350Z"
   },
   {
    "duration": 232,
    "start_time": "2024-03-26T14:05:52.402Z"
   },
   {
    "duration": 131,
    "start_time": "2024-03-26T14:05:52.636Z"
   },
   {
    "duration": 3,
    "start_time": "2024-03-26T14:05:52.768Z"
   },
   {
    "duration": 5280,
    "start_time": "2024-03-26T14:05:52.772Z"
   },
   {
    "duration": 49,
    "start_time": "2024-03-26T14:05:58.054Z"
   },
   {
    "duration": 60,
    "start_time": "2024-03-26T14:05:58.105Z"
   },
   {
    "duration": 4,
    "start_time": "2024-03-26T14:05:58.167Z"
   },
   {
    "duration": 2291,
    "start_time": "2024-03-26T14:05:58.186Z"
   },
   {
    "duration": 57,
    "start_time": "2024-03-26T14:06:00.479Z"
   },
   {
    "duration": 9924,
    "start_time": "2024-03-26T14:06:00.538Z"
   },
   {
    "duration": 3,
    "start_time": "2024-03-26T14:06:10.463Z"
   },
   {
    "duration": 30,
    "start_time": "2024-03-26T14:06:10.467Z"
   },
   {
    "duration": 25,
    "start_time": "2024-03-26T14:06:10.499Z"
   },
   {
    "duration": 672992,
    "start_time": "2024-03-26T14:06:10.526Z"
   },
   {
    "duration": 6,
    "start_time": "2024-03-26T14:17:23.520Z"
   },
   {
    "duration": 91,
    "start_time": "2024-03-26T14:20:23.142Z"
   },
   {
    "duration": 3,
    "start_time": "2024-03-26T14:20:26.402Z"
   },
   {
    "duration": 44,
    "start_time": "2024-03-26T14:20:51.370Z"
   },
   {
    "duration": 2499,
    "start_time": "2024-03-26T14:23:05.970Z"
   },
   {
    "duration": 2,
    "start_time": "2024-03-26T14:23:08.471Z"
   },
   {
    "duration": 27,
    "start_time": "2024-03-26T14:23:08.475Z"
   },
   {
    "duration": 3237,
    "start_time": "2024-03-26T14:23:08.504Z"
   },
   {
    "duration": 47,
    "start_time": "2024-03-26T14:23:11.742Z"
   },
   {
    "duration": 220,
    "start_time": "2024-03-26T14:23:11.791Z"
   },
   {
    "duration": 138,
    "start_time": "2024-03-26T14:23:12.013Z"
   },
   {
    "duration": 4,
    "start_time": "2024-03-26T14:23:12.153Z"
   },
   {
    "duration": 5166,
    "start_time": "2024-03-26T14:23:12.158Z"
   },
   {
    "duration": 46,
    "start_time": "2024-03-26T14:23:17.327Z"
   },
   {
    "duration": 71,
    "start_time": "2024-03-26T14:23:17.375Z"
   },
   {
    "duration": 5,
    "start_time": "2024-03-26T14:23:17.448Z"
   },
   {
    "duration": 2434,
    "start_time": "2024-03-26T14:23:17.454Z"
   },
   {
    "duration": 8,
    "start_time": "2024-03-26T14:23:19.889Z"
   },
   {
    "duration": 9928,
    "start_time": "2024-03-26T14:23:19.899Z"
   },
   {
    "duration": 3,
    "start_time": "2024-03-26T14:23:29.829Z"
   },
   {
    "duration": 27,
    "start_time": "2024-03-26T14:23:29.833Z"
   },
   {
    "duration": 4,
    "start_time": "2024-03-26T14:23:29.862Z"
   },
   {
    "duration": 677452,
    "start_time": "2024-03-26T14:23:29.868Z"
   },
   {
    "duration": 6,
    "start_time": "2024-03-26T14:34:47.321Z"
   },
   {
    "duration": 40,
    "start_time": "2024-03-26T14:34:47.328Z"
   },
   {
    "duration": 2802,
    "start_time": "2024-03-26T18:18:24.253Z"
   },
   {
    "duration": 406,
    "start_time": "2024-03-26T18:22:53.071Z"
   },
   {
    "duration": 5,
    "start_time": "2024-03-26T18:22:59.523Z"
   },
   {
    "duration": 10,
    "start_time": "2024-03-26T18:22:59.531Z"
   },
   {
    "duration": 14,
    "start_time": "2024-03-26T18:22:59.543Z"
   },
   {
    "duration": 4417,
    "start_time": "2024-03-26T18:23:13.618Z"
   },
   {
    "duration": 6,
    "start_time": "2024-03-26T18:23:18.037Z"
   },
   {
    "duration": 12,
    "start_time": "2024-03-26T18:23:18.044Z"
   },
   {
    "duration": 3247,
    "start_time": "2024-03-26T18:23:18.057Z"
   },
   {
    "duration": 52,
    "start_time": "2024-03-26T18:23:21.306Z"
   },
   {
    "duration": 248,
    "start_time": "2024-03-26T18:23:21.360Z"
   },
   {
    "duration": 136,
    "start_time": "2024-03-26T18:23:21.610Z"
   },
   {
    "duration": 427,
    "start_time": "2024-03-26T18:23:47.574Z"
   },
   {
    "duration": 581,
    "start_time": "2024-03-26T18:24:27.808Z"
   },
   {
    "duration": 414,
    "start_time": "2024-03-26T18:25:28.641Z"
   },
   {
    "duration": 3,
    "start_time": "2024-03-26T18:26:00.208Z"
   },
   {
    "duration": 9,
    "start_time": "2024-03-26T18:26:19.600Z"
   },
   {
    "duration": 496,
    "start_time": "2024-03-26T18:26:52.859Z"
   },
   {
    "duration": 18,
    "start_time": "2024-03-26T18:26:56.403Z"
   },
   {
    "duration": 15,
    "start_time": "2024-03-26T18:28:42.946Z"
   },
   {
    "duration": 271,
    "start_time": "2024-03-26T18:29:55.557Z"
   },
   {
    "duration": 4,
    "start_time": "2024-03-26T18:31:38.646Z"
   },
   {
    "duration": 12,
    "start_time": "2024-03-26T18:31:48.018Z"
   },
   {
    "duration": 636,
    "start_time": "2024-03-26T18:32:43.081Z"
   },
   {
    "duration": 4,
    "start_time": "2024-03-26T18:32:48.485Z"
   },
   {
    "duration": 10,
    "start_time": "2024-03-26T18:32:50.104Z"
   },
   {
    "duration": 459,
    "start_time": "2024-03-26T18:33:21.917Z"
   },
   {
    "duration": 4,
    "start_time": "2024-03-26T18:33:46.230Z"
   },
   {
    "duration": 13,
    "start_time": "2024-03-26T18:33:49.343Z"
   },
   {
    "duration": 389,
    "start_time": "2024-03-26T18:33:56.409Z"
   },
   {
    "duration": 7,
    "start_time": "2024-03-26T18:34:31.449Z"
   },
   {
    "duration": 159411,
    "start_time": "2024-03-26T18:34:46.023Z"
   },
   {
    "duration": 9296,
    "start_time": "2024-03-26T18:37:28.326Z"
   },
   {
    "duration": 4,
    "start_time": "2024-03-26T18:37:41.864Z"
   },
   {
    "duration": 13,
    "start_time": "2024-03-26T18:37:59.668Z"
   },
   {
    "duration": 5,
    "start_time": "2024-03-26T18:38:12.119Z"
   },
   {
    "duration": 15,
    "start_time": "2024-03-26T18:38:44.992Z"
   },
   {
    "duration": 3,
    "start_time": "2024-03-26T18:40:32.494Z"
   },
   {
    "duration": 33,
    "start_time": "2024-03-26T18:40:40.781Z"
   },
   {
    "duration": 4,
    "start_time": "2024-03-26T18:40:57.287Z"
   },
   {
    "duration": 38,
    "start_time": "2024-03-26T18:41:00.677Z"
   },
   {
    "duration": 3,
    "start_time": "2024-03-26T18:41:17.132Z"
   },
   {
    "duration": 45,
    "start_time": "2024-03-26T18:41:22.311Z"
   },
   {
    "duration": 3,
    "start_time": "2024-03-26T18:41:38.920Z"
   },
   {
    "duration": 13,
    "start_time": "2024-03-26T18:41:42.724Z"
   },
   {
    "duration": 3,
    "start_time": "2024-03-26T18:46:15.460Z"
   },
   {
    "duration": 45,
    "start_time": "2024-03-26T18:46:20.525Z"
   },
   {
    "duration": 4,
    "start_time": "2024-03-26T18:46:33.480Z"
   },
   {
    "duration": 16,
    "start_time": "2024-03-26T18:46:38.955Z"
   },
   {
    "duration": 3,
    "start_time": "2024-03-26T18:46:50.832Z"
   },
   {
    "duration": 12,
    "start_time": "2024-03-26T18:46:53.461Z"
   },
   {
    "duration": 4538,
    "start_time": "2024-03-26T18:47:27.574Z"
   },
   {
    "duration": 6,
    "start_time": "2024-03-26T18:47:32.114Z"
   },
   {
    "duration": 12,
    "start_time": "2024-03-26T18:47:32.121Z"
   },
   {
    "duration": 928,
    "start_time": "2024-03-26T18:47:32.135Z"
   },
   {
    "duration": 69,
    "start_time": "2024-03-26T18:47:33.065Z"
   },
   {
    "duration": 252,
    "start_time": "2024-03-26T18:47:33.136Z"
   },
   {
    "duration": 135,
    "start_time": "2024-03-26T18:47:33.390Z"
   },
   {
    "duration": 590,
    "start_time": "2024-03-26T18:47:33.526Z"
   },
   {
    "duration": 4,
    "start_time": "2024-03-26T18:47:34.118Z"
   },
   {
    "duration": 10166,
    "start_time": "2024-03-26T18:47:34.124Z"
   },
   {
    "duration": 0,
    "start_time": "2024-03-26T18:47:44.292Z"
   },
   {
    "duration": 0,
    "start_time": "2024-03-26T18:47:44.293Z"
   },
   {
    "duration": 0,
    "start_time": "2024-03-26T18:47:44.294Z"
   },
   {
    "duration": 0,
    "start_time": "2024-03-26T18:47:44.295Z"
   },
   {
    "duration": 0,
    "start_time": "2024-03-26T18:47:44.296Z"
   },
   {
    "duration": 0,
    "start_time": "2024-03-26T18:47:44.298Z"
   },
   {
    "duration": 0,
    "start_time": "2024-03-26T18:47:44.299Z"
   },
   {
    "duration": 0,
    "start_time": "2024-03-26T18:47:44.301Z"
   },
   {
    "duration": 0,
    "start_time": "2024-03-26T18:47:44.302Z"
   },
   {
    "duration": 0,
    "start_time": "2024-03-26T18:47:44.304Z"
   },
   {
    "duration": 0,
    "start_time": "2024-03-26T18:47:44.305Z"
   },
   {
    "duration": 0,
    "start_time": "2024-03-26T18:47:44.307Z"
   },
   {
    "duration": 0,
    "start_time": "2024-03-26T18:47:44.308Z"
   },
   {
    "duration": 4409,
    "start_time": "2024-03-26T18:48:04.229Z"
   },
   {
    "duration": 5,
    "start_time": "2024-03-26T18:48:08.641Z"
   },
   {
    "duration": 10,
    "start_time": "2024-03-26T18:48:08.647Z"
   },
   {
    "duration": 913,
    "start_time": "2024-03-26T18:48:08.658Z"
   },
   {
    "duration": 64,
    "start_time": "2024-03-26T18:48:09.573Z"
   },
   {
    "duration": 239,
    "start_time": "2024-03-26T18:48:09.639Z"
   },
   {
    "duration": 142,
    "start_time": "2024-03-26T18:48:09.880Z"
   },
   {
    "duration": 562,
    "start_time": "2024-03-26T18:48:10.024Z"
   },
   {
    "duration": 4,
    "start_time": "2024-03-26T18:48:10.588Z"
   },
   {
    "duration": 756492,
    "start_time": "2024-03-26T18:48:10.594Z"
   },
   {
    "duration": 0,
    "start_time": "2024-03-26T19:00:47.088Z"
   },
   {
    "duration": 0,
    "start_time": "2024-03-26T19:00:47.089Z"
   },
   {
    "duration": 0,
    "start_time": "2024-03-26T19:00:47.091Z"
   },
   {
    "duration": 0,
    "start_time": "2024-03-26T19:00:47.092Z"
   },
   {
    "duration": 0,
    "start_time": "2024-03-26T19:00:47.092Z"
   },
   {
    "duration": 0,
    "start_time": "2024-03-26T19:00:47.093Z"
   },
   {
    "duration": 0,
    "start_time": "2024-03-26T19:00:47.094Z"
   },
   {
    "duration": 0,
    "start_time": "2024-03-26T19:00:47.095Z"
   },
   {
    "duration": 0,
    "start_time": "2024-03-26T19:00:47.096Z"
   },
   {
    "duration": 0,
    "start_time": "2024-03-26T19:00:47.097Z"
   },
   {
    "duration": 0,
    "start_time": "2024-03-26T19:00:47.098Z"
   },
   {
    "duration": 3,
    "start_time": "2024-03-26T19:00:58.607Z"
   },
   {
    "duration": 43,
    "start_time": "2024-03-26T19:01:31.336Z"
   },
   {
    "duration": 4,
    "start_time": "2024-03-26T19:01:47.360Z"
   },
   {
    "duration": 12,
    "start_time": "2024-03-26T19:01:50.837Z"
   },
   {
    "duration": 3,
    "start_time": "2024-03-26T19:02:17.570Z"
   },
   {
    "duration": 36,
    "start_time": "2024-03-26T19:02:22.305Z"
   },
   {
    "duration": 3,
    "start_time": "2024-03-26T19:03:32.626Z"
   },
   {
    "duration": 34,
    "start_time": "2024-03-26T19:03:34.976Z"
   },
   {
    "duration": 4,
    "start_time": "2024-03-26T19:03:53.872Z"
   },
   {
    "duration": 37,
    "start_time": "2024-03-26T19:03:55.869Z"
   },
   {
    "duration": 3,
    "start_time": "2024-03-26T19:05:51.831Z"
   },
   {
    "duration": 14,
    "start_time": "2024-03-26T19:05:54.923Z"
   },
   {
    "duration": 3,
    "start_time": "2024-03-26T19:06:27.978Z"
   },
   {
    "duration": 11,
    "start_time": "2024-03-26T19:06:32.458Z"
   },
   {
    "duration": 23,
    "start_time": "2024-03-26T19:06:41.912Z"
   },
   {
    "duration": 12,
    "start_time": "2024-03-26T19:06:46.638Z"
   },
   {
    "duration": 11,
    "start_time": "2024-03-26T19:06:53.746Z"
   },
   {
    "duration": 10,
    "start_time": "2024-03-26T19:07:13.584Z"
   },
   {
    "duration": 27,
    "start_time": "2024-03-26T19:08:41.544Z"
   },
   {
    "duration": 4,
    "start_time": "2024-03-26T19:08:53.986Z"
   },
   {
    "duration": 26,
    "start_time": "2024-03-26T19:09:01.035Z"
   },
   {
    "duration": 16,
    "start_time": "2024-03-26T19:09:54.045Z"
   },
   {
    "duration": 515,
    "start_time": "2024-03-26T19:10:09.555Z"
   },
   {
    "duration": 14,
    "start_time": "2024-03-26T19:10:25.412Z"
   },
   {
    "duration": 3,
    "start_time": "2024-03-26T19:10:52.304Z"
   },
   {
    "duration": 12,
    "start_time": "2024-03-26T19:10:59.693Z"
   },
   {
    "duration": 3,
    "start_time": "2024-03-26T19:11:17.845Z"
   },
   {
    "duration": 14,
    "start_time": "2024-03-26T19:11:20.842Z"
   },
   {
    "duration": 179357,
    "start_time": "2024-03-26T19:11:38.719Z"
   },
   {
    "duration": 3,
    "start_time": "2024-03-26T19:15:30.365Z"
   },
   {
    "duration": 34,
    "start_time": "2024-03-26T19:15:33.658Z"
   },
   {
    "duration": 4,
    "start_time": "2024-03-26T19:17:14.116Z"
   },
   {
    "duration": 34,
    "start_time": "2024-03-26T19:17:18.610Z"
   },
   {
    "duration": 4,
    "start_time": "2024-03-26T19:17:38.869Z"
   },
   {
    "duration": 41,
    "start_time": "2024-03-26T19:17:41.324Z"
   },
   {
    "duration": 5,
    "start_time": "2024-03-26T19:18:00.125Z"
   },
   {
    "duration": 47,
    "start_time": "2024-03-26T19:18:03.372Z"
   },
   {
    "duration": 4,
    "start_time": "2024-03-26T19:18:25.643Z"
   },
   {
    "duration": 41,
    "start_time": "2024-03-26T19:18:28.972Z"
   },
   {
    "duration": 3,
    "start_time": "2024-03-26T19:19:11.454Z"
   },
   {
    "duration": 81,
    "start_time": "2024-03-26T19:19:14.001Z"
   },
   {
    "duration": 3,
    "start_time": "2024-03-26T19:19:43.942Z"
   },
   {
    "duration": 3,
    "start_time": "2024-03-26T19:19:45.059Z"
   },
   {
    "duration": 12,
    "start_time": "2024-03-26T19:19:47.509Z"
   },
   {
    "duration": 459,
    "start_time": "2024-03-26T19:20:43.500Z"
   },
   {
    "duration": 3,
    "start_time": "2024-03-26T19:20:45.805Z"
   },
   {
    "duration": 9,
    "start_time": "2024-03-26T19:20:49.144Z"
   },
   {
    "duration": 398571,
    "start_time": "2024-03-26T19:20:52.222Z"
   },
   {
    "duration": 2,
    "start_time": "2024-03-26T19:27:54.753Z"
   },
   {
    "duration": 26,
    "start_time": "2024-03-26T19:28:16.836Z"
   },
   {
    "duration": 3,
    "start_time": "2024-03-26T19:29:18.916Z"
   },
   {
    "duration": 42,
    "start_time": "2024-03-26T19:29:19.608Z"
   },
   {
    "duration": 475,
    "start_time": "2024-03-26T19:29:36.959Z"
   },
   {
    "duration": 1491,
    "start_time": "2024-03-26T19:29:40.424Z"
   },
   {
    "duration": 5,
    "start_time": "2024-03-26T19:30:09.116Z"
   },
   {
    "duration": 5,
    "start_time": "2024-03-26T19:33:09.492Z"
   },
   {
    "duration": 7,
    "start_time": "2024-03-26T19:33:23.677Z"
   },
   {
    "duration": 30,
    "start_time": "2024-03-26T19:34:32.899Z"
   },
   {
    "duration": 5,
    "start_time": "2024-03-26T19:34:41.123Z"
   },
   {
    "duration": 7,
    "start_time": "2024-03-26T19:34:54.728Z"
   },
   {
    "duration": 5,
    "start_time": "2024-03-26T19:35:07.942Z"
   },
   {
    "duration": 34441,
    "start_time": "2024-03-26T19:35:16.529Z"
   },
   {
    "duration": 7,
    "start_time": "2024-03-26T19:36:05.464Z"
   },
   {
    "duration": 4,
    "start_time": "2024-03-26T19:36:25.520Z"
   },
   {
    "duration": 71144,
    "start_time": "2024-03-26T19:36:27.338Z"
   },
   {
    "duration": 8,
    "start_time": "2024-03-26T19:37:47.532Z"
   },
   {
    "duration": 5,
    "start_time": "2024-03-26T19:37:53.897Z"
   },
   {
    "duration": 4,
    "start_time": "2024-03-26T19:38:08.322Z"
   },
   {
    "duration": 90452,
    "start_time": "2024-03-26T19:38:11.047Z"
   },
   {
    "duration": 1498,
    "start_time": "2024-03-26T19:39:56.613Z"
   },
   {
    "duration": 27,
    "start_time": "2024-03-26T19:40:10.312Z"
   },
   {
    "duration": 4,
    "start_time": "2024-03-26T19:40:33.435Z"
   },
   {
    "duration": 4,
    "start_time": "2024-03-26T19:40:45.973Z"
   },
   {
    "duration": 4,
    "start_time": "2024-03-26T19:41:51.507Z"
   },
   {
    "duration": 27,
    "start_time": "2024-03-26T19:41:53.356Z"
   },
   {
    "duration": 5,
    "start_time": "2024-03-26T19:41:55.503Z"
   },
   {
    "duration": 5,
    "start_time": "2024-03-26T19:41:55.889Z"
   },
   {
    "duration": 4,
    "start_time": "2024-03-26T19:42:43.910Z"
   },
   {
    "duration": 4,
    "start_time": "2024-03-26T19:42:44.317Z"
   },
   {
    "duration": 4,
    "start_time": "2024-03-26T19:43:02.628Z"
   },
   {
    "duration": 4,
    "start_time": "2024-03-26T19:43:05.300Z"
   },
   {
    "duration": 5,
    "start_time": "2024-03-26T19:43:20.480Z"
   },
   {
    "duration": 4468,
    "start_time": "2024-03-26T19:44:50.551Z"
   },
   {
    "duration": 8,
    "start_time": "2024-03-26T19:44:55.020Z"
   },
   {
    "duration": 10,
    "start_time": "2024-03-26T19:44:55.029Z"
   },
   {
    "duration": 939,
    "start_time": "2024-03-26T19:44:55.041Z"
   },
   {
    "duration": 54,
    "start_time": "2024-03-26T19:44:55.982Z"
   },
   {
    "duration": 238,
    "start_time": "2024-03-26T19:44:56.037Z"
   },
   {
    "duration": 132,
    "start_time": "2024-03-26T19:44:56.276Z"
   },
   {
    "duration": 4,
    "start_time": "2024-03-26T19:44:56.410Z"
   },
   {
    "duration": 336,
    "start_time": "2024-03-26T19:44:56.416Z"
   },
   {
    "duration": 0,
    "start_time": "2024-03-26T19:44:56.754Z"
   },
   {
    "duration": 0,
    "start_time": "2024-03-26T19:44:56.755Z"
   },
   {
    "duration": 0,
    "start_time": "2024-03-26T19:44:56.757Z"
   },
   {
    "duration": 0,
    "start_time": "2024-03-26T19:44:56.758Z"
   },
   {
    "duration": 0,
    "start_time": "2024-03-26T19:44:56.760Z"
   },
   {
    "duration": 0,
    "start_time": "2024-03-26T19:44:56.761Z"
   },
   {
    "duration": 0,
    "start_time": "2024-03-26T19:44:56.763Z"
   },
   {
    "duration": 0,
    "start_time": "2024-03-26T19:44:56.764Z"
   },
   {
    "duration": 0,
    "start_time": "2024-03-26T19:44:56.765Z"
   },
   {
    "duration": 0,
    "start_time": "2024-03-26T19:44:56.767Z"
   },
   {
    "duration": 0,
    "start_time": "2024-03-26T19:44:56.787Z"
   },
   {
    "duration": 4412,
    "start_time": "2024-03-26T19:45:14.470Z"
   },
   {
    "duration": 6,
    "start_time": "2024-03-26T19:45:18.884Z"
   },
   {
    "duration": 12,
    "start_time": "2024-03-26T19:45:18.892Z"
   },
   {
    "duration": 946,
    "start_time": "2024-03-26T19:45:18.906Z"
   },
   {
    "duration": 59,
    "start_time": "2024-03-26T19:45:19.855Z"
   },
   {
    "duration": 240,
    "start_time": "2024-03-26T19:45:19.915Z"
   },
   {
    "duration": 137,
    "start_time": "2024-03-26T19:45:20.157Z"
   },
   {
    "duration": 4,
    "start_time": "2024-03-26T19:45:20.296Z"
   },
   {
    "duration": 594269,
    "start_time": "2024-03-26T19:45:20.301Z"
   },
   {
    "duration": 53,
    "start_time": "2024-03-26T19:55:14.572Z"
   },
   {
    "duration": 70,
    "start_time": "2024-03-26T19:55:14.627Z"
   },
   {
    "duration": 5,
    "start_time": "2024-03-26T19:55:14.699Z"
   },
   {
    "duration": 18,
    "start_time": "2024-03-26T19:55:14.706Z"
   },
   {
    "duration": 7606,
    "start_time": "2024-03-26T19:55:14.726Z"
   },
   {
    "duration": 3,
    "start_time": "2024-03-26T19:55:22.334Z"
   },
   {
    "duration": 8,
    "start_time": "2024-03-26T19:55:22.339Z"
   },
   {
    "duration": 5,
    "start_time": "2024-03-26T19:55:22.348Z"
   },
   {
    "duration": 8774,
    "start_time": "2024-03-26T19:55:22.355Z"
   },
   {
    "duration": 5,
    "start_time": "2024-03-26T19:55:31.130Z"
   },
   {
    "duration": 140,
    "start_time": "2024-03-26T19:55:31.136Z"
   },
   {
    "duration": 531,
    "start_time": "2024-03-26T19:57:02.602Z"
   },
   {
    "duration": 4,
    "start_time": "2024-03-26T19:57:38.877Z"
   },
   {
    "duration": 388,
    "start_time": "2024-03-26T19:58:08.805Z"
   },
   {
    "duration": 4,
    "start_time": "2024-03-26T19:58:54.636Z"
   },
   {
    "duration": 13,
    "start_time": "2024-03-26T19:58:55.570Z"
   },
   {
    "duration": 4,
    "start_time": "2024-03-26T19:59:18.347Z"
   },
   {
    "duration": 13,
    "start_time": "2024-03-26T19:59:20.122Z"
   },
   {
    "duration": 4,
    "start_time": "2024-03-26T19:59:34.319Z"
   },
   {
    "duration": 12,
    "start_time": "2024-03-26T19:59:35.375Z"
   },
   {
    "duration": 4,
    "start_time": "2024-03-26T19:59:48.878Z"
   },
   {
    "duration": 12,
    "start_time": "2024-03-26T19:59:49.972Z"
   },
   {
    "duration": 4,
    "start_time": "2024-03-26T20:00:06.856Z"
   },
   {
    "duration": 13,
    "start_time": "2024-03-26T20:00:08.030Z"
   },
   {
    "duration": 5,
    "start_time": "2024-03-26T20:00:14.507Z"
   },
   {
    "duration": 44,
    "start_time": "2024-03-26T20:00:15.461Z"
   },
   {
    "duration": 4,
    "start_time": "2024-03-26T20:00:40.610Z"
   },
   {
    "duration": 34,
    "start_time": "2024-03-26T20:00:42.025Z"
   },
   {
    "duration": 6,
    "start_time": "2024-03-26T20:00:54.467Z"
   },
   {
    "duration": 42,
    "start_time": "2024-03-26T20:00:55.253Z"
   },
   {
    "duration": 4,
    "start_time": "2024-03-26T20:01:01.220Z"
   },
   {
    "duration": 13,
    "start_time": "2024-03-26T20:01:02.358Z"
   },
   {
    "duration": 5,
    "start_time": "2024-03-26T20:01:12.404Z"
   },
   {
    "duration": 12,
    "start_time": "2024-03-26T20:01:13.464Z"
   },
   {
    "duration": 4,
    "start_time": "2024-03-26T20:01:23.812Z"
   },
   {
    "duration": 13,
    "start_time": "2024-03-26T20:01:24.675Z"
   },
   {
    "duration": 12,
    "start_time": "2024-03-26T20:01:36.393Z"
   },
   {
    "duration": 4,
    "start_time": "2024-03-26T20:02:14.723Z"
   },
   {
    "duration": 14,
    "start_time": "2024-03-26T20:02:16.155Z"
   },
   {
    "duration": 5,
    "start_time": "2024-03-26T20:02:34.500Z"
   },
   {
    "duration": 45,
    "start_time": "2024-03-26T20:02:36.254Z"
   },
   {
    "duration": 6,
    "start_time": "2024-03-26T20:02:52.385Z"
   },
   {
    "duration": 4,
    "start_time": "2024-03-26T20:03:19.755Z"
   },
   {
    "duration": 29,
    "start_time": "2024-03-26T20:03:20.493Z"
   },
   {
    "duration": 5,
    "start_time": "2024-03-26T20:03:41.183Z"
   },
   {
    "duration": 30,
    "start_time": "2024-03-26T20:03:43.329Z"
   },
   {
    "duration": 4,
    "start_time": "2024-03-26T20:04:14.519Z"
   },
   {
    "duration": 6,
    "start_time": "2024-03-26T20:04:16.298Z"
   },
   {
    "duration": 4,
    "start_time": "2024-03-26T20:04:51.339Z"
   },
   {
    "duration": 6,
    "start_time": "2024-03-26T20:04:52.281Z"
   },
   {
    "duration": 5,
    "start_time": "2024-03-26T20:06:33.075Z"
   },
   {
    "duration": 38,
    "start_time": "2024-03-26T20:06:34.331Z"
   },
   {
    "duration": 4,
    "start_time": "2024-03-26T20:06:57.670Z"
   },
   {
    "duration": 13,
    "start_time": "2024-03-26T20:06:59.573Z"
   },
   {
    "duration": 4,
    "start_time": "2024-03-26T20:07:42.247Z"
   },
   {
    "duration": 6,
    "start_time": "2024-03-26T20:07:43.882Z"
   },
   {
    "duration": 4,
    "start_time": "2024-03-26T20:08:06.536Z"
   },
   {
    "duration": 18,
    "start_time": "2024-03-26T20:08:07.661Z"
   },
   {
    "duration": 4,
    "start_time": "2024-03-26T20:08:16.118Z"
   },
   {
    "duration": 12,
    "start_time": "2024-03-26T20:08:17.423Z"
   },
   {
    "duration": 62,
    "start_time": "2024-03-26T20:09:00.558Z"
   },
   {
    "duration": 5,
    "start_time": "2024-03-26T20:10:18.443Z"
   },
   {
    "duration": 27,
    "start_time": "2024-03-26T20:10:19.529Z"
   },
   {
    "duration": 5,
    "start_time": "2024-03-26T20:10:51.424Z"
   },
   {
    "duration": 42,
    "start_time": "2024-03-26T20:10:52.441Z"
   },
   {
    "duration": 5,
    "start_time": "2024-03-26T20:11:11.104Z"
   },
   {
    "duration": 34,
    "start_time": "2024-03-26T20:11:12.562Z"
   },
   {
    "duration": 7,
    "start_time": "2024-03-26T20:12:27.467Z"
   },
   {
    "duration": 5,
    "start_time": "2024-03-26T20:12:28.277Z"
   },
   {
    "duration": 4,
    "start_time": "2024-03-26T20:12:36.832Z"
   },
   {
    "duration": 5,
    "start_time": "2024-03-26T20:12:37.861Z"
   },
   {
    "duration": 5,
    "start_time": "2024-03-26T20:12:43.279Z"
   },
   {
    "duration": 5,
    "start_time": "2024-03-26T20:12:44.257Z"
   },
   {
    "duration": 4,
    "start_time": "2024-03-26T20:12:50.275Z"
   },
   {
    "duration": 5,
    "start_time": "2024-03-26T20:12:52.437Z"
   },
   {
    "duration": 5,
    "start_time": "2024-03-26T20:13:13.926Z"
   },
   {
    "duration": 4,
    "start_time": "2024-03-26T20:13:14.839Z"
   },
   {
    "duration": 5,
    "start_time": "2024-03-26T20:13:15.872Z"
   },
   {
    "duration": 4,
    "start_time": "2024-03-26T20:13:33.453Z"
   },
   {
    "duration": 6,
    "start_time": "2024-03-26T20:13:34.215Z"
   },
   {
    "duration": 4,
    "start_time": "2024-03-26T20:13:39.159Z"
   },
   {
    "duration": 4,
    "start_time": "2024-03-26T20:13:40.082Z"
   },
   {
    "duration": 5,
    "start_time": "2024-03-26T20:13:42.519Z"
   },
   {
    "duration": 6,
    "start_time": "2024-03-26T20:13:47.386Z"
   },
   {
    "duration": 5,
    "start_time": "2024-03-26T20:13:48.288Z"
   },
   {
    "duration": 6,
    "start_time": "2024-03-26T20:13:56.184Z"
   },
   {
    "duration": 6,
    "start_time": "2024-03-26T20:13:57.109Z"
   },
   {
    "duration": 4,
    "start_time": "2024-03-26T20:14:03.034Z"
   },
   {
    "duration": 5,
    "start_time": "2024-03-26T20:14:04.015Z"
   },
   {
    "duration": 4,
    "start_time": "2024-03-26T20:14:52.281Z"
   },
   {
    "duration": 6,
    "start_time": "2024-03-26T20:14:53.026Z"
   },
   {
    "duration": 4,
    "start_time": "2024-03-26T20:14:56.264Z"
   },
   {
    "duration": 6,
    "start_time": "2024-03-26T20:14:57.249Z"
   },
   {
    "duration": 4,
    "start_time": "2024-03-26T20:15:05.154Z"
   },
   {
    "duration": 5,
    "start_time": "2024-03-26T20:15:06.263Z"
   },
   {
    "duration": 4,
    "start_time": "2024-03-26T20:15:31.334Z"
   },
   {
    "duration": 5,
    "start_time": "2024-03-26T20:15:32.135Z"
   },
   {
    "duration": 4,
    "start_time": "2024-03-26T20:15:38.309Z"
   },
   {
    "duration": 5,
    "start_time": "2024-03-26T20:15:39.645Z"
   },
   {
    "duration": 4,
    "start_time": "2024-03-26T20:15:43.000Z"
   },
   {
    "duration": 5,
    "start_time": "2024-03-26T20:15:43.902Z"
   },
   {
    "duration": 5,
    "start_time": "2024-03-26T20:15:47.838Z"
   },
   {
    "duration": 5,
    "start_time": "2024-03-26T20:15:48.799Z"
   },
   {
    "duration": 3,
    "start_time": "2024-03-26T20:15:56.467Z"
   },
   {
    "duration": 4,
    "start_time": "2024-03-26T20:15:57.349Z"
   },
   {
    "duration": 4,
    "start_time": "2024-03-26T20:16:02.191Z"
   },
   {
    "duration": 6,
    "start_time": "2024-03-26T20:16:03.042Z"
   },
   {
    "duration": 4,
    "start_time": "2024-03-26T20:16:08.012Z"
   },
   {
    "duration": 5,
    "start_time": "2024-03-26T20:16:09.067Z"
   },
   {
    "duration": 5,
    "start_time": "2024-03-26T20:16:12.197Z"
   },
   {
    "duration": 5,
    "start_time": "2024-03-26T20:16:13.083Z"
   },
   {
    "duration": 4,
    "start_time": "2024-03-26T20:16:16.593Z"
   },
   {
    "duration": 5,
    "start_time": "2024-03-26T20:16:17.558Z"
   },
   {
    "duration": 4,
    "start_time": "2024-03-26T20:16:24.202Z"
   },
   {
    "duration": 5,
    "start_time": "2024-03-26T20:16:24.931Z"
   },
   {
    "duration": 4,
    "start_time": "2024-03-26T20:16:34.861Z"
   },
   {
    "duration": 4,
    "start_time": "2024-03-26T20:16:36.810Z"
   },
   {
    "duration": 6,
    "start_time": "2024-03-26T20:16:42.249Z"
   },
   {
    "duration": 6,
    "start_time": "2024-03-26T20:16:43.422Z"
   },
   {
    "duration": 5,
    "start_time": "2024-03-26T20:16:56.185Z"
   },
   {
    "duration": 5,
    "start_time": "2024-03-26T20:16:57.065Z"
   },
   {
    "duration": 4,
    "start_time": "2024-03-26T20:17:22.975Z"
   },
   {
    "duration": 6,
    "start_time": "2024-03-26T20:17:23.726Z"
   },
   {
    "duration": 4,
    "start_time": "2024-03-26T20:17:26.895Z"
   },
   {
    "duration": 5,
    "start_time": "2024-03-26T20:17:27.704Z"
   },
   {
    "duration": 5,
    "start_time": "2024-03-26T20:17:52.625Z"
   },
   {
    "duration": 4,
    "start_time": "2024-03-26T20:17:55.513Z"
   },
   {
    "duration": 5,
    "start_time": "2024-03-26T20:18:12.902Z"
   },
   {
    "duration": 5,
    "start_time": "2024-03-26T20:18:13.639Z"
   },
   {
    "duration": 21,
    "start_time": "2024-03-26T20:18:19.754Z"
   },
   {
    "duration": 34,
    "start_time": "2024-03-26T20:18:28.509Z"
   },
   {
    "duration": 5,
    "start_time": "2024-03-26T20:18:51.348Z"
   },
   {
    "duration": 32,
    "start_time": "2024-03-26T20:18:52.704Z"
   },
   {
    "duration": 4,
    "start_time": "2024-03-26T20:19:03.756Z"
   },
   {
    "duration": 5,
    "start_time": "2024-03-26T20:19:06.233Z"
   },
   {
    "duration": 28,
    "start_time": "2024-03-26T20:19:08.015Z"
   },
   {
    "duration": 5,
    "start_time": "2024-03-26T20:19:20.028Z"
   },
   {
    "duration": 5,
    "start_time": "2024-03-26T20:19:21.872Z"
   },
   {
    "duration": 28,
    "start_time": "2024-03-26T20:19:23.181Z"
   },
   {
    "duration": 5,
    "start_time": "2024-03-26T20:19:28.467Z"
   },
   {
    "duration": 5,
    "start_time": "2024-03-26T20:19:29.277Z"
   },
   {
    "duration": 28,
    "start_time": "2024-03-26T20:19:30.136Z"
   },
   {
    "duration": 5,
    "start_time": "2024-03-26T20:19:49.650Z"
   },
   {
    "duration": 6,
    "start_time": "2024-03-26T20:19:53.693Z"
   },
   {
    "duration": 5,
    "start_time": "2024-03-26T20:19:54.808Z"
   },
   {
    "duration": 26,
    "start_time": "2024-03-26T20:19:56.739Z"
   },
   {
    "duration": 5,
    "start_time": "2024-03-26T20:20:05.482Z"
   },
   {
    "duration": 5,
    "start_time": "2024-03-26T20:20:06.311Z"
   },
   {
    "duration": 26,
    "start_time": "2024-03-26T20:20:07.708Z"
   },
   {
    "duration": 5,
    "start_time": "2024-03-26T20:21:02.059Z"
   },
   {
    "duration": 13,
    "start_time": "2024-03-26T20:21:04.099Z"
   },
   {
    "duration": 92,
    "start_time": "2024-03-26T20:21:06.873Z"
   },
   {
    "duration": 3,
    "start_time": "2024-03-26T20:22:10.385Z"
   },
   {
    "duration": 15,
    "start_time": "2024-03-26T20:22:16.620Z"
   },
   {
    "duration": 15,
    "start_time": "2024-03-26T20:22:38.180Z"
   },
   {
    "duration": 12,
    "start_time": "2024-03-26T20:22:49.488Z"
   },
   {
    "duration": 3,
    "start_time": "2024-03-26T20:26:46.536Z"
   },
   {
    "duration": 15,
    "start_time": "2024-03-26T20:26:49.068Z"
   },
   {
    "duration": 393,
    "start_time": "2024-03-26T20:27:00.984Z"
   },
   {
    "duration": 5,
    "start_time": "2024-03-26T20:27:30.275Z"
   },
   {
    "duration": 32,
    "start_time": "2024-03-26T20:27:42.014Z"
   },
   {
    "duration": 5,
    "start_time": "2024-03-26T20:28:32.114Z"
   },
   {
    "duration": 13,
    "start_time": "2024-03-26T20:28:33.381Z"
   },
   {
    "duration": 90,
    "start_time": "2024-03-26T20:28:41.931Z"
   },
   {
    "duration": 5,
    "start_time": "2024-03-26T20:29:04.677Z"
   },
   {
    "duration": 87,
    "start_time": "2024-03-26T20:29:07.552Z"
   },
   {
    "duration": 15,
    "start_time": "2024-03-26T20:29:27.666Z"
   },
   {
    "duration": 4,
    "start_time": "2024-03-26T20:30:31.385Z"
   },
   {
    "duration": 33,
    "start_time": "2024-03-26T20:30:33.087Z"
   },
   {
    "duration": 5,
    "start_time": "2024-03-26T20:31:01.112Z"
   },
   {
    "duration": 32,
    "start_time": "2024-03-26T20:31:02.087Z"
   },
   {
    "duration": 8,
    "start_time": "2024-03-26T20:31:52.927Z"
   },
   {
    "duration": 1111,
    "start_time": "2024-03-26T20:31:53.852Z"
   },
   {
    "duration": 5,
    "start_time": "2024-03-26T20:32:02.564Z"
   },
   {
    "duration": 38,
    "start_time": "2024-03-26T20:32:04.071Z"
   },
   {
    "duration": 14,
    "start_time": "2024-03-26T20:32:12.763Z"
   },
   {
    "duration": 4,
    "start_time": "2024-03-26T20:32:18.936Z"
   },
   {
    "duration": 435,
    "start_time": "2024-03-26T20:32:26.475Z"
   },
   {
    "duration": 4480,
    "start_time": "2024-03-26T20:33:27.857Z"
   },
   {
    "duration": 5,
    "start_time": "2024-03-26T20:33:32.339Z"
   },
   {
    "duration": 18,
    "start_time": "2024-03-26T20:33:32.346Z"
   },
   {
    "duration": 942,
    "start_time": "2024-03-26T20:33:32.365Z"
   },
   {
    "duration": 52,
    "start_time": "2024-03-26T20:33:33.309Z"
   },
   {
    "duration": 243,
    "start_time": "2024-03-26T20:33:33.363Z"
   },
   {
    "duration": 140,
    "start_time": "2024-03-26T20:33:33.607Z"
   },
   {
    "duration": 538,
    "start_time": "2024-03-26T20:33:33.749Z"
   },
   {
    "duration": 5,
    "start_time": "2024-03-26T20:33:34.288Z"
   },
   {
    "duration": 228649,
    "start_time": "2024-03-26T20:33:34.295Z"
   },
   {
    "duration": 0,
    "start_time": "2024-03-26T20:37:22.946Z"
   },
   {
    "duration": 0,
    "start_time": "2024-03-26T20:37:22.947Z"
   },
   {
    "duration": 0,
    "start_time": "2024-03-26T20:37:22.948Z"
   },
   {
    "duration": 0,
    "start_time": "2024-03-26T20:37:22.949Z"
   },
   {
    "duration": 0,
    "start_time": "2024-03-26T20:37:22.950Z"
   },
   {
    "duration": 0,
    "start_time": "2024-03-26T20:37:22.951Z"
   },
   {
    "duration": 0,
    "start_time": "2024-03-26T20:37:22.951Z"
   },
   {
    "duration": 0,
    "start_time": "2024-03-26T20:37:22.953Z"
   },
   {
    "duration": 0,
    "start_time": "2024-03-26T20:37:22.954Z"
   },
   {
    "duration": 0,
    "start_time": "2024-03-26T20:37:22.955Z"
   },
   {
    "duration": 0,
    "start_time": "2024-03-26T20:37:22.956Z"
   },
   {
    "duration": 5,
    "start_time": "2024-03-26T20:37:59.788Z"
   },
   {
    "duration": 465,
    "start_time": "2024-03-26T20:38:01.244Z"
   },
   {
    "duration": 4,
    "start_time": "2024-03-26T20:38:09.373Z"
   },
   {
    "duration": 393,
    "start_time": "2024-03-26T20:38:10.760Z"
   },
   {
    "duration": 4,
    "start_time": "2024-03-26T20:38:57.774Z"
   },
   {
    "duration": 369,
    "start_time": "2024-03-26T20:38:59.259Z"
   },
   {
    "duration": 4,
    "start_time": "2024-03-26T20:39:23.502Z"
   },
   {
    "duration": 22,
    "start_time": "2024-03-26T20:39:24.748Z"
   },
   {
    "duration": 5,
    "start_time": "2024-03-26T20:39:46.533Z"
   },
   {
    "duration": 20,
    "start_time": "2024-03-26T20:40:07.870Z"
   },
   {
    "duration": 33,
    "start_time": "2024-03-26T20:40:14.413Z"
   },
   {
    "duration": 5,
    "start_time": "2024-03-26T20:40:32.514Z"
   },
   {
    "duration": 6,
    "start_time": "2024-03-26T20:40:44.087Z"
   },
   {
    "duration": 4,
    "start_time": "2024-03-26T20:40:51.371Z"
   },
   {
    "duration": 4,
    "start_time": "2024-03-26T20:40:57.357Z"
   },
   {
    "duration": 27,
    "start_time": "2024-03-26T20:41:04.532Z"
   },
   {
    "duration": 27,
    "start_time": "2024-03-26T20:41:09.909Z"
   },
   {
    "duration": 5,
    "start_time": "2024-03-26T20:41:19.213Z"
   },
   {
    "duration": 4,
    "start_time": "2024-03-26T20:41:26.675Z"
   },
   {
    "duration": 5,
    "start_time": "2024-03-26T20:41:59.427Z"
   },
   {
    "duration": 5,
    "start_time": "2024-03-26T20:42:08.345Z"
   },
   {
    "duration": 6,
    "start_time": "2024-03-26T20:42:10.352Z"
   },
   {
    "duration": 32,
    "start_time": "2024-03-26T20:42:19.968Z"
   },
   {
    "duration": 4,
    "start_time": "2024-03-26T20:42:47.798Z"
   },
   {
    "duration": 4363,
    "start_time": "2024-03-26T20:43:19.283Z"
   },
   {
    "duration": 6,
    "start_time": "2024-03-26T20:43:23.648Z"
   },
   {
    "duration": 17,
    "start_time": "2024-03-26T20:43:23.655Z"
   },
   {
    "duration": 929,
    "start_time": "2024-03-26T20:43:23.673Z"
   },
   {
    "duration": 53,
    "start_time": "2024-03-26T20:43:24.604Z"
   },
   {
    "duration": 245,
    "start_time": "2024-03-26T20:43:24.658Z"
   },
   {
    "duration": 157,
    "start_time": "2024-03-26T20:43:24.905Z"
   },
   {
    "duration": 535,
    "start_time": "2024-03-26T20:43:25.063Z"
   },
   {
    "duration": 4,
    "start_time": "2024-03-26T20:43:25.600Z"
   },
   {
    "duration": 591270,
    "start_time": "2024-03-26T20:43:25.605Z"
   },
   {
    "duration": 48,
    "start_time": "2024-03-26T20:53:16.876Z"
   },
   {
    "duration": 82,
    "start_time": "2024-03-26T20:53:16.926Z"
   },
   {
    "duration": 6,
    "start_time": "2024-03-26T20:53:17.009Z"
   },
   {
    "duration": 3,
    "start_time": "2024-03-26T20:53:17.018Z"
   },
   {
    "duration": 7164,
    "start_time": "2024-03-26T20:53:17.023Z"
   },
   {
    "duration": 2,
    "start_time": "2024-03-26T20:53:24.189Z"
   },
   {
    "duration": 17,
    "start_time": "2024-03-26T20:53:24.193Z"
   },
   {
    "duration": 10,
    "start_time": "2024-03-26T20:53:24.211Z"
   },
   {
    "duration": 3449,
    "start_time": "2024-03-26T20:53:24.223Z"
   },
   {
    "duration": 5,
    "start_time": "2024-03-26T20:53:27.674Z"
   },
   {
    "duration": 29,
    "start_time": "2024-03-26T20:53:27.687Z"
   },
   {
    "duration": 3,
    "start_time": "2024-03-26T20:54:20.388Z"
   },
   {
    "duration": 72866,
    "start_time": "2024-03-26T20:54:22.103Z"
   },
   {
    "duration": 19,
    "start_time": "2024-03-26T20:55:34.971Z"
   },
   {
    "duration": 38,
    "start_time": "2024-03-26T20:55:34.992Z"
   },
   {
    "duration": 370,
    "start_time": "2024-03-26T20:56:23.901Z"
   },
   {
    "duration": 6,
    "start_time": "2024-03-26T20:56:37.067Z"
   },
   {
    "duration": 4,
    "start_time": "2024-03-26T20:56:44.596Z"
   },
   {
    "duration": 674654,
    "start_time": "2024-03-26T20:56:46.365Z"
   },
   {
    "duration": 5,
    "start_time": "2024-03-26T21:08:01.021Z"
   },
   {
    "duration": 54,
    "start_time": "2024-03-26T21:08:01.028Z"
   },
   {
    "duration": 3,
    "start_time": "2024-03-26T21:09:37.401Z"
   },
   {
    "duration": 3,
    "start_time": "2024-03-26T21:09:55.837Z"
   },
   {
    "duration": 2,
    "start_time": "2024-03-26T21:10:04.221Z"
   },
   {
    "duration": 1491230,
    "start_time": "2024-03-26T21:10:06.502Z"
   },
   {
    "duration": 8,
    "start_time": "2024-03-26T21:34:57.734Z"
   },
   {
    "duration": 1315,
    "start_time": "2024-03-26T21:34:57.743Z"
   },
   {
    "duration": 96,
    "start_time": "2024-03-26T21:36:47.433Z"
   },
   {
    "duration": 2,
    "start_time": "2024-03-26T21:36:52.250Z"
   },
   {
    "duration": 207077,
    "start_time": "2024-03-26T21:36:53.952Z"
   },
   {
    "duration": 9,
    "start_time": "2024-03-26T21:40:21.030Z"
   },
   {
    "duration": 1349,
    "start_time": "2024-03-26T21:40:21.040Z"
   },
   {
    "duration": 4,
    "start_time": "2024-03-26T21:40:56.093Z"
   },
   {
    "duration": 2,
    "start_time": "2024-03-26T21:40:58.910Z"
   },
   {
    "duration": 280313,
    "start_time": "2024-03-26T21:41:00.509Z"
   },
   {
    "duration": 8,
    "start_time": "2024-03-26T21:45:40.824Z"
   },
   {
    "duration": 1364,
    "start_time": "2024-03-26T21:45:40.833Z"
   },
   {
    "duration": 4394,
    "start_time": "2024-03-26T21:46:53.892Z"
   },
   {
    "duration": 6,
    "start_time": "2024-03-26T21:46:58.288Z"
   },
   {
    "duration": 6,
    "start_time": "2024-03-26T21:46:58.296Z"
   },
   {
    "duration": 916,
    "start_time": "2024-03-26T21:46:58.303Z"
   },
   {
    "duration": 54,
    "start_time": "2024-03-26T21:46:59.221Z"
   },
   {
    "duration": 228,
    "start_time": "2024-03-26T21:46:59.277Z"
   },
   {
    "duration": 146,
    "start_time": "2024-03-26T21:46:59.506Z"
   },
   {
    "duration": 526,
    "start_time": "2024-03-26T21:46:59.654Z"
   },
   {
    "duration": 5,
    "start_time": "2024-03-26T21:47:00.182Z"
   },
   {
    "duration": 574508,
    "start_time": "2024-03-26T21:47:00.189Z"
   },
   {
    "duration": 45,
    "start_time": "2024-03-26T21:56:34.698Z"
   },
   {
    "duration": 72,
    "start_time": "2024-03-26T21:56:34.744Z"
   },
   {
    "duration": 4,
    "start_time": "2024-03-26T21:56:34.818Z"
   },
   {
    "duration": 6,
    "start_time": "2024-03-26T21:56:34.824Z"
   },
   {
    "duration": 8,
    "start_time": "2024-03-26T21:56:34.831Z"
   },
   {
    "duration": 5,
    "start_time": "2024-03-26T21:56:34.841Z"
   },
   {
    "duration": 6,
    "start_time": "2024-03-26T21:56:34.848Z"
   },
   {
    "duration": 12,
    "start_time": "2024-03-26T21:56:34.855Z"
   },
   {
    "duration": 1496112,
    "start_time": "2024-03-26T21:56:34.869Z"
   },
   {
    "duration": 12,
    "start_time": "2024-03-26T22:21:30.982Z"
   },
   {
    "duration": 1395,
    "start_time": "2024-03-26T22:21:30.996Z"
   }
  ],
  "kernelspec": {
   "display_name": "Python 3 (ipykernel)",
   "language": "python",
   "name": "python3"
  },
  "language_info": {
   "codemirror_mode": {
    "name": "ipython",
    "version": 3
   },
   "file_extension": ".py",
   "mimetype": "text/x-python",
   "name": "python",
   "nbconvert_exporter": "python",
   "pygments_lexer": "ipython3",
   "version": "3.9.5"
  },
  "toc": {
   "base_numbering": 1,
   "nav_menu": {},
   "number_sections": true,
   "sideBar": true,
   "skip_h1_title": true,
   "title_cell": "Содержание",
   "title_sidebar": "Contents",
   "toc_cell": true,
   "toc_position": {
    "height": "calc(100% - 180px)",
    "left": "10px",
    "top": "150px",
    "width": "302.391px"
   },
   "toc_section_display": true,
   "toc_window_display": false
  }
 },
 "nbformat": 4,
 "nbformat_minor": 2
}
